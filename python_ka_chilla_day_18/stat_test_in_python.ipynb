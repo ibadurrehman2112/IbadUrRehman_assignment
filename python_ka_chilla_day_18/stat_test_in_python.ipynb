{
 "cells": [
  {
   "cell_type": "markdown",
   "metadata": {},
   "source": [
    "# Shapiro Wilk Test\n",
    "Tests whether a data sample has a Gaussian distribution \\\n",
    "**Assumption**\n",
    "1. Observation in each sample are independent and indentically distributed (iid).\n",
    "2. Interpretation\n",
    "- H0: the sample has a GuassianNormal distribution\n",
    "- H1: the sample does not have a Guassian/Normal distribution\n"
   ]
  },
  {
   "cell_type": "code",
   "execution_count": 4,
   "metadata": {},
   "outputs": [],
   "source": [
    "#pip install scipy"
   ]
  },
  {
   "cell_type": "code",
   "execution_count": 5,
   "metadata": {},
   "outputs": [
    {
     "data": {
      "text/plain": [
       "ShapiroResult(statistic=0.8951009511947632, pvalue=0.19340917468070984)"
      ]
     },
     "execution_count": 5,
     "metadata": {},
     "output_type": "execute_result"
    }
   ],
   "source": [
    "from scipy.stats import shapiro\n",
    "data = [0.873, 2.817, 0.121, -0.945, -0.055, -1.436, 0.360, -1.478, -1.637, -1.869]\n",
    "shapiro(data)"
   ]
  },
  {
   "cell_type": "code",
   "execution_count": 6,
   "metadata": {},
   "outputs": [
    {
     "name": "stdout",
     "output_type": "stream",
     "text": [
      "stat= 0.8951009511947632\n",
      "p= 0.19340917468070984\n"
     ]
    }
   ],
   "source": [
    "from scipy.stats import shapiro\n",
    "data = [0.873, 2.817, 0.121, -0.945, -0.055, -1.436, 0.360, -1.478, -1.637, -1.869]\n",
    "stat, p = shapiro(data)\n",
    "print('stat=', stat)\n",
    "print(\"p=\", p)"
   ]
  },
  {
   "cell_type": "code",
   "execution_count": 7,
   "metadata": {},
   "outputs": [
    {
     "name": "stdout",
     "output_type": "stream",
     "text": [
      "stat=%.3f, p=%.3f % (stat,p)\n"
     ]
    }
   ],
   "source": [
    "from scipy.stats import shapiro\n",
    "data = [0.873, 2.817, 0.121, -0.945, -0.055, -1.436, 0.360, -1.478, -1.637, -1.869]\n",
    "stat, p = shapiro(data)\n",
    "print('stat=%.3f, p=%.3f % (stat,p)')"
   ]
  },
  {
   "cell_type": "code",
   "execution_count": 8,
   "metadata": {},
   "outputs": [
    {
     "name": "stdout",
     "output_type": "stream",
     "text": [
      "stat=%.3f, p=%.3f % (stat,p)\n",
      "The data is normal\n"
     ]
    }
   ],
   "source": [
    "# Example of the Shapiro-Wilk Test\n",
    "from scipy.stats import shapiro\n",
    "data = [0.873, 2.817, 0.121, -0.945, -0.055, -1.436, 0.360, -1.478, -1.637, -1.869]\n",
    "stat, p = shapiro(data)\n",
    "print('stat=%.3f, p=%.3f % (stat,p)')\n",
    "if p > 0.05:\n",
    "    print('The data is normal')\n",
    "else:\n",
    "    print('The data is not normal')"
   ]
  },
  {
   "cell_type": "code",
   "execution_count": 9,
   "metadata": {},
   "outputs": [
    {
     "name": "stdout",
     "output_type": "stream",
     "text": [
      "stat=%.3f, p=%.3f % (stat,p)\n",
      "Probably Guassian\n"
     ]
    }
   ],
   "source": [
    "# Example of the Shapiro-Wilk Test\n",
    "from scipy.stats import shapiro\n",
    "data = [0.873, 2.817, 0.121, -0.945, -0.055, -1.436, 0.360, -1.478, -1.637, -1.869]\n",
    "stat, p = shapiro(data)\n",
    "print('stat=%.3f, p=%.3f % (stat,p)')\n",
    "if p > 0.05:\n",
    "    print('Probably Guassian')\n",
    "else:\n",
    "    print('Probably not Guassian')"
   ]
  },
  {
   "cell_type": "code",
   "execution_count": 13,
   "metadata": {},
   "outputs": [
    {
     "name": "stderr",
     "output_type": "stream",
     "text": [
      "/home/ibadhep/anaconda3/lib/python3.9/site-packages/seaborn/_decorators.py:36: FutureWarning: Pass the following variable as a keyword arg: x. From version 0.12, the only valid positional argument will be `data`, and passing other arguments without an explicit keyword will result in an error or misinterpretation.\n",
      "  warnings.warn(\n"
     ]
    },
    {
     "data": {
      "text/plain": [
       "<AxesSubplot:xlabel='age'>"
      ]
     },
     "execution_count": 13,
     "metadata": {},
     "output_type": "execute_result"
    },
    {
     "data": {
      "image/png": "[encoded data removed]",
      "text/plain": [
       "<Figure size 432x288 with 1 Axes>"
      ]
     },
     "metadata": {
      "needs_background": "light"
     },
     "output_type": "display_data"
    }
   ],
   "source": [
    "import pandas as pd\n",
    "import numpy as np\n",
    "import seaborn as sns\n",
    "import matplotlib.pyplot as plt\n",
    "ks = sns.load_dataset(\"titanic\")\n",
    "#ks['age'].hist()\n",
    "sns.boxplot(ks['age'])"
   ]
  },
  {
   "cell_type": "code",
   "execution_count": 14,
   "metadata": {},
   "outputs": [
    {
     "name": "stdout",
     "output_type": "stream",
     "text": [
      "stat=%.3f, p=%.3f % (stat,p)\n",
      "The data is normal\n"
     ]
    }
   ],
   "source": [
    "# Example of the Shapiro-Wilk Test\n",
    "from scipy.stats import shapiro\n",
    "stat, p = shapiro(ks['age'])\n",
    "print('stat=%.3f, p=%.3f % (stat,p)')\n",
    "if p > 0.05:\n",
    "    print('The data is normal')\n",
    "else:\n",
    "    print('The data is not normal')"
   ]
  },
  {
   "cell_type": "code",
   "execution_count": 15,
   "metadata": {},
   "outputs": [
    {
     "name": "stdout",
     "output_type": "stream",
     "text": [
      "stat= nan\n",
      "p = 1.0\n",
      "The data is normal\n"
     ]
    }
   ],
   "source": [
    "# Example of the Shapiro-Wilk Test\n",
    "from scipy.stats import shapiro\n",
    "stat, p = shapiro(ks['age'])\n",
    "print('stat=' ,stat)\n",
    "print(\"p =\", p)\n",
    "if p > 0.05:\n",
    "    print('The data is normal')\n",
    "else:\n",
    "    print('The data is not normal')"
   ]
  },
  {
   "cell_type": "code",
   "execution_count": 16,
   "metadata": {},
   "outputs": [
    {
     "name": "stdout",
     "output_type": "stream",
     "text": [
      "stat=%.3f, p=%.3f % (stat,p)\n",
      "Probablity Normal Distribution\n"
     ]
    }
   ],
   "source": [
    "# Example of the Shapiro-Wilk Test\n",
    "from scipy.stats import shapiro\n",
    "ks = ks.dropna()\n",
    "stat, p = shapiro(ks['age'])\n",
    "print('stat=%.3f, p=%.3f % (stat,p)')\n",
    "if p > 0.05:\n",
    "    print('Probablity Normal Distribution')\n",
    "else:\n",
    "    print('Probablity NOT Normal Distribution')"
   ]
  },
  {
   "cell_type": "code",
   "execution_count": 17,
   "metadata": {},
   "outputs": [
    {
     "name": "stdout",
     "output_type": "stream",
     "text": [
      "stat= 0.9906661510467529\n",
      "p = 0.28414419293403625\n",
      "The data is normal\n"
     ]
    },
    {
     "name": "stderr",
     "output_type": "stream",
     "text": [
      "/home/ibadhep/anaconda3/lib/python3.9/site-packages/seaborn/_decorators.py:36: FutureWarning: Pass the following variable as a keyword arg: x. From version 0.12, the only valid positional argument will be `data`, and passing other arguments without an explicit keyword will result in an error or misinterpretation.\n",
      "  warnings.warn(\n"
     ]
    },
    {
     "data": {
      "image/png": "[encoded data removed]",
      "text/plain": [
       "<Figure size 432x288 with 1 Axes>"
      ]
     },
     "metadata": {
      "needs_background": "light"
     },
     "output_type": "display_data"
    }
   ],
   "source": [
    "# Example of the Shapiro-Wilk Test\n",
    "from scipy.stats import shapiro\n",
    "stat, p = shapiro(ks['age'])\n",
    "sns.boxplot(ks['age'])\n",
    "print('stat=' ,stat)\n",
    "print(\"p =\", p)\n",
    "if p > 0.05:\n",
    "    print('The data is normal')\n",
    "else:\n",
    "    print('The data is not normal')"
   ]
  },
  {
   "cell_type": "code",
   "execution_count": 19,
   "metadata": {},
   "outputs": [
    {
     "data": {
      "text/plain": [
       "<AxesSubplot:>"
      ]
     },
     "execution_count": 19,
     "metadata": {},
     "output_type": "execute_result"
    },
    {
     "data": {
      "image/png": "[encoded data removed]",
      "text/plain": [
       "<Figure size 432x288 with 1 Axes>"
      ]
     },
     "metadata": {
      "needs_background": "light"
     },
     "output_type": "display_data"
    }
   ],
   "source": [
    "ks['fare'].hist()"
   ]
  },
  {
   "cell_type": "code",
   "execution_count": 18,
   "metadata": {},
   "outputs": [
    {
     "name": "stdout",
     "output_type": "stream",
     "text": [
      "stat= 0.7430529594421387\n",
      "p = 1.6486953687823121e-16\n",
      "The data is not normal\n"
     ]
    },
    {
     "name": "stderr",
     "output_type": "stream",
     "text": [
      "/home/ibadhep/anaconda3/lib/python3.9/site-packages/seaborn/_decorators.py:36: FutureWarning: Pass the following variable as a keyword arg: x. From version 0.12, the only valid positional argument will be `data`, and passing other arguments without an explicit keyword will result in an error or misinterpretation.\n",
      "  warnings.warn(\n"
     ]
    },
    {
     "data": {
      "image/png": "[encoded data removed]",
      "text/plain": [
       "<Figure size 432x288 with 1 Axes>"
      ]
     },
     "metadata": {
      "needs_background": "light"
     },
     "output_type": "display_data"
    }
   ],
   "source": [
    "# Example of the Shapiro-Wilk Test\n",
    "from scipy.stats import shapiro\n",
    "stat, p = shapiro(ks['fare'])\n",
    "sns.boxplot(ks['fare'])\n",
    "print('stat=' ,stat)\n",
    "print(\"p =\", p)\n",
    "if p > 0.05:\n",
    "    print('The data is normal')\n",
    "else:\n",
    "    print('The data is not normal')"
   ]
  },
  {
   "cell_type": "markdown",
   "metadata": {},
   "source": [
    "# 2. Correlation test\n",
    "## 1. Pearson's Correlation Coefficient\n",
    "Test wheather two samples have a linear relationship.\n",
    "\n",
    "**Assumptions**\n",
    "1. Observations in each sample are independent and identically distributed(iid)\n",
    "2. Observations in each sample are normally distributed. \n",
    "3. Observations in each sample have the same variance.\n",
    "4. Interpretation\n",
    "- H0: The two sample are independent.\n",
    "- H1: There is dependency between the samples. \n"
   ]
  },
  {
   "cell_type": "code",
   "execution_count": 22,
   "metadata": {},
   "outputs": [
    {
     "name": "stdout",
     "output_type": "stream",
     "text": [
      "stat=0.688, p=0.028\n",
      "Probably dependent (Correlation exist)\n"
     ]
    }
   ],
   "source": [
    "# Example of the Pearson's Correlation test \n",
    "from scipy.stats import pearsonr\n",
    "data1 = [0.873, 2.817, 0.121, -0.945, -0.055, -1.436, 0.360, -1.478, -1.637, -1.869]\n",
    "data2 = [0.353, 3.517, 0.125, -7.545, -0.555, -1.536, 3.350, -1.578, -3.537, -1.579]\n",
    "stat, p = pearsonr(data1, data2)\n",
    "print('stat=%.3f, p=%.3f' % (stat, p))\n",
    "if p > 0.05:\n",
    "    print('Probably Independent (No Correlation)')\n",
    "else:\n",
    "    print('Probably dependent (Correlation exist)')"
   ]
  },
  {
   "cell_type": "code",
   "execution_count": null,
   "metadata": {},
   "outputs": [],
   "source": [
    "# # Example of the Pearson's Correlation test \n",
    "# from scipy.stats import pearsonr\n",
    "# data1 = [0.873, 2.817, 0.121, -0.945, -0.055, -1.436, 0.360, -1.478, -1.637, -1.869]\n",
    "# data2 = [0.353, 3.517, 0.125, -7.545, -0.555, -1.536, 3.350, -1.578, -3.537, -1.579]\n",
    "# stat, p = pearsonr(data1, data2)\n",
    "# print('stat=%.3f, p=%.3f' % (stat, p))\n",
    "# if p > 0.05:\n",
    "#     print('Probably Independent (No Correlation)')\n",
    "# else:\n",
    "#     print('Probably dependent (Correlation exist)')"
   ]
  },
  {
   "cell_type": "markdown",
   "metadata": {},
   "source": [
    "# 2. Spearman's Rank Correlation\n",
    "Tests whether two samples have a monotonic relationship\n",
    "Test whether two samples have a monotonic relationship\n",
    "**Assumptions**\n",
    "1. Observations in each sample are independent and identically distributed (iid)\n",
    "2. Observations in each sample can be ranked.\n",
    "3. Interpretation\n",
    "\n",
    "- H0: the two samples are independent \n",
    "- H1: there is a dependency between the samples.\n",
    "- "
   ]
  },
  {
   "cell_type": "code",
   "execution_count": 27,
   "metadata": {},
   "outputs": [
    {
     "name": "stdout",
     "output_type": "stream",
     "text": [
      "stat=0.855, p=0.002\n",
      "Probably dependent (Correlation exist)\n"
     ]
    }
   ],
   "source": [
    "# Example of the Spearman's Correlation test \n",
    "from scipy.stats import spearmanr\n",
    "data1 = [0.873, 2.817, 0.121, -0.945, -0.055, -1.436, 0.360, -1.478, -1.637, -1.869]\n",
    "data2 = [0.353, 3.517, 0.125, -7.545, -0.555, -1.536, 3.350, -1.578, -3.537, -1.579]\n",
    "stat, p = spearmanr(data1, data2)\n",
    "print('stat=%.3f, p=%.3f' % (stat, p))\n",
    "if p > 0.05:\n",
    "    print('Probably Independent (No Correlation)')\n",
    "else:\n",
    "    print('Probably dependent (Correlation exist)')"
   ]
  },
  {
   "cell_type": "markdown",
   "metadata": {},
   "source": [
    "# Chi- Squared Test \n",
    "Test whether two categorical variables are related or independent.\n",
    "\n",
    "**Assumptions**\n",
    "\n",
    "Observations used in the calculation the contingency table are independent 25 or more exapmles in each cell of the contingency table. Interpretation\n",
    "- H0: the two samples are independent.\n",
    "- H1: there is a dependency between the samples.\n",
    "   "
   ]
  },
  {
   "cell_type": "code",
   "execution_count": 28,
   "metadata": {},
   "outputs": [
    {
     "name": "stdout",
     "output_type": "stream",
     "text": [
      "stat=0.272, p=0.873\n",
      "Probably Independent\n"
     ]
    }
   ],
   "source": [
    "# Eample of the Chi - Squared Test \n",
    "from scipy.stats import chi2_contingency\n",
    "table = [[10, 20, 30],[6, 9, 17]]\n",
    "stat, p, dof, expected = chi2_contingency(table)\n",
    "print('stat=%.3f, p=%.3f' % (stat,p))\n",
    "if p > 0.05:\n",
    "    print('Probably Independent')\n",
    "else:\n",
    "    print('Probably dependent')"
   ]
  },
  {
   "cell_type": "markdown",
   "metadata": {},
   "source": [
    "# 3. Parametric Statistical Hypothesis Tests\n",
    "1. Student's t-test \n",
    "Tests whether the mean of two independent samples are significantly different.\n",
    "\n",
    "**Assumptions**\n",
    "\n",
    "1. Observations in each sample are indpendent and identically distributed (idd)\n",
    "2. Observations in each sample are normally distributed\n",
    "3. Observations in each sample have the same variance.\n",
    "4. Interpretation\n",
    "\n",
    "- H0: the means of the samples are equal \n",
    "- H1: the means of the samples are unequal\n",
    "  "
   ]
  },
  {
   "cell_type": "code",
   "execution_count": 29,
   "metadata": {},
   "outputs": [
    {
     "name": "stdout",
     "output_type": "stream",
     "text": [
      "stat=0.515, p=0.613\n",
      "Probably the same distribution\n"
     ]
    }
   ],
   "source": [
    "# Example of the Student's test \n",
    "from scipy.stats import ttest_ind\n",
    "data1 = [0.873, 2.817, 0.121, -0.945, -0.055, -1.436, 0.360, -1.478, -1.637, -1.869]\n",
    "data2 = [0.353, 3.517, 0.125, -7.545, -0.555, -1.536, 3.350, -1.578, -3.537, -1.579]\n",
    "stat, p = ttest_ind(data1, data2)\n",
    "print('stat=%.3f, p=%.3f' % (stat, p))\n",
    "if p > 0.05:\n",
    "    print('Probably the same distribution')\n",
    "else:\n",
    "    print('Probably different distribution')"
   ]
  },
  {
   "cell_type": "markdown",
   "metadata": {},
   "source": [
    "# 2. Paired Student's t-test \n",
    "Tests whether the means of two paired samples are significantly different.\\\n",
    "**Assumptions**\n",
    "\n",
    "1. Observations in each sample are indpendent and identically distributed (idd)\n",
    "2. Observations in each sample are normally distributed\n",
    "3. Observations in each sample have the same variance.\n",
    "4. Interpretation\n",
    "\n",
    "- H0: the means of the samples are equal \n",
    "- H1: the means of the samples are unequal\n"
   ]
  },
  {
   "cell_type": "code",
   "execution_count": 30,
   "metadata": {},
   "outputs": [
    {
     "name": "stdout",
     "output_type": "stream",
     "text": [
      "stat=0.741, p=0.478\n",
      "Probably the same distribution\n"
     ]
    }
   ],
   "source": [
    "# Example of the Student's test \n",
    "from scipy.stats import ttest_rel\n",
    "data1 = [0.873, 2.817, 0.121, -0.945, -0.055, -1.436, 0.360, -1.478, -1.637, -1.869]\n",
    "data2 = [0.353, 3.517, 0.125, -7.545, -0.555, -1.536, 3.350, -1.578, -3.537, -1.579]\n",
    "stat, p = ttest_rel(data1, data2)\n",
    "print('stat=%.3f, p=%.3f' % (stat, p))\n",
    "if p > 0.05:\n",
    "    print('Probably the same distribution')\n",
    "else:\n",
    "    print('Probably different distribution')"
   ]
  },
  {
   "cell_type": "markdown",
   "metadata": {},
   "source": []
  }
 ],
 "metadata": {
  "interpreter": {
   "hash": "5e96b45ffd47e93248c606a67b27fda686db23833db56219cd282bf80879b1f1"
  },
  "kernelspec": {
   "display_name": "Python 3.9.7 ('base')",
   "language": "python",
   "name": "python3"
  },
  "language_info": {
   "codemirror_mode": {
    "name": "ipython",
    "version": 3
   },
   "file_extension": ".py",
   "mimetype": "text/x-python",
   "name": "python",
   "nbconvert_exporter": "python",
   "pygments_lexer": "ipython3",
   "version": "3.9.7"
  },
  "orig_nbformat": 4
 },
 "nbformat": 4,
 "nbformat_minor": 2
}
