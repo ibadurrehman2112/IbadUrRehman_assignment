{
 "cells": [
  {
   "cell_type": "markdown",
   "metadata": {},
   "source": [
    "### Import Libraries"
   ]
  },
  {
   "cell_type": "code",
   "execution_count": 34,
   "metadata": {},
   "outputs": [
    {
     "name": "stderr",
     "output_type": "stream",
     "text": [
      "[nltk_data] Downloading package punkt to\n",
      "[nltk_data]     C:\\Users\\sarma\\AppData\\Roaming\\nltk_data...\n",
      "[nltk_data]   Package punkt is already up-to-date!\n"
     ]
    }
   ],
   "source": [
    "import pandas as pd\n",
    "import re\n",
    "\n",
    "import nltk\n",
    "nltk.download('punkt')\n",
    "\n",
    "from scipy.cluster.vq import vq, kmeans, whiten\n",
    "from sklearn.feature_extraction.text import TfidfVectorizer\n",
    "from nltk.tokenize import word_tokenize"
   ]
  },
  {
   "cell_type": "markdown",
   "metadata": {},
   "source": [
    "### Document Clustering"
   ]
  },
  {
   "cell_type": "code",
   "execution_count": 22,
   "metadata": {},
   "outputs": [
    {
     "data": {
      "text/html": [
       "<div>\n",
       "<style scoped>\n",
       "    .dataframe tbody tr th:only-of-type {\n",
       "        vertical-align: middle;\n",
       "    }\n",
       "\n",
       "    .dataframe tbody tr th {\n",
       "        vertical-align: top;\n",
       "    }\n",
       "\n",
       "    .dataframe thead th {\n",
       "        text-align: right;\n",
       "    }\n",
       "</style>\n",
       "<table border=\"1\" class=\"dataframe\">\n",
       "  <thead>\n",
       "    <tr style=\"text-align: right;\">\n",
       "      <th></th>\n",
       "      <th>Title</th>\n",
       "      <th>Plot</th>\n",
       "    </tr>\n",
       "  </thead>\n",
       "  <tbody>\n",
       "    <tr>\n",
       "      <th>0</th>\n",
       "      <td>The Ballad of Cable Hogue</td>\n",
       "      <td>Cable Hogue is isolated in the desert, awaitin...</td>\n",
       "    </tr>\n",
       "    <tr>\n",
       "      <th>1</th>\n",
       "      <td>Monsters vs. Aliens</td>\n",
       "      <td>In the far reaches of space, a planet explodes...</td>\n",
       "    </tr>\n",
       "    <tr>\n",
       "      <th>2</th>\n",
       "      <td>The Bandit Queen</td>\n",
       "      <td>Zarra Montalvo is the daughter of an American ...</td>\n",
       "    </tr>\n",
       "  </tbody>\n",
       "</table>\n",
       "</div>"
      ],
      "text/plain": [
       "                       Title  \\\n",
       "0  The Ballad of Cable Hogue   \n",
       "1        Monsters vs. Aliens   \n",
       "2           The Bandit Queen   \n",
       "\n",
       "                                                Plot  \n",
       "0  Cable Hogue is isolated in the desert, awaitin...  \n",
       "1  In the far reaches of space, a planet explodes...  \n",
       "2  Zarra Montalvo is the daughter of an American ...  "
      ]
     },
     "execution_count": 22,
     "metadata": {},
     "output_type": "execute_result"
    }
   ],
   "source": [
    "df = pd.read_csv(\"movies_plot.csv\")\n",
    "df[:3]"
   ]
  },
  {
   "cell_type": "code",
   "execution_count": 23,
   "metadata": {},
   "outputs": [],
   "source": [
    "def remove_noise(text, stop_words = []):\n",
    "    tokens = word_tokenize(text)\n",
    "    cleaned_tokens = []\n",
    "    for token in tokens:\n",
    "        token = re.sub('[^A-Za-z0-9]+', '', token)\n",
    "        if len(token) > 1 and token.lower() not in stop_words:\n",
    "            # Get lowercase\n",
    "            cleaned_tokens.append(token.lower())\n",
    "    return cleaned_tokens"
   ]
  },
  {
   "cell_type": "code",
   "execution_count": 26,
   "metadata": {},
   "outputs": [],
   "source": [
    "# Initialize TfidfVectorizer\n",
    "tfidf_vectorizer = TfidfVectorizer(min_df=0.1, max_df=0.75, max_features=50, tokenizer=remove_noise)\n",
    "\n",
    "# Use the .fit_transform() on the list plots\n",
    "tfidf_matrix = tfidf_vectorizer.fit_transform(df[\"Plot\"])"
   ]
  },
  {
   "cell_type": "code",
   "execution_count": 31,
   "metadata": {},
   "outputs": [
    {
     "name": "stdout",
     "output_type": "stream",
     "text": [
      "['her', 'she', 'him']\n",
      "['him', 'they', 'who']\n"
     ]
    }
   ],
   "source": [
    "num_clusters = 2\n",
    "\n",
    "# Generate cluster centers through the kmeans function\n",
    "cluster_centers, distortion = kmeans(tfidf_matrix.todense(), num_clusters)\n",
    "\n",
    "# Generate terms from the tfidf_vectorizer object\n",
    "terms = tfidf_vectorizer.get_feature_names()\n",
    "\n",
    "for i in range(num_clusters):\n",
    "    # Sort the terms and print top 3 terms\n",
    "    center_terms = dict(zip(terms, list(cluster_centers[i])))\n",
    "    sorted_terms = sorted(center_terms, key=center_terms.get, reverse=True)\n",
    "    print(sorted_terms[:3])"
   ]
  },
  {
   "cell_type": "markdown",
   "metadata": {},
   "source": [
    "### Import Fifa Dataset"
   ]
  },
  {
   "cell_type": "code",
   "execution_count": 32,
   "metadata": {},
   "outputs": [
    {
     "data": {
      "text/html": [
       "<div>\n",
       "<style scoped>\n",
       "    .dataframe tbody tr th:only-of-type {\n",
       "        vertical-align: middle;\n",
       "    }\n",
       "\n",
       "    .dataframe tbody tr th {\n",
       "        vertical-align: top;\n",
       "    }\n",
       "\n",
       "    .dataframe thead th {\n",
       "        text-align: right;\n",
       "    }\n",
       "</style>\n",
       "<table border=\"1\" class=\"dataframe\">\n",
       "  <thead>\n",
       "    <tr style=\"text-align: right;\">\n",
       "      <th></th>\n",
       "      <th>ID</th>\n",
       "      <th>name</th>\n",
       "      <th>full_name</th>\n",
       "      <th>club</th>\n",
       "      <th>club_logo</th>\n",
       "      <th>special</th>\n",
       "      <th>age</th>\n",
       "      <th>league</th>\n",
       "      <th>birth_date</th>\n",
       "      <th>height_cm</th>\n",
       "      <th>...</th>\n",
       "      <th>prefers_cb</th>\n",
       "      <th>prefers_lb</th>\n",
       "      <th>prefers_lwb</th>\n",
       "      <th>prefers_ls</th>\n",
       "      <th>prefers_lf</th>\n",
       "      <th>prefers_lam</th>\n",
       "      <th>prefers_lcm</th>\n",
       "      <th>prefers_ldm</th>\n",
       "      <th>prefers_lcb</th>\n",
       "      <th>prefers_gk</th>\n",
       "    </tr>\n",
       "  </thead>\n",
       "  <tbody>\n",
       "    <tr>\n",
       "      <th>0</th>\n",
       "      <td>20801</td>\n",
       "      <td>Cristiano Ronaldo</td>\n",
       "      <td>C. Ronaldo dos Santos Aveiro</td>\n",
       "      <td>Real Madrid CF</td>\n",
       "      <td>https://cdn.sofifa.org/18/teams/243.png</td>\n",
       "      <td>2228</td>\n",
       "      <td>32</td>\n",
       "      <td>Spanish Primera División</td>\n",
       "      <td>1985-02-05</td>\n",
       "      <td>185.0</td>\n",
       "      <td>...</td>\n",
       "      <td>False</td>\n",
       "      <td>False</td>\n",
       "      <td>False</td>\n",
       "      <td>False</td>\n",
       "      <td>False</td>\n",
       "      <td>False</td>\n",
       "      <td>False</td>\n",
       "      <td>False</td>\n",
       "      <td>False</td>\n",
       "      <td>False</td>\n",
       "    </tr>\n",
       "    <tr>\n",
       "      <th>1</th>\n",
       "      <td>158023</td>\n",
       "      <td>L. Messi</td>\n",
       "      <td>Lionel Messi</td>\n",
       "      <td>FC Barcelona</td>\n",
       "      <td>https://cdn.sofifa.org/18/teams/241.png</td>\n",
       "      <td>2158</td>\n",
       "      <td>30</td>\n",
       "      <td>Spanish Primera División</td>\n",
       "      <td>1987-06-24</td>\n",
       "      <td>170.0</td>\n",
       "      <td>...</td>\n",
       "      <td>False</td>\n",
       "      <td>False</td>\n",
       "      <td>False</td>\n",
       "      <td>False</td>\n",
       "      <td>False</td>\n",
       "      <td>False</td>\n",
       "      <td>False</td>\n",
       "      <td>False</td>\n",
       "      <td>False</td>\n",
       "      <td>False</td>\n",
       "    </tr>\n",
       "    <tr>\n",
       "      <th>2</th>\n",
       "      <td>190871</td>\n",
       "      <td>Neymar</td>\n",
       "      <td>Neymar da Silva Santos Jr.</td>\n",
       "      <td>Paris Saint-Germain</td>\n",
       "      <td>https://cdn.sofifa.org/18/teams/73.png</td>\n",
       "      <td>2100</td>\n",
       "      <td>25</td>\n",
       "      <td>French Ligue 1</td>\n",
       "      <td>1992-02-05</td>\n",
       "      <td>175.0</td>\n",
       "      <td>...</td>\n",
       "      <td>False</td>\n",
       "      <td>False</td>\n",
       "      <td>False</td>\n",
       "      <td>False</td>\n",
       "      <td>False</td>\n",
       "      <td>False</td>\n",
       "      <td>False</td>\n",
       "      <td>False</td>\n",
       "      <td>False</td>\n",
       "      <td>False</td>\n",
       "    </tr>\n",
       "    <tr>\n",
       "      <th>3</th>\n",
       "      <td>176580</td>\n",
       "      <td>L. Suárez</td>\n",
       "      <td>Luis Suárez</td>\n",
       "      <td>FC Barcelona</td>\n",
       "      <td>https://cdn.sofifa.org/18/teams/241.png</td>\n",
       "      <td>2291</td>\n",
       "      <td>30</td>\n",
       "      <td>Spanish Primera División</td>\n",
       "      <td>1987-01-24</td>\n",
       "      <td>182.0</td>\n",
       "      <td>...</td>\n",
       "      <td>False</td>\n",
       "      <td>False</td>\n",
       "      <td>False</td>\n",
       "      <td>False</td>\n",
       "      <td>False</td>\n",
       "      <td>False</td>\n",
       "      <td>False</td>\n",
       "      <td>False</td>\n",
       "      <td>False</td>\n",
       "      <td>False</td>\n",
       "    </tr>\n",
       "    <tr>\n",
       "      <th>4</th>\n",
       "      <td>167495</td>\n",
       "      <td>M. Neuer</td>\n",
       "      <td>Manuel Neuer</td>\n",
       "      <td>FC Bayern Munich</td>\n",
       "      <td>https://cdn.sofifa.org/18/teams/21.png</td>\n",
       "      <td>1493</td>\n",
       "      <td>31</td>\n",
       "      <td>German Bundesliga</td>\n",
       "      <td>1986-03-27</td>\n",
       "      <td>193.0</td>\n",
       "      <td>...</td>\n",
       "      <td>False</td>\n",
       "      <td>False</td>\n",
       "      <td>False</td>\n",
       "      <td>False</td>\n",
       "      <td>False</td>\n",
       "      <td>False</td>\n",
       "      <td>False</td>\n",
       "      <td>False</td>\n",
       "      <td>False</td>\n",
       "      <td>True</td>\n",
       "    </tr>\n",
       "  </tbody>\n",
       "</table>\n",
       "<p>5 rows × 185 columns</p>\n",
       "</div>"
      ],
      "text/plain": [
       "       ID               name                     full_name  \\\n",
       "0   20801  Cristiano Ronaldo  C. Ronaldo dos Santos Aveiro   \n",
       "1  158023           L. Messi                  Lionel Messi   \n",
       "2  190871             Neymar    Neymar da Silva Santos Jr.   \n",
       "3  176580          L. Suárez                   Luis Suárez   \n",
       "4  167495           M. Neuer                  Manuel Neuer   \n",
       "\n",
       "                  club                                club_logo  special  age  \\\n",
       "0       Real Madrid CF  https://cdn.sofifa.org/18/teams/243.png     2228   32   \n",
       "1         FC Barcelona  https://cdn.sofifa.org/18/teams/241.png     2158   30   \n",
       "2  Paris Saint-Germain   https://cdn.sofifa.org/18/teams/73.png     2100   25   \n",
       "3         FC Barcelona  https://cdn.sofifa.org/18/teams/241.png     2291   30   \n",
       "4     FC Bayern Munich   https://cdn.sofifa.org/18/teams/21.png     1493   31   \n",
       "\n",
       "                     league  birth_date  height_cm  ...  prefers_cb  \\\n",
       "0  Spanish Primera División  1985-02-05      185.0  ...       False   \n",
       "1  Spanish Primera División  1987-06-24      170.0  ...       False   \n",
       "2            French Ligue 1  1992-02-05      175.0  ...       False   \n",
       "3  Spanish Primera División  1987-01-24      182.0  ...       False   \n",
       "4         German Bundesliga  1986-03-27      193.0  ...       False   \n",
       "\n",
       "  prefers_lb  prefers_lwb prefers_ls prefers_lf prefers_lam  prefers_lcm  \\\n",
       "0      False        False      False      False       False        False   \n",
       "1      False        False      False      False       False        False   \n",
       "2      False        False      False      False       False        False   \n",
       "3      False        False      False      False       False        False   \n",
       "4      False        False      False      False       False        False   \n",
       "\n",
       "   prefers_ldm  prefers_lcb  prefers_gk  \n",
       "0        False        False       False  \n",
       "1        False        False       False  \n",
       "2        False        False       False  \n",
       "3        False        False       False  \n",
       "4        False        False        True  \n",
       "\n",
       "[5 rows x 185 columns]"
      ]
     },
     "execution_count": 32,
     "metadata": {},
     "output_type": "execute_result"
    }
   ],
   "source": [
    "fifa = pd.read_csv('fifa_18_sample_data.csv')\n",
    "fifa.head()"
   ]
  },
  {
   "cell_type": "code",
   "execution_count": 35,
   "metadata": {},
   "outputs": [],
   "source": [
    "fifa['scaled_pac'] = whiten(fifa['pac'])\n",
    "fifa['scaled_dri'] = whiten(fifa['dri'])\n",
    "fifa['scaled_sho'] = whiten(fifa['sho'])"
   ]
  },
  {
   "cell_type": "code",
   "execution_count": 36,
   "metadata": {},
   "outputs": [],
   "source": [
    "cluster_centers, _ = kmeans(fifa[['scaled_pac', 'scaled_dri', 'scaled_sho']], 3)\n",
    "\n",
    "fifa['cluster_labels'], _ = vq(fifa[['scaled_pac', 'scaled_dri', 'scaled_sho']], cluster_centers)"
   ]
  },
  {
   "cell_type": "code",
   "execution_count": 37,
   "metadata": {},
   "outputs": [
    {
     "name": "stdout",
     "output_type": "stream",
     "text": [
      "cluster_labels\n",
      "0    182\n",
      "1    456\n",
      "2    362\n",
      "Name: ID, dtype: int64\n"
     ]
    }
   ],
   "source": [
    "# Print the size of the clusters\n",
    "print(fifa.groupby('cluster_labels')['ID'].count())"
   ]
  },
  {
   "cell_type": "code",
   "execution_count": 38,
   "metadata": {},
   "outputs": [
    {
     "name": "stdout",
     "output_type": "stream",
     "text": [
      "cluster_labels\n",
      "0    63225.274725\n",
      "1    77050.438596\n",
      "2    62955.801105\n",
      "Name: eur_wage, dtype: float64\n"
     ]
    }
   ],
   "source": [
    "# Print the mean value of wages in each cluster\n",
    "print(fifa.groupby('cluster_labels')['eur_wage'].mean())"
   ]
  },
  {
   "cell_type": "markdown",
   "metadata": {},
   "source": [
    "**The overall level of a player in FIFA 18 is defined by six characteristics: pace (pac), shooting (sho), passing (pas), dribbling (dri), defending (def), physical (phy)**"
   ]
  },
  {
   "cell_type": "code",
   "execution_count": 39,
   "metadata": {},
   "outputs": [],
   "source": [
    "fifa['scaled_def'] = whiten(fifa['def'])\n",
    "fifa['scaled_phy'] = whiten(fifa['phy'])"
   ]
  },
  {
   "cell_type": "code",
   "execution_count": 40,
   "metadata": {},
   "outputs": [],
   "source": [
    "scaled_features = ['scaled_pac', 'scaled_sho', 'scaled_pac', 'scaled_dri', 'scaled_def', 'scaled_phy']"
   ]
  },
  {
   "cell_type": "code",
   "execution_count": 41,
   "metadata": {},
   "outputs": [
    {
     "name": "stdout",
     "output_type": "stream",
     "text": [
      "                scaled_pac  scaled_sho  scaled_pac  scaled_dri  scaled_def  \\\n",
      "cluster_labels                                                               \n",
      "0                 6.823241    5.467249    6.823241    8.571332    2.385568   \n",
      "1                 5.466300    3.975877    5.466300    7.036284    3.861597   \n",
      "\n",
      "                scaled_phy  \n",
      "cluster_labels              \n",
      "0                 8.285080  \n",
      "1                 9.112066  \n",
      "0 ['Cristiano Ronaldo' 'L. Messi' 'Neymar' 'L. Suárez' 'M. Neuer']\n",
      "1 ['T. Kroos' 'Sergio Ramos' 'G. Chiellini' 'L. Bonucci' 'J. Boateng']\n"
     ]
    },
    {
     "data": {
      "image/png": "[encoded data removed]",
      "text/plain": [
       "<Figure size 432x288 with 1 Axes>"
      ]
     },
     "metadata": {
      "needs_background": "light"
     },
     "output_type": "display_data"
    }
   ],
   "source": [
    "# Create centroids with kmeans for 2 clusters\n",
    "cluster_centers, _ = kmeans(fifa[scaled_features], 2)\n",
    "\n",
    "# Assign cluster labels and print cluster centers\n",
    "fifa['cluster_labels'], _ = vq(fifa[scaled_features], cluster_centers)\n",
    "print(fifa.groupby('cluster_labels')[scaled_features].mean())\n",
    "\n",
    "# Plot cluster centers to visualize clusters\n",
    "fifa.groupby('cluster_labels')[scaled_features].mean().plot(legend=True, kind='bar')\n",
    "\n",
    "# Get the name column of first 5 players in each cluster\n",
    "for cluster in fifa['cluster_labels'].unique():\n",
    "    print(cluster, fifa[fifa['cluster_labels'] == cluster]['name'].values[:5])"
   ]
  },
  {
   "cell_type": "code",
   "execution_count": null,
   "metadata": {},
   "outputs": [],
   "source": []
  }
 ],
 "metadata": {
  "kernelspec": {
   "display_name": "Python 3",
   "language": "python",
   "name": "python3"
  },
  "language_info": {
   "codemirror_mode": {
    "name": "ipython",
    "version": 3
   },
   "file_extension": ".py",
   "mimetype": "text/x-python",
   "name": "python",
   "nbconvert_exporter": "python",
   "pygments_lexer": "ipython3",
   "version": "3.8.5"
  }
 },
 "nbformat": 4,
 "nbformat_minor": 4
}
