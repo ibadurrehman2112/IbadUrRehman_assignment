{
 "cells": [
  {
   "cell_type": "markdown",
   "metadata": {
    "id": "mqAAwcNEKIXT"
   },
   "source": [
    "### Import Libraries"
   ]
  },
  {
   "cell_type": "code",
   "execution_count": 13,
   "metadata": {
    "id": "QClnhcS9KNMk"
   },
   "outputs": [],
   "source": [
    "import pandas as pd\n",
    "\n",
    "from sklearn.model_selection import train_test_split\n",
    "from catboost import CatBoostClassifier\n",
    "from catboost import cv"
   ]
  },
  {
   "cell_type": "markdown",
   "metadata": {
    "id": "r7_peFrIK2WZ"
   },
   "source": [
    "### Import Dataset"
   ]
  },
  {
   "cell_type": "code",
   "execution_count": 14,
   "metadata": {
    "colab": {
     "base_uri": "https://localhost:8080/",
     "height": 204
    },
    "id": "7UglDAGaK4dS",
    "outputId": "7beb3435-a482-4fb7-c951-5246cadb1cb0"
   },
   "outputs": [
    {
     "data": {
      "text/html": [
       "<div>\n",
       "<style scoped>\n",
       "    .dataframe tbody tr th:only-of-type {\n",
       "        vertical-align: middle;\n",
       "    }\n",
       "\n",
       "    .dataframe tbody tr th {\n",
       "        vertical-align: top;\n",
       "    }\n",
       "\n",
       "    .dataframe thead th {\n",
       "        text-align: right;\n",
       "    }\n",
       "</style>\n",
       "<table border=\"1\" class=\"dataframe\">\n",
       "  <thead>\n",
       "    <tr style=\"text-align: right;\">\n",
       "      <th></th>\n",
       "      <th>ACTION</th>\n",
       "      <th>RESOURCE</th>\n",
       "      <th>MGR_ID</th>\n",
       "      <th>ROLE_ROLLUP_1</th>\n",
       "      <th>ROLE_ROLLUP_2</th>\n",
       "      <th>ROLE_DEPTNAME</th>\n",
       "      <th>ROLE_TITLE</th>\n",
       "      <th>ROLE_FAMILY_DESC</th>\n",
       "      <th>ROLE_FAMILY</th>\n",
       "      <th>ROLE_CODE</th>\n",
       "    </tr>\n",
       "  </thead>\n",
       "  <tbody>\n",
       "    <tr>\n",
       "      <th>4567</th>\n",
       "      <td>1</td>\n",
       "      <td>17226</td>\n",
       "      <td>4828</td>\n",
       "      <td>117961</td>\n",
       "      <td>118343</td>\n",
       "      <td>118395</td>\n",
       "      <td>118890</td>\n",
       "      <td>125128</td>\n",
       "      <td>118398</td>\n",
       "      <td>118892</td>\n",
       "    </tr>\n",
       "    <tr>\n",
       "      <th>11358</th>\n",
       "      <td>1</td>\n",
       "      <td>43194</td>\n",
       "      <td>3527</td>\n",
       "      <td>117961</td>\n",
       "      <td>118225</td>\n",
       "      <td>120054</td>\n",
       "      <td>118702</td>\n",
       "      <td>303450</td>\n",
       "      <td>118704</td>\n",
       "      <td>118705</td>\n",
       "    </tr>\n",
       "    <tr>\n",
       "      <th>2083</th>\n",
       "      <td>1</td>\n",
       "      <td>33642</td>\n",
       "      <td>67940</td>\n",
       "      <td>117980</td>\n",
       "      <td>118076</td>\n",
       "      <td>117941</td>\n",
       "      <td>118568</td>\n",
       "      <td>136753</td>\n",
       "      <td>19721</td>\n",
       "      <td>118570</td>\n",
       "    </tr>\n",
       "    <tr>\n",
       "      <th>22555</th>\n",
       "      <td>0</td>\n",
       "      <td>15805</td>\n",
       "      <td>18211</td>\n",
       "      <td>117961</td>\n",
       "      <td>118386</td>\n",
       "      <td>119214</td>\n",
       "      <td>118321</td>\n",
       "      <td>117906</td>\n",
       "      <td>290919</td>\n",
       "      <td>118322</td>\n",
       "    </tr>\n",
       "    <tr>\n",
       "      <th>32374</th>\n",
       "      <td>0</td>\n",
       "      <td>34434</td>\n",
       "      <td>25276</td>\n",
       "      <td>117961</td>\n",
       "      <td>118343</td>\n",
       "      <td>121747</td>\n",
       "      <td>118321</td>\n",
       "      <td>117906</td>\n",
       "      <td>290919</td>\n",
       "      <td>118322</td>\n",
       "    </tr>\n",
       "  </tbody>\n",
       "</table>\n",
       "</div>"
      ],
      "text/plain": [
       "       ACTION  RESOURCE  MGR_ID  ROLE_ROLLUP_1  ROLE_ROLLUP_2  ROLE_DEPTNAME  \\\n",
       "4567        1     17226    4828         117961         118343         118395   \n",
       "11358       1     43194    3527         117961         118225         120054   \n",
       "2083        1     33642   67940         117980         118076         117941   \n",
       "22555       0     15805   18211         117961         118386         119214   \n",
       "32374       0     34434   25276         117961         118343         121747   \n",
       "\n",
       "       ROLE_TITLE  ROLE_FAMILY_DESC  ROLE_FAMILY  ROLE_CODE  \n",
       "4567       118890            125128       118398     118892  \n",
       "11358      118702            303450       118704     118705  \n",
       "2083       118568            136753        19721     118570  \n",
       "22555      118321            117906       290919     118322  \n",
       "32374      118321            117906       290919     118322  "
      ]
     },
     "execution_count": 14,
     "metadata": {},
     "output_type": "execute_result"
    }
   ],
   "source": [
    "df = pd.read_csv(\"train.csv\")\n",
    "df.sample(5)"
   ]
  },
  {
   "cell_type": "code",
   "execution_count": 15,
   "metadata": {
    "colab": {
     "base_uri": "https://localhost:8080/"
    },
    "id": "rbKsvhtnK9t4",
    "outputId": "cc32cd62-b71d-455d-da11-f6b383ba046d"
   },
   "outputs": [
    {
     "name": "stdout",
     "output_type": "stream",
     "text": [
      "<class 'pandas.core.frame.DataFrame'>\n",
      "RangeIndex: 32769 entries, 0 to 32768\n",
      "Data columns (total 10 columns):\n",
      " #   Column            Non-Null Count  Dtype\n",
      "---  ------            --------------  -----\n",
      " 0   ACTION            32769 non-null  int64\n",
      " 1   RESOURCE          32769 non-null  int64\n",
      " 2   MGR_ID            32769 non-null  int64\n",
      " 3   ROLE_ROLLUP_1     32769 non-null  int64\n",
      " 4   ROLE_ROLLUP_2     32769 non-null  int64\n",
      " 5   ROLE_DEPTNAME     32769 non-null  int64\n",
      " 6   ROLE_TITLE        32769 non-null  int64\n",
      " 7   ROLE_FAMILY_DESC  32769 non-null  int64\n",
      " 8   ROLE_FAMILY       32769 non-null  int64\n",
      " 9   ROLE_CODE         32769 non-null  int64\n",
      "dtypes: int64(10)\n",
      "memory usage: 2.5 MB\n"
     ]
    }
   ],
   "source": [
    "df.info()"
   ]
  },
  {
   "cell_type": "code",
   "execution_count": 16,
   "metadata": {
    "colab": {
     "base_uri": "https://localhost:8080/",
     "height": 297
    },
    "id": "0TxAzFJDLfOB",
    "outputId": "fd81da06-f05c-4d8c-e13a-c006da189f6e"
   },
   "outputs": [
    {
     "data": {
      "text/html": [
       "<div>\n",
       "<style scoped>\n",
       "    .dataframe tbody tr th:only-of-type {\n",
       "        vertical-align: middle;\n",
       "    }\n",
       "\n",
       "    .dataframe tbody tr th {\n",
       "        vertical-align: top;\n",
       "    }\n",
       "\n",
       "    .dataframe thead th {\n",
       "        text-align: right;\n",
       "    }\n",
       "</style>\n",
       "<table border=\"1\" class=\"dataframe\">\n",
       "  <thead>\n",
       "    <tr style=\"text-align: right;\">\n",
       "      <th></th>\n",
       "      <th>ACTION</th>\n",
       "      <th>RESOURCE</th>\n",
       "      <th>MGR_ID</th>\n",
       "      <th>ROLE_ROLLUP_1</th>\n",
       "      <th>ROLE_ROLLUP_2</th>\n",
       "      <th>ROLE_DEPTNAME</th>\n",
       "      <th>ROLE_TITLE</th>\n",
       "      <th>ROLE_FAMILY_DESC</th>\n",
       "      <th>ROLE_FAMILY</th>\n",
       "      <th>ROLE_CODE</th>\n",
       "    </tr>\n",
       "  </thead>\n",
       "  <tbody>\n",
       "    <tr>\n",
       "      <th>count</th>\n",
       "      <td>32769.000000</td>\n",
       "      <td>32769.000000</td>\n",
       "      <td>32769.000000</td>\n",
       "      <td>32769.000000</td>\n",
       "      <td>32769.000000</td>\n",
       "      <td>32769.000000</td>\n",
       "      <td>32769.000000</td>\n",
       "      <td>32769.000000</td>\n",
       "      <td>32769.000000</td>\n",
       "      <td>32769.000000</td>\n",
       "    </tr>\n",
       "    <tr>\n",
       "      <th>mean</th>\n",
       "      <td>0.942110</td>\n",
       "      <td>42923.916171</td>\n",
       "      <td>25988.957979</td>\n",
       "      <td>116952.627788</td>\n",
       "      <td>118301.823156</td>\n",
       "      <td>118912.779914</td>\n",
       "      <td>125916.152644</td>\n",
       "      <td>170178.369648</td>\n",
       "      <td>183703.408893</td>\n",
       "      <td>119789.430132</td>\n",
       "    </tr>\n",
       "    <tr>\n",
       "      <th>std</th>\n",
       "      <td>0.233539</td>\n",
       "      <td>34173.892702</td>\n",
       "      <td>35928.031650</td>\n",
       "      <td>10875.563591</td>\n",
       "      <td>4551.588572</td>\n",
       "      <td>18961.322917</td>\n",
       "      <td>31036.465825</td>\n",
       "      <td>69509.462130</td>\n",
       "      <td>100488.407413</td>\n",
       "      <td>5784.275516</td>\n",
       "    </tr>\n",
       "    <tr>\n",
       "      <th>min</th>\n",
       "      <td>0.000000</td>\n",
       "      <td>0.000000</td>\n",
       "      <td>25.000000</td>\n",
       "      <td>4292.000000</td>\n",
       "      <td>23779.000000</td>\n",
       "      <td>4674.000000</td>\n",
       "      <td>117879.000000</td>\n",
       "      <td>4673.000000</td>\n",
       "      <td>3130.000000</td>\n",
       "      <td>117880.000000</td>\n",
       "    </tr>\n",
       "    <tr>\n",
       "      <th>25%</th>\n",
       "      <td>1.000000</td>\n",
       "      <td>20299.000000</td>\n",
       "      <td>4566.000000</td>\n",
       "      <td>117961.000000</td>\n",
       "      <td>118102.000000</td>\n",
       "      <td>118395.000000</td>\n",
       "      <td>118274.000000</td>\n",
       "      <td>117906.000000</td>\n",
       "      <td>118363.000000</td>\n",
       "      <td>118232.000000</td>\n",
       "    </tr>\n",
       "    <tr>\n",
       "      <th>50%</th>\n",
       "      <td>1.000000</td>\n",
       "      <td>35376.000000</td>\n",
       "      <td>13545.000000</td>\n",
       "      <td>117961.000000</td>\n",
       "      <td>118300.000000</td>\n",
       "      <td>118921.000000</td>\n",
       "      <td>118568.000000</td>\n",
       "      <td>128696.000000</td>\n",
       "      <td>119006.000000</td>\n",
       "      <td>118570.000000</td>\n",
       "    </tr>\n",
       "    <tr>\n",
       "      <th>75%</th>\n",
       "      <td>1.000000</td>\n",
       "      <td>74189.000000</td>\n",
       "      <td>42034.000000</td>\n",
       "      <td>117961.000000</td>\n",
       "      <td>118386.000000</td>\n",
       "      <td>120535.000000</td>\n",
       "      <td>120006.000000</td>\n",
       "      <td>235280.000000</td>\n",
       "      <td>290919.000000</td>\n",
       "      <td>119348.000000</td>\n",
       "    </tr>\n",
       "    <tr>\n",
       "      <th>max</th>\n",
       "      <td>1.000000</td>\n",
       "      <td>312153.000000</td>\n",
       "      <td>311696.000000</td>\n",
       "      <td>311178.000000</td>\n",
       "      <td>286791.000000</td>\n",
       "      <td>286792.000000</td>\n",
       "      <td>311867.000000</td>\n",
       "      <td>311867.000000</td>\n",
       "      <td>308574.000000</td>\n",
       "      <td>270691.000000</td>\n",
       "    </tr>\n",
       "  </tbody>\n",
       "</table>\n",
       "</div>"
      ],
      "text/plain": [
       "             ACTION       RESOURCE         MGR_ID  ROLE_ROLLUP_1  \\\n",
       "count  32769.000000   32769.000000   32769.000000   32769.000000   \n",
       "mean       0.942110   42923.916171   25988.957979  116952.627788   \n",
       "std        0.233539   34173.892702   35928.031650   10875.563591   \n",
       "min        0.000000       0.000000      25.000000    4292.000000   \n",
       "25%        1.000000   20299.000000    4566.000000  117961.000000   \n",
       "50%        1.000000   35376.000000   13545.000000  117961.000000   \n",
       "75%        1.000000   74189.000000   42034.000000  117961.000000   \n",
       "max        1.000000  312153.000000  311696.000000  311178.000000   \n",
       "\n",
       "       ROLE_ROLLUP_2  ROLE_DEPTNAME     ROLE_TITLE  ROLE_FAMILY_DESC  \\\n",
       "count   32769.000000   32769.000000   32769.000000      32769.000000   \n",
       "mean   118301.823156  118912.779914  125916.152644     170178.369648   \n",
       "std      4551.588572   18961.322917   31036.465825      69509.462130   \n",
       "min     23779.000000    4674.000000  117879.000000       4673.000000   \n",
       "25%    118102.000000  118395.000000  118274.000000     117906.000000   \n",
       "50%    118300.000000  118921.000000  118568.000000     128696.000000   \n",
       "75%    118386.000000  120535.000000  120006.000000     235280.000000   \n",
       "max    286791.000000  286792.000000  311867.000000     311867.000000   \n",
       "\n",
       "         ROLE_FAMILY      ROLE_CODE  \n",
       "count   32769.000000   32769.000000  \n",
       "mean   183703.408893  119789.430132  \n",
       "std    100488.407413    5784.275516  \n",
       "min      3130.000000  117880.000000  \n",
       "25%    118363.000000  118232.000000  \n",
       "50%    119006.000000  118570.000000  \n",
       "75%    290919.000000  119348.000000  \n",
       "max    308574.000000  270691.000000  "
      ]
     },
     "execution_count": 16,
     "metadata": {},
     "output_type": "execute_result"
    }
   ],
   "source": [
    "df.describe()"
   ]
  },
  {
   "cell_type": "code",
   "execution_count": 17,
   "metadata": {
    "colab": {
     "base_uri": "https://localhost:8080/"
    },
    "id": "Q6NNZRz6Ljj7",
    "outputId": "a934439b-1e8d-4e38-9591-97c569adc209"
   },
   "outputs": [
    {
     "name": "stdout",
     "output_type": "stream",
     "text": [
      "<class 'pandas.core.frame.DataFrame'>\n",
      "RangeIndex: 32769 entries, 0 to 32768\n",
      "Data columns (total 10 columns):\n",
      " #   Column            Non-Null Count  Dtype   \n",
      "---  ------            --------------  -----   \n",
      " 0   ACTION            32769 non-null  category\n",
      " 1   RESOURCE          32769 non-null  category\n",
      " 2   MGR_ID            32769 non-null  category\n",
      " 3   ROLE_ROLLUP_1     32769 non-null  category\n",
      " 4   ROLE_ROLLUP_2     32769 non-null  category\n",
      " 5   ROLE_DEPTNAME     32769 non-null  category\n",
      " 6   ROLE_TITLE        32769 non-null  category\n",
      " 7   ROLE_FAMILY_DESC  32769 non-null  category\n",
      " 8   ROLE_FAMILY       32769 non-null  category\n",
      " 9   ROLE_CODE         32769 non-null  category\n",
      "dtypes: category(10)\n",
      "memory usage: 1.2 MB\n"
     ]
    }
   ],
   "source": [
    "df = df.astype(\"category\")\n",
    "df.info()"
   ]
  },
  {
   "cell_type": "markdown",
   "metadata": {
    "id": "QdYDxs5KQrus"
   },
   "source": [
    "**Features and Target**"
   ]
  },
  {
   "cell_type": "code",
   "execution_count": 18,
   "metadata": {
    "id": "f9IdUhxGQvU7"
   },
   "outputs": [],
   "source": [
    "# Features\n",
    "X = df[df.columns.drop(\"ACTION\")]\n",
    "\n",
    "# Target\n",
    "y = df[\"ACTION\"]"
   ]
  },
  {
   "cell_type": "code",
   "execution_count": 19,
   "metadata": {
    "colab": {
     "base_uri": "https://localhost:8080/"
    },
    "id": "kMPP26UlVnRM",
    "outputId": "a234de8b-9381-4b3c-c234-5d502efa9bf9"
   },
   "outputs": [
    {
     "name": "stdout",
     "output_type": "stream",
     "text": [
      "[0, 1, 2, 3, 4, 5, 6, 7, 8]\n"
     ]
    }
   ],
   "source": [
    "cat_features = list(range(0, X.shape[1]))\n",
    "print(cat_features)"
   ]
  },
  {
   "cell_type": "markdown",
   "metadata": {
    "id": "cpWrtmeYQfQg"
   },
   "source": [
    "**Split Data into Training set and Validation set**"
   ]
  },
  {
   "cell_type": "code",
   "execution_count": 20,
   "metadata": {
    "id": "DTmxI9diL_DD"
   },
   "outputs": [],
   "source": [
    "X_train, X_val, y_train, y_val = train_test_split(X,\n",
    "                                                  y,\n",
    "                                                  train_size = 0.8,\n",
    "                                                  stratify = y,\n",
    "                                                  random_state = 110046)"
   ]
  },
  {
   "cell_type": "markdown",
   "metadata": {
    "id": "TQ377bi9SZYO"
   },
   "source": [
    "### CatBoost"
   ]
  },
  {
   "cell_type": "code",
   "execution_count": 21,
   "metadata": {
    "colab": {
     "base_uri": "https://localhost:8080/"
    },
    "id": "LBxCYQbCSciX",
    "outputId": "0ad2f617-fd84-4f17-9cf5-de7d359f759a"
   },
   "outputs": [
    {
     "name": "stdout",
     "output_type": "stream",
     "text": [
      "Model is fitted: True\n",
      "Model params:\n",
      "{'iterations': 5, 'learning_rate': 0.1}\n"
     ]
    }
   ],
   "source": [
    "model = CatBoostClassifier(iterations = 5,\n",
    "                           learning_rate = 0.1)\n",
    "\n",
    "model.fit(X_train, y_train, \n",
    "          eval_set = (X_val, y_val),  \n",
    "          cat_features=cat_features, \n",
    "          logging_level = \"Silent\")\n",
    "\n",
    "print('Model is fitted: ' + str(model.is_fitted()))\n",
    "print('Model params:')\n",
    "print(model.get_params())\n"
   ]
  },
  {
   "cell_type": "markdown",
   "metadata": {
    "id": "VoINei8NWxey"
   },
   "source": [
    "### Stdout of the training"
   ]
  },
  {
   "cell_type": "code",
   "execution_count": 22,
   "metadata": {
    "colab": {
     "base_uri": "https://localhost:8080/"
    },
    "id": "U0pBTP6AWzJi",
    "outputId": "942e72a3-8aae-4998-c047-ecc4bd7f09c5"
   },
   "outputs": [
    {
     "name": "stdout",
     "output_type": "stream",
     "text": [
      "Learning rate set to 0.441257\n",
      "0:\tlearn: 0.4219513\ttest: 0.4215770\tbest: 0.4215770 (0)\ttotal: 54.4ms\tremaining: 761ms\n",
      "3:\tlearn: 0.2321977\ttest: 0.2306211\tbest: 0.2306211 (3)\ttotal: 192ms\tremaining: 527ms\n",
      "6:\tlearn: 0.1880665\ttest: 0.1795845\tbest: 0.1795845 (6)\ttotal: 299ms\tremaining: 342ms\n",
      "9:\tlearn: 0.1769311\ttest: 0.1671757\tbest: 0.1671757 (9)\ttotal: 407ms\tremaining: 203ms\n",
      "12:\tlearn: 0.1743685\ttest: 0.1640860\tbest: 0.1640860 (12)\ttotal: 506ms\tremaining: 77.8ms\n",
      "14:\tlearn: 0.1728999\ttest: 0.1629131\tbest: 0.1629131 (14)\ttotal: 570ms\tremaining: 0us\n",
      "\n",
      "bestTest = 0.1629131171\n",
      "bestIteration = 14\n",
      "\n"
     ]
    },
    {
     "data": {
      "text/plain": [
       "<catboost.core.CatBoostClassifier at 0x1a8ea7565b0>"
      ]
     },
     "execution_count": 22,
     "metadata": {},
     "output_type": "execute_result"
    }
   ],
   "source": [
    "model = CatBoostClassifier(iterations = 15,\n",
    "                           verbose = 3)\n",
    "\n",
    "model.fit(X_train,\n",
    "          y_train,\n",
    "          eval_set = (X_val, y_val),\n",
    "          cat_features = cat_features)"
   ]
  },
  {
   "cell_type": "code",
   "execution_count": 23,
   "metadata": {
    "colab": {
     "base_uri": "https://localhost:8080/"
    },
    "id": "gvryDR5GX1ew",
    "outputId": "9e7c62d3-3efb-4eda-d895-99fd5e7d5af8"
   },
   "outputs": [
    {
     "name": "stdout",
     "output_type": "stream",
     "text": [
      "0:\tlearn: 0.5799308\ttest: 0.5796008\tbest: 0.5796008 (0)\ttotal: 95.2ms\tremaining: 28.5s\n",
      "1:\tlearn: 0.4900977\ttest: 0.4883784\tbest: 0.4883784 (1)\ttotal: 158ms\tremaining: 23.6s\n",
      "2:\tlearn: 0.4240053\ttest: 0.4216274\tbest: 0.4216274 (2)\ttotal: 221ms\tremaining: 21.9s\n",
      "3:\tlearn: 0.3758284\ttest: 0.3738422\tbest: 0.3738422 (3)\ttotal: 251ms\tremaining: 18.5s\n",
      "4:\tlearn: 0.3394803\ttest: 0.3378025\tbest: 0.3378025 (4)\ttotal: 267ms\tremaining: 15.7s\n",
      "5:\tlearn: 0.3090953\ttest: 0.3076762\tbest: 0.3076762 (5)\ttotal: 329ms\tremaining: 16.1s\n",
      "6:\tlearn: 0.2885221\ttest: 0.2873239\tbest: 0.2873239 (6)\ttotal: 356ms\tremaining: 14.9s\n",
      "7:\tlearn: 0.2728059\ttest: 0.2717894\tbest: 0.2717894 (7)\ttotal: 374ms\tremaining: 13.6s\n",
      "8:\tlearn: 0.2544578\ttest: 0.2530435\tbest: 0.2530435 (8)\ttotal: 440ms\tremaining: 14.2s\n",
      "9:\tlearn: 0.2381071\ttest: 0.2368361\tbest: 0.2368361 (9)\ttotal: 499ms\tremaining: 14.5s\n",
      "10:\tlearn: 0.2253750\ttest: 0.2236482\tbest: 0.2236482 (10)\ttotal: 580ms\tremaining: 15.2s\n",
      "11:\tlearn: 0.2152026\ttest: 0.2126215\tbest: 0.2126215 (11)\ttotal: 646ms\tremaining: 15.5s\n",
      "12:\tlearn: 0.2066188\ttest: 0.2023407\tbest: 0.2023407 (12)\ttotal: 721ms\tremaining: 15.9s\n",
      "13:\tlearn: 0.1984573\ttest: 0.1926133\tbest: 0.1926133 (13)\ttotal: 796ms\tremaining: 16.3s\n",
      "14:\tlearn: 0.1932890\ttest: 0.1867276\tbest: 0.1867276 (14)\ttotal: 839ms\tremaining: 15.9s\n",
      "15:\tlearn: 0.1892261\ttest: 0.1819838\tbest: 0.1819838 (15)\ttotal: 889ms\tremaining: 15.8s\n",
      "16:\tlearn: 0.1851539\ttest: 0.1771422\tbest: 0.1771422 (16)\ttotal: 958ms\tremaining: 15.9s\n",
      "17:\tlearn: 0.1818445\ttest: 0.1732045\tbest: 0.1732045 (17)\ttotal: 1.06s\tremaining: 16.7s\n",
      "18:\tlearn: 0.1793328\ttest: 0.1700519\tbest: 0.1700519 (18)\ttotal: 1.15s\tremaining: 17s\n",
      "19:\tlearn: 0.1771469\ttest: 0.1674448\tbest: 0.1674448 (19)\ttotal: 1.22s\tremaining: 17s\n",
      "20:\tlearn: 0.1755633\ttest: 0.1653218\tbest: 0.1653218 (20)\ttotal: 1.26s\tremaining: 16.7s\n",
      "21:\tlearn: 0.1737889\ttest: 0.1632514\tbest: 0.1632514 (21)\ttotal: 1.34s\tremaining: 17s\n",
      "22:\tlearn: 0.1720222\ttest: 0.1610857\tbest: 0.1610857 (22)\ttotal: 1.41s\tremaining: 16.9s\n",
      "23:\tlearn: 0.1702433\ttest: 0.1589634\tbest: 0.1589634 (23)\ttotal: 1.47s\tremaining: 16.9s\n",
      "24:\tlearn: 0.1691827\ttest: 0.1575733\tbest: 0.1575733 (24)\ttotal: 1.55s\tremaining: 17.1s\n",
      "25:\tlearn: 0.1680407\ttest: 0.1561325\tbest: 0.1561325 (25)\ttotal: 1.62s\tremaining: 17s\n",
      "26:\tlearn: 0.1675203\ttest: 0.1555235\tbest: 0.1555235 (26)\ttotal: 1.66s\tremaining: 16.8s\n",
      "27:\tlearn: 0.1662477\ttest: 0.1538086\tbest: 0.1538086 (27)\ttotal: 1.75s\tremaining: 17s\n",
      "28:\tlearn: 0.1654601\ttest: 0.1527340\tbest: 0.1527340 (28)\ttotal: 1.85s\tremaining: 17.3s\n",
      "29:\tlearn: 0.1646444\ttest: 0.1518624\tbest: 0.1518624 (29)\ttotal: 1.94s\tremaining: 17.4s\n",
      "30:\tlearn: 0.1638770\ttest: 0.1508103\tbest: 0.1508103 (30)\ttotal: 2.02s\tremaining: 17.5s\n",
      "31:\tlearn: 0.1632303\ttest: 0.1499784\tbest: 0.1499784 (31)\ttotal: 2.13s\tremaining: 17.9s\n",
      "32:\tlearn: 0.1627044\ttest: 0.1497267\tbest: 0.1497267 (32)\ttotal: 2.21s\tremaining: 17.9s\n",
      "33:\tlearn: 0.1622510\ttest: 0.1491182\tbest: 0.1491182 (33)\ttotal: 2.29s\tremaining: 17.9s\n",
      "34:\tlearn: 0.1618171\ttest: 0.1486449\tbest: 0.1486449 (34)\ttotal: 2.38s\tremaining: 18s\n",
      "35:\tlearn: 0.1612176\ttest: 0.1480754\tbest: 0.1480754 (35)\ttotal: 2.46s\tremaining: 18s\n",
      "36:\tlearn: 0.1608029\ttest: 0.1476454\tbest: 0.1476454 (36)\ttotal: 2.56s\tremaining: 18.2s\n",
      "37:\tlearn: 0.1604262\ttest: 0.1472846\tbest: 0.1472846 (37)\ttotal: 2.65s\tremaining: 18.2s\n",
      "38:\tlearn: 0.1601404\ttest: 0.1471289\tbest: 0.1471289 (38)\ttotal: 2.77s\tremaining: 18.5s\n",
      "39:\tlearn: 0.1597663\ttest: 0.1467186\tbest: 0.1467186 (39)\ttotal: 2.89s\tremaining: 18.8s\n",
      "40:\tlearn: 0.1594397\ttest: 0.1463933\tbest: 0.1463933 (40)\ttotal: 2.98s\tremaining: 18.8s\n",
      "41:\tlearn: 0.1591991\ttest: 0.1461866\tbest: 0.1461866 (41)\ttotal: 3.07s\tremaining: 18.8s\n",
      "42:\tlearn: 0.1589658\ttest: 0.1458537\tbest: 0.1458537 (42)\ttotal: 3.15s\tremaining: 18.8s\n",
      "43:\tlearn: 0.1586909\ttest: 0.1456808\tbest: 0.1456808 (43)\ttotal: 3.23s\tremaining: 18.8s\n",
      "44:\tlearn: 0.1585401\ttest: 0.1455884\tbest: 0.1455884 (44)\ttotal: 3.31s\tremaining: 18.8s\n",
      "45:\tlearn: 0.1583578\ttest: 0.1454837\tbest: 0.1454837 (45)\ttotal: 3.38s\tremaining: 18.7s\n",
      "46:\tlearn: 0.1577709\ttest: 0.1451027\tbest: 0.1451027 (46)\ttotal: 3.44s\tremaining: 18.5s\n",
      "47:\tlearn: 0.1573351\ttest: 0.1449486\tbest: 0.1449486 (47)\ttotal: 3.53s\tremaining: 18.5s\n",
      "48:\tlearn: 0.1570188\ttest: 0.1448665\tbest: 0.1448665 (48)\ttotal: 3.64s\tremaining: 18.6s\n",
      "49:\tlearn: 0.1567935\ttest: 0.1446573\tbest: 0.1446573 (49)\ttotal: 3.74s\tremaining: 18.7s\n",
      "50:\tlearn: 0.1565979\ttest: 0.1445908\tbest: 0.1445908 (50)\ttotal: 3.82s\tremaining: 18.7s\n",
      "51:\tlearn: 0.1563078\ttest: 0.1444952\tbest: 0.1444952 (51)\ttotal: 3.93s\tremaining: 18.7s\n",
      "52:\tlearn: 0.1560090\ttest: 0.1442883\tbest: 0.1442883 (52)\ttotal: 4.04s\tremaining: 18.8s\n",
      "53:\tlearn: 0.1559149\ttest: 0.1441938\tbest: 0.1441938 (53)\ttotal: 4.15s\tremaining: 18.9s\n",
      "54:\tlearn: 0.1558195\ttest: 0.1441825\tbest: 0.1441825 (54)\ttotal: 4.25s\tremaining: 18.9s\n",
      "55:\tlearn: 0.1556825\ttest: 0.1440069\tbest: 0.1440069 (55)\ttotal: 4.33s\tremaining: 18.9s\n",
      "56:\tlearn: 0.1553613\ttest: 0.1438890\tbest: 0.1438890 (56)\ttotal: 4.44s\tremaining: 18.9s\n",
      "57:\tlearn: 0.1551747\ttest: 0.1437065\tbest: 0.1437065 (57)\ttotal: 4.54s\tremaining: 19s\n",
      "58:\tlearn: 0.1550361\ttest: 0.1435950\tbest: 0.1435950 (58)\ttotal: 4.63s\tremaining: 18.9s\n",
      "59:\tlearn: 0.1549513\ttest: 0.1435519\tbest: 0.1435519 (59)\ttotal: 4.72s\tremaining: 18.9s\n",
      "60:\tlearn: 0.1548483\ttest: 0.1434241\tbest: 0.1434241 (60)\ttotal: 4.81s\tremaining: 18.8s\n",
      "61:\tlearn: 0.1547014\ttest: 0.1434240\tbest: 0.1434240 (61)\ttotal: 4.9s\tremaining: 18.8s\n",
      "62:\tlearn: 0.1544100\ttest: 0.1433346\tbest: 0.1433346 (62)\ttotal: 5s\tremaining: 18.8s\n",
      "63:\tlearn: 0.1542573\ttest: 0.1432083\tbest: 0.1432083 (63)\ttotal: 5.09s\tremaining: 18.8s\n",
      "64:\tlearn: 0.1540033\ttest: 0.1430938\tbest: 0.1430938 (64)\ttotal: 5.23s\tremaining: 18.9s\n",
      "65:\tlearn: 0.1537876\ttest: 0.1430617\tbest: 0.1430617 (65)\ttotal: 5.33s\tremaining: 18.9s\n",
      "66:\tlearn: 0.1537526\ttest: 0.1430929\tbest: 0.1430617 (65)\ttotal: 5.43s\tremaining: 18.9s\n",
      "67:\tlearn: 0.1536369\ttest: 0.1431049\tbest: 0.1430617 (65)\ttotal: 5.57s\tremaining: 19s\n",
      "68:\tlearn: 0.1535603\ttest: 0.1429878\tbest: 0.1429878 (68)\ttotal: 5.69s\tremaining: 19.1s\n",
      "69:\tlearn: 0.1533831\ttest: 0.1428637\tbest: 0.1428637 (69)\ttotal: 5.82s\tremaining: 19.1s\n",
      "70:\tlearn: 0.1533314\ttest: 0.1428431\tbest: 0.1428431 (70)\ttotal: 5.95s\tremaining: 19.2s\n",
      "71:\tlearn: 0.1532688\ttest: 0.1428390\tbest: 0.1428390 (71)\ttotal: 6.06s\tremaining: 19.2s\n",
      "72:\tlearn: 0.1532171\ttest: 0.1428802\tbest: 0.1428390 (71)\ttotal: 6.17s\tremaining: 19.2s\n",
      "73:\tlearn: 0.1530075\ttest: 0.1428549\tbest: 0.1428390 (71)\ttotal: 6.28s\tremaining: 19.2s\n",
      "74:\tlearn: 0.1529200\ttest: 0.1428021\tbest: 0.1428021 (74)\ttotal: 6.35s\tremaining: 19s\n",
      "75:\tlearn: 0.1528702\ttest: 0.1427865\tbest: 0.1427865 (75)\ttotal: 6.45s\tremaining: 19s\n",
      "76:\tlearn: 0.1527257\ttest: 0.1426198\tbest: 0.1426198 (76)\ttotal: 6.53s\tremaining: 18.9s\n",
      "77:\tlearn: 0.1526435\ttest: 0.1425676\tbest: 0.1425676 (77)\ttotal: 6.64s\tremaining: 18.9s\n",
      "78:\tlearn: 0.1523312\ttest: 0.1423375\tbest: 0.1423375 (78)\ttotal: 6.79s\tremaining: 19s\n",
      "79:\tlearn: 0.1522324\ttest: 0.1422064\tbest: 0.1422064 (79)\ttotal: 6.88s\tremaining: 18.9s\n",
      "80:\tlearn: 0.1521615\ttest: 0.1422220\tbest: 0.1422064 (79)\ttotal: 6.98s\tremaining: 18.9s\n",
      "81:\tlearn: 0.1519685\ttest: 0.1421613\tbest: 0.1421613 (81)\ttotal: 7.09s\tremaining: 18.8s\n",
      "82:\tlearn: 0.1518758\ttest: 0.1421612\tbest: 0.1421612 (82)\ttotal: 7.21s\tremaining: 18.8s\n",
      "83:\tlearn: 0.1517299\ttest: 0.1420752\tbest: 0.1420752 (83)\ttotal: 7.32s\tremaining: 18.8s\n",
      "84:\tlearn: 0.1515925\ttest: 0.1419823\tbest: 0.1419823 (84)\ttotal: 7.42s\tremaining: 18.8s\n",
      "85:\tlearn: 0.1513287\ttest: 0.1419254\tbest: 0.1419254 (85)\ttotal: 7.53s\tremaining: 18.7s\n",
      "86:\tlearn: 0.1511265\ttest: 0.1418274\tbest: 0.1418274 (86)\ttotal: 7.63s\tremaining: 18.7s\n",
      "87:\tlearn: 0.1509119\ttest: 0.1417909\tbest: 0.1417909 (87)\ttotal: 7.74s\tremaining: 18.6s\n",
      "88:\tlearn: 0.1507601\ttest: 0.1417668\tbest: 0.1417668 (88)\ttotal: 7.84s\tremaining: 18.6s\n",
      "89:\tlearn: 0.1506852\ttest: 0.1417661\tbest: 0.1417661 (89)\ttotal: 7.94s\tremaining: 18.5s\n",
      "90:\tlearn: 0.1506024\ttest: 0.1416806\tbest: 0.1416806 (90)\ttotal: 8.04s\tremaining: 18.5s\n",
      "91:\tlearn: 0.1504624\ttest: 0.1416578\tbest: 0.1416578 (91)\ttotal: 8.13s\tremaining: 18.4s\n",
      "92:\tlearn: 0.1503488\ttest: 0.1416929\tbest: 0.1416578 (91)\ttotal: 8.22s\tremaining: 18.3s\n",
      "93:\tlearn: 0.1501933\ttest: 0.1415998\tbest: 0.1415998 (93)\ttotal: 8.36s\tremaining: 18.3s\n",
      "94:\tlearn: 0.1499093\ttest: 0.1414030\tbest: 0.1414030 (94)\ttotal: 8.49s\tremaining: 18.3s\n"
     ]
    },
    {
     "name": "stdout",
     "output_type": "stream",
     "text": [
      "95:\tlearn: 0.1498811\ttest: 0.1414151\tbest: 0.1414030 (94)\ttotal: 8.58s\tremaining: 18.2s\n",
      "96:\tlearn: 0.1496904\ttest: 0.1414562\tbest: 0.1414030 (94)\ttotal: 8.69s\tremaining: 18.2s\n",
      "97:\tlearn: 0.1495091\ttest: 0.1414251\tbest: 0.1414030 (94)\ttotal: 8.8s\tremaining: 18.1s\n",
      "98:\tlearn: 0.1493181\ttest: 0.1413651\tbest: 0.1413651 (98)\ttotal: 8.92s\tremaining: 18.1s\n",
      "99:\tlearn: 0.1493180\ttest: 0.1413651\tbest: 0.1413651 (98)\ttotal: 8.95s\tremaining: 17.9s\n",
      "100:\tlearn: 0.1492154\ttest: 0.1413786\tbest: 0.1413651 (98)\ttotal: 9.07s\tremaining: 17.9s\n",
      "101:\tlearn: 0.1489777\ttest: 0.1412350\tbest: 0.1412350 (101)\ttotal: 9.18s\tremaining: 17.8s\n",
      "102:\tlearn: 0.1488604\ttest: 0.1411102\tbest: 0.1411102 (102)\ttotal: 9.29s\tremaining: 17.8s\n",
      "103:\tlearn: 0.1486673\ttest: 0.1410052\tbest: 0.1410052 (103)\ttotal: 9.38s\tremaining: 17.7s\n",
      "104:\tlearn: 0.1485380\ttest: 0.1409629\tbest: 0.1409629 (104)\ttotal: 9.46s\tremaining: 17.6s\n",
      "105:\tlearn: 0.1483479\ttest: 0.1408753\tbest: 0.1408753 (105)\ttotal: 9.57s\tremaining: 17.5s\n",
      "106:\tlearn: 0.1481554\ttest: 0.1409249\tbest: 0.1408753 (105)\ttotal: 9.67s\tremaining: 17.4s\n",
      "107:\tlearn: 0.1480898\ttest: 0.1409150\tbest: 0.1408753 (105)\ttotal: 9.78s\tremaining: 17.4s\n",
      "108:\tlearn: 0.1479336\ttest: 0.1409735\tbest: 0.1408753 (105)\ttotal: 9.87s\tremaining: 17.3s\n",
      "109:\tlearn: 0.1478306\ttest: 0.1409070\tbest: 0.1408753 (105)\ttotal: 9.97s\tremaining: 17.2s\n",
      "110:\tlearn: 0.1477476\ttest: 0.1409506\tbest: 0.1408753 (105)\ttotal: 10s\tremaining: 17.1s\n",
      "111:\tlearn: 0.1477348\ttest: 0.1409554\tbest: 0.1408753 (105)\ttotal: 10.1s\tremaining: 17s\n",
      "112:\tlearn: 0.1476693\ttest: 0.1409587\tbest: 0.1408753 (105)\ttotal: 10.2s\tremaining: 16.9s\n",
      "113:\tlearn: 0.1475684\ttest: 0.1409435\tbest: 0.1408753 (105)\ttotal: 10.3s\tremaining: 16.9s\n",
      "114:\tlearn: 0.1475528\ttest: 0.1409486\tbest: 0.1408753 (105)\ttotal: 10.4s\tremaining: 16.8s\n",
      "115:\tlearn: 0.1474362\ttest: 0.1408904\tbest: 0.1408753 (105)\ttotal: 10.5s\tremaining: 16.7s\n",
      "116:\tlearn: 0.1473707\ttest: 0.1409372\tbest: 0.1408753 (105)\ttotal: 10.6s\tremaining: 16.6s\n",
      "117:\tlearn: 0.1472301\ttest: 0.1409093\tbest: 0.1408753 (105)\ttotal: 10.7s\tremaining: 16.6s\n",
      "118:\tlearn: 0.1471811\ttest: 0.1409209\tbest: 0.1408753 (105)\ttotal: 10.8s\tremaining: 16.5s\n",
      "119:\tlearn: 0.1471738\ttest: 0.1409304\tbest: 0.1408753 (105)\ttotal: 10.9s\tremaining: 16.4s\n",
      "120:\tlearn: 0.1470224\ttest: 0.1409099\tbest: 0.1408753 (105)\ttotal: 11s\tremaining: 16.3s\n",
      "121:\tlearn: 0.1469914\ttest: 0.1409094\tbest: 0.1408753 (105)\ttotal: 11.1s\tremaining: 16.2s\n",
      "122:\tlearn: 0.1468756\ttest: 0.1409420\tbest: 0.1408753 (105)\ttotal: 11.2s\tremaining: 16.1s\n",
      "123:\tlearn: 0.1467875\ttest: 0.1408281\tbest: 0.1408281 (123)\ttotal: 11.3s\tremaining: 16.1s\n",
      "124:\tlearn: 0.1466717\ttest: 0.1408604\tbest: 0.1408281 (123)\ttotal: 11.5s\tremaining: 16.1s\n",
      "125:\tlearn: 0.1465620\ttest: 0.1408480\tbest: 0.1408281 (123)\ttotal: 11.6s\tremaining: 16s\n",
      "126:\tlearn: 0.1465484\ttest: 0.1408488\tbest: 0.1408281 (123)\ttotal: 11.7s\tremaining: 15.9s\n",
      "127:\tlearn: 0.1464105\ttest: 0.1408785\tbest: 0.1408281 (123)\ttotal: 11.8s\tremaining: 15.8s\n",
      "128:\tlearn: 0.1463385\ttest: 0.1408575\tbest: 0.1408281 (123)\ttotal: 11.8s\tremaining: 15.7s\n",
      "129:\tlearn: 0.1462660\ttest: 0.1408081\tbest: 0.1408081 (129)\ttotal: 11.9s\tremaining: 15.6s\n",
      "130:\tlearn: 0.1462015\ttest: 0.1408438\tbest: 0.1408081 (129)\ttotal: 12s\tremaining: 15.5s\n",
      "131:\tlearn: 0.1461334\ttest: 0.1408453\tbest: 0.1408081 (129)\ttotal: 12.1s\tremaining: 15.4s\n",
      "132:\tlearn: 0.1460595\ttest: 0.1408079\tbest: 0.1408079 (132)\ttotal: 12.2s\tremaining: 15.3s\n",
      "133:\tlearn: 0.1458475\ttest: 0.1406988\tbest: 0.1406988 (133)\ttotal: 12.3s\tremaining: 15.2s\n",
      "134:\tlearn: 0.1457608\ttest: 0.1406762\tbest: 0.1406762 (134)\ttotal: 12.4s\tremaining: 15.1s\n",
      "135:\tlearn: 0.1455454\ttest: 0.1406030\tbest: 0.1406030 (135)\ttotal: 12.4s\tremaining: 15s\n",
      "136:\tlearn: 0.1454418\ttest: 0.1405845\tbest: 0.1405845 (136)\ttotal: 12.5s\tremaining: 14.9s\n",
      "137:\tlearn: 0.1453953\ttest: 0.1405856\tbest: 0.1405845 (136)\ttotal: 12.6s\tremaining: 14.8s\n",
      "138:\tlearn: 0.1453506\ttest: 0.1405950\tbest: 0.1405845 (136)\ttotal: 12.7s\tremaining: 14.7s\n",
      "139:\tlearn: 0.1452968\ttest: 0.1406334\tbest: 0.1405845 (136)\ttotal: 12.8s\tremaining: 14.6s\n",
      "140:\tlearn: 0.1452283\ttest: 0.1406274\tbest: 0.1405845 (136)\ttotal: 12.9s\tremaining: 14.6s\n",
      "141:\tlearn: 0.1452157\ttest: 0.1405802\tbest: 0.1405802 (141)\ttotal: 13s\tremaining: 14.5s\n",
      "142:\tlearn: 0.1451943\ttest: 0.1406251\tbest: 0.1405802 (141)\ttotal: 13.1s\tremaining: 14.4s\n",
      "143:\tlearn: 0.1451264\ttest: 0.1406393\tbest: 0.1405802 (141)\ttotal: 13.2s\tremaining: 14.3s\n",
      "144:\tlearn: 0.1451151\ttest: 0.1406411\tbest: 0.1405802 (141)\ttotal: 13.3s\tremaining: 14.2s\n",
      "145:\tlearn: 0.1450830\ttest: 0.1406546\tbest: 0.1405802 (141)\ttotal: 13.3s\tremaining: 14.1s\n",
      "146:\tlearn: 0.1449604\ttest: 0.1406175\tbest: 0.1405802 (141)\ttotal: 13.4s\tremaining: 14s\n",
      "147:\tlearn: 0.1448388\ttest: 0.1406766\tbest: 0.1405802 (141)\ttotal: 13.5s\tremaining: 13.9s\n",
      "148:\tlearn: 0.1447448\ttest: 0.1406771\tbest: 0.1405802 (141)\ttotal: 13.6s\tremaining: 13.8s\n",
      "149:\tlearn: 0.1446299\ttest: 0.1406034\tbest: 0.1405802 (141)\ttotal: 13.7s\tremaining: 13.7s\n",
      "150:\tlearn: 0.1445694\ttest: 0.1406012\tbest: 0.1405802 (141)\ttotal: 13.8s\tremaining: 13.6s\n",
      "151:\tlearn: 0.1444825\ttest: 0.1406221\tbest: 0.1405802 (141)\ttotal: 13.9s\tremaining: 13.5s\n",
      "152:\tlearn: 0.1444381\ttest: 0.1405453\tbest: 0.1405453 (152)\ttotal: 14s\tremaining: 13.4s\n",
      "153:\tlearn: 0.1442251\ttest: 0.1405278\tbest: 0.1405278 (153)\ttotal: 14.1s\tremaining: 13.3s\n",
      "154:\tlearn: 0.1441061\ttest: 0.1405216\tbest: 0.1405216 (154)\ttotal: 14.2s\tremaining: 13.3s\n",
      "155:\tlearn: 0.1440677\ttest: 0.1405122\tbest: 0.1405122 (155)\ttotal: 14.3s\tremaining: 13.2s\n",
      "156:\tlearn: 0.1439019\ttest: 0.1405134\tbest: 0.1405122 (155)\ttotal: 14.4s\tremaining: 13.1s\n",
      "157:\tlearn: 0.1437743\ttest: 0.1404465\tbest: 0.1404465 (157)\ttotal: 14.5s\tremaining: 13s\n",
      "158:\tlearn: 0.1437077\ttest: 0.1404397\tbest: 0.1404397 (158)\ttotal: 14.6s\tremaining: 12.9s\n",
      "159:\tlearn: 0.1436616\ttest: 0.1404567\tbest: 0.1404397 (158)\ttotal: 14.7s\tremaining: 12.8s\n",
      "160:\tlearn: 0.1435699\ttest: 0.1404705\tbest: 0.1404397 (158)\ttotal: 14.8s\tremaining: 12.7s\n",
      "161:\tlearn: 0.1435691\ttest: 0.1404677\tbest: 0.1404397 (158)\ttotal: 14.8s\tremaining: 12.6s\n",
      "162:\tlearn: 0.1434503\ttest: 0.1403780\tbest: 0.1403780 (162)\ttotal: 14.9s\tremaining: 12.5s\n",
      "163:\tlearn: 0.1433695\ttest: 0.1403592\tbest: 0.1403592 (163)\ttotal: 15s\tremaining: 12.5s\n",
      "164:\tlearn: 0.1433694\ttest: 0.1403589\tbest: 0.1403589 (164)\ttotal: 15.1s\tremaining: 12.3s\n",
      "165:\tlearn: 0.1433196\ttest: 0.1403726\tbest: 0.1403589 (164)\ttotal: 15.2s\tremaining: 12.2s\n",
      "166:\tlearn: 0.1432633\ttest: 0.1403385\tbest: 0.1403385 (166)\ttotal: 15.2s\tremaining: 12.1s\n",
      "167:\tlearn: 0.1431564\ttest: 0.1402865\tbest: 0.1402865 (167)\ttotal: 15.3s\tremaining: 12s\n",
      "168:\tlearn: 0.1429967\ttest: 0.1402510\tbest: 0.1402510 (168)\ttotal: 15.4s\tremaining: 11.9s\n",
      "169:\tlearn: 0.1429116\ttest: 0.1402064\tbest: 0.1402064 (169)\ttotal: 15.5s\tremaining: 11.9s\n",
      "170:\tlearn: 0.1428977\ttest: 0.1401790\tbest: 0.1401790 (170)\ttotal: 15.6s\tremaining: 11.8s\n",
      "171:\tlearn: 0.1427894\ttest: 0.1401383\tbest: 0.1401383 (171)\ttotal: 15.8s\tremaining: 11.8s\n",
      "172:\tlearn: 0.1427519\ttest: 0.1401658\tbest: 0.1401383 (171)\ttotal: 15.9s\tremaining: 11.7s\n",
      "173:\tlearn: 0.1426540\ttest: 0.1400686\tbest: 0.1400686 (173)\ttotal: 16.1s\tremaining: 11.6s\n",
      "174:\tlearn: 0.1425692\ttest: 0.1400485\tbest: 0.1400485 (174)\ttotal: 16.2s\tremaining: 11.5s\n",
      "175:\tlearn: 0.1424939\ttest: 0.1400270\tbest: 0.1400270 (175)\ttotal: 16.3s\tremaining: 11.5s\n",
      "176:\tlearn: 0.1424649\ttest: 0.1400459\tbest: 0.1400270 (175)\ttotal: 16.4s\tremaining: 11.4s\n",
      "177:\tlearn: 0.1424513\ttest: 0.1400469\tbest: 0.1400270 (175)\ttotal: 16.5s\tremaining: 11.3s\n",
      "178:\tlearn: 0.1423704\ttest: 0.1401504\tbest: 0.1400270 (175)\ttotal: 16.6s\tremaining: 11.2s\n",
      "179:\tlearn: 0.1421898\ttest: 0.1401076\tbest: 0.1400270 (175)\ttotal: 16.7s\tremaining: 11.1s\n",
      "180:\tlearn: 0.1420405\ttest: 0.1400670\tbest: 0.1400270 (175)\ttotal: 16.8s\tremaining: 11s\n",
      "181:\tlearn: 0.1419267\ttest: 0.1401053\tbest: 0.1400270 (175)\ttotal: 16.9s\tremaining: 10.9s\n",
      "182:\tlearn: 0.1418500\ttest: 0.1400530\tbest: 0.1400270 (175)\ttotal: 17s\tremaining: 10.8s\n",
      "183:\tlearn: 0.1417577\ttest: 0.1399461\tbest: 0.1399461 (183)\ttotal: 17s\tremaining: 10.7s\n",
      "184:\tlearn: 0.1416312\ttest: 0.1399460\tbest: 0.1399460 (184)\ttotal: 17.1s\tremaining: 10.6s\n",
      "185:\tlearn: 0.1415569\ttest: 0.1399240\tbest: 0.1399240 (185)\ttotal: 17.2s\tremaining: 10.5s\n",
      "186:\tlearn: 0.1414824\ttest: 0.1398550\tbest: 0.1398550 (186)\ttotal: 17.3s\tremaining: 10.4s\n",
      "187:\tlearn: 0.1413668\ttest: 0.1399154\tbest: 0.1398550 (186)\ttotal: 17.4s\tremaining: 10.3s\n"
     ]
    },
    {
     "name": "stdout",
     "output_type": "stream",
     "text": [
      "188:\tlearn: 0.1413248\ttest: 0.1398330\tbest: 0.1398330 (188)\ttotal: 17.4s\tremaining: 10.2s\n",
      "189:\tlearn: 0.1412330\ttest: 0.1397573\tbest: 0.1397573 (189)\ttotal: 17.5s\tremaining: 10.1s\n",
      "190:\tlearn: 0.1411973\ttest: 0.1397740\tbest: 0.1397573 (189)\ttotal: 17.6s\tremaining: 10s\n",
      "191:\tlearn: 0.1411067\ttest: 0.1397457\tbest: 0.1397457 (191)\ttotal: 17.7s\tremaining: 9.96s\n",
      "192:\tlearn: 0.1410790\ttest: 0.1397378\tbest: 0.1397378 (192)\ttotal: 17.8s\tremaining: 9.87s\n",
      "193:\tlearn: 0.1410716\ttest: 0.1397483\tbest: 0.1397378 (192)\ttotal: 17.9s\tremaining: 9.78s\n",
      "194:\tlearn: 0.1409758\ttest: 0.1398131\tbest: 0.1397378 (192)\ttotal: 18s\tremaining: 9.68s\n",
      "195:\tlearn: 0.1408989\ttest: 0.1398195\tbest: 0.1397378 (192)\ttotal: 18.1s\tremaining: 9.59s\n",
      "196:\tlearn: 0.1408394\ttest: 0.1398219\tbest: 0.1397378 (192)\ttotal: 18.2s\tremaining: 9.5s\n",
      "197:\tlearn: 0.1408194\ttest: 0.1398013\tbest: 0.1397378 (192)\ttotal: 18.3s\tremaining: 9.4s\n",
      "198:\tlearn: 0.1407400\ttest: 0.1398182\tbest: 0.1397378 (192)\ttotal: 18.4s\tremaining: 9.32s\n",
      "199:\tlearn: 0.1406836\ttest: 0.1398521\tbest: 0.1397378 (192)\ttotal: 18.5s\tremaining: 9.23s\n",
      "200:\tlearn: 0.1405788\ttest: 0.1398092\tbest: 0.1397378 (192)\ttotal: 18.6s\tremaining: 9.15s\n",
      "201:\tlearn: 0.1403644\ttest: 0.1398292\tbest: 0.1397378 (192)\ttotal: 18.7s\tremaining: 9.06s\n",
      "202:\tlearn: 0.1402614\ttest: 0.1398647\tbest: 0.1397378 (192)\ttotal: 18.8s\tremaining: 8.97s\n",
      "203:\tlearn: 0.1401554\ttest: 0.1398821\tbest: 0.1397378 (192)\ttotal: 18.9s\tremaining: 8.89s\n",
      "204:\tlearn: 0.1401103\ttest: 0.1398665\tbest: 0.1397378 (192)\ttotal: 19s\tremaining: 8.79s\n",
      "205:\tlearn: 0.1400944\ttest: 0.1398695\tbest: 0.1397378 (192)\ttotal: 19.1s\tremaining: 8.7s\n",
      "206:\tlearn: 0.1400869\ttest: 0.1398781\tbest: 0.1397378 (192)\ttotal: 19.2s\tremaining: 8.61s\n",
      "207:\tlearn: 0.1400157\ttest: 0.1398983\tbest: 0.1397378 (192)\ttotal: 19.3s\tremaining: 8.55s\n",
      "208:\tlearn: 0.1398563\ttest: 0.1399729\tbest: 0.1397378 (192)\ttotal: 19.4s\tremaining: 8.45s\n",
      "209:\tlearn: 0.1397756\ttest: 0.1399700\tbest: 0.1397378 (192)\ttotal: 19.5s\tremaining: 8.36s\n",
      "210:\tlearn: 0.1397337\ttest: 0.1400003\tbest: 0.1397378 (192)\ttotal: 19.6s\tremaining: 8.27s\n",
      "211:\tlearn: 0.1395663\ttest: 0.1400181\tbest: 0.1397378 (192)\ttotal: 19.7s\tremaining: 8.18s\n",
      "212:\tlearn: 0.1394699\ttest: 0.1400230\tbest: 0.1397378 (192)\ttotal: 19.8s\tremaining: 8.09s\n",
      "213:\tlearn: 0.1394264\ttest: 0.1400445\tbest: 0.1397378 (192)\ttotal: 19.9s\tremaining: 8.01s\n",
      "214:\tlearn: 0.1393581\ttest: 0.1400468\tbest: 0.1397378 (192)\ttotal: 20s\tremaining: 7.92s\n",
      "215:\tlearn: 0.1392986\ttest: 0.1400624\tbest: 0.1397378 (192)\ttotal: 20.1s\tremaining: 7.81s\n",
      "216:\tlearn: 0.1392415\ttest: 0.1400640\tbest: 0.1397378 (192)\ttotal: 20.2s\tremaining: 7.71s\n",
      "217:\tlearn: 0.1391693\ttest: 0.1400693\tbest: 0.1397378 (192)\ttotal: 20.3s\tremaining: 7.62s\n",
      "218:\tlearn: 0.1391385\ttest: 0.1400653\tbest: 0.1397378 (192)\ttotal: 20.4s\tremaining: 7.53s\n",
      "219:\tlearn: 0.1390136\ttest: 0.1400986\tbest: 0.1397378 (192)\ttotal: 20.5s\tremaining: 7.44s\n",
      "220:\tlearn: 0.1388641\ttest: 0.1401014\tbest: 0.1397378 (192)\ttotal: 20.6s\tremaining: 7.35s\n",
      "221:\tlearn: 0.1387594\ttest: 0.1400332\tbest: 0.1397378 (192)\ttotal: 20.7s\tremaining: 7.26s\n",
      "222:\tlearn: 0.1386561\ttest: 0.1400763\tbest: 0.1397378 (192)\ttotal: 20.8s\tremaining: 7.18s\n",
      "223:\tlearn: 0.1385993\ttest: 0.1400337\tbest: 0.1397378 (192)\ttotal: 20.9s\tremaining: 7.09s\n",
      "224:\tlearn: 0.1385864\ttest: 0.1400235\tbest: 0.1397378 (192)\ttotal: 21s\tremaining: 7s\n",
      "225:\tlearn: 0.1385741\ttest: 0.1400205\tbest: 0.1397378 (192)\ttotal: 21.1s\tremaining: 6.9s\n",
      "226:\tlearn: 0.1383663\ttest: 0.1399957\tbest: 0.1397378 (192)\ttotal: 21.2s\tremaining: 6.81s\n",
      "227:\tlearn: 0.1383255\ttest: 0.1399334\tbest: 0.1397378 (192)\ttotal: 21.3s\tremaining: 6.72s\n",
      "228:\tlearn: 0.1382325\ttest: 0.1400227\tbest: 0.1397378 (192)\ttotal: 21.4s\tremaining: 6.63s\n",
      "229:\tlearn: 0.1380840\ttest: 0.1400607\tbest: 0.1397378 (192)\ttotal: 21.5s\tremaining: 6.54s\n",
      "230:\tlearn: 0.1379934\ttest: 0.1401051\tbest: 0.1397378 (192)\ttotal: 21.6s\tremaining: 6.46s\n",
      "231:\tlearn: 0.1379419\ttest: 0.1400501\tbest: 0.1397378 (192)\ttotal: 21.7s\tremaining: 6.37s\n",
      "232:\tlearn: 0.1379331\ttest: 0.1400352\tbest: 0.1397378 (192)\ttotal: 21.8s\tremaining: 6.27s\n",
      "233:\tlearn: 0.1378509\ttest: 0.1401182\tbest: 0.1397378 (192)\ttotal: 21.9s\tremaining: 6.18s\n",
      "234:\tlearn: 0.1376958\ttest: 0.1400959\tbest: 0.1397378 (192)\ttotal: 22s\tremaining: 6.08s\n",
      "235:\tlearn: 0.1376274\ttest: 0.1400403\tbest: 0.1397378 (192)\ttotal: 22.1s\tremaining: 5.99s\n",
      "236:\tlearn: 0.1374882\ttest: 0.1400318\tbest: 0.1397378 (192)\ttotal: 22.2s\tremaining: 5.91s\n",
      "237:\tlearn: 0.1373593\ttest: 0.1399600\tbest: 0.1397378 (192)\ttotal: 22.3s\tremaining: 5.82s\n",
      "238:\tlearn: 0.1372244\ttest: 0.1400442\tbest: 0.1397378 (192)\ttotal: 22.5s\tremaining: 5.73s\n",
      "239:\tlearn: 0.1371604\ttest: 0.1400555\tbest: 0.1397378 (192)\ttotal: 22.6s\tremaining: 5.64s\n",
      "240:\tlearn: 0.1370705\ttest: 0.1401301\tbest: 0.1397378 (192)\ttotal: 22.6s\tremaining: 5.54s\n",
      "241:\tlearn: 0.1370340\ttest: 0.1401545\tbest: 0.1397378 (192)\ttotal: 22.7s\tremaining: 5.44s\n",
      "242:\tlearn: 0.1369498\ttest: 0.1401234\tbest: 0.1397378 (192)\ttotal: 22.8s\tremaining: 5.34s\n",
      "243:\tlearn: 0.1368640\ttest: 0.1400952\tbest: 0.1397378 (192)\ttotal: 22.9s\tremaining: 5.25s\n",
      "244:\tlearn: 0.1368373\ttest: 0.1400424\tbest: 0.1397378 (192)\ttotal: 23s\tremaining: 5.16s\n",
      "245:\tlearn: 0.1368179\ttest: 0.1400412\tbest: 0.1397378 (192)\ttotal: 23.1s\tremaining: 5.06s\n",
      "246:\tlearn: 0.1367380\ttest: 0.1400335\tbest: 0.1397378 (192)\ttotal: 23.1s\tremaining: 4.96s\n",
      "247:\tlearn: 0.1366210\ttest: 0.1400227\tbest: 0.1397378 (192)\ttotal: 23.2s\tremaining: 4.87s\n",
      "248:\tlearn: 0.1365670\ttest: 0.1400307\tbest: 0.1397378 (192)\ttotal: 23.3s\tremaining: 4.78s\n",
      "249:\tlearn: 0.1365491\ttest: 0.1400262\tbest: 0.1397378 (192)\ttotal: 23.4s\tremaining: 4.68s\n",
      "250:\tlearn: 0.1364634\ttest: 0.1400297\tbest: 0.1397378 (192)\ttotal: 23.5s\tremaining: 4.58s\n",
      "251:\tlearn: 0.1363507\ttest: 0.1400308\tbest: 0.1397378 (192)\ttotal: 23.6s\tremaining: 4.49s\n",
      "252:\tlearn: 0.1361628\ttest: 0.1400801\tbest: 0.1397378 (192)\ttotal: 23.7s\tremaining: 4.39s\n",
      "253:\tlearn: 0.1360238\ttest: 0.1400667\tbest: 0.1397378 (192)\ttotal: 23.7s\tremaining: 4.3s\n",
      "254:\tlearn: 0.1358451\ttest: 0.1399941\tbest: 0.1397378 (192)\ttotal: 23.8s\tremaining: 4.21s\n",
      "255:\tlearn: 0.1357489\ttest: 0.1399498\tbest: 0.1397378 (192)\ttotal: 23.9s\tremaining: 4.12s\n",
      "256:\tlearn: 0.1356644\ttest: 0.1399784\tbest: 0.1397378 (192)\ttotal: 24.1s\tremaining: 4.02s\n",
      "257:\tlearn: 0.1356419\ttest: 0.1399950\tbest: 0.1397378 (192)\ttotal: 24.2s\tremaining: 3.93s\n",
      "258:\tlearn: 0.1355159\ttest: 0.1399845\tbest: 0.1397378 (192)\ttotal: 24.2s\tremaining: 3.84s\n",
      "259:\tlearn: 0.1354171\ttest: 0.1399540\tbest: 0.1397378 (192)\ttotal: 24.3s\tremaining: 3.74s\n",
      "260:\tlearn: 0.1353438\ttest: 0.1400062\tbest: 0.1397378 (192)\ttotal: 24.4s\tremaining: 3.65s\n",
      "261:\tlearn: 0.1352711\ttest: 0.1400109\tbest: 0.1397378 (192)\ttotal: 24.5s\tremaining: 3.55s\n",
      "262:\tlearn: 0.1352381\ttest: 0.1400105\tbest: 0.1397378 (192)\ttotal: 24.6s\tremaining: 3.46s\n",
      "263:\tlearn: 0.1351842\ttest: 0.1399422\tbest: 0.1397378 (192)\ttotal: 24.7s\tremaining: 3.37s\n",
      "264:\tlearn: 0.1350019\ttest: 0.1399412\tbest: 0.1397378 (192)\ttotal: 24.8s\tremaining: 3.27s\n",
      "265:\tlearn: 0.1349016\ttest: 0.1399106\tbest: 0.1397378 (192)\ttotal: 24.9s\tremaining: 3.18s\n",
      "266:\tlearn: 0.1348665\ttest: 0.1399094\tbest: 0.1397378 (192)\ttotal: 24.9s\tremaining: 3.08s\n",
      "267:\tlearn: 0.1347412\ttest: 0.1397989\tbest: 0.1397378 (192)\ttotal: 25s\tremaining: 2.99s\n",
      "268:\tlearn: 0.1346831\ttest: 0.1397898\tbest: 0.1397378 (192)\ttotal: 25.1s\tremaining: 2.89s\n",
      "269:\tlearn: 0.1346174\ttest: 0.1397630\tbest: 0.1397378 (192)\ttotal: 25.2s\tremaining: 2.8s\n",
      "270:\tlearn: 0.1345685\ttest: 0.1397771\tbest: 0.1397378 (192)\ttotal: 25.3s\tremaining: 2.71s\n",
      "271:\tlearn: 0.1345428\ttest: 0.1397748\tbest: 0.1397378 (192)\ttotal: 25.4s\tremaining: 2.61s\n",
      "272:\tlearn: 0.1344397\ttest: 0.1397820\tbest: 0.1397378 (192)\ttotal: 25.5s\tremaining: 2.52s\n",
      "273:\tlearn: 0.1343956\ttest: 0.1399165\tbest: 0.1397378 (192)\ttotal: 25.6s\tremaining: 2.42s\n",
      "274:\tlearn: 0.1343888\ttest: 0.1399284\tbest: 0.1397378 (192)\ttotal: 25.7s\tremaining: 2.33s\n",
      "275:\tlearn: 0.1343654\ttest: 0.1399427\tbest: 0.1397378 (192)\ttotal: 25.8s\tremaining: 2.24s\n",
      "276:\tlearn: 0.1343030\ttest: 0.1399053\tbest: 0.1397378 (192)\ttotal: 25.9s\tremaining: 2.15s\n",
      "277:\tlearn: 0.1342107\ttest: 0.1399170\tbest: 0.1397378 (192)\ttotal: 26s\tremaining: 2.06s\n",
      "278:\tlearn: 0.1341693\ttest: 0.1398668\tbest: 0.1397378 (192)\ttotal: 26.1s\tremaining: 1.97s\n",
      "279:\tlearn: 0.1340375\ttest: 0.1398454\tbest: 0.1397378 (192)\ttotal: 26.3s\tremaining: 1.88s\n"
     ]
    },
    {
     "name": "stdout",
     "output_type": "stream",
     "text": [
      "280:\tlearn: 0.1339462\ttest: 0.1398794\tbest: 0.1397378 (192)\ttotal: 26.4s\tremaining: 1.78s\n",
      "281:\tlearn: 0.1338490\ttest: 0.1398082\tbest: 0.1397378 (192)\ttotal: 26.5s\tremaining: 1.69s\n",
      "282:\tlearn: 0.1338132\ttest: 0.1397866\tbest: 0.1397378 (192)\ttotal: 26.6s\tremaining: 1.59s\n",
      "283:\tlearn: 0.1337190\ttest: 0.1397857\tbest: 0.1397378 (192)\ttotal: 26.7s\tremaining: 1.5s\n",
      "284:\tlearn: 0.1336418\ttest: 0.1397642\tbest: 0.1397378 (192)\ttotal: 26.7s\tremaining: 1.41s\n",
      "285:\tlearn: 0.1335853\ttest: 0.1397358\tbest: 0.1397358 (285)\ttotal: 26.8s\tremaining: 1.31s\n",
      "286:\tlearn: 0.1335261\ttest: 0.1397683\tbest: 0.1397358 (285)\ttotal: 26.9s\tremaining: 1.22s\n",
      "287:\tlearn: 0.1333306\ttest: 0.1397738\tbest: 0.1397358 (285)\ttotal: 27s\tremaining: 1.12s\n",
      "288:\tlearn: 0.1331800\ttest: 0.1397923\tbest: 0.1397358 (285)\ttotal: 27.1s\tremaining: 1.03s\n",
      "289:\tlearn: 0.1330617\ttest: 0.1396998\tbest: 0.1396998 (289)\ttotal: 27.2s\tremaining: 938ms\n",
      "290:\tlearn: 0.1330260\ttest: 0.1397062\tbest: 0.1396998 (289)\ttotal: 27.3s\tremaining: 843ms\n",
      "291:\tlearn: 0.1329069\ttest: 0.1396444\tbest: 0.1396444 (291)\ttotal: 27.3s\tremaining: 749ms\n",
      "292:\tlearn: 0.1327927\ttest: 0.1395386\tbest: 0.1395386 (292)\ttotal: 27.5s\tremaining: 656ms\n",
      "293:\tlearn: 0.1327039\ttest: 0.1394468\tbest: 0.1394468 (293)\ttotal: 27.6s\tremaining: 562ms\n",
      "294:\tlearn: 0.1326306\ttest: 0.1393910\tbest: 0.1393910 (294)\ttotal: 27.6s\tremaining: 469ms\n",
      "295:\tlearn: 0.1325793\ttest: 0.1393788\tbest: 0.1393788 (295)\ttotal: 27.8s\tremaining: 375ms\n",
      "296:\tlearn: 0.1324907\ttest: 0.1393866\tbest: 0.1393788 (295)\ttotal: 27.9s\tremaining: 281ms\n",
      "297:\tlearn: 0.1323163\ttest: 0.1394227\tbest: 0.1393788 (295)\ttotal: 28s\tremaining: 188ms\n",
      "298:\tlearn: 0.1322309\ttest: 0.1394850\tbest: 0.1393788 (295)\ttotal: 28.1s\tremaining: 93.8ms\n",
      "299:\tlearn: 0.1319640\ttest: 0.1393698\tbest: 0.1393698 (299)\ttotal: 28.1s\tremaining: 0us\n",
      "\n",
      "bestTest = 0.139369795\n",
      "bestIteration = 299\n",
      "\n"
     ]
    },
    {
     "data": {
      "text/plain": [
       "<catboost.core.CatBoostClassifier at 0x1a8ea756130>"
      ]
     },
     "execution_count": 23,
     "metadata": {},
     "output_type": "execute_result"
    }
   ],
   "source": [
    "model = CatBoostClassifier(iterations = 300,\n",
    "                           learning_rate = 0.1)\n",
    "\n",
    "model.fit(X_train, \n",
    "          y_train,\n",
    "          cat_features = cat_features,\n",
    "          eval_set = (X_val, y_val))"
   ]
  },
  {
   "cell_type": "markdown",
   "metadata": {
    "id": "gsePF-Vhe7hm"
   },
   "source": [
    "### Metrics calculation and graph plotting"
   ]
  },
  {
   "cell_type": "code",
   "execution_count": 24,
   "metadata": {
    "id": "TYhOMxBKe8Q2"
   },
   "outputs": [
    {
     "data": {
      "application/vnd.jupyter.widget-view+json": {
       "model_id": "3994b667f03741dba669c955496f0cb3",
       "version_major": 2,
       "version_minor": 0
      },
      "text/plain": [
       "MetricVisualizer(layout=Layout(align_self='stretch', height='500px'))"
      ]
     },
     "metadata": {},
     "output_type": "display_data"
    },
    {
     "data": {
      "text/plain": [
       "<catboost.core.CatBoostClassifier at 0x1a8ea756880>"
      ]
     },
     "execution_count": 24,
     "metadata": {},
     "output_type": "execute_result"
    }
   ],
   "source": [
    "from catboost import CatBoostClassifier\n",
    "model = CatBoostClassifier(\n",
    "    iterations=50,\n",
    "    random_seed=63,\n",
    "    learning_rate=0.1,\n",
    "    custom_loss=['Accuracy']\n",
    ")\n",
    "model.fit(\n",
    "    X_train, y_train,\n",
    "    cat_features=cat_features,\n",
    "    eval_set=(X_val, y_val),\n",
    "    logging_level='Silent',\n",
    "    plot=True\n",
    ")"
   ]
  },
  {
   "cell_type": "code",
   "execution_count": 25,
   "metadata": {
    "colab": {
     "base_uri": "https://localhost:8080/"
    },
    "id": "FLHv_ySJiMG6",
    "outputId": "59062bb4-4df3-4878-8a36-92c3ac8795ea"
   },
   "outputs": [
    {
     "name": "stdout",
     "output_type": "stream",
     "text": [
      "0:\tlearn: 0.3050682\ttest: 0.3049603\tbest: 0.3049603 (0)\ttotal: 46.2ms\tremaining: 46.2s\n",
      "100:\tlearn: 0.1234646\ttest: 0.1480838\tbest: 0.1448732 (64)\ttotal: 9.17s\tremaining: 1m 21s\n",
      "200:\tlearn: 0.0969472\ttest: 0.1549302\tbest: 0.1448732 (64)\ttotal: 18.3s\tremaining: 1m 12s\n",
      "300:\tlearn: 0.0773468\ttest: 0.1613076\tbest: 0.1448732 (64)\ttotal: 27.2s\tremaining: 1m 3s\n",
      "400:\tlearn: 0.0614010\ttest: 0.1674592\tbest: 0.1448732 (64)\ttotal: 35.5s\tremaining: 53s\n",
      "500:\tlearn: 0.0503851\ttest: 0.1746078\tbest: 0.1448732 (64)\ttotal: 43.6s\tremaining: 43.5s\n",
      "600:\tlearn: 0.0420236\ttest: 0.1789223\tbest: 0.1448732 (64)\ttotal: 51.5s\tremaining: 34.2s\n",
      "700:\tlearn: 0.0359321\ttest: 0.1808323\tbest: 0.1448732 (64)\ttotal: 59.7s\tremaining: 25.5s\n",
      "800:\tlearn: 0.0312890\ttest: 0.1858735\tbest: 0.1448732 (64)\ttotal: 1m 7s\tremaining: 16.7s\n",
      "900:\tlearn: 0.0283441\ttest: 0.1869941\tbest: 0.1448732 (64)\ttotal: 1m 15s\tremaining: 8.26s\n",
      "999:\tlearn: 0.0264753\ttest: 0.1892092\tbest: 0.1448732 (64)\ttotal: 1m 22s\tremaining: 0us\n",
      "\n",
      "bestTest = 0.1448731888\n",
      "bestIteration = 64\n",
      "\n",
      "Shrink model to first 65 iterations.\n",
      "0:\tlearn: 0.6347306\ttest: 0.6347198\tbest: 0.6347198 (0)\ttotal: 40.8ms\tremaining: 40.8s\n",
      "100:\tlearn: 0.1554033\ttest: 0.1445180\tbest: 0.1445180 (100)\ttotal: 6.96s\tremaining: 1m 1s\n",
      "200:\tlearn: 0.1474431\ttest: 0.1413529\tbest: 0.1413529 (200)\ttotal: 15.4s\tremaining: 1m 1s\n",
      "300:\tlearn: 0.1427507\ttest: 0.1400352\tbest: 0.1400231 (293)\ttotal: 23.7s\tremaining: 54.9s\n",
      "400:\tlearn: 0.1383199\ttest: 0.1395855\tbest: 0.1395504 (373)\ttotal: 31.9s\tremaining: 47.6s\n",
      "500:\tlearn: 0.1344167\ttest: 0.1393766\tbest: 0.1393766 (500)\ttotal: 40s\tremaining: 39.8s\n",
      "600:\tlearn: 0.1307226\ttest: 0.1392426\tbest: 0.1391893 (541)\ttotal: 48.4s\tremaining: 32.1s\n",
      "700:\tlearn: 0.1270283\ttest: 0.1391638\tbest: 0.1391404 (609)\ttotal: 56.7s\tremaining: 24.2s\n",
      "800:\tlearn: 0.1235600\ttest: 0.1392828\tbest: 0.1391216 (705)\ttotal: 1m 5s\tremaining: 16.2s\n",
      "900:\tlearn: 0.1202893\ttest: 0.1392300\tbest: 0.1391216 (705)\ttotal: 1m 14s\tremaining: 8.16s\n",
      "999:\tlearn: 0.1171390\ttest: 0.1394562\tbest: 0.1391216 (705)\ttotal: 1m 22s\tremaining: 0us\n",
      "\n",
      "bestTest = 0.1391216185\n",
      "bestIteration = 705\n",
      "\n",
      "Shrink model to first 706 iterations.\n"
     ]
    },
    {
     "data": {
      "text/plain": [
       "<catboost.core.CatBoostClassifier at 0x1a8ea9cae50>"
      ]
     },
     "execution_count": 25,
     "metadata": {},
     "output_type": "execute_result"
    }
   ],
   "source": [
    "model1 = CatBoostClassifier(\n",
    "    learning_rate=0.5,\n",
    "    iterations=1000,\n",
    "    random_seed=64,\n",
    "    train_dir='learning_rate_0.5',\n",
    "    custom_loss = ['Accuracy']\n",
    ")\n",
    "\n",
    "model2 = CatBoostClassifier(\n",
    "    learning_rate=0.05,\n",
    "    iterations=1000,\n",
    "    random_seed=64,\n",
    "    train_dir='learning_rate_0.05',\n",
    "    custom_loss = ['Accuracy']\n",
    ")\n",
    "model1.fit(\n",
    "    X_train, y_train,\n",
    "    eval_set=(X_val, y_val),\n",
    "    cat_features=cat_features,\n",
    "    verbose=100\n",
    ")\n",
    "model2.fit(\n",
    "    X_train, y_train,\n",
    "    eval_set=(X_val, y_val),\n",
    "    cat_features=cat_features,\n",
    "    verbose=100\n",
    ")"
   ]
  },
  {
   "cell_type": "code",
   "execution_count": 26,
   "metadata": {
    "colab": {
     "base_uri": "https://localhost:8080/",
     "height": 17,
     "referenced_widgets": [
      "b33461fb2f764671a508196646c9a383"
     ]
    },
    "id": "UsnFQmd2jSqt",
    "outputId": "25bafcd9-b98a-4159-e7f9-17d2756b6894"
   },
   "outputs": [
    {
     "data": {
      "application/vnd.jupyter.widget-view+json": {
       "model_id": "3bc509f85a07464cbd9f224b403bef42",
       "version_major": 2,
       "version_minor": 0
      },
      "text/plain": [
       "MetricVisualizer(layout=Layout(align_self='stretch', height='500px'))"
      ]
     },
     "metadata": {},
     "output_type": "display_data"
    }
   ],
   "source": [
    "from catboost import MetricVisualizer\n",
    "MetricVisualizer(['learning_rate_0.05', 'learning_rate_0.5']).start()"
   ]
  },
  {
   "cell_type": "code",
   "execution_count": 27,
   "metadata": {
    "id": "RjxGv5oVpcf7"
   },
   "outputs": [
    {
     "name": "stdout",
     "output_type": "stream",
     "text": [
      "Learning rate set to 0.288002\n",
      "\n",
      "bestTest = 0.1588461462\n",
      "bestIteration = 38\n",
      "\n",
      "Shrink model to first 39 iterations.\n"
     ]
    },
    {
     "data": {
      "text/plain": [
       "<catboost.core.CatBoostClassifier at 0x1a8ea9cad90>"
      ]
     },
     "execution_count": 27,
     "metadata": {},
     "output_type": "execute_result"
    }
   ],
   "source": [
    "model = CatBoostClassifier(\n",
    "    iterations=40,\n",
    "    save_snapshot=True,\n",
    "    snapshot_file='snapshot.bkp',\n",
    "    random_seed=43\n",
    ")\n",
    "model.fit(\n",
    "    X_train, y_train,\n",
    "    eval_set=(X_val, y_val),\n",
    "    cat_features=cat_features,\n",
    "    logging_level='Verbose'\n",
    ")"
   ]
  },
  {
   "cell_type": "code",
   "execution_count": 28,
   "metadata": {},
   "outputs": [
    {
     "name": "stdout",
     "output_type": "stream",
     "text": [
      "[1 1 1 ... 1 1 1]\n"
     ]
    }
   ],
   "source": [
    "print(model.predict(data=X_val))"
   ]
  },
  {
   "cell_type": "markdown",
   "metadata": {},
   "source": [
    "### Feature importances"
   ]
  },
  {
   "cell_type": "code",
   "execution_count": 29,
   "metadata": {},
   "outputs": [
    {
     "name": "stdout",
     "output_type": "stream",
     "text": [
      "Learning rate set to 0.137885\n",
      "0:\tlearn: 0.5382281\ttotal: 72.3ms\tremaining: 21.6s\n",
      "50:\tlearn: 0.1491560\ttotal: 3.26s\tremaining: 15.9s\n",
      "100:\tlearn: 0.1420838\ttotal: 6.88s\tremaining: 13.6s\n",
      "150:\tlearn: 0.1367733\ttotal: 10.5s\tremaining: 10.3s\n",
      "200:\tlearn: 0.1328624\ttotal: 14.3s\tremaining: 7.03s\n",
      "250:\tlearn: 0.1286074\ttotal: 18s\tremaining: 3.52s\n",
      "299:\tlearn: 0.1251185\ttotal: 21.6s\tremaining: 0us\n"
     ]
    },
    {
     "data": {
      "text/plain": [
       "<catboost.core.CatBoostClassifier at 0x1a8ea9ca6a0>"
      ]
     },
     "execution_count": 29,
     "metadata": {},
     "output_type": "execute_result"
    }
   ],
   "source": [
    "model = CatBoostClassifier(\n",
    "    iterations=300,\n",
    "    max_ctr_complexity=4,\n",
    "    random_seed=43\n",
    ")\n",
    "model.fit(\n",
    "    X, y,\n",
    "    cat_features=cat_features,\n",
    "    verbose=50\n",
    ")"
   ]
  },
  {
   "cell_type": "code",
   "execution_count": 30,
   "metadata": {},
   "outputs": [
    {
     "name": "stdout",
     "output_type": "stream",
     "text": [
      "         Feature Id  Importances\n",
      "0          RESOURCE    21.869747\n",
      "1     ROLE_DEPTNAME    16.984904\n",
      "2            MGR_ID    16.436590\n",
      "3     ROLE_ROLLUP_2    11.469503\n",
      "4  ROLE_FAMILY_DESC     9.798158\n",
      "5        ROLE_TITLE     8.632741\n",
      "6     ROLE_ROLLUP_1     6.254129\n",
      "7         ROLE_CODE     4.344507\n",
      "8       ROLE_FAMILY     4.209722\n"
     ]
    }
   ],
   "source": [
    "importances = model.get_feature_importance(prettified=True)\n",
    "print(importances)"
   ]
  },
  {
   "cell_type": "markdown",
   "metadata": {},
   "source": [
    "### Hyperparameter Tuning"
   ]
  },
  {
   "cell_type": "code",
   "execution_count": 31,
   "metadata": {},
   "outputs": [
    {
     "data": {
      "application/vnd.jupyter.widget-view+json": {
       "model_id": "3c1a1a72d75a4ce2a7287c757d45c947",
       "version_major": 2,
       "version_minor": 0
      },
      "text/plain": [
       "MetricVisualizer(layout=Layout(align_self='stretch', height='500px'))"
      ]
     },
     "metadata": {},
     "output_type": "display_data"
    },
    {
     "data": {
      "text/plain": [
       "<catboost.core.CatBoostClassifier at 0x1a8ea241400>"
      ]
     },
     "execution_count": 31,
     "metadata": {},
     "output_type": "execute_result"
    }
   ],
   "source": [
    "fast_model = CatBoostClassifier(\n",
    "    random_seed=63,\n",
    "    iterations=150,\n",
    "    learning_rate=0.01,\n",
    "    boosting_type='Plain',\n",
    "    bootstrap_type='Bernoulli',\n",
    "    subsample=0.5,\n",
    "    one_hot_max_size=20,\n",
    "    rsm=0.5,\n",
    "    leaf_estimation_iterations=5,\n",
    "    max_ctr_complexity=1,\n",
    "    border_count=32)\n",
    "\n",
    "fast_model.fit(\n",
    "    X_train, y_train,\n",
    "    cat_features=cat_features,\n",
    "    logging_level='Silent',\n",
    "    plot=True\n",
    ")"
   ]
  },
  {
   "cell_type": "markdown",
   "metadata": {},
   "source": [
    "### Accuracy"
   ]
  },
  {
   "cell_type": "code",
   "execution_count": 33,
   "metadata": {},
   "outputs": [
    {
     "data": {
      "application/vnd.jupyter.widget-view+json": {
       "model_id": "74d415390c58418495fc81079428bb6e",
       "version_major": 2,
       "version_minor": 0
      },
      "text/plain": [
       "MetricVisualizer(layout=Layout(align_self='stretch', height='500px'))"
      ]
     },
     "metadata": {},
     "output_type": "display_data"
    },
    {
     "data": {
      "text/plain": [
       "<catboost.core.CatBoostClassifier at 0x1a8ea241c10>"
      ]
     },
     "execution_count": 33,
     "metadata": {},
     "output_type": "execute_result"
    }
   ],
   "source": [
    "tunned_model = CatBoostClassifier(\n",
    "    random_seed=63,\n",
    "    iterations=1000,\n",
    "    learning_rate=0.03,\n",
    "    l2_leaf_reg=3,\n",
    "    bagging_temperature=1,\n",
    "    random_strength=1,\n",
    "    one_hot_max_size=2,\n",
    "    leaf_estimation_method='Newton',\n",
    "    depth=6\n",
    ")\n",
    "tunned_model.fit(\n",
    "    X_train, y_train,\n",
    "    cat_features=cat_features,\n",
    "    logging_level='Silent',\n",
    "    eval_set=(X_val, y_val),\n",
    "    plot=True\n",
    ")"
   ]
  },
  {
   "cell_type": "code",
   "execution_count": null,
   "metadata": {},
   "outputs": [],
   "source": []
  }
 ],
 "metadata": {
  "colab": {
   "collapsed_sections": [],
   "name": "CatBoost Classification.ipynb",
   "provenance": []
  },
  "kernelspec": {
   "display_name": "Python 3",
   "language": "python",
   "name": "python3"
  },
  "language_info": {
   "codemirror_mode": {
    "name": "ipython",
    "version": 3
   },
   "file_extension": ".py",
   "mimetype": "text/x-python",
   "name": "python",
   "nbconvert_exporter": "python",
   "pygments_lexer": "ipython3",
   "version": "3.8.8"
  },
  "widgets": {
   "application/vnd.jupyter.widget-state+json": {
    "b33461fb2f764671a508196646c9a383": {
     "model_module": "catboost-widget",
     "model_module_version": "^1.0.0",
     "model_name": "CatboostWidgetModel",
     "state": {
      "_dom_classes": [],
      "_model_module": "catboost-widget",
      "_model_module_version": "^1.0.0",
      "_model_name": "CatboostWidgetModel",
      "_view_count": null,
      "_view_module": "catboost-widget",
      "_view_module_version": "^1.0.0",
      "_view_name": "CatboostWidgetView",
      "data": {
       "learning_rate_0.05": {
        "content": {
         "data": {
          "iterations": [
           {
            "iteration": 0,
            "learn": [
             0.6347305838,
             0.9420942209
            ],
            "passed_time": 0.01574708026,
            "remaining_time": 15.73133318,
            "test": [
             0.6347197922,
             0.942172719
            ]
           },
           {
            "iteration": 1,
            "learn": [
             0.5816257342,
             0.9420942209
            ],
            "passed_time": 0.05147471332,
            "remaining_time": 25.68588195,
            "test": [
             0.5808366136,
             0.942172719
            ]
           },
           {
            "iteration": 2,
            "learn": [
             0.5357567932,
             0.9420942209
            ],
            "passed_time": 0.07970576238,
            "remaining_time": 26.4888817,
            "test": [
             0.5356146599,
             0.942172719
            ]
           },
           {
            "iteration": 3,
            "learn": [
             0.4967335931,
             0.9420942209
            ],
            "passed_time": 0.1150218261,
            "remaining_time": 28.64043471,
            "test": [
             0.4965878009,
             0.942172719
            ]
           },
           {
            "iteration": 4,
            "learn": [
             0.4619915744,
             0.9420942209
            ],
            "passed_time": 0.1489825609,
            "remaining_time": 29.64752962,
            "test": [
             0.461513686,
             0.942172719
            ]
           },
           {
            "iteration": 5,
            "learn": [
             0.432098451,
             0.9420942209
            ],
            "passed_time": 0.1764662533,
            "remaining_time": 29.23457596,
            "test": [
             0.4316635273,
             0.942172719
            ]
           },
           {
            "iteration": 6,
            "learn": [
             0.4058954627,
             0.9420942209
            ],
            "passed_time": 0.1960100153,
            "remaining_time": 27.80542074,
            "test": [
             0.4054760018,
             0.942172719
            ]
           },
           {
            "iteration": 7,
            "learn": [
             0.3829843768,
             0.9420942209
            ],
            "passed_time": 0.2323035647,
            "remaining_time": 28.80564203,
            "test": [
             0.3825984234,
             0.942172719
            ]
           },
           {
            "iteration": 8,
            "learn": [
             0.3632353807,
             0.9420942209
            ],
            "passed_time": 0.2447734816,
            "remaining_time": 26.95228003,
            "test": [
             0.3628842246,
             0.942172719
            ]
           },
           {
            "iteration": 9,
            "learn": [
             0.3457019908,
             0.9420942209
            ],
            "passed_time": 0.2615279849,
            "remaining_time": 25.8912705,
            "test": [
             0.3451331753,
             0.942172719
            ]
           },
           {
            "iteration": 10,
            "learn": [
             0.329291015,
             0.9420942209
            ],
            "passed_time": 0.2992115056,
            "remaining_time": 26.90183446,
            "test": [
             0.3287688403,
             0.942172719
            ]
           },
           {
            "iteration": 11,
            "learn": [
             0.3142850795,
             0.9420942209
            ],
            "passed_time": 0.3358504322,
            "remaining_time": 27.65168559,
            "test": [
             0.3135439931,
             0.942172719
            ]
           },
           {
            "iteration": 12,
            "learn": [
             0.2995329811,
             0.9420942209
            ],
            "passed_time": 0.3787037415,
            "remaining_time": 28.7523533,
            "test": [
             0.2985466968,
             0.942172719
            ]
           },
           {
            "iteration": 13,
            "learn": [
             0.2877446858,
             0.9420942209
            ],
            "passed_time": 0.4218388846,
            "remaining_time": 29.70951002,
            "test": [
             0.2866413707,
             0.942172719
            ]
           },
           {
            "iteration": 14,
            "learn": [
             0.276499433,
             0.9420942209
            ],
            "passed_time": 0.4557459739,
            "remaining_time": 29.92731896,
            "test": [
             0.2750182066,
             0.942172719
            ]
           },
           {
            "iteration": 15,
            "learn": [
             0.266487785,
             0.9420942209
            ],
            "passed_time": 0.4945872998,
            "remaining_time": 30.41711894,
            "test": [
             0.2651170269,
             0.942172719
            ]
           },
           {
            "iteration": 16,
            "learn": [
             0.2579857591,
             0.9420942209
            ],
            "passed_time": 0.5357466722,
            "remaining_time": 30.97876346,
            "test": [
             0.2562591121,
             0.942172719
            ]
           },
           {
            "iteration": 17,
            "learn": [
             0.2497747531,
             0.9420942209
            ],
            "passed_time": 0.5765177807,
            "remaining_time": 31.45224781,
            "test": [
             0.2481470053,
             0.942172719
            ]
           },
           {
            "iteration": 18,
            "learn": [
             0.2420662049,
             0.9420942209
            ],
            "passed_time": 0.6207964225,
            "remaining_time": 32.0526995,
            "test": [
             0.2400476458,
             0.942172719
            ]
           },
           {
            "iteration": 19,
            "learn": [
             0.2337307516,
             0.9420942209
            ],
            "passed_time": 0.6699812605,
            "remaining_time": 32.82908177,
            "test": [
             0.2307715031,
             0.942172719
            ]
           },
           {
            "iteration": 20,
            "learn": [
             0.2304266506,
             0.9420942209
            ],
            "passed_time": 0.6826940249,
            "remaining_time": 31.82654526,
            "test": [
             0.2276250585,
             0.942172719
            ]
           },
           {
            "iteration": 21,
            "learn": [
             0.2240605286,
             0.9420942209
            ],
            "passed_time": 0.7330622787,
            "remaining_time": 32.58795039,
            "test": [
             0.2208757634,
             0.942172719
            ]
           },
           {
            "iteration": 22,
            "learn": [
             0.218192361,
             0.9420942209
            ],
            "passed_time": 0.7798495571,
            "remaining_time": 33.12665292,
            "test": [
             0.214312012,
             0.942172719
            ]
           },
           {
            "iteration": 23,
            "learn": [
             0.2134168287,
             0.9420942209
            ],
            "passed_time": 0.8433918596,
            "remaining_time": 34.29793562,
            "test": [
             0.2091257899,
             0.942172719
            ]
           },
           {
            "iteration": 24,
            "learn": [
             0.2093492548,
             0.9420942209
            ],
            "passed_time": 0.8840311655,
            "remaining_time": 34.47721545,
            "test": [
             0.204725522,
             0.942172719
            ]
           },
           {
            "iteration": 25,
            "learn": [
             0.2057342085,
             0.942132367
            ],
            "passed_time": 0.9043286198,
            "remaining_time": 33.87754137,
            "test": [
             0.2008390323,
             0.942172719
            ]
           },
           {
            "iteration": 26,
            "learn": [
             0.2026516162,
             0.942132367
            ],
            "passed_time": 0.9250303042,
            "remaining_time": 33.33535133,
            "test": [
             0.1974090116,
             0.942172719
            ]
           },
           {
            "iteration": 27,
            "learn": [
             0.1994762538,
             0.942132367
            ],
            "passed_time": 0.9590444617,
            "remaining_time": 33.29254346,
            "test": [
             0.1939305693,
             0.942172719
            ]
           },
           {
            "iteration": 28,
            "learn": [
             0.196497185,
             0.942132367
            ],
            "passed_time": 1.015989309,
            "remaining_time": 34.01812479,
            "test": [
             0.1904466772,
             0.942172719
            ]
           },
           {
            "iteration": 29,
            "learn": [
             0.1941189542,
             0.9421705131
            ],
            "passed_time": 1.049651568,
            "remaining_time": 33.93873404,
            "test": [
             0.1877466951,
             0.942172719
            ]
           },
           {
            "iteration": 30,
            "learn": [
             0.1916155714,
             0.9423612436
            ],
            "passed_time": 1.092371982,
            "remaining_time": 34.1454339,
            "test": [
             0.184985555,
             0.942172719
            ]
           },
           {
            "iteration": 31,
            "learn": [
             0.1892998172,
             0.9423612436
            ],
            "passed_time": 1.131169509,
            "remaining_time": 34.21787764,
            "test": [
             0.1821106374,
             0.942172719
            ]
           },
           {
            "iteration": 32,
            "learn": [
             0.1872052625,
             0.9423612436
            ],
            "passed_time": 1.176324237,
            "remaining_time": 34.46986475,
            "test": [
             0.179610903,
             0.942172719
            ]
           },
           {
            "iteration": 33,
            "learn": [
             0.1853883714,
             0.9430478734
            ],
            "passed_time": 1.212874747,
            "remaining_time": 34.45991194,
            "test": [
             0.1774584874,
             0.9417149832
            ]
           },
           {
            "iteration": 34,
            "learn": [
             0.1838712754,
             0.9432004578
            ],
            "passed_time": 1.254072562,
            "remaining_time": 34.57657208,
            "test": [
             0.175758216,
             0.9427830333
            ]
           },
           {
            "iteration": 35,
            "learn": [
             0.1823136931,
             0.9433911883
            ],
            "passed_time": 1.287707529,
            "remaining_time": 34.48194604,
            "test": [
             0.1739144858,
             0.9426304547
            ]
           },
           {
            "iteration": 36,
            "learn": [
             0.180935964,
             0.9438489414
            ],
            "passed_time": 1.345369326,
            "remaining_time": 35.01596381,
            "test": [
             0.1722784229,
             0.9433933476
            ]
           },
           {
            "iteration": 37,
            "learn": [
             0.1797190455,
             0.9441541102
            ],
            "passed_time": 1.391710371,
            "remaining_time": 35.23224676,
            "test": [
             0.1708745629,
             0.9435459262
            ]
           },
           {
            "iteration": 38,
            "learn": [
             0.1787889305,
             0.9443448407
            ],
            "passed_time": 1.428358182,
            "remaining_time": 35.19621059,
            "test": [
             0.1697546588,
             0.9435459262
            ]
           },
           {
            "iteration": 39,
            "learn": [
             0.1776094596,
             0.9448788861
            ],
            "passed_time": 1.475306389,
            "remaining_time": 35.40735335,
            "test": [
             0.1684158585,
             0.9438510833
            ]
           },
           {
            "iteration": 40,
            "learn": [
             0.176823378,
             0.9454129315
            ],
            "passed_time": 1.522505661,
            "remaining_time": 35.61177875,
            "test": [
             0.1675439116,
             0.9441562405
            ]
           },
           {
            "iteration": 41,
            "learn": [
             0.1757732796,
             0.9454892237
            ],
            "passed_time": 1.573046179,
            "remaining_time": 35.88043426,
            "test": [
             0.1664376459,
             0.9444613976
            ]
           },
           {
            "iteration": 42,
            "learn": [
             0.1750804438,
             0.9455273698
            ],
            "passed_time": 1.619331948,
            "remaining_time": 36.03955057,
            "test": [
             0.1655780161,
             0.9447665548
            ]
           },
           {
            "iteration": 43,
            "learn": [
             0.1740988227,
             0.9455273698
            ],
            "passed_time": 1.659672826,
            "remaining_time": 36.06016413,
            "test": [
             0.164346748,
             0.9452242905
            ]
           },
           {
            "iteration": 44,
            "learn": [
             0.1730078382,
             0.945603662
            ],
            "passed_time": 1.700634048,
            "remaining_time": 36.09123369,
            "test": [
             0.1629715833,
             0.9452242905
            ]
           },
           {
            "iteration": 45,
            "learn": [
             0.1720263856,
             0.9457943925
            ],
            "passed_time": 1.762156581,
            "remaining_time": 36.54559518,
            "test": [
             0.1618073053,
             0.9452242905
            ]
           },
           {
            "iteration": 46,
            "learn": [
             0.1713412097,
             0.9458325386
            ],
            "passed_time": 1.803221025,
            "remaining_time": 36.56318377,
            "test": [
             0.1610402856,
             0.9450717119
            ]
           },
           {
            "iteration": 47,
            "learn": [
             0.1705650279,
             0.9457943925
            ],
            "passed_time": 1.846360938,
            "remaining_time": 36.61949193,
            "test": [
             0.1599906378,
             0.9453768691
            ]
           },
           {
            "iteration": 48,
            "learn": [
             0.1699003897,
             0.9460995613
            ],
            "passed_time": 1.879408243,
            "remaining_time": 36.47586202,
            "test": [
             0.1592120191,
             0.9449191334
            ]
           },
           {
            "iteration": 49,
            "learn": [
             0.1693283505,
             0.9464047301
            ],
            "passed_time": 1.91403441,
            "remaining_time": 36.3666538,
            "test": [
             0.1585885066,
             0.9449191334
            ]
           },
           {
            "iteration": 50,
            "learn": [
             0.1688739779,
             0.9464810223
            ],
            "passed_time": 1.950849693,
            "remaining_time": 36.30110508,
            "test": [
             0.1580297213,
             0.9450717119
            ]
           },
           {
            "iteration": 51,
            "learn": [
             0.1683537138,
             0.9466717528
            ],
            "passed_time": 1.995272926,
            "remaining_time": 36.37536027,
            "test": [
             0.1573325383,
             0.9456820262
            ]
           },
           {
            "iteration": 52,
            "learn": [
             0.167975546,
             0.9467861911
            ],
            "passed_time": 2.051802263,
            "remaining_time": 36.66144798,
            "test": [
             0.1569706946,
             0.9459871834
            ]
           },
           {
            "iteration": 53,
            "learn": [
             0.1675184351,
             0.9471676521
            ],
            "passed_time": 2.111151834,
            "remaining_time": 36.9842525,
            "test": [
             0.1564371762,
             0.946139762
            ]
           },
           {
            "iteration": 54,
            "learn": [
             0.1671740008,
             0.9472057982
            ],
            "passed_time": 2.152996024,
            "remaining_time": 36.99238624,
            "test": [
             0.1560727391,
             0.9459871834
            ]
           },
           {
            "iteration": 55,
            "learn": [
             0.1668816495,
             0.9472057982
            ],
            "passed_time": 2.192137039,
            "remaining_time": 36.95316723,
            "test": [
             0.1557050379,
             0.9459871834
            ]
           },
           {
            "iteration": 56,
            "learn": [
             0.1663814203,
             0.9474728209
            ],
            "passed_time": 2.239614249,
            "remaining_time": 37.05186381,
            "test": [
             0.1551947291,
             0.9465974977
            ]
           },
           {
            "iteration": 57,
            "learn": [
             0.1659768731,
             0.9477016975
            ],
            "passed_time": 2.279312643,
            "remaining_time": 37.01918121,
            "test": [
             0.1547753411,
             0.9464449191
            ]
           },
           {
            "iteration": 58,
            "learn": [
             0.165607699,
             0.9478542819
            ],
            "passed_time": 2.320961457,
            "remaining_time": 37.01736832,
            "test": [
             0.1544024696,
             0.9464449191
            ]
           },
           {
            "iteration": 59,
            "learn": [
             0.1649395204,
             0.9480068663
            ],
            "passed_time": 2.370743537,
            "remaining_time": 37.14164875,
            "test": [
             0.1536708147,
             0.9465974977
            ]
           },
           {
            "iteration": 60,
            "learn": [
             0.1642295218,
             0.9481975968
            ],
            "passed_time": 2.437222289,
            "remaining_time": 37.51724147,
            "test": [
             0.1528500966,
             0.9475129692
            ]
           },
           {
            "iteration": 61,
            "learn": [
             0.1636882906,
             0.9484646195
            ],
            "passed_time": 2.489973561,
            "remaining_time": 37.67089032,
            "test": [
             0.1522941519,
             0.9473603906
            ]
           },
           {
            "iteration": 62,
            "learn": [
             0.1631225148,
             0.9487697883
            ],
            "passed_time": 2.536341405,
            "remaining_time": 37.72304598,
            "test": [
             0.1517645845,
             0.9476655478
            ]
           },
           {
            "iteration": 63,
            "learn": [
             0.1625800807,
             0.9491131032
            ],
            "passed_time": 2.588686145,
            "remaining_time": 37.85953487,
            "test": [
             0.1511805171,
             0.9482758621
            ]
           },
           {
            "iteration": 64,
            "learn": [
             0.1621606736,
             0.9492656876
            ],
            "passed_time": 2.631186111,
            "remaining_time": 37.84860021,
            "test": [
             0.150776099,
             0.9482758621
            ]
           },
           {
            "iteration": 65,
            "learn": [
             0.1617262283,
             0.9494564181
            ],
            "passed_time": 2.705069661,
            "remaining_time": 38.2808343,
            "test": [
             0.1502537641,
             0.9494964907
            ]
           },
           {
            "iteration": 66,
            "learn": [
             0.1613499869,
             0.9494564181
            ],
            "passed_time": 2.759081559,
            "remaining_time": 38.42124022,
            "test": [
             0.1498297175,
             0.9494964907
            ]
           },
           {
            "iteration": 67,
            "learn": [
             0.161118062,
             0.9494945642
            ],
            "passed_time": 2.825174786,
            "remaining_time": 38.72151324,
            "test": [
             0.1496194484,
             0.9493439121
            ]
           },
           {
            "iteration": 68,
            "learn": [
             0.1608193986,
             0.9496090025
            ],
            "passed_time": 2.877047772,
            "remaining_time": 38.81929676,
            "test": [
             0.1493434834,
             0.9496490693
            ]
           },
           {
            "iteration": 69,
            "learn": [
             0.160661566,
             0.9497615869
            ],
            "passed_time": 2.930122662,
            "remaining_time": 38.92877251,
            "test": [
             0.1491714479,
             0.9496490693
            ]
           },
           {
            "iteration": 70,
            "learn": [
             0.1604779436,
             0.9497234408
            ],
            "passed_time": 2.977578947,
            "remaining_time": 38.9601527,
            "test": [
             0.1489962981,
             0.9496490693
            ]
           },
           {
            "iteration": 71,
            "learn": [
             0.1601533795,
             0.949799733
            ],
            "passed_time": 3.045353767,
            "remaining_time": 39.25122633,
            "test": [
             0.1486196987,
             0.9504119622
            ]
           },
           {
            "iteration": 72,
            "learn": [
             0.1598890435,
             0.9499141713
            ],
            "passed_time": 3.09994325,
            "remaining_time": 39.36503278,
            "test": [
             0.1482744979,
             0.9507171193
            ]
           },
           {
            "iteration": 73,
            "learn": [
             0.1595922381,
             0.9501430479
            ],
            "passed_time": 3.146842963,
            "remaining_time": 39.37806194,
            "test": [
             0.1479666987,
             0.9507171193
            ]
           },
           {
            "iteration": 74,
            "learn": [
             0.1594755427,
             0.950181194
            ],
            "passed_time": 3.192621426,
            "remaining_time": 39.37566426,
            "test": [
             0.1478788975,
             0.950106805
            ]
           },
           {
            "iteration": 75,
            "learn": [
             0.1592337276,
             0.9502193401
            ],
            "passed_time": 3.256758324,
            "remaining_time": 39.59532488,
            "test": [
             0.147627986,
             0.9502593836
            ]
           },
           {
            "iteration": 76,
            "learn": [
             0.159083181,
             0.9504863628
            ],
            "passed_time": 3.318833449,
            "remaining_time": 39.78289966,
            "test": [
             0.1475248189,
             0.9504119622
            ]
           },
           {
            "iteration": 77,
            "learn": [
             0.1588406782,
             0.9506008011
            ],
            "passed_time": 3.373048213,
            "remaining_time": 39.87115964,
            "test": [
             0.1472316746,
             0.9504119622
            ]
           },
           {
            "iteration": 78,
            "learn": [
             0.1586031433,
             0.9507152394
            ],
            "passed_time": 3.436161443,
            "remaining_time": 40.05955303,
            "test": [
             0.1469814883,
             0.9502593836
            ]
           },
           {
            "iteration": 79,
            "learn": [
             0.1583390881,
             0.9507915316
            ],
            "passed_time": 3.502264579,
            "remaining_time": 40.27604266,
            "test": [
             0.1467411792,
             0.9507171193
            ]
           },
           {
            "iteration": 80,
            "learn": [
             0.1582187758,
             0.9508296777
            ],
            "passed_time": 3.573804289,
            "remaining_time": 40.54723631,
            "test": [
             0.1466213873,
             0.9510222765
            ]
           },
           {
            "iteration": 81,
            "learn": [
             0.1579915651,
             0.9508296777
            ],
            "passed_time": 3.624744616,
            "remaining_time": 40.57945802,
            "test": [
             0.1463491299,
             0.9508696979
            ]
           },
           {
            "iteration": 82,
            "learn": [
             0.157727408,
             0.9509822621
            ],
            "passed_time": 3.672726052,
            "remaining_time": 40.57698542,
            "test": [
             0.1461916172,
             0.9510222765
            ]
           },
           {
            "iteration": 83,
            "learn": [
             0.1576524213,
             0.9509822621
            ],
            "passed_time": 3.739365598,
            "remaining_time": 40.77689152,
            "test": [
             0.1461554744,
             0.9514800122
            ]
           },
           {
            "iteration": 84,
            "learn": [
             0.1573497548,
             0.9512492848
            ],
            "passed_time": 3.800094141,
            "remaining_time": 40.90689575,
            "test": [
             0.1460300741,
             0.9513274336
            ]
           },
           {
            "iteration": 85,
            "learn": [
             0.1570378985,
             0.9512492848
            ],
            "passed_time": 3.873987779,
            "remaining_time": 41.17238174,
            "test": [
             0.1459136504,
             0.9514800122
            ]
           },
           {
            "iteration": 86,
            "learn": [
             0.1568521614,
             0.9514781614
            ],
            "passed_time": 3.934611077,
            "remaining_time": 41.2908036,
            "test": [
             0.1457444536,
             0.9516325908
            ]
           },
           {
            "iteration": 87,
            "learn": [
             0.1565223136,
             0.9516307458
            ],
            "passed_time": 4.004227042,
            "remaining_time": 41.49835298,
            "test": [
             0.1455932397,
             0.9514800122
            ]
           },
           {
            "iteration": 88,
            "learn": [
             0.1561404121,
             0.9517833302
            ],
            "passed_time": 4.075402087,
            "remaining_time": 41.71563259,
            "test": [
             0.1453924186,
             0.9516325908
            ]
           },
           {
            "iteration": 89,
            "learn": [
             0.1558636008,
             0.9518596224
            ],
            "passed_time": 4.152107202,
            "remaining_time": 41.98241726,
            "test": [
             0.1451841578,
             0.9516325908
            ]
           },
           {
            "iteration": 90,
            "learn": [
             0.1555558331,
             0.9518596224
            ],
            "passed_time": 4.192467213,
            "remaining_time": 41.87860106,
            "test": [
             0.1449975063,
             0.9516325908
            ]
           },
           {
            "iteration": 91,
            "learn": [
             0.155474778,
             0.9520122068
            ],
            "passed_time": 4.256973863,
            "remaining_time": 42.01448116,
            "test": [
             0.1448954129,
             0.9517851694
            ]
           },
           {
            "iteration": 92,
            "learn": [
             0.155257321,
             0.9520122068
            ],
            "passed_time": 4.327799162,
            "remaining_time": 42.20767569,
            "test": [
             0.1447122213,
             0.9516325908
            ]
           },
           {
            "iteration": 93,
            "learn": [
             0.1550573819,
             0.952088499
            ],
            "passed_time": 4.378306882,
            "remaining_time": 42.1994259,
            "test": [
             0.1445725165,
             0.9516325908
            ]
           },
           {
            "iteration": 94,
            "learn": [
             0.1547923488,
             0.9521266451
            ],
            "passed_time": 4.422422617,
            "remaining_time": 42.12939441,
            "test": [
             0.1444711399,
             0.9516325908
            ]
           },
           {
            "iteration": 95,
            "learn": [
             0.1547172511,
             0.952088499
            ],
            "passed_time": 4.476382002,
            "remaining_time": 42.15259718,
            "test": [
             0.1444148508,
             0.9517851694
            ]
           },
           {
            "iteration": 96,
            "learn": [
             0.1545713593,
             0.9521266451
            ],
            "passed_time": 4.550426185,
            "remaining_time": 42.36118397,
            "test": [
             0.1443466903,
             0.9517851694
            ]
           },
           {
            "iteration": 97,
            "learn": [
             0.1543632678,
             0.9522410833
            ],
            "passed_time": 4.603715951,
            "remaining_time": 42.37297743,
            "test": [
             0.1441749476,
             0.9519377479
            ]
           },
           {
            "iteration": 98,
            "learn": [
             0.1542488225,
             0.9523173755
            ],
            "passed_time": 4.665107297,
            "remaining_time": 42.45718863,
            "test": [
             0.1441261082,
             0.9519377479
            ]
           },
           {
            "iteration": 99,
            "learn": [
             0.1540729553,
             0.9523936677
            ],
            "passed_time": 4.711049216,
            "remaining_time": 42.39944294,
            "test": [
             0.1440503039,
             0.9517851694
            ]
           },
           {
            "iteration": 100,
            "learn": [
             0.153974967,
             0.9523936677
            ],
            "passed_time": 4.76205894,
            "remaining_time": 42.38703947,
            "test": [
             0.1440302986,
             0.9517851694
            ]
           },
           {
            "iteration": 101,
            "learn": [
             0.1538340065,
             0.9525843982
            ],
            "passed_time": 4.819046544,
            "remaining_time": 42.42650781,
            "test": [
             0.1439708826,
             0.9519377479
            ]
           },
           {
            "iteration": 102,
            "learn": [
             0.15363072,
             0.9526988365
            ],
            "passed_time": 4.882571925,
            "remaining_time": 42.521039,
            "test": [
             0.1438520029,
             0.9522429051
            ]
           },
           {
            "iteration": 103,
            "learn": [
             0.1535635953,
             0.9526225443
            ],
            "passed_time": 4.948055078,
            "remaining_time": 42.6293976,
            "test": [
             0.1438201463,
             0.9527006408
            ]
           },
           {
            "iteration": 104,
            "learn": [
             0.1534851964,
             0.952508106
            ],
            "passed_time": 4.997722429,
            "remaining_time": 42.59963404,
            "test": [
             0.1437836171,
             0.9523954837
            ]
           },
           {
            "iteration": 105,
            "learn": [
             0.1534145419,
             0.9526606904
            ],
            "passed_time": 5.052861425,
            "remaining_time": 42.61564259,
            "test": [
             0.143711797,
             0.9523954837
            ]
           },
           {
            "iteration": 106,
            "learn": [
             0.1532576681,
             0.9526606904
            ],
            "passed_time": 5.111183862,
            "remaining_time": 42.65688962,
            "test": [
             0.1436731098,
             0.9522429051
            ]
           },
           {
            "iteration": 107,
            "learn": [
             0.1531437492,
             0.9528514209
            ],
            "passed_time": 5.163725716,
            "remaining_time": 42.64854943,
            "test": [
             0.1435994928,
             0.9522429051
            ]
           },
           {
            "iteration": 108,
            "learn": [
             0.1530879976,
             0.9528132748
            ],
            "passed_time": 5.239633299,
            "remaining_time": 42.83039697,
            "test": [
             0.1435540065,
             0.9523954837
            ]
           },
           {
            "iteration": 109,
            "learn": [
             0.1530035164,
             0.9527751287
            ],
            "passed_time": 5.296356292,
            "remaining_time": 42.85233727,
            "test": [
             0.1435490574,
             0.9523954837
            ]
           },
           {
            "iteration": 110,
            "learn": [
             0.1529471841,
             0.9528132748
            ],
            "passed_time": 5.352564008,
            "remaining_time": 42.86873336,
            "test": [
             0.1434867866,
             0.9525480623
            ]
           },
           {
            "iteration": 111,
            "learn": [
             0.1528450184,
             0.952889567
            ],
            "passed_time": 5.414996394,
            "remaining_time": 42.9331857,
            "test": [
             0.1434688076,
             0.9525480623
            ]
           },
           {
            "iteration": 112,
            "learn": [
             0.1527379238,
             0.952889567
            ],
            "passed_time": 5.475065647,
            "remaining_time": 42.97684274,
            "test": [
             0.1434586581,
             0.9523954837
            ]
           },
           {
            "iteration": 113,
            "learn": [
             0.1526535831,
             0.9530040053
            ],
            "passed_time": 5.527379655,
            "remaining_time": 42.95840679,
            "test": [
             0.1434528502,
             0.9525480623
            ]
           },
           {
            "iteration": 114,
            "learn": [
             0.1525894272,
             0.9531565897
            ],
            "passed_time": 5.592591471,
            "remaining_time": 43.03863871,
            "test": [
             0.1434206779,
             0.953005798
            ]
           },
           {
            "iteration": 115,
            "learn": [
             0.1525313162,
             0.9531184436
            ],
            "passed_time": 5.637378134,
            "remaining_time": 42.96070923,
            "test": [
             0.1433706563,
             0.9531583766
            ]
           },
           {
            "iteration": 116,
            "learn": [
             0.1524174054,
             0.953271028
            ],
            "passed_time": 5.68944074,
            "remaining_time": 42.93825789,
            "test": [
             0.1432674907,
             0.9533109551
            ]
           },
           {
            "iteration": 117,
            "learn": [
             0.1523654169,
             0.953271028
            ],
            "passed_time": 5.744650054,
            "remaining_time": 42.93882498,
            "test": [
             0.1432126389,
             0.9536161123
            ]
           },
           {
            "iteration": 118,
            "learn": [
             0.1522866611,
             0.9534236124
            ],
            "passed_time": 5.805214247,
            "remaining_time": 42.97809875,
            "test": [
             0.1431733538,
             0.9534635337
            ]
           },
           {
            "iteration": 119,
            "learn": [
             0.1522192387,
             0.9533854663
            ],
            "passed_time": 5.866093775,
            "remaining_time": 43.01802102,
            "test": [
             0.1431390095,
             0.9533109551
            ]
           },
           {
            "iteration": 120,
            "learn": [
             0.1521235739,
             0.9534236124
            ],
            "passed_time": 5.948296698,
            "remaining_time": 43.21118014,
            "test": [
             0.143031418,
             0.9536161123
            ]
           },
           {
            "iteration": 121,
            "learn": [
             0.1519908064,
             0.9535761968
            ],
            "passed_time": 6.012124923,
            "remaining_time": 43.26758756,
            "test": [
             0.1429814928,
             0.954073848
            ]
           },
           {
            "iteration": 122,
            "learn": [
             0.1519089718,
             0.9534617585
            ],
            "passed_time": 6.072884561,
            "remaining_time": 43.30016065,
            "test": [
             0.1429342007,
             0.9531583766
            ]
           },
           {
            "iteration": 123,
            "learn": [
             0.1518237485,
             0.9535761968
            ],
            "passed_time": 6.13347068,
            "remaining_time": 43.33000255,
            "test": [
             0.1429301245,
             0.9528532194
            ]
           },
           {
            "iteration": 124,
            "learn": [
             0.1517524443,
             0.9535761968
            ],
            "passed_time": 6.191985715,
            "remaining_time": 43.3439,
            "test": [
             0.1428986578,
             0.9528532194
            ]
           },
           {
            "iteration": 125,
            "learn": [
             0.1516749636,
             0.9534999046
            ],
            "passed_time": 6.248977902,
            "remaining_time": 43.34608481,
            "test": [
             0.1428764109,
             0.9527006408
            ]
           },
           {
            "iteration": 126,
            "learn": [
             0.151631662,
             0.9535761968
            ],
            "passed_time": 6.304835166,
            "remaining_time": 43.33953622,
            "test": [
             0.142869903,
             0.9527006408
            ]
           },
           {
            "iteration": 127,
            "learn": [
             0.1516104774,
             0.9536143429
            ],
            "passed_time": 6.369080494,
            "remaining_time": 43.38936087,
            "test": [
             0.1428518922,
             0.9527006408
            ]
           },
           {
            "iteration": 128,
            "learn": [
             0.1515707724,
             0.9536143429
            ],
            "passed_time": 6.422534366,
            "remaining_time": 43.36455374,
            "test": [
             0.1427994618,
             0.9528532194
            ]
           },
           {
            "iteration": 129,
            "learn": [
             0.1514613653,
             0.953652489
            ],
            "passed_time": 6.487145392,
            "remaining_time": 43.41397301,
            "test": [
             0.1426792181,
             0.9528532194
            ]
           },
           {
            "iteration": 130,
            "learn": [
             0.1513739517,
             0.953652489
            ],
            "passed_time": 6.551605669,
            "remaining_time": 43.46065134,
            "test": [
             0.1426390667,
             0.9528532194
            ]
           },
           {
            "iteration": 131,
            "learn": [
             0.1512781424,
             0.9536143429
            ],
            "passed_time": 6.615094311,
            "remaining_time": 43.49925653,
            "test": [
             0.142628612,
             0.9527006408
            ]
           },
           {
            "iteration": 132,
            "learn": [
             0.1512239415,
             0.9536906351
            ],
            "passed_time": 6.673919637,
            "remaining_time": 43.50592726,
            "test": [
             0.1426119872,
             0.9528532194
            ]
           },
           {
            "iteration": 133,
            "learn": [
             0.1511807431,
             0.9537669273
            ],
            "passed_time": 6.734736994,
            "remaining_time": 43.5244943,
            "test": [
             0.1426351825,
             0.953005798
            ]
           },
           {
            "iteration": 134,
            "learn": [
             0.1511429769,
             0.9537287812
            ],
            "passed_time": 6.793544816,
            "remaining_time": 43.52900938,
            "test": [
             0.142608965,
             0.953005798
            ]
           },
           {
            "iteration": 135,
            "learn": [
             0.1510466416,
             0.9538050734
            ],
            "passed_time": 6.864519309,
            "remaining_time": 43.60988738,
            "test": [
             0.1425586515,
             0.9533109551
            ]
           },
           {
            "iteration": 136,
            "learn": [
             0.1509885735,
             0.9539576578
            ],
            "passed_time": 6.938845423,
            "remaining_time": 43.70966131,
            "test": [
             0.1426128884,
             0.9533109551
            ]
           },
           {
            "iteration": 137,
            "learn": [
             0.1509154258,
             0.9539195117
            ],
            "passed_time": 6.994675872,
            "remaining_time": 43.69138117,
            "test": [
             0.1426138719,
             0.9536161123
            ]
           },
           {
            "iteration": 138,
            "learn": [
             0.1507606646,
             0.9539576578
            ],
            "passed_time": 7.066545091,
            "remaining_time": 43.7719088,
            "test": [
             0.1425550485,
             0.9536161123
            ]
           },
           {
            "iteration": 139,
            "learn": [
             0.1506776145,
             0.9538432195
            ],
            "passed_time": 7.12883488,
            "remaining_time": 43.79141426,
            "test": [
             0.1424797551,
             0.9536161123
            ]
           },
           {
            "iteration": 140,
            "learn": [
             0.1506289399,
             0.9538432195
            ],
            "passed_time": 7.18854246,
            "remaining_time": 43.79402818,
            "test": [
             0.142448317,
             0.9533109551
            ]
           },
           {
            "iteration": 141,
            "learn": [
             0.1505455248,
             0.9539195117
            ],
            "passed_time": 7.262918703,
            "remaining_time": 43.88439611,
            "test": [
             0.1424100354,
             0.9534635337
            ]
           },
           {
            "iteration": 142,
            "learn": [
             0.1504181939,
             0.9539195117
            ],
            "passed_time": 7.335836112,
            "remaining_time": 43.96371712,
            "test": [
             0.1423859145,
             0.9536161123
            ]
           },
           {
            "iteration": 143,
            "learn": [
             0.1503446335,
             0.9539576578
            ],
            "passed_time": 7.394737031,
            "remaining_time": 43.95760346,
            "test": [
             0.1423771302,
             0.9536161123
            ]
           },
           {
            "iteration": 144,
            "learn": [
             0.1502890016,
             0.9539576578
            ],
            "passed_time": 7.462710666,
            "remaining_time": 44.00425945,
            "test": [
             0.1422871071,
             0.9534635337
            ]
           },
           {
            "iteration": 145,
            "learn": [
             0.1502257968,
             0.9539195117
            ],
            "passed_time": 7.528781666,
            "remaining_time": 44.03821604,
            "test": [
             0.1422902457,
             0.9534635337
            ]
           },
           {
            "iteration": 146,
            "learn": [
             0.1501652617,
             0.9538432195
            ],
            "passed_time": 7.600679225,
            "remaining_time": 44.10462163,
            "test": [
             0.142231314,
             0.9534635337
            ]
           },
           {
            "iteration": 147,
            "learn": [
             0.1501082206,
             0.9538813656
            ],
            "passed_time": 7.655204875,
            "remaining_time": 44.06915239,
            "test": [
             0.1422062441,
             0.9534635337
            ]
           },
           {
            "iteration": 148,
            "learn": [
             0.1500262483,
             0.9537669273
            ],
            "passed_time": 7.706906645,
            "remaining_time": 44.01729902,
            "test": [
             0.1421449915,
             0.9534635337
            ]
           },
           {
            "iteration": 149,
            "learn": [
             0.1500121498,
             0.9538050734
            ],
            "passed_time": 7.773249535,
            "remaining_time": 44.04841403,
            "test": [
             0.1421423838,
             0.9534635337
            ]
           },
           {
            "iteration": 150,
            "learn": [
             0.1499027931,
             0.9539576578
            ],
            "passed_time": 7.846055796,
            "remaining_time": 44.11457862,
            "test": [
             0.1421849144,
             0.9531583766
            ]
           },
           {
            "iteration": 151,
            "learn": [
             0.1498446545,
             0.9539195117
            ],
            "passed_time": 7.91312107,
            "remaining_time": 44.14688597,
            "test": [
             0.1421816409,
             0.9533109551
            ]
           },
           {
            "iteration": 152,
            "learn": [
             0.1498042438,
             0.9540720961
            ],
            "passed_time": 7.979060024,
            "remaining_time": 44.17165908,
            "test": [
             0.1421828047,
             0.9534635337
            ]
           },
           {
            "iteration": 153,
            "learn": [
             0.1497791299,
             0.95403395
            ],
            "passed_time": 8.059936919,
            "remaining_time": 44.2773158,
            "test": [
             0.1421676167,
             0.9534635337
            ]
           },
           {
            "iteration": 154,
            "learn": [
             0.1497341652,
             0.9541102422
            ],
            "passed_time": 8.133618285,
            "remaining_time": 44.34133839,
            "test": [
             0.1421555006,
             0.9531583766
            ]
           },
           {
            "iteration": 155,
            "learn": [
             0.1496448882,
             0.9540720961
            ],
            "passed_time": 8.183150636,
            "remaining_time": 44.27294319,
            "test": [
             0.1421322643,
             0.9531583766
            ]
           },
           {
            "iteration": 156,
            "learn": [
             0.1495497995,
             0.9541483883
            ],
            "passed_time": 8.240745211,
            "remaining_time": 44.24807779,
            "test": [
             0.1421065924,
             0.9536161123
            ]
           },
           {
            "iteration": 157,
            "learn": [
             0.149506302,
             0.9541865344
            ],
            "passed_time": 8.306653372,
            "remaining_time": 44.26710215,
            "test": [
             0.1420676319,
             0.9539212695
            ]
           },
           {
            "iteration": 158,
            "learn": [
             0.1494530477,
             0.9542628266
            ],
            "passed_time": 8.366791356,
            "remaining_time": 44.25453793,
            "test": [
             0.1420504307,
             0.9537686909
            ]
           },
           {
            "iteration": 159,
            "learn": [
             0.1493853253,
             0.9541865344
            ],
            "passed_time": 8.425208763,
            "remaining_time": 44.23234601,
            "test": [
             0.1420145598,
             0.9539212695
            ]
           },
           {
            "iteration": 160,
            "learn": [
             0.1493284406,
             0.9541483883
            ],
            "passed_time": 8.480058684,
            "remaining_time": 44.19111326,
            "test": [
             0.1420345208,
             0.9537686909
            ]
           },
           {
            "iteration": 161,
            "learn": [
             0.1492697401,
             0.9543009727
            ],
            "passed_time": 8.555381562,
            "remaining_time": 44.25561573,
            "test": [
             0.1419920076,
             0.9539212695
            ]
           },
           {
            "iteration": 162,
            "learn": [
             0.1491695141,
             0.9543772649
            ],
            "passed_time": 8.611923051,
            "remaining_time": 44.2219607,
            "test": [
             0.1419319966,
             0.9539212695
            ]
           },
           {
            "iteration": 163,
            "learn": [
             0.1490420194,
             0.9545679954
            ],
            "passed_time": 8.669792566,
            "remaining_time": 44.19479625,
            "test": [
             0.1419064522,
             0.9539212695
            ]
           },
           {
            "iteration": 164,
            "learn": [
             0.1489815004,
             0.9545679954
            ],
            "passed_time": 8.736310997,
            "remaining_time": 44.21102838,
            "test": [
             0.1418975367,
             0.9536161123
            ]
           },
           {
            "iteration": 165,
            "learn": [
             0.148938511,
             0.9545679954
            ],
            "passed_time": 8.793148024,
            "remaining_time": 44.17762321,
            "test": [
             0.1418888143,
             0.9537686909
            ]
           },
           {
            "iteration": 166,
            "learn": [
             0.1488839642,
             0.9546442876
            ],
            "passed_time": 8.849286819,
            "remaining_time": 44.14045461,
            "test": [
             0.1419188905,
             0.9537686909
            ]
           },
           {
            "iteration": 167,
            "learn": [
             0.1488574255,
             0.9546442876
            ],
            "passed_time": 8.924638398,
            "remaining_time": 44.19820921,
            "test": [
             0.1418911274,
             0.9536161123
            ]
           },
           {
            "iteration": 168,
            "learn": [
             0.1487643217,
             0.9545679954
            ],
            "passed_time": 8.986470501,
            "remaining_time": 44.18791116,
            "test": [
             0.1418893442,
             0.9539212695
            ]
           },
           {
            "iteration": 169,
            "learn": [
             0.1487368236,
             0.9545298493
            ],
            "passed_time": 9.037889091,
            "remaining_time": 44.12616439,
            "test": [
             0.1419065457,
             0.954073848
            ]
           },
           {
            "iteration": 170,
            "learn": [
             0.148678708,
             0.9544917032
            ],
            "passed_time": 9.099361676,
            "remaining_time": 44.1132797,
            "test": [
             0.1419150324,
             0.9539212695
            ]
           },
           {
            "iteration": 171,
            "learn": [
             0.1486180355,
             0.9545298493
            ],
            "passed_time": 9.16456326,
            "remaining_time": 44.11778127,
            "test": [
             0.141871443,
             0.9539212695
            ]
           },
           {
            "iteration": 172,
            "learn": [
             0.148588889,
             0.9545679954
            ],
            "passed_time": 9.232827281,
            "remaining_time": 44.13611654,
            "test": [
             0.1418685406,
             0.954073848
            ]
           },
           {
            "iteration": 173,
            "learn": [
             0.1485384704,
             0.9546061415
            ],
            "passed_time": 9.292621505,
            "remaining_time": 44.11324921,
            "test": [
             0.1418217242,
             0.954073848
            ]
           },
           {
            "iteration": 174,
            "learn": [
             0.1485009516,
             0.9546442876
            ],
            "passed_time": 9.355034338,
            "remaining_time": 44.10230473,
            "test": [
             0.1418169919,
             0.954073848
            ]
           },
           {
            "iteration": 175,
            "learn": [
             0.148479444,
             0.9545298493
            ],
            "passed_time": 9.418887601,
            "remaining_time": 44.09751922,
            "test": [
             0.1418327744,
             0.9539212695
            ]
           },
           {
            "iteration": 176,
            "learn": [
             0.1483937203,
             0.9546442876
            ],
            "passed_time": 9.484301603,
            "remaining_time": 44.09932327,
            "test": [
             0.141765236,
             0.954073848
            ]
           },
           {
            "iteration": 177,
            "learn": [
             0.1483173991,
             0.9546824337
            ],
            "passed_time": 9.552809383,
            "remaining_time": 44.11465906,
            "test": [
             0.1416782069,
             0.9539212695
            ]
           },
           {
            "iteration": 178,
            "learn": [
             0.1482628844,
             0.9546061415
            ],
            "passed_time": 9.616710442,
            "remaining_time": 44.1079289,
            "test": [
             0.1416191034,
             0.9539212695
            ]
           },
           {
            "iteration": 179,
            "learn": [
             0.1481938925,
             0.9546442876
            ],
            "passed_time": 9.67424506,
            "remaining_time": 44.07156083,
            "test": [
             0.1416022074,
             0.9542264266
            ]
           },
           {
            "iteration": 180,
            "learn": [
             0.148138339,
             0.9545679954
            ],
            "passed_time": 9.746162668,
            "remaining_time": 44.10003992,
            "test": [
             0.1415744887,
             0.9543790052
            ]
           },
           {
            "iteration": 181,
            "learn": [
             0.1480987991,
             0.9546061415
            ],
            "passed_time": 9.816428087,
            "remaining_time": 44.11998997,
            "test": [
             0.1415535419,
             0.954073848
            ]
           },
           {
            "iteration": 182,
            "learn": [
             0.1480478986,
             0.9547587259
            ],
            "passed_time": 9.87117979,
            "remaining_time": 44.06969338,
            "test": [
             0.1415307485,
             0.954073848
            ]
           },
           {
            "iteration": 183,
            "learn": [
             0.1479952045,
             0.9547587259
            ],
            "passed_time": 9.939255248,
            "remaining_time": 44.07843632,
            "test": [
             0.1415273398,
             0.9537686909
            ]
           },
           {
            "iteration": 184,
            "learn": [
             0.1479480839,
             0.9548731642
            ],
            "passed_time": 9.999304583,
            "remaining_time": 44.05099046,
            "test": [
             0.1415457272,
             0.9539212695
            ]
           },
           {
            "iteration": 185,
            "learn": [
             0.1479013594,
             0.9549494564
            ],
            "passed_time": 10.05093489,
            "remaining_time": 43.98634948,
            "test": [
             0.1415470624,
             0.9536161123
            ]
           },
           {
            "iteration": 186,
            "learn": [
             0.1478452765,
             0.9550638947
            ],
            "passed_time": 10.12021501,
            "remaining_time": 43.99858185,
            "test": [
             0.1415665135,
             0.9536161123
            ]
           },
           {
            "iteration": 187,
            "learn": [
             0.1478006628,
             0.9550257486
            ],
            "passed_time": 10.1775558,
            "remaining_time": 43.95837929,
            "test": [
             0.1415806992,
             0.9537686909
            ]
           },
           {
            "iteration": 188,
            "learn": [
             0.1477533636,
             0.9550638947
            ],
            "passed_time": 10.23671405,
            "remaining_time": 43.92579413,
            "test": [
             0.1415798467,
             0.9537686909
            ]
           },
           {
            "iteration": 189,
            "learn": [
             0.1477172918,
             0.9550638947
            ],
            "passed_time": 10.29817863,
            "remaining_time": 43.90276153,
            "test": [
             0.1415636305,
             0.9537686909
            ]
           },
           {
            "iteration": 190,
            "learn": [
             0.1476491665,
             0.955178333
            ],
            "passed_time": 10.35861689,
            "remaining_time": 43.87497941,
            "test": [
             0.1415621272,
             0.9537686909
            ]
           },
           {
            "iteration": 191,
            "learn": [
             0.1476489236,
             0.955178333
            ],
            "passed_time": 10.37821772,
            "remaining_time": 43.67499958,
            "test": [
             0.141561817,
             0.9537686909
            ]
           },
           {
            "iteration": 192,
            "learn": [
             0.1476182545,
             0.9551401869
            ],
            "passed_time": 10.45003584,
            "remaining_time": 43.69522757,
            "test": [
             0.1415568077,
             0.9537686909
            ]
           },
           {
            "iteration": 193,
            "learn": [
             0.1475630768,
             0.9550638947
            ],
            "passed_time": 10.51543933,
            "remaining_time": 43.68785617,
            "test": [
             0.1415298645,
             0.9537686909
            ]
           },
           {
            "iteration": 194,
            "learn": [
             0.147496849,
             0.9551401869
            ],
            "passed_time": 10.58195847,
            "remaining_time": 43.68449521,
            "test": [
             0.1415052123,
             0.9539212695
            ]
           },
           {
            "iteration": 195,
            "learn": [
             0.1474373146,
             0.9551020408
            ],
            "passed_time": 10.63679079,
            "remaining_time": 43.63254997,
            "test": [
             0.1414738154,
             0.9539212695
            ]
           },
           {
            "iteration": 196,
            "learn": [
             0.1473637883,
             0.9552164791
            ],
            "passed_time": 10.69859418,
            "remaining_time": 43.60899048,
            "test": [
             0.1414530507,
             0.9537686909
            ]
           },
           {
            "iteration": 197,
            "learn": [
             0.147328106,
             0.9552927713
            ],
            "passed_time": 10.76649043,
            "remaining_time": 43.60972385,
            "test": [
             0.1414119265,
             0.954073848
            ]
           },
           {
            "iteration": 198,
            "learn": [
             0.1473005599,
             0.955178333
            ],
            "passed_time": 10.82603739,
            "remaining_time": 43.57616057,
            "test": [
             0.1413997562,
             0.9539212695
            ]
           },
           {
            "iteration": 199,
            "learn": [
             0.1472555541,
             0.9552164791
            ],
            "passed_time": 10.88600705,
            "remaining_time": 43.5440282,
            "test": [
             0.1413857337,
             0.9539212695
            ]
           },
           {
            "iteration": 200,
            "learn": [
             0.1472194986,
             0.955178333
            ],
            "passed_time": 10.93990739,
            "remaining_time": 43.48749255,
            "test": [
             0.1413724207,
             0.9539212695
            ]
           },
           {
            "iteration": 201,
            "learn": [
             0.1471606723,
             0.9552546252
            ],
            "passed_time": 11.01229253,
            "remaining_time": 43.50400711,
            "test": [
             0.1413188126,
             0.954073848
            ]
           },
           {
            "iteration": 202,
            "learn": [
             0.1471050582,
             0.9553690635
            ],
            "passed_time": 11.07348109,
            "remaining_time": 43.47568683,
            "test": [
             0.1413237937,
             0.954073848
            ]
           },
           {
            "iteration": 203,
            "learn": [
             0.1470796646,
             0.9554453557
            ],
            "passed_time": 11.12802048,
            "remaining_time": 43.4210995,
            "test": [
             0.1413075042,
             0.954073848
            ]
           },
           {
            "iteration": 204,
            "learn": [
             0.146997793,
             0.9554072096
            ],
            "passed_time": 11.19997966,
            "remaining_time": 43.43406747,
            "test": [
             0.1412562205,
             0.954073848
            ]
           },
           {
            "iteration": 205,
            "learn": [
             0.1469090404,
             0.9554453557
            ],
            "passed_time": 11.2582141,
            "remaining_time": 43.39331067,
            "test": [
             0.1412148627,
             0.9539212695
            ]
           },
           {
            "iteration": 206,
            "learn": [
             0.146841507,
             0.9553309174
            ],
            "passed_time": 11.31504778,
            "remaining_time": 43.34701878,
            "test": [
             0.1412207646,
             0.9539212695
            ]
           },
           {
            "iteration": 207,
            "learn": [
             0.1468415047,
             0.9553309174
            ],
            "passed_time": 11.32927994,
            "remaining_time": 43.13841206,
            "test": [
             0.1412207603,
             0.9539212695
            ]
           },
           {
            "iteration": 208,
            "learn": [
             0.1467324671,
             0.9553690635
            ],
            "passed_time": 11.38389737,
            "remaining_time": 43.0845111,
            "test": [
             0.1411644408,
             0.9537686909
            ]
           },
           {
            "iteration": 209,
            "learn": [
             0.146694853,
             0.9554835018
            ],
            "passed_time": 11.44949488,
            "remaining_time": 43.0719093,
            "test": [
             0.1411233364,
             0.9539212695
            ]
           },
           {
            "iteration": 210,
            "learn": [
             0.1466503589,
             0.9554835018
            ],
            "passed_time": 11.50538135,
            "remaining_time": 43.02249235,
            "test": [
             0.1411156455,
             0.9537686909
            ]
           },
           {
            "iteration": 211,
            "learn": [
             0.1466054589,
             0.955559794
            ],
            "passed_time": 11.57167521,
            "remaining_time": 43.01169842,
            "test": [
             0.1410773264,
             0.9537686909
            ]
           },
           {
            "iteration": 212,
            "learn": [
             0.146532354,
             0.9554453557
            ],
            "passed_time": 11.65040987,
            "remaining_time": 43.04635008,
            "test": [
             0.1410485237,
             0.954073848
            ]
           },
           {
            "iteration": 213,
            "learn": [
             0.1465017473,
             0.9554453557
            ],
            "passed_time": 11.70533841,
            "remaining_time": 42.99250462,
            "test": [
             0.1410227644,
             0.954073848
            ]
           },
           {
            "iteration": 214,
            "learn": [
             0.1464871974,
             0.9554835018
            ],
            "passed_time": 11.7559614,
            "remaining_time": 42.92292885,
            "test": [
             0.1410230287,
             0.9539212695
            ]
           },
           {
            "iteration": 215,
            "learn": [
             0.1464292456,
             0.9554835018
            ],
            "passed_time": 11.81240149,
            "remaining_time": 42.87464244,
            "test": [
             0.1409892474,
             0.954073848
            ]
           },
           {
            "iteration": 216,
            "learn": [
             0.1463167725,
             0.9554835018
            ],
            "passed_time": 11.87950544,
            "remaining_time": 42.86475926,
            "test": [
             0.1409656871,
             0.954073848
            ]
           },
           {
            "iteration": 217,
            "learn": [
             0.1462521317,
             0.9554835018
            ],
            "passed_time": 11.92749865,
            "remaining_time": 42.78579792,
            "test": [
             0.1409921108,
             0.954073848
            ]
           },
           {
            "iteration": 218,
            "learn": [
             0.146157885,
             0.9555216479
            ],
            "passed_time": 11.99570526,
            "remaining_time": 42.77920459,
            "test": [
             0.1410131711,
             0.9542264266
            ]
           },
           {
            "iteration": 219,
            "learn": [
             0.1461197395,
             0.9554835018
            ],
            "passed_time": 12.05532446,
            "remaining_time": 42.74160491,
            "test": [
             0.1409870964,
             0.9542264266
            ]
           },
           {
            "iteration": 220,
            "learn": [
             0.1460823188,
             0.9555216479
            ],
            "passed_time": 12.11447739,
            "remaining_time": 42.70216238,
            "test": [
             0.1409681935,
             0.9542264266
            ]
           },
           {
            "iteration": 221,
            "learn": [
             0.1460304317,
             0.9554835018
            ],
            "passed_time": 12.18134111,
            "remaining_time": 42.68956478,
            "test": [
             0.1410402295,
             0.954073848
            ]
           },
           {
            "iteration": 222,
            "learn": [
             0.1459808781,
             0.9554835018
            ],
            "passed_time": 12.24043124,
            "remaining_time": 42.64939494,
            "test": [
             0.1410472956,
             0.954073848
            ]
           },
           {
            "iteration": 223,
            "learn": [
             0.145908097,
             0.9555979401
            ],
            "passed_time": 12.31431145,
            "remaining_time": 42.66029325,
            "test": [
             0.1409903201,
             0.9539212695
            ]
           },
           {
            "iteration": 224,
            "learn": [
             0.1458587507,
             0.955559794
            ],
            "passed_time": 12.37623023,
            "remaining_time": 42.62923746,
            "test": [
             0.1409975652,
             0.9537686909
            ]
           },
           {
            "iteration": 225,
            "learn": [
             0.1458159391,
             0.9555216479
            ],
            "passed_time": 12.43496092,
            "remaining_time": 42.58699006,
            "test": [
             0.1409790058,
             0.9539212695
            ]
           },
           {
            "iteration": 226,
            "learn": [
             0.145790417,
             0.955559794
            ],
            "passed_time": 12.50239691,
            "remaining_time": 42.57424146,
            "test": [
             0.1409783903,
             0.9539212695
            ]
           },
           {
            "iteration": 227,
            "learn": [
             0.1457705679,
             0.9555216479
            ],
            "passed_time": 12.55754717,
            "remaining_time": 42.51941409,
            "test": [
             0.1409788069,
             0.9539212695
            ]
           },
           {
            "iteration": 228,
            "learn": [
             0.1457413945,
             0.9555216479
            ],
            "passed_time": 12.61100147,
            "remaining_time": 42.45887393,
            "test": [
             0.1409551672,
             0.9539212695
            ]
           },
           {
            "iteration": 229,
            "learn": [
             0.1457146945,
             0.955559794
            ],
            "passed_time": 12.67526277,
            "remaining_time": 42.43457537,
            "test": [
             0.1409239461,
             0.9539212695
            ]
           },
           {
            "iteration": 230,
            "learn": [
             0.145669345,
             0.9554835018
            ],
            "passed_time": 12.73875842,
            "remaining_time": 42.40738193,
            "test": [
             0.1409342028,
             0.9539212695
            ]
           },
           {
            "iteration": 231,
            "learn": [
             0.1456031685,
             0.955559794
            ],
            "passed_time": 12.79116191,
            "remaining_time": 42.34315666,
            "test": [
             0.14093344,
             0.9537686909
            ]
           },
           {
            "iteration": 232,
            "learn": [
             0.1455552243,
             0.9556360862
            ],
            "passed_time": 12.85458949,
            "remaining_time": 42.31532248,
            "test": [
             0.1409516076,
             0.9539212695
            ]
           },
           {
            "iteration": 233,
            "learn": [
             0.1455122523,
             0.9556742323
            ],
            "passed_time": 12.91409252,
            "remaining_time": 42.27433706,
            "test": [
             0.1409449209,
             0.954073848
            ]
           },
           {
            "iteration": 234,
            "learn": [
             0.145491365,
             0.9556360862
            ],
            "passed_time": 12.98175583,
            "remaining_time": 42.25975834,
            "test": [
             0.1409124948,
             0.954073848
            ]
           },
           {
            "iteration": 235,
            "learn": [
             0.1454162496,
             0.9555979401
            ],
            "passed_time": 13.03821838,
            "remaining_time": 42.20846966,
            "test": [
             0.1408737201,
             0.954073848
            ]
           },
           {
            "iteration": 236,
            "learn": [
             0.1454021606,
             0.9556360862
            ],
            "passed_time": 13.10064322,
            "remaining_time": 42.17633239,
            "test": [
             0.1408816031,
             0.954073848
            ]
           },
           {
            "iteration": 237,
            "learn": [
             0.14535428,
             0.9557123784
            ],
            "passed_time": 13.16062534,
            "remaining_time": 42.13611979,
            "test": [
             0.1408828022,
             0.9542264266
            ]
           },
           {
            "iteration": 238,
            "learn": [
             0.1452948739,
             0.9557886706
            ],
            "passed_time": 13.21849187,
            "remaining_time": 42.08900549,
            "test": [
             0.1408777986,
             0.9551418981
            ]
           },
           {
            "iteration": 239,
            "learn": [
             0.1452068961,
             0.9558649628
            ],
            "passed_time": 13.29325234,
            "remaining_time": 42.09529908,
            "test": [
             0.1408274064,
             0.9551418981
            ]
           },
           {
            "iteration": 240,
            "learn": [
             0.1451491903,
             0.9559794011
            ],
            "passed_time": 13.33989378,
            "remaining_time": 42.01236256,
            "test": [
             0.1407874504,
             0.9551418981
            ]
           },
           {
            "iteration": 241,
            "learn": [
             0.1450587588,
             0.955941255
            ],
            "passed_time": 13.38545656,
            "remaining_time": 41.92634741,
            "test": [
             0.140754754,
             0.9551418981
            ]
           },
           {
            "iteration": 242,
            "learn": [
             0.1450528603,
             0.9559794011
            ],
            "passed_time": 13.45062131,
            "remaining_time": 41.90172977,
            "test": [
             0.1407388738,
             0.9551418981
            ]
           },
           {
            "iteration": 243,
            "learn": [
             0.1450236319,
             0.9560175472
            ],
            "passed_time": 13.51091937,
            "remaining_time": 41.86170099,
            "test": [
             0.1407284534,
             0.9551418981
            ]
           },
           {
            "iteration": 244,
            "learn": [
             0.1449784754,
             0.9560938394
            ],
            "passed_time": 13.57861638,
            "remaining_time": 41.84430762,
            "test": [
             0.1407239259,
             0.9551418981
            ]
           },
           {
            "iteration": 245,
            "learn": [
             0.1449030136,
             0.9561701316
            ],
            "passed_time": 13.65500591,
            "remaining_time": 41.8531482,
            "test": [
             0.1407252096,
             0.9552944767
            ]
           },
           {
            "iteration": 246,
            "learn": [
             0.1448820501,
             0.9561319855
            ],
            "passed_time": 13.70846554,
            "remaining_time": 41.79139496,
            "test": [
             0.1407493933,
             0.9552944767
            ]
           },
           {
            "iteration": 247,
            "learn": [
             0.1448657081,
             0.9561319855
            ],
            "passed_time": 13.76900181,
            "remaining_time": 41.75116677,
            "test": [
             0.1407492831,
             0.9552944767
            ]
           },
           {
            "iteration": 248,
            "learn": [
             0.1448452585,
             0.9560938394
            ],
            "passed_time": 13.83347385,
            "remaining_time": 41.72264604,
            "test": [
             0.1407481924,
             0.9552944767
            ]
           },
           {
            "iteration": 249,
            "learn": [
             0.1448170446,
             0.9560938394
            ],
            "passed_time": 13.89980474,
            "remaining_time": 41.69941423,
            "test": [
             0.1407602668,
             0.9552944767
            ]
           },
           {
            "iteration": 250,
            "learn": [
             0.144804025,
             0.9560556933
            ],
            "passed_time": 13.95909358,
            "remaining_time": 41.65482507,
            "test": [
             0.1407090891,
             0.9552944767
            ]
           },
           {
            "iteration": 251,
            "learn": [
             0.144786285,
             0.9561701316
            ],
            "passed_time": 14.03023233,
            "remaining_time": 41.6452928,
            "test": [
             0.1407216977,
             0.9552944767
            ]
           },
           {
            "iteration": 252,
            "learn": [
             0.1447280188,
             0.9561701316
            ],
            "passed_time": 14.06825775,
            "remaining_time": 41.53750411,
            "test": [
             0.1407275578,
             0.9552944767
            ]
           },
           {
            "iteration": 253,
            "learn": [
             0.1446882394,
             0.9560938394
            ],
            "passed_time": 14.12887453,
            "remaining_time": 41.49661573,
            "test": [
             0.1407117264,
             0.9554470552
            ]
           },
           {
            "iteration": 254,
            "learn": [
             0.1446321613,
             0.9561319855
            ],
            "passed_time": 14.18749892,
            "remaining_time": 41.44975173,
            "test": [
             0.1407247158,
             0.9554470552
            ]
           },
           {
            "iteration": 255,
            "learn": [
             0.1445552741,
             0.9561319855
            ],
            "passed_time": 14.26646056,
            "remaining_time": 41.46190101,
            "test": [
             0.1406677336,
             0.9554470552
            ]
           },
           {
            "iteration": 256,
            "learn": [
             0.1445286569,
             0.9562464238
            ],
            "passed_time": 14.32841929,
            "remaining_time": 41.42418495,
            "test": [
             0.1406691568,
             0.9552944767
            ]
           },
           {
            "iteration": 257,
            "learn": [
             0.1445042452,
             0.9561319855
            ],
            "passed_time": 14.37944523,
            "remaining_time": 41.35483861,
            "test": [
             0.1406608081,
             0.9554470552
            ]
           },
           {
            "iteration": 258,
            "learn": [
             0.1444709433,
             0.9561701316
            ],
            "passed_time": 14.4409947,
            "remaining_time": 41.31574159,
            "test": [
             0.1406528672,
             0.9554470552
            ]
           },
           {
            "iteration": 259,
            "learn": [
             0.1444212077,
             0.9561701316
            ],
            "passed_time": 14.48034826,
            "remaining_time": 41.21329888,
            "test": [
             0.1406567417,
             0.9554470552
            ]
           },
           {
            "iteration": 260,
            "learn": [
             0.144331631,
             0.9562845699
            ],
            "passed_time": 14.53977478,
            "remaining_time": 41.16817458,
            "test": [
             0.1405615407,
             0.9554470552
            ]
           },
           {
            "iteration": 261,
            "learn": [
             0.1442590361,
             0.9563990082
            ],
            "passed_time": 14.59875506,
            "remaining_time": 41.12168409,
            "test": [
             0.1405164135,
             0.9554470552
            ]
           },
           {
            "iteration": 262,
            "learn": [
             0.1442402044,
             0.9563990082
            ],
            "passed_time": 14.66075954,
            "remaining_time": 41.08357332,
            "test": [
             0.1405008132,
             0.9554470552
            ]
           },
           {
            "iteration": 263,
            "learn": [
             0.1441645426,
             0.9565134465
            ],
            "passed_time": 14.73149118,
            "remaining_time": 41.06961179,
            "test": [
             0.1404617419,
             0.9554470552
            ]
           },
           {
            "iteration": 264,
            "learn": [
             0.1441492403,
             0.9565515926
            ],
            "passed_time": 14.77925889,
            "remaining_time": 40.99152937,
            "test": [
             0.1404487908,
             0.9554470552
            ]
           },
           {
            "iteration": 265,
            "learn": [
             0.1440795038,
             0.9566278848
            ],
            "passed_time": 14.84406712,
            "remaining_time": 40.9606965,
            "test": [
             0.1404380647,
             0.9554470552
            ]
           },
           {
            "iteration": 266,
            "learn": [
             0.1440482586,
             0.9566660309
            ],
            "passed_time": 14.89808865,
            "remaining_time": 40.89999619,
            "test": [
             0.140436659,
             0.9554470552
            ]
           },
           {
            "iteration": 267,
            "learn": [
             0.1440292376,
             0.956704177
            ],
            "passed_time": 14.96094107,
            "remaining_time": 40.86346591,
            "test": [
             0.1404614057,
             0.9554470552
            ]
           },
           {
            "iteration": 268,
            "learn": [
             0.1440035068,
             0.9567423231
            ],
            "passed_time": 15.00712003,
            "remaining_time": 40.78143026,
            "test": [
             0.1404568116,
             0.9554470552
            ]
           },
           {
            "iteration": 269,
            "learn": [
             0.1439765735,
             0.9566660309
            ],
            "passed_time": 15.07782794,
            "remaining_time": 40.76597924,
            "test": [
             0.1404375419,
             0.9552944767
            ]
           },
           {
            "iteration": 270,
            "learn": [
             0.1438973464,
             0.956704177
            ],
            "passed_time": 15.1474317,
            "remaining_time": 40.74715021,
            "test": [
             0.1404022098,
             0.9546841623
            ]
           },
           {
            "iteration": 271,
            "learn": [
             0.1438859581,
             0.956704177
            ],
            "passed_time": 15.21366443,
            "remaining_time": 40.7189254,
            "test": [
             0.1403951846,
             0.9546841623
            ]
           },
           {
            "iteration": 272,
            "learn": [
             0.1437906439,
             0.9567423231
            ],
            "passed_time": 15.27982267,
            "remaining_time": 40.69022373,
            "test": [
             0.1403782446,
             0.9546841623
            ]
           },
           {
            "iteration": 273,
            "learn": [
             0.1437727438,
             0.9567804692
            ],
            "passed_time": 15.34269849,
            "remaining_time": 40.65255147,
            "test": [
             0.140396233,
             0.9546841623
            ]
           },
           {
            "iteration": 274,
            "learn": [
             0.1437624781,
             0.9567423231
            ],
            "passed_time": 15.40419701,
            "remaining_time": 40.61106486,
            "test": [
             0.1404086524,
             0.9546841623
            ]
           },
           {
            "iteration": 275,
            "learn": [
             0.1437328064,
             0.9567804692
            ],
            "passed_time": 15.44720571,
            "remaining_time": 40.52093091,
            "test": [
             0.1404000151,
             0.9546841623
            ]
           },
           {
            "iteration": 276,
            "learn": [
             0.1436661258,
             0.9567423231
            ],
            "passed_time": 15.50150126,
            "remaining_time": 40.46059716,
            "test": [
             0.1403774009,
             0.9546841623
            ]
           },
           {
            "iteration": 277,
            "learn": [
             0.1436041746,
             0.9567423231
            ],
            "passed_time": 15.57996899,
            "remaining_time": 40.46308493,
            "test": [
             0.1403257736,
             0.9546841623
            ]
           },
           {
            "iteration": 278,
            "learn": [
             0.1435436913,
             0.9567423231
            ],
            "passed_time": 15.6412643,
            "remaining_time": 40.42061491,
            "test": [
             0.140320169,
             0.9546841623
            ]
           },
           {
            "iteration": 279,
            "learn": [
             0.1434578246,
             0.9568186153
            ],
            "passed_time": 15.71939685,
            "remaining_time": 40.42130619,
            "test": [
             0.1403108778,
             0.9546841623
            ]
           },
           {
            "iteration": 280,
            "learn": [
             0.1434377187,
             0.9568186153
            ],
            "passed_time": 15.7718891,
            "remaining_time": 40.35583011,
            "test": [
             0.1403140417,
             0.9546841623
            ]
           },
           {
            "iteration": 281,
            "learn": [
             0.1433443085,
             0.9568567614
            ],
            "passed_time": 15.83200043,
            "remaining_time": 40.30984506,
            "test": [
             0.1403233233,
             0.9548367409
            ]
           },
           {
            "iteration": 282,
            "learn": [
             0.1432806324,
             0.9567423231
            ],
            "passed_time": 15.89780414,
            "remaining_time": 40.27818221,
            "test": [
             0.1403120469,
             0.9543790052
            ]
           },
           {
            "iteration": 283,
            "learn": [
             0.1431976473,
             0.9568186153
            ],
            "passed_time": 15.96110556,
            "remaining_time": 40.23997036,
            "test": [
             0.1403505932,
             0.9545315838
            ]
           },
           {
            "iteration": 284,
            "learn": [
             0.1431383855,
             0.9568949075
            ],
            "passed_time": 16.02743349,
            "remaining_time": 40.20917524,
            "test": [
             0.1402961137,
             0.9545315838
            ]
           },
           {
            "iteration": 285,
            "learn": [
             0.1430720266,
             0.9569330536
            ],
            "passed_time": 16.08194407,
            "remaining_time": 40.14862961,
            "test": [
             0.1402474964,
             0.9546841623
            ]
           },
           {
            "iteration": 286,
            "learn": [
             0.143012044,
             0.9569330536
            ],
            "passed_time": 16.14286875,
            "remaining_time": 40.10406069,
            "test": [
             0.1402621278,
             0.9545315838
            ]
           },
           {
            "iteration": 287,
            "learn": [
             0.1429743284,
             0.9569711997
            ],
            "passed_time": 16.20310047,
            "remaining_time": 40.05766504,
            "test": [
             0.140252289,
             0.9546841623
            ]
           },
           {
            "iteration": 288,
            "learn": [
             0.1429655405,
             0.9569711997
            ],
            "passed_time": 16.27167949,
            "remaining_time": 40.03170974,
            "test": [
             0.1402453508,
             0.9546841623
            ]
           },
           {
            "iteration": 289,
            "learn": [
             0.1429273284,
             0.9569711997
            ],
            "passed_time": 16.32009655,
            "remaining_time": 39.95609844,
            "test": [
             0.1402641722,
             0.9545315838
            ]
           },
           {
            "iteration": 290,
            "learn": [
             0.1428351491,
             0.9571619302
            ],
            "passed_time": 16.3727493,
            "remaining_time": 39.89099399,
            "test": [
             0.1402135336,
             0.9543790052
            ]
           },
           {
            "iteration": 291,
            "learn": [
             0.1427798193,
             0.957085638
            ],
            "passed_time": 16.45021562,
            "remaining_time": 39.88613925,
            "test": [
             0.1401638986,
             0.9542264266
            ]
           },
           {
            "iteration": 292,
            "learn": [
             0.142671877,
             0.9572000763
            ],
            "passed_time": 16.51197395,
            "remaining_time": 39.84288594,
            "test": [
             0.1401272905,
             0.9548367409
            ]
           },
           {
            "iteration": 293,
            "learn": [
             0.1426152754,
             0.9571619302
            ],
            "passed_time": 16.57850387,
            "remaining_time": 39.81096507,
            "test": [
             0.1400923864,
             0.9548367409
            ]
           },
           {
            "iteration": 294,
            "learn": [
             0.1425499517,
             0.9571619302
            ],
            "passed_time": 16.66667966,
            "remaining_time": 39.83053953,
            "test": [
             0.1400964005,
             0.9548367409
            ]
           },
           {
            "iteration": 295,
            "learn": [
             0.1424832208,
             0.9572382224
            ],
            "passed_time": 16.72487457,
            "remaining_time": 39.77808005,
            "test": [
             0.1400992964,
             0.9551418981
            ]
           },
           {
            "iteration": 296,
            "learn": [
             0.1424457696,
             0.9572382224
            ],
            "passed_time": 16.78839495,
            "remaining_time": 39.73818737,
            "test": [
             0.140101196,
             0.9552944767
            ]
           },
           {
            "iteration": 297,
            "learn": [
             0.142385949,
             0.9572763685
            ],
            "passed_time": 16.85146558,
            "remaining_time": 39.69707662,
            "test": [
             0.1401538977,
             0.9551418981
            ]
           },
           {
            "iteration": 298,
            "learn": [
             0.1423711055,
             0.9572382224
            ],
            "passed_time": 16.91262525,
            "remaining_time": 39.65133881,
            "test": [
             0.1401454773,
             0.9551418981
            ]
           },
           {
            "iteration": 299,
            "learn": [
             0.1423251675,
             0.9573145146
            ],
            "passed_time": 16.9737628,
            "remaining_time": 39.60544652,
            "test": [
             0.1401393718,
             0.9551418981
            ]
           },
           {
            "iteration": 300,
            "learn": [
             0.1422808644,
             0.9573145146
            ],
            "passed_time": 17.0368961,
            "remaining_time": 39.56408762,
            "test": [
             0.1401050902,
             0.9549893195
            ]
           },
           {
            "iteration": 301,
            "learn": [
             0.1422563024,
             0.9573145146
            ],
            "passed_time": 17.08633156,
            "remaining_time": 39.49092525,
            "test": [
             0.1400878721,
             0.9551418981
            ]
           },
           {
            "iteration": 302,
            "learn": [
             0.1422161803,
             0.9573526607
            ],
            "passed_time": 17.14669372,
            "remaining_time": 39.44305453,
            "test": [
             0.1401024315,
             0.9551418981
            ]
           },
           {
            "iteration": 303,
            "learn": [
             0.142172826,
             0.9573908068
            ],
            "passed_time": 17.20829124,
            "remaining_time": 39.39792994,
            "test": [
             0.1400733179,
             0.9548367409
            ]
           },
           {
            "iteration": 304,
            "learn": [
             0.1421177902,
             0.9573908068
            ],
            "passed_time": 17.28023287,
            "remaining_time": 39.37626834,
            "test": [
             0.1400458731,
             0.9546841623
            ]
           },
           {
            "iteration": 305,
            "learn": [
             0.1420633716,
             0.9575052451
            ],
            "passed_time": 17.32325713,
            "remaining_time": 39.28869428,
            "test": [
             0.139944088,
             0.9548367409
            ]
           },
           {
            "iteration": 306,
            "learn": [
             0.1420375793,
             0.9575052451
            ],
            "passed_time": 17.3894162,
            "remaining_time": 39.25363332,
            "test": [
             0.1399282191,
             0.9548367409
            ]
           },
           {
            "iteration": 307,
            "learn": [
             0.1420152921,
             0.9575052451
            ],
            "passed_time": 17.43680929,
            "remaining_time": 39.17620789,
            "test": [
             0.1399108072,
             0.9548367409
            ]
           },
           {
            "iteration": 308,
            "learn": [
             0.1419508071,
             0.957467099
            ],
            "passed_time": 17.50066385,
            "remaining_time": 39.13578873,
            "test": [
             0.1398864784,
             0.9548367409
            ]
           },
           {
            "iteration": 309,
            "learn": [
             0.1419372824,
             0.9575052451
            ],
            "passed_time": 17.56285195,
            "remaining_time": 39.09150919,
            "test": [
             0.1398643473,
             0.9549893195
            ]
           },
           {
            "iteration": 310,
            "learn": [
             0.1418722197,
             0.9575052451
            ],
            "passed_time": 17.62777728,
            "remaining_time": 39.0531786,
            "test": [
             0.139838944,
             0.9548367409
            ]
           },
           {
            "iteration": 311,
            "learn": [
             0.1417956944,
             0.9576959756
            ],
            "passed_time": 17.69378104,
            "remaining_time": 39.01705562,
            "test": [
             0.1398518179,
             0.9548367409
            ]
           },
           {
            "iteration": 312,
            "learn": [
             0.1417439104,
             0.9577341217
            ],
            "passed_time": 17.75734173,
            "remaining_time": 38.97537946,
            "test": [
             0.1398650044,
             0.9548367409
            ]
           },
           {
            "iteration": 313,
            "learn": [
             0.1416637744,
             0.9577722678
            ],
            "passed_time": 17.83107258,
            "remaining_time": 38.95578278,
            "test": [
             0.1398457893,
             0.9545315838
            ]
           },
           {
            "iteration": 314,
            "learn": [
             0.1416269123,
             0.9576578295
            ],
            "passed_time": 17.88997767,
            "remaining_time": 38.90360223,
            "test": [
             0.1398296097,
             0.9545315838
            ]
           },
           {
            "iteration": 315,
            "learn": [
             0.1415372417,
             0.9576196834
            ],
            "passed_time": 17.94765861,
            "remaining_time": 38.84872939,
            "test": [
             0.139874725,
             0.9549893195
            ]
           },
           {
            "iteration": 316,
            "learn": [
             0.1414735436,
             0.9576578295
            ],
            "passed_time": 18.01418704,
            "remaining_time": 38.81290142,
            "test": [
             0.1398485504,
             0.9549893195
            ]
           },
           {
            "iteration": 317,
            "learn": [
             0.141449312,
             0.9576959756
            ],
            "passed_time": 18.09096706,
            "remaining_time": 38.79886647,
            "test": [
             0.1398387418,
             0.9549893195
            ]
           },
           {
            "iteration": 318,
            "learn": [
             0.1414300653,
             0.9577341217
            ],
            "passed_time": 18.14438955,
            "remaining_time": 38.73457455,
            "test": [
             0.1398461661,
             0.9549893195
            ]
           },
           {
            "iteration": 319,
            "learn": [
             0.1414005419,
             0.9576959756
            ],
            "passed_time": 18.19993514,
            "remaining_time": 38.67486217,
            "test": [
             0.1398530419,
             0.9549893195
            ]
           },
           {
            "iteration": 320,
            "learn": [
             0.1413618178,
             0.9576959756
            ],
            "passed_time": 18.25770498,
            "remaining_time": 38.61988063,
            "test": [
             0.1398834605,
             0.9551418981
            ]
           },
           {
            "iteration": 321,
            "learn": [
             0.141313151,
             0.9576196834
            ],
            "passed_time": 18.31563761,
            "remaining_time": 38.56522453,
            "test": [
             0.1398945427,
             0.9554470552
            ]
           },
           {
            "iteration": 322,
            "learn": [
             0.1412430009,
             0.9575815373
            ],
            "passed_time": 18.37617078,
            "remaining_time": 38.51599882,
            "test": [
             0.1398328737,
             0.9551418981
            ]
           },
           {
            "iteration": 323,
            "learn": [
             0.1412011887,
             0.9577341217
            ],
            "passed_time": 18.43859958,
            "remaining_time": 38.47065839,
            "test": [
             0.1398188602,
             0.9552944767
            ]
           },
           {
            "iteration": 324,
            "learn": [
             0.1411081715,
             0.9577341217
            ],
            "passed_time": 18.48963663,
            "remaining_time": 38.40155299,
            "test": [
             0.1398607138,
             0.9551418981
            ]
           },
           {
            "iteration": 325,
            "learn": [
             0.1410779037,
             0.9576959756
            ],
            "passed_time": 18.54326405,
            "remaining_time": 38.33791401,
            "test": [
             0.1398336565,
             0.9552944767
            ]
           },
           {
            "iteration": 326,
            "learn": [
             0.1410662735,
             0.9577722678
            ],
            "passed_time": 18.60377573,
            "remaining_time": 38.28850479,
            "test": [
             0.1398290523,
             0.9551418981
            ]
           },
           {
            "iteration": 327,
            "learn": [
             0.1410493132,
             0.9577341217
            ],
            "passed_time": 18.67912395,
            "remaining_time": 38.26942469,
            "test": [
             0.1398352706,
             0.9549893195
            ]
           },
           {
            "iteration": 328,
            "learn": [
             0.1410375614,
             0.9577341217
            ],
            "passed_time": 18.72269212,
            "remaining_time": 38.18518667,
            "test": [
             0.1398551935,
             0.9549893195
            ]
           },
           {
            "iteration": 329,
            "learn": [
             0.1409941973,
             0.9577722678
            ],
            "passed_time": 18.79769467,
            "remaining_time": 38.16501644,
            "test": [
             0.1398198814,
             0.9551418981
            ]
           },
           {
            "iteration": 330,
            "learn": [
             0.1409256525,
             0.9576959756
            ],
            "passed_time": 18.86677674,
            "remaining_time": 38.13254875,
            "test": [
             0.1398140748,
             0.9551418981
            ]
           },
           {
            "iteration": 331,
            "learn": [
             0.1409000819,
             0.95784856
            ],
            "passed_time": 18.91935185,
            "remaining_time": 38.06664771,
            "test": [
             0.1398002217,
             0.9549893195
            ]
           },
           {
            "iteration": 332,
            "learn": [
             0.1408147809,
             0.9578867061
            ],
            "passed_time": 18.97873848,
            "remaining_time": 38.01447016,
            "test": [
             0.1397518239,
             0.9552944767
            ]
           },
           {
            "iteration": 333,
            "learn": [
             0.1407755253,
             0.9579248522
            ],
            "passed_time": 19.03948887,
            "remaining_time": 37.96496883,
            "test": [
             0.1397497648,
             0.9552944767
            ]
           },
           {
            "iteration": 334,
            "learn": [
             0.140728759,
             0.9579629983
            ],
            "passed_time": 19.11166276,
            "remaining_time": 37.93807681,
            "test": [
             0.1397942789,
             0.9552944767
            ]
           },
           {
            "iteration": 335,
            "learn": [
             0.1407214121,
             0.9579248522
            ],
            "passed_time": 19.15533265,
            "remaining_time": 37.85458595,
            "test": [
             0.139796946,
             0.9549893195
            ]
           },
           {
            "iteration": 336,
            "learn": [
             0.1406955646,
             0.9580392905
            ],
            "passed_time": 19.21796143,
            "remaining_time": 37.80863035,
            "test": [
             0.1398087148,
             0.9552944767
            ]
           },
           {
            "iteration": 337,
            "learn": [
             0.1406757622,
             0.9581537288
            ],
            "passed_time": 19.28656092,
            "remaining_time": 37.7742702,
            "test": [
             0.1398044596,
             0.9552944767
            ]
           },
           {
            "iteration": 338,
            "learn": [
             0.1406493725,
             0.9581918749
            ],
            "passed_time": 19.35446796,
            "remaining_time": 37.73835788,
            "test": [
             0.1397779886,
             0.9551418981
            ]
           },
           {
            "iteration": 339,
            "learn": [
             0.14060946,
             0.9583063132
            ],
            "passed_time": 19.41315601,
            "remaining_time": 37.68436167,
            "test": [
             0.1397558562,
             0.9554470552
            ]
           },
           {
            "iteration": 340,
            "learn": [
             0.1405911798,
             0.9581918749
            ],
            "passed_time": 19.47294564,
            "remaining_time": 37.63246679,
            "test": [
             0.1397368088,
             0.9557522124
            ]
           },
           {
            "iteration": 341,
            "learn": [
             0.1405477294,
             0.9583063132
            ],
            "passed_time": 19.52378181,
            "remaining_time": 37.5632995,
            "test": [
             0.139706147,
             0.9552944767
            ]
           },
           {
            "iteration": 342,
            "learn": [
             0.1405117022,
             0.958230021
            ],
            "passed_time": 19.59810596,
            "remaining_time": 37.53922921,
            "test": [
             0.1396951291,
             0.9552944767
            ]
           },
           {
            "iteration": 343,
            "learn": [
             0.1404782617,
             0.9583063132
            ],
            "passed_time": 19.6469313,
            "remaining_time": 37.46624109,
            "test": [
             0.139647835,
             0.9552944767
            ]
           },
           {
            "iteration": 344,
            "learn": [
             0.1404106444,
             0.9584588976
            ],
            "passed_time": 19.70774616,
            "remaining_time": 37.41615576,
            "test": [
             0.1396303893,
             0.9554470552
            ]
           },
           {
            "iteration": 345,
            "learn": [
             0.1403462111,
             0.9584970437
            ],
            "passed_time": 19.76273658,
            "remaining_time": 37.35499919,
            "test": [
             0.1396251865,
             0.9554470552
            ]
           },
           {
            "iteration": 346,
            "learn": [
             0.140329504,
             0.9584588976
            ],
            "passed_time": 19.82462994,
            "remaining_time": 37.30686845,
            "test": [
             0.1396236132,
             0.9554470552
            ]
           },
           {
            "iteration": 347,
            "learn": [
             0.1402953162,
             0.9584970437
            ],
            "passed_time": 19.89397012,
            "remaining_time": 37.27261068,
            "test": [
             0.139598929,
             0.9552944767
            ]
           },
           {
            "iteration": 348,
            "learn": [
             0.1402488652,
             0.9585733359
            ],
            "passed_time": 19.95684705,
            "remaining_time": 37.22609579,
            "test": [
             0.139599528,
             0.9552944767
            ]
           },
           {
            "iteration": 349,
            "learn": [
             0.1401916002,
             0.9585733359
            ],
            "passed_time": 20.01891359,
            "remaining_time": 37.17798238,
            "test": [
             0.1395684768,
             0.9557522124
            ]
           },
           {
            "iteration": 350,
            "learn": [
             0.140167931,
             0.958611482
            ],
            "passed_time": 20.09804854,
            "remaining_time": 37.161349,
            "test": [
             0.1395425391,
             0.9557522124
            ]
           },
           {
            "iteration": 351,
            "learn": [
             0.140133683,
             0.9587640664
            ],
            "passed_time": 20.15557562,
            "remaining_time": 37.10458239,
            "test": [
             0.1395467138,
             0.9555996338
            ]
           },
           {
            "iteration": 352,
            "learn": [
             0.1401125036,
             0.9587259203
            ],
            "passed_time": 20.21240753,
            "remaining_time": 37.04653731,
            "test": [
             0.1395463804,
             0.9554470552
            ]
           },
           {
            "iteration": 353,
            "learn": [
             0.1400612391,
             0.9587640664
            ],
            "passed_time": 20.27353719,
            "remaining_time": 36.99634187,
            "test": [
             0.1395743562,
             0.9555996338
            ]
           },
           {
            "iteration": 354,
            "learn": [
             0.1399898428,
             0.9586877742
            ],
            "passed_time": 20.33573747,
            "remaining_time": 36.94803004,
            "test": [
             0.1395669548,
             0.9557522124
            ]
           },
           {
            "iteration": 355,
            "learn": [
             0.1399143721,
             0.9588403586
            ],
            "passed_time": 20.38776353,
            "remaining_time": 36.88123515,
            "test": [
             0.1395584784,
             0.9554470552
            ]
           },
           {
            "iteration": 356,
            "learn": [
             0.1398893888,
             0.9588403586
            ],
            "passed_time": 20.44060012,
            "remaining_time": 36.81598286,
            "test": [
             0.1395695935,
             0.9554470552
            ]
           },
           {
            "iteration": 357,
            "learn": [
             0.139847183,
             0.9587640664
            ],
            "passed_time": 20.51969591,
            "remaining_time": 36.79789043,
            "test": [
             0.139538541,
             0.9554470552
            ]
           },
           {
            "iteration": 358,
            "learn": [
             0.139831078,
             0.9587640664
            ],
            "passed_time": 20.57045439,
            "remaining_time": 36.72886146,
            "test": [
             0.1395457727,
             0.9554470552
            ]
           },
           {
            "iteration": 359,
            "learn": [
             0.1398227805,
             0.9587640664
            ],
            "passed_time": 20.62337367,
            "remaining_time": 36.66377542,
            "test": [
             0.1395502386,
             0.9554470552
            ]
           },
           {
            "iteration": 360,
            "learn": [
             0.1398024541,
             0.9588022125
            ],
            "passed_time": 20.69446744,
            "remaining_time": 36.63092714,
            "test": [
             0.1395389622,
             0.9554470552
            ]
           },
           {
            "iteration": 361,
            "learn": [
             0.1397042494,
             0.9589547969
            ],
            "passed_time": 20.75299807,
            "remaining_time": 36.57572589,
            "test": [
             0.1395027643,
             0.9552944767
            ]
           },
           {
            "iteration": 362,
            "learn": [
             0.1396892919,
             0.9589547969
            ],
            "passed_time": 20.82015198,
            "remaining_time": 36.5356386,
            "test": [
             0.1394945417,
             0.9552944767
            ]
           },
           {
            "iteration": 363,
            "learn": [
             0.1396495645,
             0.9590310891
            ],
            "passed_time": 20.88582578,
            "remaining_time": 36.49281647,
            "test": [
             0.1394902009,
             0.9551418981
            ]
           },
           {
            "iteration": 364,
            "learn": [
             0.1396214173,
             0.9590310891
            ],
            "passed_time": 20.94761673,
            "remaining_time": 36.44311403,
            "test": [
             0.1394642345,
             0.9552944767
            ]
           },
           {
            "iteration": 365,
            "learn": [
             0.1395947402,
             0.9590310891
            ],
            "passed_time": 20.98807,
            "remaining_time": 36.35638356,
            "test": [
             0.1394655689,
             0.9554470552
            ]
           },
           {
            "iteration": 366,
            "learn": [
             0.139545569,
             0.9592218196
            ],
            "passed_time": 21.05927919,
            "remaining_time": 36.32295293,
            "test": [
             0.1394329051,
             0.9552944767
            ]
           },
           {
            "iteration": 367,
            "learn": [
             0.1394727219,
             0.9591455274
            ],
            "passed_time": 21.12792932,
            "remaining_time": 36.28492209,
            "test": [
             0.1394185095,
             0.9552944767
            ]
           },
           {
            "iteration": 368,
            "learn": [
             0.1394398244,
             0.9592599657
            ],
            "passed_time": 21.20150721,
            "remaining_time": 36.25515189,
            "test": [
             0.1394256811,
             0.9552944767
            ]
           },
           {
            "iteration": 369,
            "learn": [
             0.1393828687,
             0.9593362579
            ],
            "passed_time": 21.27464129,
            "remaining_time": 36.22438922,
            "test": [
             0.1394375798,
             0.9552944767
            ]
           },
           {
            "iteration": 370,
            "learn": [
             0.1393487265,
             0.959374404
            ],
            "passed_time": 21.32819225,
            "remaining_time": 36.16019657,
            "test": [
             0.1394449939,
             0.9552944767
            ]
           },
           {
            "iteration": 371,
            "learn": [
             0.1392862157,
             0.9594125501
            ],
            "passed_time": 21.37182095,
            "remaining_time": 36.07931064,
            "test": [
             0.1394881512,
             0.9552944767
            ]
           },
           {
            "iteration": 372,
            "learn": [
             0.1392704911,
             0.9594125501
            ],
            "passed_time": 21.43870014,
            "remaining_time": 36.03770774,
            "test": [
             0.1394959709,
             0.9552944767
            ]
           },
           {
            "iteration": 373,
            "learn": [
             0.1392526463,
             0.9594888423
            ],
            "passed_time": 21.50756401,
            "remaining_time": 35.99929163,
            "test": [
             0.1394754618,
             0.9552944767
            ]
           },
           {
            "iteration": 374,
            "learn": [
             0.1391868793,
             0.9594888423
            ],
            "passed_time": 21.57061273,
            "remaining_time": 35.95102121,
            "test": [
             0.1394737409,
             0.9552944767
            ]
           },
           {
            "iteration": 375,
            "learn": [
             0.1391777995,
             0.9594888423
            ],
            "passed_time": 21.63320385,
            "remaining_time": 35.90191278,
            "test": [
             0.1394621474,
             0.9552944767
            ]
           },
           {
            "iteration": 376,
            "learn": [
             0.139122278,
             0.9594506962
            ],
            "passed_time": 21.7010352,
            "remaining_time": 35.86139239,
            "test": [
             0.1394610615,
             0.9552944767
            ]
           },
           {
            "iteration": 377,
            "learn": [
             0.139081301,
             0.9594506962
            ],
            "passed_time": 21.75193874,
            "remaining_time": 35.79287274,
            "test": [
             0.139446098,
             0.9552944767
            ]
           },
           {
            "iteration": 378,
            "learn": [
             0.1390314335,
             0.9594506962
            ],
            "passed_time": 21.796303,
            "remaining_time": 35.7137313,
            "test": [
             0.1394050839,
             0.9552944767
            ]
           },
           {
            "iteration": 379,
            "learn": [
             0.1389452848,
             0.9596414267
            ],
            "passed_time": 21.85596813,
            "remaining_time": 35.65973748,
            "test": [
             0.1393927936,
             0.9552944767
            ]
           },
           {
            "iteration": 380,
            "learn": [
             0.1389048723,
             0.9596032806
            ],
            "passed_time": 21.91397411,
            "remaining_time": 35.6030183,
            "test": [
             0.1394204321,
             0.9552944767
            ]
           },
           {
            "iteration": 381,
            "learn": [
             0.1388912134,
             0.9595651345
            ],
            "passed_time": 21.97904916,
            "remaining_time": 35.55772874,
            "test": [
             0.1394220281,
             0.9552944767
            ]
           },
           {
            "iteration": 382,
            "learn": [
             0.1388462547,
             0.9596032806
            ],
            "passed_time": 22.04010529,
            "remaining_time": 35.50586153,
            "test": [
             0.139444099,
             0.9554470552
            ]
           },
           {
            "iteration": 383,
            "learn": [
             0.1387417096,
             0.9595269884
            ],
            "passed_time": 22.10852611,
            "remaining_time": 35.46576064,
            "test": [
             0.139387929,
             0.955904791
            ]
           },
           {
            "iteration": 384,
            "learn": [
             0.1387085051,
             0.9594888423
            ],
            "passed_time": 22.17621426,
            "remaining_time": 35.42434226,
            "test": [
             0.139348319,
             0.9557522124
            ]
           },
           {
            "iteration": 385,
            "learn": [
             0.1386841276,
             0.9595269884
            ],
            "passed_time": 22.23916855,
            "remaining_time": 35.37525775,
            "test": [
             0.139360619,
             0.9557522124
            ]
           },
           {
            "iteration": 386,
            "learn": [
             0.1386218004,
             0.9596032806
            ],
            "passed_time": 22.29752144,
            "remaining_time": 35.31881303,
            "test": [
             0.1393618196,
             0.9557522124
            ]
           },
           {
            "iteration": 387,
            "learn": [
             0.1386078756,
             0.9596032806
            ],
            "passed_time": 22.34718912,
            "remaining_time": 35.24865913,
            "test": [
             0.1393644412,
             0.9557522124
            ]
           },
           {
            "iteration": 388,
            "learn": [
             0.1385783085,
             0.9596032806
            ],
            "passed_time": 22.4086073,
            "remaining_time": 35.197067,
            "test": [
             0.1393569455,
             0.9557522124
            ]
           },
           {
            "iteration": 389,
            "learn": [
             0.1385541248,
             0.9595651345
            ],
            "passed_time": 22.46714052,
            "remaining_time": 35.1409121,
            "test": [
             0.1393343866,
             0.9557522124
            ]
           },
           {
            "iteration": 390,
            "learn": [
             0.1385370373,
             0.9595269884
            ],
            "passed_time": 22.53925531,
            "remaining_time": 35.10589893,
            "test": [
             0.1393520727,
             0.9557522124
            ]
           },
           {
            "iteration": 391,
            "learn": [
             0.1385185885,
             0.9595651345
            ],
            "passed_time": 22.60435686,
            "remaining_time": 35.05981881,
            "test": [
             0.1393472255,
             0.955904791
            ]
           },
           {
            "iteration": 392,
            "learn": [
             0.1384509399,
             0.9596795728
            ],
            "passed_time": 22.65895282,
            "remaining_time": 34.99741568,
            "test": [
             0.1393162632,
             0.9554470552
            ]
           },
           {
            "iteration": 393,
            "learn": [
             0.138408742,
             0.9596032806
            ],
            "passed_time": 22.71870534,
            "remaining_time": 34.94298334,
            "test": [
             0.1393144798,
             0.9555996338
            ]
           },
           {
            "iteration": 394,
            "learn": [
             0.1383759921,
             0.9596032806
            ],
            "passed_time": 22.78764893,
            "remaining_time": 34.90260153,
            "test": [
             0.1393216894,
             0.9557522124
            ]
           },
           {
            "iteration": 395,
            "learn": [
             0.1383253281,
             0.9596032806
            ],
            "passed_time": 22.8399191,
            "remaining_time": 34.83664429,
            "test": [
             0.1393147381,
             0.9557522124
            ]
           },
           {
            "iteration": 396,
            "learn": [
             0.1382941203,
             0.9596032806
            ],
            "passed_time": 22.90278408,
            "remaining_time": 34.78684837,
            "test": [
             0.1393122514,
             0.9557522124
            ]
           },
           {
            "iteration": 397,
            "learn": [
             0.1382666303,
             0.9596032806
            ],
            "passed_time": 22.96980737,
            "remaining_time": 34.74327648,
            "test": [
             0.1393311295,
             0.9557522124
            ]
           },
           {
            "iteration": 398,
            "learn": [
             0.1382469534,
             0.9596032806
            ],
            "passed_time": 23.00531856,
            "remaining_time": 34.65212144,
            "test": [
             0.1393355986,
             0.9555996338
            ]
           },
           {
            "iteration": 399,
            "learn": [
             0.1382245057,
             0.9596414267
            ],
            "passed_time": 23.05988678,
            "remaining_time": 34.58983017,
            "test": [
             0.1393331378,
             0.9555996338
            ]
           },
           {
            "iteration": 400,
            "learn": [
             0.138157837,
             0.9596414267
            ],
            "passed_time": 23.13165567,
            "remaining_time": 34.55327119,
            "test": [
             0.1393515947,
             0.9555996338
            ]
           },
           {
            "iteration": 401,
            "learn": [
             0.1381380158,
             0.9596032806
            ],
            "passed_time": 23.17254944,
            "remaining_time": 34.47060837,
            "test": [
             0.1393445859,
             0.9555996338
            ]
           },
           {
            "iteration": 402,
            "learn": [
             0.1381195638,
             0.9596032806
            ],
            "passed_time": 23.22419236,
            "remaining_time": 34.40407652,
            "test": [
             0.1393540716,
             0.9557522124
            ]
           },
           {
            "iteration": 403,
            "learn": [
             0.1380362114,
             0.9596795728
            ],
            "passed_time": 23.27819907,
            "remaining_time": 34.34110556,
            "test": [
             0.1393447944,
             0.9557522124
            ]
           },
           {
            "iteration": 404,
            "learn": [
             0.137935047,
             0.9595651345
            ],
            "passed_time": 23.34209314,
            "remaining_time": 34.29270474,
            "test": [
             0.1393869548,
             0.9557522124
            ]
           },
           {
            "iteration": 405,
            "learn": [
             0.1378633843,
             0.9596795728
            ],
            "passed_time": 23.40468454,
            "remaining_time": 34.24232171,
            "test": [
             0.1394103459,
             0.9557522124
            ]
           },
           {
            "iteration": 406,
            "learn": [
             0.1378333494,
             0.9596414267
            ],
            "passed_time": 23.48088552,
            "remaining_time": 34.21170789,
            "test": [
             0.1394207681,
             0.9557522124
            ]
           },
           {
            "iteration": 407,
            "learn": [
             0.1377698928,
             0.9597177189
            ],
            "passed_time": 23.5406982,
            "remaining_time": 34.15709151,
            "test": [
             0.1393735231,
             0.9557522124
            ]
           },
           {
            "iteration": 408,
            "learn": [
             0.1377290474,
             0.9598321572
            ],
            "passed_time": 23.60977776,
            "remaining_time": 34.11584024,
            "test": [
             0.1393672612,
             0.9557522124
            ]
           },
           {
            "iteration": 409,
            "learn": [
             0.1376666875,
             0.9598321572
            ],
            "passed_time": 23.67974465,
            "remaining_time": 34.07573011,
            "test": [
             0.1393881853,
             0.955904791
            ]
           },
           {
            "iteration": 410,
            "learn": [
             0.1376452884,
             0.9598703033
            ],
            "passed_time": 23.73884939,
            "remaining_time": 34.01990825,
            "test": [
             0.1394059625,
             0.9557522124
            ]
           },
           {
            "iteration": 411,
            "learn": [
             0.137566997,
             0.9598703033
            ],
            "passed_time": 23.800458,
            "remaining_time": 33.96764395,
            "test": [
             0.1394097932,
             0.955904791
            ]
           },
           {
            "iteration": 412,
            "learn": [
             0.1375347913,
             0.9599084494
            ],
            "passed_time": 23.86716883,
            "remaining_time": 33.92258621,
            "test": [
             0.1393953917,
             0.955904791
            ]
           },
           {
            "iteration": 413,
            "learn": [
             0.137488574,
             0.9598703033
            ],
            "passed_time": 23.92789117,
            "remaining_time": 33.8689474,
            "test": [
             0.1393684031,
             0.955904791
            ]
           },
           {
            "iteration": 414,
            "learn": [
             0.1374416333,
             0.9598703033
            ],
            "passed_time": 23.99465096,
            "remaining_time": 33.82378509,
            "test": [
             0.1393599684,
             0.9557522124
            ]
           },
           {
            "iteration": 415,
            "learn": [
             0.1374170329,
             0.9598703033
            ],
            "passed_time": 24.05290359,
            "remaining_time": 33.76657619,
            "test": [
             0.139378174,
             0.9557522124
            ]
           },
           {
            "iteration": 416,
            "learn": [
             0.1373736824,
             0.9598703033
            ],
            "passed_time": 24.11260596,
            "remaining_time": 33.71138915,
            "test": [
             0.1393859659,
             0.955904791
            ]
           },
           {
            "iteration": 417,
            "learn": [
             0.1373138843,
             0.9599465955
            ],
            "passed_time": 24.1751479,
            "remaining_time": 33.66013416,
            "test": [
             0.1393559653,
             0.9557522124
            ]
           },
           {
            "iteration": 418,
            "learn": [
             0.1372592761,
             0.9600610338
            ],
            "passed_time": 24.23491177,
            "remaining_time": 33.60497312,
            "test": [
             0.139331663,
             0.9557522124
            ]
           },
           {
            "iteration": 419,
            "learn": [
             0.1372118393,
             0.9600228877
            ],
            "passed_time": 24.30172416,
            "remaining_time": 33.55952384,
            "test": [
             0.1393081865,
             0.9560573695
            ]
           },
           {
            "iteration": 420,
            "learn": [
             0.1371652154,
             0.9600610338
            ],
            "passed_time": 24.35078423,
            "remaining_time": 33.48955836,
            "test": [
             0.1393281203,
             0.9562099481
            ]
           },
           {
            "iteration": 421,
            "learn": [
             0.1371451305,
             0.9602136182
            ],
            "passed_time": 24.40295386,
            "remaining_time": 33.42395103,
            "test": [
             0.1393262606,
             0.9562099481
            ]
           },
           {
            "iteration": 422,
            "learn": [
             0.1371314542,
             0.9602136182
            ],
            "passed_time": 24.4575733,
            "remaining_time": 33.36174892,
            "test": [
             0.1393309051,
             0.9562099481
            ]
           },
           {
            "iteration": 423,
            "learn": [
             0.1371053111,
             0.9601754721
            ],
            "passed_time": 24.50884374,
            "remaining_time": 33.295033,
            "test": [
             0.1393128434,
             0.9562099481
            ]
           },
           {
            "iteration": 424,
            "learn": [
             0.1370704804,
             0.9602136182
            ],
            "passed_time": 24.58350527,
            "remaining_time": 33.26003654,
            "test": [
             0.1392966385,
             0.9562099481
            ]
           },
           {
            "iteration": 425,
            "learn": [
             0.1370465393,
             0.9601754721
            ],
            "passed_time": 24.63708448,
            "remaining_time": 33.19644716,
            "test": [
             0.1392949663,
             0.9562099481
            ]
           },
           {
            "iteration": 426,
            "learn": [
             0.1369865183,
             0.9601754721
            ],
            "passed_time": 24.69414086,
            "remaining_time": 33.13757075,
            "test": [
             0.1392912379,
             0.9562099481
            ]
           },
           {
            "iteration": 427,
            "learn": [
             0.1369322901,
             0.9602517643
            ],
            "passed_time": 24.75536672,
            "remaining_time": 33.08427514,
            "test": [
             0.1392970694,
             0.9562099481
            ]
           },
           {
            "iteration": 428,
            "learn": [
             0.1368783462,
             0.9602899104
            ],
            "passed_time": 24.81579556,
            "remaining_time": 33.02988174,
            "test": [
             0.1393278663,
             0.9562099481
            ]
           },
           {
            "iteration": 429,
            "learn": [
             0.1368287563,
             0.9602136182
            ],
            "passed_time": 24.86525873,
            "remaining_time": 32.96092437,
            "test": [
             0.1393625392,
             0.9560573695
            ]
           },
           {
            "iteration": 430,
            "learn": [
             0.1367504493,
             0.9602136182
            ],
            "passed_time": 24.92934523,
            "remaining_time": 32.91136296,
            "test": [
             0.1393183993,
             0.9562099481
            ]
           },
           {
            "iteration": 431,
            "learn": [
             0.136704368,
             0.9602136182
            ],
            "passed_time": 24.97404809,
            "remaining_time": 32.83624841,
            "test": [
             0.1393488988,
             0.9563625267
            ]
           },
           {
            "iteration": 432,
            "learn": [
             0.1366836854,
             0.9602899104
            ],
            "passed_time": 25.0338761,
            "remaining_time": 32.78108025,
            "test": [
             0.1393471322,
             0.9563625267
            ]
           },
           {
            "iteration": 433,
            "learn": [
             0.1366356773,
             0.9603280565
            ],
            "passed_time": 25.07299286,
            "remaining_time": 32.69888009,
            "test": [
             0.1393327,
             0.9560573695
            ]
           },
           {
            "iteration": 434,
            "learn": [
             0.1366118501,
             0.9603280565
            ],
            "passed_time": 25.14539187,
            "remaining_time": 32.66010668,
            "test": [
             0.1393387337,
             0.955904791
            ]
           },
           {
            "iteration": 435,
            "learn": [
             0.1365258928,
             0.9602899104
            ],
            "passed_time": 25.19184526,
            "remaining_time": 32.58761635,
            "test": [
             0.1393317833,
             0.955904791
            ]
           },
           {
            "iteration": 436,
            "learn": [
             0.1364723818,
             0.9602517643
            ],
            "passed_time": 25.25619569,
            "remaining_time": 32.53830246,
            "test": [
             0.1393608938,
             0.9557522124
            ]
           },
           {
            "iteration": 437,
            "learn": [
             0.13646327,
             0.9602517643
            ],
            "passed_time": 25.30727255,
            "remaining_time": 32.47188852,
            "test": [
             0.1393630883,
             0.9557522124
            ]
           },
           {
            "iteration": 438,
            "learn": [
             0.1364185864,
             0.9602899104
            ],
            "passed_time": 25.37090095,
            "remaining_time": 32.42158413,
            "test": [
             0.13937969,
             0.955904791
            ]
           },
           {
            "iteration": 439,
            "learn": [
             0.1363536817,
             0.9604043487
            ],
            "passed_time": 25.44984211,
            "remaining_time": 32.39070814,
            "test": [
             0.1393548105,
             0.9557522124
            ]
           },
           {
            "iteration": 440,
            "learn": [
             0.1363255863,
             0.9604043487
            ],
            "passed_time": 25.49429497,
            "remaining_time": 32.31589771,
            "test": [
             0.1393481042,
             0.9555996338
            ]
           },
           {
            "iteration": 441,
            "learn": [
             0.1363058275,
             0.9604806409
            ],
            "passed_time": 25.55599022,
            "remaining_time": 32.26299218,
            "test": [
             0.1393063045,
             0.9555996338
            ]
           },
           {
            "iteration": 442,
            "learn": [
             0.1362558285,
             0.9604424948
            ],
            "passed_time": 25.61103937,
            "remaining_time": 32.20169058,
            "test": [
             0.139292108,
             0.9557522124
            ]
           },
           {
            "iteration": 443,
            "learn": [
             0.1362257441,
             0.9604424948
            ],
            "passed_time": 25.67445597,
            "remaining_time": 32.15089531,
            "test": [
             0.1393185085,
             0.955904791
            ]
           },
           {
            "iteration": 444,
            "learn": [
             0.13621031,
             0.9604043487
            ],
            "passed_time": 25.72696144,
            "remaining_time": 32.08643505,
            "test": [
             0.1393291711,
             0.955904791
            ]
           },
           {
            "iteration": 445,
            "learn": [
             0.1361597535,
             0.9604424948
            ],
            "passed_time": 25.7853663,
            "remaining_time": 32.02935634,
            "test": [
             0.1393216201,
             0.955904791
            ]
           },
           {
            "iteration": 446,
            "learn": [
             0.1361083011,
             0.9604806409
            ],
            "passed_time": 25.86490216,
            "remaining_time": 31.99841364,
            "test": [
             0.1393125917,
             0.955904791
            ]
           },
           {
            "iteration": 447,
            "learn": [
             0.136085338,
             0.960518787
            ],
            "passed_time": 25.90009465,
            "remaining_time": 31.91261662,
            "test": [
             0.1393107707,
             0.955904791
            ]
           },
           {
            "iteration": 448,
            "learn": [
             0.1360556802,
             0.9605569331
            ],
            "passed_time": 25.95226453,
            "remaining_time": 31.84787919,
            "test": [
             0.139295211,
             0.955904791
            ]
           },
           {
            "iteration": 449,
            "learn": [
             0.1360240392,
             0.9605569331
            ],
            "passed_time": 26.02077547,
            "remaining_time": 31.80317002,
            "test": [
             0.1393136647,
             0.955904791
            ]
           },
           {
            "iteration": 450,
            "learn": [
             0.135996981,
             0.9605950792
            ],
            "passed_time": 26.07668135,
            "remaining_time": 31.74301122,
            "test": [
             0.1393266834,
             0.9557522124
            ]
           },
           {
            "iteration": 451,
            "learn": [
             0.1359743953,
             0.960518787
            ],
            "passed_time": 26.14533469,
            "remaining_time": 31.69832613,
            "test": [
             0.1393188284,
             0.9557522124
            ]
           },
           {
            "iteration": 452,
            "learn": [
             0.1359472866,
             0.9605569331
            ],
            "passed_time": 26.21646312,
            "remaining_time": 31.6565239,
            "test": [
             0.1393009837,
             0.955904791
            ]
           },
           {
            "iteration": 453,
            "learn": [
             0.1359227148,
             0.9606332253
            ],
            "passed_time": 26.28009901,
            "remaining_time": 31.60558163,
            "test": [
             0.1392984618,
             0.955904791
            ]
           },
           {
            "iteration": 454,
            "learn": [
             0.1358714934,
             0.9607476636
            ],
            "passed_time": 26.35063889,
            "remaining_time": 31.56285318,
            "test": [
             0.139320829,
             0.9557522124
            ]
           },
           {
            "iteration": 455,
            "learn": [
             0.135849984,
             0.9607858097
            ],
            "passed_time": 26.41016313,
            "remaining_time": 31.50686128,
            "test": [
             0.1393278176,
             0.9557522124
            ]
           },
           {
            "iteration": 456,
            "learn": [
             0.1358146442,
             0.9607858097
            ],
            "passed_time": 26.499756,
            "remaining_time": 31.48658098,
            "test": [
             0.1393190301,
             0.9557522124
            ]
           },
           {
            "iteration": 457,
            "learn": [
             0.1357610607,
             0.9607858097
            ],
            "passed_time": 26.5740607,
            "remaining_time": 31.44790589,
            "test": [
             0.1393242964,
             0.9562099481
            ]
           },
           {
            "iteration": 458,
            "learn": [
             0.1357361654,
             0.9607858097
            ],
            "passed_time": 26.64028891,
            "remaining_time": 31.39955621,
            "test": [
             0.139327381,
             0.9562099481
            ]
           },
           {
            "iteration": 459,
            "learn": [
             0.135633422,
             0.9608621019
            ],
            "passed_time": 26.70566623,
            "remaining_time": 31.35012992,
            "test": [
             0.1393113259,
             0.955904791
            ]
           },
           {
            "iteration": 460,
            "learn": [
             0.1355963805,
             0.9607476636
            ],
            "passed_time": 26.76105371,
            "remaining_time": 31.28895434,
            "test": [
             0.139349057,
             0.9560573695
            ]
           },
           {
            "iteration": 461,
            "learn": [
             0.1355767993,
             0.9607476636
            ],
            "passed_time": 26.82854735,
            "remaining_time": 31.24190146,
            "test": [
             0.1393296885,
             0.9560573695
            ]
           },
           {
            "iteration": 462,
            "learn": [
             0.1355606427,
             0.9607095175
            ],
            "passed_time": 26.88216335,
            "remaining_time": 31.17866462,
            "test": [
             0.1393315033,
             0.9560573695
            ]
           },
           {
            "iteration": 463,
            "learn": [
             0.1355384597,
             0.9607476636
            ],
            "passed_time": 26.93446073,
            "remaining_time": 31.11394601,
            "test": [
             0.1393381043,
             0.9560573695
            ]
           },
           {
            "iteration": 464,
            "learn": [
             0.1354486255,
             0.9608621019
            ],
            "passed_time": 27.0027377,
            "remaining_time": 31.06766596,
            "test": [
             0.1393222223,
             0.9560573695
            ]
           },
           {
            "iteration": 465,
            "learn": [
             0.1354022493,
             0.9608621019
            ],
            "passed_time": 27.0607564,
            "remaining_time": 31.0095363,
            "test": [
             0.1393704405,
             0.9560573695
            ]
           },
           {
            "iteration": 466,
            "learn": [
             0.1353100135,
             0.9608239558
            ],
            "passed_time": 27.11124383,
            "remaining_time": 30.94281149,
            "test": [
             0.1393977995,
             0.9560573695
            ]
           },
           {
            "iteration": 467,
            "learn": [
             0.1352758475,
             0.9608239558
            ],
            "passed_time": 27.17797868,
            "remaining_time": 30.89462533,
            "test": [
             0.1393723821,
             0.9560573695
            ]
           },
           {
            "iteration": 468,
            "learn": [
             0.1352516758,
             0.9607858097
            ],
            "passed_time": 27.2319342,
            "remaining_time": 30.83189139,
            "test": [
             0.1393591954,
             0.9560573695
            ]
           },
           {
            "iteration": 469,
            "learn": [
             0.1352436229,
             0.9608239558
            ],
            "passed_time": 27.28546686,
            "remaining_time": 30.76871795,
            "test": [
             0.1393613956,
             0.955904791
            ]
           },
           {
            "iteration": 470,
            "learn": [
             0.1351714064,
             0.9610146862
            ],
            "passed_time": 27.33187628,
            "remaining_time": 30.69758504,
            "test": [
             0.1393292622,
             0.9560573695
            ]
           },
           {
            "iteration": 471,
            "learn": [
             0.1351596985,
             0.9610146862
            ],
            "passed_time": 27.39429838,
            "remaining_time": 30.64446937,
            "test": [
             0.1393256466,
             0.9562099481
            ]
           },
           {
            "iteration": 472,
            "learn": [
             0.1351523217,
             0.9610146862
            ],
            "passed_time": 27.43261569,
            "remaining_time": 30.56445765,
            "test": [
             0.1393279051,
             0.9562099481
            ]
           },
           {
            "iteration": 473,
            "learn": [
             0.1350798278,
             0.9609765401
            ],
            "passed_time": 27.49535626,
            "remaining_time": 30.51172446,
            "test": [
             0.1394048006,
             0.9562099481
            ]
           },
           {
            "iteration": 474,
            "learn": [
             0.1350728027,
             0.9609765401
            ],
            "passed_time": 27.53392255,
            "remaining_time": 30.43223019,
            "test": [
             0.1394023533,
             0.9560573695
            ]
           },
           {
            "iteration": 475,
            "learn": [
             0.1350071636,
             0.9610146862
            ],
            "passed_time": 27.58298628,
            "remaining_time": 30.36446389,
            "test": [
             0.1394267757,
             0.9562099481
            ]
           },
           {
            "iteration": 476,
            "learn": [
             0.134946143,
             0.9610146862
            ],
            "passed_time": 27.63191922,
            "remaining_time": 30.2966326,
            "test": [
             0.1394481709,
             0.9562099481
            ]
           },
           {
            "iteration": 477,
            "learn": [
             0.1349171369,
             0.9610528323
            ],
            "passed_time": 27.67412831,
            "remaining_time": 30.22153761,
            "test": [
             0.1394312225,
             0.9560573695
            ]
           },
           {
            "iteration": 478,
            "learn": [
             0.1348815506,
             0.9610909784
            ],
            "passed_time": 27.73290758,
            "remaining_time": 30.16460302,
            "test": [
             0.1394486306,
             0.9562099481
            ]
           },
           {
            "iteration": 479,
            "learn": [
             0.1348638212,
             0.9610146862
            ],
            "passed_time": 27.79820314,
            "remaining_time": 30.11472006,
            "test": [
             0.1394528691,
             0.9563625267
            ]
           },
           {
            "iteration": 480,
            "learn": [
             0.1348187083,
             0.9609765401
            ],
            "passed_time": 27.8553909,
            "remaining_time": 30.05602469,
            "test": [
             0.1394553762,
             0.9560573695
            ]
           },
           {
            "iteration": 481,
            "learn": [
             0.1347970325,
             0.9610528323
            ],
            "passed_time": 27.9138845,
            "remaining_time": 29.99873894,
            "test": [
             0.1394453378,
             0.9560573695
            ]
           },
           {
            "iteration": 482,
            "learn": [
             0.134731834,
             0.9611291245
            ],
            "passed_time": 27.97160227,
            "remaining_time": 29.94061775,
            "test": [
             0.1394452539,
             0.9560573695
            ]
           },
           {
            "iteration": 483,
            "learn": [
             0.1346628347,
             0.9612054167
            ],
            "passed_time": 28.04387267,
            "remaining_time": 29.89801302,
            "test": [
             0.1393915759,
             0.9560573695
            ]
           },
           {
            "iteration": 484,
            "learn": [
             0.1346487326,
             0.9612054167
            ],
            "passed_time": 28.10528874,
            "remaining_time": 29.84376021,
            "test": [
             0.1394046482,
             0.9560573695
            ]
           },
           {
            "iteration": 485,
            "learn": [
             0.1346272173,
             0.9612054167
            ],
            "passed_time": 28.16058084,
            "remaining_time": 29.78300113,
            "test": [
             0.1394057237,
             0.9560573695
            ]
           },
           {
            "iteration": 486,
            "learn": [
             0.1345974815,
             0.9612054167
            ],
            "passed_time": 28.22953549,
            "remaining_time": 29.73665648,
            "test": [
             0.1394010079,
             0.9562099481
            ]
           },
           {
            "iteration": 487,
            "learn": [
             0.134592833,
             0.9612435628
            ],
            "passed_time": 28.29453955,
            "remaining_time": 29.68607428,
            "test": [
             0.1394024025,
             0.9562099481
            ]
           },
           {
            "iteration": 488,
            "learn": [
             0.1345465914,
             0.9612054167
            ],
            "passed_time": 28.36353369,
            "remaining_time": 29.6396027,
            "test": [
             0.1393833285,
             0.9565151053
            ]
           },
           {
            "iteration": 489,
            "learn": [
             0.1344915204,
             0.9612435628
            ],
            "passed_time": 28.42068822,
            "remaining_time": 29.58071631,
            "test": [
             0.1393613864,
             0.9565151053
            ]
           },
           {
            "iteration": 490,
            "learn": [
             0.1344408159,
             0.9612435628
            ],
            "passed_time": 28.48542882,
            "remaining_time": 29.52970116,
            "test": [
             0.1393338382,
             0.9566676839
            ]
           },
           {
            "iteration": 491,
            "learn": [
             0.1343954029,
             0.9612435628
            ],
            "passed_time": 28.5473006,
            "remaining_time": 29.4756681,
            "test": [
             0.1393138509,
             0.9565151053
            ]
           },
           {
            "iteration": 492,
            "learn": [
             0.1343452254,
             0.9611672706
            ],
            "passed_time": 28.61248853,
            "remaining_time": 29.42501356,
            "test": [
             0.1393447452,
             0.9563625267
            ]
           },
           {
            "iteration": 493,
            "learn": [
             0.1343391734,
             0.9611672706
            ],
            "passed_time": 28.67130155,
            "remaining_time": 29.36777041,
            "test": [
             0.1393439833,
             0.9563625267
            ]
           },
           {
            "iteration": 494,
            "learn": [
             0.1343162052,
             0.9612054167
            ],
            "passed_time": 28.73321689,
            "remaining_time": 29.31368592,
            "test": [
             0.1393437294,
             0.9563625267
            ]
           },
           {
            "iteration": 495,
            "learn": [
             0.134256897,
             0.9612054167
            ],
            "passed_time": 28.79061653,
            "remaining_time": 29.25498131,
            "test": [
             0.1393722965,
             0.9563625267
            ]
           },
           {
            "iteration": 496,
            "learn": [
             0.1342241964,
             0.9612817089
            ],
            "passed_time": 28.84549726,
            "remaining_time": 29.19373264,
            "test": [
             0.1393791554,
             0.9563625267
            ]
           },
           {
            "iteration": 497,
            "learn": [
             0.1341919886,
             0.9612817089
            ],
            "passed_time": 28.89242582,
            "remaining_time": 29.12449349,
            "test": [
             0.1393505494,
             0.9565151053
            ]
           },
           {
            "iteration": 498,
            "learn": [
             0.1341709238,
             0.9613580011
            ],
            "passed_time": 28.94764334,
            "remaining_time": 29.06366596,
            "test": [
             0.1393462828,
             0.9562099481
            ]
           },
           {
            "iteration": 499,
            "learn": [
             0.1341506126,
             0.961319855
            ],
            "passed_time": 29.01264783,
            "remaining_time": 29.01264783,
            "test": [
             0.1393228174,
             0.9562099481
            ]
           },
           {
            "iteration": 500,
            "learn": [
             0.1340992684,
             0.9613580011
            ],
            "passed_time": 29.06802822,
            "remaining_time": 28.95198819,
            "test": [
             0.1393193227,
             0.9562099481
            ]
           },
           {
            "iteration": 501,
            "learn": [
             0.1340607025,
             0.961319855
            ],
            "passed_time": 29.1301828,
            "remaining_time": 28.89806979,
            "test": [
             0.1393140047,
             0.9562099481
            ]
           },
           {
            "iteration": 502,
            "learn": [
             0.1340087573,
             0.961319855
            ],
            "passed_time": 29.19188037,
            "remaining_time": 28.84366708,
            "test": [
             0.1393170818,
             0.9562099481
            ]
           },
           {
            "iteration": 503,
            "learn": [
             0.1339230122,
             0.9613580011
            ],
            "passed_time": 29.26614769,
            "remaining_time": 28.80160567,
            "test": [
             0.1392662019,
             0.9562099481
            ]
           },
           {
            "iteration": 504,
            "learn": [
             0.1338622907,
             0.961319855
            ],
            "passed_time": 29.32759951,
            "remaining_time": 28.74685497,
            "test": [
             0.1392957699,
             0.955904791
            ]
           },
           {
            "iteration": 505,
            "learn": [
             0.1337949437,
             0.9612054167
            ],
            "passed_time": 29.3997507,
            "remaining_time": 28.70252341,
            "test": [
             0.1393081751,
             0.955904791
            ]
           },
           {
            "iteration": 506,
            "learn": [
             0.1337337094,
             0.9612435628
            ],
            "passed_time": 29.47124841,
            "remaining_time": 28.65744667,
            "test": [
             0.1393358284,
             0.955904791
            ]
           },
           {
            "iteration": 507,
            "learn": [
             0.1337328945,
             0.9612435628
            ],
            "passed_time": 29.50693597,
            "remaining_time": 28.57758366,
            "test": [
             0.1393376157,
             0.955904791
            ]
           },
           {
            "iteration": 508,
            "learn": [
             0.1336650642,
             0.9612435628
            ],
            "passed_time": 29.55581713,
            "remaining_time": 28.51062123,
            "test": [
             0.1393316953,
             0.955904791
            ]
           },
           {
            "iteration": 509,
            "learn": [
             0.1336266737,
             0.961319855
            ],
            "passed_time": 29.61760307,
            "remaining_time": 28.45612844,
            "test": [
             0.1393472394,
             0.955904791
            ]
           },
           {
            "iteration": 510,
            "learn": [
             0.1335859902,
             0.9614342933
            ],
            "passed_time": 29.67302876,
            "remaining_time": 28.39552067,
            "test": [
             0.1393491177,
             0.955904791
            ]
           },
           {
            "iteration": 511,
            "learn": [
             0.1335524579,
             0.9613961472
            ],
            "passed_time": 29.74120771,
            "remaining_time": 28.3470886,
            "test": [
             0.1393376475,
             0.955904791
            ]
           },
           {
            "iteration": 512,
            "learn": [
             0.1334811886,
             0.9615487316
            ],
            "passed_time": 29.80086934,
            "remaining_time": 28.2904939,
            "test": [
             0.1393421189,
             0.9562099481
            ]
           },
           {
            "iteration": 513,
            "learn": [
             0.1334708513,
             0.9615868777
            ],
            "passed_time": 29.85561954,
            "remaining_time": 28.22924338,
            "test": [
             0.1393365581,
             0.9560573695
            ]
           },
           {
            "iteration": 514,
            "learn": [
             0.1334197825,
             0.9615868777
            ],
            "passed_time": 29.89861514,
            "remaining_time": 28.15694824,
            "test": [
             0.1393347241,
             0.9562099481
            ]
           },
           {
            "iteration": 515,
            "learn": [
             0.133406508,
             0.9615868777
            ],
            "passed_time": 29.95972213,
            "remaining_time": 28.10175487,
            "test": [
             0.1393459154,
             0.9560573695
            ]
           },
           {
            "iteration": 516,
            "learn": [
             0.1333707787,
             0.9615487316
            ],
            "passed_time": 29.99518111,
            "remaining_time": 28.02257732,
            "test": [
             0.1393532049,
             0.9560573695
            ]
           },
           {
            "iteration": 517,
            "learn": [
             0.1333361839,
             0.9615487316
            ],
            "passed_time": 30.04646939,
            "remaining_time": 27.95829777,
            "test": [
             0.1393954191,
             0.955904791
            ]
           },
           {
            "iteration": 518,
            "learn": [
             0.1332835587,
             0.9615868777
            ],
            "passed_time": 30.11446528,
            "remaining_time": 27.9095526,
            "test": [
             0.1393977608,
             0.955904791
            ]
           },
           {
            "iteration": 519,
            "learn": [
             0.1332725445,
             0.9615868777
            ],
            "passed_time": 30.18592464,
            "remaining_time": 27.86393044,
            "test": [
             0.1394167399,
             0.9560573695
            ]
           },
           {
            "iteration": 520,
            "learn": [
             0.13323469,
             0.9616250238
            ],
            "passed_time": 30.24118805,
            "remaining_time": 27.80331877,
            "test": [
             0.1394186906,
             0.9560573695
            ]
           },
           {
            "iteration": 521,
            "learn": [
             0.1331881362,
             0.961701316
            ],
            "passed_time": 30.30443299,
            "remaining_time": 27.75003634,
            "test": [
             0.1394091197,
             0.955904791
            ]
           },
           {
            "iteration": 522,
            "learn": [
             0.1331123994,
             0.9616250238
            ],
            "passed_time": 30.3617084,
            "remaining_time": 27.69127134,
            "test": [
             0.1393823384,
             0.955904791
            ]
           },
           {
            "iteration": 523,
            "learn": [
             0.133092669,
             0.9616631699
            ],
            "passed_time": 30.42725994,
            "remaining_time": 27.64003003,
            "test": [
             0.1393814285,
             0.955904791
            ]
           },
           {
            "iteration": 524,
            "learn": [
             0.1330565846,
             0.9616250238
            ],
            "passed_time": 30.47278611,
            "remaining_time": 27.57061601,
            "test": [
             0.1393954517,
             0.9560573695
            ]
           },
           {
            "iteration": 525,
            "learn": [
             0.1330248586,
             0.9616631699
            ],
            "passed_time": 30.53496604,
            "remaining_time": 27.5163002,
            "test": [
             0.139370838,
             0.9560573695
            ]
           },
           {
            "iteration": 526,
            "learn": [
             0.132962307,
             0.9616250238
            ],
            "passed_time": 30.5900376,
            "remaining_time": 27.45557454,
            "test": [
             0.1393643264,
             0.9560573695
            ]
           },
           {
            "iteration": 527,
            "learn": [
             0.1329531922,
             0.9616250238
            ],
            "passed_time": 30.65472093,
            "remaining_time": 27.40346265,
            "test": [
             0.1393614343,
             0.9560573695
            ]
           },
           {
            "iteration": 528,
            "learn": [
             0.1329072682,
             0.9616631699
            ],
            "passed_time": 30.71301318,
            "remaining_time": 27.34561287,
            "test": [
             0.1393554962,
             0.955904791
            ]
           },
           {
            "iteration": 529,
            "learn": [
             0.1328546972,
             0.9616631699
            ],
            "passed_time": 30.75874005,
            "remaining_time": 27.27661853,
            "test": [
             0.1393607614,
             0.955904791
            ]
           },
           {
            "iteration": 530,
            "learn": [
             0.1328206001,
             0.9616250238
            ],
            "passed_time": 30.81306798,
            "remaining_time": 27.21530863,
            "test": [
             0.1393567194,
             0.955904791
            ]
           },
           {
            "iteration": 531,
            "learn": [
             0.132802947,
             0.9616250238
            ],
            "passed_time": 30.87342686,
            "remaining_time": 27.15933039,
            "test": [
             0.1393363204,
             0.955904791
            ]
           },
           {
            "iteration": 532,
            "learn": [
             0.1327888808,
             0.9616250238
            ],
            "passed_time": 30.93073015,
            "remaining_time": 27.1006585,
            "test": [
             0.1393377023,
             0.9557522124
            ]
           },
           {
            "iteration": 533,
            "learn": [
             0.1327083649,
             0.9615487316
            ],
            "passed_time": 31.01033418,
            "remaining_time": 27.06145268,
            "test": [
             0.1393232808,
             0.9557522124
            ]
           },
           {
            "iteration": 534,
            "learn": [
             0.1326780505,
             0.9615868777
            ],
            "passed_time": 31.06773136,
            "remaining_time": 27.00279454,
            "test": [
             0.139311047,
             0.9555996338
            ]
           },
           {
            "iteration": 535,
            "learn": [
             0.1326594407,
             0.9615868777
            ],
            "passed_time": 31.13304001,
            "remaining_time": 26.95098986,
            "test": [
             0.1392906039,
             0.9557522124
            ]
           },
           {
            "iteration": 536,
            "learn": [
             0.1326425684,
             0.9615868777
            ],
            "passed_time": 31.19436459,
            "remaining_time": 26.89569982,
            "test": [
             0.1392727462,
             0.9557522124
            ]
           },
           {
            "iteration": 537,
            "learn": [
             0.1326042725,
             0.9617394621
            ],
            "passed_time": 31.26212017,
            "remaining_time": 26.84590989,
            "test": [
             0.1392613703,
             0.9557522124
            ]
           },
           {
            "iteration": 538,
            "learn": [
             0.1325855446,
             0.9617776082
            ],
            "passed_time": 31.32096843,
            "remaining_time": 26.78843497,
            "test": [
             0.1392756016,
             0.9557522124
            ]
           },
           {
            "iteration": 539,
            "learn": [
             0.1325439619,
             0.9617776082
            ],
            "passed_time": 31.38252345,
            "remaining_time": 26.73326072,
            "test": [
             0.1392925527,
             0.9555996338
            ]
           },
           {
            "iteration": 540,
            "learn": [
             0.1325130103,
             0.9617394621
            ],
            "passed_time": 31.44078641,
            "remaining_time": 26.6752698,
            "test": [
             0.1392894208,
             0.9557522124
            ]
           },
           {
            "iteration": 541,
            "learn": [
             0.1324944369,
             0.9618157543
            ],
            "passed_time": 31.4948303,
            "remaining_time": 26.61371269,
            "test": [
             0.1393176399,
             0.9557522124
            ]
           },
           {
            "iteration": 542,
            "learn": [
             0.1324622958,
             0.9618157543
            ],
            "passed_time": 31.57489565,
            "remaining_time": 26.57408345,
            "test": [
             0.1392994139,
             0.9557522124
            ]
           },
           {
            "iteration": 543,
            "learn": [
             0.1324274687,
             0.9617776082
            ],
            "passed_time": 31.63699617,
            "remaining_time": 26.51924679,
            "test": [
             0.1392969609,
             0.955904791
            ]
           },
           {
            "iteration": 544,
            "learn": [
             0.1323858849,
             0.9617394621
            ],
            "passed_time": 31.69264127,
            "remaining_time": 26.45899409,
            "test": [
             0.1392827745,
             0.955904791
            ]
           },
           {
            "iteration": 545,
            "learn": [
             0.1323464986,
             0.9618157543
            ],
            "passed_time": 31.76157909,
            "remaining_time": 26.40981119,
            "test": [
             0.1392895729,
             0.955904791
            ]
           },
           {
            "iteration": 546,
            "learn": [
             0.1323242103,
             0.9618157543
            ],
            "passed_time": 31.81620092,
            "remaining_time": 26.34870021,
            "test": [
             0.1392829375,
             0.9560573695
            ]
           },
           {
            "iteration": 547,
            "learn": [
             0.1323063378,
             0.9618157543
            ],
            "passed_time": 31.88186837,
            "remaining_time": 26.29672355,
            "test": [
             0.1392697877,
             0.9560573695
            ]
           },
           {
            "iteration": 548,
            "learn": [
             0.1322787134,
             0.9617776082
            ],
            "passed_time": 31.94043248,
            "remaining_time": 26.23886165,
            "test": [
             0.1392408176,
             0.9563625267
            ]
           },
           {
            "iteration": 549,
            "learn": [
             0.1322335196,
             0.9618157543
            ],
            "passed_time": 32.00859066,
            "remaining_time": 26.18884691,
            "test": [
             0.1392475988,
             0.9563625267
            ]
           },
           {
            "iteration": 550,
            "learn": [
             0.1321920918,
             0.9617776082
            ],
            "passed_time": 32.06985428,
            "remaining_time": 26.13314804,
            "test": [
             0.1392691962,
             0.9563625267
            ]
           },
           {
            "iteration": 551,
            "learn": [
             0.1321535959,
             0.9618157543
            ],
            "passed_time": 32.12666317,
            "remaining_time": 26.07381358,
            "test": [
             0.1392607628,
             0.9563625267
            ]
           },
           {
            "iteration": 552,
            "learn": [
             0.1321110866,
             0.9618539004
            ],
            "passed_time": 32.1768938,
            "remaining_time": 26.00917094,
            "test": [
             0.1392580447,
             0.9562099481
            ]
           },
           {
            "iteration": 553,
            "learn": [
             0.1320759418,
             0.9618539004
            ],
            "passed_time": 32.24559342,
            "remaining_time": 25.95944885,
            "test": [
             0.1392693954,
             0.9562099481
            ]
           },
           {
            "iteration": 554,
            "learn": [
             0.1320605556,
             0.9618920465
            ],
            "passed_time": 32.30763088,
            "remaining_time": 25.90431665,
            "test": [
             0.1392750659,
             0.9562099481
            ]
           },
           {
            "iteration": 555,
            "learn": [
             0.1320426947,
             0.9618920465
            ],
            "passed_time": 32.36670982,
            "remaining_time": 25.84679705,
            "test": [
             0.1392871809,
             0.9562099481
            ]
           },
           {
            "iteration": 556,
            "learn": [
             0.1319350989,
             0.9621209231
            ],
            "passed_time": 32.43700111,
            "remaining_time": 25.79818939,
            "test": [
             0.1393139375,
             0.9562099481
            ]
           },
           {
            "iteration": 557,
            "learn": [
             0.1319129961,
             0.9621209231
            ],
            "passed_time": 32.50138332,
            "remaining_time": 25.74482335,
            "test": [
             0.139318987,
             0.9560573695
            ]
           },
           {
            "iteration": 558,
            "learn": [
             0.131878644,
             0.9621209231
            ],
            "passed_time": 32.5534063,
            "remaining_time": 25.68166758,
            "test": [
             0.1393093869,
             0.9560573695
            ]
           },
           {
            "iteration": 559,
            "learn": [
             0.1318425122,
             0.962082777
            ],
            "passed_time": 32.61013373,
            "remaining_time": 25.62224793,
            "test": [
             0.1393015736,
             0.9562099481
            ]
           },
           {
            "iteration": 560,
            "learn": [
             0.1318236609,
             0.962082777
            ],
            "passed_time": 32.67790916,
            "remaining_time": 25.57148328,
            "test": [
             0.1393219121,
             0.9562099481
            ]
           },
           {
            "iteration": 561,
            "learn": [
             0.1317869321,
             0.962082777
            ],
            "passed_time": 32.75903849,
            "remaining_time": 25.53106559,
            "test": [
             0.1392905743,
             0.9562099481
            ]
           },
           {
            "iteration": 562,
            "learn": [
             0.1317826747,
             0.962082777
            ],
            "passed_time": 32.81186526,
            "remaining_time": 25.46853485,
            "test": [
             0.1392831095,
             0.9562099481
            ]
           },
           {
            "iteration": 563,
            "learn": [
             0.1317684196,
             0.962082777
            ],
            "passed_time": 32.86083881,
            "remaining_time": 25.40305979,
            "test": [
             0.1392827139,
             0.9562099481
            ]
           },
           {
            "iteration": 564,
            "learn": [
             0.1317640809,
             0.962082777
            ],
            "passed_time": 32.91337346,
            "remaining_time": 25.34038488,
            "test": [
             0.1392798407,
             0.9562099481
            ]
           },
           {
            "iteration": 565,
            "learn": [
             0.1317250451,
             0.9621590692
            ],
            "passed_time": 32.98845797,
            "remaining_time": 25.29503668,
            "test": [
             0.1392624414,
             0.9562099481
            ]
           },
           {
            "iteration": 566,
            "learn": [
             0.1317090255,
             0.962082777
            ],
            "passed_time": 33.05174991,
            "remaining_time": 25.24057797,
            "test": [
             0.1392739217,
             0.9563625267
            ]
           },
           {
            "iteration": 567,
            "learn": [
             0.1316467187,
             0.9621209231
            ],
            "passed_time": 33.10071823,
            "remaining_time": 25.17519414,
            "test": [
             0.1392767688,
             0.9560573695
            ]
           },
           {
            "iteration": 568,
            "learn": [
             0.1315988408,
             0.9621972153
            ],
            "passed_time": 33.16450572,
            "remaining_time": 25.12109308,
            "test": [
             0.1392567835,
             0.9560573695
            ]
           },
           {
            "iteration": 569,
            "learn": [
             0.1315143413,
             0.9622353614
            ],
            "passed_time": 33.24472104,
            "remaining_time": 25.07935096,
            "test": [
             0.1392475272,
             0.9560573695
            ]
           },
           {
            "iteration": 570,
            "learn": [
             0.1314677793,
             0.9621209231
            ],
            "passed_time": 33.31183913,
            "remaining_time": 25.02763395,
            "test": [
             0.1392825237,
             0.9560573695
            ]
           },
           {
            "iteration": 571,
            "learn": [
             0.1313710929,
             0.9621590692
            ],
            "passed_time": 33.37425304,
            "remaining_time": 24.97234319,
            "test": [
             0.1393261643,
             0.9560573695
            ]
           },
           {
            "iteration": 572,
            "learn": [
             0.1313602417,
             0.9621590692
            ],
            "passed_time": 33.43929926,
            "remaining_time": 24.91898916,
            "test": [
             0.1393216147,
             0.9560573695
            ]
           },
           {
            "iteration": 573,
            "learn": [
             0.1313526061,
             0.9621972153
            ],
            "passed_time": 33.49761625,
            "remaining_time": 24.86060021,
            "test": [
             0.1393019774,
             0.9560573695
            ]
           },
           {
            "iteration": 574,
            "learn": [
             0.1313055219,
             0.962082777
            ],
            "passed_time": 33.56302149,
            "remaining_time": 24.80745067,
            "test": [
             0.1393182198,
             0.9560573695
            ]
           },
           {
            "iteration": 575,
            "learn": [
             0.1312843971,
             0.9621590692
            ],
            "passed_time": 33.60499639,
            "remaining_time": 24.73701123,
            "test": [
             0.1393163554,
             0.9562099481
            ]
           },
           {
            "iteration": 576,
            "learn": [
             0.1312517323,
             0.9621972153
            ],
            "passed_time": 33.66750211,
            "remaining_time": 24.68172165,
            "test": [
             0.1392941591,
             0.9562099481
            ]
           },
           {
            "iteration": 577,
            "learn": [
             0.1312227483,
             0.9621972153
            ],
            "passed_time": 33.72572964,
            "remaining_time": 24.62328358,
            "test": [
             0.1393049911,
             0.9562099481
            ]
           },
           {
            "iteration": 578,
            "learn": [
             0.131206108,
             0.9621972153
            ],
            "passed_time": 33.79186429,
            "remaining_time": 24.57059562,
            "test": [
             0.1392944602,
             0.9563625267
            ]
           },
           {
            "iteration": 579,
            "learn": [
             0.1311258411,
             0.9621972153
            ],
            "passed_time": 33.84888801,
            "remaining_time": 24.51126373,
            "test": [
             0.1392607452,
             0.9563625267
            ]
           },
           {
            "iteration": 580,
            "learn": [
             0.1310699258,
             0.9621972153
            ],
            "passed_time": 33.90875284,
            "remaining_time": 24.45398871,
            "test": [
             0.1392821408,
             0.9563625267
            ]
           },
           {
            "iteration": 581,
            "learn": [
             0.1310699165,
             0.9621972153
            ],
            "passed_time": 33.95442561,
            "remaining_time": 24.38651186,
            "test": [
             0.1392821088,
             0.9563625267
            ]
           },
           {
            "iteration": 582,
            "learn": [
             0.131041857,
             0.9621972153
            ],
            "passed_time": 34.01973424,
            "remaining_time": 24.33315468,
            "test": [
             0.139263468,
             0.9565151053
            ]
           },
           {
            "iteration": 583,
            "learn": [
             0.1310060258,
             0.9622353614
            ],
            "passed_time": 34.10001827,
            "remaining_time": 24.29042397,
            "test": [
             0.1392355332,
             0.9565151053
            ]
           },
           {
            "iteration": 584,
            "learn": [
             0.1309115523,
             0.9621972153
            ],
            "passed_time": 34.16219024,
            "remaining_time": 24.23471615,
            "test": [
             0.1392781409,
             0.9563625267
            ]
           },
           {
            "iteration": 585,
            "learn": [
             0.1308810815,
             0.9621972153
            ],
            "passed_time": 34.22239554,
            "remaining_time": 24.17759685,
            "test": [
             0.1392774373,
             0.9562099481
            ]
           },
           {
            "iteration": 586,
            "learn": [
             0.1308459243,
             0.9622735075
            ],
            "passed_time": 34.29868713,
            "remaining_time": 24.13178498,
            "test": [
             0.1392793688,
             0.9562099481
            ]
           },
           {
            "iteration": 587,
            "learn": [
             0.1307891791,
             0.9623116536
            ],
            "passed_time": 34.36631316,
            "remaining_time": 24.07979765,
            "test": [
             0.1392747155,
             0.9562099481
            ]
           },
           {
            "iteration": 588,
            "learn": [
             0.1307256642,
             0.9623116536
            ],
            "passed_time": 34.43028909,
            "remaining_time": 24.02521021,
            "test": [
             0.1393255521,
             0.9565151053
            ]
           },
           {
            "iteration": 589,
            "learn": [
             0.1306495306,
             0.9624260919
            ],
            "passed_time": 34.48885125,
            "remaining_time": 23.96682883,
            "test": [
             0.1393182334,
             0.9563625267
            ]
           },
           {
            "iteration": 590,
            "learn": [
             0.1306017814,
             0.9624260919
            ],
            "passed_time": 34.54116403,
            "remaining_time": 23.90412197,
            "test": [
             0.1392908831,
             0.9563625267
            ]
           },
           {
            "iteration": 591,
            "learn": [
             0.1305722361,
             0.9623497997
            ],
            "passed_time": 34.59062923,
            "remaining_time": 23.83948771,
            "test": [
             0.1392927308,
             0.9563625267
            ]
           },
           {
            "iteration": 592,
            "learn": [
             0.1305608941,
             0.9623497997
            ],
            "passed_time": 34.65102334,
            "remaining_time": 23.78240556,
            "test": [
             0.13929886,
             0.9565151053
            ]
           },
           {
            "iteration": 593,
            "learn": [
             0.1305421347,
             0.9623497997
            ],
            "passed_time": 34.71936219,
            "remaining_time": 23.73074251,
            "test": [
             0.1392952471,
             0.9563625267
            ]
           },
           {
            "iteration": 594,
            "learn": [
             0.1305014413,
             0.9623879458
            ],
            "passed_time": 34.77770958,
            "remaining_time": 23.67222249,
            "test": [
             0.1392911447,
             0.9565151053
            ]
           },
           {
            "iteration": 595,
            "learn": [
             0.1304717429,
             0.962464238
            ],
            "passed_time": 34.83895744,
            "remaining_time": 23.61566913,
            "test": [
             0.139315213,
             0.9563625267
            ]
           },
           {
            "iteration": 596,
            "learn": [
             0.1304136918,
             0.962464238
            ],
            "passed_time": 34.90050613,
            "remaining_time": 23.55930313,
            "test": [
             0.1393169263,
             0.9566676839
            ]
           },
           {
            "iteration": 597,
            "learn": [
             0.1303970953,
             0.9624260919
            ],
            "passed_time": 34.94630753,
            "remaining_time": 23.49233382,
            "test": [
             0.1393207176,
             0.9568202624
            ]
           },
           {
            "iteration": 598,
            "learn": [
             0.1303718798,
             0.9624260919
            ],
            "passed_time": 34.99801728,
            "remaining_time": 23.42939053,
            "test": [
             0.1393189787,
             0.9565151053
            ]
           },
           {
            "iteration": 599,
            "learn": [
             0.130337086,
             0.9625023841
            ],
            "passed_time": 35.05023782,
            "remaining_time": 23.36682522,
            "test": [
             0.1393200345,
             0.9563625267
            ]
           },
           {
            "iteration": 600,
            "learn": [
             0.1303295974,
             0.9625023841
            ],
            "passed_time": 35.10715761,
            "remaining_time": 23.30741412,
            "test": [
             0.1393153911,
             0.9563625267
            ]
           },
           {
            "iteration": 601,
            "learn": [
             0.130259015,
             0.962464238
            ],
            "passed_time": 35.17476767,
            "remaining_time": 23.25507896,
            "test": [
             0.1392957507,
             0.9562099481
            ]
           },
           {
            "iteration": 602,
            "learn": [
             0.1302170779,
             0.962464238
            ],
            "passed_time": 35.2373636,
            "remaining_time": 23.19939196,
            "test": [
             0.1392994207,
             0.9563625267
            ]
           },
           {
            "iteration": 603,
            "learn": [
             0.1301903441,
             0.9626168224
            ],
            "passed_time": 35.30051466,
            "remaining_time": 23.14404604,
            "test": [
             0.1392853901,
             0.9563625267
            ]
           },
           {
            "iteration": 604,
            "learn": [
             0.130145925,
             0.9626168224
            ],
            "passed_time": 35.37386415,
            "remaining_time": 23.09533279,
            "test": [
             0.1392767102,
             0.9560573695
            ]
           },
           {
            "iteration": 605,
            "learn": [
             0.1301167535,
             0.9626931146
            ],
            "passed_time": 35.43196605,
            "remaining_time": 23.03662479,
            "test": [
             0.1392887979,
             0.9563625267
            ]
           },
           {
            "iteration": 606,
            "learn": [
             0.1300908954,
             0.9626168224
            ],
            "passed_time": 35.49122162,
            "remaining_time": 22.97866573,
            "test": [
             0.1392763133,
             0.9563625267
            ]
           },
           {
            "iteration": 607,
            "learn": [
             0.1300531566,
             0.9626168224
            ],
            "passed_time": 35.56330213,
            "remaining_time": 22.92897111,
            "test": [
             0.1393264483,
             0.9560573695
            ]
           },
           {
            "iteration": 608,
            "learn": [
             0.1300232213,
             0.9626168224
            ],
            "passed_time": 35.61898088,
            "remaining_time": 22.86867245,
            "test": [
             0.1393319877,
             0.9562099481
            ]
           },
           {
            "iteration": 609,
            "learn": [
             0.1300079291,
             0.9626168224
            ],
            "passed_time": 35.68746435,
            "remaining_time": 22.81657557,
            "test": [
             0.1393296677,
             0.9560573695
            ]
           },
           {
            "iteration": 610,
            "learn": [
             0.129944899,
             0.9626931146
            ],
            "passed_time": 35.75826225,
            "remaining_time": 22.76589855,
            "test": [
             0.139317673,
             0.9563625267
            ]
           },
           {
            "iteration": 611,
            "learn": [
             0.1299311092,
             0.9626931146
            ],
            "passed_time": 35.82372712,
            "remaining_time": 22.71177471,
            "test": [
             0.1392961525,
             0.9563625267
            ]
           },
           {
            "iteration": 612,
            "learn": [
             0.1299171073,
             0.9626931146
            ],
            "passed_time": 35.88470436,
            "remaining_time": 22.65478073,
            "test": [
             0.1392702795,
             0.9563625267
            ]
           },
           {
            "iteration": 613,
            "learn": [
             0.1298994546,
             0.9626931146
            ],
            "passed_time": 35.9497965,
            "remaining_time": 22.60036066,
            "test": [
             0.1392795092,
             0.9562099481
            ]
           },
           {
            "iteration": 614,
            "learn": [
             0.1298481508,
             0.9626549685
            ],
            "passed_time": 36.00904548,
            "remaining_time": 22.54224798,
            "test": [
             0.1392876876,
             0.9560573695
            ]
           },
           {
            "iteration": 615,
            "learn": [
             0.129780501,
             0.9627312607
            ],
            "passed_time": 36.0904951,
            "remaining_time": 22.49797097,
            "test": [
             0.1392827513,
             0.9563625267
            ]
           },
           {
            "iteration": 616,
            "learn": [
             0.1297476062,
             0.9626931146
            ],
            "passed_time": 36.16411243,
            "remaining_time": 22.44871161,
            "test": [
             0.1392919601,
             0.9563625267
            ]
           },
           {
            "iteration": 617,
            "learn": [
             0.129717847,
             0.9627312607
            ],
            "passed_time": 36.21671346,
            "remaining_time": 22.38638275,
            "test": [
             0.1392866251,
             0.9563625267
            ]
           },
           {
            "iteration": 618,
            "learn": [
             0.1297134895,
             0.9627312607
            ],
            "passed_time": 36.27789904,
            "remaining_time": 22.3293692,
            "test": [
             0.1392859308,
             0.9565151053
            ]
           },
           {
            "iteration": 619,
            "learn": [
             0.129689962,
             0.9627694068
            ],
            "passed_time": 36.33848794,
            "remaining_time": 22.27197648,
            "test": [
             0.1392752314,
             0.9565151053
            ]
           },
           {
            "iteration": 620,
            "learn": [
             0.1296436784,
             0.9627312607
            ],
            "passed_time": 36.40684107,
            "remaining_time": 22.21931202,
            "test": [
             0.1392815068,
             0.9563625267
            ]
           },
           {
            "iteration": 621,
            "learn": [
             0.1296290254,
             0.9627312607
            ],
            "passed_time": 36.47623696,
            "remaining_time": 22.16723082,
            "test": [
             0.1392762207,
             0.9563625267
            ]
           },
           {
            "iteration": 622,
            "learn": [
             0.1295868227,
             0.9627312607
            ],
            "passed_time": 36.53902188,
            "remaining_time": 22.1110935,
            "test": [
             0.139265047,
             0.9565151053
            ]
           },
           {
            "iteration": 623,
            "learn": [
             0.1295693125,
             0.9627694068
            ],
            "passed_time": 36.60025427,
            "remaining_time": 22.05399937,
            "test": [
             0.1392750895,
             0.9566676839
            ]
           },
           {
            "iteration": 624,
            "learn": [
             0.1295159675,
             0.9628075529
            ],
            "passed_time": 36.66473973,
            "remaining_time": 21.99884384,
            "test": [
             0.1392591831,
             0.9565151053
            ]
           },
           {
            "iteration": 625,
            "learn": [
             0.1294795346,
             0.9627694068
            ],
            "passed_time": 36.72240534,
            "remaining_time": 21.93958402,
            "test": [
             0.1392908727,
             0.9563625267
            ]
           },
           {
            "iteration": 626,
            "learn": [
             0.1294654185,
             0.9627312607
            ],
            "passed_time": 36.76854872,
            "remaining_time": 21.87347476,
            "test": [
             0.1392779345,
             0.9563625267
            ]
           },
           {
            "iteration": 627,
            "learn": [
             0.1294166157,
             0.9628838451
            ],
            "passed_time": 36.8506156,
            "remaining_time": 21.82870861,
            "test": [
             0.1392850113,
             0.9563625267
            ]
           },
           {
            "iteration": 628,
            "learn": [
             0.1293988482,
             0.9628838451
            ],
            "passed_time": 36.89984956,
            "remaining_time": 21.76445817,
            "test": [
             0.1392914861,
             0.9563625267
            ]
           },
           {
            "iteration": 629,
            "learn": [
             0.1293721547,
             0.9629219912
            ],
            "passed_time": 36.96661413,
            "remaining_time": 21.71055116,
            "test": [
             0.1393018038,
             0.9562099481
            ]
           },
           {
            "iteration": 630,
            "learn": [
             0.1293573852,
             0.9629219912
            ],
            "passed_time": 37.01721394,
            "remaining_time": 21.64715047,
            "test": [
             0.1392952756,
             0.9563625267
            ]
           },
           {
            "iteration": 631,
            "learn": [
             0.1292652541,
             0.962845699
            ],
            "passed_time": 37.09114807,
            "remaining_time": 21.59737736,
            "test": [
             0.1393355693,
             0.9566676839
            ]
           },
           {
            "iteration": 632,
            "learn": [
             0.1292494394,
             0.9628075529
            ],
            "passed_time": 37.15404216,
            "remaining_time": 21.54112713,
            "test": [
             0.1393250403,
             0.9566676839
            ]
           },
           {
            "iteration": 633,
            "learn": [
             0.1291965744,
             0.9627312607
            ],
            "passed_time": 37.22011186,
            "remaining_time": 21.48668918,
            "test": [
             0.1393317257,
             0.9563625267
            ]
           },
           {
            "iteration": 634,
            "learn": [
             0.1291628749,
             0.9627694068
            ],
            "passed_time": 37.27257609,
            "remaining_time": 21.42439413,
            "test": [
             0.1393283622,
             0.9562099481
            ]
           },
           {
            "iteration": 635,
            "learn": [
             0.1291357669,
             0.962845699
            ],
            "passed_time": 37.34765029,
            "remaining_time": 21.37507029,
            "test": [
             0.1393336058,
             0.9563625267
            ]
           },
           {
            "iteration": 636,
            "learn": [
             0.1291134443,
             0.9629601373
            ],
            "passed_time": 37.41741645,
            "remaining_time": 21.32264077,
            "test": [
             0.1393366477,
             0.9563625267
            ]
           },
           {
            "iteration": 637,
            "learn": [
             0.1291099792,
             0.9629601373
            ],
            "passed_time": 37.47480144,
            "remaining_time": 21.26313185,
            "test": [
             0.1393386771,
             0.9563625267
            ]
           },
           {
            "iteration": 638,
            "learn": [
             0.1290811851,
             0.9629219912
            ],
            "passed_time": 37.53332637,
            "remaining_time": 21.20427358,
            "test": [
             0.1393569092,
             0.9562099481
            ]
           },
           {
            "iteration": 639,
            "learn": [
             0.129004407,
             0.9629601373
            ],
            "passed_time": 37.61280644,
            "remaining_time": 21.15720362,
            "test": [
             0.1392986323,
             0.9563625267
            ]
           },
           {
            "iteration": 640,
            "learn": [
             0.1289797438,
             0.9629982834
            ],
            "passed_time": 37.67419091,
            "remaining_time": 21.09989787,
            "test": [
             0.1393137138,
             0.9563625267
            ]
           },
           {
            "iteration": 641,
            "learn": [
             0.128898702,
             0.9631127217
            ],
            "passed_time": 37.73745853,
            "remaining_time": 21.04362952,
            "test": [
             0.1393041026,
             0.9562099481
            ]
           },
           {
            "iteration": 642,
            "learn": [
             0.1288780624,
             0.96322716
            ],
            "passed_time": 37.80470495,
            "remaining_time": 20.98954847,
            "test": [
             0.1393069784,
             0.9562099481
            ]
           },
           {
            "iteration": 643,
            "learn": [
             0.1288434188,
             0.9631508678
            ],
            "passed_time": 37.87415203,
            "remaining_time": 20.93664304,
            "test": [
             0.1392775587,
             0.9562099481
            ]
           },
           {
            "iteration": 644,
            "learn": [
             0.1288250538,
             0.96322716
            ],
            "passed_time": 37.9383524,
            "remaining_time": 20.88079861,
            "test": [
             0.139271534,
             0.9562099481
            ]
           },
           {
            "iteration": 645,
            "learn": [
             0.128788755,
             0.96322716
            ],
            "passed_time": 38.00864126,
            "remaining_time": 20.82826471,
            "test": [
             0.139224799,
             0.9562099481
            ]
           },
           {
            "iteration": 646,
            "learn": [
             0.1287477865,
             0.9631890139
            ],
            "passed_time": 38.06549987,
            "remaining_time": 20.76834846,
            "test": [
             0.1391787193,
             0.9563625267
            ]
           },
           {
            "iteration": 647,
            "learn": [
             0.1287220175,
             0.96322716
            ],
            "passed_time": 38.12112218,
            "remaining_time": 20.70777007,
            "test": [
             0.1391751168,
             0.9562099481
            ]
           },
           {
            "iteration": 648,
            "learn": [
             0.1286575972,
             0.96322716
            ],
            "passed_time": 38.18674045,
            "remaining_time": 20.65261309,
            "test": [
             0.1391687264,
             0.9562099481
            ]
           },
           {
            "iteration": 649,
            "learn": [
             0.1286408268,
             0.9632653061
            ],
            "passed_time": 38.26004187,
            "remaining_time": 20.60156101,
            "test": [
             0.139157592,
             0.9562099481
            ]
           },
           {
            "iteration": 650,
            "learn": [
             0.1286249635,
             0.96322716
            ],
            "passed_time": 38.33118717,
            "remaining_time": 20.54928467,
            "test": [
             0.139155485,
             0.9562099481
            ]
           },
           {
            "iteration": 651,
            "learn": [
             0.1285916961,
             0.9632653061
            ],
            "passed_time": 38.39804751,
            "remaining_time": 20.49466339,
            "test": [
             0.1391739602,
             0.9562099481
            ]
           },
           {
            "iteration": 652,
            "learn": [
             0.1285761556,
             0.9632653061
            ],
            "passed_time": 38.45201572,
            "remaining_time": 20.43315384,
            "test": [
             0.1391645233,
             0.9563625267
            ]
           },
           {
            "iteration": 653,
            "learn": [
             0.1285531447,
             0.96322716
            ],
            "passed_time": 38.52607482,
            "remaining_time": 20.38229646,
            "test": [
             0.1391663577,
             0.9563625267
            ]
           },
           {
            "iteration": 654,
            "learn": [
             0.1285050228,
             0.9632653061
            ],
            "passed_time": 38.58478854,
            "remaining_time": 20.32328557,
            "test": [
             0.1391949222,
             0.9562099481
            ]
           },
           {
            "iteration": 655,
            "learn": [
             0.1284863421,
             0.96322716
            ],
            "passed_time": 38.65522343,
            "remaining_time": 20.27042204,
            "test": [
             0.1391883547,
             0.9568202624
            ]
           },
           {
            "iteration": 656,
            "learn": [
             0.1284334942,
             0.9632653061
            ],
            "passed_time": 38.71314177,
            "remaining_time": 20.21097051,
            "test": [
             0.139147179,
             0.9563625267
            ]
           },
           {
            "iteration": 657,
            "learn": [
             0.1283788182,
             0.9631127217
            ],
            "passed_time": 38.77979347,
            "remaining_time": 20.15606286,
            "test": [
             0.1391442752,
             0.9562099481
            ]
           },
           {
            "iteration": 658,
            "learn": [
             0.1283469172,
             0.9631508678
            ],
            "passed_time": 38.84512496,
            "remaining_time": 20.10043644,
            "test": [
             0.1391128791,
             0.9562099481
            ]
           },
           {
            "iteration": 659,
            "learn": [
             0.1283371907,
             0.9631127217
            ],
            "passed_time": 38.90236567,
            "remaining_time": 20.04061262,
            "test": [
             0.139116582,
             0.9562099481
            ]
           },
           {
            "iteration": 660,
            "learn": [
             0.128298083,
             0.9631127217
            ],
            "passed_time": 38.96738501,
            "remaining_time": 19.98478596,
            "test": [
             0.1390904459,
             0.9562099481
            ]
           },
           {
            "iteration": 661,
            "learn": [
             0.1282980715,
             0.9631127217
            ],
            "passed_time": 39.00723625,
            "remaining_time": 19.91608135,
            "test": [
             0.1390904013,
             0.9562099481
            ]
           },
           {
            "iteration": 662,
            "learn": [
             0.1282942049,
             0.9631127217
            ],
            "passed_time": 39.06847228,
            "remaining_time": 19.85833357,
            "test": [
             0.1390900402,
             0.9562099481
            ]
           },
           {
            "iteration": 663,
            "learn": [
             0.128276602,
             0.9631890139
            ],
            "passed_time": 39.13043041,
            "remaining_time": 19.80094069,
            "test": [
             0.1391009185,
             0.9562099481
            ]
           },
           {
            "iteration": 664,
            "learn": [
             0.1282464356,
             0.96322716
            ],
            "passed_time": 39.20356179,
            "remaining_time": 19.74916271,
            "test": [
             0.1390540298,
             0.9562099481
            ]
           },
           {
            "iteration": 665,
            "learn": [
             0.1282129995,
             0.9632653061
            ],
            "passed_time": 39.27794654,
            "remaining_time": 19.69794917,
            "test": [
             0.1390598385,
             0.9562099481
            ]
           },
           {
            "iteration": 666,
            "learn": [
             0.1282005998,
             0.9633034522
            ],
            "passed_time": 39.34869539,
            "remaining_time": 19.64485092,
            "test": [
             0.1390685879,
             0.9562099481
            ]
           },
           {
            "iteration": 667,
            "learn": [
             0.1281766807,
             0.9633034522
            ],
            "passed_time": 39.38745813,
            "remaining_time": 19.57580255,
            "test": [
             0.139083248,
             0.9560573695
            ]
           },
           {
            "iteration": 668,
            "learn": [
             0.1281175312,
             0.9633415983
            ],
            "passed_time": 39.46024056,
            "remaining_time": 19.52367657,
            "test": [
             0.1390757372,
             0.9562099481
            ]
           },
           {
            "iteration": 669,
            "learn": [
             0.1281022915,
             0.9633415983
            ],
            "passed_time": 39.5268417,
            "remaining_time": 19.46844442,
            "test": [
             0.1390911462,
             0.9562099481
            ]
           },
           {
            "iteration": 670,
            "learn": [
             0.128089102,
             0.9633797444
            ],
            "passed_time": 39.5901437,
            "remaining_time": 19.41156077,
            "test": [
             0.1390821293,
             0.9562099481
            ]
           },
           {
            "iteration": 671,
            "learn": [
             0.128059416,
             0.9634178905
            ],
            "passed_time": 39.6590694,
            "remaining_time": 19.35740292,
            "test": [
             0.139082677,
             0.9562099481
            ]
           },
           {
            "iteration": 672,
            "learn": [
             0.1280242717,
             0.9634178905
            ],
            "passed_time": 39.71197893,
            "remaining_time": 19.29541918,
            "test": [
             0.1391005788,
             0.9560573695
            ]
           },
           {
            "iteration": 673,
            "learn": [
             0.1280114817,
             0.9634178905
            ],
            "passed_time": 39.76663476,
            "remaining_time": 19.23430702,
            "test": [
             0.1390936755,
             0.9560573695
            ]
           },
           {
            "iteration": 674,
            "learn": [
             0.1279450396,
             0.9633034522
            ],
            "passed_time": 39.81990261,
            "remaining_time": 19.1725457,
            "test": [
             0.1390783995,
             0.9565151053
            ]
           },
           {
            "iteration": 675,
            "learn": [
             0.127915007,
             0.9633415983
            ],
            "passed_time": 39.89100193,
            "remaining_time": 19.11935596,
            "test": [
             0.1390818002,
             0.9565151053
            ]
           },
           {
            "iteration": 676,
            "learn": [
             0.1278688693,
             0.9633797444
            ],
            "passed_time": 39.95525951,
            "remaining_time": 19.06284907,
            "test": [
             0.1390725836,
             0.9562099481
            ]
           },
           {
            "iteration": 677,
            "learn": [
             0.1278232284,
             0.9633797444
            ],
            "passed_time": 40.02294083,
            "remaining_time": 19.00794535,
            "test": [
             0.1390530371,
             0.9562099481
            ]
           },
           {
            "iteration": 678,
            "learn": [
             0.1277716854,
             0.9634560366
            ],
            "passed_time": 40.07658517,
            "remaining_time": 18.94636795,
            "test": [
             0.1390457995,
             0.9562099481
            ]
           },
           {
            "iteration": 679,
            "learn": [
             0.1277235172,
             0.9635323288
            ],
            "passed_time": 40.13840192,
            "remaining_time": 18.88865973,
            "test": [
             0.1390668249,
             0.9560573695
            ]
           },
           {
            "iteration": 680,
            "learn": [
             0.1276901748,
             0.9634941827
            ],
            "passed_time": 40.20482683,
            "remaining_time": 18.83309803,
            "test": [
             0.1390576818,
             0.9562099481
            ]
           },
           {
            "iteration": 681,
            "learn": [
             0.1276766388,
             0.9634941827
            ],
            "passed_time": 40.2543333,
            "remaining_time": 18.76961582,
            "test": [
             0.1390735914,
             0.9563625267
            ]
           },
           {
            "iteration": 682,
            "learn": [
             0.127668034,
             0.9634941827
            ],
            "passed_time": 40.31596986,
            "remaining_time": 18.71180446,
            "test": [
             0.1390725123,
             0.9560573695
            ]
           },
           {
            "iteration": 683,
            "learn": [
             0.1276244556,
             0.9635323288
            ],
            "passed_time": 40.38954368,
            "remaining_time": 18.65949679,
            "test": [
             0.1390642224,
             0.9560573695
            ]
           },
           {
            "iteration": 684,
            "learn": [
             0.1275761716,
             0.9635323288
            ],
            "passed_time": 40.44699029,
            "remaining_time": 18.59971086,
            "test": [
             0.1390671674,
             0.955904791
            ]
           },
           {
            "iteration": 685,
            "learn": [
             0.1275342835,
             0.9635323288
            ],
            "passed_time": 40.50924179,
            "remaining_time": 18.54213108,
            "test": [
             0.13908817,
             0.9560573695
            ]
           },
           {
            "iteration": 686,
            "learn": [
             0.1274870871,
             0.9635323288
            ],
            "passed_time": 40.56803221,
            "remaining_time": 18.48296082,
            "test": [
             0.1390918084,
             0.9560573695
            ]
           },
           {
            "iteration": 687,
            "learn": [
             0.127468301,
             0.9635323288
            ],
            "passed_time": 40.61482192,
            "remaining_time": 18.41834948,
            "test": [
             0.1390963975,
             0.9557522124
            ]
           },
           {
            "iteration": 688,
            "learn": [
             0.1273946914,
             0.9634941827
            ],
            "passed_time": 40.67519604,
            "remaining_time": 18.35992158,
            "test": [
             0.1391146318,
             0.9557522124
            ]
           },
           {
            "iteration": 689,
            "learn": [
             0.1273666473,
             0.9635323288
            ],
            "passed_time": 40.7350712,
            "remaining_time": 18.30126387,
            "test": [
             0.1391508202,
             0.955904791
            ]
           },
           {
            "iteration": 690,
            "learn": [
             0.1273380909,
             0.9634941827
            ],
            "passed_time": 40.78923226,
            "remaining_time": 18.24004742,
            "test": [
             0.139131835,
             0.9557522124
            ]
           },
           {
            "iteration": 691,
            "learn": [
             0.127321055,
             0.9634941827
            ],
            "passed_time": 40.8438754,
            "remaining_time": 18.17906593,
            "test": [
             0.1391435472,
             0.9557522124
            ]
           },
           {
            "iteration": 692,
            "learn": [
             0.1272949729,
             0.9635704749
            ],
            "passed_time": 40.8954059,
            "remaining_time": 18.11672383,
            "test": [
             0.1391388697,
             0.9557522124
            ]
           },
           {
            "iteration": 693,
            "learn": [
             0.1272499203,
             0.9635704749
            ],
            "passed_time": 40.96424902,
            "remaining_time": 18.0620464,
            "test": [
             0.1391090138,
             0.9557522124
            ]
           },
           {
            "iteration": 694,
            "learn": [
             0.1271981295,
             0.9635323288
            ],
            "passed_time": 41.0337451,
            "remaining_time": 18.00761475,
            "test": [
             0.1390996448,
             0.9557522124
            ]
           },
           {
            "iteration": 695,
            "learn": [
             0.1271925394,
             0.9635323288
            ],
            "passed_time": 41.10652967,
            "remaining_time": 17.95457618,
            "test": [
             0.1391099613,
             0.9557522124
            ]
           },
           {
            "iteration": 696,
            "learn": [
             0.1271280571,
             0.9635704749
            ],
            "passed_time": 41.17431645,
            "remaining_time": 17.8993083,
            "test": [
             0.1390977268,
             0.9562099481
            ]
           },
           {
            "iteration": 697,
            "learn": [
             0.1271221143,
             0.9635704749
            ],
            "passed_time": 41.21869858,
            "remaining_time": 17.83387818,
            "test": [
             0.1390985214,
             0.9562099481
            ]
           },
           {
            "iteration": 698,
            "learn": [
             0.1270832645,
             0.9635323288
            ],
            "passed_time": 41.28240425,
            "remaining_time": 17.7768293,
            "test": [
             0.1390944092,
             0.9562099481
            ]
           },
           {
            "iteration": 699,
            "learn": [
             0.1270273596,
             0.9635704749
            ],
            "passed_time": 41.34324611,
            "remaining_time": 17.71853405,
            "test": [
             0.1391104064,
             0.955904791
            ]
           },
           {
            "iteration": 700,
            "learn": [
             0.1269996254,
             0.963608621
            ],
            "passed_time": 41.41904905,
            "remaining_time": 17.66661293,
            "test": [
             0.1391260416,
             0.955904791
            ]
           },
           {
            "iteration": 701,
            "learn": [
             0.1269711312,
             0.9635704749
            ],
            "passed_time": 41.45992061,
            "remaining_time": 17.59979536,
            "test": [
             0.1391413216,
             0.955904791
            ]
           },
           {
            "iteration": 702,
            "learn": [
             0.1269471682,
             0.963608621
            ],
            "passed_time": 41.52998526,
            "remaining_time": 17.54538495,
            "test": [
             0.1391843642,
             0.955904791
            ]
           },
           {
            "iteration": 703,
            "learn": [
             0.1269054251,
             0.9635704749
            ],
            "passed_time": 41.58038776,
            "remaining_time": 17.48266304,
            "test": [
             0.1391664508,
             0.9560573695
            ]
           },
           {
            "iteration": 704,
            "learn": [
             0.1268837117,
             0.9636849132
            ],
            "passed_time": 41.64118523,
            "remaining_time": 17.42432573,
            "test": [
             0.1391668878,
             0.955904791
            ]
           },
           {
            "iteration": 705,
            "learn": [
             0.1268610019,
             0.9636849132
            ],
            "passed_time": 41.70713182,
            "remaining_time": 17.36812572,
            "test": [
             0.1391614124,
             0.955904791
            ]
           },
           {
            "iteration": 706,
            "learn": [
             0.1268182947,
             0.9636849132
            ],
            "passed_time": 41.75616465,
            "remaining_time": 17.3048886,
            "test": [
             0.1391639056,
             0.9560573695
            ]
           },
           {
            "iteration": 707,
            "learn": [
             0.1267753078,
             0.9636467671
            ],
            "passed_time": 41.82175286,
            "remaining_time": 17.24851954,
            "test": [
             0.1391265915,
             0.955904791
            ]
           },
           {
            "iteration": 708,
            "learn": [
             0.1267497919,
             0.9636467671
            ],
            "passed_time": 41.87673502,
            "remaining_time": 17.18777135,
            "test": [
             0.1391388994,
             0.955904791
            ]
           },
           {
            "iteration": 709,
            "learn": [
             0.126706969,
             0.9637230593
            ],
            "passed_time": 41.93001539,
            "remaining_time": 17.12634431,
            "test": [
             0.1391629014,
             0.955904791
            ]
           },
           {
            "iteration": 710,
            "learn": [
             0.1266774311,
             0.9637612054
            ],
            "passed_time": 42.01017027,
            "remaining_time": 17.07586387,
            "test": [
             0.1391431768,
             0.9560573695
            ]
           },
           {
            "iteration": 711,
            "learn": [
             0.1266459511,
             0.9637612054
            ],
            "passed_time": 42.08337128,
            "remaining_time": 17.02248726,
            "test": [
             0.1391529301,
             0.9560573695
            ]
           },
           {
            "iteration": 712,
            "learn": [
             0.1266032696,
             0.9636849132
            ],
            "passed_time": 42.14137744,
            "remaining_time": 16.96293875,
            "test": [
             0.1391794209,
             0.9562099481
            ]
           },
           {
            "iteration": 713,
            "learn": [
             0.1265570871,
             0.9637230593
            ],
            "passed_time": 42.20845564,
            "remaining_time": 16.90702845,
            "test": [
             0.1391891055,
             0.9565151053
            ]
           },
           {
            "iteration": 714,
            "learn": [
             0.1265492846,
             0.9637612054
            ],
            "passed_time": 42.2640359,
            "remaining_time": 16.84650382,
            "test": [
             0.1392238629,
             0.9565151053
            ]
           },
           {
            "iteration": 715,
            "learn": [
             0.1265354028,
             0.9637230593
            ],
            "passed_time": 42.32974983,
            "remaining_time": 16.7900125,
            "test": [
             0.1392212724,
             0.9565151053
            ]
           },
           {
            "iteration": 716,
            "learn": [
             0.1264917142,
             0.9637993515
            ],
            "passed_time": 42.38078251,
            "remaining_time": 16.72770077,
            "test": [
             0.1392233457,
             0.9563625267
            ]
           },
           {
            "iteration": 717,
            "learn": [
             0.1264375994,
             0.9638374976
            ],
            "passed_time": 42.44673166,
            "remaining_time": 16.67127901,
            "test": [
             0.139211627,
             0.9563625267
            ]
           },
           {
            "iteration": 718,
            "learn": [
             0.1264118307,
             0.9638374976
            ],
            "passed_time": 42.51528122,
            "remaining_time": 16.61584704,
            "test": [
             0.1392082366,
             0.9565151053
            ]
           },
           {
            "iteration": 719,
            "learn": [
             0.1263397553,
             0.9639137898
            ],
            "passed_time": 42.58777046,
            "remaining_time": 16.56191074,
            "test": [
             0.1391873618,
             0.9565151053
            ]
           },
           {
            "iteration": 720,
            "learn": [
             0.1262960939,
             0.9638374976
            ],
            "passed_time": 42.64557158,
            "remaining_time": 16.50223921,
            "test": [
             0.1391792122,
             0.9566676839
            ]
           },
           {
            "iteration": 721,
            "learn": [
             0.1262801571,
             0.9639137898
            ],
            "passed_time": 42.70558053,
            "remaining_time": 16.44342297,
            "test": [
             0.1391257589,
             0.9565151053
            ]
           },
           {
            "iteration": 722,
            "learn": [
             0.1262369042,
             0.9638756437
            ],
            "passed_time": 42.74850938,
            "remaining_time": 16.37805961,
            "test": [
             0.1391186902,
             0.9563625267
            ]
           },
           {
            "iteration": 723,
            "learn": [
             0.1262157139,
             0.9639137898
            ],
            "passed_time": 42.8210374,
            "remaining_time": 16.32404188,
            "test": [
             0.139123181,
             0.9563625267
            ]
           },
           {
            "iteration": 724,
            "learn": [
             0.1261959467,
             0.9639137898
            ],
            "passed_time": 42.88478439,
            "remaining_time": 16.26664236,
            "test": [
             0.1391295769,
             0.9565151053
            ]
           },
           {
            "iteration": 725,
            "learn": [
             0.1261657049,
             0.9639137898
            ],
            "passed_time": 42.9419181,
            "remaining_time": 16.20672942,
            "test": [
             0.1391280779,
             0.9562099481
            ]
           },
           {
            "iteration": 726,
            "learn": [
             0.1261524346,
             0.9639519359
            ],
            "passed_time": 43.01321241,
            "remaining_time": 16.15214166,
            "test": [
             0.1391212182,
             0.9562099481
            ]
           },
           {
            "iteration": 727,
            "learn": [
             0.1261066174,
             0.9639137898
            ],
            "passed_time": 43.07272845,
            "remaining_time": 16.09310733,
            "test": [
             0.1391021062,
             0.9565151053
            ]
           },
           {
            "iteration": 728,
            "learn": [
             0.1260676745,
             0.963990082
            ],
            "passed_time": 43.14001303,
            "remaining_time": 16.03695958,
            "test": [
             0.1390958146,
             0.9563625267
            ]
           },
           {
            "iteration": 729,
            "learn": [
             0.1260378021,
             0.963990082
            ],
            "passed_time": 43.1900859,
            "remaining_time": 15.97441533,
            "test": [
             0.1390995582,
             0.9562099481
            ]
           },
           {
            "iteration": 730,
            "learn": [
             0.1260169044,
             0.963990082
            ],
            "passed_time": 43.24914628,
            "remaining_time": 15.91521252,
            "test": [
             0.1391107504,
             0.9563625267
            ]
           },
           {
            "iteration": 731,
            "learn": [
             0.1259726379,
             0.9639519359
            ],
            "passed_time": 43.30083019,
            "remaining_time": 15.85330941,
            "test": [
             0.1391217994,
             0.9563625267
            ]
           },
           {
            "iteration": 732,
            "learn": [
             0.1259587908,
             0.9638756437
            ],
            "passed_time": 43.36434118,
            "remaining_time": 15.79574228,
            "test": [
             0.1390751464,
             0.9563625267
            ]
           },
           {
            "iteration": 733,
            "learn": [
             0.125932449,
             0.9638756437
            ],
            "passed_time": 43.44371059,
            "remaining_time": 15.74390602,
            "test": [
             0.1391017151,
             0.9562099481
            ]
           },
           {
            "iteration": 734,
            "learn": [
             0.125872497,
             0.9639137898
            ],
            "passed_time": 43.50693888,
            "remaining_time": 15.68617524,
            "test": [
             0.1390990653,
             0.9560573695
            ]
           },
           {
            "iteration": 735,
            "learn": [
             0.1258096789,
             0.9639519359
            ],
            "passed_time": 43.5776449,
            "remaining_time": 15.63111176,
            "test": [
             0.1390928648,
             0.9560573695
            ]
           },
           {
            "iteration": 736,
            "learn": [
             0.1257936996,
             0.9639519359
            ],
            "passed_time": 43.63620674,
            "remaining_time": 15.57167215,
            "test": [
             0.1391059094,
             0.9560573695
            ]
           },
           {
            "iteration": 737,
            "learn": [
             0.1257782383,
             0.9639519359
            ],
            "passed_time": 43.70366697,
            "remaining_time": 15.51539397,
            "test": [
             0.1391130001,
             0.9560573695
            ]
           },
           {
            "iteration": 738,
            "learn": [
             0.1257327327,
             0.9639519359
            ],
            "passed_time": 43.76963483,
            "remaining_time": 15.45855844,
            "test": [
             0.1390732907,
             0.9560573695
            ]
           },
           {
            "iteration": 739,
            "learn": [
             0.1257006811,
             0.9639519359
            ],
            "passed_time": 43.82184654,
            "remaining_time": 15.396865,
            "test": [
             0.139073272,
             0.9560573695
            ]
           },
           {
            "iteration": 740,
            "learn": [
             0.1256627592,
             0.963990082
            ],
            "passed_time": 43.88696555,
            "remaining_time": 15.33970861,
            "test": [
             0.1390508734,
             0.9560573695
            ]
           },
           {
            "iteration": 741,
            "learn": [
             0.1256414029,
             0.9640282281
            ],
            "passed_time": 43.95524126,
            "remaining_time": 15.28362836,
            "test": [
             0.1390473885,
             0.9562099481
            ]
           },
           {
            "iteration": 742,
            "learn": [
             0.1256120836,
             0.963990082
            ],
            "passed_time": 44.00887704,
            "remaining_time": 15.22245141,
            "test": [
             0.1390688601,
             0.9562099481
            ]
           },
           {
            "iteration": 743,
            "learn": [
             0.1255912341,
             0.9640663742
            ],
            "passed_time": 44.07444528,
            "remaining_time": 15.16540053,
            "test": [
             0.13906712,
             0.9562099481
            ]
           },
           {
            "iteration": 744,
            "learn": [
             0.1255326576,
             0.9640663742
            ],
            "passed_time": 44.11754307,
            "remaining_time": 15.10063555,
            "test": [
             0.1390771778,
             0.955904791
            ]
           },
           {
            "iteration": 745,
            "learn": [
             0.125505474,
             0.963990082
            ],
            "passed_time": 44.17374623,
            "remaining_time": 15.04039081,
            "test": [
             0.1390854527,
             0.9560573695
            ]
           },
           {
            "iteration": 746,
            "learn": [
             0.1254794649,
             0.9641045203
            ],
            "passed_time": 44.24329059,
            "remaining_time": 14.98467539,
            "test": [
             0.1390902473,
             0.9562099481
            ]
           },
           {
            "iteration": 747,
            "learn": [
             0.1254628372,
             0.9641045203
            ],
            "passed_time": 44.30271366,
            "remaining_time": 14.92551316,
            "test": [
             0.1391001292,
             0.9560573695
            ]
           },
           {
            "iteration": 748,
            "learn": [
             0.1254406125,
             0.9640282281
            ],
            "passed_time": 44.36242545,
            "remaining_time": 14.86644698,
            "test": [
             0.1390916377,
             0.9560573695
            ]
           },
           {
            "iteration": 749,
            "learn": [
             0.1253687151,
             0.963990082
            ],
            "passed_time": 44.42314962,
            "remaining_time": 14.80771654,
            "test": [
             0.1390967591,
             0.9560573695
            ]
           },
           {
            "iteration": 750,
            "learn": [
             0.1253572589,
             0.963990082
            ],
            "passed_time": 44.46893163,
            "remaining_time": 14.7440266,
            "test": [
             0.1390992071,
             0.9560573695
            ]
           },
           {
            "iteration": 751,
            "learn": [
             0.12530901,
             0.9639519359
            ],
            "passed_time": 44.53190189,
            "remaining_time": 14.68605275,
            "test": [
             0.1391186298,
             0.9562099481
            ]
           },
           {
            "iteration": 752,
            "learn": [
             0.1252866203,
             0.9639519359
            ],
            "passed_time": 44.60049266,
            "remaining_time": 14.62990928,
            "test": [
             0.1391213931,
             0.9560573695
            ]
           },
           {
            "iteration": 753,
            "learn": [
             0.1252204536,
             0.9640663742
            ],
            "passed_time": 44.65877837,
            "remaining_time": 14.57037066,
            "test": [
             0.1391305931,
             0.9560573695
            ]
           },
           {
            "iteration": 754,
            "learn": [
             0.1251678754,
             0.9640663742
            ],
            "passed_time": 44.7123926,
            "remaining_time": 14.50931945,
            "test": [
             0.1391148116,
             0.9560573695
            ]
           },
           {
            "iteration": 755,
            "learn": [
             0.1251386486,
             0.9641426664
            ],
            "passed_time": 44.78188261,
            "remaining_time": 14.45341185,
            "test": [
             0.139091024,
             0.9562099481
            ]
           },
           {
            "iteration": 756,
            "learn": [
             0.1251039406,
             0.9641045203
            ],
            "passed_time": 44.83348161,
            "remaining_time": 14.39172527,
            "test": [
             0.1391117882,
             0.9563625267
            ]
           },
           {
            "iteration": 757,
            "learn": [
             0.1250601721,
             0.9641808125
            ],
            "passed_time": 44.90399791,
            "remaining_time": 14.33610487,
            "test": [
             0.1391109059,
             0.9562099481
            ]
           },
           {
            "iteration": 758,
            "learn": [
             0.1250527533,
             0.9641808125
            ],
            "passed_time": 44.96779617,
            "remaining_time": 14.27831209,
            "test": [
             0.1391048613,
             0.9562099481
            ]
           },
           {
            "iteration": 759,
            "learn": [
             0.1250383799,
             0.9642189586
            ],
            "passed_time": 45.02526783,
            "remaining_time": 14.21850563,
            "test": [
             0.1391064495,
             0.9562099481
            ]
           },
           {
            "iteration": 760,
            "learn": [
             0.1250061647,
             0.9642189586
            ],
            "passed_time": 45.06202533,
            "remaining_time": 14.15219981,
            "test": [
             0.13912721,
             0.9563625267
            ]
           },
           {
            "iteration": 761,
            "learn": [
             0.1249583216,
             0.9642189586
            ],
            "passed_time": 45.0975273,
            "remaining_time": 14.08557939,
            "test": [
             0.1391136772,
             0.9560573695
            ]
           },
           {
            "iteration": 762,
            "learn": [
             0.1249186979,
             0.9642189586
            ],
            "passed_time": 45.16189473,
            "remaining_time": 14.02800662,
            "test": [
             0.1391350656,
             0.9562099481
            ]
           },
           {
            "iteration": 763,
            "learn": [
             0.1248989253,
             0.9642571047
            ],
            "passed_time": 45.2371385,
            "remaining_time": 13.97377577,
            "test": [
             0.1391475625,
             0.955904791
            ]
           },
           {
            "iteration": 764,
            "learn": [
             0.1248261409,
             0.9642571047
            ],
            "passed_time": 45.29899641,
            "remaining_time": 13.91537798,
            "test": [
             0.1391227921,
             0.9557522124
            ]
           },
           {
            "iteration": 765,
            "learn": [
             0.1247760162,
             0.9642571047
            ],
            "passed_time": 45.35992766,
            "remaining_time": 13.85668808,
            "test": [
             0.139117443,
             0.955904791
            ]
           },
           {
            "iteration": 766,
            "learn": [
             0.1247580268,
             0.9642571047
            ],
            "passed_time": 45.39976996,
            "remaining_time": 13.79158592,
            "test": [
             0.1391305802,
             0.955904791
            ]
           },
           {
            "iteration": 767,
            "learn": [
             0.1247062736,
             0.9642571047
            ],
            "passed_time": 45.47822841,
            "remaining_time": 13.73821483,
            "test": [
             0.1391654643,
             0.955904791
            ]
           },
           {
            "iteration": 768,
            "learn": [
             0.1246292623,
             0.9642571047
            ],
            "passed_time": 45.54450119,
            "remaining_time": 13.68111804,
            "test": [
             0.1391396933,
             0.955904791
            ]
           },
           {
            "iteration": 769,
            "learn": [
             0.1246292579,
             0.9642571047
            ],
            "passed_time": 45.58198771,
            "remaining_time": 13.61539893,
            "test": [
             0.1391396682,
             0.955904791
            ]
           },
           {
            "iteration": 770,
            "learn": [
             0.1246079252,
             0.9642571047
            ],
            "passed_time": 45.64911817,
            "remaining_time": 13.5585578,
            "test": [
             0.1391809221,
             0.955904791
            ]
           },
           {
            "iteration": 771,
            "learn": [
             0.1245153595,
             0.9642189586
            ],
            "passed_time": 45.70525155,
            "remaining_time": 13.49844217,
            "test": [
             0.1390984801,
             0.9560573695
            ]
           },
           {
            "iteration": 772,
            "learn": [
             0.1244801127,
             0.9643333969
            ],
            "passed_time": 45.75287581,
            "remaining_time": 13.43583805,
            "test": [
             0.1390912276,
             0.955904791
            ]
           },
           {
            "iteration": 773,
            "learn": [
             0.1243867699,
             0.9642952508
            ],
            "passed_time": 45.80937695,
            "remaining_time": 13.37586459,
            "test": [
             0.139116356,
             0.955904791
            ]
           },
           {
            "iteration": 774,
            "learn": [
             0.1243157402,
             0.9642952508
            ],
            "passed_time": 45.87560329,
            "remaining_time": 13.31872353,
            "test": [
             0.1390842949,
             0.9560573695
            ]
           },
           {
            "iteration": 775,
            "learn": [
             0.1242661875,
             0.964371543
            ],
            "passed_time": 45.92858852,
            "remaining_time": 13.25773689,
            "test": [
             0.1390688419,
             0.9562099481
            ]
           },
           {
            "iteration": 776,
            "learn": [
             0.1242557908,
             0.9643333969
            ],
            "passed_time": 45.9773676,
            "remaining_time": 13.19556368,
            "test": [
             0.1390722473,
             0.9562099481
            ]
           },
           {
            "iteration": 777,
            "learn": [
             0.1242136961,
             0.9644478352
            ],
            "passed_time": 46.04013108,
            "remaining_time": 13.1374153,
            "test": [
             0.1390568995,
             0.9560573695
            ]
           },
           {
            "iteration": 778,
            "learn": [
             0.124167222,
             0.964371543
            ],
            "passed_time": 46.08944907,
            "remaining_time": 13.07544062,
            "test": [
             0.1390730834,
             0.9563625267
            ]
           },
           {
            "iteration": 779,
            "learn": [
             0.1241275026,
             0.9644096891
            ],
            "passed_time": 46.14728355,
            "remaining_time": 13.01590049,
            "test": [
             0.1390811824,
             0.9560573695
            ]
           },
           {
            "iteration": 780,
            "learn": [
             0.1240872883,
             0.9644478352
            ],
            "passed_time": 46.21410424,
            "remaining_time": 12.95888454,
            "test": [
             0.1390653159,
             0.9557522124
            ]
           },
           {
            "iteration": 781,
            "learn": [
             0.1240775294,
             0.9644478352
            ],
            "passed_time": 46.27780524,
            "remaining_time": 12.90097384,
            "test": [
             0.1390554252,
             0.9557522124
            ]
           },
           {
            "iteration": 782,
            "learn": [
             0.1240003484,
             0.9644859813
            ],
            "passed_time": 46.3437126,
            "remaining_time": 12.84365981,
            "test": [
             0.1390233991,
             0.955904791
            ]
           },
           {
            "iteration": 783,
            "learn": [
             0.1239704412,
             0.9644096891
            ],
            "passed_time": 46.40611362,
            "remaining_time": 12.78535783,
            "test": [
             0.1390242038,
             0.955904791
            ]
           },
           {
            "iteration": 784,
            "learn": [
             0.1239614665,
             0.9644859813
            ],
            "passed_time": 46.48212353,
            "remaining_time": 12.73077269,
            "test": [
             0.1390010186,
             0.955904791
            ]
           },
           {
            "iteration": 785,
            "learn": [
             0.1239355733,
             0.9644859813
            ],
            "passed_time": 46.53556912,
            "remaining_time": 12.66998956,
            "test": [
             0.1389947331,
             0.955904791
            ]
           },
           {
            "iteration": 786,
            "learn": [
             0.1238852322,
             0.9644859813
            ],
            "passed_time": 46.58718406,
            "remaining_time": 12.60872961,
            "test": [
             0.1389771852,
             0.955904791
            ]
           },
           {
            "iteration": 787,
            "learn": [
             0.1238588479,
             0.9644859813
            ],
            "passed_time": 46.63977612,
            "remaining_time": 12.54775703,
            "test": [
             0.1389654753,
             0.955904791
            ]
           },
           {
            "iteration": 788,
            "learn": [
             0.123841379,
             0.9644859813
            ],
            "passed_time": 46.72287567,
            "remaining_time": 12.49496422,
            "test": [
             0.1389571847,
             0.955904791
            ]
           },
           {
            "iteration": 789,
            "learn": [
             0.1237850026,
             0.9644478352
            ],
            "passed_time": 46.78460158,
            "remaining_time": 12.43641308,
            "test": [
             0.138985459,
             0.9560573695
            ]
           },
           {
            "iteration": 790,
            "learn": [
             0.12372256,
             0.9646385657
            ],
            "passed_time": 46.85143939,
            "remaining_time": 12.37920459,
            "test": [
             0.1389972309,
             0.955904791
            ]
           },
           {
            "iteration": 791,
            "learn": [
             0.1236629873,
             0.9646385657
            ],
            "passed_time": 46.91183158,
            "remaining_time": 12.320279,
            "test": [
             0.1390061511,
             0.9560573695
            ]
           },
           {
            "iteration": 792,
            "learn": [
             0.1236066069,
             0.9646004196
            ],
            "passed_time": 46.98123999,
            "remaining_time": 12.26370325,
            "test": [
             0.1390058293,
             0.955904791
            ]
           },
           {
            "iteration": 793,
            "learn": [
             0.1235931755,
             0.9646004196
            ],
            "passed_time": 47.02395516,
            "remaining_time": 12.20016973,
            "test": [
             0.1390052349,
             0.955904791
            ]
           },
           {
            "iteration": 794,
            "learn": [
             0.1235322452,
             0.9646385657
            ],
            "passed_time": 47.08475173,
            "remaining_time": 12.14135107,
            "test": [
             0.1390756787,
             0.955904791
            ]
           },
           {
            "iteration": 795,
            "learn": [
             0.1235038117,
             0.9646385657
            ],
            "passed_time": 47.15466482,
            "remaining_time": 12.08486385,
            "test": [
             0.1390591193,
             0.955904791
            ]
           },
           {
            "iteration": 796,
            "learn": [
             0.1234530071,
             0.9646004196
            ],
            "passed_time": 47.20469049,
            "remaining_time": 12.0232775,
            "test": [
             0.1390294079,
             0.955904791
            ]
           },
           {
            "iteration": 797,
            "learn": [
             0.1234240245,
             0.9647148579
            ],
            "passed_time": 47.27128266,
            "remaining_time": 11.96591366,
            "test": [
             0.1390331376,
             0.955904791
            ]
           },
           {
            "iteration": 798,
            "learn": [
             0.1233824599,
             0.964753004
            ],
            "passed_time": 47.34397871,
            "remaining_time": 11.91006223,
            "test": [
             0.1390518806,
             0.955904791
            ]
           },
           {
            "iteration": 799,
            "learn": [
             0.1233275836,
             0.9647148579
            ],
            "passed_time": 47.41587008,
            "remaining_time": 11.85396752,
            "test": [
             0.1390348075,
             0.9560573695
            ]
           },
           {
            "iteration": 800,
            "learn": [
             0.1233033549,
             0.9647911501
            ],
            "passed_time": 47.49725144,
            "remaining_time": 11.80019106,
            "test": [
             0.1390431923,
             0.9560573695
            ]
           },
           {
            "iteration": 801,
            "learn": [
             0.1232703098,
             0.9647911501
            ],
            "passed_time": 47.58893261,
            "remaining_time": 11.7488886,
            "test": [
             0.1390263859,
             0.9560573695
            ]
           },
           {
            "iteration": 802,
            "learn": [
             0.123248041,
             0.9647911501
            ],
            "passed_time": 47.65218539,
            "remaining_time": 11.69051124,
            "test": [
             0.1390336261,
             0.9562099481
            ]
           },
           {
            "iteration": 803,
            "learn": [
             0.123175969,
             0.9647911501
            ],
            "passed_time": 47.71629792,
            "remaining_time": 11.63233133,
            "test": [
             0.1390356218,
             0.9562099481
            ]
           },
           {
            "iteration": 804,
            "learn": [
             0.1231123891,
             0.9647911501
            ],
            "passed_time": 47.76482648,
            "remaining_time": 11.57036169,
            "test": [
             0.1390487737,
             0.9563625267
            ]
           },
           {
            "iteration": 805,
            "learn": [
             0.1230674168,
             0.9648292962
            ],
            "passed_time": 47.83354023,
            "remaining_time": 11.51328388,
            "test": [
             0.139094293,
             0.9566676839
            ]
           },
           {
            "iteration": 806,
            "learn": [
             0.1229901467,
             0.9648674423
            ],
            "passed_time": 47.89706232,
            "remaining_time": 11.4549356,
            "test": [
             0.139136798,
             0.9565151053
            ]
           },
           {
            "iteration": 807,
            "learn": [
             0.1229516112,
             0.9648674423
            ],
            "passed_time": 47.96020879,
            "remaining_time": 11.39648526,
            "test": [
             0.1391420798,
             0.9565151053
            ]
           },
           {
            "iteration": 808,
            "learn": [
             0.1229292269,
             0.9648674423
            ],
            "passed_time": 48.01996965,
            "remaining_time": 11.33722398,
            "test": [
             0.1391495793,
             0.9565151053
            ]
           },
           {
            "iteration": 809,
            "learn": [
             0.1229164071,
             0.9648674423
            ],
            "passed_time": 48.09171735,
            "remaining_time": 11.28077321,
            "test": [
             0.1391426104,
             0.9563625267
            ]
           },
           {
            "iteration": 810,
            "learn": [
             0.1228962289,
             0.9649055884
            ],
            "passed_time": 48.15411246,
            "remaining_time": 11.22210512,
            "test": [
             0.1391402008,
             0.9565151053
            ]
           },
           {
            "iteration": 811,
            "learn": [
             0.122827359,
             0.9648674423
            ],
            "passed_time": 48.20418006,
            "remaining_time": 11.16057371,
            "test": [
             0.1391361864,
             0.9565151053
            ]
           },
           {
            "iteration": 812,
            "learn": [
             0.1227789285,
             0.9649055884
            ],
            "passed_time": 48.26511149,
            "remaining_time": 11.10156931,
            "test": [
             0.1391547787,
             0.9565151053
            ]
           },
           {
            "iteration": 813,
            "learn": [
             0.1227303567,
             0.9649055884
            ],
            "passed_time": 48.31748347,
            "remaining_time": 11.04060433,
            "test": [
             0.1392008514,
             0.9565151053
            ]
           },
           {
            "iteration": 814,
            "learn": [
             0.1227096002,
             0.9649055884
            ],
            "passed_time": 48.38009163,
            "remaining_time": 10.98198399,
            "test": [
             0.1391716955,
             0.9565151053
            ]
           },
           {
            "iteration": 815,
            "learn": [
             0.1226972457,
             0.9649055884
            ],
            "passed_time": 48.43898527,
            "remaining_time": 10.92251629,
            "test": [
             0.1391796918,
             0.9565151053
            ]
           },
           {
            "iteration": 816,
            "learn": [
             0.1226764179,
             0.9649055884
            ],
            "passed_time": 48.49785744,
            "remaining_time": 10.86304518,
            "test": [
             0.139179206,
             0.9565151053
            ]
           },
           {
            "iteration": 817,
            "learn": [
             0.122618263,
             0.9648674423
            ],
            "passed_time": 48.56415957,
            "remaining_time": 10.80522866,
            "test": [
             0.139170201,
             0.9565151053
            ]
           },
           {
            "iteration": 818,
            "learn": [
             0.1226088257,
             0.9649055884
            ],
            "passed_time": 48.63298445,
            "remaining_time": 10.74794894,
            "test": [
             0.139172666,
             0.9565151053
            ]
           },
           {
            "iteration": 819,
            "learn": [
             0.1225967197,
             0.9649055884
            ],
            "passed_time": 48.69291703,
            "remaining_time": 10.6886891,
            "test": [
             0.1391764477,
             0.9565151053
            ]
           },
           {
            "iteration": 820,
            "learn": [
             0.1225828845,
             0.9649055884
            ],
            "passed_time": 48.75439059,
            "remaining_time": 10.6297636,
            "test": [
             0.139193099,
             0.9565151053
            ]
           },
           {
            "iteration": 821,
            "learn": [
             0.1225523911,
             0.9648674423
            ],
            "passed_time": 48.82174677,
            "remaining_time": 10.57210575,
            "test": [
             0.1392131334,
             0.9565151053
            ]
           },
           {
            "iteration": 822,
            "learn": [
             0.1224893397,
             0.9649055884
            ],
            "passed_time": 48.88260821,
            "remaining_time": 10.51302752,
            "test": [
             0.1391909473,
             0.9565151053
            ]
           },
           {
            "iteration": 823,
            "learn": [
             0.1224748867,
             0.9648674423
            ],
            "passed_time": 48.95463854,
            "remaining_time": 10.45633056,
            "test": [
             0.1391798079,
             0.9565151053
            ]
           },
           {
            "iteration": 824,
            "learn": [
             0.1224589161,
             0.9649437345
            ],
            "passed_time": 49.02343775,
            "remaining_time": 10.39891104,
            "test": [
             0.1391883846,
             0.9565151053
            ]
           },
           {
            "iteration": 825,
            "learn": [
             0.1223650255,
             0.9649437345
            ],
            "passed_time": 49.08500074,
            "remaining_time": 10.33993962,
            "test": [
             0.1392224168,
             0.9565151053
            ]
           },
           {
            "iteration": 826,
            "learn": [
             0.1223382351,
             0.9649437345
            ],
            "passed_time": 49.14040531,
            "remaining_time": 10.27967366,
            "test": [
             0.1392173989,
             0.9565151053
            ]
           },
           {
            "iteration": 827,
            "learn": [
             0.1223192943,
             0.9649437345
            ],
            "passed_time": 49.19594544,
            "remaining_time": 10.2194476,
            "test": [
             0.1392031468,
             0.9565151053
            ]
           },
           {
            "iteration": 828,
            "learn": [
             0.122254987,
             0.9648674423
            ],
            "passed_time": 49.26915454,
            "remaining_time": 10.16287748,
            "test": [
             0.1391875874,
             0.9565151053
            ]
           },
           {
            "iteration": 829,
            "learn": [
             0.1222255719,
             0.9648674423
            ],
            "passed_time": 49.32302277,
            "remaining_time": 10.10230587,
            "test": [
             0.1392023936,
             0.9565151053
            ]
           },
           {
            "iteration": 830,
            "learn": [
             0.1221970613,
             0.9648674423
            ],
            "passed_time": 49.38289084,
            "remaining_time": 10.04297058,
            "test": [
             0.1391901288,
             0.9565151053
            ]
           },
           {
            "iteration": 831,
            "learn": [
             0.122174135,
             0.9648674423
            ],
            "passed_time": 49.46388091,
            "remaining_time": 9.98789903,
            "test": [
             0.1391722343,
             0.9565151053
            ]
           },
           {
            "iteration": 832,
            "learn": [
             0.1221421196,
             0.9649055884
            ],
            "passed_time": 49.53016511,
            "remaining_time": 9.929817015,
            "test": [
             0.1391648579,
             0.9565151053
            ]
           },
           {
            "iteration": 833,
            "learn": [
             0.1221305279,
             0.9649437345
            ],
            "passed_time": 49.59241923,
            "remaining_time": 9.87091318,
            "test": [
             0.1391598863,
             0.9565151053
            ]
           },
           {
            "iteration": 834,
            "learn": [
             0.1220870862,
             0.9649055884
            ],
            "passed_time": 49.6595346,
            "remaining_time": 9.812961927,
            "test": [
             0.1391742392,
             0.9565151053
            ]
           },
           {
            "iteration": 835,
            "learn": [
             0.1220870682,
             0.9649055884
            ],
            "passed_time": 49.70178197,
            "remaining_time": 9.750110338,
            "test": [
             0.1391742405,
             0.9565151053
            ]
           },
           {
            "iteration": 836,
            "learn": [
             0.1220431475,
             0.9649437345
            ],
            "passed_time": 49.77078069,
            "remaining_time": 9.692517626,
            "test": [
             0.1391940359,
             0.9563625267
            ]
           },
           {
            "iteration": 837,
            "learn": [
             0.1219948715,
             0.9649437345
            ],
            "passed_time": 49.83398872,
            "remaining_time": 9.633778249,
            "test": [
             0.1392032887,
             0.9562099481
            ]
           },
           {
            "iteration": 838,
            "learn": [
             0.1219265677,
             0.9649437345
            ],
            "passed_time": 49.88850961,
            "remaining_time": 9.5733612,
            "test": [
             0.1391718021,
             0.9562099481
            ]
           },
           {
            "iteration": 839,
            "learn": [
             0.1218717397,
             0.9649818806
            ],
            "passed_time": 49.96024313,
            "remaining_time": 9.516236787,
            "test": [
             0.1391859774,
             0.9562099481
            ]
           },
           {
            "iteration": 840,
            "learn": [
             0.1218417779,
             0.9649437345
            ],
            "passed_time": 50.02104279,
            "remaining_time": 9.457010468,
            "test": [
             0.1391713457,
             0.9563625267
            ]
           },
           {
            "iteration": 841,
            "learn": [
             0.1218201713,
             0.9649437345
            ],
            "passed_time": 50.09463284,
            "remaining_time": 9.40018051,
            "test": [
             0.1391814035,
             0.9563625267
            ]
           },
           {
            "iteration": 842,
            "learn": [
             0.1218005256,
             0.9649437345
            ],
            "passed_time": 50.15178137,
            "remaining_time": 9.340248725,
            "test": [
             0.1392052035,
             0.9563625267
            ]
           },
           {
            "iteration": 843,
            "learn": [
             0.1217586907,
             0.9649437345
            ],
            "passed_time": 50.21302727,
            "remaining_time": 9.28108087,
            "test": [
             0.1392181516,
             0.9563625267
            ]
           },
           {
            "iteration": 844,
            "learn": [
             0.121746609,
             0.9649437345
            ],
            "passed_time": 50.27431348,
            "remaining_time": 9.22191549,
            "test": [
             0.1391903999,
             0.9563625267
            ]
           },
           {
            "iteration": 845,
            "learn": [
             0.1217360851,
             0.9649818806
            ],
            "passed_time": 50.34374665,
            "remaining_time": 9.164228114,
            "test": [
             0.1391763755,
             0.9563625267
            ]
           },
           {
            "iteration": 846,
            "learn": [
             0.1217195774,
             0.9649818806
            ],
            "passed_time": 50.41337588,
            "remaining_time": 9.106548417,
            "test": [
             0.1391732288,
             0.9563625267
            ]
           },
           {
            "iteration": 847,
            "learn": [
             0.1216954325,
             0.9650200267
            ],
            "passed_time": 50.47813447,
            "remaining_time": 9.047967499,
            "test": [
             0.1391770143,
             0.9563625267
            ]
           },
           {
            "iteration": 848,
            "learn": [
             0.1216712587,
             0.9650963189
            ],
            "passed_time": 50.5616783,
            "remaining_time": 8.992713102,
            "test": [
             0.1392191163,
             0.9562099481
            ]
           },
           {
            "iteration": 849,
            "learn": [
             0.1216209041,
             0.9650581728
            ],
            "passed_time": 50.63050402,
            "remaining_time": 8.934794828,
            "test": [
             0.1392276539,
             0.9562099481
            ]
           },
           {
            "iteration": 850,
            "learn": [
             0.1215764339,
             0.9650581728
            ],
            "passed_time": 50.68763655,
            "remaining_time": 8.874803579,
            "test": [
             0.1392138249,
             0.9562099481
            ]
           },
           {
            "iteration": 851,
            "learn": [
             0.1215764312,
             0.9650581728
            ],
            "passed_time": 50.72623433,
            "remaining_time": 8.81159939,
            "test": [
             0.1392138246,
             0.9562099481
            ]
           },
           {
            "iteration": 852,
            "learn": [
             0.1215654065,
             0.9650581728
            ],
            "passed_time": 50.78582211,
            "remaining_time": 8.752070165,
            "test": [
             0.1392088446,
             0.9562099481
            ]
           },
           {
            "iteration": 853,
            "learn": [
             0.1214916523,
             0.9650963189
            ],
            "passed_time": 50.8425725,
            "remaining_time": 8.692055721,
            "test": [
             0.1392479196,
             0.9562099481
            ]
           },
           {
            "iteration": 854,
            "learn": [
             0.1214689996,
             0.9650963189
            ],
            "passed_time": 50.90725678,
            "remaining_time": 8.633394425,
            "test": [
             0.1392482972,
             0.9562099481
            ]
           },
           {
            "iteration": 855,
            "learn": [
             0.121430216,
             0.9650581728
            ],
            "passed_time": 50.969057,
            "remaining_time": 8.574233887,
            "test": [
             0.1392109722,
             0.9562099481
            ]
           },
           {
            "iteration": 856,
            "learn": [
             0.1213968269,
             0.9650963189
            ],
            "passed_time": 51.01927975,
            "remaining_time": 8.51313536,
            "test": [
             0.1392394128,
             0.9562099481
            ]
           },
           {
            "iteration": 857,
            "learn": [
             0.1213421244,
             0.9650200267
            ],
            "passed_time": 51.07643299,
            "remaining_time": 8.45320919,
            "test": [
             0.139261253,
             0.9562099481
            ]
           },
           {
            "iteration": 858,
            "learn": [
             0.1213021668,
             0.9650581728
            ],
            "passed_time": 51.13208547,
            "remaining_time": 8.393043133,
            "test": [
             0.1392392794,
             0.9562099481
            ]
           },
           {
            "iteration": 859,
            "learn": [
             0.1212391203,
             0.9650581728
            ],
            "passed_time": 51.1849347,
            "remaining_time": 8.33243123,
            "test": [
             0.139238045,
             0.9562099481
            ]
           },
           {
            "iteration": 860,
            "learn": [
             0.1212050979,
             0.965134465
            ],
            "passed_time": 51.23635191,
            "remaining_time": 8.271606174,
            "test": [
             0.1392018764,
             0.9562099481
            ]
           },
           {
            "iteration": 861,
            "learn": [
             0.1211629364,
             0.9650963189
            ],
            "passed_time": 51.30370633,
            "remaining_time": 8.213354378,
            "test": [
             0.1391839721,
             0.9562099481
            ]
           },
           {
            "iteration": 862,
            "learn": [
             0.1211110219,
             0.9650963189
            ],
            "passed_time": 51.36997503,
            "remaining_time": 8.15490913,
            "test": [
             0.1391751944,
             0.9563625267
            ]
           },
           {
            "iteration": 863,
            "learn": [
             0.1210711738,
             0.9650581728
            ],
            "passed_time": 51.43922245,
            "remaining_time": 8.096914645,
            "test": [
             0.1391821219,
             0.9563625267
            ]
           },
           {
            "iteration": 864,
            "learn": [
             0.1210549038,
             0.9650581728
            ],
            "passed_time": 51.495786,
            "remaining_time": 8.036914577,
            "test": [
             0.1391902843,
             0.9562099481
            ]
           },
           {
            "iteration": 865,
            "learn": [
             0.1210192874,
             0.9650200267
            ],
            "passed_time": 51.55775627,
            "remaining_time": 7.977759054,
            "test": [
             0.139201979,
             0.9562099481
            ]
           },
           {
            "iteration": 866,
            "learn": [
             0.1209948454,
             0.9650200267
            ],
            "passed_time": 51.63038115,
            "remaining_time": 7.920231479,
            "test": [
             0.1392090977,
             0.9562099481
            ]
           },
           {
            "iteration": 867,
            "learn": [
             0.1209841817,
             0.9650200267
            ],
            "passed_time": 51.69441374,
            "remaining_time": 7.861362458,
            "test": [
             0.1391919081,
             0.9562099481
            ]
           },
           {
            "iteration": 868,
            "learn": [
             0.1209287698,
             0.9650581728
            ],
            "passed_time": 51.7656209,
            "remaining_time": 7.803563105,
            "test": [
             0.1392050165,
             0.9562099481
            ]
           },
           {
            "iteration": 869,
            "learn": [
             0.1208849028,
             0.9650581728
            ],
            "passed_time": 51.82496471,
            "remaining_time": 7.743960245,
            "test": [
             0.1391799252,
             0.9562099481
            ]
           },
           {
            "iteration": 870,
            "learn": [
             0.1208741878,
             0.9650581728
            ],
            "passed_time": 51.86929425,
            "remaining_time": 7.68213428,
            "test": [
             0.1391826088,
             0.9562099481
            ]
           },
           {
            "iteration": 871,
            "learn": [
             0.1208544312,
             0.9650581728
            ],
            "passed_time": 51.91800035,
            "remaining_time": 7.620990877,
            "test": [
             0.1391722183,
             0.9562099481
            ]
           },
           {
            "iteration": 872,
            "learn": [
             0.120835975,
             0.9650581728
            ],
            "passed_time": 51.96978581,
            "remaining_time": 7.560323938,
            "test": [
             0.1391820899,
             0.9560573695
            ]
           },
           {
            "iteration": 873,
            "learn": [
             0.1207823519,
             0.9650963189
            ],
            "passed_time": 52.03192273,
            "remaining_time": 7.501169639,
            "test": [
             0.1391762097,
             0.9560573695
            ]
           },
           {
            "iteration": 874,
            "learn": [
             0.1207321725,
             0.965134465
            ],
            "passed_time": 52.09322978,
            "remaining_time": 7.441889968,
            "test": [
             0.1391768094,
             0.9560573695
            ]
           },
           {
            "iteration": 875,
            "learn": [
             0.1206645804,
             0.965134465
            ],
            "passed_time": 52.14963897,
            "remaining_time": 7.381912365,
            "test": [
             0.1391907783,
             0.9560573695
            ]
           },
           {
            "iteration": 876,
            "learn": [
             0.1206331256,
             0.965134465
            ],
            "passed_time": 52.19917858,
            "remaining_time": 7.320979436,
            "test": [
             0.1391792783,
             0.9560573695
            ]
           },
           {
            "iteration": 877,
            "learn": [
             0.1206149202,
             0.965134465
            ],
            "passed_time": 52.25518278,
            "remaining_time": 7.260970729,
            "test": [
             0.1391811932,
             0.9560573695
            ]
           },
           {
            "iteration": 878,
            "learn": [
             0.1205655945,
             0.965134465
            ],
            "passed_time": 52.30989129,
            "remaining_time": 7.200792772,
            "test": [
             0.1391950685,
             0.9560573695
            ]
           },
           {
            "iteration": 879,
            "learn": [
             0.120553096,
             0.9652107572
            ],
            "passed_time": 52.37118715,
            "remaining_time": 7.14152552,
            "test": [
             0.1391972816,
             0.9560573695
            ]
           },
           {
            "iteration": 880,
            "learn": [
             0.120495689,
             0.9651726111
            ],
            "passed_time": 52.43594665,
            "remaining_time": 7.082721512,
            "test": [
             0.1391543823,
             0.9560573695
            ]
           },
           {
            "iteration": 881,
            "learn": [
             0.1204888519,
             0.9652107572
            ],
            "passed_time": 52.49333487,
            "remaining_time": 7.022917817,
            "test": [
             0.1391530443,
             0.9560573695
            ]
           },
           {
            "iteration": 882,
            "learn": [
             0.1204373397,
             0.9651726111
            ],
            "passed_time": 52.55747038,
            "remaining_time": 6.964013629,
            "test": [
             0.1391713275,
             0.9560573695
            ]
           },
           {
            "iteration": 883,
            "learn": [
             0.1204210752,
             0.965134465
            ],
            "passed_time": 52.62720546,
            "remaining_time": 6.905832391,
            "test": [
             0.1391825901,
             0.9560573695
            ]
           },
           {
            "iteration": 884,
            "learn": [
             0.1203938222,
             0.9650963189
            ],
            "passed_time": 52.69255609,
            "remaining_time": 6.847055311,
            "test": [
             0.1391945022,
             0.9560573695
            ]
           },
           {
            "iteration": 885,
            "learn": [
             0.1203894879,
             0.9650963189
            ],
            "passed_time": 52.73976635,
            "remaining_time": 6.785929304,
            "test": [
             0.1391950956,
             0.9560573695
            ]
           },
           {
            "iteration": 886,
            "learn": [
             0.1203615684,
             0.965134465
            ],
            "passed_time": 52.80820841,
            "remaining_time": 6.727539515,
            "test": [
             0.1391896361,
             0.9560573695
            ]
           },
           {
            "iteration": 887,
            "learn": [
             0.1203349713,
             0.9651726111
            ],
            "passed_time": 52.87497376,
            "remaining_time": 6.668915609,
            "test": [
             0.1391800563,
             0.9560573695
            ]
           },
           {
            "iteration": 888,
            "learn": [
             0.1203116143,
             0.9652107572
            ],
            "passed_time": 52.94736052,
            "remaining_time": 6.610975273,
            "test": [
             0.1391634212,
             0.955904791
            ]
           },
           {
            "iteration": 889,
            "learn": [
             0.1202679406,
             0.9652489033
            ],
            "passed_time": 53.00067448,
            "remaining_time": 6.55064516,
            "test": [
             0.1391714786,
             0.9560573695
            ]
           },
           {
            "iteration": 890,
            "learn": [
             0.1202562431,
             0.9652489033
            ],
            "passed_time": 53.06953785,
            "remaining_time": 6.492233025,
            "test": [
             0.1391675111,
             0.9562099481
            ]
           },
           {
            "iteration": 891,
            "learn": [
             0.1202427989,
             0.9652489033
            ],
            "passed_time": 53.13683875,
            "remaining_time": 6.433608279,
            "test": [
             0.1391765341,
             0.9560573695
            ]
           },
           {
            "iteration": 892,
            "learn": [
             0.120196557,
             0.9652489033
            ],
            "passed_time": 53.17890728,
            "remaining_time": 6.371940737,
            "test": [
             0.1392010554,
             0.9560573695
            ]
           },
           {
            "iteration": 893,
            "learn": [
             0.120193419,
             0.9652489033
            ],
            "passed_time": 53.23430761,
            "remaining_time": 6.31189777,
            "test": [
             0.1392023902,
             0.9560573695
            ]
           },
           {
            "iteration": 894,
            "learn": [
             0.1201786593,
             0.9652489033
            ],
            "passed_time": 53.30191043,
            "remaining_time": 6.253296754,
            "test": [
             0.1392039468,
             0.9562099481
            ]
           },
           {
            "iteration": 895,
            "learn": [
             0.1201748927,
             0.9652489033
            ],
            "passed_time": 53.33670538,
            "remaining_time": 6.190867588,
            "test": [
             0.1392048869,
             0.9562099481
            ]
           },
           {
            "iteration": 896,
            "learn": [
             0.1201686481,
             0.9652489033
            ],
            "passed_time": 53.3682145,
            "remaining_time": 6.128122736,
            "test": [
             0.1392025298,
             0.9560573695
            ]
           },
           {
            "iteration": 897,
            "learn": [
             0.1201335149,
             0.9652489033
            ],
            "passed_time": 53.43208323,
            "remaining_time": 6.06912304,
            "test": [
             0.1392389649,
             0.9560573695
            ]
           },
           {
            "iteration": 898,
            "learn": [
             0.1200969568,
             0.9652489033
            ],
            "passed_time": 53.49112765,
            "remaining_time": 6.009570515,
            "test": [
             0.1392334449,
             0.9560573695
            ]
           },
           {
            "iteration": 899,
            "learn": [
             0.1200480475,
             0.9652107572
            ],
            "passed_time": 53.55741357,
            "remaining_time": 5.95082373,
            "test": [
             0.13921796,
             0.9560573695
            ]
           },
           {
            "iteration": 900,
            "learn": [
             0.1199982534,
             0.9652870494
            ],
            "passed_time": 53.61782685,
            "remaining_time": 5.891414937,
            "test": [
             0.1392076318,
             0.9560573695
            ]
           },
           {
            "iteration": 901,
            "learn": [
             0.1199917662,
             0.9652489033
            ],
            "passed_time": 53.67333654,
            "remaining_time": 5.831471154,
            "test": [
             0.139207988,
             0.9560573695
            ]
           },
           {
            "iteration": 902,
            "learn": [
             0.119943829,
             0.9652107572
            ],
            "passed_time": 53.74828935,
            "remaining_time": 5.773625766,
            "test": [
             0.1392105987,
             0.9560573695
            ]
           },
           {
            "iteration": 903,
            "learn": [
             0.1199097226,
             0.9652870494
            ],
            "passed_time": 53.81409881,
            "remaining_time": 5.714771555,
            "test": [
             0.1392089876,
             0.9560573695
            ]
           },
           {
            "iteration": 904,
            "learn": [
             0.1198414561,
             0.9652489033
            ],
            "passed_time": 53.87181729,
            "remaining_time": 5.655052644,
            "test": [
             0.1392221541,
             0.9560573695
            ]
           },
           {
            "iteration": 905,
            "learn": [
             0.1198313892,
             0.9652489033
            ],
            "passed_time": 53.93486865,
            "remaining_time": 5.59589145,
            "test": [
             0.1392281131,
             0.9560573695
            ]
           },
           {
            "iteration": 906,
            "learn": [
             0.1198150127,
             0.9652107572
            ],
            "passed_time": 53.99940926,
            "remaining_time": 5.536874378,
            "test": [
             0.1392299107,
             0.9560573695
            ]
           },
           {
            "iteration": 907,
            "learn": [
             0.1197632648,
             0.9652870494
            ],
            "passed_time": 54.05690627,
            "remaining_time": 5.477131472,
            "test": [
             0.1392561718,
             0.9560573695
            ]
           },
           {
            "iteration": 908,
            "learn": [
             0.1197229219,
             0.9653251955
            ],
            "passed_time": 54.12238129,
            "remaining_time": 5.418192186,
            "test": [
             0.1392808247,
             0.9560573695
            ]
           },
           {
            "iteration": 909,
            "learn": [
             0.1197158143,
             0.9653251955
            ],
            "passed_time": 54.16175951,
            "remaining_time": 5.356657534,
            "test": [
             0.1392809017,
             0.9560573695
            ]
           },
           {
            "iteration": 910,
            "learn": [
             0.1196940515,
             0.9653251955
            ],
            "passed_time": 54.21922435,
            "remaining_time": 5.296938493,
            "test": [
             0.1392875692,
             0.9562099481
            ]
           },
           {
            "iteration": 911,
            "learn": [
             0.1196760409,
             0.9653251955
            ],
            "passed_time": 54.27279774,
            "remaining_time": 5.236848905,
            "test": [
             0.1392918767,
             0.9562099481
            ]
           },
           {
            "iteration": 912,
            "learn": [
             0.1196556572,
             0.9654014877
            ],
            "passed_time": 54.32422275,
            "remaining_time": 5.176568871,
            "test": [
             0.1393099615,
             0.9560573695
            ]
           },
           {
            "iteration": 913,
            "learn": [
             0.1196326507,
             0.9654396338
            ],
            "passed_time": 54.38921276,
            "remaining_time": 5.11758457,
            "test": [
             0.1393327967,
             0.955904791
            ]
           },
           {
            "iteration": 914,
            "learn": [
             0.1196125299,
             0.9653633416
            ],
            "passed_time": 54.43386841,
            "remaining_time": 5.056698158,
            "test": [
             0.1393328059,
             0.955904791
            ]
           },
           {
            "iteration": 915,
            "learn": [
             0.1195669058,
             0.9653251955
            ],
            "passed_time": 54.50475742,
            "remaining_time": 4.998252864,
            "test": [
             0.1393459906,
             0.9560573695
            ]
           },
           {
            "iteration": 916,
            "learn": [
             0.1195376632,
             0.9653633416
            ],
            "passed_time": 54.56668544,
            "remaining_time": 4.938969347,
            "test": [
             0.1393602819,
             0.9560573695
            ]
           },
           {
            "iteration": 917,
            "learn": [
             0.1194772947,
             0.9653633416
            ],
            "passed_time": 54.62732992,
            "remaining_time": 4.879565418,
            "test": [
             0.1393375057,
             0.955904791
            ]
           },
           {
            "iteration": 918,
            "learn": [
             0.1194624353,
             0.9654014877
            ],
            "passed_time": 54.69606124,
            "remaining_time": 4.820871556,
            "test": [
             0.1393495628,
             0.9560573695
            ]
           },
           {
            "iteration": 919,
            "learn": [
             0.1194090096,
             0.9654014877
            ],
            "passed_time": 54.7627677,
            "remaining_time": 4.7619798,
            "test": [
             0.1393409565,
             0.955904791
            ]
           },
           {
            "iteration": 920,
            "learn": [
             0.1193930151,
             0.9654014877
            ],
            "passed_time": 54.82377594,
            "remaining_time": 4.702582301,
            "test": [
             0.1393449164,
             0.955904791
            ]
           },
           {
            "iteration": 921,
            "learn": [
             0.1193692104,
             0.9654014877
            ],
            "passed_time": 54.8892689,
            "remaining_time": 4.64356071,
            "test": [
             0.1393589306,
             0.9560573695
            ]
           },
           {
            "iteration": 922,
            "learn": [
             0.1193371388,
             0.9654014877
            ],
            "passed_time": 54.9477603,
            "remaining_time": 4.583941,
            "test": [
             0.1393716946,
             0.9563625267
            ]
           },
           {
            "iteration": 923,
            "learn": [
             0.1192948578,
             0.9653633416
            ],
            "passed_time": 55.01641509,
            "remaining_time": 4.525159682,
            "test": [
             0.1393546909,
             0.9562099481
            ]
           },
           {
            "iteration": 924,
            "learn": [
             0.1192698972,
             0.9654014877
            ],
            "passed_time": 55.08844889,
            "remaining_time": 4.466630991,
            "test": [
             0.1393507241,
             0.9563625267
            ]
           },
           {
            "iteration": 925,
            "learn": [
             0.1192305373,
             0.9654014877
            ],
            "passed_time": 55.14358298,
            "remaining_time": 4.406722614,
            "test": [
             0.1393272875,
             0.9560573695
            ]
           },
           {
            "iteration": 926,
            "learn": [
             0.1192160701,
             0.9654014877
            ],
            "passed_time": 55.21669727,
            "remaining_time": 4.348240454,
            "test": [
             0.1392998754,
             0.9562099481
            ]
           },
           {
            "iteration": 927,
            "learn": [
             0.1192108847,
             0.9654014877
            ],
            "passed_time": 55.28074858,
            "remaining_time": 4.289023597,
            "test": [
             0.1393001886,
             0.9562099481
            ]
           },
           {
            "iteration": 928,
            "learn": [
             0.1191766704,
             0.9654396338
            ],
            "passed_time": 55.32530776,
            "remaining_time": 4.228306621,
            "test": [
             0.1393077244,
             0.9562099481
            ]
           },
           {
            "iteration": 929,
            "learn": [
             0.1191661242,
             0.9654396338
            ],
            "passed_time": 55.3954212,
            "remaining_time": 4.169547833,
            "test": [
             0.1393287197,
             0.9563625267
            ]
           },
           {
            "iteration": 930,
            "learn": [
             0.1191202586,
             0.9653633416
            ],
            "passed_time": 55.4604167,
            "remaining_time": 4.110385341,
            "test": [
             0.139315993,
             0.9563625267
            ]
           },
           {
            "iteration": 931,
            "learn": [
             0.119052941,
             0.9653633416
            ],
            "passed_time": 55.52673728,
            "remaining_time": 4.051307011,
            "test": [
             0.139291994,
             0.9563625267
            ]
           },
           {
            "iteration": 932,
            "learn": [
             0.119042962,
             0.9653633416
            ],
            "passed_time": 55.59358921,
            "remaining_time": 3.992251315,
            "test": [
             0.1392981161,
             0.9562099481
            ]
           },
           {
            "iteration": 933,
            "learn": [
             0.1190294346,
             0.9653633416
            ],
            "passed_time": 55.65568105,
            "remaining_time": 3.932842558,
            "test": [
             0.1393178676,
             0.9562099481
            ]
           },
           {
            "iteration": 934,
            "learn": [
             0.1189992769,
             0.9653251955
            ],
            "passed_time": 55.72010606,
            "remaining_time": 3.873590261,
            "test": [
             0.1393071474,
             0.9560573695
            ]
           },
           {
            "iteration": 935,
            "learn": [
             0.1189562675,
             0.9653633416
            ],
            "passed_time": 55.77405438,
            "remaining_time": 3.813610556,
            "test": [
             0.1393165033,
             0.9560573695
            ]
           },
           {
            "iteration": 936,
            "learn": [
             0.1189227306,
             0.9654396338
            ],
            "passed_time": 55.85831432,
            "remaining_time": 3.755681752,
            "test": [
             0.1393042543,
             0.9560573695
            ]
           },
           {
            "iteration": 937,
            "learn": [
             0.1188516236,
             0.9653633416
            ],
            "passed_time": 55.92057286,
            "remaining_time": 3.696242556,
            "test": [
             0.1393155368,
             0.9560573695
            ]
           },
           {
            "iteration": 938,
            "learn": [
             0.118828038,
             0.9653633416
            ],
            "passed_time": 55.98470352,
            "remaining_time": 3.636918972,
            "test": [
             0.1393187601,
             0.9560573695
            ]
           },
           {
            "iteration": 939,
            "learn": [
             0.1188128871,
             0.9654014877
            ],
            "passed_time": 56.05157614,
            "remaining_time": 3.577760179,
            "test": [
             0.1393536594,
             0.9560573695
            ]
           },
           {
            "iteration": 940,
            "learn": [
             0.1187929868,
             0.9654396338
            ],
            "passed_time": 56.11371087,
            "remaining_time": 3.518287929,
            "test": [
             0.1393573925,
             0.9560573695
            ]
           },
           {
            "iteration": 941,
            "learn": [
             0.1187660455,
             0.9654396338
            ],
            "passed_time": 56.16954435,
            "remaining_time": 3.458422051,
            "test": [
             0.139363583,
             0.9560573695
            ]
           },
           {
            "iteration": 942,
            "learn": [
             0.1187579324,
             0.9654396338
            ],
            "passed_time": 56.23084889,
            "remaining_time": 3.398895426,
            "test": [
             0.1393636533,
             0.9560573695
            ]
           },
           {
            "iteration": 943,
            "learn": [
             0.1187305913,
             0.9654396338
            ],
            "passed_time": 56.28637507,
            "remaining_time": 3.33902225,
            "test": [
             0.1393684795,
             0.9560573695
            ]
           },
           {
            "iteration": 944,
            "learn": [
             0.1187094989,
             0.9654014877
            ],
            "passed_time": 56.35148176,
            "remaining_time": 3.27971587,
            "test": [
             0.139370091,
             0.9560573695
            ]
           },
           {
            "iteration": 945,
            "learn": [
             0.118652793,
             0.9654014877
            ],
            "passed_time": 56.42115143,
            "remaining_time": 3.220657693,
            "test": [
             0.1393898187,
             0.9560573695
            ]
           },
           {
            "iteration": 946,
            "learn": [
             0.1186383803,
             0.9654014877
            ],
            "passed_time": 56.47952151,
            "remaining_time": 3.16094471,
            "test": [
             0.1393945247,
             0.9560573695
            ]
           },
           {
            "iteration": 947,
            "learn": [
             0.1186109525,
             0.9654396338
            ],
            "passed_time": 56.53257729,
            "remaining_time": 3.100943058,
            "test": [
             0.1394189502,
             0.9560573695
            ]
           },
           {
            "iteration": 948,
            "learn": [
             0.1185976437,
             0.9654396338
            ],
            "passed_time": 56.56604308,
            "remaining_time": 3.039903264,
            "test": [
             0.1394240233,
             0.9560573695
            ]
           },
           {
            "iteration": 949,
            "learn": [
             0.1185677365,
             0.9654396338
            ],
            "passed_time": 56.63434709,
            "remaining_time": 2.98075511,
            "test": [
             0.1394231545,
             0.9562099481
            ]
           },
           {
            "iteration": 950,
            "learn": [
             0.1185676799,
             0.9654396338
            ],
            "passed_time": 56.68368791,
            "remaining_time": 2.920610628,
            "test": [
             0.1394229563,
             0.9562099481
            ]
           },
           {
            "iteration": 951,
            "learn": [
             0.1185354518,
             0.9654396338
            ],
            "passed_time": 56.74289536,
            "remaining_time": 2.860986321,
            "test": [
             0.1394590664,
             0.9562099481
            ]
           },
           {
            "iteration": 952,
            "learn": [
             0.1185354446,
             0.9654396338
            ],
            "passed_time": 56.77371756,
            "remaining_time": 2.799962986,
            "test": [
             0.1394590416,
             0.9562099481
            ]
           },
           {
            "iteration": 953,
            "learn": [
             0.1185173696,
             0.9654396338
            ],
            "passed_time": 56.82779069,
            "remaining_time": 2.74012408,
            "test": [
             0.1394572006,
             0.9562099481
            ]
           },
           {
            "iteration": 954,
            "learn": [
             0.1184744532,
             0.9654396338
            ],
            "passed_time": 56.88270607,
            "remaining_time": 2.680336935,
            "test": [
             0.1394743974,
             0.9560573695
            ]
           },
           {
            "iteration": 955,
            "learn": [
             0.1184276708,
             0.9654777799
            ],
            "passed_time": 56.94719193,
            "remaining_time": 2.621000465,
            "test": [
             0.1394889567,
             0.9560573695
            ]
           },
           {
            "iteration": 956,
            "learn": [
             0.118414117,
             0.9654777799
            ],
            "passed_time": 57.01351171,
            "remaining_time": 2.561735636,
            "test": [
             0.1394909072,
             0.9560573695
            ]
           },
           {
            "iteration": 957,
            "learn": [
             0.1183762493,
             0.9654777799
            ],
            "passed_time": 57.07357131,
            "remaining_time": 2.502181623,
            "test": [
             0.1395027859,
             0.9562099481
            ]
           },
           {
            "iteration": 958,
            "learn": [
             0.1183654655,
             0.9654396338
            ],
            "passed_time": 57.13810897,
            "remaining_time": 2.442818006,
            "test": [
             0.1395186123,
             0.9562099481
            ]
           },
           {
            "iteration": 959,
            "learn": [
             0.1183561643,
             0.9654396338
            ],
            "passed_time": 57.19453525,
            "remaining_time": 2.383105635,
            "test": [
             0.1395029476,
             0.9562099481
            ]
           },
           {
            "iteration": 960,
            "learn": [
             0.1183178368,
             0.9654777799
            ],
            "passed_time": 57.25122059,
            "remaining_time": 2.323410617,
            "test": [
             0.1395239061,
             0.9560573695
            ]
           },
           {
            "iteration": 961,
            "learn": [
             0.1182725709,
             0.9654396338
            ],
            "passed_time": 57.31062067,
            "remaining_time": 2.263829091,
            "test": [
             0.1395219847,
             0.9560573695
            ]
           },
           {
            "iteration": 962,
            "learn": [
             0.1182582164,
             0.9654396338
            ],
            "passed_time": 57.36535099,
            "remaining_time": 2.204068522,
            "test": [
             0.1395265438,
             0.9560573695
            ]
           },
           {
            "iteration": 963,
            "learn": [
             0.1182426296,
             0.9654396338
            ],
            "passed_time": 57.42371236,
            "remaining_time": 2.144453988,
            "test": [
             0.139521778,
             0.9562099481
            ]
           },
           {
            "iteration": 964,
            "learn": [
             0.1182003342,
             0.965515926
            ],
            "passed_time": 57.46915194,
            "remaining_time": 2.084373386,
            "test": [
             0.13952776,
             0.9562099481
            ]
           },
           {
            "iteration": 965,
            "learn": [
             0.1181900545,
             0.965515926
            ],
            "passed_time": 57.51885414,
            "remaining_time": 2.024473127,
            "test": [
             0.1395100357,
             0.9562099481
            ]
           },
           {
            "iteration": 966,
            "learn": [
             0.1181622575,
             0.965515926
            ],
            "passed_time": 57.58172156,
            "remaining_time": 1.965043238,
            "test": [
             0.1395231945,
             0.9562099481
            ]
           },
           {
            "iteration": 967,
            "learn": [
             0.1181564439,
             0.9654777799
            ],
            "passed_time": 57.65117082,
            "remaining_time": 1.905823829,
            "test": [
             0.1395254986,
             0.9560573695
            ]
           },
           {
            "iteration": 968,
            "learn": [
             0.1181323635,
             0.9654777799
            ],
            "passed_time": 57.73066541,
            "remaining_time": 1.846904672,
            "test": [
             0.1395554265,
             0.9560573695
            ]
           },
           {
            "iteration": 969,
            "learn": [
             0.1180878069,
             0.965515926
            ],
            "passed_time": 57.78852208,
            "remaining_time": 1.787273879,
            "test": [
             0.1395479731,
             0.9560573695
            ]
           },
           {
            "iteration": 970,
            "learn": [
             0.1180660825,
             0.9655540721
            ],
            "passed_time": 57.86163057,
            "remaining_time": 1.728102252,
            "test": [
             0.1395780332,
             0.9560573695
            ]
           },
           {
            "iteration": 971,
            "learn": [
             0.1180161929,
             0.965515926
            ],
            "passed_time": 57.91689488,
            "remaining_time": 1.668387918,
            "test": [
             0.1395606583,
             0.9560573695
            ]
           },
           {
            "iteration": 972,
            "learn": [
             0.1180049364,
             0.9655540721
            ],
            "passed_time": 57.97511704,
            "remaining_time": 1.60876481,
            "test": [
             0.1395705307,
             0.9563625267
            ]
           },
           {
            "iteration": 973,
            "learn": [
             0.1179665824,
             0.965515926
            ],
            "passed_time": 58.08109689,
            "remaining_time": 1.550419424,
            "test": [
             0.1396024776,
             0.9563625267
            ]
           },
           {
            "iteration": 974,
            "learn": [
             0.1179188909,
             0.9655540721
            ],
            "passed_time": 58.1507546,
            "remaining_time": 1.49104499,
            "test": [
             0.139633575,
             0.9565151053
            ]
           },
           {
            "iteration": 975,
            "learn": [
             0.1178714612,
             0.9655540721
            ],
            "passed_time": 58.20864952,
            "remaining_time": 1.431360234,
            "test": [
             0.139659717,
             0.9565151053
            ]
           },
           {
            "iteration": 976,
            "learn": [
             0.1178524489,
             0.9655540721
            ],
            "passed_time": 58.28770682,
            "remaining_time": 1.372177336,
            "test": [
             0.1396797533,
             0.9565151053
            ]
           },
           {
            "iteration": 977,
            "learn": [
             0.117812976,
             0.965515926
            ],
            "passed_time": 58.34200116,
            "remaining_time": 1.312396754,
            "test": [
             0.1396994573,
             0.9563625267
            ]
           },
           {
            "iteration": 978,
            "learn": [
             0.1177584871,
             0.965515926
            ],
            "passed_time": 58.39272435,
            "remaining_time": 1.252550778,
            "test": [
             0.1396872896,
             0.9565151053
            ]
           },
           {
            "iteration": 979,
            "learn": [
             0.1177441728,
             0.9654777799
            ],
            "passed_time": 58.45492295,
            "remaining_time": 1.192957611,
            "test": [
             0.13969831,
             0.9565151053
            ]
           },
           {
            "iteration": 980,
            "learn": [
             0.1177090316,
             0.9654777799
            ],
            "passed_time": 58.52094088,
            "remaining_time": 1.133433106,
            "test": [
             0.1396939436,
             0.9565151053
            ]
           },
           {
            "iteration": 981,
            "learn": [
             0.1176319627,
             0.965515926
            ],
            "passed_time": 58.58473148,
            "remaining_time": 1.073854549,
            "test": [
             0.1396666501,
             0.9566676839
            ]
           },
           {
            "iteration": 982,
            "learn": [
             0.1175962033,
             0.9655540721
            ],
            "passed_time": 58.65059027,
            "remaining_time": 1.014303189,
            "test": [
             0.1396598082,
             0.9563625267
            ]
           },
           {
            "iteration": 983,
            "learn": [
             0.1175694834,
             0.965515926
            ],
            "passed_time": 58.72268109,
            "remaining_time": 0.9548403429,
            "test": [
             0.1396519411,
             0.9565151053
            ]
           },
           {
            "iteration": 984,
            "learn": [
             0.117541565,
             0.965515926
            ],
            "passed_time": 58.77604782,
            "remaining_time": 0.895066718,
            "test": [
             0.1396532887,
             0.9565151053
            ]
           },
           {
            "iteration": 985,
            "learn": [
             0.1175270774,
             0.965515926
            ],
            "passed_time": 58.83859659,
            "remaining_time": 0.8354364628,
            "test": [
             0.1396808427,
             0.9565151053
            ]
           },
           {
            "iteration": 986,
            "learn": [
             0.1174878731,
             0.965515926
            ],
            "passed_time": 58.90439031,
            "remaining_time": 0.7758430335,
            "test": [
             0.1396977401,
             0.9565151053
            ]
           },
           {
            "iteration": 987,
            "learn": [
             0.117478408,
             0.965515926
            ],
            "passed_time": 58.96648876,
            "remaining_time": 0.7161921711,
            "test": [
             0.1397215273,
             0.9565151053
            ]
           },
           {
            "iteration": 988,
            "learn": [
             0.1174647328,
             0.965515926
            ],
            "passed_time": 59.01668623,
            "remaining_time": 0.6564039925,
            "test": [
             0.1397350447,
             0.9565151053
            ]
           },
           {
            "iteration": 989,
            "learn": [
             0.117448348,
             0.9654777799
            ],
            "passed_time": 59.08710409,
            "remaining_time": 0.5968394353,
            "test": [
             0.1397400724,
             0.9565151053
            ]
           },
           {
            "iteration": 990,
            "learn": [
             0.1174045026,
             0.9654777799
            ],
            "passed_time": 59.15722415,
            "remaining_time": 0.5372502698,
            "test": [
             0.1397528387,
             0.9565151053
            ]
           },
           {
            "iteration": 991,
            "learn": [
             0.1173702211,
             0.965515926
            ],
            "passed_time": 59.21947421,
            "remaining_time": 0.477576405,
            "test": [
             0.1397622511,
             0.9565151053
            ]
           },
           {
            "iteration": 992,
            "learn": [
             0.1173205797,
             0.9654777799
            ],
            "passed_time": 59.27532286,
            "remaining_time": 0.4178522256,
            "test": [
             0.1397501751,
             0.9563625267
            ]
           },
           {
            "iteration": 993,
            "learn": [
             0.1173130184,
             0.9654777799
            ],
            "passed_time": 59.33527301,
            "remaining_time": 0.3581606017,
            "test": [
             0.139748207,
             0.9563625267
            ]
           },
           {
            "iteration": 994,
            "learn": [
             0.1172716499,
             0.9654777799
            ],
            "passed_time": 59.41036648,
            "remaining_time": 0.2985445552,
            "test": [
             0.1397639304,
             0.9565151053
            ]
           },
           {
            "iteration": 995,
            "learn": [
             0.1172552528,
             0.9654777799
            ],
            "passed_time": 59.47925817,
            "remaining_time": 0.2388725228,
            "test": [
             0.1397604944,
             0.9565151053
            ]
           },
           {
            "iteration": 996,
            "learn": [
             0.1172409532,
             0.965515926
            ],
            "passed_time": 59.54453668,
            "remaining_time": 0.1791711234,
            "test": [
             0.1397594917,
             0.9563625267
            ]
           },
           {
            "iteration": 997,
            "learn": [
             0.1172356458,
             0.965515926
            ],
            "passed_time": 59.59517133,
            "remaining_time": 0.1194292011,
            "test": [
             0.1397622505,
             0.9563625267
            ]
           },
           {
            "iteration": 998,
            "learn": [
             0.1171989868,
             0.9654777799
            ],
            "passed_time": 59.67168155,
            "remaining_time": 0.05973141296,
            "test": [
             0.1397606236,
             0.9563625267
            ]
           },
           {
            "iteration": 999,
            "learn": [
             0.1171672487,
             0.9654777799
            ],
            "passed_time": 59.73563781,
            "remaining_time": 0,
            "test": [
             0.1397352886,
             0.9565151053
            ]
           }
          ],
          "meta": {
           "iteration_count": 1000,
           "launch_mode": "Train",
           "learn_metrics": [
            {
             "best_value": "Min",
             "name": "Logloss"
            },
            {
             "best_value": "Max",
             "name": "Accuracy"
            }
           ],
           "learn_sets": [
            "learn"
           ],
           "name": "experiment",
           "parameters": "",
           "test_metrics": [
            {
             "best_value": "Min",
             "name": "Logloss"
            },
            {
             "best_value": "Max",
             "name": "Accuracy"
            }
           ],
           "test_sets": [
            "test"
           ]
          }
         },
         "passed_iterations": 999,
         "total_iterations": 1000
        },
        "name": "learning_rate_0.05",
        "path": "learning_rate_0.05"
       },
       "learning_rate_0.5": {
        "content": {
         "data": {
          "iterations": [
           {
            "iteration": 0,
            "learn": [
             0.3050681732,
             0.9420942209
            ],
            "passed_time": 0.01737076737,
            "remaining_time": 17.35339661,
            "test": [
             0.3049602574,
             0.942172719
            ]
           },
           {
            "iteration": 1,
            "learn": [
             0.2347840725,
             0.9420942209
            ],
            "passed_time": 0.05178861875,
            "remaining_time": 25.84252076,
            "test": [
             0.2336504152,
             0.942172719
            ]
           },
           {
            "iteration": 2,
            "learn": [
             0.1934337747,
             0.9420942209
            ],
            "passed_time": 0.09526518402,
            "remaining_time": 31.65979616,
            "test": [
             0.1843850849,
             0.942172719
            ]
           },
           {
            "iteration": 3,
            "learn": [
             0.1798496479,
             0.9425519741
            ],
            "passed_time": 0.1632772128,
            "remaining_time": 40.65602599,
            "test": [
             0.1671266826,
             0.9433933476
            ]
           },
           {
            "iteration": 4,
            "learn": [
             0.1728890861,
             0.9465191684
            ],
            "passed_time": 0.2416379141,
            "remaining_time": 48.0859449,
            "test": [
             0.158574034,
             0.9473603906
            ]
           },
           {
            "iteration": 5,
            "learn": [
             0.1675666199,
             0.9474346748
            ],
            "passed_time": 0.3000728415,
            "remaining_time": 49.7120674,
            "test": [
             0.1544264994,
             0.9478181263
            ]
           },
           {
            "iteration": 6,
            "learn": [
             0.1659212722,
             0.9484264734
            ],
            "passed_time": 0.3637570389,
            "remaining_time": 51.60153423,
            "test": [
             0.1532171552,
             0.9484284406
            ]
           },
           {
            "iteration": 7,
            "learn": [
             0.1620590976,
             0.9501049018
            ],
            "passed_time": 0.4469158375,
            "remaining_time": 55.41756384,
            "test": [
             0.1487389797,
             0.9519377479
            ]
           },
           {
            "iteration": 8,
            "learn": [
             0.1605153621,
             0.9506770933
            ],
            "passed_time": 0.5128985955,
            "remaining_time": 56.47583424,
            "test": [
             0.1465728396,
             0.9516325908
            ]
           },
           {
            "iteration": 9,
            "learn": [
             0.1600480422,
             0.9504863628
            ],
            "passed_time": 0.5559620416,
            "remaining_time": 55.04024212,
            "test": [
             0.1466024203,
             0.9519377479
            ]
           },
           {
            "iteration": 10,
            "learn": [
             0.158660062,
             0.9512111387
            ],
            "passed_time": 0.6072971806,
            "remaining_time": 54.60153742,
            "test": [
             0.1457881742,
             0.9527006408
            ]
           },
           {
            "iteration": 11,
            "learn": [
             0.1581697464,
             0.9511729926
            ],
            "passed_time": 0.6668292204,
            "remaining_time": 54.90227248,
            "test": [
             0.1453191668,
             0.9520903265
            ]
           },
           {
            "iteration": 12,
            "learn": [
             0.1570324197,
             0.9514781614
            ],
            "passed_time": 0.720706272,
            "remaining_time": 54.71823773,
            "test": [
             0.1454613126,
             0.9513274336
            ]
           },
           {
            "iteration": 13,
            "learn": [
             0.1560835101,
             0.9520122068
            ],
            "passed_time": 0.7919291948,
            "remaining_time": 55.77444186,
            "test": [
             0.1455451537,
             0.9511748551
            ]
           },
           {
            "iteration": 14,
            "learn": [
             0.1559392735,
             0.9519359146
            ],
            "passed_time": 0.8487481969,
            "remaining_time": 55.73446493,
            "test": [
             0.1454464105,
             0.9513274336
            ]
           },
           {
            "iteration": 15,
            "learn": [
             0.1553156556,
             0.9518977685
            ],
            "passed_time": 0.9205556175,
            "remaining_time": 56.61417048,
            "test": [
             0.1449995224,
             0.9511748551
            ]
           },
           {
            "iteration": 16,
            "learn": [
             0.1551340226,
             0.9520122068
            ],
            "passed_time": 0.9694884065,
            "remaining_time": 56.05924139,
            "test": [
             0.1452947377,
             0.9510222765
            ]
           },
           {
            "iteration": 17,
            "learn": [
             0.1544457239,
             0.9520503529
            ],
            "passed_time": 1.015028687,
            "remaining_time": 55.37545395,
            "test": [
             0.1454338276,
             0.9513274336
            ]
           },
           {
            "iteration": 18,
            "learn": [
             0.1537637573,
             0.9525843982
            ],
            "passed_time": 1.064011876,
            "remaining_time": 54.93661317,
            "test": [
             0.145283035,
             0.9513274336
            ]
           },
           {
            "iteration": 19,
            "learn": [
             0.1527949115,
             0.9532328819
            ],
            "passed_time": 1.13035949,
            "remaining_time": 55.38761499,
            "test": [
             0.1450681786,
             0.9511748551
            ]
           },
           {
            "iteration": 20,
            "learn": [
             0.1525189935,
             0.9533473202
            ],
            "passed_time": 1.191535269,
            "remaining_time": 55.54823943,
            "test": [
             0.1450426212,
             0.9516325908
            ]
           },
           {
            "iteration": 21,
            "learn": [
             0.1500488403,
             0.9536906351
            ],
            "passed_time": 1.26574876,
            "remaining_time": 56.26828578,
            "test": [
             0.1451912211,
             0.9517851694
            ]
           },
           {
            "iteration": 22,
            "learn": [
             0.149618868,
             0.9538432195
            ],
            "passed_time": 1.317861205,
            "remaining_time": 55.98045205,
            "test": [
             0.1452505932,
             0.9519377479
            ]
           },
           {
            "iteration": 23,
            "learn": [
             0.1488142684,
             0.9542246805
            ],
            "passed_time": 1.370644325,
            "remaining_time": 55.7395359,
            "test": [
             0.1452986552,
             0.9520903265
            ]
           },
           {
            "iteration": 24,
            "learn": [
             0.1481631053,
             0.9545298493
            ],
            "passed_time": 1.423007776,
            "remaining_time": 55.49730326,
            "test": [
             0.1457555273,
             0.9519377479
            ]
           },
           {
            "iteration": 25,
            "learn": [
             0.1478924442,
             0.9545679954
            ],
            "passed_time": 1.494687975,
            "remaining_time": 55.99331107,
            "test": [
             0.1456506934,
             0.9523954837
            ]
           },
           {
            "iteration": 26,
            "learn": [
             0.1469841708,
             0.9549113103
            ],
            "passed_time": 1.570150849,
            "remaining_time": 56.5835843,
            "test": [
             0.1461128955,
             0.9522429051
            ]
           },
           {
            "iteration": 27,
            "learn": [
             0.1465587132,
             0.9549494564
            ],
            "passed_time": 1.637683176,
            "remaining_time": 56.85100167,
            "test": [
             0.1456944467,
             0.9522429051
            ]
           },
           {
            "iteration": 28,
            "learn": [
             0.1459453025,
             0.9555216479
            ],
            "passed_time": 1.695547986,
            "remaining_time": 56.77162395,
            "test": [
             0.1455911603,
             0.9522429051
            ]
           },
           {
            "iteration": 29,
            "learn": [
             0.1456826457,
             0.9556742323
            ],
            "passed_time": 1.75646556,
            "remaining_time": 56.79238643,
            "test": [
             0.1457523837,
             0.9527006408
            ]
           },
           {
            "iteration": 30,
            "learn": [
             0.1453853104,
             0.9556742323
            ],
            "passed_time": 1.821376167,
            "remaining_time": 56.93269373,
            "test": [
             0.1457850766,
             0.9523954837
            ]
           },
           {
            "iteration": 31,
            "learn": [
             0.1449334904,
             0.9557123784
            ],
            "passed_time": 1.890017775,
            "remaining_time": 57.1730377,
            "test": [
             0.1456156655,
             0.9527006408
            ]
           },
           {
            "iteration": 32,
            "learn": [
             0.1446557774,
             0.9558268167
            ],
            "passed_time": 1.940218434,
            "remaining_time": 56.85427955,
            "test": [
             0.1456347888,
             0.9525480623
            ]
           },
           {
            "iteration": 33,
            "learn": [
             0.1441727357,
             0.9562464238
            ],
            "passed_time": 1.985765893,
            "remaining_time": 56.41911331,
            "test": [
             0.1455791519,
             0.9531583766
            ]
           },
           {
            "iteration": 34,
            "learn": [
             0.1438150521,
             0.956322716
            ],
            "passed_time": 2.06383452,
            "remaining_time": 56.90286604,
            "test": [
             0.145704875,
             0.9527006408
            ]
           },
           {
            "iteration": 35,
            "learn": [
             0.1431982063,
             0.9566660309
            ],
            "passed_time": 2.119016854,
            "remaining_time": 56.74256241,
            "test": [
             0.1457923776,
             0.9531583766
            ]
           },
           {
            "iteration": 36,
            "learn": [
             0.1425118902,
             0.9565134465
            ],
            "passed_time": 2.159977059,
            "remaining_time": 56.21778128,
            "test": [
             0.1462732292,
             0.9519377479
            ]
           },
           {
            "iteration": 37,
            "learn": [
             0.1423450043,
             0.9566278848
            ],
            "passed_time": 2.220617154,
            "remaining_time": 56.21667637,
            "test": [
             0.1463499156,
             0.9522429051
            ]
           },
           {
            "iteration": 38,
            "learn": [
             0.142344891,
             0.9566278848
            ],
            "passed_time": 2.282975925,
            "remaining_time": 56.25486831,
            "test": [
             0.1463496527,
             0.9522429051
            ]
           },
           {
            "iteration": 39,
            "learn": [
             0.1418632082,
             0.9566660309
            ],
            "passed_time": 2.34140204,
            "remaining_time": 56.19364896,
            "test": [
             0.1463272023,
             0.9527006408
            ]
           },
           {
            "iteration": 40,
            "learn": [
             0.1411108609,
             0.9569330536
            ],
            "passed_time": 2.401942743,
            "remaining_time": 56.18202659,
            "test": [
             0.146071283,
             0.9522429051
            ]
           },
           {
            "iteration": 41,
            "learn": [
             0.1407270766,
             0.9570474919
            ],
            "passed_time": 2.469902695,
            "remaining_time": 56.33730433,
            "test": [
             0.1460432142,
             0.9527006408
            ]
           },
           {
            "iteration": 42,
            "learn": [
             0.1405668149,
             0.9571619302
            ],
            "passed_time": 2.535192779,
            "remaining_time": 56.42277883,
            "test": [
             0.1460488549,
             0.9523954837
            ]
           },
           {
            "iteration": 43,
            "learn": [
             0.1401019836,
             0.9576959756
            ],
            "passed_time": 2.599065853,
            "remaining_time": 56.47061263,
            "test": [
             0.1462125245,
             0.9525480623
            ]
           },
           {
            "iteration": 44,
            "learn": [
             0.1394039028,
             0.9582681671
            ],
            "passed_time": 2.66252567,
            "remaining_time": 56.50471144,
            "test": [
             0.1462963573,
             0.9534635337
            ]
           },
           {
            "iteration": 45,
            "learn": [
             0.1387643635,
             0.9584207515
            ],
            "passed_time": 2.727722777,
            "remaining_time": 56.57059846,
            "test": [
             0.1458861601,
             0.9537686909
            ]
           },
           {
            "iteration": 46,
            "learn": [
             0.1386492029,
             0.9586496281
            ],
            "passed_time": 2.789375926,
            "remaining_time": 56.55904802,
            "test": [
             0.145873885,
             0.9539212695
            ]
           },
           {
            "iteration": 47,
            "learn": [
             0.138243943,
             0.9590692352
            ],
            "passed_time": 2.853140979,
            "remaining_time": 56.58729608,
            "test": [
             0.1452396996,
             0.9537686909
            ]
           },
           {
            "iteration": 48,
            "learn": [
             0.1379266668,
             0.9593362579
            ],
            "passed_time": 2.92334877,
            "remaining_time": 56.7368302,
            "test": [
             0.1454322184,
             0.9539212695
            ]
           },
           {
            "iteration": 49,
            "learn": [
             0.1376754315,
             0.9591455274
            ],
            "passed_time": 2.981979385,
            "remaining_time": 56.65760832,
            "test": [
             0.1452078805,
             0.9537686909
            ]
           },
           {
            "iteration": 50,
            "learn": [
             0.137490033,
             0.9595651345
            ],
            "passed_time": 3.04630682,
            "remaining_time": 56.68519946,
            "test": [
             0.145169944,
             0.9545315838
            ]
           },
           {
            "iteration": 51,
            "learn": [
             0.1371096246,
             0.9595269884
            ],
            "passed_time": 3.098031243,
            "remaining_time": 56.47949266,
            "test": [
             0.1450157418,
             0.9545315838
            ]
           },
           {
            "iteration": 52,
            "learn": [
             0.1369584248,
             0.9594888423
            ],
            "passed_time": 3.144773075,
            "remaining_time": 56.19056796,
            "test": [
             0.1450560524,
             0.9543790052
            ]
           },
           {
            "iteration": 53,
            "learn": [
             0.1367908541,
             0.9595651345
            ],
            "passed_time": 3.194268275,
            "remaining_time": 55.95884793,
            "test": [
             0.1449885671,
             0.9542264266
            ]
           },
           {
            "iteration": 54,
            "learn": [
             0.1364561896,
             0.9596795728
            ],
            "passed_time": 3.239216095,
            "remaining_time": 55.65562199,
            "test": [
             0.1450611898,
             0.9539212695
            ]
           },
           {
            "iteration": 55,
            "learn": [
             0.1362887241,
             0.9600228877
            ],
            "passed_time": 3.306572435,
            "remaining_time": 55.7393639,
            "test": [
             0.1452205104,
             0.954073848
            ]
           },
           {
            "iteration": 56,
            "learn": [
             0.13589875,
             0.9600228877
            ],
            "passed_time": 3.362147785,
            "remaining_time": 55.62290107,
            "test": [
             0.1454531529,
             0.9537686909
            ]
           },
           {
            "iteration": 57,
            "learn": [
             0.1355401438,
             0.9604043487
            ],
            "passed_time": 3.422812749,
            "remaining_time": 55.59120017,
            "test": [
             0.1453674098,
             0.9546841623
            ]
           },
           {
            "iteration": 58,
            "learn": [
             0.1348377538,
             0.9605569331
            ],
            "passed_time": 3.48594102,
            "remaining_time": 55.59780508,
            "test": [
             0.1450357183,
             0.954073848
            ]
           },
           {
            "iteration": 59,
            "learn": [
             0.1347693035,
             0.9606332253
            ],
            "passed_time": 3.556316909,
            "remaining_time": 55.71563157,
            "test": [
             0.1449334791,
             0.9542264266
            ]
           },
           {
            "iteration": 60,
            "learn": [
             0.1344960588,
             0.9604043487
            ],
            "passed_time": 3.602622676,
            "remaining_time": 55.45676546,
            "test": [
             0.1449843426,
             0.954073848
            ]
           },
           {
            "iteration": 61,
            "learn": [
             0.1341384871,
             0.9604424948
            ],
            "passed_time": 3.649004909,
            "remaining_time": 55.20591298,
            "test": [
             0.1449833559,
             0.9543790052
            ]
           },
           {
            "iteration": 62,
            "learn": [
             0.1338139707,
             0.960518787
            ],
            "passed_time": 3.714665796,
            "remaining_time": 55.24828335,
            "test": [
             0.144891469,
             0.9549893195
            ]
           },
           {
            "iteration": 63,
            "learn": [
             0.1334509743,
             0.9605569331
            ],
            "passed_time": 3.771710355,
            "remaining_time": 55.16126394,
            "test": [
             0.1449808053,
             0.9549893195
            ]
           },
           {
            "iteration": 64,
            "learn": [
             0.1329442955,
             0.9610146862
            ],
            "passed_time": 3.817833761,
            "remaining_time": 54.91807026,
            "test": [
             0.1448731888,
             0.9551418981
            ]
           },
           {
            "iteration": 65,
            "learn": [
             0.1323724247,
             0.9612435628
            ],
            "passed_time": 3.881885395,
            "remaining_time": 54.93455999,
            "test": [
             0.1454641225,
             0.9548367409
            ]
           },
           {
            "iteration": 66,
            "learn": [
             0.1319890308,
             0.9614724394
            ],
            "passed_time": 3.923508728,
            "remaining_time": 54.63632303,
            "test": [
             0.1454507708,
             0.9545315838
            ]
           },
           {
            "iteration": 67,
            "learn": [
             0.1317162807,
             0.9614342933
            ],
            "passed_time": 3.979533401,
            "remaining_time": 54.54301661,
            "test": [
             0.1457014001,
             0.9543790052
            ]
           },
           {
            "iteration": 68,
            "learn": [
             0.131285752,
             0.9615868777
            ],
            "passed_time": 4.045961772,
            "remaining_time": 54.59116536,
            "test": [
             0.1458245446,
             0.9543790052
            ]
           },
           {
            "iteration": 69,
            "learn": [
             0.1311155815,
             0.9617394621
            ],
            "passed_time": 4.10459541,
            "remaining_time": 54.53248188,
            "test": [
             0.146045406,
             0.9543790052
            ]
           },
           {
            "iteration": 70,
            "learn": [
             0.1309902131,
             0.961701316
            ],
            "passed_time": 4.171675574,
            "remaining_time": 54.58431843,
            "test": [
             0.1458954696,
             0.9543790052
            ]
           },
           {
            "iteration": 71,
            "learn": [
             0.1308890116,
             0.9618157543
            ],
            "passed_time": 4.248267965,
            "remaining_time": 54.75545377,
            "test": [
             0.1461936164,
             0.9545315838
            ]
           },
           {
            "iteration": 72,
            "learn": [
             0.130655517,
             0.9618920465
            ],
            "passed_time": 4.307590558,
            "remaining_time": 54.70049927,
            "test": [
             0.1461787109,
             0.9546841623
            ]
           },
           {
            "iteration": 73,
            "learn": [
             0.1304754788,
             0.9619683387
            ],
            "passed_time": 4.368706343,
            "remaining_time": 54.66786586,
            "test": [
             0.1463211032,
             0.9549893195
            ]
           },
           {
            "iteration": 74,
            "learn": [
             0.1304043557,
             0.9619301926
            ],
            "passed_time": 4.418397644,
            "remaining_time": 54.49357094,
            "test": [
             0.1462476332,
             0.9548367409
            ]
           },
           {
            "iteration": 75,
            "learn": [
             0.1299621592,
             0.9618157543
            ],
            "passed_time": 4.487841036,
            "remaining_time": 54.56269891,
            "test": [
             0.1463586556,
             0.9542264266
            ]
           },
           {
            "iteration": 76,
            "learn": [
             0.129811852,
             0.9618920465
            ],
            "passed_time": 4.531950878,
            "remaining_time": 54.32455403,
            "test": [
             0.1466002648,
             0.9539212695
            ]
           },
           {
            "iteration": 77,
            "learn": [
             0.1296591997,
             0.9619683387
            ],
            "passed_time": 4.596918932,
            "remaining_time": 54.33793917,
            "test": [
             0.1465455987,
             0.9539212695
            ]
           },
           {
            "iteration": 78,
            "learn": [
             0.129516629,
             0.9620064848
            ],
            "passed_time": 4.654623042,
            "remaining_time": 54.26465597,
            "test": [
             0.1466751068,
             0.9536161123
            ]
           },
           {
            "iteration": 79,
            "learn": [
             0.1292384911,
             0.9621972153
            ],
            "passed_time": 4.696039472,
            "remaining_time": 54.00445392,
            "test": [
             0.1469805451,
             0.9537686909
            ]
           },
           {
            "iteration": 80,
            "learn": [
             0.1290820704,
             0.9621590692
            ],
            "passed_time": 4.762455367,
            "remaining_time": 54.03328991,
            "test": [
             0.1468496538,
             0.9536161123
            ]
           },
           {
            "iteration": 81,
            "learn": [
             0.1287590614,
             0.9623879458
            ],
            "passed_time": 4.827312584,
            "remaining_time": 54.04235308,
            "test": [
             0.1470830895,
             0.9533109551
            ]
           },
           {
            "iteration": 82,
            "learn": [
             0.1286460208,
             0.9621972153
            ],
            "passed_time": 4.899150595,
            "remaining_time": 54.12676019,
            "test": [
             0.1473208999,
             0.9533109551
            ]
           },
           {
            "iteration": 83,
            "learn": [
             0.1284836025,
             0.9625023841
            ],
            "passed_time": 4.961286488,
            "remaining_time": 54.1016479,
            "test": [
             0.147248044,
             0.9534635337
            ]
           },
           {
            "iteration": 84,
            "learn": [
             0.1281531173,
             0.9625023841
            ],
            "passed_time": 5.020768776,
            "remaining_time": 54.04709918,
            "test": [
             0.1474390366,
             0.9536161123
            ]
           },
           {
            "iteration": 85,
            "learn": [
             0.128076218,
             0.9625405302
            ],
            "passed_time": 5.085383982,
            "remaining_time": 54.0469879,
            "test": [
             0.147514583,
             0.9536161123
            ]
           },
           {
            "iteration": 86,
            "learn": [
             0.1277186242,
             0.9627312607
            ],
            "passed_time": 5.143561265,
            "remaining_time": 53.97783259,
            "test": [
             0.1473900759,
             0.9537686909
            ]
           },
           {
            "iteration": 87,
            "learn": [
             0.1276484889,
             0.9628075529
            ],
            "passed_time": 5.196489888,
            "remaining_time": 53.85453156,
            "test": [
             0.1474294,
             0.9539212695
            ]
           },
           {
            "iteration": 88,
            "learn": [
             0.1273531969,
             0.9628838451
            ],
            "passed_time": 5.242611691,
            "remaining_time": 53.66313764,
            "test": [
             0.1476768313,
             0.9537686909
            ]
           },
           {
            "iteration": 89,
            "learn": [
             0.1272867726,
             0.9629601373
            ],
            "passed_time": 5.308346915,
            "remaining_time": 53.67328548,
            "test": [
             0.1477127656,
             0.9533109551
            ]
           },
           {
            "iteration": 90,
            "learn": [
             0.1270913382,
             0.9629601373
            ],
            "passed_time": 5.373560444,
            "remaining_time": 53.67655432,
            "test": [
             0.1477961229,
             0.9533109551
            ]
           },
           {
            "iteration": 91,
            "learn": [
             0.126578809,
             0.9631508678
            ],
            "passed_time": 5.44084933,
            "remaining_time": 53.6988173,
            "test": [
             0.1479488545,
             0.9536161123
            ]
           },
           {
            "iteration": 92,
            "learn": [
             0.126263822,
             0.96322716
            ],
            "passed_time": 5.502170256,
            "remaining_time": 53.66095077,
            "test": [
             0.1480948556,
             0.953005798
            ]
           },
           {
            "iteration": 93,
            "learn": [
             0.1259848132,
             0.9634560366
            ],
            "passed_time": 5.559853635,
            "remaining_time": 53.58752546,
            "test": [
             0.148309645,
             0.9523954837
            ]
           },
           {
            "iteration": 94,
            "learn": [
             0.1256231447,
             0.9636467671
            ],
            "passed_time": 5.640227294,
            "remaining_time": 53.73058632,
            "test": [
             0.1481181648,
             0.9525480623
            ]
           },
           {
            "iteration": 95,
            "learn": [
             0.1252447969,
             0.9635704749
            ],
            "passed_time": 5.692507402,
            "remaining_time": 53.6044447,
            "test": [
             0.1485124477,
             0.9523954837
            ]
           },
           {
            "iteration": 96,
            "learn": [
             0.1248835213,
             0.9636849132
            ],
            "passed_time": 5.762690804,
            "remaining_time": 53.64649274,
            "test": [
             0.14853483,
             0.9523954837
            ]
           },
           {
            "iteration": 97,
            "learn": [
             0.1246290161,
             0.9637612054
            ],
            "passed_time": 5.828320378,
            "remaining_time": 53.64433654,
            "test": [
             0.1484769228,
             0.9527006408
            ]
           },
           {
            "iteration": 98,
            "learn": [
             0.1239553618,
             0.9637993515
            ],
            "passed_time": 5.879664496,
            "remaining_time": 53.51088597,
            "test": [
             0.1482240414,
             0.9537686909
            ]
           },
           {
            "iteration": 99,
            "learn": [
             0.1237874492,
             0.9638374976
            ],
            "passed_time": 5.931097535,
            "remaining_time": 53.37987781,
            "test": [
             0.1480355328,
             0.954073848
            ]
           },
           {
            "iteration": 100,
            "learn": [
             0.1236454933,
             0.963990082
            ],
            "passed_time": 5.999656967,
            "remaining_time": 53.40288726,
            "test": [
             0.1483082753,
             0.954073848
            ]
           },
           {
            "iteration": 101,
            "learn": [
             0.1233056305,
             0.9642571047
            ],
            "passed_time": 6.052961109,
            "remaining_time": 53.28979486,
            "test": [
             0.1486502932,
             0.9537686909
            ]
           },
           {
            "iteration": 102,
            "learn": [
             0.1229482148,
             0.9641808125
            ],
            "passed_time": 6.113356971,
            "remaining_time": 53.23962333,
            "test": [
             0.1486692709,
             0.9536161123
            ]
           },
           {
            "iteration": 103,
            "learn": [
             0.1228316034,
             0.9641426664
            ],
            "passed_time": 6.158050483,
            "remaining_time": 53.05397339,
            "test": [
             0.1485503915,
             0.9534635337
            ]
           },
           {
            "iteration": 104,
            "learn": [
             0.1226340433,
             0.9642189586
            ],
            "passed_time": 6.219457306,
            "remaining_time": 53.01346942,
            "test": [
             0.1484565796,
             0.9536161123
            ]
           },
           {
            "iteration": 105,
            "learn": [
             0.1224576946,
             0.9641808125
            ],
            "passed_time": 6.276704606,
            "remaining_time": 52.93748979,
            "test": [
             0.1482948112,
             0.9536161123
            ]
           },
           {
            "iteration": 106,
            "learn": [
             0.1220604221,
             0.964371543
            ],
            "passed_time": 6.340765951,
            "remaining_time": 52.91872891,
            "test": [
             0.1483540262,
             0.9536161123
            ]
           },
           {
            "iteration": 107,
            "learn": [
             0.1218300598,
             0.9645622735
            ],
            "passed_time": 6.404496045,
            "remaining_time": 52.89639326,
            "test": [
             0.1483836455,
             0.9533109551
            ]
           },
           {
            "iteration": 108,
            "learn": [
             0.1216372075,
             0.9644096891
            ],
            "passed_time": 6.459113899,
            "remaining_time": 52.79881178,
            "test": [
             0.1485850359,
             0.9534635337
            ]
           },
           {
            "iteration": 109,
            "learn": [
             0.1214211385,
             0.9642952508
            ],
            "passed_time": 6.513599094,
            "remaining_time": 52.70093813,
            "test": [
             0.1489124145,
             0.9537686909
            ]
           },
           {
            "iteration": 110,
            "learn": [
             0.121288979,
             0.9642952508
            ],
            "passed_time": 6.557126833,
            "remaining_time": 52.51608788,
            "test": [
             0.1489754955,
             0.9536161123
            ]
           },
           {
            "iteration": 111,
            "learn": [
             0.1210185557,
             0.9644859813
            ],
            "passed_time": 6.623453698,
            "remaining_time": 52.51452575,
            "test": [
             0.1489884089,
             0.9537686909
            ]
           },
           {
            "iteration": 112,
            "learn": [
             0.1210156965,
             0.9644859813
            ],
            "passed_time": 6.656212628,
            "remaining_time": 52.24832391,
            "test": [
             0.1489964946,
             0.9537686909
            ]
           },
           {
            "iteration": 113,
            "learn": [
             0.1206449898,
             0.9646004196
            ],
            "passed_time": 6.722167319,
            "remaining_time": 52.24421267,
            "test": [
             0.1489584562,
             0.9539212695
            ]
           },
           {
            "iteration": 114,
            "learn": [
             0.120401599,
             0.9646004196
            ],
            "passed_time": 6.773183107,
            "remaining_time": 52.1240613,
            "test": [
             0.1492311174,
             0.9533109551
            ]
           },
           {
            "iteration": 115,
            "learn": [
             0.1202395113,
             0.964753004
            ],
            "passed_time": 6.83106352,
            "remaining_time": 52.0574151,
            "test": [
             0.1492690716,
             0.9537686909
            ]
           },
           {
            "iteration": 116,
            "learn": [
             0.1200002875,
             0.9650200267
            ],
            "passed_time": 6.903872125,
            "remaining_time": 52.10358194,
            "test": [
             0.1497194292,
             0.9536161123
            ]
           },
           {
            "iteration": 117,
            "learn": [
             0.1197088645,
             0.9650963189
            ],
            "passed_time": 6.973132279,
            "remaining_time": 52.12120907,
            "test": [
             0.149852528,
             0.9537686909
            ]
           },
           {
            "iteration": 118,
            "learn": [
             0.1191185473,
             0.9650963189
            ],
            "passed_time": 7.044260817,
            "remaining_time": 52.15120823,
            "test": [
             0.1501522143,
             0.9534635337
            ]
           },
           {
            "iteration": 119,
            "learn": [
             0.1185884879,
             0.9650963189
            ],
            "passed_time": 7.103747384,
            "remaining_time": 52.09414748,
            "test": [
             0.1503245063,
             0.9539212695
            ]
           },
           {
            "iteration": 120,
            "learn": [
             0.1184582783,
             0.9650963189
            ],
            "passed_time": 7.163284628,
            "remaining_time": 52.03741478,
            "test": [
             0.1505341006,
             0.9537686909
            ]
           },
           {
            "iteration": 121,
            "learn": [
             0.1181285814,
             0.9652489033
            ],
            "passed_time": 7.221214145,
            "remaining_time": 51.96906573,
            "test": [
             0.1504627884,
             0.9537686909
            ]
           },
           {
            "iteration": 122,
            "learn": [
             0.1178535986,
             0.9652870494
            ],
            "passed_time": 7.278930234,
            "remaining_time": 51.89936435,
            "test": [
             0.1505446891,
             0.9534635337
            ]
           },
           {
            "iteration": 123,
            "learn": [
             0.11760777,
             0.965515926
            ],
            "passed_time": 7.335054313,
            "remaining_time": 51.8186095,
            "test": [
             0.1505778677,
             0.9531583766
            ]
           },
           {
            "iteration": 124,
            "learn": [
             0.1173176788,
             0.9654396338
            ],
            "passed_time": 7.400183019,
            "remaining_time": 51.80128114,
            "test": [
             0.1506812108,
             0.9534635337
            ]
           },
           {
            "iteration": 125,
            "learn": [
             0.1171518288,
             0.9655540721
            ],
            "passed_time": 7.452286177,
            "remaining_time": 51.69284221,
            "test": [
             0.1505895188,
             0.9536161123
            ]
           },
           {
            "iteration": 126,
            "learn": [
             0.1168283449,
             0.9657066565
            ],
            "passed_time": 7.514070351,
            "remaining_time": 51.65183793,
            "test": [
             0.15033923,
             0.9533109551
            ]
           },
           {
            "iteration": 127,
            "learn": [
             0.1165284012,
             0.9654396338
            ],
            "passed_time": 7.58018595,
            "remaining_time": 51.64001678,
            "test": [
             0.150231723,
             0.9534635337
            ]
           },
           {
            "iteration": 128,
            "learn": [
             0.1164920068,
             0.9654396338
            ],
            "passed_time": 7.656060451,
            "remaining_time": 51.69324537,
            "test": [
             0.1502308738,
             0.9531583766
            ]
           },
           {
            "iteration": 129,
            "learn": [
             0.1162703065,
             0.9659736792
            ],
            "passed_time": 7.720094055,
            "remaining_time": 51.66524483,
            "test": [
             0.1502227182,
             0.9534635337
            ]
           },
           {
            "iteration": 130,
            "learn": [
             0.1158227453,
             0.965897387
            ],
            "passed_time": 7.779438257,
            "remaining_time": 51.60558661,
            "test": [
             0.1506185374,
             0.9531583766
            ]
           },
           {
            "iteration": 131,
            "learn": [
             0.1157461316,
             0.965897387
            ],
            "passed_time": 7.845868885,
            "remaining_time": 51.59253176,
            "test": [
             0.1506043432,
             0.9531583766
            ]
           },
           {
            "iteration": 132,
            "learn": [
             0.115431343,
             0.9659736792
            ],
            "passed_time": 7.910483951,
            "remaining_time": 51.56683899,
            "test": [
             0.1501097467,
             0.953005798
            ]
           },
           {
            "iteration": 133,
            "learn": [
             0.1150952877,
             0.9659736792
            ],
            "passed_time": 7.960942982,
            "remaining_time": 51.44907927,
            "test": [
             0.1500185758,
             0.9531583766
            ]
           },
           {
            "iteration": 134,
            "learn": [
             0.1147249494,
             0.9660118253
            ],
            "passed_time": 8.005237488,
            "remaining_time": 51.29281798,
            "test": [
             0.1502371404,
             0.9533109551
            ]
           },
           {
            "iteration": 135,
            "learn": [
             0.1144882497,
             0.966278848
            ],
            "passed_time": 8.059630761,
            "remaining_time": 51.20236013,
            "test": [
             0.1503408415,
             0.9536161123
            ]
           },
           {
            "iteration": 136,
            "learn": [
             0.1143155641,
             0.966278848
            ],
            "passed_time": 8.1256169,
            "remaining_time": 51.18545536,
            "test": [
             0.1503496744,
             0.9534635337
            ]
           },
           {
            "iteration": 137,
            "learn": [
             0.1139376323,
             0.9662407019
            ],
            "passed_time": 8.190719148,
            "remaining_time": 51.16231816,
            "test": [
             0.150703136,
             0.9536161123
            ]
           },
           {
            "iteration": 138,
            "learn": [
             0.1136831393,
             0.9663932863
            ],
            "passed_time": 8.255270127,
            "remaining_time": 51.13516244,
            "test": [
             0.150683425,
             0.9534635337
            ]
           },
           {
            "iteration": 139,
            "learn": [
             0.1135573555,
             0.9664695785
            ],
            "passed_time": 8.316723616,
            "remaining_time": 51.08844507,
            "test": [
             0.1505825952,
             0.9533109551
            ]
           },
           {
            "iteration": 140,
            "learn": [
             0.113080907,
             0.9665840168
            ],
            "passed_time": 8.374960565,
            "remaining_time": 51.02192287,
            "test": [
             0.1506085962,
             0.9531583766
            ]
           },
           {
            "iteration": 141,
            "learn": [
             0.1127366931,
             0.9665458707
            ],
            "passed_time": 8.423379711,
            "remaining_time": 50.89619572,
            "test": [
             0.1509262612,
             0.9534635337
            ]
           },
           {
            "iteration": 142,
            "learn": [
             0.1121350305,
             0.9668510395
            ],
            "passed_time": 8.473758341,
            "remaining_time": 50.783293,
            "test": [
             0.150608038,
             0.9533109551
            ]
           },
           {
            "iteration": 143,
            "learn": [
             0.1120322777,
             0.9668510395
            ],
            "passed_time": 8.530380355,
            "remaining_time": 50.70837211,
            "test": [
             0.150568456,
             0.9534635337
            ]
           },
           {
            "iteration": 144,
            "learn": [
             0.1116944512,
             0.9669654778
            ],
            "passed_time": 8.581579334,
            "remaining_time": 50.60172642,
            "test": [
             0.150708753,
             0.9531583766
            ]
           },
           {
            "iteration": 145,
            "learn": [
             0.1113415239,
             0.9667747473
            ],
            "passed_time": 8.645207109,
            "remaining_time": 50.56854021,
            "test": [
             0.1509311281,
             0.953005798
            ]
           },
           {
            "iteration": 146,
            "learn": [
             0.1112521956,
             0.9668128934
            ],
            "passed_time": 8.693010605,
            "remaining_time": 50.44311596,
            "test": [
             0.1510014705,
             0.9527006408
            ]
           },
           {
            "iteration": 147,
            "learn": [
             0.1112067061,
             0.9668891856
            ],
            "passed_time": 8.728273248,
            "remaining_time": 50.246546,
            "test": [
             0.1509549527,
             0.9528532194
            ]
           },
           {
            "iteration": 148,
            "learn": [
             0.1109244437,
             0.9669273317
            ],
            "passed_time": 8.785231707,
            "remaining_time": 50.17605492,
            "test": [
             0.1507649339,
             0.9533109551
            ]
           },
           {
            "iteration": 149,
            "learn": [
             0.1108110843,
             0.96704177
            ],
            "passed_time": 8.828360015,
            "remaining_time": 50.02737342,
            "test": [
             0.1508262678,
             0.9536161123
            ]
           },
           {
            "iteration": 150,
            "learn": [
             0.1107697451,
             0.9671562083
            ],
            "passed_time": 8.882072578,
            "remaining_time": 49.93960012,
            "test": [
             0.150964719,
             0.9533109551
            ]
           },
           {
            "iteration": 151,
            "learn": [
             0.1103459776,
             0.9671562083
            ],
            "passed_time": 8.951951069,
            "remaining_time": 49.94246386,
            "test": [
             0.1508469047,
             0.9533109551
            ]
           },
           {
            "iteration": 152,
            "learn": [
             0.1101006739,
             0.9672706466
            ],
            "passed_time": 8.997097794,
            "remaining_time": 49.80746295,
            "test": [
             0.1510730376,
             0.9534635337
            ]
           },
           {
            "iteration": 153,
            "learn": [
             0.1096792816,
             0.9671943544
            ],
            "passed_time": 9.047186505,
            "remaining_time": 49.70077781,
            "test": [
             0.1513303012,
             0.9533109551
            ]
           },
           {
            "iteration": 154,
            "learn": [
             0.1094634698,
             0.9673850849
            ],
            "passed_time": 9.114225836,
            "remaining_time": 49.68723117,
            "test": [
             0.1510785367,
             0.9536161123
            ]
           },
           {
            "iteration": 155,
            "learn": [
             0.1089237522,
             0.9674995232
            ],
            "passed_time": 9.175214311,
            "remaining_time": 49.64026204,
            "test": [
             0.1514431883,
             0.9543790052
            ]
           },
           {
            "iteration": 156,
            "learn": [
             0.1087722165,
             0.9676139615
            ],
            "passed_time": 9.251545803,
            "remaining_time": 49.67549753,
            "test": [
             0.1514957774,
             0.9542264266
            ]
           },
           {
            "iteration": 157,
            "learn": [
             0.1086117968,
             0.9676139615
            ],
            "passed_time": 9.304382141,
            "remaining_time": 49.58411242,
            "test": [
             0.1516557439,
             0.9539212695
            ]
           },
           {
            "iteration": 158,
            "learn": [
             0.1082297241,
             0.9676902537
            ],
            "passed_time": 9.367771669,
            "remaining_time": 49.54903128,
            "test": [
             0.152202221,
             0.9537686909
            ]
           },
           {
            "iteration": 159,
            "learn": [
             0.1079300918,
             0.9676521076
            ],
            "passed_time": 9.421367246,
            "remaining_time": 49.46217804,
            "test": [
             0.1524481358,
             0.9542264266
            ]
           },
           {
            "iteration": 160,
            "learn": [
             0.1075570745,
             0.9679572764
            ],
            "passed_time": 9.487328047,
            "remaining_time": 49.44017535,
            "test": [
             0.1525371068,
             0.9537686909
            ]
           },
           {
            "iteration": 161,
            "learn": [
             0.1072382581,
             0.9681480069
            ],
            "passed_time": 9.549314307,
            "remaining_time": 49.39707031,
            "test": [
             0.1526518769,
             0.9528532194
            ]
           },
           {
            "iteration": 162,
            "learn": [
             0.1071675262,
             0.9680717147
            ],
            "passed_time": 9.600091829,
            "remaining_time": 49.29617706,
            "test": [
             0.1527146921,
             0.9528532194
            ]
           },
           {
            "iteration": 163,
            "learn": [
             0.106869878,
             0.9682242991
            ],
            "passed_time": 9.684321176,
            "remaining_time": 49.3664177,
            "test": [
             0.1525195922,
             0.9534635337
            ]
           },
           {
            "iteration": 164,
            "learn": [
             0.106499937,
             0.9681098608
            ],
            "passed_time": 9.753974826,
            "remaining_time": 49.36102412,
            "test": [
             0.1530873898,
             0.9534635337
            ]
           },
           {
            "iteration": 165,
            "learn": [
             0.1062105041,
             0.9684150296
            ],
            "passed_time": 9.810443761,
            "remaining_time": 49.28861504,
            "test": [
             0.152860836,
             0.9539212695
            ]
           },
           {
            "iteration": 166,
            "learn": [
             0.1058744775,
             0.9683387374
            ],
            "passed_time": 9.862013388,
            "remaining_time": 49.191959,
            "test": [
             0.1530505729,
             0.9536161123
            ]
           },
           {
            "iteration": 167,
            "learn": [
             0.1056512662,
             0.9683768835
            ],
            "passed_time": 9.925037038,
            "remaining_time": 49.15256438,
            "test": [
             0.1527546245,
             0.9534635337
            ]
           },
           {
            "iteration": 168,
            "learn": [
             0.1052108322,
             0.968567614
            ],
            "passed_time": 9.987111821,
            "remaining_time": 49.1082244,
            "test": [
             0.1532229467,
             0.954073848
            ]
           },
           {
            "iteration": 169,
            "learn": [
             0.1048559103,
             0.9687201984
            ],
            "passed_time": 10.04343387,
            "remaining_time": 49.03558891,
            "test": [
             0.1535001143,
             0.9546841623
            ]
           },
           {
            "iteration": 170,
            "learn": [
             0.1046702972,
             0.9689109289
            ],
            "passed_time": 10.10272358,
            "remaining_time": 48.97753129,
            "test": [
             0.1537966591,
             0.9546841623
            ]
           },
           {
            "iteration": 171,
            "learn": [
             0.1046702615,
             0.9689109289
            ],
            "passed_time": 10.14071239,
            "remaining_time": 48.81691779,
            "test": [
             0.1537966314,
             0.9546841623
            ]
           },
           {
            "iteration": 172,
            "learn": [
             0.1045400711,
             0.9689109289
            ],
            "passed_time": 10.19699218,
            "remaining_time": 48.74515913,
            "test": [
             0.1539201268,
             0.9546841623
            ]
           },
           {
            "iteration": 173,
            "learn": [
             0.1044009546,
             0.9687201984
            ],
            "passed_time": 10.25597919,
            "remaining_time": 48.68642997,
            "test": [
             0.1536671264,
             0.9542264266
            ]
           },
           {
            "iteration": 174,
            "learn": [
             0.1042309632,
             0.9687201984
            ],
            "passed_time": 10.30483463,
            "remaining_time": 48.57993468,
            "test": [
             0.1538669708,
             0.954073848
            ]
           },
           {
            "iteration": 175,
            "learn": [
             0.1041815191,
             0.9686820523
            ],
            "passed_time": 10.35222108,
            "remaining_time": 48.46721687,
            "test": [
             0.1539206999,
             0.9537686909
            ]
           },
           {
            "iteration": 176,
            "learn": [
             0.1039712901,
             0.9687201984
            ],
            "passed_time": 10.4171737,
            "remaining_time": 48.436915,
            "test": [
             0.1541734089,
             0.9537686909
            ]
           },
           {
            "iteration": 177,
            "learn": [
             0.1037547649,
             0.9687583445
            ],
            "passed_time": 10.47641119,
            "remaining_time": 48.37983146,
            "test": [
             0.1542857762,
             0.954073848
            ]
           },
           {
            "iteration": 178,
            "learn": [
             0.1034966383,
             0.9689109289
            ],
            "passed_time": 10.53934498,
            "remaining_time": 48.33967727,
            "test": [
             0.1543643513,
             0.954073848
            ]
           },
           {
            "iteration": 179,
            "learn": [
             0.1033297427,
             0.9691398055
            ],
            "passed_time": 10.60114546,
            "remaining_time": 48.29410711,
            "test": [
             0.1543776796,
             0.9543790052
            ]
           },
           {
            "iteration": 180,
            "learn": [
             0.1031271782,
             0.9691779516
            ],
            "passed_time": 10.67101943,
            "remaining_time": 48.284889,
            "test": [
             0.1543668023,
             0.9546841623
            ]
           },
           {
            "iteration": 181,
            "learn": [
             0.1027560879,
             0.9692923899
            ],
            "passed_time": 10.72907973,
            "remaining_time": 48.22190779,
            "test": [
             0.1545895066,
             0.9536161123
            ]
           },
           {
            "iteration": 182,
            "learn": [
             0.1027170179,
             0.9692160977
            ],
            "passed_time": 10.79202954,
            "remaining_time": 48.1808095,
            "test": [
             0.1545948884,
             0.9539212695
            ]
           },
           {
            "iteration": 183,
            "learn": [
             0.1025740958,
             0.9694068282
            ],
            "passed_time": 10.85778814,
            "remaining_time": 48.15193002,
            "test": [
             0.1546703774,
             0.954073848
            ]
           },
           {
            "iteration": 184,
            "learn": [
             0.1022636657,
             0.9694449743
            ],
            "passed_time": 10.90902887,
            "remaining_time": 48.05869477,
            "test": [
             0.1549291612,
             0.9539212695
            ]
           },
           {
            "iteration": 185,
            "learn": [
             0.1021619205,
             0.9694449743
            ],
            "passed_time": 10.96827965,
            "remaining_time": 48.00096577,
            "test": [
             0.1549847787,
             0.9539212695
            ]
           },
           {
            "iteration": 186,
            "learn": [
             0.1020493201,
             0.9693686821
            ],
            "passed_time": 11.02142104,
            "remaining_time": 47.91665939,
            "test": [
             0.1552321508,
             0.9539212695
            ]
           },
           {
            "iteration": 187,
            "learn": [
             0.1018549936,
             0.9695212665
            ],
            "passed_time": 11.07734995,
            "remaining_time": 47.84472427,
            "test": [
             0.1552929268,
             0.954073848
            ]
           },
           {
            "iteration": 188,
            "learn": [
             0.1018549364,
             0.9695212665
            ],
            "passed_time": 11.11708526,
            "remaining_time": 47.70347167,
            "test": [
             0.1552920339,
             0.954073848
            ]
           },
           {
            "iteration": 189,
            "learn": [
             0.1015766937,
             0.9696357047
            ],
            "passed_time": 11.19038815,
            "remaining_time": 47.7063916,
            "test": [
             0.1557538816,
             0.9539212695
            ]
           },
           {
            "iteration": 190,
            "learn": [
             0.1015207229,
             0.9696357047
            ],
            "passed_time": 11.23858356,
            "remaining_time": 47.60216805,
            "test": [
             0.1558553083,
             0.953005798
            ]
           },
           {
            "iteration": 191,
            "learn": [
             0.1014116055,
             0.9699408735
            ],
            "passed_time": 11.29805173,
            "remaining_time": 47.54596769,
            "test": [
             0.1557511968,
             0.9528532194
            ]
           },
           {
            "iteration": 192,
            "learn": [
             0.101297702,
             0.9700553118
            ],
            "passed_time": 11.37109417,
            "remaining_time": 47.54649222,
            "test": [
             0.1560045887,
             0.9528532194
            ]
           },
           {
            "iteration": 193,
            "learn": [
             0.1010665309,
             0.9698264352
            ],
            "passed_time": 11.4368998,
            "remaining_time": 47.51619193,
            "test": [
             0.1565913343,
             0.9528532194
            ]
           },
           {
            "iteration": 194,
            "learn": [
             0.100815916,
             0.9699408735
            ],
            "passed_time": 11.50265563,
            "remaining_time": 47.48532195,
            "test": [
             0.1564124229,
             0.9534635337
            ]
           },
           {
            "iteration": 195,
            "learn": [
             0.10031021,
             0.9700171657
            ],
            "passed_time": 11.57083933,
            "remaining_time": 47.46405522,
            "test": [
             0.1568378388,
             0.953005798
            ]
           },
           {
            "iteration": 196,
            "learn": [
             0.0996977708,
             0.9700934579
            ],
            "passed_time": 11.63664676,
            "remaining_time": 47.43262613,
            "test": [
             0.1566027118,
             0.9536161123
            ]
           },
           {
            "iteration": 197,
            "learn": [
             0.09957163339,
             0.9702841884
            ],
            "passed_time": 11.70239447,
            "remaining_time": 47.40060792,
            "test": [
             0.1566117878,
             0.9536161123
            ]
           },
           {
            "iteration": 198,
            "learn": [
             0.09948221761,
             0.9701697501
            ],
            "passed_time": 11.76435251,
            "remaining_time": 47.35299678,
            "test": [
             0.156219694,
             0.9534635337
            ]
           },
           {
            "iteration": 199,
            "learn": [
             0.099098257,
             0.9698645813
            ],
            "passed_time": 11.81953781,
            "remaining_time": 47.27815125,
            "test": [
             0.1565782706,
             0.9534635337
            ]
           },
           {
            "iteration": 200,
            "learn": [
             0.0990456969,
             0.9698645813
            ],
            "passed_time": 11.88700949,
            "remaining_time": 47.25234122,
            "test": [
             0.1566414349,
             0.9534635337
            ]
           },
           {
            "iteration": 201,
            "learn": [
             0.09874362242,
             0.9700171657
            ],
            "passed_time": 11.9287886,
            "remaining_time": 47.1246203,
            "test": [
             0.1565963081,
             0.9534635337
            ]
           },
           {
            "iteration": 202,
            "learn": [
             0.09868812013,
             0.970131604
            ],
            "passed_time": 11.9907692,
            "remaining_time": 47.07705938,
            "test": [
             0.156406083,
             0.9533109551
            ]
           },
           {
            "iteration": 203,
            "learn": [
             0.09849083827,
             0.9702078962
            ],
            "passed_time": 12.04429642,
            "remaining_time": 46.9963723,
            "test": [
             0.1568571303,
             0.9523954837
            ]
           },
           {
            "iteration": 204,
            "learn": [
             0.09825463055,
             0.9702460423
            ],
            "passed_time": 12.11408622,
            "remaining_time": 46.97901728,
            "test": [
             0.1570631593,
             0.9525480623
            ]
           },
           {
            "iteration": 205,
            "learn": [
             0.09805246191,
             0.9702841884
            ],
            "passed_time": 12.1724341,
            "remaining_time": 46.91705181,
            "test": [
             0.1573673776,
             0.9522429051
            ]
           },
           {
            "iteration": 206,
            "learn": [
             0.09805220462,
             0.9702841884
            ],
            "passed_time": 12.23104523,
            "remaining_time": 46.85612978,
            "test": [
             0.157365687,
             0.9522429051
            ]
           },
           {
            "iteration": 207,
            "learn": [
             0.09766987628,
             0.9704749189
            ],
            "passed_time": 12.2908813,
            "remaining_time": 46.79989419,
            "test": [
             0.1575720759,
             0.9523954837
            ]
           },
           {
            "iteration": 208,
            "learn": [
             0.09753834575,
             0.970513065
            ],
            "passed_time": 12.35695167,
            "remaining_time": 46.76721899,
            "test": [
             0.1575957229,
             0.9520903265
            ]
           },
           {
            "iteration": 209,
            "learn": [
             0.09719838775,
             0.9707037955
            ],
            "passed_time": 12.43501188,
            "remaining_time": 46.77933039,
            "test": [
             0.158204791,
             0.9523954837
            ]
           },
           {
            "iteration": 210,
            "learn": [
             0.09709440003,
             0.9709326721
            ],
            "passed_time": 12.49955716,
            "remaining_time": 46.74005024,
            "test": [
             0.1584242324,
             0.9517851694
            ]
           },
           {
            "iteration": 211,
            "learn": [
             0.09676505841,
             0.9710089643
            ],
            "passed_time": 12.56080582,
            "remaining_time": 46.68827824,
            "test": [
             0.1583942774,
             0.9519377479
            ]
           },
           {
            "iteration": 212,
            "learn": [
             0.096645853,
             0.9710089643
            ],
            "passed_time": 12.6254961,
            "remaining_time": 46.64913348,
            "test": [
             0.1585061968,
             0.9519377479
            ]
           },
           {
            "iteration": 213,
            "learn": [
             0.09664585278,
             0.9710089643
            ],
            "passed_time": 12.67290956,
            "remaining_time": 46.546294,
            "test": [
             0.158506193,
             0.9519377479
            ]
           },
           {
            "iteration": 214,
            "learn": [
             0.09624949497,
             0.9709708182
            ],
            "passed_time": 12.73979281,
            "remaining_time": 46.51505747,
            "test": [
             0.1583161717,
             0.9522429051
            ]
           },
           {
            "iteration": 215,
            "learn": [
             0.09606711549,
             0.9710471104
            ],
            "passed_time": 12.79644414,
            "remaining_time": 46.4463528,
            "test": [
             0.1582173603,
             0.9527006408
            ]
           },
           {
            "iteration": 216,
            "learn": [
             0.09596039344,
             0.9710471104
            ],
            "passed_time": 12.85769419,
            "remaining_time": 46.39435276,
            "test": [
             0.1583934472,
             0.9523954837
            ]
           },
           {
            "iteration": 217,
            "learn": [
             0.09595981929,
             0.9710471104
            ],
            "passed_time": 12.9101887,
            "remaining_time": 46.31086038,
            "test": [
             0.1583933443,
             0.9523954837
            ]
           },
           {
            "iteration": 218,
            "learn": [
             0.09591533362,
             0.9709708182
            ],
            "passed_time": 12.95730016,
            "remaining_time": 46.20845398,
            "test": [
             0.1584585596,
             0.9523954837
            ]
           },
           {
            "iteration": 219,
            "learn": [
             0.09574458637,
             0.9711615487
            ],
            "passed_time": 13.01640351,
            "remaining_time": 46.14906699,
            "test": [
             0.1584365637,
             0.9527006408
            ]
           },
           {
            "iteration": 220,
            "learn": [
             0.09546982039,
             0.9711996948
            ],
            "passed_time": 13.07621364,
            "remaining_time": 46.09217387,
            "test": [
             0.1585704194,
             0.9525480623
            ]
           },
           {
            "iteration": 221,
            "learn": [
             0.0953713215,
             0.9713522792
            ],
            "passed_time": 13.14259034,
            "remaining_time": 46.05826704,
            "test": [
             0.1583618538,
             0.9527006408
            ]
           },
           {
            "iteration": 222,
            "learn": [
             0.09513248046,
             0.9714667175
            ],
            "passed_time": 13.20522048,
            "remaining_time": 46.01101487,
            "test": [
             0.158524857,
             0.9528532194
            ]
           },
           {
            "iteration": 223,
            "learn": [
             0.09492726358,
             0.9713522792
            ],
            "passed_time": 13.25867214,
            "remaining_time": 45.93182848,
            "test": [
             0.1587398659,
             0.9528532194
            ]
           },
           {
            "iteration": 224,
            "learn": [
             0.09466844682,
             0.971657448
            ],
            "passed_time": 13.32470257,
            "remaining_time": 45.89619775,
            "test": [
             0.1589896012,
             0.9523954837
            ]
           },
           {
            "iteration": 225,
            "learn": [
             0.09414613865,
             0.9717718863
            ],
            "passed_time": 13.38703241,
            "remaining_time": 45.84762426,
            "test": [
             0.159122872,
             0.9525480623
            ]
           },
           {
            "iteration": 226,
            "learn": [
             0.09390509079,
             0.9717718863
            ],
            "passed_time": 13.44624648,
            "remaining_time": 45.78831952,
            "test": [
             0.1592783926,
             0.9525480623
            ]
           },
           {
            "iteration": 227,
            "learn": [
             0.09390493435,
             0.9717718863
            ],
            "passed_time": 13.49851304,
            "remaining_time": 45.70549152,
            "test": [
             0.1592785279,
             0.9525480623
            ]
           },
           {
            "iteration": 228,
            "learn": [
             0.09375648793,
             0.9716955941
            ],
            "passed_time": 13.55843057,
            "remaining_time": 45.64868984,
            "test": [
             0.1591338941,
             0.9522429051
            ]
           },
           {
            "iteration": 229,
            "learn": [
             0.09353427976,
             0.9718100324
            ],
            "passed_time": 13.63118847,
            "remaining_time": 45.63484834,
            "test": [
             0.1589287981,
             0.9520903265
            ]
           },
           {
            "iteration": 230,
            "learn": [
             0.09337053525,
             0.9718863246
            ],
            "passed_time": 13.70728088,
            "remaining_time": 45.63159739,
            "test": [
             0.1591162873,
             0.9522429051
            ]
           },
           {
            "iteration": 231,
            "learn": [
             0.09329908591,
             0.9719626168
            ],
            "passed_time": 13.76964333,
            "remaining_time": 45.58226758,
            "test": [
             0.1592934021,
             0.9520903265
            ]
           },
           {
            "iteration": 232,
            "learn": [
             0.09314867264,
             0.9718863246
            ],
            "passed_time": 13.82978239,
            "remaining_time": 45.52550685,
            "test": [
             0.159369966,
             0.9522429051
            ]
           },
           {
            "iteration": 233,
            "learn": [
             0.09298285224,
             0.9719626168
            ],
            "passed_time": 13.88696932,
            "remaining_time": 45.45905341,
            "test": [
             0.1594521385,
             0.953005798
            ]
           },
           {
            "iteration": 234,
            "learn": [
             0.09279475372,
             0.9722296395
            ],
            "passed_time": 13.95527943,
            "remaining_time": 45.42888834,
            "test": [
             0.1596746388,
             0.9522429051
            ]
           },
           {
            "iteration": 235,
            "learn": [
             0.09259816709,
             0.9721152012
            ],
            "passed_time": 14.02309923,
            "remaining_time": 45.39681277,
            "test": [
             0.1600030585,
             0.9522429051
            ]
           },
           {
            "iteration": 236,
            "learn": [
             0.09230705959,
             0.9721152012
            ],
            "passed_time": 14.06841038,
            "remaining_time": 45.29197097,
            "test": [
             0.1601713307,
             0.9528532194
            ]
           },
           {
            "iteration": 237,
            "learn": [
             0.09207688998,
             0.9722296395
            ],
            "passed_time": 14.13252226,
            "remaining_time": 45.24782336,
            "test": [
             0.1605079137,
             0.9523954837
            ]
           },
           {
            "iteration": 238,
            "learn": [
             0.0919836616,
             0.9722677856
            ],
            "passed_time": 14.19370594,
            "remaining_time": 45.19418503,
            "test": [
             0.1604596842,
             0.9522429051
            ]
           },
           {
            "iteration": 239,
            "learn": [
             0.09185450297,
             0.9723059317
            ],
            "passed_time": 14.27204074,
            "remaining_time": 45.19479566,
            "test": [
             0.1603400454,
             0.9522429051
            ]
           },
           {
            "iteration": 240,
            "learn": [
             0.09168879301,
             0.9722677856
            ],
            "passed_time": 14.35047699,
            "remaining_time": 45.19507068,
            "test": [
             0.1604771613,
             0.9522429051
            ]
           },
           {
            "iteration": 241,
            "learn": [
             0.09137921479,
             0.9722296395
            ],
            "passed_time": 14.41038729,
            "remaining_time": 45.13666763,
            "test": [
             0.1609157379,
             0.9516325908
            ]
           },
           {
            "iteration": 242,
            "learn": [
             0.09121480599,
             0.9723440778
            ],
            "passed_time": 14.46591801,
            "remaining_time": 45.06460877,
            "test": [
             0.1606429718,
             0.9514800122
            ]
           },
           {
            "iteration": 243,
            "learn": [
             0.0909360089,
             0.9723440778
            ],
            "passed_time": 14.51565013,
            "remaining_time": 44.97471927,
            "test": [
             0.1605843667,
             0.9514800122
            ]
           },
           {
            "iteration": 244,
            "learn": [
             0.09092534893,
             0.9723822239
            ],
            "passed_time": 14.56461581,
            "remaining_time": 44.88279565,
            "test": [
             0.1605712477,
             0.9514800122
            ]
           },
           {
            "iteration": 245,
            "learn": [
             0.09070908923,
             0.9724585161
            ],
            "passed_time": 14.63584241,
            "remaining_time": 44.85945195,
            "test": [
             0.1602144347,
             0.9527006408
            ]
           },
           {
            "iteration": 246,
            "learn": [
             0.09042021912,
             0.9724966622
            ],
            "passed_time": 14.70095667,
            "remaining_time": 44.81708652,
            "test": [
             0.1604534212,
             0.9525480623
            ]
           },
           {
            "iteration": 247,
            "learn": [
             0.09033303877,
             0.9724585161
            ],
            "passed_time": 14.76450865,
            "remaining_time": 44.76980043,
            "test": [
             0.1609115143,
             0.9525480623
            ]
           },
           {
            "iteration": 248,
            "learn": [
             0.09024024102,
             0.9725729544
            ],
            "passed_time": 14.82063123,
            "remaining_time": 44.69997611,
            "test": [
             0.1610560199,
             0.9527006408
            ]
           },
           {
            "iteration": 249,
            "learn": [
             0.09024015936,
             0.9725729544
            ],
            "passed_time": 14.86126946,
            "remaining_time": 44.58380838,
            "test": [
             0.1610562806,
             0.9527006408
            ]
           },
           {
            "iteration": 250,
            "learn": [
             0.09003480126,
             0.9725729544
            ],
            "passed_time": 14.91073578,
            "remaining_time": 44.49458604,
            "test": [
             0.1611955517,
             0.9525480623
            ]
           },
           {
            "iteration": 251,
            "learn": [
             0.08965610721,
             0.9726111005
            ],
            "passed_time": 14.97291435,
            "remaining_time": 44.44341242,
            "test": [
             0.1615611237,
             0.9527006408
            ]
           },
           {
            "iteration": 252,
            "learn": [
             0.08939353325,
             0.9725348083
            ],
            "passed_time": 15.02049894,
            "remaining_time": 44.34906208,
            "test": [
             0.1617546139,
             0.9522429051
            ]
           },
           {
            "iteration": 253,
            "learn": [
             0.08925161548,
             0.9725729544
            ],
            "passed_time": 15.07192932,
            "remaining_time": 44.2663751,
            "test": [
             0.1619483078,
             0.9522429051
            ]
           },
           {
            "iteration": 254,
            "learn": [
             0.08905878608,
             0.9727636849
            ],
            "passed_time": 15.13596949,
            "remaining_time": 44.22077361,
            "test": [
             0.1615651509,
             0.9525480623
            ]
           },
           {
            "iteration": 255,
            "learn": [
             0.08905873996,
             0.9727636849
            ],
            "passed_time": 15.20072085,
            "remaining_time": 44.17709496,
            "test": [
             0.161565058,
             0.9525480623
            ]
           },
           {
            "iteration": 256,
            "learn": [
             0.08886111967,
             0.9729544154
            ],
            "passed_time": 15.26719313,
            "remaining_time": 44.13822761,
            "test": [
             0.1616611654,
             0.9525480623
            ]
           },
           {
            "iteration": 257,
            "learn": [
             0.08871248074,
             0.9730307076
            ],
            "passed_time": 15.32134453,
            "remaining_time": 44.06371179,
            "test": [
             0.1618090531,
             0.9523954837
            ]
           },
           {
            "iteration": 258,
            "learn": [
             0.08856867942,
             0.973183292
            ],
            "passed_time": 15.38490814,
            "remaining_time": 44.0162816,
            "test": [
             0.1618796817,
             0.9517851694
            ]
           },
           {
            "iteration": 259,
            "learn": [
             0.08856865246,
             0.973183292
            ],
            "passed_time": 15.43575632,
            "remaining_time": 43.93253723,
            "test": [
             0.1618795562,
             0.9517851694
            ]
           },
           {
            "iteration": 260,
            "learn": [
             0.0883646402,
             0.9730307076
            ],
            "passed_time": 15.48431381,
            "remaining_time": 43.84255903,
            "test": [
             0.1617736501,
             0.9519377479
            ]
           },
           {
            "iteration": 261,
            "learn": [
             0.08825548792,
             0.9731069998
            ],
            "passed_time": 15.55197511,
            "remaining_time": 43.80670852,
            "test": [
             0.1617856954,
             0.9517851694
            ]
           },
           {
            "iteration": 262,
            "learn": [
             0.08825541934,
             0.9731069998
            ],
            "passed_time": 15.60471645,
            "remaining_time": 43.72880617,
            "test": [
             0.1617854949,
             0.9517851694
            ]
           },
           {
            "iteration": 263,
            "learn": [
             0.08807776191,
             0.9732595842
            ],
            "passed_time": 15.676498,
            "remaining_time": 43.70417623,
            "test": [
             0.1618041655,
             0.9519377479
            ]
           },
           {
            "iteration": 264,
            "learn": [
             0.08785079493,
             0.9734884608
            ],
            "passed_time": 15.74839615,
            "remaining_time": 43.67951385,
            "test": [
             0.1614722096,
             0.9523954837
            ]
           },
           {
            "iteration": 265,
            "learn": [
             0.08755318339,
             0.9736028991
            ],
            "passed_time": 15.810213,
            "remaining_time": 43.62667797,
            "test": [
             0.1614823868,
             0.9520903265
            ]
           },
           {
            "iteration": 266,
            "learn": [
             0.08738645322,
             0.9736791913
            ],
            "passed_time": 15.88296235,
            "remaining_time": 43.60378802,
            "test": [
             0.1611715015,
             0.9522429051
            ]
           },
           {
            "iteration": 267,
            "learn": [
             0.08724127824,
             0.9738317757
            ],
            "passed_time": 15.96160824,
            "remaining_time": 43.59663146,
            "test": [
             0.1613276043,
             0.9523954837
            ]
           },
           {
            "iteration": 268,
            "learn": [
             0.08706887762,
             0.9738317757
            ],
            "passed_time": 16.0239462,
            "remaining_time": 43.54462704,
            "test": [
             0.1615413756,
             0.9520903265
            ]
           },
           {
            "iteration": 269,
            "learn": [
             0.08694910235,
             0.9742132367
            ],
            "passed_time": 16.07403499,
            "remaining_time": 43.45942793,
            "test": [
             0.1618982128,
             0.9523954837
            ]
           },
           {
            "iteration": 270,
            "learn": [
             0.08674361822,
             0.9742895289
            ],
            "passed_time": 16.13377683,
            "remaining_time": 43.40045501,
            "test": [
             0.1620255613,
             0.9525480623
            ]
           },
           {
            "iteration": 271,
            "learn": [
             0.08654634925,
             0.974327675
            ],
            "passed_time": 16.21040274,
            "remaining_time": 43.38666615,
            "test": [
             0.1622634775,
             0.9525480623
            ]
           },
           {
            "iteration": 272,
            "learn": [
             0.08619663572,
             0.9742513828
            ],
            "passed_time": 16.25457583,
            "remaining_time": 43.28599496,
            "test": [
             0.161865365,
             0.9523954837
            ]
           },
           {
            "iteration": 273,
            "learn": [
             0.0857583028,
             0.9744802594
            ],
            "passed_time": 16.31991117,
            "remaining_time": 43.24180844,
            "test": [
             0.162085104,
             0.9522429051
            ]
           },
           {
            "iteration": 274,
            "learn": [
             0.08569161478,
             0.9744421133
            ],
            "passed_time": 16.37084944,
            "remaining_time": 43.15951217,
            "test": [
             0.1621608813,
             0.9522429051
            ]
           },
           {
            "iteration": 275,
            "learn": [
             0.0854427117,
             0.9744039672
            ],
            "passed_time": 16.44209141,
            "remaining_time": 43.13070356,
            "test": [
             0.1621761449,
             0.9522429051
            ]
           },
           {
            "iteration": 276,
            "learn": [
             0.08535328106,
             0.9744802594
            ],
            "passed_time": 16.51277378,
            "remaining_time": 43.10012796,
            "test": [
             0.1622016763,
             0.9522429051
            ]
           },
           {
            "iteration": 277,
            "learn": [
             0.08528384366,
             0.9745565516
            ],
            "passed_time": 16.57587728,
            "remaining_time": 43.04958055,
            "test": [
             0.1621552713,
             0.9522429051
            ]
           },
           {
            "iteration": 278,
            "learn": [
             0.08521514168,
             0.9744421133
            ],
            "passed_time": 16.63435528,
            "remaining_time": 42.9869898,
            "test": [
             0.1618889081,
             0.9525480623
            ]
           },
           {
            "iteration": 279,
            "learn": [
             0.08521374104,
             0.9744421133
            ],
            "passed_time": 16.68827059,
            "remaining_time": 42.9126958,
            "test": [
             0.1618889316,
             0.9525480623
            ]
           },
           {
            "iteration": 280,
            "learn": [
             0.08515056251,
             0.9745184055
            ],
            "passed_time": 16.76036218,
            "remaining_time": 42.88505483,
            "test": [
             0.1617862203,
             0.9522429051
            ]
           },
           {
            "iteration": 281,
            "learn": [
             0.08502117929,
             0.9746328438
            ],
            "passed_time": 16.82506212,
            "remaining_time": 42.83827872,
            "test": [
             0.1617755451,
             0.9519377479
            ]
           },
           {
            "iteration": 282,
            "learn": [
             0.08463158904,
             0.9744802594
            ],
            "passed_time": 16.88604865,
            "remaining_time": 42.78196778,
            "test": [
             0.1614606396,
             0.9523954837
            ]
           },
           {
            "iteration": 283,
            "learn": [
             0.08426195483,
             0.9747854282
            ],
            "passed_time": 16.9420243,
            "remaining_time": 42.71299085,
            "test": [
             0.1616561066,
             0.9527006408
            ]
           },
           {
            "iteration": 284,
            "learn": [
             0.08422952711,
             0.9748998665
            ],
            "passed_time": 17.00735684,
            "remaining_time": 42.66757943,
            "test": [
             0.1617658542,
             0.9525480623
            ]
           },
           {
            "iteration": 285,
            "learn": [
             0.0839720746,
             0.9749761587
            ],
            "passed_time": 17.0555144,
            "remaining_time": 42.57915133,
            "test": [
             0.1619190049,
             0.9522429051
            ]
           },
           {
            "iteration": 286,
            "learn": [
             0.08374575671,
             0.9748235743
            ],
            "passed_time": 17.11192285,
            "remaining_time": 42.51150171,
            "test": [
             0.1619595337,
             0.9517851694
            ]
           },
           {
            "iteration": 287,
            "learn": [
             0.08365897029,
             0.9748235743
            ],
            "passed_time": 17.18327091,
            "remaining_time": 42.48086418,
            "test": [
             0.16210315,
             0.9517851694
            ]
           },
           {
            "iteration": 288,
            "learn": [
             0.0834897288,
             0.9749380126
            ],
            "passed_time": 17.23840123,
            "remaining_time": 42.41004594,
            "test": [
             0.1621003867,
             0.9516325908
            ]
           },
           {
            "iteration": 289,
            "learn": [
             0.08323892653,
             0.9747854282
            ],
            "passed_time": 17.29329523,
            "remaining_time": 42.33875728,
            "test": [
             0.1625047164,
             0.9520903265
            ]
           },
           {
            "iteration": 290,
            "learn": [
             0.08286309077,
             0.9747472821
            ],
            "passed_time": 17.33995435,
            "remaining_time": 42.24751764,
            "test": [
             0.1626952634,
             0.9527006408
            ]
           },
           {
            "iteration": 291,
            "learn": [
             0.08263303091,
             0.9748235743
            ],
            "passed_time": 17.39732474,
            "remaining_time": 42.1825545,
            "test": [
             0.1626071488,
             0.9528532194
            ]
           },
           {
            "iteration": 292,
            "learn": [
             0.08238356012,
             0.9747854282
            ],
            "passed_time": 17.45097247,
            "remaining_time": 42.10866055,
            "test": [
             0.1625192378,
             0.9527006408
            ]
           },
           {
            "iteration": 293,
            "learn": [
             0.08229242787,
             0.9748235743
            ],
            "passed_time": 17.50213974,
            "remaining_time": 42.02894781,
            "test": [
             0.1625461227,
             0.9523954837
            ]
           },
           {
            "iteration": 294,
            "learn": [
             0.08209716592,
             0.9748235743
            ],
            "passed_time": 17.56027679,
            "remaining_time": 41.96608522,
            "test": [
             0.1627919251,
             0.9528532194
            ]
           },
           {
            "iteration": 295,
            "learn": [
             0.08203737806,
             0.9748235743
            ],
            "passed_time": 17.62229492,
            "remaining_time": 41.91248522,
            "test": [
             0.1628087158,
             0.953005798
            ]
           },
           {
            "iteration": 296,
            "learn": [
             0.08173503005,
             0.9748235743
            ],
            "passed_time": 17.67440872,
            "remaining_time": 41.83538495,
            "test": [
             0.162921465,
             0.9525480623
            ]
           },
           {
            "iteration": 297,
            "learn": [
             0.0813752621,
             0.9749380126
            ],
            "passed_time": 17.73089701,
            "remaining_time": 41.76875737,
            "test": [
             0.1634928143,
             0.9523954837
            ]
           },
           {
            "iteration": 298,
            "learn": [
             0.0812099777,
             0.9748617204
            ],
            "passed_time": 17.79686105,
            "remaining_time": 41.72441335,
            "test": [
             0.1633980974,
             0.9522429051
            ]
           },
           {
            "iteration": 299,
            "learn": [
             0.08102800791,
             0.975090597
            ],
            "passed_time": 17.8602367,
            "remaining_time": 41.67388564,
            "test": [
             0.1635392116,
             0.953005798
            ]
           },
           {
            "iteration": 300,
            "learn": [
             0.08088602731,
             0.9752050353
            ],
            "passed_time": 17.92600737,
            "remaining_time": 41.62883439,
            "test": [
             0.1636716115,
             0.9528532194
            ]
           },
           {
            "iteration": 301,
            "learn": [
             0.08068034542,
             0.9752050353
            ],
            "passed_time": 17.9860923,
            "remaining_time": 41.57050473,
            "test": [
             0.1636626653,
             0.9522429051
            ]
           },
           {
            "iteration": 302,
            "learn": [
             0.08063081871,
             0.9753194736
            ],
            "passed_time": 18.05167682,
            "remaining_time": 41.52481434,
            "test": [
             0.163712542,
             0.9527006408
            ]
           },
           {
            "iteration": 303,
            "learn": [
             0.0802389922,
             0.9752431814
            ],
            "passed_time": 18.10390759,
            "remaining_time": 41.44842002,
            "test": [
             0.163779683,
             0.9528532194
            ]
           },
           {
            "iteration": 304,
            "learn": [
             0.08007911038,
             0.9753957658
            ],
            "passed_time": 18.18016764,
            "remaining_time": 41.42693938,
            "test": [
             0.1637006888,
             0.9527006408
            ]
           },
           {
            "iteration": 305,
            "learn": [
             0.07978447991,
             0.9755483502
            ],
            "passed_time": 18.24491131,
            "remaining_time": 41.37898186,
            "test": [
             0.1644975776,
             0.9527006408
            ]
           },
           {
            "iteration": 306,
            "learn": [
             0.07971532719,
             0.9757009346
            ],
            "passed_time": 18.30750309,
            "remaining_time": 41.32605747,
            "test": [
             0.1645013011,
             0.9527006408
            ]
           },
           {
            "iteration": 307,
            "learn": [
             0.07963101852,
             0.9757009346
            ],
            "passed_time": 18.36272404,
            "remaining_time": 41.25650986,
            "test": [
             0.1645057123,
             0.9525480623
            ]
           },
           {
            "iteration": 308,
            "learn": [
             0.07953194401,
             0.9757390807
            ],
            "passed_time": 18.41975208,
            "remaining_time": 41.19109608,
            "test": [
             0.1647684396,
             0.9527006408
            ]
           },
           {
            "iteration": 309,
            "learn": [
             0.07942255903,
             0.9757009346
            ],
            "passed_time": 18.47944187,
            "remaining_time": 41.13166094,
            "test": [
             0.1648704439,
             0.9519377479
            ]
           },
           {
            "iteration": 310,
            "learn": [
             0.07897297823,
             0.9758153729
            ],
            "passed_time": 18.52668079,
            "remaining_time": 41.04464008,
            "test": [
             0.165208557,
             0.9517851694
            ]
           },
           {
            "iteration": 311,
            "learn": [
             0.0787538128,
             0.9758153729
            ],
            "passed_time": 18.59709155,
            "remaining_time": 41.0089711,
            "test": [
             0.1653887599,
             0.9516325908
            ]
           },
           {
            "iteration": 312,
            "learn": [
             0.07870961813,
             0.975853519
            ],
            "passed_time": 18.66652372,
            "remaining_time": 40.97093225,
            "test": [
             0.1654529689,
             0.9514800122
            ]
           },
           {
            "iteration": 313,
            "learn": [
             0.07842418856,
             0.9759679573
            ],
            "passed_time": 18.73723914,
            "remaining_time": 40.93549698,
            "test": [
             0.1652829114,
             0.9516325908
            ]
           },
           {
            "iteration": 314,
            "learn": [
             0.07832382913,
             0.9760061034
            ],
            "passed_time": 18.80604298,
            "remaining_time": 40.89568077,
            "test": [
             0.1654530153,
             0.9517851694
            ]
           },
           {
            "iteration": 315,
            "learn": [
             0.07815075116,
             0.9761205417
            ],
            "passed_time": 18.87697787,
            "remaining_time": 40.86029388,
            "test": [
             0.1657814396,
             0.9517851694
            ]
           },
           {
            "iteration": 316,
            "learn": [
             0.07795290879,
             0.9761586878
            ],
            "passed_time": 18.94680775,
            "remaining_time": 40.82230187,
            "test": [
             0.1663652429,
             0.9519377479
            ]
           },
           {
            "iteration": 317,
            "learn": [
             0.07782037963,
             0.9763112722
            ],
            "passed_time": 19.01070559,
            "remaining_time": 40.77138746,
            "test": [
             0.1666048087,
             0.9513274336
            ]
           },
           {
            "iteration": 318,
            "learn": [
             0.077753579,
             0.9764257105
            ],
            "passed_time": 19.09094745,
            "remaining_time": 40.7552828,
            "test": [
             0.1664565874,
             0.9517851694
            ]
           },
           {
            "iteration": 319,
            "learn": [
             0.07723533063,
             0.9765782949
            ],
            "passed_time": 19.1404258,
            "remaining_time": 40.67340482,
            "test": [
             0.1664780603,
             0.9525480623
            ]
           },
           {
            "iteration": 320,
            "learn": [
             0.07707991132,
             0.9766927332
            ],
            "passed_time": 19.21679277,
            "remaining_time": 40.64860527,
            "test": [
             0.166349391,
             0.9525480623
            ]
           },
           {
            "iteration": 321,
            "learn": [
             0.07705499553,
             0.9766927332
            ],
            "passed_time": 19.27864088,
            "remaining_time": 40.59291465,
            "test": [
             0.1663288344,
             0.9527006408
            ]
           },
           {
            "iteration": 322,
            "learn": [
             0.07698569387,
             0.9765401488
            ],
            "passed_time": 19.34046074,
            "remaining_time": 40.53712669,
            "test": [
             0.1665293065,
             0.9527006408
            ]
           },
           {
            "iteration": 323,
            "learn": [
             0.07661593375,
             0.9765401488
            ],
            "passed_time": 19.40562559,
            "remaining_time": 40.48828055,
            "test": [
             0.1668392753,
             0.9522429051
            ]
           },
           {
            "iteration": 324,
            "learn": [
             0.07659062219,
             0.9765401488
            ],
            "passed_time": 19.47262817,
            "remaining_time": 40.44315081,
            "test": [
             0.1668765101,
             0.9522429051
            ]
           },
           {
            "iteration": 325,
            "learn": [
             0.07636792235,
             0.9766927332
            ],
            "passed_time": 19.53507205,
            "remaining_time": 40.38846185,
            "test": [
             0.1669983595,
             0.9519377479
            ]
           },
           {
            "iteration": 326,
            "learn": [
             0.07594139507,
             0.9766927332
            ],
            "passed_time": 19.60027254,
            "remaining_time": 40.33939883,
            "test": [
             0.1671333725,
             0.9519377479
            ]
           },
           {
            "iteration": 327,
            "learn": [
             0.07580346005,
             0.9768453176
            ],
            "passed_time": 19.66424553,
            "remaining_time": 40.28772256,
            "test": [
             0.1672520692,
             0.9522429051
            ]
           },
           {
            "iteration": 328,
            "learn": [
             0.0757000237,
             0.9768453176
            ],
            "passed_time": 19.72855297,
            "remaining_time": 40.23665362,
            "test": [
             0.1675614918,
             0.9525480623
            ]
           },
           {
            "iteration": 329,
            "learn": [
             0.07560743339,
             0.9767690254
            ],
            "passed_time": 19.77541518,
            "remaining_time": 40.15008537,
            "test": [
             0.1675864638,
             0.9525480623
            ]
           },
           {
            "iteration": 330,
            "learn": [
             0.07528956919,
             0.9768453176
            ],
            "passed_time": 19.84578751,
            "remaining_time": 40.11127446,
            "test": [
             0.1673897335,
             0.9523954837
            ]
           },
           {
            "iteration": 331,
            "learn": [
             0.07517767439,
             0.9768834637
            ],
            "passed_time": 19.90903816,
            "remaining_time": 40.05794424,
            "test": [
             0.1673150494,
             0.9525480623
            ]
           },
           {
            "iteration": 332,
            "learn": [
             0.07466191531,
             0.9773412169
            ],
            "passed_time": 19.97657392,
            "remaining_time": 40.01313754,
            "test": [
             0.1680111218,
             0.9517851694
            ]
           },
           {
            "iteration": 333,
            "learn": [
             0.07466142979,
             0.9773412169
            ],
            "passed_time": 20.05613938,
            "remaining_time": 39.99218212,
            "test": [
             0.1680096839,
             0.9517851694
            ]
           },
           {
            "iteration": 334,
            "learn": [
             0.0745255719,
             0.9773412169
            ],
            "passed_time": 20.1147794,
            "remaining_time": 39.92933822,
            "test": [
             0.1680679885,
             0.9514800122
            ]
           },
           {
            "iteration": 335,
            "learn": [
             0.07422142399,
             0.9773030708
            ],
            "passed_time": 20.17502333,
            "remaining_time": 39.86968896,
            "test": [
             0.168389673,
             0.9523954837
            ]
           },
           {
            "iteration": 336,
            "learn": [
             0.07405682265,
             0.9773412169
            ],
            "passed_time": 20.23305732,
            "remaining_time": 39.80568843,
            "test": [
             0.1680130832,
             0.953005798
            ]
           },
           {
            "iteration": 337,
            "learn": [
             0.07391630544,
             0.9774556552
            ],
            "passed_time": 20.27899648,
            "remaining_time": 39.71803453,
            "test": [
             0.1680631046,
             0.953005798
            ]
           },
           {
            "iteration": 338,
            "learn": [
             0.07383098778,
             0.9774175091
            ],
            "passed_time": 20.34318251,
            "remaining_time": 39.66620543,
            "test": [
             0.1679884958,
             0.9533109551
            ]
           },
           {
            "iteration": 339,
            "learn": [
             0.07354007393,
             0.9774938013
            ],
            "passed_time": 20.39170035,
            "remaining_time": 39.58388892,
            "test": [
             0.1681690098,
             0.953005798
            ]
           },
           {
            "iteration": 340,
            "learn": [
             0.07340005998,
             0.9775319474
            ],
            "passed_time": 20.45521047,
            "remaining_time": 39.530744,
            "test": [
             0.1682852231,
             0.9528532194
            ]
           },
           {
            "iteration": 341,
            "learn": [
             0.07324832635,
             0.9774938013
            ],
            "passed_time": 20.52176543,
            "remaining_time": 39.48339665,
            "test": [
             0.1683852242,
             0.9525480623
            ]
           },
           {
            "iteration": 342,
            "learn": [
             0.07313517682,
             0.9774938013
            ],
            "passed_time": 20.59209319,
            "remaining_time": 39.44316392,
            "test": [
             0.1683445172,
             0.9520903265
            ]
           },
           {
            "iteration": 343,
            "learn": [
             0.07300824743,
             0.9776082396
            ],
            "passed_time": 20.64943497,
            "remaining_time": 39.37799226,
            "test": [
             0.1683934356,
             0.9519377479
            ]
           },
           {
            "iteration": 344,
            "learn": [
             0.07299294072,
             0.9775319474
            ],
            "passed_time": 20.71075406,
            "remaining_time": 39.32041713,
            "test": [
             0.1684929996,
             0.9517851694
            ]
           },
           {
            "iteration": 345,
            "learn": [
             0.07288726813,
             0.9774556552
            ],
            "passed_time": 20.76982233,
            "remaining_time": 39.2585659,
            "test": [
             0.1686182687,
             0.9520903265
            ]
           },
           {
            "iteration": 346,
            "learn": [
             0.07248294746,
             0.9775700935
            ],
            "passed_time": 20.83796242,
            "remaining_time": 39.21380247,
            "test": [
             0.1697000761,
             0.9517851694
            ]
           },
           {
            "iteration": 347,
            "learn": [
             0.0724826284,
             0.9775700935
            ],
            "passed_time": 20.89578089,
            "remaining_time": 39.1495665,
            "test": [
             0.1697021883,
             0.9517851694
            ]
           },
           {
            "iteration": 348,
            "learn": [
             0.07230720143,
             0.9776082396
            ],
            "passed_time": 20.94564012,
            "remaining_time": 39.07052067,
            "test": [
             0.1692159856,
             0.9517851694
            ]
           },
           {
            "iteration": 349,
            "learn": [
             0.0723070701,
             0.9776082396
            ],
            "passed_time": 20.98512565,
            "remaining_time": 38.9723762,
            "test": [
             0.1692153959,
             0.9517851694
            ]
           },
           {
            "iteration": 350,
            "learn": [
             0.07200738345,
             0.9774938013
            ],
            "passed_time": 21.04889267,
            "remaining_time": 38.91946251,
            "test": [
             0.1693919336,
             0.9519377479
            ]
           },
           {
            "iteration": 351,
            "learn": [
             0.0720073513,
             0.9774938013
            ],
            "passed_time": 21.10022616,
            "remaining_time": 38.84359816,
            "test": [
             0.1693919684,
             0.9519377479
            ]
           },
           {
            "iteration": 352,
            "learn": [
             0.07189926172,
             0.9778371162
            ],
            "passed_time": 21.15132398,
            "remaining_time": 38.76744084,
            "test": [
             0.1694414816,
             0.9522429051
            ]
           },
           {
            "iteration": 353,
            "learn": [
             0.07182265193,
             0.9779897006
            ],
            "passed_time": 21.21332191,
            "remaining_time": 38.71131626,
            "test": [
             0.1697172774,
             0.9523954837
            ]
           },
           {
            "iteration": 354,
            "learn": [
             0.07182249757,
             0.9779897006
            ],
            "passed_time": 21.25256235,
            "remaining_time": 38.61381046,
            "test": [
             0.1697173532,
             0.9523954837
            ]
           },
           {
            "iteration": 355,
            "learn": [
             0.07182102322,
             0.9780278467
            ],
            "passed_time": 21.30067664,
            "remaining_time": 38.53268471,
            "test": [
             0.1697162377,
             0.9523954837
            ]
           },
           {
            "iteration": 356,
            "learn": [
             0.07174274521,
             0.9779515545
            ],
            "passed_time": 21.36378058,
            "remaining_time": 38.47874205,
            "test": [
             0.1696099656,
             0.9522429051
            ]
           },
           {
            "iteration": 357,
            "learn": [
             0.07174274521,
             0.9779515545
            ],
            "passed_time": 21.42598543,
            "remaining_time": 38.42313588,
            "test": [
             0.1696099656,
             0.9522429051
            ]
           },
           {
            "iteration": 358,
            "learn": [
             0.07164710347,
             0.9781041389
            ],
            "passed_time": 21.47153181,
            "remaining_time": 38.33774899,
            "test": [
             0.1697276133,
             0.9522429051
            ]
           },
           {
            "iteration": 359,
            "learn": [
             0.07134473114,
             0.9783330154
            ],
            "passed_time": 21.53924163,
            "remaining_time": 38.29198512,
            "test": [
             0.1697601874,
             0.9522429051
            ]
           },
           {
            "iteration": 360,
            "learn": [
             0.07122772269,
             0.9782185772
            ],
            "passed_time": 21.60081897,
            "remaining_time": 38.23524467,
            "test": [
             0.1700483263,
             0.9519377479
            ]
           },
           {
            "iteration": 361,
            "learn": [
             0.07102388849,
             0.9782567233
            ],
            "passed_time": 21.66258055,
            "remaining_time": 38.17880218,
            "test": [
             0.1700902525,
             0.9520903265
            ]
           },
           {
            "iteration": 362,
            "learn": [
             0.07095171441,
             0.9782567233
            ],
            "passed_time": 21.72457412,
            "remaining_time": 38.12273751,
            "test": [
             0.1703222143,
             0.9522429051
            ]
           },
           {
            "iteration": 363,
            "learn": [
             0.07089817237,
             0.9782567233
            ],
            "passed_time": 21.80777788,
            "remaining_time": 38.10369981,
            "test": [
             0.1704820107,
             0.9523954837
            ]
           },
           {
            "iteration": 364,
            "learn": [
             0.07057565102,
             0.9782567233
            ],
            "passed_time": 21.86585307,
            "remaining_time": 38.0405937,
            "test": [
             0.1706218795,
             0.9519377479
            ]
           },
           {
            "iteration": 365,
            "learn": [
             0.07013231749,
             0.9783330154
            ],
            "passed_time": 21.93015193,
            "remaining_time": 37.98829596,
            "test": [
             0.1711153126,
             0.9520903265
            ]
           },
           {
            "iteration": 366,
            "learn": [
             0.06975432881,
             0.9786763303
            ],
            "passed_time": 21.98049315,
            "remaining_time": 37.91185875,
            "test": [
             0.1712987898,
             0.9519377479
            ]
           },
           {
            "iteration": 367,
            "learn": [
             0.06966288956,
             0.9786763303
            ],
            "passed_time": 22.04400769,
            "remaining_time": 37.85818712,
            "test": [
             0.1713863919,
             0.9523954837
            ]
           },
           {
            "iteration": 368,
            "learn": [
             0.0694711818,
             0.978561892
            ],
            "passed_time": 22.10976047,
            "remaining_time": 37.80828958,
            "test": [
             0.1714395802,
             0.9523954837
            ]
           },
           {
            "iteration": 369,
            "learn": [
             0.06933303745,
             0.9786763303
            ],
            "passed_time": 22.17327495,
            "remaining_time": 37.75449519,
            "test": [
             0.1713379908,
             0.9522429051
            ]
           },
           {
            "iteration": 370,
            "learn": [
             0.06928548564,
             0.9786763303
            ],
            "passed_time": 22.23784043,
            "remaining_time": 37.70243027,
            "test": [
             0.170954886,
             0.9527006408
            ]
           },
           {
            "iteration": 371,
            "learn": [
             0.06903352491,
             0.9787907686
            ],
            "passed_time": 22.30658166,
            "remaining_time": 37.65734753,
            "test": [
             0.1714399634,
             0.953005798
            ]
           },
           {
            "iteration": 372,
            "learn": [
             0.06885423608,
             0.9789052069
            ],
            "passed_time": 22.36532486,
            "remaining_time": 37.5953316,
            "test": [
             0.1716234815,
             0.9528532194
            ]
           },
           {
            "iteration": 373,
            "learn": [
             0.06858110179,
             0.9789814991
            ],
            "passed_time": 22.42082156,
            "remaining_time": 37.5278992,
            "test": [
             0.1717441888,
             0.9528532194
            ]
           },
           {
            "iteration": 374,
            "learn": [
             0.06848225007,
             0.9789052069
            ],
            "passed_time": 22.47844292,
            "remaining_time": 37.46407153,
            "test": [
             0.1720006907,
             0.9527006408
            ]
           },
           {
            "iteration": 375,
            "learn": [
             0.0682982538,
             0.9787907686
            ],
            "passed_time": 22.55163852,
            "remaining_time": 37.4261235,
            "test": [
             0.1725622484,
             0.9523954837
            ]
           },
           {
            "iteration": 376,
            "learn": [
             0.06814419393,
             0.9790196452
            ],
            "passed_time": 22.61345315,
            "remaining_time": 37.36918119,
            "test": [
             0.1725662688,
             0.9523954837
            ]
           },
           {
            "iteration": 377,
            "learn": [
             0.0680222777,
             0.9789814991
            ],
            "passed_time": 22.67374371,
            "remaining_time": 37.30970526,
            "test": [
             0.1724445355,
             0.9525480623
            ]
           },
           {
            "iteration": 378,
            "learn": [
             0.06772193196,
             0.9792103757
            ],
            "passed_time": 22.74577927,
            "remaining_time": 37.26946946,
            "test": [
             0.1723002391,
             0.9531583766
            ]
           },
           {
            "iteration": 379,
            "learn": [
             0.06760759632,
             0.9790959374
            ],
            "passed_time": 22.81748435,
            "remaining_time": 37.22852709,
            "test": [
             0.1724722824,
             0.953005798
            ]
           },
           {
            "iteration": 380,
            "learn": [
             0.06744665007,
             0.9791722296
            ],
            "passed_time": 22.87765831,
            "remaining_time": 37.16868896,
            "test": [
             0.1727929838,
             0.953005798
            ]
           },
           {
            "iteration": 381,
            "learn": [
             0.06735951258,
             0.9792866679
            ],
            "passed_time": 22.94856213,
            "remaining_time": 37.12620784,
            "test": [
             0.1728070933,
             0.9528532194
            ]
           },
           {
            "iteration": 382,
            "learn": [
             0.06730683922,
             0.9792866679
            ],
            "passed_time": 23.00717798,
            "remaining_time": 37.0637828,
            "test": [
             0.1727533216,
             0.9525480623
            ]
           },
           {
            "iteration": 383,
            "learn": [
             0.06721955244,
             0.979324814
            ],
            "passed_time": 23.08791202,
            "remaining_time": 37.03685886,
            "test": [
             0.1726356036,
             0.9519377479
            ]
           },
           {
            "iteration": 384,
            "learn": [
             0.06690671134,
             0.9792103757
            ],
            "passed_time": 23.15360066,
            "remaining_time": 36.98562184,
            "test": [
             0.1728966003,
             0.9522429051
            ]
           },
           {
            "iteration": 385,
            "learn": [
             0.066783444,
             0.9792866679
            ],
            "passed_time": 23.21989521,
            "remaining_time": 36.93527374,
            "test": [
             0.1729794059,
             0.9520903265
            ]
           },
           {
            "iteration": 386,
            "learn": [
             0.06658643481,
             0.9791340835
            ],
            "passed_time": 23.25483718,
            "remaining_time": 36.83518137,
            "test": [
             0.1729231971,
             0.9520903265
            ]
           },
           {
            "iteration": 387,
            "learn": [
             0.06643922575,
             0.979324814
            ],
            "passed_time": 23.32553292,
            "remaining_time": 36.79181997,
            "test": [
             0.17290936,
             0.9519377479
            ]
           },
           {
            "iteration": 388,
            "learn": [
             0.06632293132,
             0.9793629601
            ],
            "passed_time": 23.39192428,
            "remaining_time": 36.74155715,
            "test": [
             0.1727832896,
             0.9522429051
            ]
           },
           {
            "iteration": 389,
            "learn": [
             0.06604413677,
             0.9795918367
            ],
            "passed_time": 23.4478509,
            "remaining_time": 36.67484372,
            "test": [
             0.17284981,
             0.9520903265
            ]
           },
           {
            "iteration": 390,
            "learn": [
             0.06595464831,
             0.9796681289
            ],
            "passed_time": 23.51845471,
            "remaining_time": 36.63104583,
            "test": [
             0.173046098,
             0.9516325908
            ]
           },
           {
            "iteration": 391,
            "learn": [
             0.06589229653,
             0.979706275
            ],
            "passed_time": 23.58693097,
            "remaining_time": 36.5838113,
            "test": [
             0.1731201662,
             0.9514800122
            ]
           },
           {
            "iteration": 392,
            "learn": [
             0.06557977645,
             0.9798207133
            ],
            "passed_time": 23.64916198,
            "remaining_time": 36.5268227,
            "test": [
             0.1735615709,
             0.9511748551
            ]
           },
           {
            "iteration": 393,
            "learn": [
             0.06550126503,
             0.9797825672
            ],
            "passed_time": 23.71069117,
            "remaining_time": 36.46872805,
            "test": [
             0.1736380073,
             0.9513274336
            ]
           },
           {
            "iteration": 394,
            "learn": [
             0.06535088205,
             0.9799351516
            ],
            "passed_time": 23.76272528,
            "remaining_time": 36.3960729,
            "test": [
             0.1734486685,
             0.9511748551
            ]
           },
           {
            "iteration": 395,
            "learn": [
             0.06528521573,
             0.9799732977
            ],
            "passed_time": 23.81814611,
            "remaining_time": 36.3286875,
            "test": [
             0.1733824076,
             0.9514800122
            ]
           },
           {
            "iteration": 396,
            "learn": [
             0.06510094546,
             0.9800495899
            ],
            "passed_time": 23.87733674,
            "remaining_time": 36.2670883,
            "test": [
             0.1735176021,
             0.9516325908
            ]
           },
           {
            "iteration": 397,
            "learn": [
             0.06510032518,
             0.980087736
            ],
            "passed_time": 23.94579128,
            "remaining_time": 36.21951345,
            "test": [
             0.173517301,
             0.9516325908
            ]
           },
           {
            "iteration": 398,
            "learn": [
             0.06497499437,
             0.980087736
            ],
            "passed_time": 24.01096217,
            "remaining_time": 36.16688788,
            "test": [
             0.173269907,
             0.9514800122
            ]
           },
           {
            "iteration": 399,
            "learn": [
             0.06468126845,
             0.9802021743
            ],
            "passed_time": 24.07251076,
            "remaining_time": 36.10876614,
            "test": [
             0.1734579398,
             0.9514800122
            ]
           },
           {
            "iteration": 400,
            "learn": [
             0.06454784966,
             0.9803547587
            ],
            "passed_time": 24.13580431,
            "remaining_time": 36.05323387,
            "test": [
             0.1731257819,
             0.9517851694
            ]
           },
           {
            "iteration": 401,
            "learn": [
             0.06429055236,
             0.9803547587
            ],
            "passed_time": 24.20189343,
            "remaining_time": 36.00182156,
            "test": [
             0.1738840429,
             0.9519377479
            ]
           },
           {
            "iteration": 402,
            "learn": [
             0.0642494573,
             0.9805073431
            ],
            "passed_time": 24.26499152,
            "remaining_time": 35.94590555,
            "test": [
             0.1738769274,
             0.9522429051
            ]
           },
           {
            "iteration": 403,
            "learn": [
             0.06413260275,
             0.980469197
            ],
            "passed_time": 24.32636693,
            "remaining_time": 35.8874126,
            "test": [
             0.1741448343,
             0.9523954837
            ]
           },
           {
            "iteration": 404,
            "learn": [
             0.06407078264,
             0.9805073431
            ],
            "passed_time": 24.39368208,
            "remaining_time": 35.8376317,
            "test": [
             0.1742621931,
             0.9523954837
            ]
           },
           {
            "iteration": 405,
            "learn": [
             0.06394229118,
             0.9805454892
            ],
            "passed_time": 24.4569895,
            "remaining_time": 35.78190089,
            "test": [
             0.1744464345,
             0.9522429051
            ]
           },
           {
            "iteration": 406,
            "learn": [
             0.06369311364,
             0.9805836353
            ],
            "passed_time": 24.52300158,
            "remaining_time": 35.73007356,
            "test": [
             0.1745975598,
             0.9517851694
            ]
           },
           {
            "iteration": 407,
            "learn": [
             0.06369306201,
             0.9805836353
            ],
            "passed_time": 24.57537424,
            "remaining_time": 35.65838615,
            "test": [
             0.1745973527,
             0.9517851694
            ]
           },
           {
            "iteration": 408,
            "learn": [
             0.06369283455,
             0.9805836353
            ],
            "passed_time": 24.63595987,
            "remaining_time": 35.59866084,
            "test": [
             0.1745971065,
             0.9517851694
            ]
           },
           {
            "iteration": 409,
            "learn": [
             0.06361701952,
             0.9805073431
            ],
            "passed_time": 24.72411309,
            "remaining_time": 35.57860176,
            "test": [
             0.1746347334,
             0.9519377479
            ]
           },
           {
            "iteration": 410,
            "learn": [
             0.06349571573,
             0.9805454892
            ],
            "passed_time": 24.79016158,
            "remaining_time": 35.52653327,
            "test": [
             0.1747978023,
             0.9519377479
            ]
           },
           {
            "iteration": 411,
            "learn": [
             0.06331668464,
             0.9807743658
            ],
            "passed_time": 24.87807061,
            "remaining_time": 35.50559592,
            "test": [
             0.1750844792,
             0.9520903265
            ]
           },
           {
            "iteration": 412,
            "learn": [
             0.06327653434,
             0.980850658
            ],
            "passed_time": 24.93901044,
            "remaining_time": 35.44600273,
            "test": [
             0.1753006171,
             0.9520903265
            ]
           },
           {
            "iteration": 413,
            "learn": [
             0.06317732968,
             0.9808125119
            ],
            "passed_time": 24.9971892,
            "remaining_time": 35.38249486,
            "test": [
             0.1753716154,
             0.9519377479
            ]
           },
           {
            "iteration": 414,
            "learn": [
             0.0631144075,
             0.9808888041
            ],
            "passed_time": 25.05880237,
            "remaining_time": 35.32385394,
            "test": [
             0.1750182831,
             0.9519377479
            ]
           },
           {
            "iteration": 415,
            "learn": [
             0.06306326277,
             0.980850658
            ],
            "passed_time": 25.11228033,
            "remaining_time": 35.25377816,
            "test": [
             0.1753292724,
             0.9520903265
            ]
           },
           {
            "iteration": 416,
            "learn": [
             0.06277150673,
             0.9810032424
            ],
            "passed_time": 25.17375495,
            "remaining_time": 35.19496195,
            "test": [
             0.1753008305,
             0.9520903265
            ]
           },
           {
            "iteration": 417,
            "learn": [
             0.06255801282,
             0.9809269502
            ],
            "passed_time": 25.24069157,
            "remaining_time": 35.14373803,
            "test": [
             0.1756200787,
             0.9520903265
            ]
           },
           {
            "iteration": 418,
            "learn": [
             0.06250552154,
             0.980850658
            ],
            "passed_time": 25.29412333,
            "remaining_time": 35.07371277,
            "test": [
             0.1754099088,
             0.9522429051
            ]
           },
           {
            "iteration": 419,
            "learn": [
             0.06241817008,
             0.9807743658
            ],
            "passed_time": 25.34250844,
            "remaining_time": 34.99679737,
            "test": [
             0.175482759,
             0.9517851694
            ]
           },
           {
            "iteration": 420,
            "learn": [
             0.06223684947,
             0.9809650963
            ],
            "passed_time": 25.391757,
            "remaining_time": 34.92120499,
            "test": [
             0.175529707,
             0.9519377479
            ]
           },
           {
            "iteration": 421,
            "learn": [
             0.06207192234,
             0.9810032424
            ],
            "passed_time": 25.45201241,
            "remaining_time": 34.86081321,
            "test": [
             0.1755419785,
             0.9527006408
            ]
           },
           {
            "iteration": 422,
            "learn": [
             0.06201514633,
             0.9809650963
            ],
            "passed_time": 25.5067958,
            "remaining_time": 34.79295786,
            "test": [
             0.1753707143,
             0.9525480623
            ]
           },
           {
            "iteration": 423,
            "learn": [
             0.06173701132,
             0.9810413885
            ],
            "passed_time": 25.57763026,
            "remaining_time": 34.74696941,
            "test": [
             0.1757705168,
             0.9525480623
            ]
           },
           {
            "iteration": 424,
            "learn": [
             0.0616295314,
             0.981232119
            ],
            "passed_time": 25.6407978,
            "remaining_time": 34.69049114,
            "test": [
             0.1759788413,
             0.9522429051
            ]
           },
           {
            "iteration": 425,
            "learn": [
             0.06143444885,
             0.9811176807
            ],
            "passed_time": 25.70516893,
            "remaining_time": 34.63560321,
            "test": [
             0.1762042219,
             0.9525480623
            ]
           },
           {
            "iteration": 426,
            "learn": [
             0.06121218069,
             0.9811939729
            ],
            "passed_time": 25.75808972,
            "remaining_time": 34.56530541,
            "test": [
             0.1763503335,
             0.9525480623
            ]
           },
           {
            "iteration": 427,
            "learn": [
             0.06114213768,
             0.9814609956
            ],
            "passed_time": 25.83482529,
            "remaining_time": 34.52691604,
            "test": [
             0.1766857312,
             0.9525480623
            ]
           },
           {
            "iteration": 428,
            "learn": [
             0.06104675469,
             0.9814228495
            ],
            "passed_time": 25.90635144,
            "remaining_time": 34.48141416,
            "test": [
             0.1767339407,
             0.9525480623
            ]
           },
           {
            "iteration": 429,
            "learn": [
             0.0608595547,
             0.9815372878
            ],
            "passed_time": 25.96460811,
            "remaining_time": 34.41820144,
            "test": [
             0.1766769899,
             0.9523954837
            ]
           },
           {
            "iteration": 430,
            "learn": [
             0.0607643342,
             0.9814609956
            ],
            "passed_time": 26.02212667,
            "remaining_time": 34.3540373,
            "test": [
             0.1766925694,
             0.9523954837
            ]
           },
           {
            "iteration": 431,
            "learn": [
             0.06070814733,
             0.9814991417
            ],
            "passed_time": 26.08479444,
            "remaining_time": 34.29667417,
            "test": [
             0.1768188457,
             0.9528532194
            ]
           },
           {
            "iteration": 432,
            "learn": [
             0.06042549514,
             0.9816517261
            ],
            "passed_time": 26.14772771,
            "remaining_time": 34.23963421,
            "test": [
             0.1767566034,
             0.9527006408
            ]
           },
           {
            "iteration": 433,
            "learn": [
             0.06033046371,
             0.9817661644
            ],
            "passed_time": 26.20279028,
            "remaining_time": 34.17230253,
            "test": [
             0.1768723596,
             0.9527006408
            ]
           },
           {
            "iteration": 434,
            "learn": [
             0.06017130728,
             0.9815372878
            ],
            "passed_time": 26.25716903,
            "remaining_time": 34.10413909,
            "test": [
             0.1770785713,
             0.9527006408
            ]
           },
           {
            "iteration": 435,
            "learn": [
             0.06004135174,
             0.9817280183
            ],
            "passed_time": 26.31936612,
            "remaining_time": 34.0461525,
            "test": [
             0.1770917596,
             0.9527006408
            ]
           },
           {
            "iteration": 436,
            "learn": [
             0.05990421431,
             0.9818424566
            ],
            "passed_time": 26.3809349,
            "remaining_time": 33.98733718,
            "test": [
             0.1769638461,
             0.9528532194
            ]
           },
           {
            "iteration": 437,
            "learn": [
             0.05964367237,
             0.9819568949
            ],
            "passed_time": 26.44855391,
            "remaining_time": 33.93627237,
            "test": [
             0.1768226196,
             0.9527006408
            ]
           },
           {
            "iteration": 438,
            "learn": [
             0.05957030291,
             0.9818424566
            ],
            "passed_time": 26.51801305,
            "remaining_time": 33.88748364,
            "test": [
             0.176881689,
             0.9527006408
            ]
           },
           {
            "iteration": 439,
            "learn": [
             0.05941888972,
             0.9819568949
            ],
            "passed_time": 26.58755022,
            "remaining_time": 33.83870028,
            "test": [
             0.1769063431,
             0.9525480623
            ]
           },
           {
            "iteration": 440,
            "learn": [
             0.05936951936,
             0.9820331871
            ],
            "passed_time": 26.65504251,
            "remaining_time": 33.78723075,
            "test": [
             0.1767930273,
             0.9523954837
            ]
           },
           {
            "iteration": 441,
            "learn": [
             0.05935495295,
             0.9820331871
            ],
            "passed_time": 26.70880921,
            "remaining_time": 33.71836094,
            "test": [
             0.1768272632,
             0.9522429051
            ]
           },
           {
            "iteration": 442,
            "learn": [
             0.05929387434,
             0.9820713332
            ],
            "passed_time": 26.76275405,
            "remaining_time": 33.64978331,
            "test": [
             0.1769884947,
             0.9523954837
            ]
           },
           {
            "iteration": 443,
            "learn": [
             0.05929344539,
             0.9820713332
            ],
            "passed_time": 26.82749925,
            "remaining_time": 33.59479636,
            "test": [
             0.176988027,
             0.9523954837
            ]
           },
           {
            "iteration": 444,
            "learn": [
             0.05922669503,
             0.9820331871
            ],
            "passed_time": 26.8995127,
            "remaining_time": 33.54883045,
            "test": [
             0.1769991531,
             0.9523954837
            ]
           },
           {
            "iteration": 445,
            "learn": [
             0.05903024873,
             0.981995041
            ],
            "passed_time": 26.96211297,
            "remaining_time": 33.49105512,
            "test": [
             0.1771178298,
             0.9527006408
            ]
           },
           {
            "iteration": 446,
            "learn": [
             0.05870021914,
             0.9821094793
            ],
            "passed_time": 27.01433073,
            "remaining_time": 33.42041363,
            "test": [
             0.1769892929,
             0.9527006408
            ]
           },
           {
            "iteration": 447,
            "learn": [
             0.05855005217,
             0.9821476254
            ],
            "passed_time": 27.08006922,
            "remaining_time": 33.36651386,
            "test": [
             0.1769816222,
             0.9528532194
            ]
           },
           {
            "iteration": 448,
            "learn": [
             0.05852372772,
             0.9821857715
            ],
            "passed_time": 27.13969,
            "remaining_time": 33.30505388,
            "test": [
             0.1770221371,
             0.953005798
            ]
           },
           {
            "iteration": 449,
            "learn": [
             0.05840345779,
             0.9822239176
            ],
            "passed_time": 27.20143725,
            "remaining_time": 33.24620108,
            "test": [
             0.1768916606,
             0.9528532194
            ]
           },
           {
            "iteration": 450,
            "learn": [
             0.0583779277,
             0.9822239176
            ],
            "passed_time": 27.24993141,
            "remaining_time": 33.17120254,
            "test": [
             0.1767939362,
             0.9533109551
            ]
           },
           {
            "iteration": 451,
            "learn": [
             0.0582693914,
             0.9824146481
            ],
            "passed_time": 27.30166681,
            "remaining_time": 33.10025091,
            "test": [
             0.1768334189,
             0.953005798
            ]
           },
           {
            "iteration": 452,
            "learn": [
             0.05826932013,
             0.9824146481
            ],
            "passed_time": 27.34388093,
            "remaining_time": 33.01788712,
            "test": [
             0.1768332961,
             0.953005798
            ]
           },
           {
            "iteration": 453,
            "learn": [
             0.05816941932,
             0.9823383559
            ],
            "passed_time": 27.4087303,
            "remaining_time": 32.96292234,
            "test": [
             0.1769432584,
             0.9528532194
            ]
           },
           {
            "iteration": 454,
            "learn": [
             0.05816940843,
             0.9823383559
            ],
            "passed_time": 27.46509785,
            "remaining_time": 32.89775457,
            "test": [
             0.1769431254,
             0.9528532194
            ]
           },
           {
            "iteration": 455,
            "learn": [
             0.05809562416,
             0.9824527942
            ],
            "passed_time": 27.52759872,
            "remaining_time": 32.83994234,
            "test": [
             0.1767860461,
             0.9527006408
            ]
           },
           {
            "iteration": 456,
            "learn": [
             0.05798564911,
             0.982376502
            ],
            "passed_time": 27.58991365,
            "remaining_time": 32.78188865,
            "test": [
             0.1769149771,
             0.9527006408
            ]
           },
           {
            "iteration": 457,
            "learn": [
             0.05778065231,
             0.9824909403
            ],
            "passed_time": 27.65822241,
            "remaining_time": 32.73090949,
            "test": [
             0.1771598568,
             0.9525480623
            ]
           },
           {
            "iteration": 458,
            "learn": [
             0.05768210429,
             0.9826053786
            ],
            "passed_time": 27.71471071,
            "remaining_time": 32.66592265,
            "test": [
             0.177577259,
             0.9522429051
            ]
           },
           {
            "iteration": 459,
            "learn": [
             0.0575253183,
             0.9826816708
            ],
            "passed_time": 27.786784,
            "remaining_time": 32.61926817,
            "test": [
             0.1775792961,
             0.9523954837
            ]
           },
           {
            "iteration": 460,
            "learn": [
             0.0573564053,
             0.9826816708
            ],
            "passed_time": 27.8525803,
            "remaining_time": 32.56516439,
            "test": [
             0.1778100904,
             0.9527006408
            ]
           },
           {
            "iteration": 461,
            "learn": [
             0.0572539307,
             0.982757963
            ],
            "passed_time": 27.92272302,
            "remaining_time": 32.5160714,
            "test": [
             0.177790391,
             0.9525480623
            ]
           },
           {
            "iteration": 462,
            "learn": [
             0.05720121166,
             0.982757963
            ],
            "passed_time": 27.98130316,
            "remaining_time": 32.45347688,
            "test": [
             0.1778780672,
             0.9525480623
            ]
           },
           {
            "iteration": 463,
            "learn": [
             0.05709481146,
             0.9827961091
            ],
            "passed_time": 28.04513936,
            "remaining_time": 32.39697133,
            "test": [
             0.1779557374,
             0.953005798
            ]
           },
           {
            "iteration": 464,
            "learn": [
             0.05699254578,
             0.9827961091
            ],
            "passed_time": 28.11500611,
            "remaining_time": 32.34737262,
            "test": [
             0.178202212,
             0.9522429051
            ]
           },
           {
            "iteration": 465,
            "learn": [
             0.05699098222,
             0.9827961091
            ],
            "passed_time": 28.17897891,
            "remaining_time": 32.29093291,
            "test": [
             0.1781977618,
             0.9522429051
            ]
           },
           {
            "iteration": 466,
            "learn": [
             0.05688288997,
             0.9828342552
            ],
            "passed_time": 28.24030465,
            "remaining_time": 32.23143978,
            "test": [
             0.178156398,
             0.9520903265
            ]
           },
           {
            "iteration": 467,
            "learn": [
             0.05667299453,
             0.9827961091
            ],
            "passed_time": 28.30026781,
            "remaining_time": 32.1703899,
            "test": [
             0.1783354475,
             0.9517851694
            ]
           },
           {
            "iteration": 468,
            "learn": [
             0.0566725538,
             0.9827961091
            ],
            "passed_time": 28.36274855,
            "remaining_time": 32.11219505,
            "test": [
             0.178336506,
             0.9517851694
            ]
           },
           {
            "iteration": 469,
            "learn": [
             0.05636793448,
             0.9831012779
            ],
            "passed_time": 28.43333868,
            "remaining_time": 32.06312659,
            "test": [
             0.1787588832,
             0.9520903265
            ]
           },
           {
            "iteration": 470,
            "learn": [
             0.05624044876,
             0.9830631318
            ],
            "passed_time": 28.49782691,
            "remaining_time": 32.00711345,
            "test": [
             0.1790630689,
             0.9522429051
            ]
           },
           {
            "iteration": 471,
            "learn": [
             0.05613533532,
             0.9830631318
            ],
            "passed_time": 28.54694408,
            "remaining_time": 31.93386965,
            "test": [
             0.1792914358,
             0.9520903265
            ]
           },
           {
            "iteration": 472,
            "learn": [
             0.05604705322,
             0.9829105474
            ],
            "passed_time": 28.59411132,
            "remaining_time": 31.85855532,
            "test": [
             0.1792687479,
             0.9520903265
            ]
           },
           {
            "iteration": 473,
            "learn": [
             0.05592594563,
             0.9829486935
            ],
            "passed_time": 28.65880585,
            "remaining_time": 31.80280987,
            "test": [
             0.1792516319,
             0.9525480623
            ]
           },
           {
            "iteration": 474,
            "learn": [
             0.055724745,
             0.9832920084
            ],
            "passed_time": 28.71202974,
            "remaining_time": 31.73434866,
            "test": [
             0.1795301561,
             0.9519377479
            ]
           },
           {
            "iteration": 475,
            "learn": [
             0.05572470211,
             0.9832920084
            ],
            "passed_time": 28.76411847,
            "remaining_time": 31.66470185,
            "test": [
             0.1795305481,
             0.9519377479
            ]
           },
           {
            "iteration": 476,
            "learn": [
             0.05547439977,
             0.9832920084
            ],
            "passed_time": 28.8394051,
            "remaining_time": 31.62056367,
            "test": [
             0.1796950046,
             0.9520903265
            ]
           },
           {
            "iteration": 477,
            "learn": [
             0.05531432039,
             0.9832538623
            ],
            "passed_time": 28.91790191,
            "remaining_time": 31.57980083,
            "test": [
             0.179708936,
             0.9520903265
            ]
           },
           {
            "iteration": 478,
            "learn": [
             0.05530882197,
             0.9832538623
            ],
            "passed_time": 28.97761639,
            "remaining_time": 31.51845123,
            "test": [
             0.1797019892,
             0.9520903265
            ]
           },
           {
            "iteration": 479,
            "learn": [
             0.0551581099,
             0.9832538623
            ],
            "passed_time": 29.0480409,
            "remaining_time": 31.46871098,
            "test": [
             0.1796495478,
             0.9519377479
            ]
           },
           {
            "iteration": 480,
            "learn": [
             0.05512030489,
             0.9832920084
            ],
            "passed_time": 29.07956679,
            "remaining_time": 31.37691302,
            "test": [
             0.1797241958,
             0.9517851694
            ]
           },
           {
            "iteration": 481,
            "learn": [
             0.05507191211,
             0.9832538623
            ],
            "passed_time": 29.13538247,
            "remaining_time": 31.31146913,
            "test": [
             0.179765219,
             0.9517851694
            ]
           },
           {
            "iteration": 482,
            "learn": [
             0.05496927773,
             0.9832920084
            ],
            "passed_time": 29.19672914,
            "remaining_time": 31.25198544,
            "test": [
             0.1800551005,
             0.9520903265
            ]
           },
           {
            "iteration": 483,
            "learn": [
             0.05487789655,
             0.9832920084
            ],
            "passed_time": 29.2492163,
            "remaining_time": 31.18304878,
            "test": [
             0.1800833749,
             0.9519377479
            ]
           },
           {
            "iteration": 484,
            "learn": [
             0.0547039173,
             0.9834064467
            ],
            "passed_time": 29.31071411,
            "remaining_time": 31.12374797,
            "test": [
             0.1800863158,
             0.9523954837
            ]
           },
           {
            "iteration": 485,
            "learn": [
             0.05443541903,
             0.9837116155
            ],
            "passed_time": 29.37090266,
            "remaining_time": 31.06305343,
            "test": [
             0.1801454481,
             0.9520903265
            ]
           },
           {
            "iteration": 486,
            "learn": [
             0.05427986965,
             0.9836734694
            ],
            "passed_time": 29.44193803,
            "remaining_time": 31.01378687,
            "test": [
             0.1799120232,
             0.9525480623
            ]
           },
           {
            "iteration": 487,
            "learn": [
             0.05410979615,
             0.9836353233
            ],
            "passed_time": 29.50916775,
            "remaining_time": 30.9604383,
            "test": [
             0.1800987256,
             0.9525480623
            ]
           },
           {
            "iteration": 488,
            "learn": [
             0.05389081869,
             0.9835590311
            ],
            "passed_time": 29.57676051,
            "remaining_time": 30.90741232,
            "test": [
             0.1804726535,
             0.9525480623
            ]
           },
           {
            "iteration": 489,
            "learn": [
             0.05379409646,
             0.9836734694
            ],
            "passed_time": 29.64672808,
            "remaining_time": 30.85679862,
            "test": [
             0.1806242486,
             0.9523954837
            ]
           },
           {
            "iteration": 490,
            "learn": [
             0.0537076983,
             0.9838260538
            ],
            "passed_time": 29.70737755,
            "remaining_time": 30.79644638,
            "test": [
             0.1807190111,
             0.9523954837
            ]
           },
           {
            "iteration": 491,
            "learn": [
             0.05345354632,
             0.983902346
            ],
            "passed_time": 29.76824721,
            "remaining_time": 30.73632029,
            "test": [
             0.1809656954,
             0.9517851694
            ]
           },
           {
            "iteration": 492,
            "learn": [
             0.05339338599,
             0.9838260538
            ],
            "passed_time": 29.83691452,
            "remaining_time": 30.68421027,
            "test": [
             0.1810409396,
             0.9522429051
            ]
           },
           {
            "iteration": 493,
            "learn": [
             0.05334488746,
             0.983902346
            ],
            "passed_time": 29.91118297,
            "remaining_time": 30.63777041,
            "test": [
             0.1811001243,
             0.9519377479
            ]
           },
           {
            "iteration": 494,
            "learn": [
             0.05315211151,
             0.9837879077
            ],
            "passed_time": 29.96820501,
            "remaining_time": 30.5736233,
            "test": [
             0.1809704788,
             0.9514800122
            ]
           },
           {
            "iteration": 495,
            "learn": [
             0.05309149756,
             0.9838641999
            ],
            "passed_time": 30.0414956,
            "remaining_time": 30.52603585,
            "test": [
             0.1809132078,
             0.9516325908
            ]
           },
           {
            "iteration": 496,
            "learn": [
             0.05278542321,
             0.9839404921
            ],
            "passed_time": 30.09608083,
            "remaining_time": 30.4594138,
            "test": [
             0.1812275198,
             0.9519377479
            ]
           },
           {
            "iteration": 497,
            "learn": [
             0.05263248154,
             0.983902346
            ],
            "passed_time": 30.16480046,
            "remaining_time": 30.40708802,
            "test": [
             0.1814055989,
             0.9520903265
            ]
           },
           {
            "iteration": 498,
            "learn": [
             0.05253651638,
             0.9840549304
            ],
            "passed_time": 30.2230227,
            "remaining_time": 30.34415706,
            "test": [
             0.181563115,
             0.9522429051
            ]
           },
           {
            "iteration": 499,
            "learn": [
             0.05238083275,
             0.9841312226
            ],
            "passed_time": 30.27936522,
            "remaining_time": 30.27936522,
            "test": [
             0.1816655091,
             0.9522429051
            ]
           },
           {
            "iteration": 500,
            "learn": [
             0.05228779504,
             0.9839786382
            ],
            "passed_time": 30.33944593,
            "remaining_time": 30.21833037,
            "test": [
             0.1820287065,
             0.9520903265
            ]
           },
           {
            "iteration": 501,
            "learn": [
             0.05228488099,
             0.9839786382
            ],
            "passed_time": 30.40867529,
            "remaining_time": 30.16637509,
            "test": [
             0.1820631432,
             0.9520903265
            ]
           },
           {
            "iteration": 502,
            "learn": [
             0.05228481057,
             0.9839786382
            ],
            "passed_time": 30.46342224,
            "remaining_time": 30.10004146,
            "test": [
             0.1820630635,
             0.9520903265
            ]
           },
           {
            "iteration": 503,
            "learn": [
             0.05228445708,
             0.9839786382
            ],
            "passed_time": 30.53541036,
            "remaining_time": 30.05072131,
            "test": [
             0.1820623034,
             0.9520903265
            ]
           },
           {
            "iteration": 504,
            "learn": [
             0.05215453856,
             0.9839786382
            ],
            "passed_time": 30.60240446,
            "remaining_time": 29.99641625,
            "test": [
             0.1825752549,
             0.9520903265
            ]
           },
           {
            "iteration": 505,
            "learn": [
             0.05212231353,
             0.9839404921
            ],
            "passed_time": 30.66631192,
            "remaining_time": 29.93904761,
            "test": [
             0.1826808512,
             0.9522429051
            ]
           },
           {
            "iteration": 506,
            "learn": [
             0.05201789428,
             0.983902346
            ],
            "passed_time": 30.72750005,
            "remaining_time": 29.87900892,
            "test": [
             0.182378552,
             0.9527006408
            ]
           },
           {
            "iteration": 507,
            "learn": [
             0.05190280793,
             0.9839786382
            ],
            "passed_time": 30.7847347,
            "remaining_time": 29.81513676,
            "test": [
             0.1823456791,
             0.9525480623
            ]
           },
           {
            "iteration": 508,
            "learn": [
             0.05181110069,
             0.9841693687
            ],
            "passed_time": 30.85164112,
            "remaining_time": 29.76062041,
            "test": [
             0.1825917929,
             0.9522429051
            ]
           },
           {
            "iteration": 509,
            "learn": [
             0.0516597427,
             0.9843982453
            ],
            "passed_time": 30.90184537,
            "remaining_time": 29.6900083,
            "test": [
             0.1828340956,
             0.9522429051
            ]
           },
           {
            "iteration": 510,
            "learn": [
             0.05156767891,
             0.9843982453
            ],
            "passed_time": 30.98191147,
            "remaining_time": 29.64805227,
            "test": [
             0.1829144269,
             0.9523954837
            ]
           },
           {
            "iteration": 511,
            "learn": [
             0.0515156468,
             0.9843219531
            ],
            "passed_time": 31.05758063,
            "remaining_time": 29.60175654,
            "test": [
             0.1828079379,
             0.9517851694
            ]
           },
           {
            "iteration": 512,
            "learn": [
             0.05145401094,
             0.984283807
            ],
            "passed_time": 31.1237376,
            "remaining_time": 29.5463162,
            "test": [
             0.1827083907,
             0.9519377479
            ]
           },
           {
            "iteration": 513,
            "learn": [
             0.05133226896,
             0.9843982453
            ],
            "passed_time": 31.19268814,
            "remaining_time": 29.49347556,
            "test": [
             0.1824513948,
             0.9520903265
            ]
           },
           {
            "iteration": 514,
            "learn": [
             0.05113510824,
             0.9843600992
            ],
            "passed_time": 31.25250146,
            "remaining_time": 29.4319674,
            "test": [
             0.1824756274,
             0.9520903265
            ]
           },
           {
            "iteration": 515,
            "learn": [
             0.05108205301,
             0.9843982453
            ],
            "passed_time": 31.31534173,
            "remaining_time": 29.37330503,
            "test": [
             0.1824375265,
             0.9519377479
            ]
           },
           {
            "iteration": 516,
            "learn": [
             0.05076193325,
             0.9843600992
            ],
            "passed_time": 31.38310076,
            "remaining_time": 29.31922179,
            "test": [
             0.1825042972,
             0.9516325908
            ]
           },
           {
            "iteration": 517,
            "learn": [
             0.05076192082,
             0.9843600992
            ],
            "passed_time": 31.45860302,
            "remaining_time": 29.27229084,
            "test": [
             0.1825043714,
             0.9516325908
            ]
           },
           {
            "iteration": 518,
            "learn": [
             0.05065304013,
             0.9843600992
            ],
            "passed_time": 31.51653443,
            "remaining_time": 29.20896544,
            "test": [
             0.182624664,
             0.9514800122
            ]
           },
           {
            "iteration": 519,
            "learn": [
             0.05055998338,
             0.9843982453
            ],
            "passed_time": 31.59189417,
            "remaining_time": 29.16174847,
            "test": [
             0.1828835703,
             0.9516325908
            ]
           },
           {
            "iteration": 520,
            "learn": [
             0.0504111096,
             0.9847415602
            ],
            "passed_time": 31.64133928,
            "remaining_time": 29.09059792,
            "test": [
             0.1830335281,
             0.9522429051
            ]
           },
           {
            "iteration": 521,
            "learn": [
             0.05041107267,
             0.9847415602
            ],
            "passed_time": 31.71175123,
            "remaining_time": 29.03873005,
            "test": [
             0.1830336776,
             0.9522429051
            ]
           },
           {
            "iteration": 522,
            "learn": [
             0.0503443087,
             0.9847797063
            ],
            "passed_time": 31.7557606,
            "remaining_time": 28.96271091,
            "test": [
             0.1832829567,
             0.9516325908
            ]
           },
           {
            "iteration": 523,
            "learn": [
             0.05019805403,
             0.9848178524
            ],
            "passed_time": 31.82148817,
            "remaining_time": 28.90654269,
            "test": [
             0.1832793274,
             0.9516325908
            ]
           },
           {
            "iteration": 524,
            "learn": [
             0.05008050728,
             0.9847034141
            ],
            "passed_time": 31.87818405,
            "remaining_time": 28.84216652,
            "test": [
             0.1833851546,
             0.9519377479
            ]
           },
           {
            "iteration": 525,
            "learn": [
             0.05004827659,
             0.9847415602
            ],
            "passed_time": 31.94750873,
            "remaining_time": 28.78919988,
            "test": [
             0.1833656682,
             0.9519377479
            ]
           },
           {
            "iteration": 526,
            "learn": [
             0.04995278134,
             0.9847797063
            ],
            "passed_time": 32.01788324,
            "remaining_time": 28.73711342,
            "test": [
             0.1832554074,
             0.9519377479
            ]
           },
           {
            "iteration": 527,
            "learn": [
             0.0498232729,
             0.984665268
            ],
            "passed_time": 32.08569306,
            "remaining_time": 28.68266501,
            "test": [
             0.1835445747,
             0.9516325908
            ]
           },
           {
            "iteration": 528,
            "learn": [
             0.0495833393,
             0.9845889758
            ],
            "passed_time": 32.14297414,
            "remaining_time": 28.61879172,
            "test": [
             0.1838057871,
             0.9510222765
            ]
           },
           {
            "iteration": 529,
            "learn": [
             0.04958324719,
             0.9845889758
            ],
            "passed_time": 32.18336574,
            "remaining_time": 28.53996585,
            "test": [
             0.1838062513,
             0.9510222765
            ]
           },
           {
            "iteration": 530,
            "learn": [
             0.04928212465,
             0.9848178524
            ],
            "passed_time": 32.23692758,
            "remaining_time": 28.4729172,
            "test": [
             0.1840018809,
             0.9511748551
            ]
           },
           {
            "iteration": 531,
            "learn": [
             0.04905982476,
             0.9847797063
            ],
            "passed_time": 32.29799826,
            "remaining_time": 28.41252479,
            "test": [
             0.1843417382,
             0.9514800122
            ]
           },
           {
            "iteration": 532,
            "learn": [
             0.04905978744,
             0.9847797063
            ],
            "passed_time": 32.35043473,
            "remaining_time": 28.34456477,
            "test": [
             0.1843415753,
             0.9514800122
            ]
           },
           {
            "iteration": 533,
            "learn": [
             0.04886495994,
             0.9848559985
            ],
            "passed_time": 32.41486082,
            "remaining_time": 28.28712573,
            "test": [
             0.1843964634,
             0.9514800122
            ]
           },
           {
            "iteration": 534,
            "learn": [
             0.04879203331,
             0.9849322907
            ],
            "passed_time": 32.47177593,
            "remaining_time": 28.22313235,
            "test": [
             0.1842872993,
             0.9513274336
            ]
           },
           {
            "iteration": 535,
            "learn": [
             0.04871558385,
             0.9850085829
            ],
            "passed_time": 32.54315688,
            "remaining_time": 28.17168805,
            "test": [
             0.1843359913,
             0.9508696979
            ]
           },
           {
            "iteration": 536,
            "learn": [
             0.04869611933,
             0.9849704368
            ],
            "passed_time": 32.5922968,
            "remaining_time": 28.10099333,
            "test": [
             0.1843158271,
             0.9510222765
            ]
           },
           {
            "iteration": 537,
            "learn": [
             0.04868589445,
             0.9849704368
            ],
            "passed_time": 32.65951445,
            "remaining_time": 28.04590275,
            "test": [
             0.1841990556,
             0.9510222765
            ]
           },
           {
            "iteration": 538,
            "learn": [
             0.04851929456,
             0.9849704368
            ],
            "passed_time": 32.7175595,
            "remaining_time": 27.98292195,
            "test": [
             0.1840588976,
             0.9510222765
            ]
           },
           {
            "iteration": 539,
            "learn": [
             0.04840768501,
             0.9851993134
            ],
            "passed_time": 32.78822777,
            "remaining_time": 27.93071254,
            "test": [
             0.1843026422,
             0.9511748551
            ]
           },
           {
            "iteration": 540,
            "learn": [
             0.04832142172,
             0.9851993134
            ],
            "passed_time": 32.85453693,
            "remaining_time": 27.87473651,
            "test": [
             0.1841404352,
             0.9511748551
            ]
           },
           {
            "iteration": 541,
            "learn": [
             0.04815306152,
             0.9852374595
            ],
            "passed_time": 32.92141058,
            "remaining_time": 27.81919935,
            "test": [
             0.1843570356,
             0.9514800122
            ]
           },
           {
            "iteration": 542,
            "learn": [
             0.0480553211,
             0.9852374595
            ],
            "passed_time": 32.99201232,
            "remaining_time": 27.76675806,
            "test": [
             0.1843943196,
             0.9513274336
            ]
           },
           {
            "iteration": 543,
            "learn": [
             0.04794866654,
             0.9852374595
            ],
            "passed_time": 33.05471264,
            "remaining_time": 27.70762677,
            "test": [
             0.1845389849,
             0.9511748551
            ]
           },
           {
            "iteration": 544,
            "learn": [
             0.04783989746,
             0.9853900439
            ],
            "passed_time": 33.11532362,
            "remaining_time": 27.64673807,
            "test": [
             0.1848213821,
             0.9513274336
            ]
           },
           {
            "iteration": 545,
            "learn": [
             0.04769418788,
             0.9852374595
            ],
            "passed_time": 33.17867135,
            "remaining_time": 27.588126,
            "test": [
             0.1852567081,
             0.9516325908
            ]
           },
           {
            "iteration": 546,
            "learn": [
             0.04759634736,
             0.9853137517
            ],
            "passed_time": 33.24716744,
            "remaining_time": 27.53376024,
            "test": [
             0.1853912641,
             0.9514800122
            ]
           },
           {
            "iteration": 547,
            "learn": [
             0.0474696852,
             0.98542819
            ],
            "passed_time": 33.34414753,
            "remaining_time": 27.50283701,
            "test": [
             0.1851697131,
             0.9511748551
            ]
           },
           {
            "iteration": 548,
            "learn": [
             0.04746961656,
             0.98542819
            ],
            "passed_time": 33.39752992,
            "remaining_time": 27.43585791,
            "test": [
             0.1851699484,
             0.9511748551
            ]
           },
           {
            "iteration": 549,
            "learn": [
             0.04735016992,
             0.9856189205
            ],
            "passed_time": 33.45974358,
            "remaining_time": 27.37615384,
            "test": [
             0.1852408956,
             0.9510222765
            ]
           },
           {
            "iteration": 550,
            "learn": [
             0.04727223244,
             0.9855807744
            ],
            "passed_time": 33.52515323,
            "remaining_time": 27.31904501,
            "test": [
             0.1853036209,
             0.9510222765
            ]
           },
           {
            "iteration": 551,
            "learn": [
             0.04727217685,
             0.9855807744
            ],
            "passed_time": 33.57554547,
            "remaining_time": 27.24971806,
            "test": [
             0.1853034643,
             0.9510222765
            ]
           },
           {
            "iteration": 552,
            "learn": [
             0.04721838013,
             0.9856189205
            ],
            "passed_time": 33.6353368,
            "remaining_time": 27.18805705,
            "test": [
             0.1853755395,
             0.9511748551
            ]
           },
           {
            "iteration": 553,
            "learn": [
             0.04711352761,
             0.9855426283
            ],
            "passed_time": 33.70539117,
            "remaining_time": 27.13466509,
            "test": [
             0.1852296237,
             0.9514800122
            ]
           },
           {
            "iteration": 554,
            "learn": [
             0.04711329208,
             0.9855426283
            ],
            "passed_time": 33.77778495,
            "remaining_time": 27.08308884,
            "test": [
             0.1852320443,
             0.9514800122
            ]
           },
           {
            "iteration": 555,
            "learn": [
             0.0471129558,
             0.9855426283
            ],
            "passed_time": 33.82534745,
            "remaining_time": 27.01160839,
            "test": [
             0.1852326672,
             0.9514800122
            ]
           },
           {
            "iteration": 556,
            "learn": [
             0.04701172795,
             0.9855807744
            ],
            "passed_time": 33.89221192,
            "remaining_time": 26.95556531,
            "test": [
             0.1854896824,
             0.9511748551
            ]
           },
           {
            "iteration": 557,
            "learn": [
             0.04699485933,
             0.9856189205
            ],
            "passed_time": 33.9580314,
            "remaining_time": 26.8986557,
            "test": [
             0.1854392287,
             0.9513274336
            ]
           },
           {
            "iteration": 558,
            "learn": [
             0.04683101099,
             0.9855426283
            ],
            "passed_time": 34.02265964,
            "remaining_time": 26.84077442,
            "test": [
             0.1860940037,
             0.9511748551
            ]
           },
           {
            "iteration": 559,
            "learn": [
             0.04675281499,
             0.9855044822
            ],
            "passed_time": 34.09350214,
            "remaining_time": 26.78775168,
            "test": [
             0.1860651881,
             0.9516325908
            ]
           },
           {
            "iteration": 560,
            "learn": [
             0.04665924761,
             0.9855807744
            ],
            "passed_time": 34.16286956,
            "remaining_time": 26.73351112,
            "test": [
             0.1863979985,
             0.9511748551
            ]
           },
           {
            "iteration": 561,
            "learn": [
             0.0466133887,
             0.9856952127
            ],
            "passed_time": 34.22417668,
            "remaining_time": 26.67293485,
            "test": [
             0.1864154838,
             0.9508696979
            ]
           },
           {
            "iteration": 562,
            "learn": [
             0.04661335291,
             0.9856952127
            ],
            "passed_time": 34.28548421,
            "remaining_time": 26.6123563,
            "test": [
             0.1864153895,
             0.9508696979
            ]
           },
           {
            "iteration": 563,
            "learn": [
             0.04660771421,
             0.9857333588
            ],
            "passed_time": 34.33639188,
            "remaining_time": 26.54373557,
            "test": [
             0.186402607,
             0.9507171193
            ]
           },
           {
            "iteration": 564,
            "learn": [
             0.04622943673,
             0.9858859432
            ],
            "passed_time": 34.40545688,
            "remaining_time": 26.48915706,
            "test": [
             0.1869752902,
             0.9508696979
            ]
           },
           {
            "iteration": 565,
            "learn": [
             0.04607630673,
             0.9860003815
            ],
            "passed_time": 34.4785829,
            "remaining_time": 26.43764131,
            "test": [
             0.1869390824,
             0.9508696979
            ]
           },
           {
            "iteration": 566,
            "learn": [
             0.04601196206,
             0.9860385276
            ],
            "passed_time": 34.5405548,
            "remaining_time": 26.37753127,
            "test": [
             0.1870521373,
             0.9508696979
            ]
           },
           {
            "iteration": 567,
            "learn": [
             0.04590883753,
             0.9859622354
            ],
            "passed_time": 34.59431883,
            "remaining_time": 26.31117207,
            "test": [
             0.1871896782,
             0.9508696979
            ]
           },
           {
            "iteration": 568,
            "learn": [
             0.04590872652,
             0.9859622354
            ],
            "passed_time": 34.64416936,
            "remaining_time": 26.24189279,
            "test": [
             0.1871899632,
             0.9508696979
            ]
           },
           {
            "iteration": 569,
            "learn": [
             0.04590826689,
             0.9859622354
            ],
            "passed_time": 34.68396646,
            "remaining_time": 26.1650975,
            "test": [
             0.187192685,
             0.9508696979
            ]
           },
           {
            "iteration": 570,
            "learn": [
             0.04588359523,
             0.9859622354
            ],
            "passed_time": 34.73873174,
            "remaining_time": 26.09967761,
            "test": [
             0.1873371877,
             0.9507171193
            ]
           },
           {
            "iteration": 571,
            "learn": [
             0.04587941694,
             0.9860003815
            ],
            "passed_time": 34.78088286,
            "remaining_time": 26.0248564,
            "test": [
             0.1873298005,
             0.9507171193
            ]
           },
           {
            "iteration": 572,
            "learn": [
             0.04587849823,
             0.9860003815
            ],
            "passed_time": 34.83626852,
            "remaining_time": 25.96001162,
            "test": [
             0.1873233257,
             0.9507171193
            ]
           },
           {
            "iteration": 573,
            "learn": [
             0.04585947034,
             0.9861148198
            ],
            "passed_time": 34.90395067,
            "remaining_time": 25.90432576,
            "test": [
             0.1872434559,
             0.9507171193
            ]
           },
           {
            "iteration": 574,
            "learn": [
             0.04576922205,
             0.986191112
            ],
            "passed_time": 34.97191065,
            "remaining_time": 25.84880352,
            "test": [
             0.1873557052,
             0.9507171193
            ]
           },
           {
            "iteration": 575,
            "learn": [
             0.04566972051,
             0.9863436964
            ],
            "passed_time": 35.0345517,
            "remaining_time": 25.78932278,
            "test": [
             0.1874893429,
             0.9507171193
            ]
           },
           {
            "iteration": 576,
            "learn": [
             0.04566971223,
             0.9863436964
            ],
            "passed_time": 35.08424364,
            "remaining_time": 25.72033806,
            "test": [
             0.1874893197,
             0.9507171193
            ]
           },
           {
            "iteration": 577,
            "learn": [
             0.04566795731,
             0.9863436964
            ],
            "passed_time": 35.13795449,
            "remaining_time": 25.65435432,
            "test": [
             0.1874848519,
             0.9505645407
            ]
           },
           {
            "iteration": 578,
            "learn": [
             0.04566469579,
             0.9863436964
            ],
            "passed_time": 35.18876222,
            "remaining_time": 25.58630206,
            "test": [
             0.1874764665,
             0.9505645407
            ]
           },
           {
            "iteration": 579,
            "learn": [
             0.04566448929,
             0.9863436964
            ],
            "passed_time": 35.23857708,
            "remaining_time": 25.5175903,
            "test": [
             0.1874763641,
             0.9505645407
            ]
           },
           {
            "iteration": 580,
            "learn": [
             0.04566404144,
             0.9863436964
            ],
            "passed_time": 35.29667205,
            "remaining_time": 25.45491495,
            "test": [
             0.1874764941,
             0.9505645407
            ]
           },
           {
            "iteration": 581,
            "learn": [
             0.04553651721,
             0.9862674042
            ],
            "passed_time": 35.35621012,
            "remaining_time": 25.39329181,
            "test": [
             0.1874130149,
             0.9507171193
            ]
           },
           {
            "iteration": 582,
            "learn": [
             0.0454145737,
             0.9861529659
            ],
            "passed_time": 35.42848787,
            "remaining_time": 25.34078807,
            "test": [
             0.1876774132,
             0.950106805
            ]
           },
           {
            "iteration": 583,
            "learn": [
             0.04530620685,
             0.986191112
            ],
            "passed_time": 35.49330491,
            "remaining_time": 25.28290213,
            "test": [
             0.1876911556,
             0.9498016478
            ]
           },
           {
            "iteration": 584,
            "learn": [
             0.0452570851,
             0.9863055503
            ],
            "passed_time": 35.55487847,
            "remaining_time": 25.22269156,
            "test": [
             0.187992863,
             0.9498016478
            ]
           },
           {
            "iteration": 585,
            "learn": [
             0.04525702515,
             0.9863055503
            ],
            "passed_time": 35.60448817,
            "remaining_time": 25.15402407,
            "test": [
             0.1879930592,
             0.9498016478
            ]
           },
           {
            "iteration": 586,
            "learn": [
             0.04525684895,
             0.9863055503
            ],
            "passed_time": 35.65091432,
            "remaining_time": 25.08318163,
            "test": [
             0.1879950679,
             0.9498016478
            ]
           },
           {
            "iteration": 587,
            "learn": [
             0.04525646512,
             0.9863055503
            ],
            "passed_time": 35.71074726,
            "remaining_time": 25.02181611,
            "test": [
             0.187995616,
             0.9498016478
            ]
           },
           {
            "iteration": 588,
            "learn": [
             0.04525644411,
             0.9863055503
            ],
            "passed_time": 35.7595327,
            "remaining_time": 24.95274693,
            "test": [
             0.187995761,
             0.9498016478
            ]
           },
           {
            "iteration": 589,
            "learn": [
             0.04525621304,
             0.9863055503
            ],
            "passed_time": 35.8231951,
            "remaining_time": 24.89408473,
            "test": [
             0.1879993239,
             0.9498016478
            ]
           },
           {
            "iteration": 590,
            "learn": [
             0.0452556224,
             0.9862674042
            ],
            "passed_time": 35.88088075,
            "remaining_time": 24.83126942,
            "test": [
             0.1880001106,
             0.9498016478
            ]
           },
           {
            "iteration": 591,
            "learn": [
             0.04523501933,
             0.9862292581
            ],
            "passed_time": 35.94396748,
            "remaining_time": 24.77219381,
            "test": [
             0.1880875095,
             0.9499542264
            ]
           },
           {
            "iteration": 592,
            "learn": [
             0.04516451687,
             0.9863055503
            ],
            "passed_time": 36.00619643,
            "remaining_time": 24.71251593,
            "test": [
             0.1881482527,
             0.9504119622
            ]
           },
           {
            "iteration": 593,
            "learn": [
             0.04516434728,
             0.9863055503
            ],
            "passed_time": 36.06297702,
            "remaining_time": 24.6491055,
            "test": [
             0.1881485315,
             0.9504119622
            ]
           },
           {
            "iteration": 594,
            "learn": [
             0.04516424164,
             0.9863055503
            ],
            "passed_time": 36.12936025,
            "remaining_time": 24.59225361,
            "test": [
             0.1881490316,
             0.9504119622
            ]
           },
           {
            "iteration": 595,
            "learn": [
             0.04513592076,
             0.9862292581
            ],
            "passed_time": 36.19105487,
            "remaining_time": 24.53219156,
            "test": [
             0.1882540245,
             0.950106805
            ]
           },
           {
            "iteration": 596,
            "learn": [
             0.04499476581,
             0.9863055503
            ],
            "passed_time": 36.24395471,
            "remaining_time": 24.46618718,
            "test": [
             0.1883765374,
             0.9502593836
            ]
           },
           {
            "iteration": 597,
            "learn": [
             0.04495069483,
             0.9863055503
            ],
            "passed_time": 36.31707511,
            "remaining_time": 24.41381973,
            "test": [
             0.1884295432,
             0.950106805
            ]
           },
           {
            "iteration": 598,
            "learn": [
             0.0448270254,
             0.9863055503
            ],
            "passed_time": 36.38818243,
            "remaining_time": 24.36003532,
            "test": [
             0.1885027385,
             0.950106805
            ]
           },
           {
            "iteration": 599,
            "learn": [
             0.04482309888,
             0.9863055503
            ],
            "passed_time": 36.45352884,
            "remaining_time": 24.30235256,
            "test": [
             0.1885085826,
             0.950106805
            ]
           },
           {
            "iteration": 600,
            "learn": [
             0.04477389803,
             0.9863055503
            ],
            "passed_time": 36.50814529,
            "remaining_time": 24.23752075,
            "test": [
             0.1887255586,
             0.950106805
            ]
           },
           {
            "iteration": 601,
            "learn": [
             0.04470335054,
             0.9864581347
            ],
            "passed_time": 36.57649052,
            "remaining_time": 24.18179938,
            "test": [
             0.1888092428,
             0.950106805
            ]
           },
           {
            "iteration": 602,
            "learn": [
             0.04463894654,
             0.9864581347
            ],
            "passed_time": 36.62475407,
            "remaining_time": 24.11281487,
            "test": [
             0.1886947782,
             0.9499542264
            ]
           },
           {
            "iteration": 603,
            "learn": [
             0.0445433233,
             0.9865344269
            ],
            "passed_time": 36.69559368,
            "remaining_time": 24.05870049,
            "test": [
             0.1883859421,
             0.9491913335
            ]
           },
           {
            "iteration": 604,
            "learn": [
             0.04439724287,
             0.9864962808
            ],
            "passed_time": 36.75897412,
            "remaining_time": 23.99966079,
            "test": [
             0.1885329612,
             0.9491913335
            ]
           },
           {
            "iteration": 605,
            "learn": [
             0.04433958474,
             0.9864581347
            ],
            "passed_time": 36.82641083,
            "remaining_time": 23.94324401,
            "test": [
             0.1887703469,
             0.9493439121
            ]
           },
           {
            "iteration": 606,
            "learn": [
             0.04425395462,
             0.9864962808
            ],
            "passed_time": 36.8900908,
            "remaining_time": 23.88435862,
            "test": [
             0.1890551755,
             0.950106805
            ]
           },
           {
            "iteration": 607,
            "learn": [
             0.04425386628,
             0.9864962808
            ],
            "passed_time": 36.94859331,
            "remaining_time": 23.82211937,
            "test": [
             0.1890551866,
             0.950106805
            ]
           },
           {
            "iteration": 608,
            "learn": [
             0.0442537515,
             0.9864962808
            ],
            "passed_time": 37.02118217,
            "remaining_time": 23.76893634,
            "test": [
             0.189054798,
             0.950106805
            ]
           },
           {
            "iteration": 609,
            "learn": [
             0.04415380517,
             0.9863818425
            ],
            "passed_time": 37.09405989,
            "remaining_time": 23.71587436,
            "test": [
             0.1890902878,
             0.9499542264
            ]
           },
           {
            "iteration": 610,
            "learn": [
             0.04387641617,
             0.9864581347
            ],
            "passed_time": 37.16563301,
            "remaining_time": 23.66191693,
            "test": [
             0.1889864454,
             0.9505645407
            ]
           },
           {
            "iteration": 611,
            "learn": [
             0.04384462499,
             0.9866107191
            ],
            "passed_time": 37.24507937,
            "remaining_time": 23.61289346,
            "test": [
             0.1891804639,
             0.9504119622
            ]
           },
           {
            "iteration": 612,
            "learn": [
             0.04371394378,
             0.9866488652
            ],
            "passed_time": 37.30396204,
            "remaining_time": 23.55078843,
            "test": [
             0.1890160729,
             0.9504119622
            ]
           },
           {
            "iteration": 613,
            "learn": [
             0.04367354062,
             0.9867633035
            ],
            "passed_time": 37.36977693,
            "remaining_time": 23.49305195,
            "test": [
             0.1890497681,
             0.9504119622
            ]
           },
           {
            "iteration": 614,
            "learn": [
             0.04362164585,
             0.9867251574
            ],
            "passed_time": 37.43489378,
            "remaining_time": 23.4348522,
            "test": [
             0.1891835445,
             0.9505645407
            ]
           },
           {
            "iteration": 615,
            "learn": [
             0.04339654302,
             0.9868014496
            ],
            "passed_time": 37.50336201,
            "remaining_time": 23.37871918,
            "test": [
             0.1891025441,
             0.9507171193
            ]
           },
           {
            "iteration": 616,
            "learn": [
             0.04333607551,
             0.9867251574
            ],
            "passed_time": 37.56130141,
            "remaining_time": 23.31601044,
            "test": [
             0.189161572,
             0.9507171193
            ]
           },
           {
            "iteration": 617,
            "learn": [
             0.0432553485,
             0.9869158879
            ],
            "passed_time": 37.636384,
            "remaining_time": 23.26391374,
            "test": [
             0.1891839025,
             0.9508696979
            ]
           },
           {
            "iteration": 618,
            "learn": [
             0.04325527852,
             0.9869158879
            ],
            "passed_time": 37.69542305,
            "remaining_time": 23.20186782,
            "test": [
             0.1891843135,
             0.9508696979
            ]
           },
           {
            "iteration": 619,
            "learn": [
             0.0431985547,
             0.98699218
            ],
            "passed_time": 37.76124897,
            "remaining_time": 23.14399131,
            "test": [
             0.1890981857,
             0.9507171193
            ]
           },
           {
            "iteration": 620,
            "learn": [
             0.04318462167,
             0.9869158879
            ],
            "passed_time": 37.8081517,
            "remaining_time": 23.07454025,
            "test": [
             0.1891706571,
             0.9504119622
            ]
           },
           {
            "iteration": 621,
            "learn": [
             0.04310152251,
             0.98699218
            ],
            "passed_time": 37.87260497,
            "remaining_time": 23.01582746,
            "test": [
             0.1891272118,
             0.9510222765
            ]
           },
           {
            "iteration": 622,
            "learn": [
             0.04310140061,
             0.98699218
            ],
            "passed_time": 37.92994615,
            "remaining_time": 22.95279245,
            "test": [
             0.1891295099,
             0.9510222765
            ]
           },
           {
            "iteration": 623,
            "learn": [
             0.04302302882,
             0.9868777418
            ],
            "passed_time": 37.99392507,
            "remaining_time": 22.89377536,
            "test": [
             0.1893239692,
             0.9504119622
            ]
           },
           {
            "iteration": 624,
            "learn": [
             0.04299207411,
             0.98699218
            ],
            "passed_time": 38.04809999,
            "remaining_time": 22.82885999,
            "test": [
             0.1893471964,
             0.9499542264
            ]
           },
           {
            "iteration": 625,
            "learn": [
             0.04296304871,
             0.9870303261
            ],
            "passed_time": 38.10487584,
            "remaining_time": 22.76553285,
            "test": [
             0.189316114,
             0.950106805
            ]
           },
           {
            "iteration": 626,
            "learn": [
             0.04285643232,
             0.9871447644
            ],
            "passed_time": 38.16037499,
            "remaining_time": 22.7014671,
            "test": [
             0.1896654948,
             0.9505645407
            ]
           },
           {
            "iteration": 627,
            "learn": [
             0.04279665929,
             0.9872210566
            ],
            "passed_time": 38.21849968,
            "remaining_time": 22.63898389,
            "test": [
             0.1896748846,
             0.9507171193
            ]
           },
           {
            "iteration": 628,
            "learn": [
             0.04269481084,
             0.9870684722
            ],
            "passed_time": 38.28522567,
            "remaining_time": 22.5815878,
            "test": [
             0.1899435651,
             0.9505645407
            ]
           },
           {
            "iteration": 629,
            "learn": [
             0.04269239581,
             0.9870684722
            ],
            "passed_time": 38.3529426,
            "remaining_time": 22.52474407,
            "test": [
             0.1899451318,
             0.9505645407
            ]
           },
           {
            "iteration": 630,
            "learn": [
             0.0425356158,
             0.98699218
            ],
            "passed_time": 38.42423567,
            "remaining_time": 22.46995715,
            "test": [
             0.1901850939,
             0.9504119622
            ]
           },
           {
            "iteration": 631,
            "learn": [
             0.04245707872,
             0.9871447644
            ],
            "passed_time": 38.49167883,
            "remaining_time": 22.41287628,
            "test": [
             0.1903192004,
             0.9504119622
            ]
           },
           {
            "iteration": 632,
            "learn": [
             0.04241027174,
             0.9871829105
            ],
            "passed_time": 38.53296334,
            "remaining_time": 22.34059644,
            "test": [
             0.1902460344,
             0.9507171193
            ]
           },
           {
            "iteration": 633,
            "learn": [
             0.04229775859,
             0.9872973488
            ],
            "passed_time": 38.58421549,
            "remaining_time": 22.27416856,
            "test": [
             0.1905802864,
             0.9505645407
            ]
           },
           {
            "iteration": 634,
            "learn": [
             0.04229747846,
             0.9872973488
            ],
            "passed_time": 38.66498614,
            "remaining_time": 22.22475581,
            "test": [
             0.1905794674,
             0.9507171193
            ]
           },
           {
            "iteration": 635,
            "learn": [
             0.04229718344,
             0.9872973488
            ],
            "passed_time": 38.73270804,
            "remaining_time": 22.1677763,
            "test": [
             0.1905797149,
             0.9507171193
            ]
           },
           {
            "iteration": 636,
            "learn": [
             0.04224744755,
             0.9873354949
            ],
            "passed_time": 38.79084922,
            "remaining_time": 22.1053034,
            "test": [
             0.1903786169,
             0.9504119622
            ]
           },
           {
            "iteration": 637,
            "learn": [
             0.04207641692,
             0.987373641
            ],
            "passed_time": 38.84090868,
            "remaining_time": 22.03825853,
            "test": [
             0.1905421182,
             0.9502593836
            ]
           },
           {
            "iteration": 638,
            "learn": [
             0.04196264353,
             0.9874499332
            ],
            "passed_time": 38.90470947,
            "remaining_time": 21.97902992,
            "test": [
             0.190550664,
             0.9504119622
            ]
           },
           {
            "iteration": 639,
            "learn": [
             0.04183326394,
             0.9874117871
            ],
            "passed_time": 38.97155785,
            "remaining_time": 21.92150129,
            "test": [
             0.1906249446,
             0.9502593836
            ]
           },
           {
            "iteration": 640,
            "learn": [
             0.04165021389,
             0.987373641
            ],
            "passed_time": 39.04591826,
            "remaining_time": 21.86815079,
            "test": [
             0.1909714353,
             0.9502593836
            ]
           },
           {
            "iteration": 641,
            "learn": [
             0.04158512809,
             0.987373641
            ],
            "passed_time": 39.11323058,
            "remaining_time": 21.81080459,
            "test": [
             0.1909982763,
             0.9510222765
            ]
           },
           {
            "iteration": 642,
            "learn": [
             0.0415847748,
             0.987373641
            ],
            "passed_time": 39.1901873,
            "remaining_time": 21.75878206,
            "test": [
             0.1909996091,
             0.9510222765
            ]
           },
           {
            "iteration": 643,
            "learn": [
             0.04144409509,
             0.9877169559
            ],
            "passed_time": 39.25648783,
            "remaining_time": 21.70079141,
            "test": [
             0.1907816731,
             0.9508696979
            ]
           },
           {
            "iteration": 644,
            "learn": [
             0.04144201431,
             0.9876788098
            ],
            "passed_time": 39.31911921,
            "remaining_time": 21.64075554,
            "test": [
             0.1907777058,
             0.9508696979
            ]
           },
           {
            "iteration": 645,
            "learn": [
             0.04114774181,
             0.987755102
            ],
            "passed_time": 39.38161959,
            "remaining_time": 21.58063984,
            "test": [
             0.1906407907,
             0.9508696979
            ]
           },
           {
            "iteration": 646,
            "learn": [
             0.04094205731,
             0.9880602708
            ],
            "passed_time": 39.43511862,
            "remaining_time": 21.51560568,
            "test": [
             0.1906432972,
             0.9507171193
            ]
           },
           {
            "iteration": 647,
            "learn": [
             0.04089410346,
             0.9880602708
            ],
            "passed_time": 39.48577373,
            "remaining_time": 21.44906227,
            "test": [
             0.190851348,
             0.9505645407
            ]
           },
           {
            "iteration": 648,
            "learn": [
             0.04085525514,
             0.9881747091
            ],
            "passed_time": 39.5654627,
            "remaining_time": 21.39827027,
            "test": [
             0.190822391,
             0.9504119622
            ]
           },
           {
            "iteration": 649,
            "learn": [
             0.04073042924,
             0.9880984169
            ],
            "passed_time": 39.62469496,
            "remaining_time": 21.33637421,
            "test": [
             0.1909620851,
             0.9502593836
            ]
           },
           {
            "iteration": 650,
            "learn": [
             0.04067939102,
             0.9882128552
            ],
            "passed_time": 39.68815521,
            "remaining_time": 21.27675295,
            "test": [
             0.1911009391,
             0.9502593836
            ]
           },
           {
            "iteration": 651,
            "learn": [
             0.04067933278,
             0.9882128552
            ],
            "passed_time": 39.74479581,
            "remaining_time": 21.21347997,
            "test": [
             0.1911012117,
             0.9502593836
            ]
           },
           {
            "iteration": 652,
            "learn": [
             0.04060475855,
             0.9882510013
            ],
            "passed_time": 39.80563589,
            "remaining_time": 21.15245889,
            "test": [
             0.1913433045,
             0.9505645407
            ]
           },
           {
            "iteration": 653,
            "learn": [
             0.04054593,
             0.9881747091
            ],
            "passed_time": 39.85541159,
            "remaining_time": 21.08558473,
            "test": [
             0.1915301673,
             0.9507171193
            ]
           },
           {
            "iteration": 654,
            "learn": [
             0.04049204559,
             0.988136563
            ],
            "passed_time": 39.9132996,
            "remaining_time": 21.02303567,
            "test": [
             0.1915325141,
             0.9508696979
            ]
           },
           {
            "iteration": 655,
            "learn": [
             0.0404418192,
             0.9882891474
            ],
            "passed_time": 39.99130567,
            "remaining_time": 20.97105053,
            "test": [
             0.1915688835,
             0.9508696979
            ]
           },
           {
            "iteration": 656,
            "learn": [
             0.0404166451,
             0.9883654396
            ],
            "passed_time": 40.05599671,
            "remaining_time": 20.91203481,
            "test": [
             0.19139608,
             0.9505645407
            ]
           },
           {
            "iteration": 657,
            "learn": [
             0.04036286686,
             0.9883654396
            ],
            "passed_time": 40.12869429,
            "remaining_time": 20.85716329,
            "test": [
             0.1915209073,
             0.9504119622
            ]
           },
           {
            "iteration": 658,
            "learn": [
             0.04019987451,
             0.9882891474
            ],
            "passed_time": 40.18574635,
            "remaining_time": 20.79414189,
            "test": [
             0.1914012511,
             0.9505645407
            ]
           },
           {
            "iteration": 659,
            "learn": [
             0.04008537599,
             0.9884035857
            ],
            "passed_time": 40.24276209,
            "remaining_time": 20.73111986,
            "test": [
             0.1913638319,
             0.9504119622
            ]
           },
           {
            "iteration": 660,
            "learn": [
             0.04003604123,
             0.9884417318
            ],
            "passed_time": 40.29217355,
            "remaining_time": 20.66421609,
            "test": [
             0.1916835075,
             0.9505645407
            ]
           },
           {
            "iteration": 661,
            "learn": [
             0.03999408112,
             0.9884798779
            ],
            "passed_time": 40.36537845,
            "remaining_time": 20.60951347,
            "test": [
             0.1920119909,
             0.9508696979
            ]
           },
           {
            "iteration": 662,
            "learn": [
             0.03984630302,
             0.988518024
            ],
            "passed_time": 40.42544796,
            "remaining_time": 20.54807838,
            "test": [
             0.1922089408,
             0.9499542264
            ]
           },
           {
            "iteration": 663,
            "learn": [
             0.03964580792,
             0.9885561701
            ],
            "passed_time": 40.48907991,
            "remaining_time": 20.48845008,
            "test": [
             0.1928322247,
             0.9499542264
            ]
           },
           {
            "iteration": 664,
            "learn": [
             0.03962990795,
             0.9885561701
            ],
            "passed_time": 40.52792353,
            "remaining_time": 20.41632238,
            "test": [
             0.192798232,
             0.950106805
            ]
           },
           {
            "iteration": 665,
            "learn": [
             0.03951082941,
             0.9886706084
            ],
            "passed_time": 40.59677203,
            "remaining_time": 20.35934213,
            "test": [
             0.1927868472,
             0.9504119622
            ]
           },
           {
            "iteration": 666,
            "learn": [
             0.03938777809,
             0.9886324623
            ],
            "passed_time": 40.66883262,
            "remaining_time": 20.30392993,
            "test": [
             0.1927275454,
             0.9505645407
            ]
           },
           {
            "iteration": 667,
            "learn": [
             0.03931388608,
             0.9885943162
            ],
            "passed_time": 40.7298965,
            "remaining_time": 20.24300245,
            "test": [
             0.1928121017,
             0.9504119622
            ]
           },
           {
            "iteration": 668,
            "learn": [
             0.03921914337,
             0.9887469006
            ],
            "passed_time": 40.78577693,
            "remaining_time": 20.17950996,
            "test": [
             0.1928362682,
             0.9508696979
            ]
           },
           {
            "iteration": 669,
            "learn": [
             0.03915139752,
             0.9887087545
            ],
            "passed_time": 40.83340974,
            "remaining_time": 20.11197793,
            "test": [
             0.1927854263,
             0.9510222765
            ]
           },
           {
            "iteration": 670,
            "learn": [
             0.03915139424,
             0.9887087545
            ],
            "passed_time": 40.89749018,
            "remaining_time": 20.0525697,
            "test": [
             0.1927853631,
             0.9510222765
            ]
           },
           {
            "iteration": 671,
            "learn": [
             0.03912557057,
             0.9887087545
            ],
            "passed_time": 40.96535338,
            "remaining_time": 19.99499391,
            "test": [
             0.1927886505,
             0.9508696979
            ]
           },
           {
            "iteration": 672,
            "learn": [
             0.03901280372,
             0.9887850467
            ],
            "passed_time": 41.02053012,
            "remaining_time": 19.9312234,
            "test": [
             0.1928515179,
             0.9507171193
            ]
           },
           {
            "iteration": 673,
            "learn": [
             0.03884746066,
             0.9889376311
            ],
            "passed_time": 41.09708849,
            "remaining_time": 19.87782025,
            "test": [
             0.1928941115,
             0.9504119622
            ]
           },
           {
            "iteration": 674,
            "learn": [
             0.03884737471,
             0.9889376311
            ],
            "passed_time": 41.16543699,
            "remaining_time": 19.82039559,
            "test": [
             0.1928931557,
             0.9504119622
            ]
           },
           {
            "iteration": 675,
            "learn": [
             0.03884733935,
             0.9889376311
            ],
            "passed_time": 41.22798053,
            "remaining_time": 19.76015635,
            "test": [
             0.192893361,
             0.9504119622
            ]
           },
           {
            "iteration": 676,
            "learn": [
             0.0388468847,
             0.9889376311
            ],
            "passed_time": 41.28765318,
            "remaining_time": 19.69854059,
            "test": [
             0.1928942182,
             0.9504119622
            ]
           },
           {
            "iteration": 677,
            "learn": [
             0.03884683211,
             0.9889376311
            ],
            "passed_time": 41.32168654,
            "remaining_time": 19.62475379,
            "test": [
             0.192894088,
             0.9504119622
            ]
           },
           {
            "iteration": 678,
            "learn": [
             0.03884665175,
             0.9889376311
            ],
            "passed_time": 41.36180445,
            "remaining_time": 19.55396057,
            "test": [
             0.1928943634,
             0.9504119622
            ]
           },
           {
            "iteration": 679,
            "learn": [
             0.03884602193,
             0.9889757772
            ],
            "passed_time": 41.41324834,
            "remaining_time": 19.48858745,
            "test": [
             0.1928935292,
             0.9504119622
            ]
           },
           {
            "iteration": 680,
            "learn": [
             0.03877141384,
             0.9890520694
            ],
            "passed_time": 41.45472006,
            "remaining_time": 19.41858399,
            "test": [
             0.193076067,
             0.9502593836
            ]
           },
           {
            "iteration": 681,
            "learn": [
             0.03869129846,
             0.9889376311
            ],
            "passed_time": 41.4954753,
            "remaining_time": 19.34833013,
            "test": [
             0.1928517582,
             0.9502593836
            ]
           },
           {
            "iteration": 682,
            "learn": [
             0.03859236425,
             0.9889757772
            ],
            "passed_time": 41.55482266,
            "remaining_time": 19.28679178,
            "test": [
             0.1927054034,
             0.9507171193
            ]
           },
           {
            "iteration": 683,
            "learn": [
             0.03859205022,
             0.9890139233
            ],
            "passed_time": 41.6103466,
            "remaining_time": 19.22349346,
            "test": [
             0.1927054406,
             0.9507171193
            ]
           },
           {
            "iteration": 684,
            "learn": [
             0.03859192537,
             0.9890139233
            ],
            "passed_time": 41.6729335,
            "remaining_time": 19.16346577,
            "test": [
             0.1927051991,
             0.9507171193
            ]
           },
           {
            "iteration": 685,
            "learn": [
             0.03859147282,
             0.9889757772
            ],
            "passed_time": 41.73731334,
            "remaining_time": 19.1042513,
            "test": [
             0.1927078613,
             0.9507171193
            ]
           },
           {
            "iteration": 686,
            "learn": [
             0.0385914639,
             0.9889757772
            ],
            "passed_time": 41.76964499,
            "remaining_time": 19.0304205,
            "test": [
             0.1927079296,
             0.9507171193
            ]
           },
           {
            "iteration": 687,
            "learn": [
             0.03843515272,
             0.9889376311
            ],
            "passed_time": 41.82814445,
            "remaining_time": 18.96857713,
            "test": [
             0.1932579123,
             0.9505645407
            ]
           },
           {
            "iteration": 688,
            "learn": [
             0.03843505827,
             0.9889376311
            ],
            "passed_time": 41.88006597,
            "remaining_time": 18.90377434,
            "test": [
             0.1932574723,
             0.9505645407
            ]
           },
           {
            "iteration": 689,
            "learn": [
             0.03843440482,
             0.9889376311
            ],
            "passed_time": 41.94388015,
            "remaining_time": 18.84435195,
            "test": [
             0.1932582987,
             0.9505645407
            ]
           },
           {
            "iteration": 690,
            "learn": [
             0.03843392826,
             0.9889376311
            ],
            "passed_time": 41.98810424,
            "remaining_time": 18.7761566,
            "test": [
             0.1932595087,
             0.9505645407
            ]
           },
           {
            "iteration": 691,
            "learn": [
             0.03843076127,
             0.988899485
            ],
            "passed_time": 42.02270405,
            "remaining_time": 18.70374689,
            "test": [
             0.1932600816,
             0.9505645407
            ]
           },
           {
            "iteration": 692,
            "learn": [
             0.03841017466,
             0.9889757772
            ],
            "passed_time": 42.11362164,
            "remaining_time": 18.65639516,
            "test": [
             0.1932810741,
             0.9504119622
            ]
           },
           {
            "iteration": 693,
            "learn": [
             0.0384099937,
             0.9889757772
            ],
            "passed_time": 42.18169419,
            "remaining_time": 18.59884499,
            "test": [
             0.1932814245,
             0.9504119622
            ]
           },
           {
            "iteration": 694,
            "learn": [
             0.03840955945,
             0.9889757772
            ],
            "passed_time": 42.23724665,
            "remaining_time": 18.53577011,
            "test": [
             0.1932802588,
             0.9504119622
            ]
           },
           {
            "iteration": 695,
            "learn": [
             0.03840951768,
             0.9889757772
            ],
            "passed_time": 42.29759504,
            "remaining_time": 18.47481163,
            "test": [
             0.1932804097,
             0.9504119622
            ]
           },
           {
            "iteration": 696,
            "learn": [
             0.03840946414,
             0.9889757772
            ],
            "passed_time": 42.37183879,
            "remaining_time": 18.41989549,
            "test": [
             0.1932800268,
             0.9504119622
            ]
           },
           {
            "iteration": 697,
            "learn": [
             0.03838359272,
             0.9890520694
            ],
            "passed_time": 42.43084738,
            "remaining_time": 18.35833225,
            "test": [
             0.1933910831,
             0.9508696979
            ]
           },
           {
            "iteration": 698,
            "learn": [
             0.03838352573,
             0.9890520694
            ],
            "passed_time": 42.49421285,
            "remaining_time": 18.29865246,
            "test": [
             0.1933911559,
             0.9508696979
            ]
           },
           {
            "iteration": 699,
            "learn": [
             0.03828788307,
             0.9890902155
            ],
            "passed_time": 42.5629261,
            "remaining_time": 18.24125404,
            "test": [
             0.1931077973,
             0.9504119622
            ]
           },
           {
            "iteration": 700,
            "learn": [
             0.03828786348,
             0.9890902155
            ],
            "passed_time": 42.62465598,
            "remaining_time": 18.18084471,
            "test": [
             0.1931077941,
             0.9504119622
            ]
           },
           {
            "iteration": 701,
            "learn": [
             0.03828780992,
             0.9890902155
            ],
            "passed_time": 42.65644737,
            "remaining_time": 18.10772267,
            "test": [
             0.1931081942,
             0.9504119622
            ]
           },
           {
            "iteration": 702,
            "learn": [
             0.03828747383,
             0.9890902155
            ],
            "passed_time": 42.71443369,
            "remaining_time": 18.04578493,
            "test": [
             0.1931082921,
             0.9504119622
            ]
           },
           {
            "iteration": 703,
            "learn": [
             0.03803165059,
             0.9894716765
            ],
            "passed_time": 42.76861369,
            "remaining_time": 17.98225803,
            "test": [
             0.1933681198,
             0.9507171193
            ]
           },
           {
            "iteration": 704,
            "learn": [
             0.03800666766,
             0.9894716765
            ],
            "passed_time": 42.84064061,
            "remaining_time": 17.9262255,
            "test": [
             0.193475353,
             0.9502593836
            ]
           },
           {
            "iteration": 705,
            "learn": [
             0.03788696415,
             0.9895479687
            ],
            "passed_time": 42.90261852,
            "remaining_time": 17.86596295,
            "test": [
             0.1936930107,
             0.9504119622
            ]
           },
           {
            "iteration": 706,
            "learn": [
             0.03774602591,
             0.989662407
            ],
            "passed_time": 42.96990605,
            "remaining_time": 17.807896,
            "test": [
             0.1940742053,
             0.9507171193
            ]
           },
           {
            "iteration": 707,
            "learn": [
             0.03762897821,
             0.9897005531
            ],
            "passed_time": 43.03933024,
            "remaining_time": 17.75068422,
            "test": [
             0.1939915631,
             0.9511748551
            ]
           },
           {
            "iteration": 708,
            "learn": [
             0.03755814938,
             0.9898531375
            ],
            "passed_time": 43.12303146,
            "remaining_time": 17.69929782,
            "test": [
             0.1940461885,
             0.9513274336
            ]
           },
           {
            "iteration": 709,
            "learn": [
             0.03745323253,
             0.9898912836
            ],
            "passed_time": 43.17577033,
            "remaining_time": 17.63517379,
            "test": [
             0.1939600481,
             0.9516325908
            ]
           },
           {
            "iteration": 710,
            "learn": [
             0.03745307836,
             0.9898912836
            ],
            "passed_time": 43.24349188,
            "remaining_time": 17.5771718,
            "test": [
             0.1939603427,
             0.9516325908
            ]
           },
           {
            "iteration": 711,
            "learn": [
             0.03740090357,
             0.9898912836
            ],
            "passed_time": 43.29192348,
            "remaining_time": 17.51133983,
            "test": [
             0.1939922384,
             0.9516325908
            ]
           },
           {
            "iteration": 712,
            "learn": [
             0.03740077273,
             0.9898912836
            ],
            "passed_time": 43.33365053,
            "remaining_time": 17.44285793,
            "test": [
             0.1939924985,
             0.9516325908
            ]
           },
           {
            "iteration": 713,
            "learn": [
             0.03705058738,
             0.9898912836
            ],
            "passed_time": 43.39196465,
            "remaining_time": 17.38109508,
            "test": [
             0.1950420457,
             0.9514800122
            ]
           },
           {
            "iteration": 714,
            "learn": [
             0.03697517318,
             0.9899294297
            ],
            "passed_time": 43.46200255,
            "remaining_time": 17.324015,
            "test": [
             0.1952362968,
             0.9511748551
            ]
           },
           {
            "iteration": 715,
            "learn": [
             0.03697513066,
             0.9899294297
            ],
            "passed_time": 43.53822391,
            "remaining_time": 17.26935138,
            "test": [
             0.1952362448,
             0.9511748551
            ]
           },
           {
            "iteration": 716,
            "learn": [
             0.03695128628,
             0.9899294297
            ],
            "passed_time": 43.60083439,
            "remaining_time": 17.20925542,
            "test": [
             0.1953918087,
             0.9511748551
            ]
           },
           {
            "iteration": 717,
            "learn": [
             0.03695088408,
             0.9899294297
            ],
            "passed_time": 43.67560697,
            "remaining_time": 17.1539292,
            "test": [
             0.195391754,
             0.9511748551
            ]
           },
           {
            "iteration": 718,
            "learn": [
             0.03679933866,
             0.990043868
            ],
            "passed_time": 43.74417284,
            "remaining_time": 17.09612318,
            "test": [
             0.1955096814,
             0.9507171193
            ]
           },
           {
            "iteration": 719,
            "learn": [
             0.03671230175,
             0.9902345985
            ],
            "passed_time": 43.81582291,
            "remaining_time": 17.03948669,
            "test": [
             0.1955196443,
             0.9510222765
            ]
           },
           {
            "iteration": 720,
            "learn": [
             0.03662281106,
             0.9902727446
            ],
            "passed_time": 43.88269119,
            "remaining_time": 16.98095817,
            "test": [
             0.1959076686,
             0.9510222765
            ]
           },
           {
            "iteration": 721,
            "learn": [
             0.03652713575,
             0.9903490368
            ],
            "passed_time": 43.93966986,
            "remaining_time": 16.91859864,
            "test": [
             0.1960210509,
             0.9510222765
            ]
           },
           {
            "iteration": 722,
            "learn": [
             0.03652707886,
             0.9903490368
            ],
            "passed_time": 43.98721635,
            "remaining_time": 16.85264029,
            "test": [
             0.1960207651,
             0.9510222765
            ]
           },
           {
            "iteration": 723,
            "learn": [
             0.03644596467,
             0.9904634751
            ],
            "passed_time": 44.04899769,
            "remaining_time": 16.79215934,
            "test": [
             0.1960313593,
             0.9510222765
            ]
           },
           {
            "iteration": 724,
            "learn": [
             0.03629971284,
             0.9905779134
            ],
            "passed_time": 44.12623415,
            "remaining_time": 16.73753709,
            "test": [
             0.1964466053,
             0.9511748551
            ]
           },
           {
            "iteration": 725,
            "learn": [
             0.03625637356,
             0.9905779134
            ],
            "passed_time": 44.18627056,
            "remaining_time": 16.67636106,
            "test": [
             0.1963013691,
             0.9514800122
            ]
           },
           {
            "iteration": 726,
            "learn": [
             0.03623114691,
             0.9905016212
            ],
            "passed_time": 44.24168568,
            "remaining_time": 16.61345281,
            "test": [
             0.1962348829,
             0.9513274336
            ]
           },
           {
            "iteration": 727,
            "learn": [
             0.03612924274,
             0.9905397673
            ],
            "passed_time": 44.28792944,
            "remaining_time": 16.54713847,
            "test": [
             0.1963061929,
             0.9516325908
            ]
           },
           {
            "iteration": 728,
            "learn": [
             0.03610609296,
             0.9905016212
            ],
            "passed_time": 44.3470729,
            "remaining_time": 16.48567456,
            "test": [
             0.1965222576,
             0.9516325908
            ]
           },
           {
            "iteration": 729,
            "learn": [
             0.03594669364,
             0.9905397673
            ],
            "passed_time": 44.40820196,
            "remaining_time": 16.42495141,
            "test": [
             0.1964759745,
             0.9514800122
            ]
           },
           {
            "iteration": 730,
            "learn": [
             0.03594643273,
             0.9905397673
            ],
            "passed_time": 44.4841257,
            "remaining_time": 16.36967143,
            "test": [
             0.1964760703,
             0.9514800122
            ]
           },
           {
            "iteration": 731,
            "learn": [
             0.03581876246,
             0.9905397673
            ],
            "passed_time": 44.54935308,
            "remaining_time": 16.31041889,
            "test": [
             0.1964321989,
             0.9511748551
            ]
           },
           {
            "iteration": 732,
            "learn": [
             0.03572895162,
             0.9906923517
            ],
            "passed_time": 44.60749779,
            "remaining_time": 16.24857014,
            "test": [
             0.1967343985,
             0.9513274336
            ]
           },
           {
            "iteration": 733,
            "learn": [
             0.03567275173,
             0.9906542056
            ],
            "passed_time": 44.67168961,
            "remaining_time": 16.18892294,
            "test": [
             0.1968632673,
             0.9511748551
            ]
           },
           {
            "iteration": 734,
            "learn": [
             0.03567273504,
             0.9906542056
            ],
            "passed_time": 44.74170635,
            "remaining_time": 16.13136351,
            "test": [
             0.1968630699,
             0.9511748551
            ]
           },
           {
            "iteration": 735,
            "learn": [
             0.03562995629,
             0.9907304978
            ],
            "passed_time": 44.80771098,
            "remaining_time": 16.07233111,
            "test": [
             0.1969431191,
             0.9508696979
            ]
           },
           {
            "iteration": 736,
            "learn": [
             0.03562991558,
             0.9907304978
            ],
            "passed_time": 44.87838722,
            "remaining_time": 16.01494686,
            "test": [
             0.1969430748,
             0.9508696979
            ]
           },
           {
            "iteration": 737,
            "learn": [
             0.03562981424,
             0.9907304978
            ],
            "passed_time": 44.93368547,
            "remaining_time": 15.9520672,
            "test": [
             0.1969432619,
             0.9508696979
            ]
           },
           {
            "iteration": 738,
            "learn": [
             0.03554244832,
             0.9906923517
            ],
            "passed_time": 45.00009893,
            "remaining_time": 15.89313372,
            "test": [
             0.1969283616,
             0.9510222765
            ]
           },
           {
            "iteration": 739,
            "learn": [
             0.03554220936,
             0.9906923517
            ],
            "passed_time": 45.05213592,
            "remaining_time": 15.82912884,
            "test": [
             0.1969259305,
             0.9510222765
            ]
           },
           {
            "iteration": 740,
            "learn": [
             0.03548220687,
             0.9907686439
            ],
            "passed_time": 45.09718044,
            "remaining_time": 15.76271219,
            "test": [
             0.1967997309,
             0.9507171193
            ]
           },
           {
            "iteration": 741,
            "learn": [
             0.03548220178,
             0.9907686439
            ],
            "passed_time": 45.16440702,
            "remaining_time": 15.70406605,
            "test": [
             0.196799683,
             0.9507171193
            ]
           },
           {
            "iteration": 742,
            "learn": [
             0.03548217873,
             0.9907686439
            ],
            "passed_time": 45.22907026,
            "remaining_time": 15.64451017,
            "test": [
             0.1967997256,
             0.9507171193
            ]
           },
           {
            "iteration": 743,
            "learn": [
             0.03542556092,
             0.9908830822
            ],
            "passed_time": 45.29929383,
            "remaining_time": 15.58685379,
            "test": [
             0.1968228317,
             0.9510222765
            ]
           },
           {
            "iteration": 744,
            "learn": [
             0.03542553559,
             0.9908830822
            ],
            "passed_time": 45.33974416,
            "remaining_time": 15.51897283,
            "test": [
             0.1968230311,
             0.9510222765
            ]
           },
           {
            "iteration": 745,
            "learn": [
             0.03542539449,
             0.9908830822
            ],
            "passed_time": 45.37242678,
            "remaining_time": 15.44852065,
            "test": [
             0.1968223735,
             0.9510222765
            ]
           },
           {
            "iteration": 746,
            "learn": [
             0.035425255,
             0.9908830822
            ],
            "passed_time": 45.40211199,
            "remaining_time": 15.3771544,
            "test": [
             0.1968217166,
             0.9510222765
            ]
           },
           {
            "iteration": 747,
            "learn": [
             0.03539808563,
             0.9908830822
            ],
            "passed_time": 45.46097138,
            "remaining_time": 15.31572833,
            "test": [
             0.1968453519,
             0.9508696979
            ]
           },
           {
            "iteration": 748,
            "learn": [
             0.03532327332,
             0.9909212283
            ],
            "passed_time": 45.51889906,
            "remaining_time": 15.25399688,
            "test": [
             0.1970380511,
             0.9511748551
            ]
           },
           {
            "iteration": 749,
            "learn": [
             0.03532294147,
             0.9909212283
            ],
            "passed_time": 45.55805868,
            "remaining_time": 15.18601956,
            "test": [
             0.197038851,
             0.9511748551
            ]
           },
           {
            "iteration": 750,
            "learn": [
             0.03532285581,
             0.9909212283
            ],
            "passed_time": 45.62014182,
            "remaining_time": 15.12571946,
            "test": [
             0.1970392813,
             0.9511748551
            ]
           },
           {
            "iteration": 751,
            "learn": [
             0.03532281452,
             0.9909212283
            ],
            "passed_time": 45.67324088,
            "remaining_time": 15.06245178,
            "test": [
             0.1970399533,
             0.9511748551
            ]
           },
           {
            "iteration": 752,
            "learn": [
             0.03520239038,
             0.9909975205
            ],
            "passed_time": 45.72376135,
            "remaining_time": 14.99836528,
            "test": [
             0.1971717753,
             0.9508696979
            ]
           },
           {
            "iteration": 753,
            "learn": [
             0.03499905007,
             0.9909212283
            ],
            "passed_time": 45.78028869,
            "remaining_time": 14.93627456,
            "test": [
             0.1974076676,
             0.9510222765
            ]
           },
           {
            "iteration": 754,
            "learn": [
             0.03497402853,
             0.9909975205
            ],
            "passed_time": 45.83514523,
            "remaining_time": 14.8736564,
            "test": [
             0.1973931434,
             0.9511748551
            ]
           },
           {
            "iteration": 755,
            "learn": [
             0.03486720752,
             0.9910738127
            ],
            "passed_time": 45.89521753,
            "remaining_time": 14.81274216,
            "test": [
             0.1974571531,
             0.9513274336
            ]
           },
           {
            "iteration": 756,
            "learn": [
             0.03486713753,
             0.9910738127
            ],
            "passed_time": 45.9559911,
            "remaining_time": 14.75205527,
            "test": [
             0.1974570102,
             0.9513274336
            ]
           },
           {
            "iteration": 757,
            "learn": [
             0.03482476985,
             0.9910738127
            ],
            "passed_time": 46.00870499,
            "remaining_time": 14.688795,
            "test": [
             0.1977049334,
             0.9511748551
            ]
           },
           {
            "iteration": 758,
            "learn": [
             0.0348062601,
             0.9910738127
            ],
            "passed_time": 46.07036734,
            "remaining_time": 14.62840386,
            "test": [
             0.1976220451,
             0.9513274336
            ]
           },
           {
            "iteration": 759,
            "learn": [
             0.03473264662,
             0.9910356666
            ],
            "passed_time": 46.12622868,
            "remaining_time": 14.56617748,
            "test": [
             0.1975601539,
             0.9514800122
            ]
           },
           {
            "iteration": 760,
            "learn": [
             0.03473262978,
             0.9910356666
            ],
            "passed_time": 46.19131902,
            "remaining_time": 14.50686629,
            "test": [
             0.197560155,
             0.9514800122
            ]
           },
           {
            "iteration": 761,
            "learn": [
             0.03461953051,
             0.9911501049
            ],
            "passed_time": 46.25196478,
            "remaining_time": 14.44615173,
            "test": [
             0.1976844385,
             0.9513274336
            ]
           },
           {
            "iteration": 762,
            "learn": [
             0.03453871584,
             0.991188251
            ],
            "passed_time": 46.31523024,
            "remaining_time": 14.38625107,
            "test": [
             0.1979145857,
             0.9514800122
            ]
           },
           {
            "iteration": 763,
            "learn": [
             0.03453835847,
             0.991188251
            ],
            "passed_time": 46.36723279,
            "remaining_time": 14.32286248,
            "test": [
             0.1979162903,
             0.9514800122
            ]
           },
           {
            "iteration": 764,
            "learn": [
             0.03450196591,
             0.9911501049
            ],
            "passed_time": 46.44520166,
            "remaining_time": 14.26748025,
            "test": [
             0.1980994107,
             0.9513274336
            ]
           },
           {
            "iteration": 765,
            "learn": [
             0.03450179704,
             0.9911501049
            ],
            "passed_time": 46.50353969,
            "remaining_time": 14.20604215,
            "test": [
             0.1980993903,
             0.9513274336
            ]
           },
           {
            "iteration": 766,
            "learn": [
             0.03449000226,
             0.9911501049
            ],
            "passed_time": 46.54245734,
            "remaining_time": 14.1387126,
            "test": [
             0.1981561398,
             0.9513274336
            ]
           },
           {
            "iteration": 767,
            "learn": [
             0.03441774095,
             0.991188251
            ],
            "passed_time": 46.60400094,
            "remaining_time": 14.07829195,
            "test": [
             0.1983622949,
             0.9510222765
            ]
           },
           {
            "iteration": 768,
            "learn": [
             0.0343194909,
             0.991188251
            ],
            "passed_time": 46.67222107,
            "remaining_time": 14.01987395,
            "test": [
             0.198343302,
             0.9510222765
            ]
           },
           {
            "iteration": 769,
            "learn": [
             0.03427697211,
             0.9911501049
            ],
            "passed_time": 46.72823771,
            "remaining_time": 13.95778529,
            "test": [
             0.1983841205,
             0.9510222765
            ]
           },
           {
            "iteration": 770,
            "learn": [
             0.03412371346,
             0.9912645432
            ],
            "passed_time": 46.79471782,
            "remaining_time": 13.89882021,
            "test": [
             0.1987958771,
             0.9507171193
            ]
           },
           {
            "iteration": 771,
            "learn": [
             0.03404401565,
             0.9913026893
            ],
            "passed_time": 46.8579112,
            "remaining_time": 13.83886497,
            "test": [
             0.1989631513,
             0.9508696979
            ]
           },
           {
            "iteration": 772,
            "learn": [
             0.03402196141,
             0.9912645432
            ],
            "passed_time": 46.9065286,
            "remaining_time": 13.77462095,
            "test": [
             0.1989356639,
             0.9507171193
            ]
           },
           {
            "iteration": 773,
            "learn": [
             0.03402179442,
             0.9912645432
            ],
            "passed_time": 46.96505685,
            "remaining_time": 13.71331117,
            "test": [
             0.1989367126,
             0.9507171193
            ]
           },
           {
            "iteration": 774,
            "learn": [
             0.03400619518,
             0.9913408354
            ],
            "passed_time": 46.99605086,
            "remaining_time": 13.64401476,
            "test": [
             0.1989016461,
             0.9507171193
            ]
           },
           {
            "iteration": 775,
            "learn": [
             0.03399294974,
             0.9913408354
            ],
            "passed_time": 47.02588315,
            "remaining_time": 13.57448173,
            "test": [
             0.198997229,
             0.9510222765
            ]
           },
           {
            "iteration": 776,
            "learn": [
             0.03399281596,
             0.9913408354
            ],
            "passed_time": 47.06626545,
            "remaining_time": 13.50807876,
            "test": [
             0.1989972585,
             0.9510222765
            ]
           },
           {
            "iteration": 777,
            "learn": [
             0.03399281596,
             0.9913408354
            ],
            "passed_time": 47.1340558,
            "remaining_time": 13.44956348,
            "test": [
             0.1989972585,
             0.9510222765
            ]
           },
           {
            "iteration": 778,
            "learn": [
             0.03399281596,
             0.9913408354
            ],
            "passed_time": 47.20579567,
            "remaining_time": 13.39214486,
            "test": [
             0.1989972585,
             0.9510222765
            ]
           },
           {
            "iteration": 779,
            "learn": [
             0.03386583191,
             0.9914171276
            ],
            "passed_time": 47.26801196,
            "remaining_time": 13.33200337,
            "test": [
             0.1990526384,
             0.9510222765
            ]
           },
           {
            "iteration": 780,
            "learn": [
             0.03386574114,
             0.9914171276
            ],
            "passed_time": 47.32003227,
            "remaining_time": 13.26899753,
            "test": [
             0.1990521384,
             0.9510222765
            ]
           },
           {
            "iteration": 781,
            "learn": [
             0.03386556947,
             0.9914171276
            ],
            "passed_time": 47.37659417,
            "remaining_time": 13.20728584,
            "test": [
             0.1990523333,
             0.9510222765
            ]
           },
           {
            "iteration": 782,
            "learn": [
             0.03386551227,
             0.9914171276
            ],
            "passed_time": 47.46221309,
            "remaining_time": 13.15364015,
            "test": [
             0.1990520268,
             0.9510222765
            ]
           },
           {
            "iteration": 783,
            "learn": [
             0.03386545581,
             0.9914171276
            ],
            "passed_time": 47.53182778,
            "remaining_time": 13.09550357,
            "test": [
             0.1990517233,
             0.9510222765
            ]
           },
           {
            "iteration": 784,
            "learn": [
             0.03383711955,
             0.9914552737
            ],
            "passed_time": 47.56579361,
            "remaining_time": 13.02757404,
            "test": [
             0.199124511,
             0.9511748551
            ]
           },
           {
            "iteration": 785,
            "learn": [
             0.03383708027,
             0.9914552737
            ],
            "passed_time": 47.61730998,
            "remaining_time": 12.96450933,
            "test": [
             0.1991242202,
             0.9511748551
            ]
           },
           {
            "iteration": 786,
            "learn": [
             0.03380056277,
             0.9914934198
            ],
            "passed_time": 47.66414431,
            "remaining_time": 12.90020678,
            "test": [
             0.1992127804,
             0.9511748551
            ]
           },
           {
            "iteration": 787,
            "learn": [
             0.03380050103,
             0.9914934198
            ],
            "passed_time": 47.71976223,
            "remaining_time": 12.83831166,
            "test": [
             0.1992129236,
             0.9511748551
            ]
           },
           {
            "iteration": 788,
            "learn": [
             0.03378453666,
             0.9914934198
            ],
            "passed_time": 47.77425207,
            "remaining_time": 12.77613078,
            "test": [
             0.1991382599,
             0.9513274336
            ]
           },
           {
            "iteration": 789,
            "learn": [
             0.0337050012,
             0.9916460042
            ],
            "passed_time": 47.84763719,
            "remaining_time": 12.71899217,
            "test": [
             0.1991545823,
             0.9511748551
            ]
           },
           {
            "iteration": 790,
            "learn": [
             0.03370041968,
             0.9916460042
            ],
            "passed_time": 47.89479925,
            "remaining_time": 12.65488375,
            "test": [
             0.1991589083,
             0.9511748551
            ]
           },
           {
            "iteration": 791,
            "learn": [
             0.0336618519,
             0.9916078581
            ],
            "passed_time": 47.9581961,
            "remaining_time": 12.59508181,
            "test": [
             0.1990611345,
             0.9517851694
            ]
           },
           {
            "iteration": 792,
            "learn": [
             0.03366159495,
             0.9916078581
            ],
            "passed_time": 48.01855622,
            "remaining_time": 12.53447811,
            "test": [
             0.1990621144,
             0.9517851694
            ]
           },
           {
            "iteration": 793,
            "learn": [
             0.03366155599,
             0.9916078581
            ],
            "passed_time": 48.09411917,
            "remaining_time": 12.47781933,
            "test": [
             0.1990620117,
             0.9517851694
            ]
           },
           {
            "iteration": 794,
            "learn": [
             0.03366131436,
             0.9916078581
            ],
            "passed_time": 48.1260363,
            "remaining_time": 12.40985842,
            "test": [
             0.1990626564,
             0.9517851694
            ]
           },
           {
            "iteration": 795,
            "learn": [
             0.0336157168,
             0.9914934198
            ],
            "passed_time": 48.1949968,
            "remaining_time": 12.35148159,
            "test": [
             0.1991946181,
             0.9517851694
            ]
           },
           {
            "iteration": 796,
            "learn": [
             0.03358519084,
             0.991569712
            ],
            "passed_time": 48.27562384,
            "remaining_time": 12.29604973,
            "test": [
             0.1991732672,
             0.9516325908
            ]
           },
           {
            "iteration": 797,
            "learn": [
             0.03358514975,
             0.991569712
            ],
            "passed_time": 48.33905708,
            "remaining_time": 12.23620242,
            "test": [
             0.1991731586,
             0.9516325908
            ]
           },
           {
            "iteration": 798,
            "learn": [
             0.03352646952,
             0.9917222964
            ],
            "passed_time": 48.39484519,
            "remaining_time": 12.17442288,
            "test": [
             0.1994154371,
             0.9520903265
            ]
           },
           {
            "iteration": 799,
            "learn": [
             0.03350038207,
             0.9916841503
            ],
            "passed_time": 48.46435169,
            "remaining_time": 12.11608792,
            "test": [
             0.1994435374,
             0.9520903265
            ]
           },
           {
            "iteration": 800,
            "learn": [
             0.03350032221,
             0.9916841503
            ],
            "passed_time": 48.51774753,
            "remaining_time": 12.05372254,
            "test": [
             0.1994435568,
             0.9520903265
            ]
           },
           {
            "iteration": 801,
            "learn": [
             0.03350005169,
             0.9916841503
            ],
            "passed_time": 48.56433199,
            "remaining_time": 11.98969792,
            "test": [
             0.1994438298,
             0.9520903265
            ]
           },
           {
            "iteration": 802,
            "learn": [
             0.03349996286,
             0.9916841503
            ],
            "passed_time": 48.59852845,
            "remaining_time": 11.92267759,
            "test": [
             0.1994435452,
             0.9520903265
            ]
           },
           {
            "iteration": 803,
            "learn": [
             0.03349988469,
             0.9916841503
            ],
            "passed_time": 48.65098826,
            "remaining_time": 11.86019117,
            "test": [
             0.1994437874,
             0.9520903265
            ]
           },
           {
            "iteration": 804,
            "learn": [
             0.03349927798,
             0.9916841503
            ],
            "passed_time": 48.70217804,
            "remaining_time": 11.79742201,
            "test": [
             0.1994378653,
             0.9520903265
            ]
           },
           {
            "iteration": 805,
            "learn": [
             0.03349923198,
             0.9916841503
            ],
            "passed_time": 48.76153209,
            "remaining_time": 11.73664668,
            "test": [
             0.1994377021,
             0.9520903265
            ]
           },
           {
            "iteration": 806,
            "learn": [
             0.03349918924,
             0.9916841503
            ],
            "passed_time": 48.84654709,
            "remaining_time": 11.68201188,
            "test": [
             0.1994375283,
             0.9520903265
            ]
           },
           {
            "iteration": 807,
            "learn": [
             0.03349895495,
             0.9916841503
            ],
            "passed_time": 48.90347658,
            "remaining_time": 11.6206281,
            "test": [
             0.1994374248,
             0.9520903265
            ]
           },
           {
            "iteration": 808,
            "learn": [
             0.03349892353,
             0.9916841503
            ],
            "passed_time": 48.96319465,
            "remaining_time": 11.55991369,
            "test": [
             0.1994374971,
             0.9520903265
            ]
           },
           {
            "iteration": 809,
            "learn": [
             0.03345490862,
             0.9917222964
            ],
            "passed_time": 49.02159681,
            "remaining_time": 11.49889308,
            "test": [
             0.1992489836,
             0.9522429051
            ]
           },
           {
            "iteration": 810,
            "learn": [
             0.03336750483,
             0.9916841503
            ],
            "passed_time": 49.08905145,
            "remaining_time": 11.43998856,
            "test": [
             0.1992803369,
             0.9517851694
            ]
           },
           {
            "iteration": 811,
            "learn": [
             0.03332538048,
             0.9916841503
            ],
            "passed_time": 49.17753744,
            "remaining_time": 11.38593231,
            "test": [
             0.1994441814,
             0.9522429051
            ]
           },
           {
            "iteration": 812,
            "learn": [
             0.03329673554,
             0.9916460042
            ],
            "passed_time": 49.24401273,
            "remaining_time": 11.32672863,
            "test": [
             0.1993336882,
             0.9520903265
            ]
           },
           {
            "iteration": 813,
            "learn": [
             0.03326266333,
             0.9916078581
            ],
            "passed_time": 49.31210032,
            "remaining_time": 11.2678755,
            "test": [
             0.1991368727,
             0.9519377479
            ]
           },
           {
            "iteration": 814,
            "learn": [
             0.03326195,
             0.9916078581
            ],
            "passed_time": 49.37505597,
            "remaining_time": 11.20783479,
            "test": [
             0.1991375899,
             0.9519377479
            ]
           },
           {
            "iteration": 815,
            "learn": [
             0.0332614323,
             0.9916078581
            ],
            "passed_time": 49.43156144,
            "remaining_time": 11.14633248,
            "test": [
             0.199141381,
             0.9519377479
            ]
           },
           {
            "iteration": 816,
            "learn": [
             0.03326055288,
             0.9916078581
            ],
            "passed_time": 49.46131827,
            "remaining_time": 11.07885097,
            "test": [
             0.1991426069,
             0.9519377479
            ]
           },
           {
            "iteration": 817,
            "learn": [
             0.03325973274,
             0.9916078581
            ],
            "passed_time": 49.49080683,
            "remaining_time": 11.01140201,
            "test": [
             0.1991438545,
             0.9519377479
            ]
           },
           {
            "iteration": 818,
            "learn": [
             0.03325965465,
             0.9916078581
            ],
            "passed_time": 49.52083975,
            "remaining_time": 10.94416605,
            "test": [
             0.1991445196,
             0.9519377479
            ]
           },
           {
            "iteration": 819,
            "learn": [
             0.03315048534,
             0.9916841503
            ],
            "passed_time": 49.58815329,
            "remaining_time": 10.88520438,
            "test": [
             0.1993363945,
             0.9519377479
            ]
           },
           {
            "iteration": 820,
            "learn": [
             0.03299430379,
             0.9917604425
            ],
            "passed_time": 49.64482547,
            "remaining_time": 10.82390226,
            "test": [
             0.1991883029,
             0.9517851694
            ]
           },
           {
            "iteration": 821,
            "learn": [
             0.03289113983,
             0.9918367347
            ],
            "passed_time": 49.71422,
            "remaining_time": 10.76536637,
            "test": [
             0.1993102672,
             0.9520903265
            ]
           },
           {
            "iteration": 822,
            "learn": [
             0.03289110733,
             0.9918367347
            ],
            "passed_time": 49.7891279,
            "remaining_time": 10.70798984,
            "test": [
             0.1993093826,
             0.9520903265
            ]
           },
           {
            "iteration": 823,
            "learn": [
             0.03284183479,
             0.9918367347
            ],
            "passed_time": 49.85031569,
            "remaining_time": 10.64764024,
            "test": [
             0.1994396918,
             0.9517851694
            ]
           },
           {
            "iteration": 824,
            "learn": [
             0.03284177295,
             0.9918367347
            ],
            "passed_time": 49.90883102,
            "remaining_time": 10.58672173,
            "test": [
             0.1994403666,
             0.9517851694
            ]
           },
           {
            "iteration": 825,
            "learn": [
             0.03281363315,
             0.9918748808
            ],
            "passed_time": 49.95858943,
            "remaining_time": 10.52396436,
            "test": [
             0.1994682709,
             0.9517851694
            ]
           },
           {
            "iteration": 826,
            "learn": [
             0.03281358408,
             0.9918748808
            ],
            "passed_time": 50.00803641,
            "remaining_time": 10.46117328,
            "test": [
             0.1994683603,
             0.9517851694
            ]
           },
           {
            "iteration": 827,
            "learn": [
             0.032790508,
             0.9918748808
            ],
            "passed_time": 50.0505073,
            "remaining_time": 10.39696528,
            "test": [
             0.1995483938,
             0.9517851694
            ]
           },
           {
            "iteration": 828,
            "learn": [
             0.03276299056,
             0.9918748808
            ],
            "passed_time": 50.1032542,
            "remaining_time": 10.33492939,
            "test": [
             0.1995523411,
             0.9517851694
            ]
           },
           {
            "iteration": 829,
            "learn": [
             0.03276263718,
             0.9918748808
            ],
            "passed_time": 50.15939875,
            "remaining_time": 10.27361179,
            "test": [
             0.1995525224,
             0.9517851694
            ]
           },
           {
            "iteration": 830,
            "learn": [
             0.03268422575,
             0.9917985886
            ],
            "passed_time": 50.20909263,
            "remaining_time": 10.21099477,
            "test": [
             0.199701196,
             0.9520903265
            ]
           },
           {
            "iteration": 831,
            "learn": [
             0.03268412995,
             0.9917985886
            ],
            "passed_time": 50.27529375,
            "remaining_time": 10.15174201,
            "test": [
             0.1996997363,
             0.9520903265
            ]
           },
           {
            "iteration": 832,
            "learn": [
             0.03259729628,
             0.9918748808
            ],
            "passed_time": 50.34815022,
            "remaining_time": 10.09380683,
            "test": [
             0.200013834,
             0.9517851694
            ]
           },
           {
            "iteration": 833,
            "learn": [
             0.03259702185,
             0.9918748808
            ],
            "passed_time": 50.40463269,
            "remaining_time": 10.03257677,
            "test": [
             0.2000103519,
             0.9516325908
            ]
           },
           {
            "iteration": 834,
            "learn": [
             0.03259636214,
             0.9918748808
            ],
            "passed_time": 50.46053025,
            "remaining_time": 9.971242504,
            "test": [
             0.2000119665,
             0.9516325908
            ]
           },
           {
            "iteration": 835,
            "learn": [
             0.03259625307,
             0.9918748808
            ],
            "passed_time": 50.52092528,
            "remaining_time": 9.910803523,
            "test": [
             0.2000111001,
             0.9516325908
            ]
           },
           {
            "iteration": 836,
            "learn": [
             0.03259610201,
             0.9918748808
            ],
            "passed_time": 50.57438725,
            "remaining_time": 9.849014483,
            "test": [
             0.2000108567,
             0.9516325908
            ]
           },
           {
            "iteration": 837,
            "learn": [
             0.03259603182,
             0.9918748808
            ],
            "passed_time": 50.61808939,
            "remaining_time": 9.785358569,
            "test": [
             0.2000108125,
             0.9516325908
            ]
           },
           {
            "iteration": 838,
            "learn": [
             0.03244360609,
             0.9918748808
            ],
            "passed_time": 50.68096264,
            "remaining_time": 9.725429064,
            "test": [
             0.2002605018,
             0.9516325908
            ]
           },
           {
            "iteration": 839,
            "learn": [
             0.03244358577,
             0.9918748808
            ],
            "passed_time": 50.74022742,
            "remaining_time": 9.664805223,
            "test": [
             0.2002608158,
             0.9516325908
            ]
           },
           {
            "iteration": 840,
            "learn": [
             0.03236997013,
             0.9918367347
            ],
            "passed_time": 50.79878856,
            "remaining_time": 9.604051583,
            "test": [
             0.2003041864,
             0.9514800122
            ]
           },
           {
            "iteration": 841,
            "learn": [
             0.03227898125,
             0.9920274652
            ],
            "passed_time": 50.85344093,
            "remaining_time": 9.542569676,
            "test": [
             0.2003117111,
             0.9516325908
            ]
           },
           {
            "iteration": 842,
            "learn": [
             0.0322104165,
             0.9920656113
            ],
            "passed_time": 50.91208828,
            "remaining_time": 9.481847995,
            "test": [
             0.2004864647,
             0.9517851694
            ]
           },
           {
            "iteration": 843,
            "learn": [
             0.0321675371,
             0.9921419035
            ],
            "passed_time": 50.95570128,
            "remaining_time": 9.41835237,
            "test": [
             0.2004580424,
             0.9517851694
            ]
           },
           {
            "iteration": 844,
            "learn": [
             0.03216748937,
             0.9921419035
            ],
            "passed_time": 51.01869481,
            "remaining_time": 9.358458811,
            "test": [
             0.200458047,
             0.9517851694
            ]
           },
           {
            "iteration": 845,
            "learn": [
             0.03205367372,
             0.9921419035
            ],
            "passed_time": 51.06731006,
            "remaining_time": 9.295940603,
            "test": [
             0.2006425124,
             0.9520903265
            ]
           },
           {
            "iteration": 846,
            "learn": [
             0.03205149508,
             0.9921419035
            ],
            "passed_time": 51.12836028,
            "remaining_time": 9.235701444,
            "test": [
             0.2006533469,
             0.9520903265
            ]
           },
           {
            "iteration": 847,
            "learn": [
             0.03190451998,
             0.9924089262
            ],
            "passed_time": 51.18777992,
            "remaining_time": 9.175168098,
            "test": [
             0.2008760819,
             0.9519377479
            ]
           },
           {
            "iteration": 848,
            "learn": [
             0.03180352056,
             0.9923707801
            ],
            "passed_time": 51.25580982,
            "remaining_time": 9.116168767,
            "test": [
             0.2009592448,
             0.9519377479
            ]
           },
           {
            "iteration": 849,
            "learn": [
             0.03179673018,
             0.9923707801
            ],
            "passed_time": 51.31320401,
            "remaining_time": 9.055271296,
            "test": [
             0.2009658552,
             0.9517851694
            ]
           },
           {
            "iteration": 850,
            "learn": [
             0.03179595963,
             0.9923707801
            ],
            "passed_time": 51.36098731,
            "remaining_time": 8.992699306,
            "test": [
             0.2009777386,
             0.9516325908
            ]
           },
           {
            "iteration": 851,
            "learn": [
             0.03179578964,
             0.9923707801
            ],
            "passed_time": 51.4191423,
            "remaining_time": 8.931963685,
            "test": [
             0.2009777761,
             0.9516325908
            ]
           },
           {
            "iteration": 852,
            "learn": [
             0.03179577023,
             0.9923707801
            ],
            "passed_time": 51.44963415,
            "remaining_time": 8.866466846,
            "test": [
             0.2009777323,
             0.9516325908
            ]
           },
           {
            "iteration": 853,
            "learn": [
             0.03179552267,
             0.9923707801
            ],
            "passed_time": 51.50549533,
            "remaining_time": 8.805389132,
            "test": [
             0.2009769779,
             0.9516325908
            ]
           },
           {
            "iteration": 854,
            "learn": [
             0.03179522157,
             0.9923707801
            ],
            "passed_time": 51.56948259,
            "remaining_time": 8.745701725,
            "test": [
             0.2009784637,
             0.9516325908
            ]
           },
           {
            "iteration": 855,
            "learn": [
             0.03176771392,
             0.992332634
            ],
            "passed_time": 51.62280029,
            "remaining_time": 8.684209395,
            "test": [
             0.20093193,
             0.9516325908
            ]
           },
           {
            "iteration": 856,
            "learn": [
             0.03167988916,
             0.9924470723
            ],
            "passed_time": 51.68826827,
            "remaining_time": 8.62476355,
            "test": [
             0.2010391139,
             0.9522429051
            ]
           },
           {
            "iteration": 857,
            "learn": [
             0.03154129616,
             0.9924089262
            ],
            "passed_time": 51.74235555,
            "remaining_time": 8.56342015,
            "test": [
             0.2015401475,
             0.9519377479
            ]
           },
           {
            "iteration": 858,
            "learn": [
             0.03154118169,
             0.9924089262
            ],
            "passed_time": 51.77435361,
            "remaining_time": 8.498467823,
            "test": [
             0.2015403339,
             0.9519377479
            ]
           },
           {
            "iteration": 859,
            "learn": [
             0.03148992629,
             0.9924852184
            ],
            "passed_time": 51.83560899,
            "remaining_time": 8.438354952,
            "test": [
             0.2016559545,
             0.9520903265
            ]
           },
           {
            "iteration": 860,
            "learn": [
             0.03140813363,
             0.9924852184
            ],
            "passed_time": 51.90461564,
            "remaining_time": 8.379490794,
            "test": [
             0.201671188,
             0.9520903265
            ]
           },
           {
            "iteration": 861,
            "learn": [
             0.03130420152,
             0.9925615106
            ],
            "passed_time": 51.95247259,
            "remaining_time": 8.31721719,
            "test": [
             0.2020794223,
             0.9520903265
            ]
           },
           {
            "iteration": 862,
            "learn": [
             0.03124967417,
             0.9925233645
            ],
            "passed_time": 52.02194634,
            "remaining_time": 8.258408631,
            "test": [
             0.2019911276,
             0.9520903265
            ]
           },
           {
            "iteration": 863,
            "learn": [
             0.03119249479,
             0.9925615106
            ],
            "passed_time": 52.08301894,
            "remaining_time": 8.198252981,
            "test": [
             0.2021628762,
             0.9519377479
            ]
           },
           {
            "iteration": 864,
            "learn": [
             0.03119242588,
             0.9925615106
            ],
            "passed_time": 52.12649122,
            "remaining_time": 8.135348341,
            "test": [
             0.2021624072,
             0.9519377479
            ]
           },
           {
            "iteration": 865,
            "learn": [
             0.03115454999,
             0.9925615106
            ],
            "passed_time": 52.18802429,
            "remaining_time": 8.075283205,
            "test": [
             0.2021725346,
             0.9520903265
            ]
           },
           {
            "iteration": 866,
            "learn": [
             0.03115445994,
             0.9925615106
            ],
            "passed_time": 52.25477876,
            "remaining_time": 8.016015658,
            "test": [
             0.2021728278,
             0.9520903265
            ]
           },
           {
            "iteration": 867,
            "learn": [
             0.03105269252,
             0.9927522411
            ],
            "passed_time": 52.3252413,
            "remaining_time": 7.95729476,
            "test": [
             0.2022969144,
             0.9517851694
            ]
           },
           {
            "iteration": 868,
            "learn": [
             0.03097461254,
             0.9926378028
            ],
            "passed_time": 52.38092105,
            "remaining_time": 7.896318363,
            "test": [
             0.2023901252,
             0.9519377479
            ]
           },
           {
            "iteration": 869,
            "learn": [
             0.03091307123,
             0.9926759489
            ],
            "passed_time": 52.45918893,
            "remaining_time": 7.83872938,
            "test": [
             0.202153026,
             0.9517851694
            ]
           },
           {
            "iteration": 870,
            "learn": [
             0.03086084816,
             0.9926378028
            ],
            "passed_time": 52.52982439,
            "remaining_time": 7.77996251,
            "test": [
             0.2020641653,
             0.9511748551
            ]
           },
           {
            "iteration": 871,
            "learn": [
             0.03086078923,
             0.9926378028
            ],
            "passed_time": 52.59346041,
            "remaining_time": 7.720140977,
            "test": [
             0.2020641734,
             0.9511748551
            ]
           },
           {
            "iteration": 872,
            "learn": [
             0.03086063275,
             0.9926378028
            ],
            "passed_time": 52.63981334,
            "remaining_time": 7.657796442,
            "test": [
             0.2020648948,
             0.9511748551
            ]
           },
           {
            "iteration": 873,
            "learn": [
             0.03086053199,
             0.9926378028
            ],
            "passed_time": 52.69710186,
            "remaining_time": 7.597065028,
            "test": [
             0.2020652886,
             0.9511748551
            ]
           },
           {
            "iteration": 874,
            "learn": [
             0.03086047106,
             0.9926378028
            ],
            "passed_time": 52.73635527,
            "remaining_time": 7.533765038,
            "test": [
             0.2020650497,
             0.9511748551
            ]
           },
           {
            "iteration": 875,
            "learn": [
             0.030860042,
             0.9926378028
            ],
            "passed_time": 52.77129072,
            "remaining_time": 7.469908731,
            "test": [
             0.2020695347,
             0.9511748551
            ]
           },
           {
            "iteration": 876,
            "learn": [
             0.03086002003,
             0.9926378028
            ],
            "passed_time": 52.82426528,
            "remaining_time": 7.408648381,
            "test": [
             0.2020697964,
             0.9511748551
            ]
           },
           {
            "iteration": 877,
            "learn": [
             0.03085977604,
             0.9926378028
            ],
            "passed_time": 52.8555462,
            "remaining_time": 7.344392525,
            "test": [
             0.2020709351,
             0.9511748551
            ]
           },
           {
            "iteration": 878,
            "learn": [
             0.0308597439,
             0.9926378028
            ],
            "passed_time": 52.91643487,
            "remaining_time": 7.284287394,
            "test": [
             0.2020708184,
             0.9511748551
            ]
           },
           {
            "iteration": 879,
            "learn": [
             0.03085973744,
             0.9926378028
            ],
            "passed_time": 52.96326487,
            "remaining_time": 7.222263392,
            "test": [
             0.2020708428,
             0.9511748551
            ]
           },
           {
            "iteration": 880,
            "learn": [
             0.03085969515,
             0.9926378028
            ],
            "passed_time": 53.00229331,
            "remaining_time": 7.159220095,
            "test": [
             0.2020704044,
             0.9511748551
            ]
           },
           {
            "iteration": 881,
            "learn": [
             0.03085965865,
             0.9926378028
            ],
            "passed_time": 53.06013081,
            "remaining_time": 7.09874766,
            "test": [
             0.2020702958,
             0.9511748551
            ]
           },
           {
            "iteration": 882,
            "learn": [
             0.03085965865,
             0.9926378028
            ],
            "passed_time": 53.13209361,
            "remaining_time": 7.040152833,
            "test": [
             0.2020702958,
             0.9511748551
            ]
           },
           {
            "iteration": 883,
            "learn": [
             0.03085935925,
             0.9926759489
            ],
            "passed_time": 53.17299814,
            "remaining_time": 6.977452245,
            "test": [
             0.2020692674,
             0.9511748551
            ]
           },
           {
            "iteration": 884,
            "learn": [
             0.03085935925,
             0.9926759489
            ],
            "passed_time": 53.2290765,
            "remaining_time": 6.916772652,
            "test": [
             0.2020692674,
             0.9511748551
            ]
           },
           {
            "iteration": 885,
            "learn": [
             0.03085935925,
             0.9926759489
            ],
            "passed_time": 53.30332912,
            "remaining_time": 6.858441896,
            "test": [
             0.2020692674,
             0.9511748551
            ]
           },
           {
            "iteration": 886,
            "learn": [
             0.03084944182,
             0.9926378028
            ],
            "passed_time": 53.34038476,
            "remaining_time": 6.795336502,
            "test": [
             0.2020077169,
             0.9511748551
            ]
           },
           {
            "iteration": 887,
            "learn": [
             0.03084937624,
             0.9926378028
            ],
            "passed_time": 53.38352547,
            "remaining_time": 6.733057267,
            "test": [
             0.2020090784,
             0.9511748551
            ]
           },
           {
            "iteration": 888,
            "learn": [
             0.0308493655,
             0.9926378028
            ],
            "passed_time": 53.45305311,
            "remaining_time": 6.674115743,
            "test": [
             0.2020091577,
             0.9511748551
            ]
           },
           {
            "iteration": 889,
            "learn": [
             0.03084931712,
             0.9926378028
            ],
            "passed_time": 53.50608617,
            "remaining_time": 6.613111773,
            "test": [
             0.2020092205,
             0.9511748551
            ]
           },
           {
            "iteration": 890,
            "learn": [
             0.03084885583,
             0.9926378028
            ],
            "passed_time": 53.55917317,
            "remaining_time": 6.552132296,
            "test": [
             0.2020095668,
             0.9511748551
            ]
           },
           {
            "iteration": 891,
            "learn": [
             0.03084875302,
             0.9926378028
            ],
            "passed_time": 53.62049766,
            "remaining_time": 6.492167878,
            "test": [
             0.2020099613,
             0.9511748551
            ]
           },
           {
            "iteration": 892,
            "learn": [
             0.03084061901,
             0.9926378028
            ],
            "passed_time": 53.65439644,
            "remaining_time": 6.428914244,
            "test": [
             0.2020354566,
             0.9510222765
            ]
           },
           {
            "iteration": 893,
            "learn": [
             0.03082610054,
             0.9926378028
            ],
            "passed_time": 53.69786471,
            "remaining_time": 6.366860916,
            "test": [
             0.2019125697,
             0.9513274336
            ]
           },
           {
            "iteration": 894,
            "learn": [
             0.03082514618,
             0.9926378028
            ],
            "passed_time": 53.73671285,
            "remaining_time": 6.304307094,
            "test": [
             0.2019054484,
             0.9513274336
            ]
           },
           {
            "iteration": 895,
            "learn": [
             0.03082468442,
             0.9926378028
            ],
            "passed_time": 53.79483763,
            "remaining_time": 6.244043654,
            "test": [
             0.2019043429,
             0.9513274336
            ]
           },
           {
            "iteration": 896,
            "learn": [
             0.03082468442,
             0.9926378028
            ],
            "passed_time": 53.82733828,
            "remaining_time": 6.180842634,
            "test": [
             0.2019043429,
             0.9513274336
            ]
           },
           {
            "iteration": 897,
            "learn": [
             0.03080833401,
             0.9926378028
            ],
            "passed_time": 53.85994225,
            "remaining_time": 6.117721726,
            "test": [
             0.2019382351,
             0.9511748551
            ]
           },
           {
            "iteration": 898,
            "learn": [
             0.03080686126,
             0.9926378028
            ],
            "passed_time": 53.89748321,
            "remaining_time": 6.055223364,
            "test": [
             0.201944713,
             0.9511748551
            ]
           },
           {
            "iteration": 899,
            "learn": [
             0.03077878239,
             0.9926378028
            ],
            "passed_time": 53.95133611,
            "remaining_time": 5.994592901,
            "test": [
             0.2020197763,
             0.9511748551
            ]
           },
           {
            "iteration": 900,
            "learn": [
             0.03077877469,
             0.9926378028
            ],
            "passed_time": 53.98642889,
            "remaining_time": 5.93191616,
            "test": [
             0.2020197998,
             0.9511748551
            ]
           },
           {
            "iteration": 901,
            "learn": [
             0.03077857145,
             0.9926378028
            ],
            "passed_time": 54.0443767,
            "remaining_time": 5.871783721,
            "test": [
             0.2020185683,
             0.9511748551
            ]
           },
           {
            "iteration": 902,
            "learn": [
             0.03077852271,
             0.9926378028
            ],
            "passed_time": 54.08332061,
            "remaining_time": 5.809614728,
            "test": [
             0.2020186262,
             0.9511748551
            ]
           },
           {
            "iteration": 903,
            "learn": [
             0.03077846389,
             0.9926378028
            ],
            "passed_time": 54.1243603,
            "remaining_time": 5.747719678,
            "test": [
             0.2020188085,
             0.9511748551
            ]
           },
           {
            "iteration": 904,
            "learn": [
             0.03074992047,
             0.9926759489
            ],
            "passed_time": 54.18538392,
            "remaining_time": 5.687968477,
            "test": [
             0.2020256312,
             0.9511748551
            ]
           },
           {
            "iteration": 905,
            "learn": [
             0.03071979661,
             0.9926378028
            ],
            "passed_time": 54.24129128,
            "remaining_time": 5.627683642,
            "test": [
             0.2020318991,
             0.9513274336
            ]
           },
           {
            "iteration": 906,
            "learn": [
             0.0307195452,
             0.9926378028
            ],
            "passed_time": 54.31163459,
            "remaining_time": 5.568888663,
            "test": [
             0.2020297576,
             0.9513274336
            ]
           },
           {
            "iteration": 907,
            "learn": [
             0.03071950649,
             0.9926378028
            ],
            "passed_time": 54.37269791,
            "remaining_time": 5.509127982,
            "test": [
             0.2020300425,
             0.9513274336
            ]
           },
           {
            "iteration": 908,
            "learn": [
             0.0306497718,
             0.992714095
            ],
            "passed_time": 54.43490231,
            "remaining_time": 5.44947867,
            "test": [
             0.2019300059,
             0.9513274336
            ]
           },
           {
            "iteration": 909,
            "learn": [
             0.03064973058,
             0.992714095
            ],
            "passed_time": 54.50772558,
            "remaining_time": 5.390873959,
            "test": [
             0.2019297553,
             0.9513274336
            ]
           },
           {
            "iteration": 910,
            "learn": [
             0.03056743812,
             0.992714095
            ],
            "passed_time": 54.56802685,
            "remaining_time": 5.331014697,
            "test": [
             0.2022909037,
             0.9514800122
            ]
           },
           {
            "iteration": 911,
            "learn": [
             0.03056675456,
             0.992714095
            ],
            "passed_time": 54.64548975,
            "remaining_time": 5.272810415,
            "test": [
             0.2022912185,
             0.9514800122
            ]
           },
           {
            "iteration": 912,
            "learn": [
             0.03056640516,
             0.992714095
            ],
            "passed_time": 54.70188604,
            "remaining_time": 5.212556501,
            "test": [
             0.2022938802,
             0.9514800122
            ]
           },
           {
            "iteration": 913,
            "learn": [
             0.03056620484,
             0.992714095
            ],
            "passed_time": 54.75372814,
            "remaining_time": 5.151882516,
            "test": [
             0.2022953519,
             0.9514800122
            ]
           },
           {
            "iteration": 914,
            "learn": [
             0.03051882088,
             0.9927903872
            ],
            "passed_time": 54.8147659,
            "remaining_time": 5.092082078,
            "test": [
             0.2025168633,
             0.9516325908
            ]
           },
           {
            "iteration": 915,
            "learn": [
             0.03051822013,
             0.9927903872
            ],
            "passed_time": 54.8692005,
            "remaining_time": 5.031673409,
            "test": [
             0.202519172,
             0.9516325908
            ]
           },
           {
            "iteration": 916,
            "learn": [
             0.03051789826,
             0.9927903872
            ],
            "passed_time": 54.91843183,
            "remaining_time": 4.970806807,
            "test": [
             0.2025176415,
             0.9516325908
            ]
           },
           {
            "iteration": 917,
            "learn": [
             0.030501964,
             0.9927903872
            ],
            "passed_time": 54.97286371,
            "remaining_time": 4.910430092,
            "test": [
             0.2025131698,
             0.9516325908
            ]
           },
           {
            "iteration": 918,
            "learn": [
             0.03050193599,
             0.9927903872
            ],
            "passed_time": 55.0065578,
            "remaining_time": 4.848238501,
            "test": [
             0.2025132741,
             0.9516325908
            ]
           },
           {
            "iteration": 919,
            "learn": [
             0.03047887103,
             0.9927903872
            ],
            "passed_time": 55.04529361,
            "remaining_time": 4.786547271,
            "test": [
             0.2025147727,
             0.9516325908
            ]
           },
           {
            "iteration": 920,
            "learn": [
             0.03047778694,
             0.9927903872
            ],
            "passed_time": 55.09906477,
            "remaining_time": 4.726195566,
            "test": [
             0.2025148668,
             0.9514800122
            ]
           },
           {
            "iteration": 921,
            "learn": [
             0.03047752317,
             0.9927903872
            ],
            "passed_time": 55.16093704,
            "remaining_time": 4.66654348,
            "test": [
             0.2025148817,
             0.9514800122
            ]
           },
           {
            "iteration": 922,
            "learn": [
             0.03044843763,
             0.9927522411
            ],
            "passed_time": 55.21880009,
            "remaining_time": 4.60655212,
            "test": [
             0.2022457859,
             0.9513274336
            ]
           },
           {
            "iteration": 923,
            "learn": [
             0.0304481408,
             0.9927522411
            ],
            "passed_time": 55.28737642,
            "remaining_time": 4.547446545,
            "test": [
             0.2022457598,
             0.9513274336
            ]
           },
           {
            "iteration": 924,
            "learn": [
             0.03044811365,
             0.9927522411
            ],
            "passed_time": 55.34505485,
            "remaining_time": 4.487436879,
            "test": [
             0.2022458195,
             0.9513274336
            ]
           },
           {
            "iteration": 925,
            "learn": [
             0.03044797762,
             0.9927522411
            ],
            "passed_time": 55.37846287,
            "remaining_time": 4.425492713,
            "test": [
             0.2022450848,
             0.9513274336
            ]
           },
           {
            "iteration": 926,
            "learn": [
             0.03036521859,
             0.9928666794
            ],
            "passed_time": 55.43727877,
            "remaining_time": 4.36561095,
            "test": [
             0.2025644358,
             0.9511748551
            ]
           },
           {
            "iteration": 927,
            "learn": [
             0.03033759805,
             0.9929048255
            ],
            "passed_time": 55.49970566,
            "remaining_time": 4.306011646,
            "test": [
             0.202434831,
             0.9511748551
            ]
           },
           {
            "iteration": 928,
            "learn": [
             0.0303197341,
             0.9929048255
            ],
            "passed_time": 55.55972993,
            "remaining_time": 4.246222632,
            "test": [
             0.2025822346,
             0.9513274336
            ]
           },
           {
            "iteration": 929,
            "learn": [
             0.03031936477,
             0.9929048255
            ],
            "passed_time": 55.60296043,
            "remaining_time": 4.185169065,
            "test": [
             0.2025877604,
             0.9513274336
            ]
           },
           {
            "iteration": 930,
            "learn": [
             0.03028358053,
             0.9928666794
            ],
            "passed_time": 55.66282452,
            "remaining_time": 4.125386565,
            "test": [
             0.2026758463,
             0.9513274336
            ]
           },
           {
            "iteration": 931,
            "learn": [
             0.03028358053,
             0.9928666794
            ],
            "passed_time": 55.7031956,
            "remaining_time": 4.064181653,
            "test": [
             0.2026758463,
             0.9513274336
            ]
           },
           {
            "iteration": 932,
            "learn": [
             0.03028328261,
             0.9928666794
            ],
            "passed_time": 55.75342831,
            "remaining_time": 4.003729579,
            "test": [
             0.2026744222,
             0.9513274336
            ]
           },
           {
            "iteration": 933,
            "learn": [
             0.03025957373,
             0.9928666794
            ],
            "passed_time": 55.78743247,
            "remaining_time": 3.942152616,
            "test": [
             0.2026568008,
             0.9514800122
            ]
           },
           {
            "iteration": 934,
            "learn": [
             0.0302595557,
             0.9928666794
            ],
            "passed_time": 55.84348966,
            "remaining_time": 3.88216773,
            "test": [
             0.2026566956,
             0.9514800122
            ]
           },
           {
            "iteration": 935,
            "learn": [
             0.03025927854,
             0.9928666794
            ],
            "passed_time": 55.90421097,
            "remaining_time": 3.822510152,
            "test": [
             0.202656708,
             0.9514800122
            ]
           },
           {
            "iteration": 936,
            "learn": [
             0.03023924459,
             0.9929048255
            ],
            "passed_time": 55.95846714,
            "remaining_time": 3.762415613,
            "test": [
             0.2027288017,
             0.9516325908
            ]
           },
           {
            "iteration": 937,
            "learn": [
             0.03015334253,
             0.9930192638
            ],
            "passed_time": 56.01969907,
            "remaining_time": 3.702794608,
            "test": [
             0.2027429151,
             0.9517851694
            ]
           },
           {
            "iteration": 938,
            "learn": [
             0.03015302108,
             0.9930192638
            ],
            "passed_time": 56.05868424,
            "remaining_time": 3.641724961,
            "test": [
             0.2027440461,
             0.9517851694
            ]
           },
           {
            "iteration": 939,
            "learn": [
             0.03015296798,
             0.9930192638
            ],
            "passed_time": 56.12481093,
            "remaining_time": 3.58243474,
            "test": [
             0.2027445065,
             0.9517851694
            ]
           },
           {
            "iteration": 940,
            "learn": [
             0.03015294171,
             0.9930192638
            ],
            "passed_time": 56.18190172,
            "remaining_time": 3.522563444,
            "test": [
             0.202744735,
             0.9517851694
            ]
           },
           {
            "iteration": 941,
            "learn": [
             0.03015205819,
             0.9930192638
            ],
            "passed_time": 56.21397198,
            "remaining_time": 3.461157511,
            "test": [
             0.2027485775,
             0.9517851694
            ]
           },
           {
            "iteration": 942,
            "learn": [
             0.03015200587,
             0.9930192638
            ],
            "passed_time": 56.24174211,
            "remaining_time": 3.399553871,
            "test": [
             0.202749035,
             0.9517851694
            ]
           },
           {
            "iteration": 943,
            "learn": [
             0.03011680024,
             0.9930192638
            ],
            "passed_time": 56.28464341,
            "remaining_time": 3.338919525,
            "test": [
             0.2027936873,
             0.9519377479
            ]
           },
           {
            "iteration": 944,
            "learn": [
             0.03011677265,
             0.9930192638
            ],
            "passed_time": 56.34223251,
            "remaining_time": 3.279177554,
            "test": [
             0.2027942221,
             0.9519377479
            ]
           },
           {
            "iteration": 945,
            "learn": [
             0.03011664557,
             0.9930192638
            ],
            "passed_time": 56.40333656,
            "remaining_time": 3.219640776,
            "test": [
             0.2027935098,
             0.9519377479
            ]
           },
           {
            "iteration": 946,
            "learn": [
             0.03011663374,
             0.9930192638
            ],
            "passed_time": 56.45560408,
            "remaining_time": 3.159606142,
            "test": [
             0.2027936276,
             0.9519377479
            ]
           },
           {
            "iteration": 947,
            "learn": [
             0.0301165108,
             0.9930192638
            ],
            "passed_time": 56.51591734,
            "remaining_time": 3.100029221,
            "test": [
             0.2027935646,
             0.9519377479
            ]
           },
           {
            "iteration": 948,
            "learn": [
             0.03011586198,
             0.9930192638
            ],
            "passed_time": 56.55730804,
            "remaining_time": 3.039433836,
            "test": [
             0.202790591,
             0.9519377479
            ]
           },
           {
            "iteration": 949,
            "learn": [
             0.03011574669,
             0.9930192638
            ],
            "passed_time": 56.60555974,
            "remaining_time": 2.979239986,
            "test": [
             0.2027902544,
             0.9519377479
            ]
           },
           {
            "iteration": 950,
            "learn": [
             0.03011522882,
             0.9930192638
            ],
            "passed_time": 56.65830465,
            "remaining_time": 2.919302763,
            "test": [
             0.2027949967,
             0.9519377479
            ]
           },
           {
            "iteration": 951,
            "learn": [
             0.03011487303,
             0.9930192638
            ],
            "passed_time": 56.71957458,
            "remaining_time": 2.859810483,
            "test": [
             0.2027943102,
             0.9519377479
            ]
           },
           {
            "iteration": 952,
            "learn": [
             0.03011456797,
             0.9930192638
            ],
            "passed_time": 56.77042001,
            "remaining_time": 2.799800357,
            "test": [
             0.2027937663,
             0.9519377479
            ]
           },
           {
            "iteration": 953,
            "learn": [
             0.03011082481,
             0.9930192638
            ],
            "passed_time": 56.81427776,
            "remaining_time": 2.739472513,
            "test": [
             0.2027982571,
             0.9519377479
            ]
           },
           {
            "iteration": 954,
            "learn": [
             0.03008053706,
             0.9929429716
            ],
            "passed_time": 56.85774065,
            "remaining_time": 2.679160554,
            "test": [
             0.2028844723,
             0.9519377479
            ]
           },
           {
            "iteration": 955,
            "learn": [
             0.03007673026,
             0.9929048255
            ],
            "passed_time": 56.91085982,
            "remaining_time": 2.619328276,
            "test": [
             0.2028786563,
             0.9519377479
            ]
           },
           {
            "iteration": 956,
            "learn": [
             0.03005759623,
             0.9928285333
            ],
            "passed_time": 56.96134373,
            "remaining_time": 2.55939162,
            "test": [
             0.2029128877,
             0.9517851694
            ]
           },
           {
            "iteration": 957,
            "learn": [
             0.0300573662,
             0.9928285333
            ],
            "passed_time": 57.03748679,
            "remaining_time": 2.500599629,
            "test": [
             0.2029117593,
             0.9517851694
            ]
           },
           {
            "iteration": 958,
            "learn": [
             0.03005725599,
             0.9928285333
            ],
            "passed_time": 57.09611125,
            "remaining_time": 2.441022483,
            "test": [
             0.2029098195,
             0.9517851694
            ]
           },
           {
            "iteration": 959,
            "learn": [
             0.03005725266,
             0.9928285333
            ],
            "passed_time": 57.12407907,
            "remaining_time": 2.380169961,
            "test": [
             0.2029097603,
             0.9517851694
            ]
           },
           {
            "iteration": 960,
            "learn": [
             0.02991065291,
             0.9930574099
            ],
            "passed_time": 57.18486636,
            "remaining_time": 2.320717781,
            "test": [
             0.2034506179,
             0.9514800122
            ]
           },
           {
            "iteration": 961,
            "learn": [
             0.02991010988,
             0.9930574099
            ],
            "passed_time": 57.25487126,
            "remaining_time": 2.261626931,
            "test": [
             0.2034467136,
             0.9516325908
            ]
           },
           {
            "iteration": 962,
            "learn": [
             0.02977021466,
             0.9930574099
            ],
            "passed_time": 57.3355765,
            "remaining_time": 2.202924539,
            "test": [
             0.2033393611,
             0.9513274336
            ]
           },
           {
            "iteration": 963,
            "learn": [
             0.02967790528,
             0.9930574099
            ],
            "passed_time": 57.40442246,
            "remaining_time": 2.143733619,
            "test": [
             0.2031822158,
             0.9519377479
            ]
           },
           {
            "iteration": 964,
            "learn": [
             0.0296777514,
             0.9930574099
            ],
            "passed_time": 57.46418514,
            "remaining_time": 2.084193243,
            "test": [
             0.2031821455,
             0.9519377479
            ]
           },
           {
            "iteration": 965,
            "learn": [
             0.02962974821,
             0.993095556
            ],
            "passed_time": 57.52142399,
            "remaining_time": 2.024563577,
            "test": [
             0.2032631048,
             0.9516325908
            ]
           },
           {
            "iteration": 966,
            "learn": [
             0.029629299,
             0.993095556
            ],
            "passed_time": 57.60238186,
            "remaining_time": 1.965748295,
            "test": [
             0.2032656513,
             0.9516325908
            ]
           },
           {
            "iteration": 967,
            "learn": [
             0.02962912278,
             0.993095556
            ],
            "passed_time": 57.64782386,
            "remaining_time": 1.905713185,
            "test": [
             0.2032667907,
             0.9516325908
            ]
           },
           {
            "iteration": 968,
            "learn": [
             0.02962906275,
             0.993095556
            ],
            "passed_time": 57.71177701,
            "remaining_time": 1.8463004,
            "test": [
             0.2032669688,
             0.9516325908
            ]
           },
           {
            "iteration": 969,
            "learn": [
             0.02962871884,
             0.993095556
            ],
            "passed_time": 57.76347651,
            "remaining_time": 1.786499274,
            "test": [
             0.2032692263,
             0.9516325908
            ]
           },
           {
            "iteration": 970,
            "learn": [
             0.02960261296,
             0.993095556
            ],
            "passed_time": 57.81874703,
            "remaining_time": 1.726821487,
            "test": [
             0.2032685279,
             0.9516325908
            ]
           },
           {
            "iteration": 971,
            "learn": [
             0.02960244636,
             0.993095556
            ],
            "passed_time": 57.88254536,
            "remaining_time": 1.667398426,
            "test": [
             0.2032691008,
             0.9516325908
            ]
           },
           {
            "iteration": 972,
            "learn": [
             0.02960244636,
             0.993095556
            ],
            "passed_time": 57.9126998,
            "remaining_time": 1.60703278,
            "test": [
             0.2032691008,
             0.9516325908
            ]
           },
           {
            "iteration": 973,
            "learn": [
             0.02956891504,
             0.993095556
            ],
            "passed_time": 57.9612288,
            "remaining_time": 1.54721966,
            "test": [
             0.2031866559,
             0.9517851694
            ]
           },
           {
            "iteration": 974,
            "learn": [
             0.02956872587,
             0.993095556
            ],
            "passed_time": 58.02080868,
            "remaining_time": 1.487713043,
            "test": [
             0.2031869341,
             0.9517851694
            ]
           },
           {
            "iteration": 975,
            "learn": [
             0.02955317521,
             0.9932099943
            ],
            "passed_time": 58.07229491,
            "remaining_time": 1.428007252,
            "test": [
             0.2031682506,
             0.9517851694
            ]
           },
           {
            "iteration": 976,
            "learn": [
             0.02955305454,
             0.9932099943
            ],
            "passed_time": 58.12944723,
            "remaining_time": 1.368451675,
            "test": [
             0.2031688224,
             0.9517851694
            ]
           },
           {
            "iteration": 977,
            "learn": [
             0.02955296775,
             0.9932099943
            ],
            "passed_time": 58.16099965,
            "remaining_time": 1.308325146,
            "test": [
             0.2031693346,
             0.9517851694
            ]
           },
           {
            "iteration": 978,
            "learn": [
             0.02945070738,
             0.9931337021
            ],
            "passed_time": 58.21968369,
            "remaining_time": 1.248838976,
            "test": [
             0.2030511119,
             0.9514800122
            ]
           },
           {
            "iteration": 979,
            "learn": [
             0.0294503752,
             0.9931337021
            ],
            "passed_time": 58.27139619,
            "remaining_time": 1.189212167,
            "test": [
             0.2030525539,
             0.9514800122
            ]
           },
           {
            "iteration": 980,
            "learn": [
             0.02945025102,
             0.9931337021
            ],
            "passed_time": 58.33736422,
            "remaining_time": 1.129877594,
            "test": [
             0.2030526554,
             0.9514800122
            ]
           },
           {
            "iteration": 981,
            "learn": [
             0.02939478336,
             0.9931718482
            ],
            "passed_time": 58.3934675,
            "remaining_time": 1.070348691,
            "test": [
             0.2032534999,
             0.9517851694
            ]
           },
           {
            "iteration": 982,
            "learn": [
             0.02939455012,
             0.9931718482
            ],
            "passed_time": 58.45368466,
            "remaining_time": 1.010897904,
            "test": [
             0.2032544201,
             0.9517851694
            ]
           },
           {
            "iteration": 983,
            "learn": [
             0.02939455012,
             0.9931718482
            ],
            "passed_time": 58.51368449,
            "remaining_time": 0.9514420243,
            "test": [
             0.2032544201,
             0.9517851694
            ]
           },
           {
            "iteration": 984,
            "learn": [
             0.02935942885,
             0.9931337021
            ],
            "passed_time": 58.57660543,
            "remaining_time": 0.8920295244,
            "test": [
             0.2032103639,
             0.9516325908
            ]
           },
           {
            "iteration": 985,
            "learn": [
             0.02935930608,
             0.9931337021
            ],
            "passed_time": 58.65926024,
            "remaining_time": 0.8328901048,
            "test": [
             0.2032103451,
             0.9516325908
            ]
           },
           {
            "iteration": 986,
            "learn": [
             0.02935928708,
             0.9931337021
            ],
            "passed_time": 58.71891813,
            "remaining_time": 0.7734001375,
            "test": [
             0.2032104366,
             0.9516325908
            ]
           },
           {
            "iteration": 987,
            "learn": [
             0.02935928708,
             0.9931337021
            ],
            "passed_time": 58.77776741,
            "remaining_time": 0.713900009,
            "test": [
             0.2032104366,
             0.9516325908
            ]
           },
           {
            "iteration": 988,
            "learn": [
             0.02935902804,
             0.9931337021
            ],
            "passed_time": 58.84444428,
            "remaining_time": 0.654488258,
            "test": [
             0.2032109493,
             0.9516325908
            ]
           },
           {
            "iteration": 989,
            "learn": [
             0.02935902804,
             0.9931337021
            ],
            "passed_time": 58.90321079,
            "remaining_time": 0.5949819272,
            "test": [
             0.2032109493,
             0.9516325908
            ]
           },
           {
            "iteration": 990,
            "learn": [
             0.02935871536,
             0.9931337021
            ],
            "passed_time": 58.96074893,
            "remaining_time": 0.5354659337,
            "test": [
             0.2032119228,
             0.9516325908
            ]
           },
           {
            "iteration": 991,
            "learn": [
             0.02935798754,
             0.9931337021
            ],
            "passed_time": 59.01084656,
            "remaining_time": 0.4758939238,
            "test": [
             0.2032155044,
             0.9516325908
            ]
           },
           {
            "iteration": 992,
            "learn": [
             0.02935795873,
             0.9931337021
            ],
            "passed_time": 59.0459629,
            "remaining_time": 0.416235388,
            "test": [
             0.2032155069,
             0.9516325908
            ]
           },
           {
            "iteration": 993,
            "learn": [
             0.02935793416,
             0.9931337021
            ],
            "passed_time": 59.08278868,
            "remaining_time": 0.3566365514,
            "test": [
             0.2032151911,
             0.9516325908
            ]
           },
           {
            "iteration": 994,
            "learn": [
             0.02935770325,
             0.9931337021
            ],
            "passed_time": 59.11071377,
            "remaining_time": 0.2970387627,
            "test": [
             0.2032152097,
             0.9516325908
            ]
           },
           {
            "iteration": 995,
            "learn": [
             0.02935753239,
             0.9931337021
            ],
            "passed_time": 59.16578566,
            "remaining_time": 0.237613597,
            "test": [
             0.2032148449,
             0.9516325908
            ]
           },
           {
            "iteration": 996,
            "learn": [
             0.02935742571,
             0.9931337021
            ],
            "passed_time": 59.21365197,
            "remaining_time": 0.1781754824,
            "test": [
             0.2032142351,
             0.9516325908
            ]
           },
           {
            "iteration": 997,
            "learn": [
             0.0293287403,
             0.9932481404
            ],
            "passed_time": 59.26452044,
            "remaining_time": 0.118766574,
            "test": [
             0.2032177913,
             0.9511748551
            ]
           },
           {
            "iteration": 998,
            "learn": [
             0.02928533376,
             0.9932099943
            ],
            "passed_time": 59.32898783,
            "remaining_time": 0.05938837621,
            "test": [
             0.2031886007,
             0.9510222765
            ]
           },
           {
            "iteration": 999,
            "learn": [
             0.02922346878,
             0.9933244326
            ],
            "passed_time": 59.37562715,
            "remaining_time": 0,
            "test": [
             0.2032059229,
             0.9510222765
            ]
           }
          ],
          "meta": {
           "iteration_count": 1000,
           "launch_mode": "Train",
           "learn_metrics": [
            {
             "best_value": "Min",
             "name": "Logloss"
            },
            {
             "best_value": "Max",
             "name": "Accuracy"
            }
           ],
           "learn_sets": [
            "learn"
           ],
           "name": "experiment",
           "parameters": "",
           "test_metrics": [
            {
             "best_value": "Min",
             "name": "Logloss"
            },
            {
             "best_value": "Max",
             "name": "Accuracy"
            }
           ],
           "test_sets": [
            "test"
           ]
          }
         },
         "passed_iterations": 999,
         "total_iterations": 1000
        },
        "name": "learning_rate_0.5",
        "path": "learning_rate_0.5"
       }
      },
      "layout": "IPY_MODEL_945b708c027c44009b55a47b7b349bf3"
     }
    }
   }
  }
 },
 "nbformat": 4,
 "nbformat_minor": 1
}
