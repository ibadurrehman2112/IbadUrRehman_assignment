{
 "cells": [
  {
   "cell_type": "markdown",
   "metadata": {},
   "source": [
    "### Import Libraries"
   ]
  },
  {
   "cell_type": "code",
   "execution_count": 14,
   "metadata": {},
   "outputs": [],
   "source": [
    "import warnings\n",
    "warnings.filterwarnings(\"ignore\")\n",
    "\n",
    "import pandas as pd\n",
    "import numpy as np\n",
    "\n",
    "from sklearn.model_selection import train_test_split\n",
    "\n",
    "from sklearn.svm import SVC\n",
    "from sklearn.metrics import accuracy_score\n",
    "from sklearn.feature_selection import VarianceThreshold\n",
    "\n",
    "import matplotlib.pyplot as plt\n",
    "import seaborn as sns"
   ]
  },
  {
   "cell_type": "markdown",
   "metadata": {},
   "source": [
    "### Import Dataset"
   ]
  },
  {
   "cell_type": "code",
   "execution_count": 3,
   "metadata": {},
   "outputs": [
    {
     "data": {
      "text/html": [
       "<div>\n",
       "<style scoped>\n",
       "    .dataframe tbody tr th:only-of-type {\n",
       "        vertical-align: middle;\n",
       "    }\n",
       "\n",
       "    .dataframe tbody tr th {\n",
       "        vertical-align: top;\n",
       "    }\n",
       "\n",
       "    .dataframe thead th {\n",
       "        text-align: right;\n",
       "    }\n",
       "</style>\n",
       "<table border=\"1\" class=\"dataframe\">\n",
       "  <thead>\n",
       "    <tr style=\"text-align: right;\">\n",
       "      <th></th>\n",
       "      <th>Branch</th>\n",
       "      <th>Component</th>\n",
       "      <th>Gender</th>\n",
       "      <th>abdominalextensiondepthsitting</th>\n",
       "      <th>acromialheight</th>\n",
       "      <th>acromionradialelength</th>\n",
       "      <th>anklecircumference</th>\n",
       "      <th>axillaheight</th>\n",
       "      <th>balloffootcircumference</th>\n",
       "      <th>balloffootlength</th>\n",
       "      <th>...</th>\n",
       "      <th>waistdepth</th>\n",
       "      <th>waistfrontlengthsitting</th>\n",
       "      <th>waistheightomphalion</th>\n",
       "      <th>wristcircumference</th>\n",
       "      <th>wristheight</th>\n",
       "      <th>weight_kg</th>\n",
       "      <th>stature_m</th>\n",
       "      <th>BMI</th>\n",
       "      <th>BMI_class</th>\n",
       "      <th>Height_class</th>\n",
       "    </tr>\n",
       "  </thead>\n",
       "  <tbody>\n",
       "    <tr>\n",
       "      <th>0</th>\n",
       "      <td>Combat Arms</td>\n",
       "      <td>Regular Army</td>\n",
       "      <td>Male</td>\n",
       "      <td>266</td>\n",
       "      <td>1467</td>\n",
       "      <td>337</td>\n",
       "      <td>222</td>\n",
       "      <td>1347</td>\n",
       "      <td>253</td>\n",
       "      <td>202</td>\n",
       "      <td>...</td>\n",
       "      <td>240</td>\n",
       "      <td>440</td>\n",
       "      <td>1054</td>\n",
       "      <td>175</td>\n",
       "      <td>853</td>\n",
       "      <td>81.5</td>\n",
       "      <td>1.776</td>\n",
       "      <td>25.838761</td>\n",
       "      <td>Overweight</td>\n",
       "      <td>Tall</td>\n",
       "    </tr>\n",
       "    <tr>\n",
       "      <th>1</th>\n",
       "      <td>Combat Support</td>\n",
       "      <td>Regular Army</td>\n",
       "      <td>Male</td>\n",
       "      <td>233</td>\n",
       "      <td>1395</td>\n",
       "      <td>326</td>\n",
       "      <td>220</td>\n",
       "      <td>1293</td>\n",
       "      <td>245</td>\n",
       "      <td>193</td>\n",
       "      <td>...</td>\n",
       "      <td>225</td>\n",
       "      <td>371</td>\n",
       "      <td>1054</td>\n",
       "      <td>167</td>\n",
       "      <td>815</td>\n",
       "      <td>72.6</td>\n",
       "      <td>1.702</td>\n",
       "      <td>25.062103</td>\n",
       "      <td>Overweight</td>\n",
       "      <td>Normal</td>\n",
       "    </tr>\n",
       "    <tr>\n",
       "      <th>2</th>\n",
       "      <td>Combat Support</td>\n",
       "      <td>Regular Army</td>\n",
       "      <td>Male</td>\n",
       "      <td>287</td>\n",
       "      <td>1430</td>\n",
       "      <td>341</td>\n",
       "      <td>230</td>\n",
       "      <td>1327</td>\n",
       "      <td>256</td>\n",
       "      <td>196</td>\n",
       "      <td>...</td>\n",
       "      <td>255</td>\n",
       "      <td>411</td>\n",
       "      <td>1041</td>\n",
       "      <td>180</td>\n",
       "      <td>831</td>\n",
       "      <td>92.9</td>\n",
       "      <td>1.735</td>\n",
       "      <td>30.861480</td>\n",
       "      <td>Overweight</td>\n",
       "      <td>Normal</td>\n",
       "    </tr>\n",
       "  </tbody>\n",
       "</table>\n",
       "<p>3 rows × 99 columns</p>\n",
       "</div>"
      ],
      "text/plain": [
       "           Branch     Component Gender  abdominalextensiondepthsitting  \\\n",
       "0     Combat Arms  Regular Army   Male                             266   \n",
       "1  Combat Support  Regular Army   Male                             233   \n",
       "2  Combat Support  Regular Army   Male                             287   \n",
       "\n",
       "   acromialheight  acromionradialelength  anklecircumference  axillaheight  \\\n",
       "0            1467                    337                 222          1347   \n",
       "1            1395                    326                 220          1293   \n",
       "2            1430                    341                 230          1327   \n",
       "\n",
       "   balloffootcircumference  balloffootlength  ...  waistdepth  \\\n",
       "0                      253               202  ...         240   \n",
       "1                      245               193  ...         225   \n",
       "2                      256               196  ...         255   \n",
       "\n",
       "   waistfrontlengthsitting  waistheightomphalion  wristcircumference  \\\n",
       "0                      440                  1054                 175   \n",
       "1                      371                  1054                 167   \n",
       "2                      411                  1041                 180   \n",
       "\n",
       "   wristheight  weight_kg  stature_m        BMI   BMI_class  Height_class  \n",
       "0          853       81.5      1.776  25.838761  Overweight          Tall  \n",
       "1          815       72.6      1.702  25.062103  Overweight        Normal  \n",
       "2          831       92.9      1.735  30.861480  Overweight        Normal  \n",
       "\n",
       "[3 rows x 99 columns]"
      ]
     },
     "execution_count": 3,
     "metadata": {},
     "output_type": "execute_result"
    }
   ],
   "source": [
    "male = pd.read_csv(\"Ansur_Male.csv\")\n",
    "female = pd.read_csv(\"Ansur_Female.csv\")\n",
    "ansur_df = pd.concat([male, female])\n",
    "ansur_df[:3]"
   ]
  },
  {
   "cell_type": "markdown",
   "metadata": {},
   "source": [
    "### Train Test Split"
   ]
  },
  {
   "cell_type": "code",
   "execution_count": 4,
   "metadata": {},
   "outputs": [],
   "source": [
    "non_numeric = [\"BMI_class\", \"Height_class\", \"Component\", \"Branch\"]\n",
    "\n",
    "ansur_df = ansur_df.drop(non_numeric, axis = 1)"
   ]
  },
  {
   "cell_type": "code",
   "execution_count": 5,
   "metadata": {},
   "outputs": [],
   "source": [
    "# Select the Gender column as the feature to be predicted (y)\n",
    "y = ansur_df['Gender']\n",
    "\n",
    "# Remove the Gender column to create the training data\n",
    "X = ansur_df.drop('Gender', axis = 1)\n",
    "\n",
    "# Perform a 70% train and 30% test data split\n",
    "X_train, X_test, y_train, y_test = train_test_split(X,\n",
    "                                                    y,\n",
    "                                                    test_size =0.3)"
   ]
  },
  {
   "cell_type": "markdown",
   "metadata": {},
   "source": [
    "### Fitting and testing the model"
   ]
  },
  {
   "cell_type": "code",
   "execution_count": 6,
   "metadata": {},
   "outputs": [
    {
     "data": {
      "text/html": [
       "<div>\n",
       "<style scoped>\n",
       "    .dataframe tbody tr th:only-of-type {\n",
       "        vertical-align: middle;\n",
       "    }\n",
       "\n",
       "    .dataframe tbody tr th {\n",
       "        vertical-align: top;\n",
       "    }\n",
       "\n",
       "    .dataframe thead th {\n",
       "        text-align: right;\n",
       "    }\n",
       "</style>\n",
       "<table border=\"1\" class=\"dataframe\">\n",
       "  <thead>\n",
       "    <tr style=\"text-align: right;\">\n",
       "      <th></th>\n",
       "      <th>Actual</th>\n",
       "      <th>Predicted</th>\n",
       "    </tr>\n",
       "  </thead>\n",
       "  <tbody>\n",
       "    <tr>\n",
       "      <th>281</th>\n",
       "      <td>Male</td>\n",
       "      <td>Male</td>\n",
       "    </tr>\n",
       "    <tr>\n",
       "      <th>3068</th>\n",
       "      <td>Male</td>\n",
       "      <td>Male</td>\n",
       "    </tr>\n",
       "    <tr>\n",
       "      <th>1919</th>\n",
       "      <td>Male</td>\n",
       "      <td>Male</td>\n",
       "    </tr>\n",
       "  </tbody>\n",
       "</table>\n",
       "</div>"
      ],
      "text/plain": [
       "     Actual Predicted\n",
       "281    Male      Male\n",
       "3068   Male      Male\n",
       "1919   Male      Male"
      ]
     },
     "execution_count": 6,
     "metadata": {},
     "output_type": "execute_result"
    }
   ],
   "source": [
    "# Create an instance of the Support Vector Classification class\n",
    "svc = SVC(gamma = 'auto')\n",
    "\n",
    "# Fit the model to the training data\n",
    "svc.fit(X_train, y_train)\n",
    "\n",
    "# Prediction\n",
    "y_pred = svc.predict(X_test)\n",
    "comparison = pd.DataFrame({\"Actual\": y_test, \"Predicted\": y_pred})\n",
    "comparison[:3]"
   ]
  },
  {
   "cell_type": "code",
   "execution_count": 7,
   "metadata": {},
   "outputs": [
    {
     "name": "stdout",
     "output_type": "stream",
     "text": [
      "Accuracy Score 0.656781987918726\n"
     ]
    }
   ],
   "source": [
    "score = accuracy_score(y_test, y_pred)\n",
    "print(\"Accuracy Score\", score)"
   ]
  },
  {
   "cell_type": "markdown",
   "metadata": {},
   "source": [
    "### Accuracy after dimensionality reduction"
   ]
  },
  {
   "cell_type": "code",
   "execution_count": 8,
   "metadata": {},
   "outputs": [
    {
     "data": {
      "text/html": [
       "<div>\n",
       "<style scoped>\n",
       "    .dataframe tbody tr th:only-of-type {\n",
       "        vertical-align: middle;\n",
       "    }\n",
       "\n",
       "    .dataframe tbody tr th {\n",
       "        vertical-align: top;\n",
       "    }\n",
       "\n",
       "    .dataframe thead th {\n",
       "        text-align: right;\n",
       "    }\n",
       "</style>\n",
       "<table border=\"1\" class=\"dataframe\">\n",
       "  <thead>\n",
       "    <tr style=\"text-align: right;\">\n",
       "      <th></th>\n",
       "      <th>Actual</th>\n",
       "      <th>Predicted</th>\n",
       "    </tr>\n",
       "  </thead>\n",
       "  <tbody>\n",
       "    <tr>\n",
       "      <th>2815</th>\n",
       "      <td>Male</td>\n",
       "      <td>Female</td>\n",
       "    </tr>\n",
       "    <tr>\n",
       "      <th>1434</th>\n",
       "      <td>Female</td>\n",
       "      <td>Female</td>\n",
       "    </tr>\n",
       "    <tr>\n",
       "      <th>2811</th>\n",
       "      <td>Male</td>\n",
       "      <td>Male</td>\n",
       "    </tr>\n",
       "  </tbody>\n",
       "</table>\n",
       "</div>"
      ],
      "text/plain": [
       "      Actual Predicted\n",
       "2815    Male    Female\n",
       "1434  Female    Female\n",
       "2811    Male      Male"
      ]
     },
     "execution_count": 8,
     "metadata": {},
     "output_type": "execute_result"
    }
   ],
   "source": [
    "# Assign just the 'neckcircumferencebase' column from ansur_df to X\n",
    "X = ansur_df[['neckcircumferencebase']]\n",
    "\n",
    "# Split the data, instantiate a classifier and fit the data\n",
    "X_train, X_test, y_train, y_test = train_test_split(X, \n",
    "                                                    y, \n",
    "                                                    test_size=0.3)\n",
    "\n",
    "svc = SVC(gamma = 'auto')\n",
    "\n",
    "svc.fit(X_train, y_train)\n",
    "\n",
    "y_pred = svc.predict(X_test)\n",
    "pd.DataFrame({\"Actual\": y_test, \"Predicted\": y_pred})[:3]"
   ]
  },
  {
   "cell_type": "code",
   "execution_count": 9,
   "metadata": {},
   "outputs": [
    {
     "name": "stdout",
     "output_type": "stream",
     "text": [
      "Accuracy Score 0.9231191652937946\n"
     ]
    }
   ],
   "source": [
    "score = accuracy_score(y_test, y_pred)\n",
    "print(\"Accuracy Score\", score)"
   ]
  },
  {
   "cell_type": "markdown",
   "metadata": {},
   "source": [
    "### Finding a good variance threshold"
   ]
  },
  {
   "cell_type": "code",
   "execution_count": 10,
   "metadata": {},
   "outputs": [],
   "source": [
    "head_df = ansur_df[['headbreadth', 'headcircumference', 'headlength', 'tragiontopofhead']]\n",
    "head_df['n_hairs'] = 10000"
   ]
  },
  {
   "cell_type": "code",
   "execution_count": 11,
   "metadata": {},
   "outputs": [
    {
     "data": {
      "image/png": "[encoded data removed]",
      "text/plain": [
       "<Figure size 1296x504 with 1 Axes>"
      ]
     },
     "metadata": {
      "needs_background": "light"
     },
     "output_type": "display_data"
    }
   ],
   "source": [
    "# Create the boxplot\n",
    "plt.figure(figsize = (18, 7))\n",
    "head_df.boxplot()\n",
    "plt.xticks(size = 15)\n",
    "plt.yticks(size = 15)\n",
    "plt.show()"
   ]
  },
  {
   "cell_type": "code",
   "execution_count": 12,
   "metadata": {},
   "outputs": [
    {
     "data": {
      "image/png": "[encoded data removed]",
      "text/plain": [
       "<Figure size 1296x504 with 1 Axes>"
      ]
     },
     "metadata": {
      "needs_background": "light"
     },
     "output_type": "display_data"
    }
   ],
   "source": [
    "# Normalize the data\n",
    "normalized_df = head_df / head_df.mean()\n",
    "\n",
    "plt.figure(figsize = (18, 7))\n",
    "normalized_df.boxplot()\n",
    "plt.xticks(size = 15)\n",
    "plt.yticks(size = 15)\n",
    "plt.show()"
   ]
  },
  {
   "cell_type": "code",
   "execution_count": 13,
   "metadata": {},
   "outputs": [
    {
     "name": "stdout",
     "output_type": "stream",
     "text": [
      "headbreadth          0.001679\n",
      "headcircumference    0.001030\n",
      "headlength           0.001868\n",
      "tragiontopofhead     0.002640\n",
      "n_hairs              0.000000\n",
      "dtype: float64\n"
     ]
    }
   ],
   "source": [
    "# Normalize the data\n",
    "normalized_df = head_df / head_df.mean()\n",
    "\n",
    "# Print the variances of the normalized data\n",
    "print(normalized_df.var())"
   ]
  },
  {
   "cell_type": "markdown",
   "metadata": {},
   "source": [
    "### Features with low variance"
   ]
  },
  {
   "cell_type": "code",
   "execution_count": 18,
   "metadata": {},
   "outputs": [
    {
     "data": {
      "text/html": [
       "<div>\n",
       "<style scoped>\n",
       "    .dataframe tbody tr th:only-of-type {\n",
       "        vertical-align: middle;\n",
       "    }\n",
       "\n",
       "    .dataframe tbody tr th {\n",
       "        vertical-align: top;\n",
       "    }\n",
       "\n",
       "    .dataframe thead th {\n",
       "        text-align: right;\n",
       "    }\n",
       "</style>\n",
       "<table border=\"1\" class=\"dataframe\">\n",
       "  <thead>\n",
       "    <tr style=\"text-align: right;\">\n",
       "      <th></th>\n",
       "      <th>headbreadth</th>\n",
       "      <th>headcircumference</th>\n",
       "      <th>headlength</th>\n",
       "      <th>tragiontopofhead</th>\n",
       "    </tr>\n",
       "  </thead>\n",
       "  <tbody>\n",
       "    <tr>\n",
       "      <th>0</th>\n",
       "      <td>0.985657</td>\n",
       "      <td>1.022744</td>\n",
       "      <td>1.049228</td>\n",
       "      <td>1.080097</td>\n",
       "    </tr>\n",
       "    <tr>\n",
       "      <th>1</th>\n",
       "      <td>0.959373</td>\n",
       "      <td>0.996430</td>\n",
       "      <td>1.023761</td>\n",
       "      <td>0.925797</td>\n",
       "    </tr>\n",
       "    <tr>\n",
       "      <th>2</th>\n",
       "      <td>0.972515</td>\n",
       "      <td>1.005201</td>\n",
       "      <td>1.028854</td>\n",
       "      <td>0.964372</td>\n",
       "    </tr>\n",
       "  </tbody>\n",
       "</table>\n",
       "</div>"
      ],
      "text/plain": [
       "   headbreadth  headcircumference  headlength  tragiontopofhead\n",
       "0     0.985657           1.022744    1.049228          1.080097\n",
       "1     0.959373           0.996430    1.023761          0.925797\n",
       "2     0.972515           1.005201    1.028854          0.964372"
      ]
     },
     "execution_count": 18,
     "metadata": {},
     "output_type": "execute_result"
    }
   ],
   "source": [
    "# Create a VarianceThreshold feature selector\n",
    "sel = VarianceThreshold(threshold = 0.001)\n",
    "\n",
    "# Normalize Features\n",
    "head_dfn = head_df / head_df.mean()\n",
    "\n",
    "# Fit the selector to normalized head_dfn\n",
    "sel.fit(head_dfn / head_dfn.mean())\n",
    "\n",
    "# Create a boolean mask\n",
    "mask = sel.get_support()\n",
    "\n",
    "# Apply the mask to create a reduced dataframe\n",
    "reduced_df = head_dfn.loc[:, mask]\n",
    "\n",
    "reduced_df[:3]"
   ]
  },
  {
   "cell_type": "markdown",
   "metadata": {},
   "source": [
    "### Removing features with many missing values"
   ]
  },
  {
   "cell_type": "code",
   "execution_count": 19,
   "metadata": {},
   "outputs": [
    {
     "data": {
      "text/html": [
       "<div>\n",
       "<style scoped>\n",
       "    .dataframe tbody tr th:only-of-type {\n",
       "        vertical-align: middle;\n",
       "    }\n",
       "\n",
       "    .dataframe tbody tr th {\n",
       "        vertical-align: top;\n",
       "    }\n",
       "\n",
       "    .dataframe thead th {\n",
       "        text-align: right;\n",
       "    }\n",
       "</style>\n",
       "<table border=\"1\" class=\"dataframe\">\n",
       "  <thead>\n",
       "    <tr style=\"text-align: right;\">\n",
       "      <th></th>\n",
       "      <th>x</th>\n",
       "      <th>y</th>\n",
       "      <th>objectid_1</th>\n",
       "      <th>objectid</th>\n",
       "      <th>bldg_id</th>\n",
       "      <th>bldg_name</th>\n",
       "      <th>address</th>\n",
       "      <th>city</th>\n",
       "      <th>zipcode</th>\n",
       "      <th>csp_sch_id</th>\n",
       "      <th>...</th>\n",
       "      <th>sch_name</th>\n",
       "      <th>sch_label</th>\n",
       "      <th>sch_type</th>\n",
       "      <th>shared</th>\n",
       "      <th>complex</th>\n",
       "      <th>label</th>\n",
       "      <th>tlt</th>\n",
       "      <th>pl</th>\n",
       "      <th>point_x</th>\n",
       "      <th>point_y</th>\n",
       "    </tr>\n",
       "  </thead>\n",
       "  <tbody>\n",
       "    <tr>\n",
       "      <th>0</th>\n",
       "      <td>-71.004121</td>\n",
       "      <td>42.388799</td>\n",
       "      <td>1</td>\n",
       "      <td>1</td>\n",
       "      <td>1</td>\n",
       "      <td>Guild Bldg</td>\n",
       "      <td>195 Leyden Street</td>\n",
       "      <td>East Boston</td>\n",
       "      <td>2128</td>\n",
       "      <td>4061</td>\n",
       "      <td>...</td>\n",
       "      <td>Guild Elementary</td>\n",
       "      <td>Guild</td>\n",
       "      <td>ES</td>\n",
       "      <td>NaN</td>\n",
       "      <td>NaN</td>\n",
       "      <td>52</td>\n",
       "      <td>3</td>\n",
       "      <td>Grace</td>\n",
       "      <td>790128.152748</td>\n",
       "      <td>2.967094e+06</td>\n",
       "    </tr>\n",
       "    <tr>\n",
       "      <th>1</th>\n",
       "      <td>-71.030480</td>\n",
       "      <td>42.378545</td>\n",
       "      <td>2</td>\n",
       "      <td>2</td>\n",
       "      <td>3</td>\n",
       "      <td>Kennedy, P Bldg</td>\n",
       "      <td>343 Saratoga Street</td>\n",
       "      <td>East Boston</td>\n",
       "      <td>2128</td>\n",
       "      <td>4541</td>\n",
       "      <td>...</td>\n",
       "      <td>Kennedy Patrick Elem</td>\n",
       "      <td>PJ Kennedy</td>\n",
       "      <td>ES</td>\n",
       "      <td>NaN</td>\n",
       "      <td>NaN</td>\n",
       "      <td>72</td>\n",
       "      <td>3</td>\n",
       "      <td>Grace</td>\n",
       "      <td>783027.745829</td>\n",
       "      <td>2.963318e+06</td>\n",
       "    </tr>\n",
       "    <tr>\n",
       "      <th>2</th>\n",
       "      <td>-71.033891</td>\n",
       "      <td>42.375279</td>\n",
       "      <td>3</td>\n",
       "      <td>3</td>\n",
       "      <td>4</td>\n",
       "      <td>Otis Bldg</td>\n",
       "      <td>218 Marion Street</td>\n",
       "      <td>East Boston</td>\n",
       "      <td>2128</td>\n",
       "      <td>4322</td>\n",
       "      <td>...</td>\n",
       "      <td>Otis Elementary</td>\n",
       "      <td>Otis</td>\n",
       "      <td>ES</td>\n",
       "      <td>NaN</td>\n",
       "      <td>NaN</td>\n",
       "      <td>106</td>\n",
       "      <td>3</td>\n",
       "      <td>Grace</td>\n",
       "      <td>782112.823908</td>\n",
       "      <td>2.962122e+06</td>\n",
       "    </tr>\n",
       "  </tbody>\n",
       "</table>\n",
       "<p>3 rows × 21 columns</p>\n",
       "</div>"
      ],
      "text/plain": [
       "           x          y  objectid_1  objectid  bldg_id        bldg_name  \\\n",
       "0 -71.004121  42.388799           1         1        1       Guild Bldg   \n",
       "1 -71.030480  42.378545           2         2        3  Kennedy, P Bldg   \n",
       "2 -71.033891  42.375279           3         3        4        Otis Bldg   \n",
       "\n",
       "               address         city  zipcode  csp_sch_id  ...  \\\n",
       "0    195 Leyden Street  East Boston     2128        4061  ...   \n",
       "1  343 Saratoga Street  East Boston     2128        4541  ...   \n",
       "2    218 Marion Street  East Boston     2128        4322  ...   \n",
       "\n",
       "               sch_name   sch_label sch_type shared complex label  tlt     pl  \\\n",
       "0      Guild Elementary       Guild       ES    NaN     NaN    52    3  Grace   \n",
       "1  Kennedy Patrick Elem  PJ Kennedy       ES    NaN     NaN    72    3  Grace   \n",
       "2       Otis Elementary        Otis       ES    NaN     NaN   106    3  Grace   \n",
       "\n",
       "         point_x       point_y  \n",
       "0  790128.152748  2.967094e+06  \n",
       "1  783027.745829  2.963318e+06  \n",
       "2  782112.823908  2.962122e+06  \n",
       "\n",
       "[3 rows x 21 columns]"
      ]
     },
     "execution_count": 19,
     "metadata": {},
     "output_type": "execute_result"
    }
   ],
   "source": [
    "school_df = pd.read_csv(\"schools.csv\")\n",
    "school_df[:3]"
   ]
  },
  {
   "cell_type": "code",
   "execution_count": 21,
   "metadata": {},
   "outputs": [
    {
     "name": "stdout",
     "output_type": "stream",
     "text": [
      "<class 'pandas.core.frame.DataFrame'>\n",
      "RangeIndex: 131 entries, 0 to 130\n",
      "Data columns (total 21 columns):\n",
      " #   Column      Non-Null Count  Dtype  \n",
      "---  ------      --------------  -----  \n",
      " 0   x           131 non-null    float64\n",
      " 1   y           131 non-null    float64\n",
      " 2   objectid_1  131 non-null    int64  \n",
      " 3   objectid    131 non-null    int64  \n",
      " 4   bldg_id     131 non-null    int64  \n",
      " 5   bldg_name   131 non-null    object \n",
      " 6   address     131 non-null    object \n",
      " 7   city        131 non-null    object \n",
      " 8   zipcode     131 non-null    int64  \n",
      " 9   csp_sch_id  131 non-null    int64  \n",
      " 10  sch_id      131 non-null    int64  \n",
      " 11  sch_name    131 non-null    object \n",
      " 12  sch_label   131 non-null    object \n",
      " 13  sch_type    131 non-null    object \n",
      " 14  shared      16 non-null     object \n",
      " 15  complex     2 non-null      object \n",
      " 16  label       131 non-null    int64  \n",
      " 17  tlt         131 non-null    int64  \n",
      " 18  pl          131 non-null    object \n",
      " 19  point_x     131 non-null    float64\n",
      " 20  point_y     131 non-null    float64\n",
      "dtypes: float64(4), int64(8), object(9)\n",
      "memory usage: 21.6+ KB\n"
     ]
    }
   ],
   "source": [
    "school_df.info()"
   ]
  },
  {
   "cell_type": "code",
   "execution_count": 22,
   "metadata": {},
   "outputs": [
    {
     "data": {
      "text/html": [
       "<div>\n",
       "<style scoped>\n",
       "    .dataframe tbody tr th:only-of-type {\n",
       "        vertical-align: middle;\n",
       "    }\n",
       "\n",
       "    .dataframe tbody tr th {\n",
       "        vertical-align: top;\n",
       "    }\n",
       "\n",
       "    .dataframe thead th {\n",
       "        text-align: right;\n",
       "    }\n",
       "</style>\n",
       "<table border=\"1\" class=\"dataframe\">\n",
       "  <thead>\n",
       "    <tr style=\"text-align: right;\">\n",
       "      <th></th>\n",
       "      <th>x</th>\n",
       "      <th>y</th>\n",
       "      <th>objectid_1</th>\n",
       "      <th>objectid</th>\n",
       "      <th>bldg_id</th>\n",
       "      <th>bldg_name</th>\n",
       "      <th>address</th>\n",
       "      <th>city</th>\n",
       "      <th>zipcode</th>\n",
       "      <th>csp_sch_id</th>\n",
       "      <th>sch_id</th>\n",
       "      <th>sch_name</th>\n",
       "      <th>sch_label</th>\n",
       "      <th>sch_type</th>\n",
       "      <th>label</th>\n",
       "      <th>tlt</th>\n",
       "      <th>pl</th>\n",
       "      <th>point_x</th>\n",
       "      <th>point_y</th>\n",
       "    </tr>\n",
       "  </thead>\n",
       "  <tbody>\n",
       "    <tr>\n",
       "      <th>0</th>\n",
       "      <td>-71.004121</td>\n",
       "      <td>42.388799</td>\n",
       "      <td>1</td>\n",
       "      <td>1</td>\n",
       "      <td>1</td>\n",
       "      <td>Guild Bldg</td>\n",
       "      <td>195 Leyden Street</td>\n",
       "      <td>East Boston</td>\n",
       "      <td>2128</td>\n",
       "      <td>4061</td>\n",
       "      <td>4061</td>\n",
       "      <td>Guild Elementary</td>\n",
       "      <td>Guild</td>\n",
       "      <td>ES</td>\n",
       "      <td>52</td>\n",
       "      <td>3</td>\n",
       "      <td>Grace</td>\n",
       "      <td>790128.152748</td>\n",
       "      <td>2.967094e+06</td>\n",
       "    </tr>\n",
       "    <tr>\n",
       "      <th>1</th>\n",
       "      <td>-71.030480</td>\n",
       "      <td>42.378545</td>\n",
       "      <td>2</td>\n",
       "      <td>2</td>\n",
       "      <td>3</td>\n",
       "      <td>Kennedy, P Bldg</td>\n",
       "      <td>343 Saratoga Street</td>\n",
       "      <td>East Boston</td>\n",
       "      <td>2128</td>\n",
       "      <td>4541</td>\n",
       "      <td>4541</td>\n",
       "      <td>Kennedy Patrick Elem</td>\n",
       "      <td>PJ Kennedy</td>\n",
       "      <td>ES</td>\n",
       "      <td>72</td>\n",
       "      <td>3</td>\n",
       "      <td>Grace</td>\n",
       "      <td>783027.745829</td>\n",
       "      <td>2.963318e+06</td>\n",
       "    </tr>\n",
       "    <tr>\n",
       "      <th>2</th>\n",
       "      <td>-71.033891</td>\n",
       "      <td>42.375279</td>\n",
       "      <td>3</td>\n",
       "      <td>3</td>\n",
       "      <td>4</td>\n",
       "      <td>Otis Bldg</td>\n",
       "      <td>218 Marion Street</td>\n",
       "      <td>East Boston</td>\n",
       "      <td>2128</td>\n",
       "      <td>4322</td>\n",
       "      <td>4322</td>\n",
       "      <td>Otis Elementary</td>\n",
       "      <td>Otis</td>\n",
       "      <td>ES</td>\n",
       "      <td>106</td>\n",
       "      <td>3</td>\n",
       "      <td>Grace</td>\n",
       "      <td>782112.823908</td>\n",
       "      <td>2.962122e+06</td>\n",
       "    </tr>\n",
       "  </tbody>\n",
       "</table>\n",
       "</div>"
      ],
      "text/plain": [
       "           x          y  objectid_1  objectid  bldg_id        bldg_name  \\\n",
       "0 -71.004121  42.388799           1         1        1       Guild Bldg   \n",
       "1 -71.030480  42.378545           2         2        3  Kennedy, P Bldg   \n",
       "2 -71.033891  42.375279           3         3        4        Otis Bldg   \n",
       "\n",
       "               address         city  zipcode  csp_sch_id  sch_id  \\\n",
       "0    195 Leyden Street  East Boston     2128        4061    4061   \n",
       "1  343 Saratoga Street  East Boston     2128        4541    4541   \n",
       "2    218 Marion Street  East Boston     2128        4322    4322   \n",
       "\n",
       "               sch_name   sch_label sch_type  label  tlt     pl  \\\n",
       "0      Guild Elementary       Guild       ES     52    3  Grace   \n",
       "1  Kennedy Patrick Elem  PJ Kennedy       ES     72    3  Grace   \n",
       "2       Otis Elementary        Otis       ES    106    3  Grace   \n",
       "\n",
       "         point_x       point_y  \n",
       "0  790128.152748  2.967094e+06  \n",
       "1  783027.745829  2.963318e+06  \n",
       "2  782112.823908  2.962122e+06  "
      ]
     },
     "execution_count": 22,
     "metadata": {},
     "output_type": "execute_result"
    }
   ],
   "source": [
    "# Create a boolean mask on whether each feature less than 50% missing values.\n",
    "mask = school_df.isna().sum() / len(school_df) < 0.5\n",
    "\n",
    "# Create a reduced dataset by applying the mask\n",
    "reduced_df = school_df.loc[:, mask]\n",
    "reduced_df[:3]"
   ]
  },
  {
   "cell_type": "markdown",
   "metadata": {},
   "source": [
    "### Visualizing the correlation matrix"
   ]
  },
  {
   "cell_type": "code",
   "execution_count": 26,
   "metadata": {},
   "outputs": [
    {
     "data": {
      "image/png": "[encoded data removed]",
      "text/plain": [
       "<Figure size 1296x504 with 2 Axes>"
      ]
     },
     "metadata": {
      "needs_background": "light"
     },
     "output_type": "display_data"
    }
   ],
   "source": [
    "df = ansur_df[['headbreadth', 'headcircumference', 'headlength', 'tragiontopofhead']]\n",
    "\n",
    "# Bivariate Analysis\n",
    "plt.figure(figsize = (18, 7))\n",
    "correlation = df.corr()\n",
    "sns.heatmap(correlation, annot = True)\n",
    "plt.title(\"Correlation\", size = 15)\n",
    "plt.show()"
   ]
  },
  {
   "cell_type": "markdown",
   "metadata": {},
   "source": [
    "### Filtering out highly correlated features"
   ]
  },
  {
   "cell_type": "code",
   "execution_count": 30,
   "metadata": {},
   "outputs": [
    {
     "data": {
      "text/html": [
       "<div>\n",
       "<style scoped>\n",
       "    .dataframe tbody tr th:only-of-type {\n",
       "        vertical-align: middle;\n",
       "    }\n",
       "\n",
       "    .dataframe tbody tr th {\n",
       "        vertical-align: top;\n",
       "    }\n",
       "\n",
       "    .dataframe thead th {\n",
       "        text-align: right;\n",
       "    }\n",
       "</style>\n",
       "<table border=\"1\" class=\"dataframe\">\n",
       "  <thead>\n",
       "    <tr style=\"text-align: right;\">\n",
       "      <th></th>\n",
       "      <th>Gender</th>\n",
       "      <th>anklecircumference</th>\n",
       "      <th>balloffootcircumference</th>\n",
       "      <th>biacromialbreadth</th>\n",
       "      <th>bicepscircumferenceflexed</th>\n",
       "      <th>bicristalbreadth</th>\n",
       "      <th>bideltoidbreadth</th>\n",
       "      <th>bimalleolarbreadth</th>\n",
       "      <th>bitragionchinarc</th>\n",
       "      <th>bitragionsubmandibulararc</th>\n",
       "      <th>...</th>\n",
       "      <th>verticaltrunkcircumferenceusa</th>\n",
       "      <th>waistbacklength</th>\n",
       "      <th>waistdepth</th>\n",
       "      <th>waistfrontlengthsitting</th>\n",
       "      <th>waistheightomphalion</th>\n",
       "      <th>wristcircumference</th>\n",
       "      <th>wristheight</th>\n",
       "      <th>weight_kg</th>\n",
       "      <th>stature_m</th>\n",
       "      <th>BMI</th>\n",
       "    </tr>\n",
       "  </thead>\n",
       "  <tbody>\n",
       "    <tr>\n",
       "      <th>0</th>\n",
       "      <td>Male</td>\n",
       "      <td>222</td>\n",
       "      <td>253</td>\n",
       "      <td>401</td>\n",
       "      <td>369</td>\n",
       "      <td>274</td>\n",
       "      <td>493</td>\n",
       "      <td>71</td>\n",
       "      <td>319</td>\n",
       "      <td>291</td>\n",
       "      <td>...</td>\n",
       "      <td>1700</td>\n",
       "      <td>501</td>\n",
       "      <td>240</td>\n",
       "      <td>440</td>\n",
       "      <td>1054</td>\n",
       "      <td>175</td>\n",
       "      <td>853</td>\n",
       "      <td>81.5</td>\n",
       "      <td>1.776</td>\n",
       "      <td>25.838761</td>\n",
       "    </tr>\n",
       "    <tr>\n",
       "      <th>1</th>\n",
       "      <td>Male</td>\n",
       "      <td>220</td>\n",
       "      <td>245</td>\n",
       "      <td>394</td>\n",
       "      <td>338</td>\n",
       "      <td>257</td>\n",
       "      <td>479</td>\n",
       "      <td>67</td>\n",
       "      <td>344</td>\n",
       "      <td>320</td>\n",
       "      <td>...</td>\n",
       "      <td>1627</td>\n",
       "      <td>432</td>\n",
       "      <td>225</td>\n",
       "      <td>371</td>\n",
       "      <td>1054</td>\n",
       "      <td>167</td>\n",
       "      <td>815</td>\n",
       "      <td>72.6</td>\n",
       "      <td>1.702</td>\n",
       "      <td>25.062103</td>\n",
       "    </tr>\n",
       "    <tr>\n",
       "      <th>2</th>\n",
       "      <td>Male</td>\n",
       "      <td>230</td>\n",
       "      <td>256</td>\n",
       "      <td>427</td>\n",
       "      <td>408</td>\n",
       "      <td>261</td>\n",
       "      <td>544</td>\n",
       "      <td>75</td>\n",
       "      <td>345</td>\n",
       "      <td>330</td>\n",
       "      <td>...</td>\n",
       "      <td>1678</td>\n",
       "      <td>472</td>\n",
       "      <td>255</td>\n",
       "      <td>411</td>\n",
       "      <td>1041</td>\n",
       "      <td>180</td>\n",
       "      <td>831</td>\n",
       "      <td>92.9</td>\n",
       "      <td>1.735</td>\n",
       "      <td>30.861480</td>\n",
       "    </tr>\n",
       "  </tbody>\n",
       "</table>\n",
       "<p>3 rows × 76 columns</p>\n",
       "</div>"
      ],
      "text/plain": [
       "  Gender  anklecircumference  balloffootcircumference  biacromialbreadth  \\\n",
       "0   Male                 222                      253                401   \n",
       "1   Male                 220                      245                394   \n",
       "2   Male                 230                      256                427   \n",
       "\n",
       "   bicepscircumferenceflexed  bicristalbreadth  bideltoidbreadth  \\\n",
       "0                        369               274               493   \n",
       "1                        338               257               479   \n",
       "2                        408               261               544   \n",
       "\n",
       "   bimalleolarbreadth  bitragionchinarc  bitragionsubmandibulararc  ...  \\\n",
       "0                  71               319                        291  ...   \n",
       "1                  67               344                        320  ...   \n",
       "2                  75               345                        330  ...   \n",
       "\n",
       "   verticaltrunkcircumferenceusa  waistbacklength  waistdepth  \\\n",
       "0                           1700              501         240   \n",
       "1                           1627              432         225   \n",
       "2                           1678              472         255   \n",
       "\n",
       "   waistfrontlengthsitting  waistheightomphalion  wristcircumference  \\\n",
       "0                      440                  1054                 175   \n",
       "1                      371                  1054                 167   \n",
       "2                      411                  1041                 180   \n",
       "\n",
       "   wristheight  weight_kg  stature_m        BMI  \n",
       "0          853       81.5      1.776  25.838761  \n",
       "1          815       72.6      1.702  25.062103  \n",
       "2          831       92.9      1.735  30.861480  \n",
       "\n",
       "[3 rows x 76 columns]"
      ]
     },
     "execution_count": 30,
     "metadata": {},
     "output_type": "execute_result"
    }
   ],
   "source": [
    "# Calculate the correlation matrix and take the absolute value\n",
    "corr_matrix = ansur_df.corr().abs()\n",
    "\n",
    "# Create a True/False mask and apply it\n",
    "mask = np.triu(np.ones_like(corr_matrix, dtype = bool))\n",
    "tri_df = corr_matrix.mask(mask)\n",
    "\n",
    "# List column names of highly correlated features (r > 0.95)\n",
    "to_drop = [c for c in tri_df.columns if any(tri_df[c] > 0.95)]\n",
    "\n",
    "# Drop the features in the to_drop list\n",
    "reduced_df = ansur_df.drop(to_drop, axis = 1)\n",
    "reduced_df[:3]"
   ]
  },
  {
   "cell_type": "markdown",
   "metadata": {},
   "source": [
    "### Silly Causation"
   ]
  },
  {
   "cell_type": "code",
   "execution_count": 32,
   "metadata": {},
   "outputs": [
    {
     "data": {
      "text/html": [
       "<div>\n",
       "<style scoped>\n",
       "    .dataframe tbody tr th:only-of-type {\n",
       "        vertical-align: middle;\n",
       "    }\n",
       "\n",
       "    .dataframe tbody tr th {\n",
       "        vertical-align: top;\n",
       "    }\n",
       "\n",
       "    .dataframe thead th {\n",
       "        text-align: right;\n",
       "    }\n",
       "</style>\n",
       "<table border=\"1\" class=\"dataframe\">\n",
       "  <thead>\n",
       "    <tr style=\"text-align: right;\">\n",
       "      <th></th>\n",
       "      <th>pool_drownings</th>\n",
       "      <th>nuclear_energy</th>\n",
       "    </tr>\n",
       "  </thead>\n",
       "  <tbody>\n",
       "    <tr>\n",
       "      <th>0</th>\n",
       "      <td>421.0</td>\n",
       "      <td>728.3</td>\n",
       "    </tr>\n",
       "    <tr>\n",
       "      <th>1</th>\n",
       "      <td>465.0</td>\n",
       "      <td>753.9</td>\n",
       "    </tr>\n",
       "    <tr>\n",
       "      <th>2</th>\n",
       "      <td>494.0</td>\n",
       "      <td>768.8</td>\n",
       "    </tr>\n",
       "  </tbody>\n",
       "</table>\n",
       "</div>"
      ],
      "text/plain": [
       "   pool_drownings  nuclear_energy\n",
       "0           421.0           728.3\n",
       "1           465.0           753.9\n",
       "2           494.0           768.8"
      ]
     },
     "execution_count": 32,
     "metadata": {},
     "output_type": "execute_result"
    }
   ],
   "source": [
    "weird_df = pd.DataFrame([[421.0, 728.3], [465.0, 753.9], [494.0, 768.8], [538.0, 780.1], [430.0, 763.7], [530.0, 788.5], [511.0, 782.0], [600.0, 787.2], [582.0, 806.4], [605.0, 806.2], [603.0, 798.9]], columns = ['pool_drownings', 'nuclear_energy'])\n",
    "weird_df[:3]"
   ]
  },
  {
   "cell_type": "code",
   "execution_count": 36,
   "metadata": {},
   "outputs": [
    {
     "data": {
      "image/png": "[encoded data removed]",
      "text/plain": [
       "<Figure size 1296x504 with 1 Axes>"
      ]
     },
     "metadata": {
      "needs_background": "light"
     },
     "output_type": "display_data"
    }
   ],
   "source": [
    "# Put nuclear energy production on the x-axis and the number of pool drownings on the y-axis\n",
    "plt.figure(figsize = (18, 7))\n",
    "sns.scatterplot(x='nuclear_energy',\n",
    "                y='pool_drownings',\n",
    "                data=weird_df,\n",
    "                s = 100,\n",
    "                color = \"red\")\n",
    "plt.xlabel(\"Nuclear Energy\", size = 15)\n",
    "plt.ylabel(\"Pool Drowmnings\", size = 15)\n",
    "plt.show()"
   ]
  },
  {
   "cell_type": "code",
   "execution_count": null,
   "metadata": {},
   "outputs": [],
   "source": []
  }
 ],
 "metadata": {
  "kernelspec": {
   "display_name": "Python 3",
   "language": "python",
   "name": "python3"
  },
  "language_info": {
   "codemirror_mode": {
    "name": "ipython",
    "version": 3
   },
   "file_extension": ".py",
   "mimetype": "text/x-python",
   "name": "python",
   "nbconvert_exporter": "python",
   "pygments_lexer": "ipython3",
   "version": "3.8.5"
  }
 },
 "nbformat": 4,
 "nbformat_minor": 4
}
