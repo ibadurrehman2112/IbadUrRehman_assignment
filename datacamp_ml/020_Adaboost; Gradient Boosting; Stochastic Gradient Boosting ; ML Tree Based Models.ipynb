{
 "cells": [
  {
   "cell_type": "markdown",
   "metadata": {},
   "source": [
    "### Import Libraries"
   ]
  },
  {
   "cell_type": "code",
   "execution_count": 2,
   "metadata": {},
   "outputs": [],
   "source": [
    "import warnings\n",
    "warnings.filterwarnings(\"ignore\")\n",
    "\n",
    "import pandas as pd\n",
    "import numpy as np\n",
    "\n",
    "from sklearn.ensemble import AdaBoostClassifier\n",
    "from sklearn.ensemble import GradientBoostingRegressor\n",
    "from sklearn.tree import DecisionTreeClassifier\n",
    "\n",
    "from sklearn.metrics import roc_auc_score\n",
    "from sklearn.metrics import accuracy_score\n",
    "from sklearn.metrics import confusion_matrix\n",
    "from sklearn.metrics import classification_report\n",
    "from sklearn.metrics import mean_squared_error as MSE\n",
    "\n",
    "from sklearn.model_selection import GridSearchCV\n",
    "from sklearn.model_selection import train_test_split\n",
    "\n",
    "import matplotlib.pyplot as plt\n",
    "import seaborn as sns"
   ]
  },
  {
   "cell_type": "markdown",
   "metadata": {},
   "source": [
    "### Import Dataset"
   ]
  },
  {
   "cell_type": "code",
   "execution_count": 3,
   "metadata": {},
   "outputs": [],
   "source": [
    "from sklearn.datasets import load_breast_cancer"
   ]
  },
  {
   "cell_type": "code",
   "execution_count": 4,
   "metadata": {},
   "outputs": [],
   "source": [
    "data = load_breast_cancer()"
   ]
  },
  {
   "cell_type": "code",
   "execution_count": 5,
   "metadata": {},
   "outputs": [
    {
     "data": {
      "text/html": [
       "<div>\n",
       "<style scoped>\n",
       "    .dataframe tbody tr th:only-of-type {\n",
       "        vertical-align: middle;\n",
       "    }\n",
       "\n",
       "    .dataframe tbody tr th {\n",
       "        vertical-align: top;\n",
       "    }\n",
       "\n",
       "    .dataframe thead th {\n",
       "        text-align: right;\n",
       "    }\n",
       "</style>\n",
       "<table border=\"1\" class=\"dataframe\">\n",
       "  <thead>\n",
       "    <tr style=\"text-align: right;\">\n",
       "      <th></th>\n",
       "      <th>mean radius</th>\n",
       "      <th>mean texture</th>\n",
       "      <th>mean perimeter</th>\n",
       "      <th>mean area</th>\n",
       "      <th>mean smoothness</th>\n",
       "      <th>mean compactness</th>\n",
       "      <th>mean concavity</th>\n",
       "      <th>mean concave points</th>\n",
       "      <th>mean symmetry</th>\n",
       "      <th>mean fractal dimension</th>\n",
       "      <th>...</th>\n",
       "      <th>worst radius</th>\n",
       "      <th>worst texture</th>\n",
       "      <th>worst perimeter</th>\n",
       "      <th>worst area</th>\n",
       "      <th>worst smoothness</th>\n",
       "      <th>worst compactness</th>\n",
       "      <th>worst concavity</th>\n",
       "      <th>worst concave points</th>\n",
       "      <th>worst symmetry</th>\n",
       "      <th>worst fractal dimension</th>\n",
       "    </tr>\n",
       "  </thead>\n",
       "  <tbody>\n",
       "    <tr>\n",
       "      <th>0</th>\n",
       "      <td>17.99</td>\n",
       "      <td>10.38</td>\n",
       "      <td>122.80</td>\n",
       "      <td>1001.0</td>\n",
       "      <td>0.11840</td>\n",
       "      <td>0.27760</td>\n",
       "      <td>0.30010</td>\n",
       "      <td>0.14710</td>\n",
       "      <td>0.2419</td>\n",
       "      <td>0.07871</td>\n",
       "      <td>...</td>\n",
       "      <td>25.38</td>\n",
       "      <td>17.33</td>\n",
       "      <td>184.60</td>\n",
       "      <td>2019.0</td>\n",
       "      <td>0.1622</td>\n",
       "      <td>0.6656</td>\n",
       "      <td>0.7119</td>\n",
       "      <td>0.2654</td>\n",
       "      <td>0.4601</td>\n",
       "      <td>0.11890</td>\n",
       "    </tr>\n",
       "    <tr>\n",
       "      <th>100</th>\n",
       "      <td>13.61</td>\n",
       "      <td>24.98</td>\n",
       "      <td>88.05</td>\n",
       "      <td>582.7</td>\n",
       "      <td>0.09488</td>\n",
       "      <td>0.08511</td>\n",
       "      <td>0.08625</td>\n",
       "      <td>0.04489</td>\n",
       "      <td>0.1609</td>\n",
       "      <td>0.05871</td>\n",
       "      <td>...</td>\n",
       "      <td>16.99</td>\n",
       "      <td>35.27</td>\n",
       "      <td>108.60</td>\n",
       "      <td>906.5</td>\n",
       "      <td>0.1265</td>\n",
       "      <td>0.1943</td>\n",
       "      <td>0.3169</td>\n",
       "      <td>0.1184</td>\n",
       "      <td>0.2651</td>\n",
       "      <td>0.07397</td>\n",
       "    </tr>\n",
       "    <tr>\n",
       "      <th>200</th>\n",
       "      <td>12.23</td>\n",
       "      <td>19.56</td>\n",
       "      <td>78.54</td>\n",
       "      <td>461.0</td>\n",
       "      <td>0.09586</td>\n",
       "      <td>0.08087</td>\n",
       "      <td>0.04187</td>\n",
       "      <td>0.04107</td>\n",
       "      <td>0.1979</td>\n",
       "      <td>0.06013</td>\n",
       "      <td>...</td>\n",
       "      <td>14.44</td>\n",
       "      <td>28.36</td>\n",
       "      <td>92.15</td>\n",
       "      <td>638.4</td>\n",
       "      <td>0.1429</td>\n",
       "      <td>0.2042</td>\n",
       "      <td>0.1377</td>\n",
       "      <td>0.1080</td>\n",
       "      <td>0.2668</td>\n",
       "      <td>0.08174</td>\n",
       "    </tr>\n",
       "    <tr>\n",
       "      <th>300</th>\n",
       "      <td>19.53</td>\n",
       "      <td>18.90</td>\n",
       "      <td>129.50</td>\n",
       "      <td>1217.0</td>\n",
       "      <td>0.11500</td>\n",
       "      <td>0.16420</td>\n",
       "      <td>0.21970</td>\n",
       "      <td>0.10620</td>\n",
       "      <td>0.1792</td>\n",
       "      <td>0.06552</td>\n",
       "      <td>...</td>\n",
       "      <td>25.93</td>\n",
       "      <td>26.24</td>\n",
       "      <td>171.10</td>\n",
       "      <td>2053.0</td>\n",
       "      <td>0.1495</td>\n",
       "      <td>0.4116</td>\n",
       "      <td>0.6121</td>\n",
       "      <td>0.1980</td>\n",
       "      <td>0.2968</td>\n",
       "      <td>0.09929</td>\n",
       "    </tr>\n",
       "    <tr>\n",
       "      <th>400</th>\n",
       "      <td>17.91</td>\n",
       "      <td>21.02</td>\n",
       "      <td>124.40</td>\n",
       "      <td>994.0</td>\n",
       "      <td>0.12300</td>\n",
       "      <td>0.25760</td>\n",
       "      <td>0.31890</td>\n",
       "      <td>0.11980</td>\n",
       "      <td>0.2113</td>\n",
       "      <td>0.07115</td>\n",
       "      <td>...</td>\n",
       "      <td>20.80</td>\n",
       "      <td>27.78</td>\n",
       "      <td>149.60</td>\n",
       "      <td>1304.0</td>\n",
       "      <td>0.1873</td>\n",
       "      <td>0.5917</td>\n",
       "      <td>0.9034</td>\n",
       "      <td>0.1964</td>\n",
       "      <td>0.3245</td>\n",
       "      <td>0.11980</td>\n",
       "    </tr>\n",
       "    <tr>\n",
       "      <th>500</th>\n",
       "      <td>15.04</td>\n",
       "      <td>16.74</td>\n",
       "      <td>98.73</td>\n",
       "      <td>689.4</td>\n",
       "      <td>0.09883</td>\n",
       "      <td>0.13640</td>\n",
       "      <td>0.07721</td>\n",
       "      <td>0.06142</td>\n",
       "      <td>0.1668</td>\n",
       "      <td>0.06869</td>\n",
       "      <td>...</td>\n",
       "      <td>16.76</td>\n",
       "      <td>20.43</td>\n",
       "      <td>109.70</td>\n",
       "      <td>856.9</td>\n",
       "      <td>0.1135</td>\n",
       "      <td>0.2176</td>\n",
       "      <td>0.1856</td>\n",
       "      <td>0.1018</td>\n",
       "      <td>0.2177</td>\n",
       "      <td>0.08549</td>\n",
       "    </tr>\n",
       "  </tbody>\n",
       "</table>\n",
       "<p>6 rows × 30 columns</p>\n",
       "</div>"
      ],
      "text/plain": [
       "     mean radius  mean texture  mean perimeter  mean area  mean smoothness  \\\n",
       "0          17.99         10.38          122.80     1001.0          0.11840   \n",
       "100        13.61         24.98           88.05      582.7          0.09488   \n",
       "200        12.23         19.56           78.54      461.0          0.09586   \n",
       "300        19.53         18.90          129.50     1217.0          0.11500   \n",
       "400        17.91         21.02          124.40      994.0          0.12300   \n",
       "500        15.04         16.74           98.73      689.4          0.09883   \n",
       "\n",
       "     mean compactness  mean concavity  mean concave points  mean symmetry  \\\n",
       "0             0.27760         0.30010              0.14710         0.2419   \n",
       "100           0.08511         0.08625              0.04489         0.1609   \n",
       "200           0.08087         0.04187              0.04107         0.1979   \n",
       "300           0.16420         0.21970              0.10620         0.1792   \n",
       "400           0.25760         0.31890              0.11980         0.2113   \n",
       "500           0.13640         0.07721              0.06142         0.1668   \n",
       "\n",
       "     mean fractal dimension  ...  worst radius  worst texture  \\\n",
       "0                   0.07871  ...         25.38          17.33   \n",
       "100                 0.05871  ...         16.99          35.27   \n",
       "200                 0.06013  ...         14.44          28.36   \n",
       "300                 0.06552  ...         25.93          26.24   \n",
       "400                 0.07115  ...         20.80          27.78   \n",
       "500                 0.06869  ...         16.76          20.43   \n",
       "\n",
       "     worst perimeter  worst area  worst smoothness  worst compactness  \\\n",
       "0             184.60      2019.0            0.1622             0.6656   \n",
       "100           108.60       906.5            0.1265             0.1943   \n",
       "200            92.15       638.4            0.1429             0.2042   \n",
       "300           171.10      2053.0            0.1495             0.4116   \n",
       "400           149.60      1304.0            0.1873             0.5917   \n",
       "500           109.70       856.9            0.1135             0.2176   \n",
       "\n",
       "     worst concavity  worst concave points  worst symmetry  \\\n",
       "0             0.7119                0.2654          0.4601   \n",
       "100           0.3169                0.1184          0.2651   \n",
       "200           0.1377                0.1080          0.2668   \n",
       "300           0.6121                0.1980          0.2968   \n",
       "400           0.9034                0.1964          0.3245   \n",
       "500           0.1856                0.1018          0.2177   \n",
       "\n",
       "     worst fractal dimension  \n",
       "0                    0.11890  \n",
       "100                  0.07397  \n",
       "200                  0.08174  \n",
       "300                  0.09929  \n",
       "400                  0.11980  \n",
       "500                  0.08549  \n",
       "\n",
       "[6 rows x 30 columns]"
      ]
     },
     "execution_count": 5,
     "metadata": {},
     "output_type": "execute_result"
    }
   ],
   "source": [
    "# Feature Names\n",
    "X = pd.DataFrame(data[\"data\"])\n",
    "X.columns = data[\"feature_names\"]\n",
    "X[::100]"
   ]
  },
  {
   "cell_type": "code",
   "execution_count": 6,
   "metadata": {},
   "outputs": [
    {
     "data": {
      "text/plain": [
       "array([0, 0, 1, 0, 0, 1])"
      ]
     },
     "execution_count": 6,
     "metadata": {},
     "output_type": "execute_result"
    }
   ],
   "source": [
    "# Target\n",
    "y = data[\"target\"]\n",
    "y[::100]"
   ]
  },
  {
   "cell_type": "markdown",
   "metadata": {},
   "source": [
    "# Adaboost"
   ]
  },
  {
   "cell_type": "code",
   "execution_count": 7,
   "metadata": {},
   "outputs": [
    {
     "name": "stdout",
     "output_type": "stream",
     "text": [
      "Best CV parameters = {'criterion': 'entropy', 'max_depth': 3, 'min_samples_leaf': 0.01834862385321101} \n",
      "\n",
      "Best CV accuracy = 0.9372294372294373\n"
     ]
    }
   ],
   "source": [
    "# Train Test Split\n",
    "x_train, x_test, y_train, y_test = train_test_split(X,\n",
    "                                                    y,\n",
    "                                                    test_size = 0.3,\n",
    "                                                    random_state = 21)\n",
    "\n",
    "# Parameters\n",
    "parameters = {\"criterion\": [\"gini\", \"entropy\"],\n",
    "              \"max_depth\": np.arange(1, 10),\n",
    "              \"min_samples_leaf\": np.linspace(0, 1, 110)}\n",
    "\n",
    "# Decision Tree Classifier Object\n",
    "dt = DecisionTreeClassifier(random_state = 42)\n",
    "\n",
    "# Grid Search CV Object\n",
    "cv = GridSearchCV(dt, parameters, cv = 3)\n",
    "\n",
    "# Fit training data into model\n",
    "cv.fit(x_train, y_train)\n",
    "\n",
    "# Best Parameters and Score\n",
    "print(\"Best CV parameters =\", cv.best_params_, \"\\n\")\n",
    "print(\"Best CV accuracy =\", cv.best_score_)"
   ]
  },
  {
   "cell_type": "code",
   "execution_count": 8,
   "metadata": {},
   "outputs": [
    {
     "name": "stdout",
     "output_type": "stream",
     "text": [
      "ROC AUC score = 0.9941588785046729\n"
     ]
    }
   ],
   "source": [
    "# Instantiate a classification - tree \"dt\"\n",
    "dt = DecisionTreeClassifier(criterion = \"entropy\",\n",
    "                            max_depth = 3,\n",
    "                            min_samples_leaf = 0.018,\n",
    "                            random_state = 42)\n",
    "\n",
    "# Instabtiate an Adaboost Classifier \"adab-clf\"\n",
    "adb_clf = AdaBoostClassifier(base_estimator = dt, n_estimators = 100)\n",
    "\n",
    "# Fit Training Data\n",
    "adb_clf.fit(x_train, y_train)\n",
    "\n",
    "# Predict the test set probabilities of positive class\n",
    "y_pred_proba = adb_clf.predict_proba(x_test)[:, 1]\n",
    "\n",
    "# Evaluate test set roc_auc_score\n",
    "adb_clf_roc_auc_score = roc_auc_score(y_test, y_pred_proba)\n",
    "\n",
    "print(\"ROC AUC score =\", adb_clf_roc_auc_score)"
   ]
  },
  {
   "cell_type": "code",
   "execution_count": 9,
   "metadata": {},
   "outputs": [
    {
     "name": "stdout",
     "output_type": "stream",
     "text": [
      "Acuracy Score = 0.9707602339181286\n"
     ]
    }
   ],
   "source": [
    "# Check Accuracy\n",
    "y_pred = adb_clf.predict(x_test)\n",
    "score = accuracy_score(y_test, y_pred)\n",
    "print(\"Acuracy Score =\", score)"
   ]
  },
  {
   "cell_type": "code",
   "execution_count": 10,
   "metadata": {},
   "outputs": [
    {
     "data": {
      "image/png": "[encoded data removed]",
      "text/plain": [
       "<Figure size 1368x504 with 1 Axes>"
      ]
     },
     "metadata": {
      "needs_background": "light"
     },
     "output_type": "display_data"
    }
   ],
   "source": [
    "plt.figure(figsize = (19, 7))\n",
    "sns.kdeplot(x = y_test, label = \"Actual\", linewidth = 3, color = \"blue\")\n",
    "sns.kdeplot(y_pred, label = \"Predicted\", linewidth = 3, color = \"red\")\n",
    "plt.xlabel(\"Outcome\", size = 15)\n",
    "plt.ylabel(\"Density\", size = 15)\n",
    "plt.legend()\n",
    "plt.show()"
   ]
  },
  {
   "cell_type": "code",
   "execution_count": 11,
   "metadata": {},
   "outputs": [
    {
     "name": "stdout",
     "output_type": "stream",
     "text": [
      "[[ 59   5]\n",
      " [  0 107]]\n"
     ]
    }
   ],
   "source": [
    "# Confusion Matrix\n",
    "print(confusion_matrix(y_test, y_pred))"
   ]
  },
  {
   "cell_type": "code",
   "execution_count": 12,
   "metadata": {},
   "outputs": [
    {
     "name": "stdout",
     "output_type": "stream",
     "text": [
      "              precision    recall  f1-score   support\n",
      "\n",
      "           0       1.00      0.92      0.96        64\n",
      "           1       0.96      1.00      0.98       107\n",
      "\n",
      "    accuracy                           0.97       171\n",
      "   macro avg       0.98      0.96      0.97       171\n",
      "weighted avg       0.97      0.97      0.97       171\n",
      "\n"
     ]
    }
   ],
   "source": [
    "# Classification Report\n",
    "print(classification_report(y_test, y_pred))"
   ]
  },
  {
   "cell_type": "markdown",
   "metadata": {},
   "source": [
    "**Import Liver Cancer Dataset**"
   ]
  },
  {
   "cell_type": "code",
   "execution_count": 13,
   "metadata": {},
   "outputs": [
    {
     "data": {
      "text/html": [
       "<div>\n",
       "<style scoped>\n",
       "    .dataframe tbody tr th:only-of-type {\n",
       "        vertical-align: middle;\n",
       "    }\n",
       "\n",
       "    .dataframe tbody tr th {\n",
       "        vertical-align: top;\n",
       "    }\n",
       "\n",
       "    .dataframe thead th {\n",
       "        text-align: right;\n",
       "    }\n",
       "</style>\n",
       "<table border=\"1\" class=\"dataframe\">\n",
       "  <thead>\n",
       "    <tr style=\"text-align: right;\">\n",
       "      <th></th>\n",
       "      <th>age</th>\n",
       "      <th>gender</th>\n",
       "      <th>tot_bilirubin</th>\n",
       "      <th>direct_bilirubin</th>\n",
       "      <th>tot_proteins</th>\n",
       "      <th>albumin</th>\n",
       "      <th>ag_ratio</th>\n",
       "      <th>sgpt</th>\n",
       "      <th>sgot</th>\n",
       "      <th>alkphos</th>\n",
       "      <th>is_patient</th>\n",
       "    </tr>\n",
       "  </thead>\n",
       "  <tbody>\n",
       "    <tr>\n",
       "      <th>0</th>\n",
       "      <td>65</td>\n",
       "      <td>Female</td>\n",
       "      <td>0.7</td>\n",
       "      <td>0.1</td>\n",
       "      <td>187</td>\n",
       "      <td>16</td>\n",
       "      <td>18</td>\n",
       "      <td>6.8</td>\n",
       "      <td>3.3</td>\n",
       "      <td>0.90</td>\n",
       "      <td>1</td>\n",
       "    </tr>\n",
       "    <tr>\n",
       "      <th>100</th>\n",
       "      <td>27</td>\n",
       "      <td>Male</td>\n",
       "      <td>0.6</td>\n",
       "      <td>0.2</td>\n",
       "      <td>161</td>\n",
       "      <td>27</td>\n",
       "      <td>28</td>\n",
       "      <td>3.7</td>\n",
       "      <td>1.6</td>\n",
       "      <td>0.76</td>\n",
       "      <td>2</td>\n",
       "    </tr>\n",
       "    <tr>\n",
       "      <th>200</th>\n",
       "      <td>49</td>\n",
       "      <td>Male</td>\n",
       "      <td>0.6</td>\n",
       "      <td>0.1</td>\n",
       "      <td>218</td>\n",
       "      <td>50</td>\n",
       "      <td>53</td>\n",
       "      <td>5.0</td>\n",
       "      <td>2.4</td>\n",
       "      <td>0.90</td>\n",
       "      <td>1</td>\n",
       "    </tr>\n",
       "    <tr>\n",
       "      <th>300</th>\n",
       "      <td>58</td>\n",
       "      <td>Male</td>\n",
       "      <td>0.8</td>\n",
       "      <td>0.2</td>\n",
       "      <td>180</td>\n",
       "      <td>32</td>\n",
       "      <td>25</td>\n",
       "      <td>8.2</td>\n",
       "      <td>4.4</td>\n",
       "      <td>1.10</td>\n",
       "      <td>2</td>\n",
       "    </tr>\n",
       "    <tr>\n",
       "      <th>400</th>\n",
       "      <td>66</td>\n",
       "      <td>Female</td>\n",
       "      <td>0.7</td>\n",
       "      <td>0.2</td>\n",
       "      <td>162</td>\n",
       "      <td>24</td>\n",
       "      <td>20</td>\n",
       "      <td>6.4</td>\n",
       "      <td>3.2</td>\n",
       "      <td>1.00</td>\n",
       "      <td>2</td>\n",
       "    </tr>\n",
       "    <tr>\n",
       "      <th>500</th>\n",
       "      <td>70</td>\n",
       "      <td>Male</td>\n",
       "      <td>2.7</td>\n",
       "      <td>1.2</td>\n",
       "      <td>365</td>\n",
       "      <td>62</td>\n",
       "      <td>55</td>\n",
       "      <td>6.0</td>\n",
       "      <td>2.4</td>\n",
       "      <td>0.60</td>\n",
       "      <td>1</td>\n",
       "    </tr>\n",
       "  </tbody>\n",
       "</table>\n",
       "</div>"
      ],
      "text/plain": [
       "     age  gender  tot_bilirubin  direct_bilirubin  tot_proteins  albumin  \\\n",
       "0     65  Female            0.7               0.1           187       16   \n",
       "100   27    Male            0.6               0.2           161       27   \n",
       "200   49    Male            0.6               0.1           218       50   \n",
       "300   58    Male            0.8               0.2           180       32   \n",
       "400   66  Female            0.7               0.2           162       24   \n",
       "500   70    Male            2.7               1.2           365       62   \n",
       "\n",
       "     ag_ratio  sgpt  sgot  alkphos  is_patient  \n",
       "0          18   6.8   3.3     0.90           1  \n",
       "100        28   3.7   1.6     0.76           2  \n",
       "200        53   5.0   2.4     0.90           1  \n",
       "300        25   8.2   4.4     1.10           2  \n",
       "400        20   6.4   3.2     1.00           2  \n",
       "500        55   6.0   2.4     0.60           1  "
      ]
     },
     "execution_count": 13,
     "metadata": {},
     "output_type": "execute_result"
    }
   ],
   "source": [
    "liver = pd.read_csv(\"ILPD.csv\")\n",
    "liver[::100]"
   ]
  },
  {
   "cell_type": "code",
   "execution_count": 14,
   "metadata": {},
   "outputs": [],
   "source": [
    "# Create Dummy Variables\n",
    "liver = pd.get_dummies(liver)"
   ]
  },
  {
   "cell_type": "code",
   "execution_count": 15,
   "metadata": {},
   "outputs": [],
   "source": [
    "# Drop Null Values\n",
    "liver = liver.dropna()"
   ]
  },
  {
   "cell_type": "code",
   "execution_count": 16,
   "metadata": {},
   "outputs": [],
   "source": [
    "# Features\n",
    "X = liver[liver.columns.drop(\"is_patient\")]\n",
    "\n",
    "# Target\n",
    "y = liver[\"is_patient\"]"
   ]
  },
  {
   "cell_type": "markdown",
   "metadata": {},
   "source": [
    "**Find Best Parameters**"
   ]
  },
  {
   "cell_type": "code",
   "execution_count": 17,
   "metadata": {},
   "outputs": [
    {
     "name": "stdout",
     "output_type": "stream",
     "text": [
      "Best CV Parameters = {'criterion': 'gini', 'max_depth': 1, 'min_samples_leaf': 0.009174311926605505}\n",
      "Best CV Accuracy = 0.7135802469135802\n"
     ]
    }
   ],
   "source": [
    "# Split Data into train and test\n",
    "x_train, x_test, y_train, y_test = train_test_split(X,\n",
    "                                                    y,\n",
    "                                                    test_size = 0.3,\n",
    "                                                    random_state = 5)\n",
    "\n",
    "# Decision Tree Classification Object\n",
    "dt = DecisionTreeClassifier(random_state = 21)\n",
    "\n",
    "# Parameters\n",
    "parameters = {\"criterion\": [\"gini\", \"entropy\"],\n",
    "              \"max_depth\": np.arange(1, 10),\n",
    "              \"min_samples_leaf\": np.linspace(0, 1, 110)}\n",
    "\n",
    "# Grid Search Cross Validation Object\n",
    "cv = GridSearchCV(dt, parameters, cv = 3)\n",
    "\n",
    "# Put Training Data into Model \n",
    "cv.fit(x_train, y_train)\n",
    "\n",
    "# Best Parameters and Accuracy \n",
    "print(\"Best CV Parameters =\", cv.best_params_)\n",
    "print(\"Best CV Accuracy =\", cv.best_score_)"
   ]
  },
  {
   "cell_type": "code",
   "execution_count": 18,
   "metadata": {},
   "outputs": [
    {
     "name": "stdout",
     "output_type": "stream",
     "text": [
      "Accuracy Score of Model = 0.6896551724137931\n"
     ]
    }
   ],
   "source": [
    "# Decision Tree Classification Object\n",
    "dt = DecisionTreeClassifier(criterion = \"gini\",\n",
    "                            max_depth = 1,\n",
    "                            min_samples_leaf = 0.009)\n",
    "\n",
    "# Instactiate Adaboost Classifier\n",
    "adb_clf = AdaBoostClassifier(base_estimator = dt,\n",
    "                             n_estimators = 100)\n",
    "\n",
    "# Fit Training Data\n",
    "adb_clf.fit(x_train, y_train)\n",
    "\n",
    "# Prediction\n",
    "y_pred = adb_clf.predict(x_test)\n",
    "\n",
    "# Accuracy\n",
    "score = accuracy_score(y_test, y_pred)\n",
    "print(\"Accuracy Score of Model =\", score)"
   ]
  },
  {
   "cell_type": "code",
   "execution_count": 19,
   "metadata": {},
   "outputs": [
    {
     "data": {
      "image/png": "[encoded data removed]",
      "text/plain": [
       "<Figure size 1368x504 with 1 Axes>"
      ]
     },
     "metadata": {
      "needs_background": "light"
     },
     "output_type": "display_data"
    }
   ],
   "source": [
    "plt.figure(figsize = (19, 7))\n",
    "sns.kdeplot(x = y_test, label = \"Actual\", linewidth = 3, color = \"yellow\")\n",
    "sns.kdeplot(y_pred, label = \"Predicted\", linewidth = 3, color = \"orange\")\n",
    "plt.xlabel(\"Outcome\", size = 15)\n",
    "plt.ylabel(\"Density\", size = 15)\n",
    "plt.legend()\n",
    "plt.show()"
   ]
  },
  {
   "cell_type": "code",
   "execution_count": 20,
   "metadata": {},
   "outputs": [
    {
     "name": "stdout",
     "output_type": "stream",
     "text": [
      "[[100  25]\n",
      " [ 29  20]]\n"
     ]
    }
   ],
   "source": [
    "# Confusion Matrix\n",
    "print(confusion_matrix(y_test, y_pred))"
   ]
  },
  {
   "cell_type": "code",
   "execution_count": 21,
   "metadata": {},
   "outputs": [
    {
     "name": "stdout",
     "output_type": "stream",
     "text": [
      "              precision    recall  f1-score   support\n",
      "\n",
      "           1       0.78      0.80      0.79       125\n",
      "           2       0.44      0.41      0.43        49\n",
      "\n",
      "    accuracy                           0.69       174\n",
      "   macro avg       0.61      0.60      0.61       174\n",
      "weighted avg       0.68      0.69      0.69       174\n",
      "\n"
     ]
    }
   ],
   "source": [
    "# Classification Report\n",
    "print(classification_report(y_test, y_pred))"
   ]
  },
  {
   "cell_type": "markdown",
   "metadata": {},
   "source": [
    "# Gradient Boosting"
   ]
  },
  {
   "cell_type": "markdown",
   "metadata": {},
   "source": [
    "**Import Auto Dataset**"
   ]
  },
  {
   "cell_type": "code",
   "execution_count": 36,
   "metadata": {},
   "outputs": [
    {
     "data": {
      "text/html": [
       "<div>\n",
       "<style scoped>\n",
       "    .dataframe tbody tr th:only-of-type {\n",
       "        vertical-align: middle;\n",
       "    }\n",
       "\n",
       "    .dataframe tbody tr th {\n",
       "        vertical-align: top;\n",
       "    }\n",
       "\n",
       "    .dataframe thead th {\n",
       "        text-align: right;\n",
       "    }\n",
       "</style>\n",
       "<table border=\"1\" class=\"dataframe\">\n",
       "  <thead>\n",
       "    <tr style=\"text-align: right;\">\n",
       "      <th></th>\n",
       "      <th>mpg</th>\n",
       "      <th>displ</th>\n",
       "      <th>hp</th>\n",
       "      <th>weight</th>\n",
       "      <th>accel</th>\n",
       "      <th>origin</th>\n",
       "      <th>size</th>\n",
       "    </tr>\n",
       "  </thead>\n",
       "  <tbody>\n",
       "    <tr>\n",
       "      <th>0</th>\n",
       "      <td>18.0</td>\n",
       "      <td>250.0</td>\n",
       "      <td>88</td>\n",
       "      <td>3139</td>\n",
       "      <td>14.5</td>\n",
       "      <td>US</td>\n",
       "      <td>15.0</td>\n",
       "    </tr>\n",
       "    <tr>\n",
       "      <th>50</th>\n",
       "      <td>12.0</td>\n",
       "      <td>383.0</td>\n",
       "      <td>180</td>\n",
       "      <td>4955</td>\n",
       "      <td>11.5</td>\n",
       "      <td>US</td>\n",
       "      <td>20.0</td>\n",
       "    </tr>\n",
       "    <tr>\n",
       "      <th>100</th>\n",
       "      <td>20.0</td>\n",
       "      <td>130.0</td>\n",
       "      <td>102</td>\n",
       "      <td>3150</td>\n",
       "      <td>15.7</td>\n",
       "      <td>Europe</td>\n",
       "      <td>10.0</td>\n",
       "    </tr>\n",
       "    <tr>\n",
       "      <th>150</th>\n",
       "      <td>13.0</td>\n",
       "      <td>350.0</td>\n",
       "      <td>165</td>\n",
       "      <td>4274</td>\n",
       "      <td>12.0</td>\n",
       "      <td>US</td>\n",
       "      <td>20.0</td>\n",
       "    </tr>\n",
       "    <tr>\n",
       "      <th>200</th>\n",
       "      <td>19.0</td>\n",
       "      <td>232.0</td>\n",
       "      <td>90</td>\n",
       "      <td>3211</td>\n",
       "      <td>17.0</td>\n",
       "      <td>US</td>\n",
       "      <td>15.0</td>\n",
       "    </tr>\n",
       "    <tr>\n",
       "      <th>250</th>\n",
       "      <td>20.0</td>\n",
       "      <td>198.0</td>\n",
       "      <td>95</td>\n",
       "      <td>3102</td>\n",
       "      <td>16.5</td>\n",
       "      <td>US</td>\n",
       "      <td>15.0</td>\n",
       "    </tr>\n",
       "    <tr>\n",
       "      <th>300</th>\n",
       "      <td>18.0</td>\n",
       "      <td>121.0</td>\n",
       "      <td>112</td>\n",
       "      <td>2933</td>\n",
       "      <td>14.5</td>\n",
       "      <td>Europe</td>\n",
       "      <td>10.0</td>\n",
       "    </tr>\n",
       "    <tr>\n",
       "      <th>350</th>\n",
       "      <td>13.0</td>\n",
       "      <td>302.0</td>\n",
       "      <td>130</td>\n",
       "      <td>3870</td>\n",
       "      <td>15.0</td>\n",
       "      <td>US</td>\n",
       "      <td>20.0</td>\n",
       "    </tr>\n",
       "  </tbody>\n",
       "</table>\n",
       "</div>"
      ],
      "text/plain": [
       "      mpg  displ   hp  weight  accel  origin  size\n",
       "0    18.0  250.0   88    3139   14.5      US  15.0\n",
       "50   12.0  383.0  180    4955   11.5      US  20.0\n",
       "100  20.0  130.0  102    3150   15.7  Europe  10.0\n",
       "150  13.0  350.0  165    4274   12.0      US  20.0\n",
       "200  19.0  232.0   90    3211   17.0      US  15.0\n",
       "250  20.0  198.0   95    3102   16.5      US  15.0\n",
       "300  18.0  121.0  112    2933   14.5  Europe  10.0\n",
       "350  13.0  302.0  130    3870   15.0      US  20.0"
      ]
     },
     "execution_count": 36,
     "metadata": {},
     "output_type": "execute_result"
    }
   ],
   "source": [
    "auto = pd.read_csv(\"auto.csv\")\n",
    "auto[::50]"
   ]
  },
  {
   "cell_type": "code",
   "execution_count": 37,
   "metadata": {},
   "outputs": [],
   "source": [
    "# Instantiate Dummy Variables\n",
    "auto = pd.get_dummies(auto)"
   ]
  },
  {
   "cell_type": "code",
   "execution_count": 38,
   "metadata": {},
   "outputs": [],
   "source": [
    "# Features\n",
    "X = auto[auto.columns.drop(\"size\")]\n",
    "\n",
    "# Target\n",
    "y = auto[\"size\"]"
   ]
  },
  {
   "cell_type": "code",
   "execution_count": 39,
   "metadata": {},
   "outputs": [
    {
     "name": "stdout",
     "output_type": "stream",
     "text": [
      "Best Parameters = {'max_depth': 9, 'n_estimators': 44}\n",
      "Best Accuracy = 0.9612271581514481\n"
     ]
    }
   ],
   "source": [
    "# Split Data into Train and Test Set\n",
    "x_train, x_test, y_train, y_test = train_test_split(X,\n",
    "                                                    y,\n",
    "                                                    test_size = 0.3,\n",
    "                                                    random_state = 1)\n",
    "\n",
    "# Instantiate a Gradient Boosting Regressor object\n",
    "gbr = GradientBoostingRegressor()\n",
    "\n",
    "# Parameters Range\n",
    "parameters = {\"n_estimators\": np.arange(1, 50),\n",
    "              \"max_depth\": np.arange(1, 10)}\n",
    "\n",
    "# Grid Search Cross Validation\n",
    "cv = GridSearchCV(gbr, parameters, cv = 3)\n",
    "\n",
    "# Fit cv to training set\n",
    "cv.fit(x_train, y_train)\n",
    "\n",
    "# Best Parameters and Accuracy\n",
    "print(\"Best Parameters =\", cv.best_params_)\n",
    "print(\"Best Accuracy =\", cv.best_score_)"
   ]
  },
  {
   "cell_type": "code",
   "execution_count": 40,
   "metadata": {},
   "outputs": [
    {
     "name": "stdout",
     "output_type": "stream",
     "text": [
      "Test Set RMSE = 0.9020812835809389\n"
     ]
    }
   ],
   "source": [
    "# Instantiate a Gradient Boosting Regressor object\n",
    "gbr = GradientBoostingRegressor(max_depth = 9, n_estimators = 44)\n",
    "\n",
    "# Fit Training Data\n",
    "gbr.fit(x_train, y_train)\n",
    "\n",
    "# Predict Test Set Labels\n",
    "y_pred = gbr.predict(x_test)\n",
    "\n",
    "# Evaluate test set RMSE\n",
    "rmse_test = MSE(y_test, y_pred)**(1/2)\n",
    "\n",
    "# Print Result\n",
    "print(\"Test Set RMSE =\", rmse_test)"
   ]
  },
  {
   "cell_type": "code",
   "execution_count": 41,
   "metadata": {},
   "outputs": [
    {
     "data": {
      "image/png": "[encoded data removed]",
      "text/plain": [
       "<Figure size 1368x504 with 1 Axes>"
      ]
     },
     "metadata": {
      "needs_background": "light"
     },
     "output_type": "display_data"
    }
   ],
   "source": [
    "plt.figure(figsize = (19, 7))\n",
    "sns.kdeplot(x = y_test, label = \"Actual\", linewidth = 3, color = \"pink\")\n",
    "sns.kdeplot(y_pred, label = \"Predicted\", linewidth = 3, color = \"red\")\n",
    "plt.xlabel(\"Outcome\", size = 15)\n",
    "plt.ylabel(\"Density\", size = 15)\n",
    "plt.legend()\n",
    "plt.show()"
   ]
  },
  {
   "cell_type": "markdown",
   "metadata": {},
   "source": [
    "# Stochastic Gradient Boosting"
   ]
  },
  {
   "cell_type": "code",
   "execution_count": 49,
   "metadata": {},
   "outputs": [
    {
     "name": "stdout",
     "output_type": "stream",
     "text": [
      "RMSE = 1.0304658325355134\n"
     ]
    }
   ],
   "source": [
    "# Stochastic Gradient Boosting Object\n",
    "sgbt = GradientBoostingRegressor(max_depth = 1,\n",
    "                                 subsample = 0.8,\n",
    "                                 max_features = 0.2,\n",
    "                                 n_estimators = 300,\n",
    "                                 random_state = 1)\n",
    "\n",
    "# Fit Training Data into Model\n",
    "sgbt.fit(x_train, y_train)\n",
    "\n",
    "# Prediction\n",
    "y_pred = sgbt.predict(x_test)\n",
    "\n",
    "# Evaluate Test Set RMSE\n",
    "rmse_test = MSE(y_test, y_pred)**(1/2)\n",
    "\n",
    "# Print Score\n",
    "print(\"RMSE =\", rmse_test)"
   ]
  },
  {
   "cell_type": "code",
   "execution_count": 50,
   "metadata": {},
   "outputs": [
    {
     "data": {
      "image/png": "[encoded data removed]",
      "text/plain": [
       "<Figure size 1368x504 with 1 Axes>"
      ]
     },
     "metadata": {
      "needs_background": "light"
     },
     "output_type": "display_data"
    }
   ],
   "source": [
    "plt.figure(figsize = (19, 7))\n",
    "sns.kdeplot(x = y_test, label = \"Actual\", linewidth = 3, color = \"lightgreen\")\n",
    "sns.kdeplot(y_pred, label = \"Predicted\", linewidth = 3, color = \"green\")\n",
    "plt.xlabel(\"Outcome\", size = 15)\n",
    "plt.ylabel(\"Density\", size = 15)\n",
    "plt.legend()\n",
    "plt.show()"
   ]
  },
  {
   "cell_type": "code",
   "execution_count": null,
   "metadata": {},
   "outputs": [],
   "source": []
  }
 ],
 "metadata": {
  "kernelspec": {
   "display_name": "Python 3",
   "language": "python",
   "name": "python3"
  },
  "language_info": {
   "codemirror_mode": {
    "name": "ipython",
    "version": 3
   },
   "file_extension": ".py",
   "mimetype": "text/x-python",
   "name": "python",
   "nbconvert_exporter": "python",
   "pygments_lexer": "ipython3",
   "version": "3.8.5"
  }
 },
 "nbformat": 4,
 "nbformat_minor": 4
}
