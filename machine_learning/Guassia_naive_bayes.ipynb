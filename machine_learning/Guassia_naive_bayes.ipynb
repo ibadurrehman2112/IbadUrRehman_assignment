{
 "cells": [
  {
   "cell_type": "markdown",
   "metadata": {},
   "source": [
    "### Gaussian Naive Bayes"
   ]
  },
  {
   "cell_type": "code",
   "execution_count": 1,
   "metadata": {},
   "outputs": [
    {
     "name": "stdout",
     "output_type": "stream",
     "text": [
      "Number of mislabeled points out of a total %d points : %d\n"
     ]
    }
   ],
   "source": [
    "from sklearn.datasets import load_iris\n",
    "from sklearn.model_selection import train_test_split\n",
    "from sklearn.naive_bayes import GaussianNB\n",
    "X, y = load_iris(return_X_y=True)\n",
    "X_train, X_test, y_train, y_test = train_test_split(X, y, test_size=0.5, random_state=0)\n",
    "gnb = GaussianNB()\n",
    "y_pred = gnb.fit(X_train, y_train).predict(X_test)\n",
    "print(\"Number of mislabeled points out of a total %d points : %d\")"
   ]
  },
  {
   "cell_type": "markdown",
   "metadata": {},
   "source": [
    "### Classification\n",
    "DecisionTreeClassifier is a class capable of performing multi-class classification on a dataset.\n",
    "\n",
    "As with other classifiers, DecisionTreeClassifier takes as input two arrays: an array X, sparse or dense, of shape (n_samples, n_features) holding the training samples, and an array Y of integer values, shape (n_samples,), holding the class labels for the training samples:"
   ]
  },
  {
   "cell_type": "code",
   "execution_count": 2,
   "metadata": {},
   "outputs": [],
   "source": [
    "from sklearn import tree\n",
    "X = [[0, 0], [1, 1]]\n",
    "Y = [0, 1]\n",
    "clf = tree.DecisionTreeClassifier()\n",
    "clf = clf.fit(X, Y)"
   ]
  },
  {
   "cell_type": "markdown",
   "metadata": {},
   "source": [
    "- After being fitted, the model can then be used to predict the class of samples:"
   ]
  },
  {
   "cell_type": "code",
   "execution_count": 3,
   "metadata": {},
   "outputs": [
    {
     "data": {
      "text/plain": [
       "array([1])"
      ]
     },
     "execution_count": 3,
     "metadata": {},
     "output_type": "execute_result"
    }
   ],
   "source": [
    "clf.predict([[2., 2.]])\n"
   ]
  },
  {
   "cell_type": "markdown",
   "metadata": {},
   "source": [
    "In case that there are multiple classes with the same and highest probability, the classifier will predict the class with the lowest index amongst those classes.\n",
    "\n",
    "As an alternative to outputting a specific class, the probability of each class can be predicted, which is the fraction of training samples of the class in a leaf:"
   ]
  },
  {
   "cell_type": "code",
   "execution_count": 4,
   "metadata": {},
   "outputs": [
    {
     "data": {
      "text/plain": [
       "array([[0., 1.]])"
      ]
     },
     "execution_count": 4,
     "metadata": {},
     "output_type": "execute_result"
    }
   ],
   "source": [
    "clf.predict_proba([[2., 2.]])"
   ]
  },
  {
   "cell_type": "markdown",
   "metadata": {},
   "source": [
    "- DecisionTreeClassifier is capable of both binary (where the labels are [-1, 1]) classification and multiclass (where the labels are [0, …, K-1]) classification.\n",
    "\n",
    "- Using the Iris dataset, we can construct a tree as follows:"
   ]
  },
  {
   "cell_type": "code",
   "execution_count": 5,
   "metadata": {},
   "outputs": [],
   "source": [
    "from sklearn.datasets import load_iris\n",
    "from sklearn import tree\n",
    "iris = load_iris()\n",
    "X, y = iris.data, iris.target\n",
    "clf = tree.DecisionTreeClassifier()\n",
    "clf = clf.fit(X, y)"
   ]
  },
  {
   "cell_type": "code",
   "execution_count": 6,
   "metadata": {},
   "outputs": [
    {
     "data": {
      "text/plain": [
       "[Text(0.5, 0.9166666666666666, 'X[3] <= 0.8\\ngini = 0.667\\nsamples = 150\\nvalue = [50, 50, 50]'),\n",
       " Text(0.4230769230769231, 0.75, 'gini = 0.0\\nsamples = 50\\nvalue = [50, 0, 0]'),\n",
       " Text(0.5769230769230769, 0.75, 'X[3] <= 1.75\\ngini = 0.5\\nsamples = 100\\nvalue = [0, 50, 50]'),\n",
       " Text(0.3076923076923077, 0.5833333333333334, 'X[2] <= 4.95\\ngini = 0.168\\nsamples = 54\\nvalue = [0, 49, 5]'),\n",
       " Text(0.15384615384615385, 0.4166666666666667, 'X[3] <= 1.65\\ngini = 0.041\\nsamples = 48\\nvalue = [0, 47, 1]'),\n",
       " Text(0.07692307692307693, 0.25, 'gini = 0.0\\nsamples = 47\\nvalue = [0, 47, 0]'),\n",
       " Text(0.23076923076923078, 0.25, 'gini = 0.0\\nsamples = 1\\nvalue = [0, 0, 1]'),\n",
       " Text(0.46153846153846156, 0.4166666666666667, 'X[3] <= 1.55\\ngini = 0.444\\nsamples = 6\\nvalue = [0, 2, 4]'),\n",
       " Text(0.38461538461538464, 0.25, 'gini = 0.0\\nsamples = 3\\nvalue = [0, 0, 3]'),\n",
       " Text(0.5384615384615384, 0.25, 'X[2] <= 5.45\\ngini = 0.444\\nsamples = 3\\nvalue = [0, 2, 1]'),\n",
       " Text(0.46153846153846156, 0.08333333333333333, 'gini = 0.0\\nsamples = 2\\nvalue = [0, 2, 0]'),\n",
       " Text(0.6153846153846154, 0.08333333333333333, 'gini = 0.0\\nsamples = 1\\nvalue = [0, 0, 1]'),\n",
       " Text(0.8461538461538461, 0.5833333333333334, 'X[2] <= 4.85\\ngini = 0.043\\nsamples = 46\\nvalue = [0, 1, 45]'),\n",
       " Text(0.7692307692307693, 0.4166666666666667, 'X[0] <= 5.95\\ngini = 0.444\\nsamples = 3\\nvalue = [0, 1, 2]'),\n",
       " Text(0.6923076923076923, 0.25, 'gini = 0.0\\nsamples = 1\\nvalue = [0, 1, 0]'),\n",
       " Text(0.8461538461538461, 0.25, 'gini = 0.0\\nsamples = 2\\nvalue = [0, 0, 2]'),\n",
       " Text(0.9230769230769231, 0.4166666666666667, 'gini = 0.0\\nsamples = 43\\nvalue = [0, 0, 43]')]"
      ]
     },
     "execution_count": 6,
     "metadata": {},
     "output_type": "execute_result"
    },
    {
     "data": {
      "image/png": "[encoded data removed]",
      "text/plain": [
       "<Figure size 432x288 with 1 Axes>"
      ]
     },
     "metadata": {
      "needs_background": "light"
     },
     "output_type": "display_data"
    }
   ],
   "source": [
    "tree.plot_tree(clf)"
   ]
  },
  {
   "cell_type": "code",
   "execution_count": 7,
   "metadata": {},
   "outputs": [],
   "source": [
    "# conda install python-graphviz"
   ]
  },
  {
   "cell_type": "markdown",
   "metadata": {},
   "source": [
    "We can also export the tree in Graphviz format using the export_graphviz exporter. If you use the conda package manager, the graphviz binaries and the python package can be installed with conda install python-graphviz.\n",
    "\n",
    "Alternatively binaries for graphviz can be downloaded from the graphviz project homepage, and the Python wrapper installed from pypi with pip install graphviz.\n",
    "\n",
    "Below is an example graphviz export of the above tree trained on the entire iris dataset; the results are saved in an output file iris.pdf:"
   ]
  },
  {
   "cell_type": "code",
   "execution_count": 8,
   "metadata": {},
   "outputs": [
    {
     "ename": "ExecutableNotFound",
     "evalue": "failed to execute PosixPath('dot'), make sure the Graphviz executables are on your systems' PATH",
     "output_type": "error",
     "traceback": [
      "\u001b[0;31m---------------------------------------------------------------------------\u001b[0m",
      "\u001b[0;31mFileNotFoundError\u001b[0m                         Traceback (most recent call last)",
      "File \u001b[0;32m~/anaconda3/lib/python3.9/site-packages/graphviz/backend/execute.py:85\u001b[0m, in \u001b[0;36mrun_check\u001b[0;34m(cmd, input_lines, encoding, capture_output, quiet, **kwargs)\u001b[0m\n\u001b[1;32m     <a href='file:///home/ibadhep/anaconda3/lib/python3.9/site-packages/graphviz/backend/execute.py?line=83'>84</a>\u001b[0m     \u001b[39melse\u001b[39;00m:\n\u001b[0;32m---> <a href='file:///home/ibadhep/anaconda3/lib/python3.9/site-packages/graphviz/backend/execute.py?line=84'>85</a>\u001b[0m         proc \u001b[39m=\u001b[39m subprocess\u001b[39m.\u001b[39;49mrun(cmd, \u001b[39m*\u001b[39;49m\u001b[39m*\u001b[39;49mkwargs)\n\u001b[1;32m     <a href='file:///home/ibadhep/anaconda3/lib/python3.9/site-packages/graphviz/backend/execute.py?line=85'>86</a>\u001b[0m \u001b[39mexcept\u001b[39;00m \u001b[39mOSError\u001b[39;00m \u001b[39mas\u001b[39;00m e:\n",
      "File \u001b[0;32m~/anaconda3/lib/python3.9/subprocess.py:505\u001b[0m, in \u001b[0;36mrun\u001b[0;34m(input, capture_output, timeout, check, *popenargs, **kwargs)\u001b[0m\n\u001b[1;32m    <a href='file:///home/ibadhep/anaconda3/lib/python3.9/subprocess.py?line=502'>503</a>\u001b[0m     kwargs[\u001b[39m'\u001b[39m\u001b[39mstderr\u001b[39m\u001b[39m'\u001b[39m] \u001b[39m=\u001b[39m PIPE\n\u001b[0;32m--> <a href='file:///home/ibadhep/anaconda3/lib/python3.9/subprocess.py?line=504'>505</a>\u001b[0m \u001b[39mwith\u001b[39;00m Popen(\u001b[39m*\u001b[39;49mpopenargs, \u001b[39m*\u001b[39;49m\u001b[39m*\u001b[39;49mkwargs) \u001b[39mas\u001b[39;00m process:\n\u001b[1;32m    <a href='file:///home/ibadhep/anaconda3/lib/python3.9/subprocess.py?line=505'>506</a>\u001b[0m     \u001b[39mtry\u001b[39;00m:\n",
      "File \u001b[0;32m~/anaconda3/lib/python3.9/subprocess.py:951\u001b[0m, in \u001b[0;36mPopen.__init__\u001b[0;34m(self, args, bufsize, executable, stdin, stdout, stderr, preexec_fn, close_fds, shell, cwd, env, universal_newlines, startupinfo, creationflags, restore_signals, start_new_session, pass_fds, user, group, extra_groups, encoding, errors, text, umask)\u001b[0m\n\u001b[1;32m    <a href='file:///home/ibadhep/anaconda3/lib/python3.9/subprocess.py?line=947'>948</a>\u001b[0m             \u001b[39mself\u001b[39m\u001b[39m.\u001b[39mstderr \u001b[39m=\u001b[39m io\u001b[39m.\u001b[39mTextIOWrapper(\u001b[39mself\u001b[39m\u001b[39m.\u001b[39mstderr,\n\u001b[1;32m    <a href='file:///home/ibadhep/anaconda3/lib/python3.9/subprocess.py?line=948'>949</a>\u001b[0m                     encoding\u001b[39m=\u001b[39mencoding, errors\u001b[39m=\u001b[39merrors)\n\u001b[0;32m--> <a href='file:///home/ibadhep/anaconda3/lib/python3.9/subprocess.py?line=950'>951</a>\u001b[0m     \u001b[39mself\u001b[39;49m\u001b[39m.\u001b[39;49m_execute_child(args, executable, preexec_fn, close_fds,\n\u001b[1;32m    <a href='file:///home/ibadhep/anaconda3/lib/python3.9/subprocess.py?line=951'>952</a>\u001b[0m                         pass_fds, cwd, env,\n\u001b[1;32m    <a href='file:///home/ibadhep/anaconda3/lib/python3.9/subprocess.py?line=952'>953</a>\u001b[0m                         startupinfo, creationflags, shell,\n\u001b[1;32m    <a href='file:///home/ibadhep/anaconda3/lib/python3.9/subprocess.py?line=953'>954</a>\u001b[0m                         p2cread, p2cwrite,\n\u001b[1;32m    <a href='file:///home/ibadhep/anaconda3/lib/python3.9/subprocess.py?line=954'>955</a>\u001b[0m                         c2pread, c2pwrite,\n\u001b[1;32m    <a href='file:///home/ibadhep/anaconda3/lib/python3.9/subprocess.py?line=955'>956</a>\u001b[0m                         errread, errwrite,\n\u001b[1;32m    <a href='file:///home/ibadhep/anaconda3/lib/python3.9/subprocess.py?line=956'>957</a>\u001b[0m                         restore_signals,\n\u001b[1;32m    <a href='file:///home/ibadhep/anaconda3/lib/python3.9/subprocess.py?line=957'>958</a>\u001b[0m                         gid, gids, uid, umask,\n\u001b[1;32m    <a href='file:///home/ibadhep/anaconda3/lib/python3.9/subprocess.py?line=958'>959</a>\u001b[0m                         start_new_session)\n\u001b[1;32m    <a href='file:///home/ibadhep/anaconda3/lib/python3.9/subprocess.py?line=959'>960</a>\u001b[0m \u001b[39mexcept\u001b[39;00m:\n\u001b[1;32m    <a href='file:///home/ibadhep/anaconda3/lib/python3.9/subprocess.py?line=960'>961</a>\u001b[0m     \u001b[39m# Cleanup if the child failed starting.\u001b[39;00m\n",
      "File \u001b[0;32m~/anaconda3/lib/python3.9/subprocess.py:1821\u001b[0m, in \u001b[0;36mPopen._execute_child\u001b[0;34m(self, args, executable, preexec_fn, close_fds, pass_fds, cwd, env, startupinfo, creationflags, shell, p2cread, p2cwrite, c2pread, c2pwrite, errread, errwrite, restore_signals, gid, gids, uid, umask, start_new_session)\u001b[0m\n\u001b[1;32m   <a href='file:///home/ibadhep/anaconda3/lib/python3.9/subprocess.py?line=1819'>1820</a>\u001b[0m         err_msg \u001b[39m=\u001b[39m os\u001b[39m.\u001b[39mstrerror(errno_num)\n\u001b[0;32m-> <a href='file:///home/ibadhep/anaconda3/lib/python3.9/subprocess.py?line=1820'>1821</a>\u001b[0m     \u001b[39mraise\u001b[39;00m child_exception_type(errno_num, err_msg, err_filename)\n\u001b[1;32m   <a href='file:///home/ibadhep/anaconda3/lib/python3.9/subprocess.py?line=1821'>1822</a>\u001b[0m \u001b[39mraise\u001b[39;00m child_exception_type(err_msg)\n",
      "\u001b[0;31mFileNotFoundError\u001b[0m: [Errno 2] No such file or directory: PosixPath('dot')",
      "\nThe above exception was the direct cause of the following exception:\n",
      "\u001b[0;31mExecutableNotFound\u001b[0m                        Traceback (most recent call last)",
      "\u001b[1;32m/home/ibadhep/Desktop/github_assignment/machine_learning/Guassia_naive_bayes.ipynb Cell 14'\u001b[0m in \u001b[0;36m<cell line: 4>\u001b[0;34m()\u001b[0m\n\u001b[1;32m      <a href='vscode-notebook-cell:/home/ibadhep/Desktop/github_assignment/machine_learning/Guassia_naive_bayes.ipynb#ch0000013?line=1'>2</a>\u001b[0m dot_data \u001b[39m=\u001b[39m tree\u001b[39m.\u001b[39mexport_graphviz(clf, out_file\u001b[39m=\u001b[39m\u001b[39mNone\u001b[39;00m) \n\u001b[1;32m      <a href='vscode-notebook-cell:/home/ibadhep/Desktop/github_assignment/machine_learning/Guassia_naive_bayes.ipynb#ch0000013?line=2'>3</a>\u001b[0m graph \u001b[39m=\u001b[39m graphviz\u001b[39m.\u001b[39mSource(dot_data) \n\u001b[0;32m----> <a href='vscode-notebook-cell:/home/ibadhep/Desktop/github_assignment/machine_learning/Guassia_naive_bayes.ipynb#ch0000013?line=3'>4</a>\u001b[0m graph\u001b[39m.\u001b[39;49mrender(\u001b[39m\"\u001b[39;49m\u001b[39miris\u001b[39;49m\u001b[39m\"\u001b[39;49m)\n",
      "File \u001b[0;32m~/anaconda3/lib/python3.9/site-packages/graphviz/_tools.py:172\u001b[0m, in \u001b[0;36mdeprecate_positional_args.<locals>.decorator.<locals>.wrapper\u001b[0;34m(*args, **kwargs)\u001b[0m\n\u001b[1;32m    <a href='file:///home/ibadhep/anaconda3/lib/python3.9/site-packages/graphviz/_tools.py?line=162'>163</a>\u001b[0m     wanted \u001b[39m=\u001b[39m \u001b[39m'\u001b[39m\u001b[39m, \u001b[39m\u001b[39m'\u001b[39m\u001b[39m.\u001b[39mjoin(\u001b[39mf\u001b[39m\u001b[39m'\u001b[39m\u001b[39m{\u001b[39;00mname\u001b[39m}\u001b[39;00m\u001b[39m=\u001b[39m\u001b[39m{\u001b[39;00mvalue\u001b[39m!r}\u001b[39;00m\u001b[39m'\u001b[39m\n\u001b[1;32m    <a href='file:///home/ibadhep/anaconda3/lib/python3.9/site-packages/graphviz/_tools.py?line=163'>164</a>\u001b[0m                        \u001b[39mfor\u001b[39;00m name, value \u001b[39min\u001b[39;00m deprecated\u001b[39m.\u001b[39mitems())\n\u001b[1;32m    <a href='file:///home/ibadhep/anaconda3/lib/python3.9/site-packages/graphviz/_tools.py?line=164'>165</a>\u001b[0m     warnings\u001b[39m.\u001b[39mwarn(\u001b[39mf\u001b[39m\u001b[39m'\u001b[39m\u001b[39mThe signature of \u001b[39m\u001b[39m{\u001b[39;00mfunc\u001b[39m.\u001b[39m\u001b[39m__name__\u001b[39m\u001b[39m}\u001b[39;00m\u001b[39m will be reduced\u001b[39m\u001b[39m'\u001b[39m\n\u001b[1;32m    <a href='file:///home/ibadhep/anaconda3/lib/python3.9/site-packages/graphviz/_tools.py?line=165'>166</a>\u001b[0m                   \u001b[39mf\u001b[39m\u001b[39m'\u001b[39m\u001b[39m to \u001b[39m\u001b[39m{\u001b[39;00msupported_number\u001b[39m}\u001b[39;00m\u001b[39m positional args\u001b[39m\u001b[39m'\u001b[39m\n\u001b[1;32m    <a href='file:///home/ibadhep/anaconda3/lib/python3.9/site-packages/graphviz/_tools.py?line=166'>167</a>\u001b[0m                   \u001b[39mf\u001b[39m\u001b[39m'\u001b[39m\u001b[39m \u001b[39m\u001b[39m{\u001b[39;00m\u001b[39mlist\u001b[39m(supported)\u001b[39m}\u001b[39;00m\u001b[39m: pass \u001b[39m\u001b[39m{\u001b[39;00mwanted\u001b[39m}\u001b[39;00m\u001b[39m'\u001b[39m\n\u001b[1;32m    <a href='file:///home/ibadhep/anaconda3/lib/python3.9/site-packages/graphviz/_tools.py?line=167'>168</a>\u001b[0m                   \u001b[39m'\u001b[39m\u001b[39m as keyword arg(s)\u001b[39m\u001b[39m'\u001b[39m,\n\u001b[1;32m    <a href='file:///home/ibadhep/anaconda3/lib/python3.9/site-packages/graphviz/_tools.py?line=168'>169</a>\u001b[0m                   stacklevel\u001b[39m=\u001b[39mstacklevel,\n\u001b[1;32m    <a href='file:///home/ibadhep/anaconda3/lib/python3.9/site-packages/graphviz/_tools.py?line=169'>170</a>\u001b[0m                   category\u001b[39m=\u001b[39mcategory)\n\u001b[0;32m--> <a href='file:///home/ibadhep/anaconda3/lib/python3.9/site-packages/graphviz/_tools.py?line=171'>172</a>\u001b[0m \u001b[39mreturn\u001b[39;00m func(\u001b[39m*\u001b[39;49margs, \u001b[39m*\u001b[39;49m\u001b[39m*\u001b[39;49mkwargs)\n",
      "File \u001b[0;32m~/anaconda3/lib/python3.9/site-packages/graphviz/rendering.py:119\u001b[0m, in \u001b[0;36mRender.render\u001b[0;34m(self, filename, directory, view, cleanup, format, renderer, formatter, quiet, quiet_view, outfile, engine, raise_if_result_exists, overwrite_source)\u001b[0m\n\u001b[1;32m    <a href='file:///home/ibadhep/anaconda3/lib/python3.9/site-packages/graphviz/rendering.py?line=114'>115</a>\u001b[0m filepath \u001b[39m=\u001b[39m \u001b[39mself\u001b[39m\u001b[39m.\u001b[39msave(filename, directory\u001b[39m=\u001b[39mdirectory, skip_existing\u001b[39m=\u001b[39m\u001b[39mNone\u001b[39;00m)\n\u001b[1;32m    <a href='file:///home/ibadhep/anaconda3/lib/python3.9/site-packages/graphviz/rendering.py?line=116'>117</a>\u001b[0m args\u001b[39m.\u001b[39mappend(filepath)\n\u001b[0;32m--> <a href='file:///home/ibadhep/anaconda3/lib/python3.9/site-packages/graphviz/rendering.py?line=118'>119</a>\u001b[0m rendered \u001b[39m=\u001b[39m \u001b[39mself\u001b[39;49m\u001b[39m.\u001b[39;49m_render(\u001b[39m*\u001b[39;49margs, \u001b[39m*\u001b[39;49m\u001b[39m*\u001b[39;49mkwargs)\n\u001b[1;32m    <a href='file:///home/ibadhep/anaconda3/lib/python3.9/site-packages/graphviz/rendering.py?line=120'>121</a>\u001b[0m \u001b[39mif\u001b[39;00m cleanup:\n\u001b[1;32m    <a href='file:///home/ibadhep/anaconda3/lib/python3.9/site-packages/graphviz/rendering.py?line=121'>122</a>\u001b[0m     log\u001b[39m.\u001b[39mdebug(\u001b[39m'\u001b[39m\u001b[39mdelete \u001b[39m\u001b[39m%r\u001b[39;00m\u001b[39m'\u001b[39m, filepath)\n",
      "File \u001b[0;32m~/anaconda3/lib/python3.9/site-packages/graphviz/_tools.py:172\u001b[0m, in \u001b[0;36mdeprecate_positional_args.<locals>.decorator.<locals>.wrapper\u001b[0;34m(*args, **kwargs)\u001b[0m\n\u001b[1;32m    <a href='file:///home/ibadhep/anaconda3/lib/python3.9/site-packages/graphviz/_tools.py?line=162'>163</a>\u001b[0m     wanted \u001b[39m=\u001b[39m \u001b[39m'\u001b[39m\u001b[39m, \u001b[39m\u001b[39m'\u001b[39m\u001b[39m.\u001b[39mjoin(\u001b[39mf\u001b[39m\u001b[39m'\u001b[39m\u001b[39m{\u001b[39;00mname\u001b[39m}\u001b[39;00m\u001b[39m=\u001b[39m\u001b[39m{\u001b[39;00mvalue\u001b[39m!r}\u001b[39;00m\u001b[39m'\u001b[39m\n\u001b[1;32m    <a href='file:///home/ibadhep/anaconda3/lib/python3.9/site-packages/graphviz/_tools.py?line=163'>164</a>\u001b[0m                        \u001b[39mfor\u001b[39;00m name, value \u001b[39min\u001b[39;00m deprecated\u001b[39m.\u001b[39mitems())\n\u001b[1;32m    <a href='file:///home/ibadhep/anaconda3/lib/python3.9/site-packages/graphviz/_tools.py?line=164'>165</a>\u001b[0m     warnings\u001b[39m.\u001b[39mwarn(\u001b[39mf\u001b[39m\u001b[39m'\u001b[39m\u001b[39mThe signature of \u001b[39m\u001b[39m{\u001b[39;00mfunc\u001b[39m.\u001b[39m\u001b[39m__name__\u001b[39m\u001b[39m}\u001b[39;00m\u001b[39m will be reduced\u001b[39m\u001b[39m'\u001b[39m\n\u001b[1;32m    <a href='file:///home/ibadhep/anaconda3/lib/python3.9/site-packages/graphviz/_tools.py?line=165'>166</a>\u001b[0m                   \u001b[39mf\u001b[39m\u001b[39m'\u001b[39m\u001b[39m to \u001b[39m\u001b[39m{\u001b[39;00msupported_number\u001b[39m}\u001b[39;00m\u001b[39m positional args\u001b[39m\u001b[39m'\u001b[39m\n\u001b[1;32m    <a href='file:///home/ibadhep/anaconda3/lib/python3.9/site-packages/graphviz/_tools.py?line=166'>167</a>\u001b[0m                   \u001b[39mf\u001b[39m\u001b[39m'\u001b[39m\u001b[39m \u001b[39m\u001b[39m{\u001b[39;00m\u001b[39mlist\u001b[39m(supported)\u001b[39m}\u001b[39;00m\u001b[39m: pass \u001b[39m\u001b[39m{\u001b[39;00mwanted\u001b[39m}\u001b[39;00m\u001b[39m'\u001b[39m\n\u001b[1;32m    <a href='file:///home/ibadhep/anaconda3/lib/python3.9/site-packages/graphviz/_tools.py?line=167'>168</a>\u001b[0m                   \u001b[39m'\u001b[39m\u001b[39m as keyword arg(s)\u001b[39m\u001b[39m'\u001b[39m,\n\u001b[1;32m    <a href='file:///home/ibadhep/anaconda3/lib/python3.9/site-packages/graphviz/_tools.py?line=168'>169</a>\u001b[0m                   stacklevel\u001b[39m=\u001b[39mstacklevel,\n\u001b[1;32m    <a href='file:///home/ibadhep/anaconda3/lib/python3.9/site-packages/graphviz/_tools.py?line=169'>170</a>\u001b[0m                   category\u001b[39m=\u001b[39mcategory)\n\u001b[0;32m--> <a href='file:///home/ibadhep/anaconda3/lib/python3.9/site-packages/graphviz/_tools.py?line=171'>172</a>\u001b[0m \u001b[39mreturn\u001b[39;00m func(\u001b[39m*\u001b[39;49margs, \u001b[39m*\u001b[39;49m\u001b[39m*\u001b[39;49mkwargs)\n",
      "File \u001b[0;32m~/anaconda3/lib/python3.9/site-packages/graphviz/backend/rendering.py:317\u001b[0m, in \u001b[0;36mrender\u001b[0;34m(engine, format, filepath, renderer, formatter, quiet, outfile, raise_if_result_exists, overwrite_filepath)\u001b[0m\n\u001b[1;32m    <a href='file:///home/ibadhep/anaconda3/lib/python3.9/site-packages/graphviz/backend/rendering.py?line=312'>313</a>\u001b[0m     \u001b[39mraise\u001b[39;00m exceptions\u001b[39m.\u001b[39mFileExistsError(\u001b[39mf\u001b[39m\u001b[39m'\u001b[39m\u001b[39moutput file exists: \u001b[39m\u001b[39m{\u001b[39;00mos\u001b[39m.\u001b[39mfspath(outfile)\u001b[39m!r}\u001b[39;00m\u001b[39m'\u001b[39m)\n\u001b[1;32m    <a href='file:///home/ibadhep/anaconda3/lib/python3.9/site-packages/graphviz/backend/rendering.py?line=314'>315</a>\u001b[0m cmd \u001b[39m+\u001b[39m\u001b[39m=\u001b[39m args\n\u001b[0;32m--> <a href='file:///home/ibadhep/anaconda3/lib/python3.9/site-packages/graphviz/backend/rendering.py?line=316'>317</a>\u001b[0m execute\u001b[39m.\u001b[39;49mrun_check(cmd,\n\u001b[1;32m    <a href='file:///home/ibadhep/anaconda3/lib/python3.9/site-packages/graphviz/backend/rendering.py?line=317'>318</a>\u001b[0m                   cwd\u001b[39m=\u001b[39;49mfilepath\u001b[39m.\u001b[39;49mparent \u001b[39mif\u001b[39;49;00m filepath\u001b[39m.\u001b[39;49mparent\u001b[39m.\u001b[39;49mparts \u001b[39melse\u001b[39;49;00m \u001b[39mNone\u001b[39;49;00m,\n\u001b[1;32m    <a href='file:///home/ibadhep/anaconda3/lib/python3.9/site-packages/graphviz/backend/rendering.py?line=318'>319</a>\u001b[0m                   quiet\u001b[39m=\u001b[39;49mquiet,\n\u001b[1;32m    <a href='file:///home/ibadhep/anaconda3/lib/python3.9/site-packages/graphviz/backend/rendering.py?line=319'>320</a>\u001b[0m                   capture_output\u001b[39m=\u001b[39;49m\u001b[39mTrue\u001b[39;49;00m)\n\u001b[1;32m    <a href='file:///home/ibadhep/anaconda3/lib/python3.9/site-packages/graphviz/backend/rendering.py?line=321'>322</a>\u001b[0m \u001b[39mreturn\u001b[39;00m os\u001b[39m.\u001b[39mfspath(outfile)\n",
      "File \u001b[0;32m~/anaconda3/lib/python3.9/site-packages/graphviz/backend/execute.py:88\u001b[0m, in \u001b[0;36mrun_check\u001b[0;34m(cmd, input_lines, encoding, capture_output, quiet, **kwargs)\u001b[0m\n\u001b[1;32m     <a href='file:///home/ibadhep/anaconda3/lib/python3.9/site-packages/graphviz/backend/execute.py?line=85'>86</a>\u001b[0m \u001b[39mexcept\u001b[39;00m \u001b[39mOSError\u001b[39;00m \u001b[39mas\u001b[39;00m e:\n\u001b[1;32m     <a href='file:///home/ibadhep/anaconda3/lib/python3.9/site-packages/graphviz/backend/execute.py?line=86'>87</a>\u001b[0m     \u001b[39mif\u001b[39;00m e\u001b[39m.\u001b[39merrno \u001b[39m==\u001b[39m errno\u001b[39m.\u001b[39mENOENT:\n\u001b[0;32m---> <a href='file:///home/ibadhep/anaconda3/lib/python3.9/site-packages/graphviz/backend/execute.py?line=87'>88</a>\u001b[0m         \u001b[39mraise\u001b[39;00m ExecutableNotFound(cmd) \u001b[39mfrom\u001b[39;00m \u001b[39me\u001b[39;00m\n\u001b[1;32m     <a href='file:///home/ibadhep/anaconda3/lib/python3.9/site-packages/graphviz/backend/execute.py?line=88'>89</a>\u001b[0m     \u001b[39mraise\u001b[39;00m\n\u001b[1;32m     <a href='file:///home/ibadhep/anaconda3/lib/python3.9/site-packages/graphviz/backend/execute.py?line=90'>91</a>\u001b[0m \u001b[39mif\u001b[39;00m \u001b[39mnot\u001b[39;00m quiet \u001b[39mand\u001b[39;00m proc\u001b[39m.\u001b[39mstderr:\n",
      "\u001b[0;31mExecutableNotFound\u001b[0m: failed to execute PosixPath('dot'), make sure the Graphviz executables are on your systems' PATH"
     ]
    }
   ],
   "source": [
    "import graphviz \n",
    "dot_data = tree.export_graphviz(clf, out_file=None) \n",
    "graph = graphviz.Source(dot_data) \n",
    "graph.render(\"iris\") "
   ]
  },
  {
   "cell_type": "markdown",
   "metadata": {},
   "source": [
    "The export_graphviz exporter also supports a variety of aesthetic options, including coloring nodes by their class (or value for regression) and using explicit variable and class names if desired. Jupyter notebooks also render these plots inline automatically:"
   ]
  },
  {
   "cell_type": "code",
   "execution_count": null,
   "metadata": {},
   "outputs": [],
   "source": [
    "dot_data = tree.export_graphviz(clf, out_file=None, \n",
    "                      feature_names=iris.feature_names,  \n",
    "                      class_names=iris.target_names,  \n",
    "                      filled=True, rounded=True,  \n",
    "                      special_characters=True)  \n",
    "graph = graphviz.Source(dot_data)  \n",
    "graph "
   ]
  },
  {
   "cell_type": "markdown",
   "metadata": {},
   "source": [
    "Alternatively, the tree can also be exported in textual format with the function export_text. This method doesn’t require the installation of external libraries and is more compact:"
   ]
  },
  {
   "cell_type": "code",
   "execution_count": null,
   "metadata": {},
   "outputs": [],
   "source": [
    "from sklearn.datasets import load_iris\n",
    "from sklearn.tree import DecisionTreeClassifier\n",
    "from sklearn.tree import export_text\n",
    "iris = load_iris()\n",
    "decision_tree = DecisionTreeClassifier(random_state=0, max_depth=2)\n",
    "decision_tree = decision_tree.fit(iris.data, iris.target)\n",
    "r = export_text(decision_tree, feature_names=iris['feature_names'])\n",
    "print(r)"
   ]
  }
 ],
 "metadata": {
  "interpreter": {
   "hash": "5e96b45ffd47e93248c606a67b27fda686db23833db56219cd282bf80879b1f1"
  },
  "kernelspec": {
   "display_name": "Python 3.9.7 ('base')",
   "language": "python",
   "name": "python3"
  },
  "language_info": {
   "codemirror_mode": {
    "name": "ipython",
    "version": 3
   },
   "file_extension": ".py",
   "mimetype": "text/x-python",
   "name": "python",
   "nbconvert_exporter": "python",
   "pygments_lexer": "ipython3",
   "version": "3.9.12"
  },
  "orig_nbformat": 4
 },
 "nbformat": 4,
 "nbformat_minor": 2
}
