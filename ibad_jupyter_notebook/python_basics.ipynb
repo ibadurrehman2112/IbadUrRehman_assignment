{
 "cells": [
  {
   "cell_type": "code",
   "execution_count": 1,
   "metadata": {},
   "outputs": [
    {
     "name": "stdout",
     "output_type": "stream",
     "text": [
      "31\n",
      "11\n",
      "210\n",
      "2.1\n",
      "1\n",
      "8\n"
     ]
    }
   ],
   "source": [
    "a = 21\n",
    "b = 10\n",
    "c = 0\n",
    " \n",
    "c = a + b\n",
    "print ( c )\n",
    " \n",
    "c = a - b\n",
    "print ( c )\n",
    " \n",
    "c = a * b\n",
    "print ( c )\n",
    " \n",
    "c = a / b\n",
    "print ( c )\n",
    " \n",
    "c = a % b\n",
    "print ( c )\n",
    "a = 2\n",
    "b = 3\n",
    "c = a**b\n",
    "print ( c )"
   ]
  },
  {
   "cell_type": "code",
   "execution_count": 2,
   "metadata": {},
   "outputs": [
    {
     "data": {
      "text/plain": [
       "0"
      ]
     },
     "execution_count": 2,
     "metadata": {},
     "output_type": "execute_result"
    }
   ],
   "source": [
    "A = 10\n",
    "B = 20\n",
    "B % A"
   ]
  },
  {
   "cell_type": "code",
   "execution_count": 3,
   "metadata": {},
   "outputs": [
    {
     "data": {
      "text/plain": [
       "False"
      ]
     },
     "execution_count": 3,
     "metadata": {},
     "output_type": "execute_result"
    }
   ],
   "source": [
    "(A == B)"
   ]
  },
  {
   "cell_type": "code",
   "execution_count": 4,
   "metadata": {},
   "outputs": [
    {
     "data": {
      "text/plain": [
       "True"
      ]
     },
     "execution_count": 4,
     "metadata": {},
     "output_type": "execute_result"
    }
   ],
   "source": [
    "(A != B)"
   ]
  },
  {
   "cell_type": "code",
   "execution_count": 5,
   "metadata": {},
   "outputs": [
    {
     "data": {
      "text/plain": [
       "False"
      ]
     },
     "execution_count": 5,
     "metadata": {},
     "output_type": "execute_result"
    }
   ],
   "source": [
    "(A > B)"
   ]
  },
  {
   "cell_type": "code",
   "execution_count": 6,
   "metadata": {},
   "outputs": [
    {
     "data": {
      "text/plain": [
       "True"
      ]
     },
     "execution_count": 6,
     "metadata": {},
     "output_type": "execute_result"
    }
   ],
   "source": [
    "(A < B)"
   ]
  },
  {
   "cell_type": "code",
   "execution_count": 7,
   "metadata": {},
   "outputs": [
    {
     "data": {
      "text/plain": [
       "False"
      ]
     },
     "execution_count": 7,
     "metadata": {},
     "output_type": "execute_result"
    }
   ],
   "source": [
    "(A >= B)"
   ]
  },
  {
   "cell_type": "code",
   "execution_count": 8,
   "metadata": {},
   "outputs": [
    {
     "data": {
      "text/plain": [
       "True"
      ]
     },
     "execution_count": 8,
     "metadata": {},
     "output_type": "execute_result"
    }
   ],
   "source": [
    "(A <= B)"
   ]
  },
  {
   "cell_type": "code",
   "execution_count": 9,
   "metadata": {},
   "outputs": [
    {
     "name": "stdout",
     "output_type": "stream",
     "text": [
      "a is not equal to b\n",
      "a is not equal to b\n",
      "a is not less than b\n",
      "a is greater than b\n",
      "a is neither less than nor equal to b\n",
      "a is either greater than  or equal to b\n"
     ]
    }
   ],
   "source": [
    "a = 21\n",
    "b = 10\n",
    "c = 0\n",
    " \n",
    "if ( a == b ):\n",
    "   print (\"a is equal to b\")\n",
    "else:\n",
    "   print (\"a is not equal to b\")\n",
    " \n",
    "if ( a != b ):\n",
    "   print (\"a is not equal to b\")\n",
    "else:\n",
    "   print (\"a is equal to b\")\n",
    " \n",
    "if ( a < b ):\n",
    "    print (\"a is less than b\") \n",
    "else: \n",
    "    print (\"a is not less than b\") \n",
    "\n",
    "if ( a > b ):\n",
    "   print (\"a is greater than b\")\n",
    "else:\n",
    "   print (\"a is not greater than b\")\n",
    " \n",
    "\n",
    "a = 5\n",
    "b = 20\n",
    "\n",
    "if ( a >= b ): \n",
    "    print (\"a is either less than or equal to b\") \n",
    "else: \n",
    "    print (\"a is neither less than nor equal to b\") \n",
    "\n",
    "\n",
    "if ( a <= b ):\n",
    "   print (\"a is either greater than  or equal to b\")\n",
    "else:\n",
    "   print (\"a is neither greater than  nor equal to b\")\n"
   ]
  },
  {
   "cell_type": "code",
   "execution_count": 10,
   "metadata": {},
   "outputs": [
    {
     "name": "stdout",
     "output_type": "stream",
     "text": [
      "31\n",
      "52\n",
      "1092\n",
      "52.0\n",
      "2\n",
      "2097152\n"
     ]
    }
   ],
   "source": [
    "a = 21\n",
    "b = 10\n",
    "c = 0\n",
    " \n",
    "c = a + b\n",
    "print ( c )\n",
    " \n",
    "c += a\n",
    "print ( c )\n",
    " \n",
    "c *= a\n",
    "print ( c )\n",
    " \n",
    "c /= a\n",
    "print ( c )\n",
    " \n",
    "c  = 2\n",
    "c %= a\n",
    "print ( c )\n",
    " \n",
    "c **= a\n",
    "print ( c )"
   ]
  },
  {
   "cell_type": "code",
   "execution_count": 11,
   "metadata": {},
   "outputs": [
    {
     "name": "stdout",
     "output_type": "stream",
     "text": [
      "True\n",
      "63\n",
      "55\n"
     ]
    }
   ],
   "source": [
    "a = 58        # 111010\n",
    "b = 13        # 1101\n",
    "c = 0\n",
    " \n",
    "c = a >= b     \n",
    "print(c)   # 8 = 1000\n",
    " \n",
    "c = a | b      \n",
    "print(c)   # 63 = 111111\n",
    " \n",
    "c = a ^ b     \n",
    "print(c)   # 55 = 110111\n"
   ]
  },
  {
   "cell_type": "code",
   "execution_count": 12,
   "metadata": {},
   "outputs": [
    {
     "name": "stdout",
     "output_type": "stream",
     "text": [
      "x and y is False\n",
      "x or y is True\n",
      "not x is False\n"
     ]
    }
   ],
   "source": [
    "x = True\n",
    "y = False\n",
    "  \n",
    "print('x and y is',x and y)\n",
    "  \n",
    "print('x or y is',x or y)\n",
    "  \n",
    "print('not x is',not x)\n"
   ]
  },
  {
   "cell_type": "code",
   "execution_count": 13,
   "metadata": {},
   "outputs": [
    {
     "name": "stdout",
     "output_type": "stream",
     "text": [
      "True\n",
      "False\n"
     ]
    }
   ],
   "source": [
    "X = [1, 2, 3, 4]\n",
    "A = 3\n",
    "print(A in X)\n",
    "print(A not in X)"
   ]
  },
  {
   "cell_type": "code",
   "execution_count": 14,
   "metadata": {},
   "outputs": [
    {
     "name": "stdout",
     "output_type": "stream",
     "text": [
      "True\n",
      "False\n",
      "True\n",
      "False\n"
     ]
    }
   ],
   "source": [
    "X1 = 'Welcome'\n",
    "  \n",
    "X2 = 1234\n",
    "  \n",
    "Y1 = 'Welcome'\n",
    "  \n",
    "Y2 = 1234\n",
    "  \n",
    "print(X1 is Y1)\n",
    "  \n",
    "print(X1 is not Y1)\n",
    "  \n",
    "print(X1 is not Y2)\n",
    "  \n",
    "print(X1 is X2)"
   ]
  },
  {
   "cell_type": "code",
   "execution_count": 15,
   "metadata": {},
   "outputs": [
    {
     "name": "stdout",
     "output_type": "stream",
     "text": [
      "0\n",
      "1\n",
      "2\n",
      "3\n",
      "4\n",
      "5\n",
      "6\n",
      "7\n",
      "8\n",
      "9\n",
      "Good bye!\n"
     ]
    }
   ],
   "source": [
    "count = 0\n",
    "while(count < 10):\n",
    "   print ( count )\n",
    "   count = count + 1\n",
    " \n",
    "print (\"Good bye!\")"
   ]
  },
  {
   "cell_type": "code",
   "execution_count": 16,
   "metadata": {},
   "outputs": [
    {
     "name": "stdout",
     "output_type": "stream",
     "text": [
      "\n",
      "1\n",
      "22\n",
      "333\n",
      "4444\n",
      "55555\n",
      "666666\n",
      "7777777\n",
      "88888888\n",
      "999999999\n"
     ]
    }
   ],
   "source": [
    "count = 1\n",
    "for i in range(10):\n",
    "    print (str(i) * i)\n",
    " \n",
    "    for j in range(0, i):\n",
    "        count = count +1"
   ]
  },
  {
   "cell_type": "code",
   "execution_count": 17,
   "metadata": {},
   "outputs": [
    {
     "name": "stdout",
     "output_type": "stream",
     "text": [
      "2022-03-08 16:46:34.170393\n"
     ]
    }
   ],
   "source": [
    "import datetime\n",
    "print(datetime.datetime.now())"
   ]
  },
  {
   "cell_type": "code",
   "execution_count": 18,
   "metadata": {},
   "outputs": [
    {
     "name": "stdout",
     "output_type": "stream",
     "text": [
      "aayushi@edureka.co\n",
      "test@company.com\n"
     ]
    }
   ],
   "source": [
    "class employee:\n",
    " pass\n",
    "#no attributes and methods\n",
    "emp_1=employee()\n",
    "emp_2=employee()\n",
    "#instance variable can be created manually\n",
    "emp_1.first='aayushi'\n",
    "emp_1.last='Johari'\n",
    "emp_1.email='aayushi@edureka.co'\n",
    "emp_1.pay=10000\n",
    "  \n",
    "emp_2.first='test'\n",
    "emp_2.last='abc'\n",
    "emp_2.email='test@company.com'\n",
    "emp_2.pay=10000\n",
    "print(emp_1.email)\n",
    "print(emp_2.email)"
   ]
  },
  {
   "cell_type": "code",
   "execution_count": 19,
   "metadata": {},
   "outputs": [
    {
     "name": "stdout",
     "output_type": "stream",
     "text": [
      "aayushi.johari@company.com\n"
     ]
    }
   ],
   "source": [
    "class employee:\n",
    "    num_employee=0\n",
    "    raise_amount=1.04\n",
    "    def __init__(self, first, last, sal):\n",
    "        self.first=first\n",
    "        self.last=last\n",
    "        self.sal=sal\n",
    "        self.email=first + '.' + last + '@company.com'\n",
    "        employee.num_employee+=1\n",
    "    def fullname (self):\n",
    "        return '{} {}'.format(self.first, self.last)\n",
    "    def apply_raise (self):\n",
    "        self.sal=int(self.sal * raise_amount)\n",
    "class developer(employee):\n",
    "    pass\n",
    "  \n",
    "emp_1=developer('aayushi', 'johari', 1000000)\n",
    "print(emp_1.email)"
   ]
  },
  {
   "cell_type": "code",
   "execution_count": 20,
   "metadata": {},
   "outputs": [
    {
     "name": "stdout",
     "output_type": "stream",
     "text": [
      "Ibad is \n",
      " good boy \t1\n"
     ]
    }
   ],
   "source": [
    "#Please dont remove this line\n",
    "\"\"\"\n",
    "This is a\n",
    "Multiline Comment\n",
    "\"\"\"\n",
    "\"\"\"\n",
    "This is a comment\n",
    "\"\"\"\n",
    "# print(\"Subscribe CodeWithHarry now\",\"Bhai video bhi like kar dena\")\n",
    "# print(\"next line\")\n",
    "# print(\"C:\\'narry\")\n",
    "print(\"Ibad is \\n good boy \\t1\") #comment after statement"
   ]
  },
  {
   "cell_type": "code",
   "execution_count": 21,
   "metadata": {},
   "outputs": [
    {
     "name": "stdout",
     "output_type": "stream",
     "text": [
      "False\n",
      "4\n",
      "Jon is a good boy\n",
      "jon are a good boy\n"
     ]
    }
   ],
   "source": [
    "mystr = \"jon is a good boy\"\n",
    "# print(len(mystr))\n",
    "# print(mystr[::-2])\n",
    "\n",
    "print(mystr.endswith(\"bdoy\"))\n",
    "print(mystr.count(\"o\"))\n",
    "print(mystr.capitalize())\n",
    "print(mystr.replace(\"is\", \"are\"))\n"
   ]
  },
  {
   "cell_type": "code",
   "execution_count": 22,
   "metadata": {},
   "outputs": [
    {
     "name": "stdout",
     "output_type": "stream",
     "text": [
      "8 1\n"
     ]
    }
   ],
   "source": [
    "a= 1\n",
    "b = 8\n",
    "a, b = b,a\n",
    "# temp = a\n",
    "# a = b\n",
    "# b = temp\n",
    "print(a, b)\n",
    "\n"
   ]
  },
  {
   "cell_type": "code",
   "execution_count": 23,
   "metadata": {},
   "outputs": [
    {
     "name": "stdout",
     "output_type": "stream",
     "text": [
      "56\n"
     ]
    }
   ],
   "source": [
    "grocery = [\"Harpic\", \"vim bar\", \"deodrant\", \"Bhindi\",\n",
    "           \"Lollypop\", 56]\n",
    "print(grocery[5])"
   ]
  },
  {
   "cell_type": "code",
   "execution_count": 24,
   "metadata": {},
   "outputs": [
    {
     "data": {
      "text/plain": [
       "[2, 7, 9, 11, 3]"
      ]
     },
     "execution_count": 24,
     "metadata": {},
     "output_type": "execute_result"
    }
   ],
   "source": [
    "numbers = [2, 7, 9, 11, 3]\n",
    "# numbers.remove(9)\n",
    "# numbers.pop()\n",
    "# numbers.sort()\n",
    "# numbers = []\n",
    "# numbers.reverse()\n",
    "# numbers.append(1)\n",
    "# numbers.append(72)\n",
    "# numbers.append(5)\n",
    "# numbers.insert(2, 67)\n",
    "# print(numbers)\n",
    "# 3, 11, 9, 7, 2\n",
    "# print(numbers)\n",
    "# numbers[1] = 98\n",
    "# print(numbers)\n",
    "# Mutable - can change\n",
    "# Immutable - cannot change\n",
    "# tp = (1,)\n",
    "# print(tp)\n",
    "numbers"
   ]
  },
  {
   "cell_type": "code",
   "execution_count": 25,
   "metadata": {},
   "outputs": [
    {
     "name": "stdout",
     "output_type": "stream",
     "text": [
      "{'B': 'maggie', 'L': 'roti', 'D': 'Chicken'}\n",
      "dict_keys(['Harry', 'Rohan', 'SkillF', 'Shubham', 'Ankit', 'Leena'])\n",
      "dict_items([('Harry', 'Burger'), ('Rohan', 'Fish'), ('SkillF', 'Roti'), ('Shubham', {'B': 'maggie', 'L': 'roti', 'D': 'Chicken'}), ('Ankit', 'Junk Food'), ('Leena', 'Toffee')])\n"
     ]
    }
   ],
   "source": [
    "# Dictionary is nothing but key value pairs\n",
    "d1 = {}\n",
    "# print(type(d1))\n",
    "d2 = {\"Harry\":\"Burger\",\n",
    "      \"Rohan\":\"Fish\",\n",
    "      \"SkillF\":\"Roti\",\n",
    "      \"Shubham\":{\"B\":\"maggie\", \"L\":\"roti\", \"D\":\"Chicken\"}}\n",
    "d2[\"Ankit\"] = \"Junk Food\"\n",
    "d2[420] = \"Kebabs\"\n",
    "# print(d2)\n",
    "del d2[420]\n",
    "print(d2[\"Shubham\"])\n",
    "d3 = d2.copy()\n",
    "del d3[\"Harry\"]\n",
    "d2.update({\"Leena\":\"Toffee\"})\n",
    "print(d2.keys())\n",
    "print(d2.items())\n"
   ]
  },
  {
   "cell_type": "code",
   "execution_count": 26,
   "metadata": {},
   "outputs": [
    {
     "name": "stdout",
     "output_type": "stream",
     "text": [
      "True\n"
     ]
    }
   ],
   "source": [
    "s = set()\n",
    "# print(type(s))\n",
    "# l = [1, 2, 3, 4]\n",
    "# s_from_list = set(l)\n",
    "# print(s_from_list)\n",
    "# print(type(s_from_list))\n",
    "s.add(1)\n",
    "s.add(2)\n",
    "s.remove(2)\n",
    "s1 = {4, 6}\n",
    "print(s.isdisjoint(s1))"
   ]
  },
  {
   "cell_type": "code",
   "execution_count": 27,
   "metadata": {},
   "outputs": [
    {
     "name": "stdout",
     "output_type": "stream",
     "text": [
      "What is your age?\n",
      "You cannot drive\n"
     ]
    }
   ],
   "source": [
    "# var1 = 6\n",
    "# var2 = 56\n",
    "# var3 = int(input())\n",
    "# if var3>var2:\n",
    "#     print(\"Greater\")\n",
    "# elif var3==var2:\n",
    "#     print(\"Equal\")\n",
    "# else:\n",
    "#     print(\"Lesser\")\n",
    "\n",
    "# list1 = [5, 7, 3]\n",
    "# print(15 not in list1)\n",
    "# if 15 not in list1:\n",
    "#     print(\"No its not in the list\")\n",
    "\n",
    "# Quiz\n",
    "print(\"What is your age?\")\n",
    "age = int(input())\n",
    "if age<18:\n",
    "    print(\"You cannot drive\")\n",
    "\n",
    "elif age==18:\n",
    "    print(\"We will think about you\")\n",
    "\n",
    "else:\n",
    "    print(\"You can drive\")\n",
    "\n",
    "\n",
    "\n"
   ]
  },
  {
   "cell_type": "code",
   "execution_count": 28,
   "metadata": {},
   "outputs": [
    {
     "name": "stdout",
     "output_type": "stream",
     "text": [
      "Enter the Word\n"
     ]
    },
    {
     "ename": "KeyError",
     "evalue": "''",
     "output_type": "error",
     "traceback": [
      "\u001b[0;31m---------------------------------------------------------------------------\u001b[0m",
      "\u001b[0;31mKeyError\u001b[0m                                  Traceback (most recent call last)",
      "\u001b[0;32m/tmp/ipykernel_392211/1633976332.py\u001b[0m in \u001b[0;36m<module>\u001b[0;34m\u001b[0m\n\u001b[1;32m      6\u001b[0m \u001b[0mprint\u001b[0m\u001b[0;34m(\u001b[0m\u001b[0;34m\"Enter the Word\"\u001b[0m\u001b[0;34m)\u001b[0m\u001b[0;34m\u001b[0m\u001b[0;34m\u001b[0m\u001b[0m\n\u001b[1;32m      7\u001b[0m \u001b[0mData1\u001b[0m \u001b[0;34m=\u001b[0m \u001b[0minput\u001b[0m\u001b[0;34m(\u001b[0m\u001b[0;34m)\u001b[0m\u001b[0;34m\u001b[0m\u001b[0;34m\u001b[0m\u001b[0m\n\u001b[0;32m----> 8\u001b[0;31m \u001b[0mprint\u001b[0m\u001b[0;34m(\u001b[0m\u001b[0mData1\u001b[0m\u001b[0;34m,\u001b[0m \u001b[0;34m\"means\"\u001b[0m\u001b[0;34m,\u001b[0m \u001b[0mDict\u001b[0m\u001b[0;34m[\u001b[0m\u001b[0mData1\u001b[0m\u001b[0;34m]\u001b[0m\u001b[0;34m)\u001b[0m\u001b[0;34m\u001b[0m\u001b[0;34m\u001b[0m\u001b[0m\n\u001b[0m",
      "\u001b[0;31mKeyError\u001b[0m: ''"
     ]
    }
   ],
   "source": [
    "# Create a dictionary and take input from the user and return the meaning of the\n",
    "# word from the dictionary\n",
    "\n",
    "Dict = {\"ignore\":\"refuse to take notice of or acknowledge\", \"abandon\":\"cease to support or look after\",\n",
    "        \"exaggerate\":\"enlarged or altered beyond normal proportions\", \"prejudice\":\"preconceived opinion that is not based on reason or actual experience\", \"programming\":\"the process of writing computer programs\"}\n",
    "print(\"Enter the Word\")\n",
    "Data1 = input()\n",
    "print(Data1, \"means\", Dict[Data1])\n"
   ]
  },
  {
   "cell_type": "code",
   "execution_count": null,
   "metadata": {},
   "outputs": [
    {
     "name": "stdout",
     "output_type": "stream",
     "text": [
      "22\n",
      "21\n",
      "64\n",
      "23\n",
      "233\n",
      "23\n",
      "6\n"
     ]
    }
   ],
   "source": [
    "# list1 = [ [\"Harry\", 1], [\"Larry\", 2],\n",
    "#           [\"Carry\", 6], [\"Marie\", 250]]\n",
    "# dict1 = dict(list1)\n",
    "#\n",
    "# for item in dict1:\n",
    "#     print(item)\n",
    "# for item, lollypop in dict1.items():\n",
    "#     print(item, \"and lolly is \", lollypop)\n",
    "items = [int, float, \"HaERRY\", 5,3, 3, 22, 21, 64, 23, 233, 23, 6]\n",
    "\n",
    "for item in items:\n",
    "    if str(item).isnumeric() and item>=6:\n",
    "        print(item)\n",
    "\n"
   ]
  },
  {
   "cell_type": "code",
   "execution_count": null,
   "metadata": {},
   "outputs": [
    {
     "name": "stdout",
     "output_type": "stream",
     "text": [
      "Enter a Number\n",
      "Congrats you have entered a number greater than 100\n",
      "\n"
     ]
    }
   ],
   "source": [
    "while(True):\n",
    "    inp = int(input(\"Enter a Number\\n\"))\n",
    "    if inp>100:\n",
    "        print(\"Congrats you have entered a number greater than 100\\n\")\n",
    "        break\n",
    "    else:\n",
    "        print(\"Try again!\\n\")\n",
    "        continue"
   ]
  },
  {
   "cell_type": "code",
   "execution_count": null,
   "metadata": {},
   "outputs": [],
   "source": [
    "# Exercise 2 - Faulty Calculator\n",
    "# 45 * 3 = 555, 56+9 = 77, 56/6 = 4\n",
    "# Design a calculator which will correctly solve all the problems except\n",
    "# the following ones:\n",
    "# 45 * 3 = 555, 56+9 = 77, 56/6 = 4\n",
    "# Your program should take operator  and the two numbers as input from the user\n",
    "# and then return the result\n",
    "#\n",
    "\n",
    "print(\"Enter 1st Number\")\n",
    "num1 = int(input())\n",
    "print('Enter 2nd Number')\n",
    "num2 = int(input())\n",
    "print('so What you Want?'+'+,-,/,%,*')\n",
    "num3 =input()\n",
    "\n",
    "if num1 ==45 and num2==3 and num3=='*':\n",
    "    print(\"555\")\n",
    "elif num1 == 56 and num2 == 9 and num3 == '+':\n",
    "        print(\"77\")\n",
    "elif num1 == 56 and num2 == 6 and num3 == '/':\n",
    "        print(\"4\")\n",
    "elif num3=='*' :\n",
    "    num4=num1*num2\n",
    "    print(num4)\n",
    "elif num3 == '+':\n",
    "    plus=num2+num1\n",
    "    print(plus)\n",
    "elif num3 == '/':\n",
    "    Dev=num2/num1\n",
    "    print(Dev)\n",
    "elif num3 == '-':\n",
    "    Dev=num2-num1\n",
    "    print(Dev)\n",
    "elif num3 == '%':\n",
    "    percent=num2%num1\n",
    "    print(percent)\n",
    "else:\n",
    "    print(\"Error! Please check your input\")\n"
   ]
  },
  {
   "cell_type": "code",
   "execution_count": null,
   "metadata": {},
   "outputs": [
    {
     "name": "stdout",
     "output_type": "stream",
     "text": [
      "0\n",
      "3\n"
     ]
    }
   ],
   "source": [
    "# Operators In Pythons\n",
    "# Arithmetic Operators\n",
    "# Assignment Operators\n",
    "# Comparison Operators\n",
    "# Logical Operators\n",
    "# Identity Operators\n",
    "# Membership Operators\n",
    "# Bitwise Operators\n",
    "\n",
    "# Arithmetic Operators\n",
    "# print(\"5 + 6 is \", 5+6)\n",
    "# print(\"5 - 6 is \", 5-6)\n",
    "# print(\"5 * 6 is \", 5*6)\n",
    "# print(\"5 / 6 is \", 5/6)\n",
    "# print(\"5 ** 3 is \", 5**3)\n",
    "# print(\"5 % 5 is \", 5%5)\n",
    "# print(\"15 // 6 is \", 15//6)\n",
    "\n",
    "# Assignment Operators\n",
    "# print(\"Assignment Operators\")\n",
    "# x = 5\n",
    "# print(x)\n",
    "# x %=7 # x = x%7\n",
    "# print(x)\n",
    "\n",
    "# Comparison Operators\n",
    "i = 5\n",
    "\n",
    "\n",
    "# Logical Operators\n",
    "a = True\n",
    "b = False\n",
    "\n",
    "# Identity Operators\n",
    "# print(5 is not 5)\n",
    "\n",
    "# Membership Operators\n",
    "list = [3, 3,2, 2,39, 33, 35,32]\n",
    "# print(324 not in list)\n",
    "\n",
    "# Bitwise Operators\n",
    "# 0 - 00\n",
    "# 1 - 01\n",
    "# 2 - 10\n",
    "# 3 - 11\n",
    "\n",
    "print(0 & 2)\n",
    "print(0 | 3)\n",
    "\n"
   ]
  },
  {
   "cell_type": "code",
   "execution_count": null,
   "metadata": {},
   "outputs": [
    {
     "data": {
      "text/plain": [
       "17"
      ]
     },
     "execution_count": 13,
     "metadata": {},
     "output_type": "execute_result"
    }
   ],
   "source": [
    "a = 9\n",
    "b = 8\n",
    "c = sum((a, b)) # built in function\n",
    "c"
   ]
  },
  {
   "cell_type": "code",
   "execution_count": null,
   "metadata": {},
   "outputs": [
    {
     "name": "stdout",
     "output_type": "stream",
     "text": [
      "This is a function which will calculate average of two numbers\n",
      "    this function doesnt work for three numbers\n"
     ]
    }
   ],
   "source": [
    "# a = 9\n",
    "# b = 8\n",
    "# c = sum((a, b)) # built in function\n",
    "\n",
    "def function1(a, b):\n",
    "    print(\"Hello you are in function 1\", a+b)\n",
    "\n",
    "def function2(a, b):\n",
    "    \"\"\"This is a function which will calculate average of two numbers\n",
    "    this function doesnt work for three numbers\"\"\"\n",
    "    average = (a+b)/2\n",
    "    # print(average)\n",
    "    return average\n",
    "\n",
    "# v = function2(5, 7)\n",
    "# print(v)\n",
    "print(function2.__doc__)\n"
   ]
  },
  {
   "cell_type": "code",
   "execution_count": null,
   "metadata": {},
   "outputs": [
    {
     "name": "stdout",
     "output_type": "stream",
     "text": [
      "Enter num 1\n",
      "Enter num 2\n",
      "The sum of these two numbers is 7\n",
      "This line is very important\n"
     ]
    }
   ],
   "source": [
    "print(\"Enter num 1\")\n",
    "num1 = input()\n",
    "print(\"Enter num 2\")\n",
    "num2 = input()\n",
    "try:\n",
    "    print(\"The sum of these two numbers is\",\n",
    "          int(num1)+int(num2))\n",
    "except Exception as e:\n",
    "    print(e)\n",
    "\n",
    "\n",
    "\n",
    "print(\"This line is very important\")\n",
    "\n"
   ]
  },
  {
   "cell_type": "code",
   "execution_count": null,
   "metadata": {},
   "outputs": [
    {
     "name": "stdout",
     "output_type": "stream",
     "text": [
      "['thank youthank you']\n"
     ]
    }
   ],
   "source": [
    "f = open(\"ibad.txt\", \"rt\") # there is no file in the directory\n",
    "print(f.readlines())\n",
    "# print(f.readline())\n",
    "# print(f.readline())\n",
    "# print(f.readline())\n",
    "# content = f.read()\n",
    "#\n",
    "# for line in f:\n",
    "#     print(line, end=\"\")\n",
    "# print(content)\n",
    "# content = f.read(34455)\n",
    "# print(\"1\", content)\n",
    "#\n",
    "# content = f.read(34455)\n",
    "# print(\"2\", content)\n",
    "f.close()"
   ]
  },
  {
   "cell_type": "code",
   "execution_count": null,
   "metadata": {},
   "outputs": [
    {
     "name": "stdout",
     "output_type": "stream",
     "text": [
      "Number of guesses is limited to only 9 times: \n",
      "you enter less number please input greater number.\n",
      "\n",
      "8 no. of guesses left\n",
      "you enter less number please input greater number.\n",
      "\n",
      "7 no. of guesses left\n",
      "you enter less number please input greater number.\n",
      "\n",
      "6 no. of guesses left\n",
      "you enter less number please input greater number.\n",
      "\n",
      "5 no. of guesses left\n",
      "you enter less number please input greater number.\n",
      "\n",
      "4 no. of guesses left\n",
      "you enter less number please input greater number.\n",
      "\n",
      "3 no. of guesses left\n",
      "you enter less number please input greater number.\n",
      "\n",
      "2 no. of guesses left\n",
      "you enter less number please input greater number.\n",
      "\n",
      "1 no. of guesses left\n",
      "you enter less number please input greater number.\n",
      "\n",
      "0 no. of guesses left\n",
      "Game Over\n"
     ]
    }
   ],
   "source": [
    "# no of guesses 9\n",
    "# print no of guesses left\n",
    "# No of guesses he took to finish\n",
    "# game over\n",
    "\n",
    "n=18\n",
    "number_of_guesses=1\n",
    "print(\"Number of guesses is limited to only 9 times: \")\n",
    "while (number_of_guesses<=9):\n",
    "    guess_number = int(input(\"Guess the number :\\n\"))\n",
    "    if guess_number<18:\n",
    "        print(\"you enter less number please input greater number.\\n\")\n",
    "    elif guess_number>18:\n",
    "        print(\"you enter greater number please input smaller number.\\n \")\n",
    "    else:\n",
    "        print(\"you won\\n\")\n",
    "        print(number_of_guesses,\"no.of guesses he took to finish.\")\n",
    "        break\n",
    "    print(9-number_of_guesses,\"no. of guesses left\")\n",
    "    number_of_guesses = number_of_guesses + 1\n",
    "\n",
    "if(number_of_guesses>9):\n",
    "    print(\"Game Over\")\n",
    "  \n"
   ]
  },
  {
   "cell_type": "code",
   "execution_count": null,
   "metadata": {},
   "outputs": [
    {
     "name": "stdout",
     "output_type": "stream",
     "text": [
      "thank you\n"
     ]
    },
    {
     "data": {
      "text/plain": [
       "9"
      ]
     },
     "execution_count": 4,
     "metadata": {},
     "output_type": "execute_result"
    }
   ],
   "source": [
    "# f = open(\"harry.txt\", \"w\")\n",
    "# a = f.write(\"Harry bhai bahut achhe hain\\n\")\n",
    "# print(a)\n",
    "# f.close()\n",
    "\n",
    "# f = open(\"harry2.txt\", \"a\")\n",
    "# a = f.write(\"Harry bhai bahut achhe hain\\n\")\n",
    "# print(a)\n",
    "# f.close()\n",
    "\n",
    "\n",
    "# Handle read and write both\n",
    "f = open(\"ibad.txt\", \"r+\")\n",
    "print(f.read())\n",
    "f.write(\"thank you\")"
   ]
  },
  {
   "cell_type": "code",
   "execution_count": 30,
   "metadata": {},
   "outputs": [],
   "source": [
    "# Pattern Printing\n",
    "# Input = Integer n\n",
    "# Boolean = True or False\n",
    "\n",
    "# True n=5\n",
    "# *\n",
    "# **\n",
    "# ***\n",
    "# ****\n",
    "\n",
    "# False n=5\n",
    "# ****\n",
    "# ***\n",
    "# **\n",
    "# *\n",
    "  "
   ]
  },
  {
   "cell_type": "code",
   "execution_count": 31,
   "metadata": {},
   "outputs": [
    {
     "name": "stdout",
     "output_type": "stream",
     "text": [
      "11\n",
      "ank you\n",
      "\n"
     ]
    }
   ],
   "source": [
    "f = open(\"ibad.txt\")\n",
    "f.seek(11)\n",
    "print(f.tell())\n",
    "print(f.readline())\n",
    "# print(f.tell())\n",
    "\n",
    "print(f.readline())\n",
    "# print(f.tell())\n",
    "f.close()"
   ]
  },
  {
   "cell_type": "code",
   "execution_count": 34,
   "metadata": {},
   "outputs": [
    {
     "name": "stdout",
     "output_type": "stream",
     "text": [
      "['thank youthank youzcxcczc\\n', 'dsfafa\\n', 'afad\\n', 'asd\\n', 'ada\\n', 'da\\n', 'dad\\n', 'asd\\n', 'd\\n', 'as\\n']\n"
     ]
    }
   ],
   "source": [
    "with open(\"ibad.txt\") as f:\n",
    "    a = f.readlines()\n",
    "    print(a)\n",
    "\n",
    "# f = open(\"harry.txt\", \"rt\")\n",
    "#Question of the day - Yes or No and why?\n",
    "# f.close()"
   ]
  },
  {
   "cell_type": "code",
   "execution_count": 36,
   "metadata": {},
   "outputs": [
    {
     "data": {
      "text/plain": [
       "datetime.datetime(2022, 3, 8, 16, 52, 33, 213725)"
      ]
     },
     "execution_count": 36,
     "metadata": {},
     "output_type": "execute_result"
    }
   ],
   "source": [
    "# Health Management System\n",
    "# 3 clients - Harry, Rohan and Hammad\n",
    "\n",
    "def getdate():\n",
    "    import datetime\n",
    "    return datetime.datetime.now()\n",
    "\n",
    "# Total 6 files\n",
    "# write a function that when executed takes as input client name\n",
    "# One more function to retrieve exercise or food for any client\n",
    "getdate()"
   ]
  },
  {
   "cell_type": "code",
   "execution_count": 38,
   "metadata": {},
   "outputs": [
    {
     "name": "stdout",
     "output_type": "stream",
     "text": [
      "after calling moiz() 20\n",
      "88\n"
     ]
    }
   ],
   "source": [
    "# l = 10 # Global\n",
    "#\n",
    "# def function1(n):\n",
    "#     # l = 5 #Local\n",
    "#     m = 8 #Local\n",
    "#     global l\n",
    "#     l = l + 45\n",
    "#     print(l, m)\n",
    "#     print(n, \"I have printed\")\n",
    "#\n",
    "# function1(\"This is me\")\n",
    "# # print(m)\n",
    "\n",
    "x = 89\n",
    "def ibad():\n",
    "    x = 20\n",
    "    def moiz():\n",
    "        global x\n",
    "        x = 88\n",
    "    # print(\"before calling rohan()\", x)\n",
    "    moiz()\n",
    "    print(\"after calling moiz()\", x)\n",
    "\n",
    "ibad()\n",
    "print(x)"
   ]
  },
  {
   "cell_type": "code",
   "execution_count": 41,
   "metadata": {},
   "outputs": [
    {
     "name": "stdout",
     "output_type": "stream",
     "text": [
      "*\n",
      "**\n"
     ]
    }
   ],
   "source": [
    "# Exercise 4\n",
    "# Pattern Printing\n",
    "# Input = Integer n\n",
    "# Boolean = True or False\n",
    "#\n",
    "# True n=5\n",
    "# *\n",
    "# **\n",
    "# ***\n",
    "# ****\n",
    "#\n",
    "# False n=5\n",
    "# ****\n",
    "# ***\n",
    "# **\n",
    "# *\n",
    "# print(\"Pattern printing\")\n",
    "# num = int(input(\"Enter num how many rows you want : \"))\n",
    "# print(\"Enter 1 or 0\")\n",
    "# bool_val = input(\"1 for True value or 0 for False : \")\n",
    "# if bool_val==\"1\":\n",
    "#     for i in range(0,num+1):\n",
    "#         print(\"*\"*i)\n",
    "#\n",
    "# if bool_val==\"0\":\n",
    "#     for i in range(num,0,-1):\n",
    "#         print(\"*\"* i)\n",
    "\n",
    "\n",
    "a = int(input(\"please add number of line you want to print\"))\n",
    "b = bool(int(input(\"please add 0 for False\")))\n",
    "\n",
    "\n",
    "def star(a, b):\n",
    "    if b == True:\n",
    "        c = 1\n",
    "        while c <= a:\n",
    "            print(c * \"*\")\n",
    "            c = c + 1\n",
    "    else:\n",
    "        while a > 0:\n",
    "            print(a * \"*\")\n",
    "            a = a - 1\n",
    "\n",
    "\n",
    "star(a, b)"
   ]
  },
  {
   "cell_type": "code",
   "execution_count": 48,
   "metadata": {},
   "outputs": [
    {
     "name": "stdout",
     "output_type": "stream",
     "text": [
      "15\n"
     ]
    }
   ],
   "source": [
    "x = lambda a : a + 10\n",
    "print(x(5))"
   ]
  },
  {
   "cell_type": "code",
   "execution_count": 49,
   "metadata": {},
   "outputs": [
    {
     "name": "stdout",
     "output_type": "stream",
     "text": [
      "13\n"
     ]
    }
   ],
   "source": [
    "x = lambda a, b, c : a + b + c\n",
    "print(x(5, 6, 2))"
   ]
  },
  {
   "cell_type": "code",
   "execution_count": 50,
   "metadata": {},
   "outputs": [
    {
     "name": "stdout",
     "output_type": "stream",
     "text": [
      "22\n"
     ]
    }
   ],
   "source": [
    "def myfunc(n):\n",
    "  return lambda a : a * n\n",
    "\n",
    "mydoubler = myfunc(2)\n",
    "\n",
    "print(mydoubler(11))"
   ]
  },
  {
   "cell_type": "code",
   "execution_count": 51,
   "metadata": {},
   "outputs": [
    {
     "name": "stdout",
     "output_type": "stream",
     "text": [
      "22\n",
      "33\n"
     ]
    }
   ],
   "source": [
    "def myfunc(n):\n",
    "  return lambda a : a * n\n",
    "\n",
    "mydoubler = myfunc(2)\n",
    "mytripler = myfunc(3)\n",
    "\n",
    "print(mydoubler(11))\n",
    "print(mytripler(11))"
   ]
  },
  {
   "cell_type": "code",
   "execution_count": 47,
   "metadata": {},
   "outputs": [
    {
     "name": "stdout",
     "output_type": "stream",
     "text": [
      "[[5, 6], [1, 14], [8, 23]]\n"
     ]
    }
   ],
   "source": [
    "# Lambda functions or anonymous functions\n",
    "# def add(a, b):\n",
    "#     return a+b\n",
    "#\n",
    "# # minus = lambda x, y: x-y\n",
    "#\n",
    "# def minus(x, y):\n",
    "#     return x-y\n",
    "#\n",
    "# print(minus(9, 4))\n",
    "\n",
    "\n",
    "a =[[1, 14], [5, 6], [8,23]]\n",
    "a.sort(key=lambda x:x[1])\n",
    "print(a)"
   ]
  },
  {
   "cell_type": "code",
   "execution_count": 2,
   "metadata": {},
   "outputs": [
    {
     "name": "stdout",
     "output_type": "stream",
     "text": [
      "DD1\n"
     ]
    }
   ],
   "source": [
    "import random\n",
    "random_number = random.randint(0, 1)\n",
    "# print(random_number)\n",
    "rand = random.random() *100\n",
    "# print(rand)\n",
    "lst = [\"Star Plus\", \"DD1\", \"Aaj Tak\", \"CodeWithHarry\"]\n",
    "choice = random.choice(lst)\n",
    "print(choice)"
   ]
  },
  {
   "cell_type": "code",
   "execution_count": 3,
   "metadata": {},
   "outputs": [
    {
     "name": "stdout",
     "output_type": "stream",
     "text": [
      "this is Harry 3 -0.562453851238172\n"
     ]
    }
   ],
   "source": [
    "# F strings\n",
    "import math\n",
    "\n",
    "me = \"Ibad\"\n",
    "a1 =3\n",
    "# a = \"this is %s %s\"%(me, a1)\n",
    "# a = \"This is {1} {0}\"\n",
    "# b = a.format(me, a1)\n",
    "# print(b)\n",
    "a = f\"this is {me} {a1} {math.cos(65)}\"\n",
    "# time\n",
    "print(a)"
   ]
  },
  {
   "cell_type": "code",
   "execution_count": 4,
   "metadata": {},
   "outputs": [
    {
     "name": "stdout",
     "output_type": "stream",
     "text": [
      "I am a normal Argument and the students are:\n",
      "Ibad\n",
      "Rabeet\n",
      "Skillf\n",
      "Ali\n",
      "Sunny\n",
      "The programmer\n",
      "\n",
      "Now I would Like to introduce some of our heroes\n",
      "Rabeet is a Monitor\n",
      "Ibad is a Fitness Instructor\n",
      "The Programmer is a Coordinator\n",
      "Sunny is a Cook\n"
     ]
    }
   ],
   "source": [
    "# def function_name_print(a, b, c, d, e):\n",
    "#     print(a, b, c, d, e)\n",
    "\n",
    "def funargs(normal, *argsrohan, **kwargsbala):\n",
    "    print(normal)\n",
    "    for item in argsrohan:\n",
    "        print(item)\n",
    "    print(\"\\nNow I would Like to introduce some of our heroes\")\n",
    "    for key, value in kwargsbala.items():\n",
    "        print(f\"{key} is a {value}\")\n",
    "\n",
    "\n",
    "# function_name_print(\"Harry\", \"Rohan\", \"Skillf\", \"Hammad\", \"Shivam\")\n",
    "\n",
    "har = [\"Ibad\", \"Rabeet\", \"Skillf\", \"Ali\",\n",
    "       \"Sunny\", \"The programmer\"]\n",
    "normal = \"I am a normal Argument and the students are:\"\n",
    "kw = {\"Rabeet\":\"Monitor\", \"Ibad\":\"Fitness Instructor\",\n",
    "      \"The Programmer\": \"Coordinator\", \"Sunny\":\"Cook\"}\n",
    "funargs(normal, *har, **kw)\n",
    "  \n"
   ]
  },
  {
   "cell_type": "markdown",
   "metadata": {},
   "source": [
    "### We can use the time module \n",
    "\n",
    "- In games where missions depend on a certain time limit.\n",
    "- To check the execution time a certain part of our code is taking.\n",
    "- To print the date or local time onto the screen\n",
    "- To suspend the execution of python thread.\n",
    "- To measure the efficiency of the code.\n",
    "\n",
    "- There are many built-in functions in the time module. Not all of them are discussed in this tutorial. Explore more time module functions and use them in your code, so that you can measure the execution time of your code. "
   ]
  },
  {
   "cell_type": "code",
   "execution_count": 5,
   "metadata": {},
   "outputs": [
    {
     "name": "stdout",
     "output_type": "stream",
     "text": [
      "This is harry bhai\n",
      "This is harry bhai\n",
      "This is harry bhai\n",
      "This is harry bhai\n",
      "This is harry bhai\n",
      "This is harry bhai\n",
      "This is harry bhai\n",
      "This is harry bhai\n",
      "This is harry bhai\n"
     ]
    }
   ],
   "source": [
    "import time\n",
    "initial = time.time()\n",
    "\n",
    "k = 0\n",
    "while(k<45):\n",
    "    print(\"This is ibad bhai\")\n",
    "    time.sleep(2)\n",
    "    k+=1\n",
    "print(\"While loop ran in\", time.time() - initial, \"Seconds\")\n",
    "\n",
    "initial2 =time.time()\n",
    "for i in range(45):\n",
    "    print(\"This is ibad bhai\")\n",
    "print(\"For loop ran in\", time.time() - initial2, \"Seconds\")\n",
    "\n",
    "\n",
    "# localtime = time.asctime(time.localtime(time.time()))\n",
    "# print(localtime)\n",
    "  \n"
   ]
  },
  {
   "cell_type": "markdown",
   "metadata": {},
   "source": [
    "### Advantages of using Enumerate:\n",
    "- It is a built-in function \n",
    "- It makes the code shorter\n",
    "- We do not have to keep count of the number of iterations\n",
    "- It makes the implementation of for loop simpler and cleaner\n",
    "- Lesser code so lessor chances of error and bugs\n",
    "- We can loop through string, tuple or objects using enumerate\n",
    "- We can start the iteration from anywhere within the data structure as we have the - option of providing the starting index for iteration."
   ]
  },
  {
   "cell_type": "code",
   "execution_count": 4,
   "metadata": {},
   "outputs": [
    {
     "name": "stdout",
     "output_type": "stream",
     "text": [
      "Ali please buy Bhindi\n",
      "Ali please buy chopsticks\n"
     ]
    }
   ],
   "source": [
    "l1 = [\"Bhindi\", \"Aloo\", \"chopsticks\", \"chowmein\"]\n",
    "\n",
    "# i = 1\n",
    "# for item in l1:\n",
    "#     if i%2 is not 0:\n",
    "#         print(f\"Jarvis please buy {item}\")\n",
    "#     i += 1\n",
    "\n",
    "for index, item in enumerate(l1):\n",
    "    if index%2==0:\n",
    "        print(f\"Ali please buy {item}\")"
   ]
  },
  {
   "cell_type": "code",
   "execution_count": 6,
   "metadata": {},
   "outputs": [],
   "source": [
    "a =7\n",
    "def printjoke(str):\n",
    "    print(f\"this function is a joke {str}\")\n",
    "  \n"
   ]
  },
  {
   "cell_type": "markdown",
   "metadata": {},
   "source": [
    "### What are the Advantages of using if __name__ == “__main__” statement?\n",
    "#### Following are the advantages of using if __name__ == “__main__” statement:\n",
    "\n",
    "- Using the main in our file, we can restrict some data from exporting to other files when imported.\n",
    "- We can restrict the unnecessary data, thus making the output cleaner and more readable.\n",
    "- We can choose what others may import or what they may not while using our module.\n",
    "- To summarise the concepts discussed in this tutorial, Modules in Python has a special attribute called __name__. The value of the __name__ attribute is set to __main__ when the module is run as the main program. Otherwise, the value of __name__ is set to the name of the module. The if __name__ == “__main__” block prevents the certain code from being run when the module is imported."
   ]
  },
  {
   "cell_type": "code",
   "execution_count": 7,
   "metadata": {},
   "outputs": [
    {
     "name": "stdout",
     "output_type": "stream",
     "text": [
      "aand the name is __main__\n",
      "Ye string harry ko de de thakur Harry1\n",
      "15\n"
     ]
    }
   ],
   "source": [
    "def printhar(string):\n",
    "    return f\"Ye string ibad ko de de thakur {string}\"\n",
    "\n",
    "def add(num1, num2):\n",
    "    return num1 + num2 + 5\n",
    "\n",
    "\n",
    "print(\"aand the name is\", __name__)\n",
    "\n",
    "if __name__ == '__main__':\n",
    "    print(printhar(\"Harry1\"))\n",
    "    o = add(4, 6)\n",
    "    print(o)"
   ]
  },
  {
   "cell_type": "code",
   "execution_count": 8,
   "metadata": {},
   "outputs": [
    {
     "name": "stdout",
     "output_type": "stream",
     "text": [
      "John, cena, Randy, orton, Sheamus, khali, jinder mahal other wwe superstars\n"
     ]
    }
   ],
   "source": [
    "lis = [\"John\", \"cena\", \"Randy\", \"orton\",\n",
    "       \"Sheamus\", \"khali\", \"jinder mahal\"]\n",
    "\n",
    "# for item in lis:\n",
    "#     print(item, \"and\", end=\" \")\n",
    "\n",
    "a = \", \".join(lis)\n",
    "print(a, \"other wwe superstars\")\n"
   ]
  },
  {
   "cell_type": "code",
   "execution_count": 9,
   "metadata": {},
   "outputs": [
    {
     "name": "stdout",
     "output_type": "stream",
     "text": [
      "1, 2, 3, 4\n"
     ]
    }
   ],
   "source": [
    "#join() with lists\n",
    "numList = ['1', '2', '3', '4']\n",
    "separator = ', '\n",
    "print(separator.join(numList))"
   ]
  },
  {
   "cell_type": "code",
   "execution_count": 10,
   "metadata": {},
   "outputs": [
    {
     "name": "stdout",
     "output_type": "stream",
     "text": [
      "name_separator_country\n"
     ]
    }
   ],
   "source": [
    "myDictionary = {\"name\": \"Jack\", \"country\": \"America\"}\n",
    "separator = \"_separator_\"\n",
    "print(separator.join(myDictionary))"
   ]
  },
  {
   "cell_type": "markdown",
   "metadata": {},
   "source": [
    "#### Map, Filter & Reduce\n",
    "##### map():\n",
    "- \"A map function executes certain instructions or functionality provided to it on every item of an iterable.\""
   ]
  },
  {
   "cell_type": "code",
   "execution_count": 12,
   "metadata": {},
   "outputs": [
    {
     "name": "stdout",
     "output_type": "stream",
     "text": [
      "[1, 8, 27, 64, 125]\n"
     ]
    }
   ],
   "source": [
    "items = [1, 2, 3, 4, 5]\n",
    "a=list(map((lambda x: x **3), items))\n",
    "print(a)\n",
    "#Output: [1, 8, 27, 64, 125]"
   ]
  },
  {
   "cell_type": "markdown",
   "metadata": {},
   "source": [
    "##### filter():-\n",
    "- \"A filter function in Python tests a specific user-defined condition for a function and returns an iterable for the elements and values that satisfy the condition or, in other words, return true.\""
   ]
  },
  {
   "cell_type": "code",
   "execution_count": 13,
   "metadata": {},
   "outputs": [
    {
     "name": "stdout",
     "output_type": "stream",
     "text": [
      "[2, 5, 3]\n"
     ]
    }
   ],
   "source": [
    "a = [1,2,3,4,5,6]\n",
    "b = [2,5,0,7,3]\n",
    "c= list(filter(lambda x: x in a, b))\n",
    "print(c) # prints out [2, 5, 3]"
   ]
  },
  {
   "cell_type": "markdown",
   "metadata": {},
   "source": [
    "##### reduce():\n",
    "- \"Reduce functions apply a function to every item of an iterable and gives back a single value as a resultant\".\n",
    "\n",
    "- Unlike the previous two functions (Filter and Map), we have to import the reduce function from functools module using the statement:\n",
    "\n",
    "- from functools import reduce\n",
    "\n",
    "- We can also import the whole functools module by simply writing\n",
    "\n",
    "- Import functools\n",
    "\n",
    "- But in the case of bigger projects, it is not good practice to import a whole module because of time restraint."
   ]
  },
  {
   "cell_type": "code",
   "execution_count": 15,
   "metadata": {},
   "outputs": [
    {
     "name": "stdout",
     "output_type": "stream",
     "text": [
      "24\n"
     ]
    }
   ],
   "source": [
    "from functools import reduce\n",
    "a=reduce((lambda x, y: x * y), [1, 2, 3, 4])\n",
    "print(a) \n",
    "#Output: 24"
   ]
  },
  {
   "cell_type": "code",
   "execution_count": 16,
   "metadata": {},
   "outputs": [
    {
     "name": "stdout",
     "output_type": "stream",
     "text": [
      "48\n"
     ]
    }
   ],
   "source": [
    "#--------------------------MAP------------------------------\n",
    "# numbers = [\"3\", \"34\", \"64\"]\n",
    "# numbers = list(map(int, numbers))\n",
    "\n",
    "# for i in range(len(numbers)):\n",
    "#     numbers[i] = int(numbers[i])\n",
    "\n",
    "# numbers[2] = numbers[2] + 1\n",
    "# print(numbers[2])\n",
    "\n",
    "# def sq(a):\n",
    "#     return a*a\n",
    "#\n",
    "# num = [2,3,5,6,76,3,3,2]\n",
    "# square = list(map(sq, num))\n",
    "# print(square)\n",
    "# num = [2,3,5,6,76,3,3,2]\n",
    "# square = list(map(lambda x: x*x, num))\n",
    "# print(square)\n",
    "\n",
    "\n",
    "# def square(a):\n",
    "#     return a*a\n",
    "#\n",
    "# def cube(a):\n",
    "#     return a*a*a\n",
    "\n",
    "# func = [square, cube]\n",
    "# num = [2,3,5,6,76,3,3,2]\n",
    "# for i in range(5):\n",
    "#     val = list(map(lambda x:x(i), func))\n",
    "#     print(val)\n",
    "\n",
    "#--------------------------FILTER------------------------------\n",
    "# list_1 = [1,2,3,4,5,6,7,8,9]\n",
    "#\n",
    "# def is_greater_5(num):\n",
    "#     return num>5\n",
    "#\n",
    "# gr_than_5 = list(filter(is_greater_5, list_1))\n",
    "# print(gr_than_5)\n",
    "#--------------------------REDUCE------------------------------\n",
    "from functools import reduce\n",
    "\n",
    "list1 = [1,2,3,4,2]\n",
    "num = reduce(lambda x,y:x*y, list1)\n",
    "# num = 0\n",
    "# for i in list1:\n",
    "#     num = num + i\n",
    "print(num)\n"
   ]
  },
  {
   "cell_type": "markdown",
   "metadata": {},
   "source": [
    "##### What is Python Decorator?\n",
    "- Decorator, as can be noticed by the name, is like a designer that helps to modify a function. The decorator can be said to be a modification to the external layer of function, as it does not change its structure. A decorator takes a function and inserts some new functionality in it without changing the function itself. A reference to a function is passed to a decorator, and the decorator returns a modified function. The modified functions usually contain calls to the original function. This is also known as metaprogramming because a part of the program tries to modify and add functionality to another part of the program at compile time. Understanding the definition could be difficult, but you can easily grasp the concept through the video section example. In terms of Python, the other function is also called a wrapper.\n",
    "\n",
    "\n",
    "- A wrapper is a function that provides a wrap-around another function. While using decorator, all the code executed before our function that we passed as a parameter and the code after it is executed belongs to the wrapper function. The purpose of the wrapper function is to assist us. Like if we are dealing with a number of similar statements, the wrapper can provide us with some code that all the functions have in common, and we can use a decorator to call our function along with the wrapper. A function can be decorated many times. \n",
    "\n",
    "- Note that a decorator is called before defining a function.\n",
    "\n",
    "- There are two ways to write a Python decorator:\n",
    "\n",
    "- We can pass our function to the decorator as an argument, thus defining a function and passing it to our decorator.\n",
    "- We can simply use the @ symbol before the function we’d like to decorate."
   ]
  },
  {
   "cell_type": "code",
   "execution_count": 1,
   "metadata": {},
   "outputs": [
    {
     "name": "stdout",
     "output_type": "stream",
     "text": [
      "Before function execution\n",
      "This is inside the function\n",
      "After function execution\n"
     ]
    }
   ],
   "source": [
    "def inner1(func): \n",
    "    def inner2():\n",
    "        print(\"Before function execution\"); \n",
    "        func() \n",
    "        print(\"After function execution\")    \n",
    "    return inner2 \n",
    "\n",
    "@inner1\n",
    "def function_to_be_used(): \n",
    "    print(\"This is inside the function\") \n",
    "\n",
    "function_to_be_used()  "
   ]
  },
  {
   "cell_type": "markdown",
   "metadata": {},
   "source": [
    "#### Advantages:\n",
    "-  Decorator function can make our work compact because we can pass all the functions to a decorator that requires the same sort of code that the wrapper provides.\n",
    "-  We can get our work done without any alteration in the original code of our function.\n",
    "-  We can apply multiple decorators to a single function.\n",
    "-  We can use decorators in authorization in Python frameworks such as Flask and Django, Logging, and measuring execution time.\n",
    "\n",
    "- We can do a lot with decorators, like Multiple decorators that can be applied to a single function. I hope this tutorial serves as a good introduction to decorators in Python. After understanding the basics of Python decorator, learn more advanced use cases of decorators and how to apply them to classes."
   ]
  },
  {
   "cell_type": "code",
   "execution_count": 2,
   "metadata": {},
   "outputs": [
    {
     "name": "stdout",
     "output_type": "stream",
     "text": [
      "Executing now\n",
      "Ibad is a good boy\n",
      "Executed\n"
     ]
    }
   ],
   "source": [
    "# def function1():\n",
    "#     print(\"Subscribe now\")\n",
    "#\n",
    "# func2 = function1\n",
    "# del function1\n",
    "# func2()\n",
    "\n",
    "# def funcret(num):\n",
    "#     if num==0:\n",
    "#         return print\n",
    "#     if num==1:\n",
    "#         return sum\n",
    "#\n",
    "# a = funcret(1)\n",
    "# print(a)\n",
    "\n",
    "# def executor(func):\n",
    "#     func(\"this\")\n",
    "#\n",
    "#\n",
    "# executor(print)\n",
    "\n",
    "def dec1(func1):\n",
    "    def nowexec():\n",
    "        print(\"Executing now\")\n",
    "        func1()\n",
    "        print(\"Executed\")\n",
    "    return nowexec\n",
    "\n",
    "@dec1\n",
    "def who_is_Ibad():\n",
    "    print(\"Ibad is a good boy\")\n",
    "\n",
    "# who_is_Ibad = dec1(who_is_Ibad)\n",
    "\n",
    "who_is_Ibad()"
   ]
  },
  {
   "cell_type": "markdown",
   "metadata": {},
   "source": [
    "#### What is Python Class And Object?\n",
    "- A class is a collection of objects, and an object is defined as an instance of a class possessing attributes. The object is an entity that has a state and behavior. A class has all the similar attributes, like if we have a class students, then it will only consist of students' related data, such as subjects, names, attendance ratio, etc.\n",
    "\n",
    "- Along with classes and objects, you will learn many new terminologies related to OOP in further tutorials. Some of these terminologies are:\n",
    "\n",
    "- Instances\n",
    "- Constructor\n",
    "- Methods\n",
    "Abstraction\n",
    "- Inheritance\n",
    "- By using oop, we can divide our code into many sections known as classes. Each class holds a distinct purpose or usage. For example, if we have created a class named \"Books,\" then all the attributes it possesses should be related to books, such as the number of pages, publishing date or price, etc.\n",
    "- There is no limit to the number of classes we can create in a program. Also, one class can be easily accessible by another, and we can also restrict the access of a class so other classes can not use its functions. This concept comes in handy while working on bigger projects. All the employees are given separate tasks to work on the classes they have been assigned. And after they are done with their contribution, the classes can be combined as a whole to form a complete project. So, now you can understand that to become a successful programmer, you must master the concept of OOP."
   ]
  },
  {
   "cell_type": "markdown",
   "metadata": {},
   "source": [
    "## Object-oriented vs. Procedure-oriented Programming\n",
    "\n",
    "#### Object-oriented programming\n",
    "- Object-oriented programming is the problem-solving approach. The computation is done by using objects.\n",
    "- OOP makes development and maintenance easier.\n",
    "- OOP provides a proper way for data hiding. It is more secure than procedural programming. You cannot access private data from anywhere.\n",
    "- \tProgram is divided into objects\n",
    "\n",
    "#### Procedure Oriented Programming\n",
    "- It is Structure oriented. Procedural programming uses a list of instructions. It performs the computation step by step.\n",
    "- When the project becomes lengthy, it is not easy to maintain the code.\n",
    "- Procedural programming does not provide any proper way for data binding, so it is less secure. In Procedural programming, we can access the private data.\n",
    "- The program is divided into functions.\n",
    "\n",
    "1. So this was a quick introduction to object-oriented programming. We will learn how to create a class in the next tutorial. Till then, keep coding and keep learning.\n"
   ]
  },
  {
   "cell_type": "markdown",
   "metadata": {},
   "source": [
    "### Create your first class"
   ]
  },
  {
   "cell_type": "code",
   "execution_count": 5,
   "metadata": {},
   "outputs": [
    {
     "name": "stdout",
     "output_type": "stream",
     "text": [
      "1 ['hindi', 'physics']\n"
     ]
    }
   ],
   "source": [
    "class Student:\n",
    "    pass\n",
    "\n",
    "Ibad = Student()\n",
    "Ali = Student()\n",
    "\n",
    "Ibad.name = \"Ibad\"\n",
    "Ibad.std = 12\n",
    "Ibad.section = 1\n",
    "Ali.std = 9\n",
    "Ali.subjects = [\"hindi\", \"physics\"]\n",
    "print(Ibad.section, Ali.subjects)"
   ]
  },
  {
   "cell_type": "markdown",
   "metadata": {},
   "source": [
    "### Instance variable:\n",
    "1. \"Instance variables are the variables for which the value of the variable is different for every instance.\"\n",
    "\n",
    "2. We can also say that the value is different for every object that we create. Let us dive into some in-depth explanations. When we create a class, we define a few variables along with it. For example, we have created a class of Students, and we have defined a variable age. All the students cannot have the same age in a class, so we have assigned the variable an average age of 16. Now, whenever we use an object to print the value of age, it will show 16. We can change the value of age, but it will create a new instance variable for the specific object that we are updating it for, hence defining the value to it.\n",
    "\n",
    "3. The code for changing age for a particular object will be something like this:\n",
    "\n",
    "- Std1.age = 18\n",
    "\n",
    "### Class variable:\n",
    "1. \"Class attributes are owned by the class directly, which means that they are not tied to any object or instance.\"\n",
    "\n",
    "2. Same as in the above example, if we want to change the age for every instance from 16 to 17, then we can do it by using the class variable, which in this case is Student. \n",
    "\n",
    "3. \"It is worth noting that updating the value of the class variable will not change it for the instance variables of the objects, such as in the case above.\"\n",
    "\n",
    "4. The code for changing age using a class variable will be something like this:\n",
    "\n",
    "5. Students.age = 18"
   ]
  },
  {
   "cell_type": "code",
   "execution_count": 7,
   "metadata": {},
   "outputs": [
    {
     "name": "stdout",
     "output_type": "stream",
     "text": [
      "8\n"
     ]
    }
   ],
   "source": [
    "class Employee:\n",
    "    no_of_leaves = 8\n",
    "    pass\n",
    "\n",
    "Ibad = Employee()\n",
    "Ali = Employee()\n",
    "\n",
    "Ibad.name = \"Ibad\"\n",
    "Ibad.salary = 455\n",
    "Ibad.role = \"Instructor\"\n",
    "\n",
    "Ali.name = \"Ali\"\n",
    "Ali.salary = 4554\n",
    "Ali.role = \"Student\"\n",
    "\n",
    "print(Employee.no_of_leaves)"
   ]
  },
  {
   "cell_type": "code",
   "execution_count": 8,
   "metadata": {},
   "outputs": [
    {
     "name": "stdout",
     "output_type": "stream",
     "text": [
      "{'__module__': '__main__', 'no_of_leaves': 8, '__dict__': <attribute '__dict__' of 'Employee' objects>, '__weakref__': <attribute '__weakref__' of 'Employee' objects>, '__doc__': None}\n"
     ]
    }
   ],
   "source": [
    "print(Employee.__dict__)"
   ]
  },
  {
   "cell_type": "code",
   "execution_count": 9,
   "metadata": {},
   "outputs": [],
   "source": [
    "Employee.no_of_leaves = 9"
   ]
  },
  {
   "cell_type": "code",
   "execution_count": 10,
   "metadata": {},
   "outputs": [
    {
     "name": "stdout",
     "output_type": "stream",
     "text": [
      "{'__module__': '__main__', 'no_of_leaves': 9, '__dict__': <attribute '__dict__' of 'Employee' objects>, '__weakref__': <attribute '__weakref__' of 'Employee' objects>, '__doc__': None}\n",
      "9\n"
     ]
    }
   ],
   "source": [
    "print(Employee.__dict__)\n",
    "print(Employee.no_of_leaves)"
   ]
  }
 ],
 "metadata": {
  "interpreter": {
   "hash": "5e96b45ffd47e93248c606a67b27fda686db23833db56219cd282bf80879b1f1"
  },
  "kernelspec": {
   "display_name": "Python 3.9.7 ('base')",
   "language": "python",
   "name": "python3"
  },
  "language_info": {
   "codemirror_mode": {
    "name": "ipython",
    "version": 3
   },
   "file_extension": ".py",
   "mimetype": "text/x-python",
   "name": "python",
   "nbconvert_exporter": "python",
   "pygments_lexer": "ipython3",
   "version": "3.9.7"
  },
  "orig_nbformat": 4
 },
 "nbformat": 4,
 "nbformat_minor": 2
}
