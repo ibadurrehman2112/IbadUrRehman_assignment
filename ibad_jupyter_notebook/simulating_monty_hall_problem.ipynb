{
 "cells": [
  {
   "cell_type": "code",
   "execution_count": 1,
   "metadata": {},
   "outputs": [
    {
     "name": "stderr",
     "output_type": "stream",
     "text": [
      "/tmp/ipykernel_188640/2166176975.py:21: DeprecationWarning: This function is deprecated. Please call randint(0, 2 + 1) instead\n",
      "  playerdoors = numpy.random.random_integers(0,2, (1000 * 1000 * 1,))\n"
     ]
    },
    {
     "name": "stdout",
     "output_type": "stream",
     "text": [
      "Winning percentage without changing choice:  0.333084\n",
      "Winning percentage while changing choice:  0.666916\n"
     ]
    }
   ],
   "source": [
    "import random\n",
    "from random import seed, randint\n",
    "import numpy\n",
    "\n",
    "def game(winningdoor, selecteddoor, change=False):\n",
    "    assert winningdoor < 3\n",
    "    assert winningdoor >= 0\n",
    "\n",
    "    # Presenter removes the first door that was not selected neither winning\n",
    "    removeddoor = next(i for i in range(3) if i != selecteddoor and i != winningdoor)\n",
    "\n",
    "    # Player decides to change its choice\n",
    "    if change:\n",
    "        selecteddoor = next(i for i in range(3) if i != selecteddoor and i != removeddoor)\n",
    "\n",
    "    # We suppose the player never wants to change its initial choice.\n",
    "    return selecteddoor == winningdoor\n",
    "\n",
    "\n",
    "if __name__ == '__main__':\n",
    "    playerdoors = numpy.random.random_integers(0,2, (1000 * 1000 * 1,))\n",
    "\n",
    "    winningdoors = [d for d in playerdoors if game(1, d)]\n",
    "    print(\"Winning percentage without changing choice: \", len(winningdoors) / len(playerdoors))\n",
    "\n",
    "    winningdoors = [d for d in playerdoors if game(1, d, change=True)]\n",
    "    print(\"Winning percentage while changing choice: \", len(winningdoors) / len(playerdoors))"
   ]
  },
  {
   "cell_type": "code",
   "execution_count": null,
   "metadata": {},
   "outputs": [],
   "source": []
  }
 ],
 "metadata": {
  "interpreter": {
   "hash": "5e96b45ffd47e93248c606a67b27fda686db23833db56219cd282bf80879b1f1"
  },
  "kernelspec": {
   "display_name": "Python 3.9.7 ('base')",
   "language": "python",
   "name": "python3"
  },
  "language_info": {
   "codemirror_mode": {
    "name": "ipython",
    "version": 3
   },
   "file_extension": ".py",
   "mimetype": "text/x-python",
   "name": "python",
   "nbconvert_exporter": "python",
   "pygments_lexer": "ipython3",
   "version": "3.9.7"
  },
  "orig_nbformat": 4
 },
 "nbformat": 4,
 "nbformat_minor": 2
}
