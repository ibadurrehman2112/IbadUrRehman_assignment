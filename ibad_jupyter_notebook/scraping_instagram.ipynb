{
 "cells": [
  {
   "cell_type": "code",
   "execution_count": 1,
   "metadata": {},
   "outputs": [],
   "source": [
    "# pip install instaloader"
   ]
  },
  {
   "cell_type": "code",
   "execution_count": 2,
   "metadata": {},
   "outputs": [
    {
     "name": "stdout",
     "output_type": "stream",
     "text": [
      "<class 'instaloader.structures.Profile'>\n"
     ]
    }
   ],
   "source": [
    "# Import the module\n",
    "import instaloader\n",
    "\n",
    "# Create an instance of Instaloader class\n",
    "bot = instaloader.Instaloader()\n",
    "\n",
    "# Load a profile from an Instagram handle\n",
    "profile = instaloader.Profile.from_username(bot.context, 'aman.kharwal')\n",
    "\n",
    "print(type(profile))"
   ]
  },
  {
   "cell_type": "code",
   "execution_count": 3,
   "metadata": {},
   "outputs": [
    {
     "name": "stdout",
     "output_type": "stream",
     "text": [
      "Username:  aman.kharwal\n",
      "User ID:  2046127138\n",
      "Number of Posts:  15\n",
      "Followers:  340\n",
      "Followees:  71\n",
      "Bio:  I love conversations about business ideas, personal growth, and mental health🌺\n",
      "Founder @the.clever.programmer\n",
      "Top Writer in AI @medium None\n"
     ]
    }
   ],
   "source": [
    "print(\"Username: \", profile.username)\n",
    "print(\"User ID: \", profile.userid)\n",
    "print(\"Number of Posts: \", profile.mediacount)\n",
    "print(\"Followers: \", profile.followers)\n",
    "print(\"Followees: \", profile.followees)\n",
    "print(\"Bio: \", profile.biography,profile.external_url)"
   ]
  },
  {
   "cell_type": "code",
   "execution_count": 4,
   "metadata": {},
   "outputs": [],
   "source": [
    "# # Login with username and password in the script\n",
    "# bot.login(user=\"your username\",passwd=\"your password\")\n",
    "\n",
    "# # Interactive login on terminal\n",
    "# bot.interactive_login(\"your username\") # Asks for password in the terminal"
   ]
  },
  {
   "cell_type": "code",
   "execution_count": 5,
   "metadata": {},
   "outputs": [],
   "source": [
    "# # Retrieve the usernames of all followers\n",
    "# followers = [follower.username for follower in profile.get_followers()]\n",
    "\n",
    "# # Retrieve the usernames of all followees\n",
    "# followees = [followee.username for followee in profile.get_followees()]\n",
    "# print(followers)"
   ]
  },
  {
   "cell_type": "code",
   "execution_count": 7,
   "metadata": {},
   "outputs": [
    {
     "name": "stdout",
     "output_type": "stream",
     "text": [
      "pytorch.py_1/2021-05-04_20-20-15_UTC.jpg [Face detection using Python a…] json \n",
      "pytorch.py_2/2021-04-20_13-04-16_UTC_1.jpg pytorch.py_2/2021-04-20_13-04-16_UTC_2.jpg [Printing the calendar using P…] json \n",
      "pytorch.py_3/2021-04-18_11-53-57_UTC.jpg [Importing file to your Python…] json \n",
      "pytorch.py_4/2021-04-17_08-30-39_UTC_1.jpg pytorch.py_4/2021-04-17_08-30-39_UTC_2.jpg pytorch.py_4/2021-04-17_08-30-39_UTC_3.jpg [Number Guessing Game with Pyt…] json \n",
      "pytorch.py_5/2021-04-16_19-28-02_UTC_1.jpg pytorch.py_5/2021-04-16_19-28-02_UTC_2.jpg [Reading, writing from or to a…] json \n"
     ]
    }
   ],
   "source": [
    "# Load a new profile\n",
    "profile = instaloader.Profile.from_username(bot.context, 'pytorch.py')\n",
    "\n",
    "# Get all posts in a generator object\n",
    "posts = profile.get_posts()\n",
    "\n",
    "# Iterate and download\n",
    "for index, post in enumerate(posts, 1):\n",
    "    bot.download_post(post, target=f\"{profile.username}_{index}\")"
   ]
  },
  {
   "cell_type": "code",
   "execution_count": null,
   "metadata": {},
   "outputs": [],
   "source": []
  }
 ],
 "metadata": {
  "interpreter": {
   "hash": "5e96b45ffd47e93248c606a67b27fda686db23833db56219cd282bf80879b1f1"
  },
  "kernelspec": {
   "display_name": "Python 3.9.7 ('base')",
   "language": "python",
   "name": "python3"
  },
  "language_info": {
   "codemirror_mode": {
    "name": "ipython",
    "version": 3
   },
   "file_extension": ".py",
   "mimetype": "text/x-python",
   "name": "python",
   "nbconvert_exporter": "python",
   "pygments_lexer": "ipython3",
   "version": "3.9.7"
  },
  "orig_nbformat": 4
 },
 "nbformat": 4,
 "nbformat_minor": 2
}
