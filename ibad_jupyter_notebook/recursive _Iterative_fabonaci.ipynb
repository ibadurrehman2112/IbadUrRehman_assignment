{
 "cells": [
  {
   "cell_type": "code",
   "execution_count": 1,
   "metadata": {},
   "outputs": [
    {
     "name": "stdout",
     "output_type": "stream",
     "text": [
      "3\n"
     ]
    }
   ],
   "source": [
    "# 0 1 1 2 3 5 8 13\n",
    "def fibonacci(n):\n",
    "    if n==1:\n",
    "        return 0\n",
    "    elif n==2:\n",
    "        return 1\n",
    "    else:\n",
    "        return fibonacci(n-1)+ fibonacci(n-2)\n",
    "\n",
    "\n",
    "number1 = int(input(\"Enter then number\"))\n",
    "\n",
    "\n",
    "print(fibonacci(number1))"
   ]
  },
  {
   "cell_type": "code",
   "execution_count": 2,
   "id": "70784025",
   "metadata": {},
   "outputs": [
    {
     "name": "stdout",
     "output_type": "stream",
     "text": [
      "Factorial Using Recursive Method 120\n"
     ]
    }
   ],
   "source": [
    "def factorial_recursive(n):\n",
    "    \"\"\"\n",
    "        :param n: Integer\n",
    "        :return: n * n-1 * n-2 * n-3.......1\n",
    "    \"\"\"\n",
    "    if n ==1:\n",
    "        return 1\n",
    "    else:\n",
    "        return n * factorial_recursive(n-1)\n",
    "    # 5 * factorial_recursive(4)\n",
    "    # 5 * 4 * factorial_recursive(3)\n",
    "    # 5 * 4 * 3 * factorial_recursive(2)\n",
    "    # 5 * 4 * 3 * 2 * factorial_recursive(1)\n",
    "    # 5 * 4 * 3 * 2 * 1 = 120\n",
    "number2 = int(input(\"Enter then number\"))\n",
    "print(\"Factorial Using Recursive Method\", factorial_recursive(number2))"
   ]
  },
  {
   "cell_type": "code",
   "execution_count": 3,
   "id": "21fd629d",
   "metadata": {},
   "outputs": [
    {
     "name": "stdout",
     "output_type": "stream",
     "text": [
      "Factorial Using Iterative Method 120\n"
     ]
    }
   ],
   "source": [
    "# n! = n * n-1 * n-2 * n-3.......1\n",
    "# n! = n * (n-1)!\n",
    "def factorial_iterative(n):\n",
    "    \"\"\"\n",
    "        :param n: Integer\n",
    "        :return: n * n-1 * n-2 * n-3.......1\n",
    "    \"\"\"\n",
    "    fac = 1\n",
    "    for i in range(n):\n",
    "        fac = fac * (i+1)\n",
    "    return fac\n",
    "number3 = int(input(\"Enter then number\"))\n",
    "print(\"Factorial Using Iterative Method\", factorial_iterative(number3))"
   ]
  },
  {
   "cell_type": "code",
   "execution_count": null,
   "id": "1f7b9b2e",
   "metadata": {},
   "outputs": [],
   "source": []
  }
 ],
 "metadata": {
  "interpreter": {
   "hash": "5e96b45ffd47e93248c606a67b27fda686db23833db56219cd282bf80879b1f1"
  },
  "kernelspec": {
   "display_name": "Python 3.9.7 ('base')",
   "language": "python",
   "name": "python3"
  },
  "language_info": {
   "codemirror_mode": {
    "name": "ipython",
    "version": 3
   },
   "file_extension": ".py",
   "mimetype": "text/x-python",
   "name": "python",
   "nbconvert_exporter": "python",
   "pygments_lexer": "ipython3",
   "version": "3.9.7"
  }
 },
 "nbformat": 4,
 "nbformat_minor": 5
}
