{
 "cells": [
  {
   "cell_type": "markdown",
   "metadata": {},
   "source": [
    "### Car Price Prediction"
   ]
  },
  {
   "cell_type": "code",
   "execution_count": 1,
   "metadata": {},
   "outputs": [],
   "source": [
    "import numpy as np \n",
    "import pandas as pd \n",
    "\n",
    "import os\n",
    "for dirname, _, filenames in os.walk('resources/data.csv'):\n",
    "    for filename in filenames:\n",
    "        print(os.path.join(dirname, filename))"
   ]
  },
  {
   "cell_type": "markdown",
   "metadata": {},
   "source": [
    "1. Import pandas and store dataframe in a variable"
   ]
  },
  {
   "cell_type": "code",
   "execution_count": 2,
   "metadata": {},
   "outputs": [],
   "source": [
    "import pandas as pd\n",
    "car_filepath='resources/data.csv'\n",
    "car_data=pd.read_csv(car_filepath)"
   ]
  },
  {
   "cell_type": "code",
   "execution_count": 4,
   "metadata": {},
   "outputs": [
    {
     "data": {
      "text/html": [
       "<div>\n",
       "<style scoped>\n",
       "    .dataframe tbody tr th:only-of-type {\n",
       "        vertical-align: middle;\n",
       "    }\n",
       "\n",
       "    .dataframe tbody tr th {\n",
       "        vertical-align: top;\n",
       "    }\n",
       "\n",
       "    .dataframe thead th {\n",
       "        text-align: right;\n",
       "    }\n",
       "</style>\n",
       "<table border=\"1\" class=\"dataframe\">\n",
       "  <thead>\n",
       "    <tr style=\"text-align: right;\">\n",
       "      <th></th>\n",
       "      <th>Make</th>\n",
       "      <th>Model</th>\n",
       "      <th>Year</th>\n",
       "      <th>Engine Fuel Type</th>\n",
       "      <th>Engine HP</th>\n",
       "      <th>Engine Cylinders</th>\n",
       "      <th>Transmission Type</th>\n",
       "      <th>Driven_Wheels</th>\n",
       "      <th>Number of Doors</th>\n",
       "      <th>Market Category</th>\n",
       "      <th>Vehicle Size</th>\n",
       "      <th>Vehicle Style</th>\n",
       "      <th>highway MPG</th>\n",
       "      <th>city mpg</th>\n",
       "      <th>Popularity</th>\n",
       "      <th>MSRP</th>\n",
       "    </tr>\n",
       "  </thead>\n",
       "  <tbody>\n",
       "    <tr>\n",
       "      <th>0</th>\n",
       "      <td>BMW</td>\n",
       "      <td>1 Series M</td>\n",
       "      <td>2011</td>\n",
       "      <td>premium unleaded (required)</td>\n",
       "      <td>335.0</td>\n",
       "      <td>6.0</td>\n",
       "      <td>MANUAL</td>\n",
       "      <td>rear wheel drive</td>\n",
       "      <td>2.0</td>\n",
       "      <td>Factory Tuner,Luxury,High-Performance</td>\n",
       "      <td>Compact</td>\n",
       "      <td>Coupe</td>\n",
       "      <td>26</td>\n",
       "      <td>19</td>\n",
       "      <td>3916</td>\n",
       "      <td>46135</td>\n",
       "    </tr>\n",
       "    <tr>\n",
       "      <th>1</th>\n",
       "      <td>BMW</td>\n",
       "      <td>1 Series</td>\n",
       "      <td>2011</td>\n",
       "      <td>premium unleaded (required)</td>\n",
       "      <td>300.0</td>\n",
       "      <td>6.0</td>\n",
       "      <td>MANUAL</td>\n",
       "      <td>rear wheel drive</td>\n",
       "      <td>2.0</td>\n",
       "      <td>Luxury,Performance</td>\n",
       "      <td>Compact</td>\n",
       "      <td>Convertible</td>\n",
       "      <td>28</td>\n",
       "      <td>19</td>\n",
       "      <td>3916</td>\n",
       "      <td>40650</td>\n",
       "    </tr>\n",
       "    <tr>\n",
       "      <th>2</th>\n",
       "      <td>BMW</td>\n",
       "      <td>1 Series</td>\n",
       "      <td>2011</td>\n",
       "      <td>premium unleaded (required)</td>\n",
       "      <td>300.0</td>\n",
       "      <td>6.0</td>\n",
       "      <td>MANUAL</td>\n",
       "      <td>rear wheel drive</td>\n",
       "      <td>2.0</td>\n",
       "      <td>Luxury,High-Performance</td>\n",
       "      <td>Compact</td>\n",
       "      <td>Coupe</td>\n",
       "      <td>28</td>\n",
       "      <td>20</td>\n",
       "      <td>3916</td>\n",
       "      <td>36350</td>\n",
       "    </tr>\n",
       "    <tr>\n",
       "      <th>3</th>\n",
       "      <td>BMW</td>\n",
       "      <td>1 Series</td>\n",
       "      <td>2011</td>\n",
       "      <td>premium unleaded (required)</td>\n",
       "      <td>230.0</td>\n",
       "      <td>6.0</td>\n",
       "      <td>MANUAL</td>\n",
       "      <td>rear wheel drive</td>\n",
       "      <td>2.0</td>\n",
       "      <td>Luxury,Performance</td>\n",
       "      <td>Compact</td>\n",
       "      <td>Coupe</td>\n",
       "      <td>28</td>\n",
       "      <td>18</td>\n",
       "      <td>3916</td>\n",
       "      <td>29450</td>\n",
       "    </tr>\n",
       "  </tbody>\n",
       "</table>\n",
       "</div>"
      ],
      "text/plain": [
       "  Make       Model  Year             Engine Fuel Type  Engine HP  \\\n",
       "0  BMW  1 Series M  2011  premium unleaded (required)      335.0   \n",
       "1  BMW    1 Series  2011  premium unleaded (required)      300.0   \n",
       "2  BMW    1 Series  2011  premium unleaded (required)      300.0   \n",
       "3  BMW    1 Series  2011  premium unleaded (required)      230.0   \n",
       "\n",
       "   Engine Cylinders Transmission Type     Driven_Wheels  Number of Doors  \\\n",
       "0               6.0            MANUAL  rear wheel drive              2.0   \n",
       "1               6.0            MANUAL  rear wheel drive              2.0   \n",
       "2               6.0            MANUAL  rear wheel drive              2.0   \n",
       "3               6.0            MANUAL  rear wheel drive              2.0   \n",
       "\n",
       "                         Market Category Vehicle Size Vehicle Style  \\\n",
       "0  Factory Tuner,Luxury,High-Performance      Compact         Coupe   \n",
       "1                     Luxury,Performance      Compact   Convertible   \n",
       "2                Luxury,High-Performance      Compact         Coupe   \n",
       "3                     Luxury,Performance      Compact         Coupe   \n",
       "\n",
       "   highway MPG  city mpg  Popularity   MSRP  \n",
       "0           26        19        3916  46135  \n",
       "1           28        19        3916  40650  \n",
       "2           28        20        3916  36350  \n",
       "3           28        18        3916  29450  "
      ]
     },
     "execution_count": 4,
     "metadata": {},
     "output_type": "execute_result"
    }
   ],
   "source": [
    "car_data.head(4)\n"
   ]
  },
  {
   "cell_type": "code",
   "execution_count": 5,
   "metadata": {},
   "outputs": [
    {
     "data": {
      "text/html": [
       "<div>\n",
       "<style scoped>\n",
       "    .dataframe tbody tr th:only-of-type {\n",
       "        vertical-align: middle;\n",
       "    }\n",
       "\n",
       "    .dataframe tbody tr th {\n",
       "        vertical-align: top;\n",
       "    }\n",
       "\n",
       "    .dataframe thead th {\n",
       "        text-align: right;\n",
       "    }\n",
       "</style>\n",
       "<table border=\"1\" class=\"dataframe\">\n",
       "  <thead>\n",
       "    <tr style=\"text-align: right;\">\n",
       "      <th></th>\n",
       "      <th>Year</th>\n",
       "      <th>Engine HP</th>\n",
       "      <th>Engine Cylinders</th>\n",
       "      <th>Number of Doors</th>\n",
       "      <th>highway MPG</th>\n",
       "      <th>city mpg</th>\n",
       "      <th>Popularity</th>\n",
       "      <th>MSRP</th>\n",
       "    </tr>\n",
       "  </thead>\n",
       "  <tbody>\n",
       "    <tr>\n",
       "      <th>count</th>\n",
       "      <td>11914.000000</td>\n",
       "      <td>11845.00000</td>\n",
       "      <td>11884.000000</td>\n",
       "      <td>11908.000000</td>\n",
       "      <td>11914.000000</td>\n",
       "      <td>11914.000000</td>\n",
       "      <td>11914.000000</td>\n",
       "      <td>1.191400e+04</td>\n",
       "    </tr>\n",
       "    <tr>\n",
       "      <th>mean</th>\n",
       "      <td>2010.384338</td>\n",
       "      <td>249.38607</td>\n",
       "      <td>5.628829</td>\n",
       "      <td>3.436093</td>\n",
       "      <td>26.637485</td>\n",
       "      <td>19.733255</td>\n",
       "      <td>1554.911197</td>\n",
       "      <td>4.059474e+04</td>\n",
       "    </tr>\n",
       "    <tr>\n",
       "      <th>std</th>\n",
       "      <td>7.579740</td>\n",
       "      <td>109.19187</td>\n",
       "      <td>1.780559</td>\n",
       "      <td>0.881315</td>\n",
       "      <td>8.863001</td>\n",
       "      <td>8.987798</td>\n",
       "      <td>1441.855347</td>\n",
       "      <td>6.010910e+04</td>\n",
       "    </tr>\n",
       "    <tr>\n",
       "      <th>min</th>\n",
       "      <td>1990.000000</td>\n",
       "      <td>55.00000</td>\n",
       "      <td>0.000000</td>\n",
       "      <td>2.000000</td>\n",
       "      <td>12.000000</td>\n",
       "      <td>7.000000</td>\n",
       "      <td>2.000000</td>\n",
       "      <td>2.000000e+03</td>\n",
       "    </tr>\n",
       "    <tr>\n",
       "      <th>25%</th>\n",
       "      <td>2007.000000</td>\n",
       "      <td>170.00000</td>\n",
       "      <td>4.000000</td>\n",
       "      <td>2.000000</td>\n",
       "      <td>22.000000</td>\n",
       "      <td>16.000000</td>\n",
       "      <td>549.000000</td>\n",
       "      <td>2.100000e+04</td>\n",
       "    </tr>\n",
       "    <tr>\n",
       "      <th>50%</th>\n",
       "      <td>2015.000000</td>\n",
       "      <td>227.00000</td>\n",
       "      <td>6.000000</td>\n",
       "      <td>4.000000</td>\n",
       "      <td>26.000000</td>\n",
       "      <td>18.000000</td>\n",
       "      <td>1385.000000</td>\n",
       "      <td>2.999500e+04</td>\n",
       "    </tr>\n",
       "    <tr>\n",
       "      <th>75%</th>\n",
       "      <td>2016.000000</td>\n",
       "      <td>300.00000</td>\n",
       "      <td>6.000000</td>\n",
       "      <td>4.000000</td>\n",
       "      <td>30.000000</td>\n",
       "      <td>22.000000</td>\n",
       "      <td>2009.000000</td>\n",
       "      <td>4.223125e+04</td>\n",
       "    </tr>\n",
       "    <tr>\n",
       "      <th>max</th>\n",
       "      <td>2017.000000</td>\n",
       "      <td>1001.00000</td>\n",
       "      <td>16.000000</td>\n",
       "      <td>4.000000</td>\n",
       "      <td>354.000000</td>\n",
       "      <td>137.000000</td>\n",
       "      <td>5657.000000</td>\n",
       "      <td>2.065902e+06</td>\n",
       "    </tr>\n",
       "  </tbody>\n",
       "</table>\n",
       "</div>"
      ],
      "text/plain": [
       "               Year    Engine HP  Engine Cylinders  Number of Doors  \\\n",
       "count  11914.000000  11845.00000      11884.000000     11908.000000   \n",
       "mean    2010.384338    249.38607          5.628829         3.436093   \n",
       "std        7.579740    109.19187          1.780559         0.881315   \n",
       "min     1990.000000     55.00000          0.000000         2.000000   \n",
       "25%     2007.000000    170.00000          4.000000         2.000000   \n",
       "50%     2015.000000    227.00000          6.000000         4.000000   \n",
       "75%     2016.000000    300.00000          6.000000         4.000000   \n",
       "max     2017.000000   1001.00000         16.000000         4.000000   \n",
       "\n",
       "        highway MPG      city mpg    Popularity          MSRP  \n",
       "count  11914.000000  11914.000000  11914.000000  1.191400e+04  \n",
       "mean      26.637485     19.733255   1554.911197  4.059474e+04  \n",
       "std        8.863001      8.987798   1441.855347  6.010910e+04  \n",
       "min       12.000000      7.000000      2.000000  2.000000e+03  \n",
       "25%       22.000000     16.000000    549.000000  2.100000e+04  \n",
       "50%       26.000000     18.000000   1385.000000  2.999500e+04  \n",
       "75%       30.000000     22.000000   2009.000000  4.223125e+04  \n",
       "max      354.000000    137.000000   5657.000000  2.065902e+06  "
      ]
     },
     "execution_count": 5,
     "metadata": {},
     "output_type": "execute_result"
    }
   ],
   "source": [
    "car_data.describe()"
   ]
  },
  {
   "cell_type": "code",
   "execution_count": 6,
   "metadata": {},
   "outputs": [
    {
     "name": "stdout",
     "output_type": "stream",
     "text": [
      "Index(['Make', 'Model', 'Year', 'Engine Fuel Type', 'Engine HP',\n",
      "       'Engine Cylinders', 'Transmission Type', 'Driven_Wheels',\n",
      "       'Number of Doors', 'Market Category', 'Vehicle Size', 'Vehicle Style',\n",
      "       'highway MPG', 'city mpg', 'Popularity', 'MSRP'],\n",
      "      dtype='object')\n"
     ]
    }
   ],
   "source": [
    "print(car_data.columns)\n",
    "car_data = car_data.dropna(axis=0)#drop any missing values\n",
    "#for i in range (len(car_data.Make))"
   ]
  },
  {
   "cell_type": "code",
   "execution_count": 7,
   "metadata": {},
   "outputs": [],
   "source": [
    "feature_col=['Make','Model','Year','Engine HP','Market Category']#selected most important ones\n",
    "#instead of algo making selection"
   ]
  },
  {
   "cell_type": "markdown",
   "metadata": {},
   "source": [
    "#### Convert String features to numbers"
   ]
  },
  {
   "cell_type": "code",
   "execution_count": 9,
   "metadata": {},
   "outputs": [
    {
     "name": "stdout",
     "output_type": "stream",
     "text": [
      "0        46135\n",
      "1        40650\n",
      "2        36350\n",
      "3        29450\n",
      "4        34500\n",
      "         ...  \n",
      "11909    46120\n",
      "11910    56670\n",
      "11911    50620\n",
      "11912    50920\n",
      "11913    28995\n",
      "Name: MSRP, Length: 8084, dtype: int64\n"
     ]
    }
   ],
   "source": [
    "#from sklearn import preprocessing\n",
    "#le = preprocessing.LabelEncoder()\n",
    "\"\"\"In Future\n",
    "1-Instead of using encoder I plan to store all Make elements(and Model and Category) in lists\n",
    "and use \n",
    "the position inside list as number,then I can easily convert back any number to list\n",
    "2-Want to be able to predict for any car ie is not in data,will create a variable and test.\n",
    "For any car that doesnt have a name that exists in list, ie some unseen car, I would\n",
    "simply add that car Make to these lists and run my predictor, but only allow to select from \n",
    "available catoegories for new elements since, predictor depends on category of car so wont\n",
    "be able to make predictor for new category.\"\"\"\n",
    "\n",
    "\n",
    "\n",
    "\n",
    "carMakeLst=[]#variable will contain list of all car brands that are there in the dataset\n",
    "for Brand in (car_data.Make):\n",
    "    if Brand not in carMakeLst:\n",
    "        carMakeLst.append(Brand)\n",
    "\n",
    "car_data['MakeInd']=[carMakeLst.index(Make) for Make in car_data.Make]\n",
    "\n",
    "#print(car_data.MakeInd)\n",
    "\n",
    "carCategory=[]#variable will contain list of all car categories that are there in the dataset\n",
    "for Category in (car_data['Market Category']):\n",
    "    if Category not in carCategory:\n",
    "        carCategory.append(Category)\n",
    "#print(carCategory)\n",
    "car_data['MktCategoryInd']=[carCategory.index(Cat) for Cat in car_data['Market Category']]\n",
    "\n",
    "\n",
    "carModel=[]#variable will contain list of all car models that are there in the dataset\n",
    "for Model in (car_data['Model']):\n",
    "    if Model not in car_data.Model:\n",
    "        carModel.append(Model)\n",
    "#print(carModel)\n",
    "car_data['ModelLstInd']=[carModel.index(Mod) for Mod in car_data['Model']]\n",
    "\n",
    "\n",
    "\n",
    "\n",
    "\"\"\"Make is string was\n",
    "causing problems with decision treeregression,Market Categ and model also causing problems\n",
    "So I will convert them to numbers and add new column to dataframe\"\"\"\n",
    "new_feature_col=['MakeInd','ModelLstInd','Year','Engine HP','MktCategoryInd']\n",
    "X=car_data[new_feature_col]#will use only these features for training and ignore rest\n",
    "y=car_data.MSRP\n",
    "print(y)"
   ]
  },
  {
   "cell_type": "markdown",
   "metadata": {},
   "source": [
    "#### Split Test data and use Decision Tree Regressor"
   ]
  },
  {
   "cell_type": "code",
   "execution_count": 10,
   "metadata": {},
   "outputs": [
    {
     "data": {
      "text/plain": [
       "DecisionTreeRegressor(random_state=1)"
      ]
     },
     "execution_count": 10,
     "metadata": {},
     "output_type": "execute_result"
    }
   ],
   "source": [
    "from sklearn.tree import DecisionTreeRegressor\n",
    "from sklearn.model_selection import train_test_split\n",
    "train_X, val_X, train_y, val_y = train_test_split(X,y, random_state = 1)#splitting data to\n",
    "#to accuately evaluate model,otherwise since model was trained on same data so \n",
    "#would make accurate predictions of same dataset but might struggle with other data \n",
    "#due to overfitting.\n",
    "car_pred_model= DecisionTreeRegressor(random_state=1)\n",
    "car_pred_model.fit(train_X,train_y)"
   ]
  },
  {
   "cell_type": "markdown",
   "metadata": {},
   "source": [
    "#### Testing and Evaluating my trained Model"
   ]
  },
  {
   "cell_type": "code",
   "execution_count": 11,
   "metadata": {},
   "outputs": [
    {
     "name": "stdout",
     "output_type": "stream",
     "text": [
      "[17870.         49086.42857143 16228.75        2000.\n",
      " 31560.         46116.25       37620.         53800.\n",
      " 39705.         27990.        ]\n",
      "4788     23225\n",
      "4474     55305\n",
      "11814    15945\n",
      "39        2000\n",
      "10879    31010\n",
      "9966     45255\n",
      "5041     27405\n",
      "7820     50200\n",
      "3585     45955\n",
      "4928     28440\n",
      "Name: MSRP, dtype: int64\n"
     ]
    }
   ],
   "source": [
    "val_predictions = car_pred_model.predict(val_X)\n",
    "print(val_predictions[0:10])\n",
    "print(val_y[0:10])"
   ]
  },
  {
   "cell_type": "code",
   "execution_count": 12,
   "metadata": {},
   "outputs": [
    {
     "name": "stdout",
     "output_type": "stream",
     "text": [
      "Error is: 8.654012011017446% of avg price\n"
     ]
    }
   ],
   "source": [
    "from sklearn.metrics import mean_absolute_error\n",
    "val_mae =(mean_absolute_error(val_y, val_predictions))\n",
    "avg_price=5.007267e+04\n",
    "print(\"Error is: \"+str(val_mae*100/avg_price)+\"% of avg price\")"
   ]
  },
  {
   "cell_type": "code",
   "execution_count": 13,
   "metadata": {},
   "outputs": [
    {
     "name": "stdout",
     "output_type": "stream",
     "text": [
      "[17870.         49086.42857143]\n",
      "4788    23225\n",
      "4474    55305\n",
      "Name: MSRP, dtype: int64\n",
      "ActPrice: 23225 Make: Ford Category: Flex Fuel\n",
      "ActPrice: 55305 Make: Ford Category: Flex Fuel\n"
     ]
    }
   ],
   "source": [
    "print(val_predictions[0:2])\n",
    "print(val_y[0:2])#ActPrice\n",
    "print(\"ActPrice: \"+str(car_data.MSRP[4788])+\" Make: \"+str(car_data.Make[4788])+\" Category: \"+str(car_data['Market Category'][4788]))\n",
    "print(\"ActPrice: \"+str(car_data.MSRP[4474])+\" Make: \"+str(car_data.Make[4474])+\" Category: \"+str(car_data['Market Category'][4474]))"
   ]
  },
  {
   "cell_type": "code",
   "execution_count": 14,
   "metadata": {},
   "outputs": [
    {
     "name": "stdout",
     "output_type": "stream",
     "text": [
      "myPrice: [35595.]\n",
      "         Make Model  Year  Engine Fuel Type  Engine HP  Engine Cylinders  \\\n",
      "217  Chrysler   300  2016  regular unleaded      300.0               6.0   \n",
      "\n",
      "    Transmission Type     Driven_Wheels  Number of Doors Market Category  \\\n",
      "217         AUTOMATIC  rear wheel drive              4.0     Performance   \n",
      "\n",
      "    Vehicle Size Vehicle Style  highway MPG  city mpg  Popularity   MSRP  \\\n",
      "217        Large         Sedan           31        19        1013  36090   \n",
      "\n",
      "     MakeInd  MktCategoryInd  ModelLstInd  \n",
      "217        4               4          197  \n",
      "\n",
      " \n",
      " Difference: [495.]$\n"
     ]
    }
   ],
   "source": [
    "#Having some trouble converting back the codes to strings\n",
    "#eg:lets predict price of the first car ie car_data[0]\n",
    "myprediction=car_pred_model.predict(X[200:201])\n",
    "print(\"myPrice: \"+str(myprediction))\n",
    "print(car_data[200:201])\n",
    "print(\"\\n \\n Difference: \"+str(36090-myprediction)+\"$\")"
   ]
  },
  {
   "cell_type": "markdown",
   "metadata": {},
   "source": [
    "- Comment:\"Got rid of the encoder (which I used to convert string to int because DecisionTreeRegressor fit would only accept numbers) since inverse encoding had problems. \"\n",
    "- Let's create a car, (ie not a car from dataset but a new car) with some fields that software wont be familiar with, eg a new Model perhaps. Then we shall see if software can predict its price.\n"
   ]
  },
  {
   "cell_type": "markdown",
   "metadata": {},
   "source": [
    "#### Testing car Price on a car that is not in dataset\n",
    "- I have made sure its category already exists in data set since predictions are highly dependent on features like that"
   ]
  },
  {
   "cell_type": "code",
   "execution_count": 15,
   "metadata": {},
   "outputs": [
    {
     "name": "stdout",
     "output_type": "stream",
     "text": [
      "Must define these categories for a new car['MakeInd', 'ModelLstInd', 'Year', 'Engine HP', 'MktCategoryInd']\n",
      "\n",
      "Predicted Nissan Sunny Price: [28895.]\n",
      "Actual Price is 20000, so error of about: [30.78387264]%\n"
     ]
    },
    {
     "name": "stderr",
     "output_type": "stream",
     "text": [
      "/home/ibadhep/anaconda3/lib/python3.9/site-packages/sklearn/base.py:493: FutureWarning: The feature names should match those that were passed during fit. Starting version 1.2, an error will be raised.\n",
      "Feature names unseen at fit time:\n",
      "- Engine_HP\n",
      "- MktCategory\n",
      "Feature names seen at fit time, yet now missing:\n",
      "- Engine HP\n",
      "- MktCategoryInd\n",
      "\n",
      "  warnings.warn(message, FutureWarning)\n"
     ]
    }
   ],
   "source": [
    "#print(X[200:201])\n",
    "#print(carMakeLst)\n",
    "TestMake=['Nissan']\n",
    "TestModel=['Sunny']\n",
    "#print(carModel)\n",
    "TestCategory=['Performance']\n",
    "TestEngine_HP=150.0\n",
    "TestYear=2017\n",
    "print(\"Must define these categories for a new car\"+str(new_feature_col)+\"\\n\")#categories that I must define for a car,predictor wouldnt work without them\n",
    "#Now lets convert these to numbers\n",
    "if 'Performance' in carCategory:\n",
    "    #print(carCategory.index('Performance'))\n",
    "    TestCategory=carCategory.index('Performance')#converting to num for predictor\n",
    "else:\n",
    "    carCategory.append('Performance')\n",
    "    TestCategory=carCategory.index('Performance')\n",
    "    \n",
    "if 'Nissan' in carMakeLst:\n",
    "    #print(carMakeLst.index('Nissan'))\n",
    "    TestMake=carMakeLst.index('Nissan')\n",
    "else:\n",
    "    carMakeLst.append('Nissan')\n",
    "    TestMake=carMakeLst.index('Nissan')\n",
    "\n",
    "if 'Sunny' in carModel:\n",
    "    #print(carModel.index('Sunny'))\n",
    "    TestModel=carModel.index('Sunny')\n",
    "else:\n",
    "    carModel.append('Sunny')\n",
    "    TestModel=carModel.index('Sunny')\n",
    "    \n",
    "\n",
    "d = {'MakeInd': TestMake, 'ModelLstInd': [TestModel],'Year':[TestYear],'Engine_HP':[TestEngine_HP],'MktCategory':[TestCategory]}\n",
    "df = pd.DataFrame(data=d)\n",
    "SunnyPricePred = car_pred_model.predict(df)\n",
    "print(\"Predicted Nissan Sunny Price: \"+str(SunnyPricePred))\n",
    "print(\"Actual Price is 20000, so error of about: \"+str((SunnyPricePred-20000)*100/SunnyPricePred)+\"%\")"
   ]
  },
  {
   "cell_type": "code",
   "execution_count": null,
   "metadata": {},
   "outputs": [],
   "source": []
  }
 ],
 "metadata": {
  "interpreter": {
   "hash": "5e96b45ffd47e93248c606a67b27fda686db23833db56219cd282bf80879b1f1"
  },
  "kernelspec": {
   "display_name": "Python 3.9.12 ('base')",
   "language": "python",
   "name": "python3"
  },
  "language_info": {
   "codemirror_mode": {
    "name": "ipython",
    "version": 3
   },
   "file_extension": ".py",
   "mimetype": "text/x-python",
   "name": "python",
   "nbconvert_exporter": "python",
   "pygments_lexer": "ipython3",
   "version": "3.9.12"
  },
  "orig_nbformat": 4
 },
 "nbformat": 4,
 "nbformat_minor": 2
}
