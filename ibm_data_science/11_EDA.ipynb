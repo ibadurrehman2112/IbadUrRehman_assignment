{
 "cells": [
  {
   "cell_type": "markdown",
   "metadata": {},
   "source": [
    "<center>\n",
    "    <img src=\"https://s3-api.us-geo.objectstorage.softlayer.net/cf-courses-data/CognitiveClass/Logos/organization_logo/organization_logo.png\" width=\"300\" alt=\"cognitiveclass.ai logo\"  />\n",
    "</center>\n",
    "\n",
    "# Analyzing Where Do People Drink?\n",
    "\n",
    "Estimated time needed: **30** minutes\n",
    "\n",
    "## Objectives\n",
    "\n",
    "After completing this lab you will be able to:\n",
    "\n",
    "-   Be confident about your data analysis skills\n"
   ]
  },
  {
   "cell_type": "raw",
   "metadata": {},
   "source": [
    "This Dataset is from the story <a href=https://fivethirtyeight.com/features/dear-mona-followup-where-do-people-drink-the-most-beer-wine-and-spirits/>  Dear Mona Followup: Where Do People Drink The Most Beer, Wine And Spirits? </a>  The dataset contains Average serving sizes per person such as average wine, spirit, beer servings. As well as several other metrics. You will be asked to analyze the data and predict the total liters served given the servings. See how to share your lab at the end.\n"
   ]
  },
  {
   "cell_type": "markdown",
   "metadata": {},
   "source": [
    "You will need the following libraries:\n"
   ]
  },
  {
   "cell_type": "code",
   "execution_count": 23,
   "metadata": {},
   "outputs": [],
   "source": [
    "import pandas as pd\n",
    "import numpy as np\n",
    "import matplotlib.pyplot as plt\n",
    "import matplotlib as mpl\n",
    "\n"
   ]
  },
  {
   "cell_type": "markdown",
   "metadata": {},
   "source": [
    "<b>1.0 Importing the Data</b>\n"
   ]
  },
  {
   "cell_type": "markdown",
   "metadata": {},
   "source": [
    "Load the csv:\n"
   ]
  },
  {
   "cell_type": "code",
   "execution_count": 24,
   "metadata": {},
   "outputs": [
    {
     "data": {
      "text/html": [
       "<div>\n",
       "<style scoped>\n",
       "    .dataframe tbody tr th:only-of-type {\n",
       "        vertical-align: middle;\n",
       "    }\n",
       "\n",
       "    .dataframe tbody tr th {\n",
       "        vertical-align: top;\n",
       "    }\n",
       "\n",
       "    .dataframe thead th {\n",
       "        text-align: right;\n",
       "    }\n",
       "</style>\n",
       "<table border=\"1\" class=\"dataframe\">\n",
       "  <thead>\n",
       "    <tr style=\"text-align: right;\">\n",
       "      <th></th>\n",
       "      <th>country</th>\n",
       "      <th>beer_servings</th>\n",
       "      <th>spirit_servings</th>\n",
       "      <th>wine_servings</th>\n",
       "      <th>total_litres_of_pure_alcohol</th>\n",
       "      <th>continent</th>\n",
       "    </tr>\n",
       "  </thead>\n",
       "  <tbody>\n",
       "    <tr>\n",
       "      <th>0</th>\n",
       "      <td>Afghanistan</td>\n",
       "      <td>0</td>\n",
       "      <td>0</td>\n",
       "      <td>0</td>\n",
       "      <td>0.0</td>\n",
       "      <td>Asia</td>\n",
       "    </tr>\n",
       "    <tr>\n",
       "      <th>1</th>\n",
       "      <td>Albania</td>\n",
       "      <td>89</td>\n",
       "      <td>132</td>\n",
       "      <td>54</td>\n",
       "      <td>4.9</td>\n",
       "      <td>Europe</td>\n",
       "    </tr>\n",
       "    <tr>\n",
       "      <th>2</th>\n",
       "      <td>Algeria</td>\n",
       "      <td>25</td>\n",
       "      <td>0</td>\n",
       "      <td>14</td>\n",
       "      <td>0.7</td>\n",
       "      <td>Africa</td>\n",
       "    </tr>\n",
       "    <tr>\n",
       "      <th>3</th>\n",
       "      <td>Andorra</td>\n",
       "      <td>245</td>\n",
       "      <td>138</td>\n",
       "      <td>312</td>\n",
       "      <td>12.4</td>\n",
       "      <td>Europe</td>\n",
       "    </tr>\n",
       "    <tr>\n",
       "      <th>4</th>\n",
       "      <td>Angola</td>\n",
       "      <td>217</td>\n",
       "      <td>57</td>\n",
       "      <td>45</td>\n",
       "      <td>5.9</td>\n",
       "      <td>Africa</td>\n",
       "    </tr>\n",
       "    <tr>\n",
       "      <th>...</th>\n",
       "      <td>...</td>\n",
       "      <td>...</td>\n",
       "      <td>...</td>\n",
       "      <td>...</td>\n",
       "      <td>...</td>\n",
       "      <td>...</td>\n",
       "    </tr>\n",
       "    <tr>\n",
       "      <th>188</th>\n",
       "      <td>Venezuela</td>\n",
       "      <td>333</td>\n",
       "      <td>100</td>\n",
       "      <td>3</td>\n",
       "      <td>7.7</td>\n",
       "      <td>South America</td>\n",
       "    </tr>\n",
       "    <tr>\n",
       "      <th>189</th>\n",
       "      <td>Vietnam</td>\n",
       "      <td>111</td>\n",
       "      <td>2</td>\n",
       "      <td>1</td>\n",
       "      <td>2.0</td>\n",
       "      <td>Asia</td>\n",
       "    </tr>\n",
       "    <tr>\n",
       "      <th>190</th>\n",
       "      <td>Yemen</td>\n",
       "      <td>6</td>\n",
       "      <td>0</td>\n",
       "      <td>0</td>\n",
       "      <td>0.1</td>\n",
       "      <td>Asia</td>\n",
       "    </tr>\n",
       "    <tr>\n",
       "      <th>191</th>\n",
       "      <td>Zambia</td>\n",
       "      <td>32</td>\n",
       "      <td>19</td>\n",
       "      <td>4</td>\n",
       "      <td>2.5</td>\n",
       "      <td>Africa</td>\n",
       "    </tr>\n",
       "    <tr>\n",
       "      <th>192</th>\n",
       "      <td>Zimbabwe</td>\n",
       "      <td>64</td>\n",
       "      <td>18</td>\n",
       "      <td>4</td>\n",
       "      <td>4.7</td>\n",
       "      <td>Africa</td>\n",
       "    </tr>\n",
       "  </tbody>\n",
       "</table>\n",
       "<p>193 rows × 6 columns</p>\n",
       "</div>"
      ],
      "text/plain": [
       "         country  beer_servings  spirit_servings  wine_servings  \\\n",
       "0    Afghanistan              0                0              0   \n",
       "1        Albania             89              132             54   \n",
       "2        Algeria             25                0             14   \n",
       "3        Andorra            245              138            312   \n",
       "4         Angola            217               57             45   \n",
       "..           ...            ...              ...            ...   \n",
       "188    Venezuela            333              100              3   \n",
       "189      Vietnam            111                2              1   \n",
       "190        Yemen              6                0              0   \n",
       "191       Zambia             32               19              4   \n",
       "192     Zimbabwe             64               18              4   \n",
       "\n",
       "     total_litres_of_pure_alcohol      continent  \n",
       "0                             0.0           Asia  \n",
       "1                             4.9         Europe  \n",
       "2                             0.7         Africa  \n",
       "3                            12.4         Europe  \n",
       "4                             5.9         Africa  \n",
       "..                            ...            ...  \n",
       "188                           7.7  South America  \n",
       "189                           2.0           Asia  \n",
       "190                           0.1           Asia  \n",
       "191                           2.5         Africa  \n",
       "192                           4.7         Africa  \n",
       "\n",
       "[193 rows x 6 columns]"
      ]
     },
     "execution_count": 24,
     "metadata": {},
     "output_type": "execute_result"
    }
   ],
   "source": [
    "df= pd.read_csv('https://s3-api.us-geo.objectstorage.softlayer.net/cf-courses-data/CognitiveClass/DA0101EN/edx/project/drinks.csv')\n",
    "df"
   ]
  },
  {
   "cell_type": "markdown",
   "metadata": {},
   "source": [
    "We use the method  <code>head()</code>  to display the first 5 columns of the dataframe:\n"
   ]
  },
  {
   "cell_type": "code",
   "execution_count": 25,
   "metadata": {},
   "outputs": [
    {
     "data": {
      "text/html": [
       "<div>\n",
       "<style scoped>\n",
       "    .dataframe tbody tr th:only-of-type {\n",
       "        vertical-align: middle;\n",
       "    }\n",
       "\n",
       "    .dataframe tbody tr th {\n",
       "        vertical-align: top;\n",
       "    }\n",
       "\n",
       "    .dataframe thead th {\n",
       "        text-align: right;\n",
       "    }\n",
       "</style>\n",
       "<table border=\"1\" class=\"dataframe\">\n",
       "  <thead>\n",
       "    <tr style=\"text-align: right;\">\n",
       "      <th></th>\n",
       "      <th>country</th>\n",
       "      <th>beer_servings</th>\n",
       "      <th>spirit_servings</th>\n",
       "      <th>wine_servings</th>\n",
       "      <th>total_litres_of_pure_alcohol</th>\n",
       "      <th>continent</th>\n",
       "    </tr>\n",
       "  </thead>\n",
       "  <tbody>\n",
       "    <tr>\n",
       "      <th>0</th>\n",
       "      <td>Afghanistan</td>\n",
       "      <td>0</td>\n",
       "      <td>0</td>\n",
       "      <td>0</td>\n",
       "      <td>0.0</td>\n",
       "      <td>Asia</td>\n",
       "    </tr>\n",
       "    <tr>\n",
       "      <th>1</th>\n",
       "      <td>Albania</td>\n",
       "      <td>89</td>\n",
       "      <td>132</td>\n",
       "      <td>54</td>\n",
       "      <td>4.9</td>\n",
       "      <td>Europe</td>\n",
       "    </tr>\n",
       "    <tr>\n",
       "      <th>2</th>\n",
       "      <td>Algeria</td>\n",
       "      <td>25</td>\n",
       "      <td>0</td>\n",
       "      <td>14</td>\n",
       "      <td>0.7</td>\n",
       "      <td>Africa</td>\n",
       "    </tr>\n",
       "    <tr>\n",
       "      <th>3</th>\n",
       "      <td>Andorra</td>\n",
       "      <td>245</td>\n",
       "      <td>138</td>\n",
       "      <td>312</td>\n",
       "      <td>12.4</td>\n",
       "      <td>Europe</td>\n",
       "    </tr>\n",
       "    <tr>\n",
       "      <th>4</th>\n",
       "      <td>Angola</td>\n",
       "      <td>217</td>\n",
       "      <td>57</td>\n",
       "      <td>45</td>\n",
       "      <td>5.9</td>\n",
       "      <td>Africa</td>\n",
       "    </tr>\n",
       "  </tbody>\n",
       "</table>\n",
       "</div>"
      ],
      "text/plain": [
       "       country  beer_servings  spirit_servings  wine_servings  \\\n",
       "0  Afghanistan              0                0              0   \n",
       "1      Albania             89              132             54   \n",
       "2      Algeria             25                0             14   \n",
       "3      Andorra            245              138            312   \n",
       "4       Angola            217               57             45   \n",
       "\n",
       "   total_litres_of_pure_alcohol continent  \n",
       "0                           0.0      Asia  \n",
       "1                           4.9    Europe  \n",
       "2                           0.7    Africa  \n",
       "3                          12.4    Europe  \n",
       "4                           5.9    Africa  "
      ]
     },
     "execution_count": 25,
     "metadata": {},
     "output_type": "execute_result"
    }
   ],
   "source": [
    "df.head()"
   ]
  },
  {
   "cell_type": "markdown",
   "metadata": {},
   "source": [
    "<b>Question 1</b>:  Display the data types of each column using the attribute dtype.\n"
   ]
  },
  {
   "cell_type": "code",
   "execution_count": 26,
   "metadata": {},
   "outputs": [
    {
     "data": {
      "text/plain": [
       "country                          object\n",
       "beer_servings                     int64\n",
       "spirit_servings                   int64\n",
       "wine_servings                     int64\n",
       "total_litres_of_pure_alcohol    float64\n",
       "continent                        object\n",
       "dtype: object"
      ]
     },
     "execution_count": 26,
     "metadata": {},
     "output_type": "execute_result"
    }
   ],
   "source": [
    "df.dtypes"
   ]
  },
  {
   "cell_type": "markdown",
   "metadata": {},
   "source": [
    "<b>Question 2</b> use the method <code>groupby</code> to get the number of wine servings per continent:\n"
   ]
  },
  {
   "cell_type": "code",
   "execution_count": 27,
   "metadata": {},
   "outputs": [
    {
     "data": {
      "text/html": [
       "<div>\n",
       "<style scoped>\n",
       "    .dataframe tbody tr th:only-of-type {\n",
       "        vertical-align: middle;\n",
       "    }\n",
       "\n",
       "    .dataframe tbody tr th {\n",
       "        vertical-align: top;\n",
       "    }\n",
       "\n",
       "    .dataframe thead th {\n",
       "        text-align: right;\n",
       "    }\n",
       "</style>\n",
       "<table border=\"1\" class=\"dataframe\">\n",
       "  <thead>\n",
       "    <tr style=\"text-align: right;\">\n",
       "      <th></th>\n",
       "      <th>wine_servings</th>\n",
       "    </tr>\n",
       "    <tr>\n",
       "      <th>continent</th>\n",
       "      <th></th>\n",
       "    </tr>\n",
       "  </thead>\n",
       "  <tbody>\n",
       "    <tr>\n",
       "      <th>Africa</th>\n",
       "      <td>53</td>\n",
       "    </tr>\n",
       "    <tr>\n",
       "      <th>Asia</th>\n",
       "      <td>44</td>\n",
       "    </tr>\n",
       "    <tr>\n",
       "      <th>Europe</th>\n",
       "      <td>45</td>\n",
       "    </tr>\n",
       "    <tr>\n",
       "      <th>North America</th>\n",
       "      <td>23</td>\n",
       "    </tr>\n",
       "    <tr>\n",
       "      <th>Oceania</th>\n",
       "      <td>16</td>\n",
       "    </tr>\n",
       "    <tr>\n",
       "      <th>South America</th>\n",
       "      <td>12</td>\n",
       "    </tr>\n",
       "  </tbody>\n",
       "</table>\n",
       "</div>"
      ],
      "text/plain": [
       "               wine_servings\n",
       "continent                   \n",
       "Africa                    53\n",
       "Asia                      44\n",
       "Europe                    45\n",
       "North America             23\n",
       "Oceania                   16\n",
       "South America             12"
      ]
     },
     "execution_count": 27,
     "metadata": {},
     "output_type": "execute_result"
    }
   ],
   "source": [
    "servings = df[[\"wine_servings\"]]\n",
    "servings = servings.groupby(df[\"continent\"]).count()\n",
    "servings"
   ]
  },
  {
   "cell_type": "markdown",
   "metadata": {},
   "source": [
    "<b>Question 3:</b> Perform a statistical summary and analysis of beer servings for each continent:\n"
   ]
  },
  {
   "cell_type": "code",
   "execution_count": 28,
   "metadata": {},
   "outputs": [
    {
     "data": {
      "text/html": [
       "<div>\n",
       "<style scoped>\n",
       "    .dataframe tbody tr th:only-of-type {\n",
       "        vertical-align: middle;\n",
       "    }\n",
       "\n",
       "    .dataframe tbody tr th {\n",
       "        vertical-align: top;\n",
       "    }\n",
       "\n",
       "    .dataframe thead th {\n",
       "        text-align: right;\n",
       "    }\n",
       "</style>\n",
       "<table border=\"1\" class=\"dataframe\">\n",
       "  <thead>\n",
       "    <tr style=\"text-align: right;\">\n",
       "      <th></th>\n",
       "      <th>beer_servings</th>\n",
       "      <th>spirit_servings</th>\n",
       "      <th>wine_servings</th>\n",
       "      <th>total_litres_of_pure_alcohol</th>\n",
       "    </tr>\n",
       "  </thead>\n",
       "  <tbody>\n",
       "    <tr>\n",
       "      <th>beer_servings</th>\n",
       "      <td>1.000000</td>\n",
       "      <td>0.458819</td>\n",
       "      <td>0.527172</td>\n",
       "      <td>0.835839</td>\n",
       "    </tr>\n",
       "    <tr>\n",
       "      <th>spirit_servings</th>\n",
       "      <td>0.458819</td>\n",
       "      <td>1.000000</td>\n",
       "      <td>0.194797</td>\n",
       "      <td>0.654968</td>\n",
       "    </tr>\n",
       "    <tr>\n",
       "      <th>wine_servings</th>\n",
       "      <td>0.527172</td>\n",
       "      <td>0.194797</td>\n",
       "      <td>1.000000</td>\n",
       "      <td>0.667598</td>\n",
       "    </tr>\n",
       "    <tr>\n",
       "      <th>total_litres_of_pure_alcohol</th>\n",
       "      <td>0.835839</td>\n",
       "      <td>0.654968</td>\n",
       "      <td>0.667598</td>\n",
       "      <td>1.000000</td>\n",
       "    </tr>\n",
       "  </tbody>\n",
       "</table>\n",
       "</div>"
      ],
      "text/plain": [
       "                              beer_servings  spirit_servings  wine_servings  \\\n",
       "beer_servings                      1.000000         0.458819       0.527172   \n",
       "spirit_servings                    0.458819         1.000000       0.194797   \n",
       "wine_servings                      0.527172         0.194797       1.000000   \n",
       "total_litres_of_pure_alcohol       0.835839         0.654968       0.667598   \n",
       "\n",
       "                              total_litres_of_pure_alcohol  \n",
       "beer_servings                                     0.835839  \n",
       "spirit_servings                                   0.654968  \n",
       "wine_servings                                     0.667598  \n",
       "total_litres_of_pure_alcohol                      1.000000  "
      ]
     },
     "execution_count": 28,
     "metadata": {},
     "output_type": "execute_result"
    }
   ],
   "source": [
    "df.corr()"
   ]
  },
  {
   "cell_type": "markdown",
   "metadata": {},
   "source": [
    "<b>Question 4:</b> Use the function boxplot in the seaborn library to produce a plot that can be used to show the number of beer servings on each continent.\n"
   ]
  },
  {
   "cell_type": "code",
   "execution_count": 29,
   "metadata": {},
   "outputs": [
    {
     "data": {
      "text/plain": [
       "country                         193\n",
       "beer_servings                   193\n",
       "spirit_servings                 193\n",
       "wine_servings                   193\n",
       "total_litres_of_pure_alcohol    193\n",
       "continent                       193\n",
       "dtype: int64"
      ]
     },
     "execution_count": 29,
     "metadata": {},
     "output_type": "execute_result"
    }
   ],
   "source": [
    "df.count()"
   ]
  },
  {
   "cell_type": "code",
   "execution_count": 30,
   "metadata": {},
   "outputs": [
    {
     "data": {
      "text/plain": [
       "beer_servings                   20.0\n",
       "spirit_servings                  4.0\n",
       "wine_servings                    1.0\n",
       "total_litres_of_pure_alcohol     1.3\n",
       "Name: 0.25, dtype: float64"
      ]
     },
     "execution_count": 30,
     "metadata": {},
     "output_type": "execute_result"
    }
   ],
   "source": [
    "Q1 = df.quantile(0.25)\n",
    "Q1"
   ]
  },
  {
   "cell_type": "code",
   "execution_count": 31,
   "metadata": {},
   "outputs": [
    {
     "data": {
      "text/plain": [
       "beer_servings                   76.0\n",
       "spirit_servings                 56.0\n",
       "wine_servings                    8.0\n",
       "total_litres_of_pure_alcohol     4.2\n",
       "Name: 0.5, dtype: float64"
      ]
     },
     "execution_count": 31,
     "metadata": {},
     "output_type": "execute_result"
    }
   ],
   "source": [
    "Q2 = df.quantile(0.50)\n",
    "Q2"
   ]
  },
  {
   "cell_type": "code",
   "execution_count": 32,
   "metadata": {},
   "outputs": [
    {
     "data": {
      "text/plain": [
       "beer_servings                   188.0\n",
       "spirit_servings                 128.0\n",
       "wine_servings                    59.0\n",
       "total_litres_of_pure_alcohol      7.2\n",
       "Name: 0.75, dtype: float64"
      ]
     },
     "execution_count": 32,
     "metadata": {},
     "output_type": "execute_result"
    }
   ],
   "source": [
    "Q3 = df.quantile(0.75)\n",
    "Q3"
   ]
  },
  {
   "cell_type": "code",
   "execution_count": 33,
   "metadata": {},
   "outputs": [
    {
     "data": {
      "text/plain": [
       "beer_servings                   168.0\n",
       "spirit_servings                 124.0\n",
       "wine_servings                    58.0\n",
       "total_litres_of_pure_alcohol      5.9\n",
       "dtype: float64"
      ]
     },
     "execution_count": 33,
     "metadata": {},
     "output_type": "execute_result"
    }
   ],
   "source": [
    "IQR = Q3 - Q1\n",
    "IQR"
   ]
  },
  {
   "cell_type": "markdown",
   "metadata": {},
   "source": [
    "<b>Question 5</b>: Use the function <code> regplot</code> in the seaborn library to determine if the number of wine servings is\n",
    "negatively or positively correlated with the number of beer servings.\n"
   ]
  },
  {
   "cell_type": "code",
   "execution_count": 34,
   "metadata": {},
   "outputs": [
    {
     "data": {
      "text/plain": [
       "<AxesSubplot:xlabel='beer_servings', ylabel='wine_servings'>"
      ]
     },
     "execution_count": 34,
     "metadata": {},
     "output_type": "execute_result"
    },
    {
     "data": {
      "image/png": "[encoded data removed]",
      "text/plain": [
       "<Figure size 432x288 with 1 Axes>"
      ]
     },
     "metadata": {
      "needs_background": "light"
     },
     "output_type": "display_data"
    }
   ],
   "source": [
    "import seaborn as sns \n",
    "sns.regplot(x = \"beer_servings\", y = \"wine_servings\", data = df)"
   ]
  },
  {
   "cell_type": "markdown",
   "metadata": {},
   "source": [
    "<b> Question 6:</b> Fit a linear regression model to predict the <code>'total_litres_of_pure_alcohol'</code> using the number of <code>'wine_servings'</code> then calculate $R^{2}$:\n"
   ]
  },
  {
   "cell_type": "code",
   "execution_count": 35,
   "metadata": {},
   "outputs": [],
   "source": [
    "from sklearn.linear_model import LinearRegression"
   ]
  },
  {
   "cell_type": "code",
   "execution_count": 36,
   "metadata": {},
   "outputs": [],
   "source": [
    "lr = LinearRegression()"
   ]
  },
  {
   "cell_type": "code",
   "execution_count": 37,
   "metadata": {},
   "outputs": [
    {
     "data": {
      "text/plain": [
       "0.4456875459787605"
      ]
     },
     "execution_count": 37,
     "metadata": {},
     "output_type": "execute_result"
    }
   ],
   "source": [
    "x = df[[\"wine_servings\"]]\n",
    "y = df[\"total_litres_of_pure_alcohol\"]\n",
    "lr.fit(x, y)\n",
    "lr.score(x, y)"
   ]
  },
  {
   "cell_type": "code",
   "execution_count": 38,
   "metadata": {},
   "outputs": [
    {
     "data": {
      "text/plain": [
       "array([ 3.15407943,  4.86088833,  3.59658545, 13.01564196,  4.57642018,\n",
       "        4.57642018, 10.13935289,  3.50176273,  9.85488474,  9.19112573,\n",
       "        3.3121173 ,  4.76606562,  3.37533244,  3.15407943,  4.29195203,\n",
       "        4.48159747,  9.85488474,  3.40694001,  3.56497787,  3.15407943,\n",
       "        3.40694001,  3.40694001,  4.26034446,  3.65980059,  3.18568701,\n",
       "        6.12519122,  3.37533244,  3.15407943,  3.37533244,  3.65980059,\n",
       "        3.18568701,  3.28050972,  6.31483665,  3.18568701,  3.18568701,\n",
       "        8.59058185,  3.40694001,  3.24890215,  3.18568701,  3.43854758,\n",
       "        5.49303978,  3.50176273, 11.18240277,  3.3121173 ,  6.72573509,\n",
       "        7.38949411,  3.15407943,  3.18568701, 11.94098451,  3.24890215,\n",
       "        3.97587631,  3.43854758,  3.24890215,  3.18568701,  3.21729458,\n",
       "       10.51864376,  3.15407943,  5.01892619,  3.15407943,  3.18568701,\n",
       "        6.22001394, 14.84888115,  5.01892619,  3.18568701,  7.86360769,\n",
       "        8.68540457,  3.47015516, 10.04453017,  4.03909146,  3.21729458,\n",
       "        3.21729458,  3.81783845,  3.18568701,  3.18568701,  3.21729458,\n",
       "        9.00148029,  5.61947007,  3.15407943,  3.15407943,  3.15407943,\n",
       "        3.15407943,  8.36932885,  3.43854758, 10.64507405,  3.43854758,\n",
       "        3.65980059,  3.18568701,  3.5333703 ,  3.21729458,  3.18568701,\n",
       "        3.15407943,  3.34372487,  7.04181082,  5.11374891,  4.13391417,\n",
       "        3.15407943,  3.21729458,  3.15407943,  4.92410348, 11.7197315 ,\n",
       "        3.28050972,  3.18568701,  3.15407943,  3.15407943,  3.18568701,\n",
       "        6.9469881 ,  3.15407943,  3.15407943,  3.72301573,  3.3121173 ,\n",
       "        3.72301573,  3.15407943,  3.40694001,  7.19984868,  3.47015516,\n",
       "        3.3121173 ,  3.15407943,  3.18568701,  3.40694001,  3.15407943,\n",
       "        9.15951815,  8.68540457,  3.18568701,  3.18568701,  3.21729458,\n",
       "        3.37533244,  7.23145625,  3.18568701,  3.15407943,  3.8810536 ,\n",
       "        3.72301573,  3.18568701,  5.49303978,  3.81783845,  3.18568701,\n",
       "        4.92410348, 13.86904641,  3.37533244,  3.43854758,  3.72301573,\n",
       "        8.43254399,  5.46143221,  3.15407943,  4.16552175,  5.39821706,\n",
       "        3.50176273,  3.91266117,  3.15407943,  7.57913954,  3.15407943,\n",
       "        3.37533244,  7.1682411 ,  4.76606562,  3.21729458,  3.50176273,\n",
       "        6.82055781, 11.87776936,  3.18568701,  3.15407943,  5.71429278,\n",
       "        6.69412752,  3.15407943,  3.15407943,  3.37533244,  3.21729458,\n",
       "        9.03308786, 12.00419965,  3.65980059,  3.15407943,  3.18568701,\n",
       "        5.87233064,  3.28050972,  3.75462331,  3.3121173 ,  3.37533244,\n",
       "        3.78623088,  3.37533244,  4.16552175,  3.43854758,  3.15407943,\n",
       "        4.57642018,  3.3121173 ,  9.31755601,  3.18568701,  5.8091155 ,\n",
       "       10.10774532,  3.40694001,  3.50176273,  3.24890215,  3.18568701,\n",
       "        3.15407943,  3.28050972,  3.28050972])"
      ]
     },
     "execution_count": 38,
     "metadata": {},
     "output_type": "execute_result"
    }
   ],
   "source": [
    "yhat = lr.predict(x)\n",
    "yhat"
   ]
  },
  {
   "cell_type": "markdown",
   "metadata": {},
   "source": [
    "<br>\n",
    "<b>Note:</b> Please use <code>test_size = 0.10</code> in the following questions.\n"
   ]
  },
  {
   "cell_type": "markdown",
   "metadata": {},
   "source": [
    "### Question 7\n",
    "\n",
    "Use the list of features to predict the <code>'total_litres_of_pure_alcohol'</code>, split the data into training and testing and determine the $R^2$ on the test data, using the provided code:\n"
   ]
  },
  {
   "cell_type": "code",
   "execution_count": 39,
   "metadata": {},
   "outputs": [],
   "source": [
    "from sklearn.linear_model import LinearRegression"
   ]
  },
  {
   "cell_type": "code",
   "execution_count": 40,
   "metadata": {},
   "outputs": [
    {
     "data": {
      "text/plain": [
       "Index(['country', 'beer_servings', 'spirit_servings', 'wine_servings',\n",
       "       'total_litres_of_pure_alcohol', 'continent'],\n",
       "      dtype='object')"
      ]
     },
     "execution_count": 40,
     "metadata": {},
     "output_type": "execute_result"
    }
   ],
   "source": [
    "df.columns"
   ]
  },
  {
   "cell_type": "code",
   "execution_count": 41,
   "metadata": {},
   "outputs": [
    {
     "data": {
      "text/plain": [
       "array([ 0.72244985,  5.26936613,  1.40409598, 12.34732018])"
      ]
     },
     "execution_count": 41,
     "metadata": {},
     "output_type": "execute_result"
    }
   ],
   "source": [
    "x = df[[\"beer_servings\", \"spirit_servings\", \"wine_servings\"]]\n",
    "y = df[\"total_litres_of_pure_alcohol\"]\n",
    "\n",
    "from sklearn.model_selection import train_test_split\n",
    "x_train, x_test, y_train, y_test = train_test_split(x, y, test_size = 0.10, random_state = 0)\n",
    "\n",
    "lr.fit(x, y)\n",
    "lr.score(x, y)\n",
    "yhat = lr.predict(x)\n",
    "yhat[0:4]"
   ]
  },
  {
   "cell_type": "markdown",
   "metadata": {},
   "source": [
    "<b>Question 8 :</b> Create a pipeline object that scales the data, performs a polynomial transform and fits a linear regression model. Fit the object using the training data in the question above, then calculate the R^2 using. the test data. Take a screenshot of your code and the $R^{2}$. There are some hints in the notebook:\n"
   ]
  },
  {
   "cell_type": "markdown",
   "metadata": {},
   "source": [
    "<code>'scale'</code>\n",
    "\n",
    "<code>'polynomial'</code>\n",
    "\n",
    "<code>'model'</code>\n",
    "\n",
    "The second element in the tuple contains the model constructor\n",
    "\n",
    "<code>StandardScaler()</code>\n",
    "\n",
    "<code>PolynomialFeatures(include_bias=False)</code>\n",
    "\n",
    "<code>LinearRegression()</code>\n"
   ]
  },
  {
   "cell_type": "code",
   "execution_count": 42,
   "metadata": {},
   "outputs": [
    {
     "data": {
      "text/plain": [
       "array([ 0.66771682,  5.02238617,  1.58272774, 12.65988765,  6.66269696,\n",
       "        5.11417808,  8.38960627,  3.24877068, 10.04092614, 10.00906016,\n",
       "        1.57698248,  6.40168165,  2.31737194,  0.66771682,  6.48283422,\n",
       "       11.42460663, 10.66863692,  7.11928981,  1.84668475,  1.3635188 ,\n",
       "        5.13387195,  4.49234674,  5.60809477,  7.35851023,  1.61418892,\n",
       "       10.73046794,  1.52497228,  3.14107218,  1.85380704,  4.86359651,\n",
       "        2.64920105,  4.56436045,  8.57163956,  1.20247755,  1.1397    ,\n",
       "        7.83100004,  4.87720416,  5.0955256 ,  0.71928084,  2.94348623,\n",
       "        5.56772725,  5.10890305, 10.42795493,  4.32101529,  8.54348687,\n",
       "       11.19112307,  0.66771682,  1.64584997, 10.57901794,  1.36209903,\n",
       "        6.66141461,  6.48582159,  5.14023274,  0.87620627,  2.56140873,\n",
       "        5.87202967,  1.21522881,  8.6636246 ,  1.283123  ,  2.98743956,\n",
       "        8.97792868, 11.64483833,  8.72825583,  0.92504628,  5.11422565,\n",
       "       11.03912521,  1.72175103,  8.41537865, 14.03646297,  2.58801584,\n",
       "        0.96685692,  1.89569936,  7.37592823,  5.85579349,  3.25533854,\n",
       "       11.91244465,  7.45139326,  1.77693482,  0.82487196,  0.66771682,\n",
       "        0.95298406, 10.57309801,  2.95359259,  6.2907887 ,  3.67935157,\n",
       "        5.17145291,  0.94240144,  6.95975484,  2.4470635 ,  1.45321055,\n",
       "        0.66771682,  2.30561182,  3.86628893,  9.81370409,  1.96518711,\n",
       "        3.07440069,  2.59702907,  0.66771682, 10.69118753, 11.70071696,\n",
       "        1.54796578,  0.96152554,  1.07700639,  0.66771682,  0.83623789,\n",
       "        7.00911973,  0.66771682,  0.66771682,  3.71816238,  6.41788744,\n",
       "        2.91647545,  0.66771682,  4.77908775,  4.43937295,  1.16932586,\n",
       "        2.16870522,  0.82487196,  7.66889501,  2.20149378,  0.84066284,\n",
       "        9.77912026,  8.62798313,  3.67054699,  0.77782446,  1.94851585,\n",
       "        7.12177427,  7.18643727,  1.39856596,  0.66771682,  7.5218401 ,\n",
       "        7.47240767,  2.13275726,  7.63604039,  6.37054983,  4.44796798,\n",
       "       10.15139563, 10.60947405,  0.98278735,  4.50696039,  6.38018369,\n",
       "       10.49920019, 12.31106337,  1.94504265,  7.83762019, 10.92857396,\n",
       "        6.35590483,  3.90891672,  0.66771682,  4.24785311,  0.68346113,\n",
       "        1.02667695,  9.7478149 ,  5.4576648 ,  1.45379045,  2.57577091,\n",
       "       11.82773508, 10.80091559,  2.34177014,  0.66771682,  7.50145338,\n",
       "        9.87405537,  1.86426058,  0.95727629,  5.69040327,  3.21921019,\n",
       "        7.51366014, 10.24282064,  1.17516298,  0.78231664,  6.45973909,\n",
       "        4.77636597,  0.74695587,  1.96715914,  1.8725758 ,  6.62392248,\n",
       "        2.40630374,  2.320358  ,  2.09352899,  1.15371301,  2.02052955,\n",
       "        8.92071004,  2.32566559,  9.97893709,  1.7693353 ,  8.91647626,\n",
       "        6.75889694,  2.21243735,  1.49918542,  7.61583519,  3.71855553,\n",
       "        0.85259787,  1.73757002,  2.617532  ])"
      ]
     },
     "execution_count": 42,
     "metadata": {},
     "output_type": "execute_result"
    }
   ],
   "source": [
    "from sklearn.pipeline import Pipeline\n",
    "from sklearn.preprocessing import StandardScaler,PolynomialFeatures\n",
    "\n",
    "Input = [(\"scale\", StandardScaler()), (\"polynomial\", PolynomialFeatures(include_bias = False)), (\"model\", LinearRegression())]\n",
    "pipe = Pipeline(Input)\n",
    "pipe.fit(x, y)\n",
    "yhat = pipe.predict(x)\n",
    "yhat"
   ]
  },
  {
   "cell_type": "markdown",
   "metadata": {},
   "source": [
    "<b>Question 9</b>: Create and fit a Ridge regression object using the training data, setting the regularization parameter to 0.1 and calculate the $R^{2}$ using the test data. Take a screenshot of your code and the $R^{2}$\n"
   ]
  },
  {
   "cell_type": "code",
   "execution_count": 43,
   "metadata": {},
   "outputs": [
    {
     "data": {
      "text/plain": [
       "array([ 0.72244998,  5.26936609,  1.40409609, 12.34731984,  6.30123152,\n",
       "        5.3010243 ,  8.18102246,  4.0677754 , 10.01280591, 10.05282284,\n",
       "        1.90251167,  6.50990459,  2.58337165,  0.72244998,  6.60751283,\n",
       "        9.79686888, 10.82180261,  7.43778571,  1.61504963,  1.14341698,\n",
       "        4.54496199,  4.93307109,  4.99357197,  7.71867742,  1.3369618 ,\n",
       "       10.37556566,  1.40096641,  2.33310633,  1.52725254,  4.48540893,\n",
       "        2.79300022,  3.49255728,  8.61376538,  1.08072101,  1.02855705,\n",
       "        7.78393809,  5.28358445,  4.86304734,  0.80343254,  2.27307662,\n",
       "        5.85860433,  4.9791996 , 10.35100752,  4.63611195,  8.441154  ,\n",
       "       12.11938644,  0.72244998,  1.37082285, 10.53196684,  1.72956744,\n",
       "        6.53996497,  6.68600557,  4.8868398 ,  0.91050525,  2.77972344,\n",
       "        6.1355376 ,  1.05190242,  8.78489008,  1.13518266,  2.69231435,\n",
       "        9.15785619, 11.31813548,  9.54256716,  0.88487852,  5.61479517,\n",
       "       11.67647605,  1.49656705,  8.38838996, 11.62734061,  2.79802635,\n",
       "        0.91918667,  2.05334374,  7.13918375,  5.82871105,  3.54205896,\n",
       "       11.31129964,  7.18448342,  2.66080391,  0.82952269,  0.72244998,\n",
       "        0.93385061, 10.92798572,  3.09309212,  6.72487994,  3.87647533,\n",
       "        5.53060188,  1.17499359,  7.01137592,  2.15830844,  1.65179308,\n",
       "        0.72244998,  2.89501106,  3.82587442, 10.21845086,  2.44036809,\n",
       "        2.67447485,  3.46705274,  0.72244998, 11.69282792, 11.44858832,\n",
       "        1.49571873,  1.05601804,  1.0226204 ,  0.72244998,  0.84552792,\n",
       "        6.92602594,  0.72244998,  0.72244998,  3.28653196,  6.21652284,\n",
       "        2.9232317 ,  0.72244998,  5.20030421,  5.112138  ,  1.19548611,\n",
       "        1.94275955,  0.82952269,  7.66702495,  1.7473346 ,  0.90731337,\n",
       "        9.72659183,  8.46795025,  4.0019427 ,  0.82448023,  1.60097349,\n",
       "        7.38706184,  6.98494532,  1.39004951,  0.72244998,  7.67142446,\n",
       "        7.84492076,  2.15055077,  7.62565994,  6.53123679,  4.93177568,\n",
       "       11.24164192, 10.74138482,  1.50623132,  3.67783513,  6.52170087,\n",
       "       10.72938213, 11.48360455,  1.54059152,  7.97480087,  9.88943317,\n",
       "        6.53320558,  3.30842796,  0.72244998,  4.57935517,  0.80024067,\n",
       "        1.01477098,  9.97295521,  4.80122774,  1.25870769,  2.18338   ,\n",
       "       10.72496251, 10.87514624,  1.93455787,  0.72244998,  7.31944789,\n",
       "       10.15569119,  2.63334292,  1.07112908,  5.94660803,  2.4328389 ,\n",
       "        7.41495464, 10.14576832,  1.61458312,  0.99242788,  6.56444316,\n",
       "        4.45907865,  0.82033197,  1.71657058,  1.78810192,  6.86723   ,\n",
       "        2.02267765,  2.11021422,  2.68700062,  1.61419822,  1.68610431,\n",
       "        8.90036428,  3.19567137,  9.81213402,  1.49070891,  9.0825008 ,\n",
       "        6.89297138,  2.8794366 ,  1.56291522,  8.42114952,  2.80119484,\n",
       "        0.83226746,  1.66776876,  2.23790384])"
      ]
     },
     "execution_count": 43,
     "metadata": {},
     "output_type": "execute_result"
    }
   ],
   "source": [
    "from sklearn.linear_model import Ridge\n",
    "RidgeModel = Ridge(alpha = 0.1)\n",
    "RidgeModel.fit(x, y)\n",
    "RidgeModel.score(x, y)\n",
    "yhat = RidgeModel.predict(x)\n",
    "yhat"
   ]
  },
  {
   "cell_type": "markdown",
   "metadata": {},
   "source": [
    "<b>Question 10 </b>: Perform a 2nd order polynomial transform on both the training data and testing data.  Create and fit a Ridge regression object using the training data, setting the regularization parameter to 0.1. Calculate the $R^{2}$ utilizing the test data provided. Take a screen-shot of your code and the $R^{2}$. \n"
   ]
  },
  {
   "cell_type": "code",
   "execution_count": 44,
   "metadata": {},
   "outputs": [
    {
     "name": "stdout",
     "output_type": "stream",
     "text": [
      "Predicted: [0.67484044 4.41230278 8.54359723 0.78459143]\n",
      "test set: [0.  4.6 8.2 0.1]\n"
     ]
    }
   ],
   "source": [
    "from sklearn.preprocessing import PolynomialFeatures\n",
    "x_train, x_test, y_train, y_test = train_test_split(x, y, test_size = 0.1, random_state = 0)\n",
    "\n",
    "pr = PolynomialFeatures(degree = 2)\n",
    "x_train_pf = pr.fit_transform(x_train)\n",
    "x_test_pf = pr.fit_transform(x_test)\n",
    "\n",
    "from sklearn.linear_model import Ridge\n",
    "RidgeModel = Ridge(alpha = 0.1)\n",
    "RidgeModel.fit(x_train_pf, y_train)\n",
    "yhat = RidgeModel.predict(x_test_pf)\n",
    "print(\"Predicted:\", yhat[0:4])\n",
    "print(\"test set:\", y_test[0:4].values)"
   ]
  },
  {
   "cell_type": "markdown",
   "metadata": {},
   "source": [
    "<a href=\"https://dataplatform.cloud.ibm.com/docs/content/wsj/analyze-data/share-notebooks.html\\\" > CLICK HERE </a>  to see how to share your notebook\n"
   ]
  },
  {
   "cell_type": "markdown",
   "metadata": {},
   "source": [
    "<b>Sources</b>\n"
   ]
  },
  {
   "cell_type": "markdown",
   "metadata": {},
   "source": [
    "<a href=https://fivethirtyeight.com/features/dear-mona-followup-where-do-people-drink-the-most-beer-wine-and-spirits/> Dear Mona Followup: Where Do People Drink The Most Beer, Wine And Spirits?</a> by By Mona Chalabi , you can download the dataset <a href=https://github.com/fivethirtyeight/data/tree/master/alcohol-consumption>here</a>.\n"
   ]
  },
  {
   "cell_type": "markdown",
   "metadata": {},
   "source": [
    "### Thank you for completing this lab!\n",
    "\n",
    "## Author\n",
    "\n",
    "<a href=\"https://www.linkedin.com/in/joseph-s-50398b136/\" target=\"_blank\">Joseph Santarcangelo</a>\n",
    "\n",
    "## Change Log\n",
    "\n",
    "| Date (YYYY-MM-DD) | Version | Changed By | Change Description                 |\n",
    "| ----------------- | ------- | ---------- | ---------------------------------- |\n",
    "| 2020-08-27        | 2.0     | Lavanya    | Moved lab to course repo in GitLab |\n",
    "\n",
    "<hr>\n",
    "\n",
    "## <h3 align=\"center\"> © IBM Corporation 2020. All rights reserved. <h3/>\n"
   ]
  },
  {
   "cell_type": "markdown",
   "metadata": {},
   "source": []
  }
 ],
 "metadata": {
  "kernelspec": {
   "display_name": "Python 3",
   "language": "python",
   "name": "python3"
  },
  "language_info": {
   "codemirror_mode": {
    "name": "ipython",
    "version": 3
   },
   "file_extension": ".py",
   "mimetype": "text/x-python",
   "name": "python",
   "nbconvert_exporter": "python",
   "pygments_lexer": "ipython3",
   "version": "3.9.7"
  }
 },
 "nbformat": 4,
 "nbformat_minor": 2
}
